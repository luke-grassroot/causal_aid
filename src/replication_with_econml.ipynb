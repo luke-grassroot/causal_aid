{
 "cells": [
  {
   "cell_type": "code",
   "execution_count": 1,
   "id": "distant-animal",
   "metadata": {},
   "outputs": [],
   "source": [
    "%config Completer.use_jedi = False\n",
    "from importlib import reload"
   ]
  },
  {
   "cell_type": "code",
   "execution_count": 2,
   "id": "boolean-institution",
   "metadata": {},
   "outputs": [],
   "source": [
    "# import statsmodels.api as sm\n",
    "\n",
    "import pandas as pd\n",
    "import numpy as np\n",
    "\n",
    "# import matplotlib\n",
    "import matplotlib.pyplot as plt\n",
    "\n",
    "# from IPython.display import Image, display"
   ]
  },
  {
   "cell_type": "code",
   "execution_count": 3,
   "id": "discrete-prisoner",
   "metadata": {},
   "outputs": [],
   "source": [
    "pd.set_option(\"mode.chained_assignment\", None)"
   ]
  },
  {
   "cell_type": "code",
   "execution_count": 4,
   "id": "geographic-delaware",
   "metadata": {},
   "outputs": [],
   "source": [
    "import util.load as load_util\n",
    "import util.explore as explore_util\n",
    "import util.experiment as experiment"
   ]
  },
  {
   "cell_type": "code",
   "execution_count": 5,
   "id": "desirable-sucking",
   "metadata": {},
   "outputs": [],
   "source": [
    "from econml.dml import LinearDML, SparseLinearDML, NonParamDML\n",
    "from sklearn.linear_model import LassoCV\n",
    "from sklearn.ensemble import RandomForestRegressor"
   ]
  },
  {
   "cell_type": "markdown",
   "id": "coordinated-disposal",
   "metadata": {},
   "source": [
    "### Load in data frames"
   ]
  },
  {
   "cell_type": "markdown",
   "id": "northern-laundry",
   "metadata": {},
   "source": [
    "1. Load in panel assembled by DG, and country code cross-matches\n",
    "2. For each country-year, calculate mean growth in education indicators at year + lag"
   ]
  },
  {
   "cell_type": "code",
   "execution_count": 6,
   "id": "warming-speaker",
   "metadata": {},
   "outputs": [
    {
     "data": {
      "text/html": [
       "<div>\n",
       "<style scoped>\n",
       "    .dataframe tbody tr th:only-of-type {\n",
       "        vertical-align: middle;\n",
       "    }\n",
       "\n",
       "    .dataframe tbody tr th {\n",
       "        vertical-align: top;\n",
       "    }\n",
       "\n",
       "    .dataframe thead th {\n",
       "        text-align: right;\n",
       "    }\n",
       "</style>\n",
       "<table border=\"1\" class=\"dataframe\">\n",
       "  <thead>\n",
       "    <tr style=\"text-align: right;\">\n",
       "      <th></th>\n",
       "      <th>country_code</th>\n",
       "      <th>end_year</th>\n",
       "      <th>num_projs</th>\n",
       "      <th>total_proj_size</th>\n",
       "      <th>w_avg_rating</th>\n",
       "      <th>min_rating</th>\n",
       "      <th>max_rating</th>\n",
       "    </tr>\n",
       "  </thead>\n",
       "  <tbody>\n",
       "    <tr>\n",
       "      <th>0</th>\n",
       "      <td>AAB</td>\n",
       "      <td>2003.0</td>\n",
       "      <td>1</td>\n",
       "      <td>1762955.2</td>\n",
       "      <td>6.0</td>\n",
       "      <td>6.0</td>\n",
       "      <td>6.0</td>\n",
       "    </tr>\n",
       "    <tr>\n",
       "      <th>1</th>\n",
       "      <td>AFG</td>\n",
       "      <td>1984.0</td>\n",
       "      <td>1</td>\n",
       "      <td>0.0</td>\n",
       "      <td>0.0</td>\n",
       "      <td>0.0</td>\n",
       "      <td>0.0</td>\n",
       "    </tr>\n",
       "    <tr>\n",
       "      <th>2</th>\n",
       "      <td>AFG</td>\n",
       "      <td>2004.0</td>\n",
       "      <td>1</td>\n",
       "      <td>2560000.0</td>\n",
       "      <td>0.0</td>\n",
       "      <td>0.0</td>\n",
       "      <td>0.0</td>\n",
       "    </tr>\n",
       "    <tr>\n",
       "      <th>3</th>\n",
       "      <td>AFG</td>\n",
       "      <td>2005.0</td>\n",
       "      <td>1</td>\n",
       "      <td>4413731.0</td>\n",
       "      <td>4.5</td>\n",
       "      <td>4.5</td>\n",
       "      <td>4.5</td>\n",
       "    </tr>\n",
       "    <tr>\n",
       "      <th>4</th>\n",
       "      <td>AFG</td>\n",
       "      <td>2007.0</td>\n",
       "      <td>1</td>\n",
       "      <td>3134497.1</td>\n",
       "      <td>4.5</td>\n",
       "      <td>4.5</td>\n",
       "      <td>4.5</td>\n",
       "    </tr>\n",
       "  </tbody>\n",
       "</table>\n",
       "</div>"
      ],
      "text/plain": [
       "  country_code  end_year  num_projs  total_proj_size  w_avg_rating  \\\n",
       "0          AAB    2003.0          1        1762955.2           6.0   \n",
       "1          AFG    1984.0          1              0.0           0.0   \n",
       "2          AFG    2004.0          1        2560000.0           0.0   \n",
       "3          AFG    2005.0          1        4413731.0           4.5   \n",
       "4          AFG    2007.0          1        3134497.1           4.5   \n",
       "\n",
       "   min_rating  max_rating  \n",
       "0         6.0         6.0  \n",
       "1         0.0         0.0  \n",
       "2         0.0         0.0  \n",
       "3         4.5         4.5  \n",
       "4         4.5         4.5  "
      ]
     },
     "execution_count": 6,
     "metadata": {},
     "output_type": "execute_result"
    }
   ],
   "source": [
    "project_df = load_util.load_projects() # loads in aid data projects\n",
    "edu_treatment_df = load_util.assemble_sector_ratings(project_df, 'Education').fillna(0) # loads in \n",
    "edu_treatment_df.head()"
   ]
  },
  {
   "cell_type": "code",
   "execution_count": 7,
   "id": "assured-fashion",
   "metadata": {},
   "outputs": [],
   "source": [
    "# need: reassemble oda per capita from aid_data file."
   ]
  },
  {
   "cell_type": "code",
   "execution_count": 35,
   "id": "applied-faith",
   "metadata": {},
   "outputs": [
    {
     "data": {
      "text/plain": [
       "count    723.000000\n",
       "mean       4.194083\n",
       "std        1.269325\n",
       "min        0.000000\n",
       "25%        3.848989\n",
       "50%        4.800000\n",
       "75%        5.000000\n",
       "max        6.000000\n",
       "Name: w_avg_rating, dtype: float64"
      ]
     },
     "execution_count": 35,
     "metadata": {},
     "output_type": "execute_result"
    }
   ],
   "source": [
    "edu_treatment_df.w_avg_rating.describe()"
   ]
  },
  {
   "cell_type": "code",
   "execution_count": null,
   "id": "cognitive-external",
   "metadata": {},
   "outputs": [],
   "source": [
    "recreate_df = False\n",
    "\n",
    "if recreate_df:\n",
    "    panel_df, panel_source = experiment.assemble_replication_panel('education')\n",
    "    edu_df = panel_df.merge(edu_treatment_df, how='left', left_on=['year', 'country'], right_on=['end_year', 'country_code'])\n",
    "    treatment_cols = [col for col in edu_treatment_df.columns if col not in [\"end_year\", \"country_code\"]]\n",
    "    edu_df[treatment_cols] = edu_df[treatment_cols].fillna(0)\n",
    "else:\n",
    "    edu_df = pd.read_csv('../data/transformed_data/education_df.csv', index_col=0)\n",
    "    # deal with some legacy (quicker than regenerating)\n",
    "    edu_df = edu_df.drop(columns=[f\"education_lag_{i}_growth\" for i in range(1, 10)], errors=\"ignore\")\n",
    "    edu_df = edu_df.drop(columns=[f\"education_lag_{i}_count\" for i in range(1, 10)], errors=\"ignore\")\n",
    "    edu_df = edu_df.drop(columns=[\"education_lag_-4_count\", \"mean_pc_last_5\", \"future_edu_ner\", \"lagged_edu_ner\", \"ner_growth\"], errors=\"ignore\")"
   ]
  },
  {
   "cell_type": "markdown",
   "id": "metric-weekend",
   "metadata": {},
   "source": [
    "### Construct lagged indicators, fille in needed columns"
   ]
  },
  {
   "cell_type": "code",
   "execution_count": null,
   "id": "described-tuning",
   "metadata": {},
   "outputs": [],
   "source": [
    "edu_df.project_completed_year.value_counts()"
   ]
  },
  {
   "cell_type": "markdown",
   "id": "innovative-anaheim",
   "metadata": {},
   "source": [
    "Generate some necessary feature and outcome columns"
   ]
  },
  {
   "cell_type": "code",
   "execution_count": null,
   "id": "turned-samoa",
   "metadata": {},
   "outputs": [],
   "source": [
    "edu_df = experiment.add_project_and_aid_cols(edu_df)\n",
    "\n",
    "if 'edu_ner_lag5' not in edu_df:\n",
    "    print('Generating past net enrollment rates')\n",
    "    edu_df = explore_util.lag_variable_simple(df, 'edu_ner', 5)\n",
    "\n",
    "if 'future_edu_ner' not in edu_df:\n",
    "    print('Generating future net enrollment rates')\n",
    "    edu_df = explore_util.lag_variable_simple(df, 'edu_ner', -5)\n",
    "    edu_df = edu_df.rename(columns = { 'edu_ner_lag-5': 'future_edu_ner'})"
   ]
  },
  {
   "cell_type": "code",
   "execution_count": null,
   "id": "knowing-fruit",
   "metadata": {},
   "outputs": [],
   "source": [
    "edu_df[df.edu_ner_lag5.notna()][['year', 'country', 'edu_ner', 'edu_ner_lag5', 'pc_commit_education', 'education_mean_pc_rolling_5', 'education_mean_pc_rolling_5_lag1']].head()"
   ]
  },
  {
   "cell_type": "code",
   "execution_count": null,
   "id": "competent-colombia",
   "metadata": {},
   "outputs": [],
   "source": [
    "store_df = False\n",
    "\n",
    "if store_df:\n",
    "    edu_df.to_csv('../data/transformed_data/education_df.csv')"
   ]
  },
  {
   "cell_type": "markdown",
   "id": "choice-practice",
   "metadata": {},
   "source": [
    "## Education: replicate original, then probe the specification"
   ]
  },
  {
   "cell_type": "markdown",
   "id": "formal-foundation",
   "metadata": {},
   "source": [
    "Education: Specification 2\n",
    "```\n",
    "regress  last_ner <- first_ner pc_commit_education [per capita commitment amount=\n",
    "        edu_share_gov_exp edu_pupil_teacher young_population\n",
    "        gdp_pc_ppp cash_surplus_deficit inflation trade_share_gdp\n",
    "        freedom_house i.period i.ncountrycode if countrytoinclude == 1, r\n",
    "```"
   ]
  },
  {
   "cell_type": "code",
   "execution_count": null,
   "id": "electric-liechtenstein",
   "metadata": {},
   "outputs": [],
   "source": [
    "edu_df['period'] = round((edu_df.year - 1900) / 5) - 10\n",
    "edu_df['prior_ner_growth'] = edu_df['edu_ner'] / edu_df['edu_ner_lag5']\n",
    "edu_df = explore_util.lag_variable_simple(edu_df, 'pc_commit_education', 5)"
   ]
  },
  {
   "cell_type": "code",
   "execution_count": null,
   "id": "great-reason",
   "metadata": {},
   "outputs": [],
   "source": [
    "edu_df[(edu_df.education_mean_pc_rolling_5_lag1.notna()) & (edu_df.country == 'CHN')][['country', 'year', 'edu_ner', 'mean_pc_last_5', 'pc_commit_education', 'education_mean_pc_rolling_5_lag1']]"
   ]
  },
  {
   "cell_type": "code",
   "execution_count": null,
   "id": "robust-reply",
   "metadata": {},
   "outputs": [],
   "source": [
    "data_cols = ['edu_ner', 'mean_pc_last_5',\n",
    "             'edu_share_gov_exp', 'edu_pupil_teacher', 'young_population', 'gdp_pc_ppp', \n",
    "             'cash_surplus_deficit', 'inflation', 'trade_share_gdp',\n",
    "             'freedom_house', 'prior_ner_growth', 'prior_4year_growth']\n",
    "    \n",
    "edu_treatment_col = 'mean_pc_last_5'\n",
    "\n",
    "initial_drop = ['prior_ner_growth', 'edu_share_gov_exp', 'w_avg_rating', 'satisfactory_proj', 'prior_4year_growth']\n",
    "r_est = experiment.evaluate_treatment(edu_df, 'edu_ner', edu_treatment_col, data_cols,\n",
    "                          remove_feature_cols=initial_drop,\n",
    "                          add_country_feffects=True, add_constant=False, log_target=True, log_treatment=True,\n",
    "                                     add_period_feffects=False)\n",
    "\n",
    "experiment.extract_treatment_results('Replication', r_est, 'edu_ner', edu_treatment_col, data_cols, None)"
   ]
  },
  {
   "cell_type": "code",
   "execution_count": null,
   "id": "adjusted-swaziland",
   "metadata": {},
   "outputs": [],
   "source": [
    "print(r_est.summary())"
   ]
  },
  {
   "cell_type": "code",
   "execution_count": null,
   "id": "automotive-sense",
   "metadata": {},
   "outputs": [],
   "source": [
    "search_grid = {\n",
    "    'Straight replication': {\n",
    "        'target_col': 'edu_ner', \n",
    "        'treatment_col': edu_treatment_col,\n",
    "        'est_kw_args': dict(\n",
    "            add_country_feffects=True, add_constant=False, log_target=True, log_treatment=True,\n",
    "            remove_feature_cols=['prior_ner_growth', 'edu_share_gov_exp', 'w_avg_rating', 'satisfactory_proj', 'prior_4year_growth']\n",
    "        )\n",
    "    },\n",
    "    'Include rating information': {\n",
    "        'target_col': 'edu_ner', \n",
    "        'treatment_col': edu_treatment_col,\n",
    "        'est_kw_args': dict(\n",
    "            add_country_feffects=True, add_constant=False, log_target=True, log_treatment=True,\n",
    "            remove_feature_cols=['prior_ner_growth', 'edu_share_gov_exp', 'prior_4year_growth']\n",
    "        )\n",
    "    },\n",
    "    'Include period fixed effects': {\n",
    "        'target_col': 'edu_ner', \n",
    "        'treatment_col': edu_treatment_col,\n",
    "        'est_kw_args': dict(\n",
    "            add_country_feffects=True, add_constant=True, log_target=True, log_treatment=True, add_period_feffects=True,\n",
    "            remove_feature_cols=['prior_ner_growth', 'edu_share_gov_exp', 'w_avg_rating', 'satisfactory_proj', 'prior_4year_growth']\n",
    "        )        \n",
    "    },\n",
    "    'Include prior growth across education outcomes': {\n",
    "        'target_col': 'edu_ner', \n",
    "        'treatment_col': edu_treatment_col,\n",
    "        'est_kw_args': dict(\n",
    "            add_country_feffects=True, add_constant=False, log_target=True, log_treatment=True,\n",
    "            remove_feature_cols=['prior_ner_growth', 'edu_share_gov_exp', 'satisfactory_proj', 'w_avg_rating']\n",
    "        )\n",
    "    },\n",
    "    'Properly include govt share spend': {\n",
    "        'target_col': 'edu_ner', \n",
    "        'treatment_col': edu_treatment_col,\n",
    "        'est_kw_args': dict(\n",
    "            add_country_feffects=True, add_constant=False, log_target=True, log_treatment=True,\n",
    "            remove_feature_cols=['prior_ner_growth', 'w_avg_rating', 'satisfactory_proj', 'prior_4year_growth']\n",
    "        )\n",
    "    },\n",
    "    'Use growth in NER as target': {\n",
    "        'target_col': 'prior_ner_growth', \n",
    "        'treatment_col': edu_treatment_col,\n",
    "        'est_kw_args': dict(\n",
    "            add_country_feffects=True, add_constant=True, log_target=True, log_treatment=True,\n",
    "            remove_feature_cols=['edu_ner', 'w_avg_rating', 'satisfactory_proj', 'prior_4year_growth']\n",
    "        )\n",
    "\n",
    "    }\n",
    "}"
   ]
  },
  {
   "cell_type": "code",
   "execution_count": null,
   "id": "suburban-packaging",
   "metadata": {},
   "outputs": [],
   "source": [
    "treatment_search_result = []\n",
    "estimators = {}\n",
    "for label, args in search_grid.items():\n",
    "    est = experiment.evaluate_treatment(edu_df, args['target_col'], args['treatment_col'], data_cols, **args['est_kw_args'])\n",
    "    results = experiment.extract_treatment_results(label, est, args['target_col'], args['treatment_col'], data_cols, args['est_kw_args'])\n",
    "    treatment_search_result.append(results)\n",
    "    estimators[label] = est\n",
    "\n",
    "gsearch_results = pd.DataFrame(treatment_search_result)\n",
    "gsearch_results"
   ]
  },
  {
   "cell_type": "code",
   "execution_count": null,
   "id": "isolated-crossing",
   "metadata": {},
   "outputs": [],
   "source": [
    "write_results = False\n",
    "\n",
    "if write_results:\n",
    "    with open(\"./growth_not_abs_ner_target.txt\", \"w\") as file:\n",
    "        file.write(estimators['Use growth in NER as target'].summary().as_text())\n",
    "\n",
    "    with open(\"./base_replication_full.txt\", \"w\") as file:\n",
    "        file.write(estimators['Straight replication'].summary().as_text())\n",
    "\n",
    "    gsearch_results.to_csv('../data/results/education_model_crawl.csv', float_format='%.4f')"
   ]
  },
  {
   "cell_type": "code",
   "execution_count": null,
   "id": "roman-bronze",
   "metadata": {},
   "outputs": [],
   "source": [
    "display_repl_summary = True\n",
    "\n",
    "if display_repl_summary:\n",
    "    print(\"*** Standard Replication: \")\n",
    "    print(r_est.summary())\n",
    "    \n",
    "    print(\"*** Replication with average rating: \")\n",
    "    print(estimators['Include rating information'].summary())"
   ]
  },
  {
   "cell_type": "markdown",
   "id": "apart-temperature",
   "metadata": {},
   "source": [
    "### Some EconML work now"
   ]
  },
  {
   "cell_type": "code",
   "execution_count": null,
   "id": "muslim-apparatus",
   "metadata": {},
   "outputs": [],
   "source": [
    "feature_cols = ['edu_share_gov_exp', 'edu_pupil_teacher', 'young_population', 'gdp_pc_ppp', \n",
    "             'cash_surplus_deficit', 'inflation', 'trade_share_gdp', 'freedom_house']"
   ]
  },
  {
   "cell_type": "code",
   "execution_count": null,
   "id": "western-hunger",
   "metadata": {},
   "outputs": [],
   "source": [
    "rating_col = 'w_avg_rating'\n",
    "treatment_col = 'mean_pc_last_5'\n",
    "target_col = 'edu_ner'\n",
    "\n",
    "# feature_cols = [col for col in data_cols if col != treatment_col and col != target_col]\n",
    "Y, T, X, W = experiment.assemble_econml_tuples(edu_df, target_col='edu_ner', treatment_col=treatment_col, \n",
    "                                               feature_cols=feature_cols + [rating_col])\n",
    "\n",
    "est = LinearDML(model_y=LassoCV(), model_t=LassoCV())\n",
    "est.fit(Y, T, X=X, W=W)\n",
    "print(est.summary())"
   ]
  },
  {
   "cell_type": "code",
   "execution_count": null,
   "id": "right-greek",
   "metadata": {},
   "outputs": [],
   "source": [
    "rating_col = 'w_avg_rating'\n",
    "magnitude_col = 'mean_pc_last_5'\n",
    "target_col = 'edu_ner'\n",
    "\n",
    "# feature_cols = [col for col in data_cols if col not in [rating_col, magnitude_col, target_col]]\n",
    "Y, T, X, W = experiment.assemble_econml_tuples(edu_df, target_col=target_col, treatment_col=rating_col, \n",
    "                                               feature_cols=feature_cols + [magnitude_col])\n",
    "\n",
    "est = LinearDML(model_y=LassoCV(), model_t=LassoCV())\n",
    "est.fit(Y, T, X=X, W=W)\n",
    "print(est.summary())"
   ]
  },
  {
   "cell_type": "markdown",
   "id": "greater-basketball",
   "metadata": {},
   "source": [
    "## Health"
   ]
  },
  {
   "cell_type": "markdown",
   "id": "accurate-insurance",
   "metadata": {},
   "source": [
    "Process:\n",
    "\n",
    "1. Repeat outcome variable formation, using lagged construction\n",
    "2. Construct sectoral aid per capita using utilities\n",
    "3. Construct specification, using Diana's original notebook"
   ]
  },
  {
   "cell_type": "code",
   "execution_count": 36,
   "id": "optical-modeling",
   "metadata": {},
   "outputs": [
    {
     "data": {
      "text/html": [
       "<div>\n",
       "<style scoped>\n",
       "    .dataframe tbody tr th:only-of-type {\n",
       "        vertical-align: middle;\n",
       "    }\n",
       "\n",
       "    .dataframe tbody tr th {\n",
       "        vertical-align: top;\n",
       "    }\n",
       "\n",
       "    .dataframe thead th {\n",
       "        text-align: right;\n",
       "    }\n",
       "</style>\n",
       "<table border=\"1\" class=\"dataframe\">\n",
       "  <thead>\n",
       "    <tr style=\"text-align: right;\">\n",
       "      <th></th>\n",
       "      <th>country_code</th>\n",
       "      <th>end_year</th>\n",
       "      <th>num_projs</th>\n",
       "      <th>total_proj_size</th>\n",
       "      <th>w_avg_rating</th>\n",
       "      <th>min_rating</th>\n",
       "      <th>max_rating</th>\n",
       "    </tr>\n",
       "  </thead>\n",
       "  <tbody>\n",
       "    <tr>\n",
       "      <th>0</th>\n",
       "      <td>AAB</td>\n",
       "      <td>2003.0</td>\n",
       "      <td>1</td>\n",
       "      <td>1684568.08</td>\n",
       "      <td>6.0</td>\n",
       "      <td>6.0</td>\n",
       "      <td>6.0</td>\n",
       "    </tr>\n",
       "    <tr>\n",
       "      <th>1</th>\n",
       "      <td>AFG</td>\n",
       "      <td>2006.0</td>\n",
       "      <td>1</td>\n",
       "      <td>0.00</td>\n",
       "      <td>4.5</td>\n",
       "      <td>4.5</td>\n",
       "      <td>4.5</td>\n",
       "    </tr>\n",
       "    <tr>\n",
       "      <th>2</th>\n",
       "      <td>AFG</td>\n",
       "      <td>2009.0</td>\n",
       "      <td>1</td>\n",
       "      <td>0.00</td>\n",
       "      <td>6.0</td>\n",
       "      <td>6.0</td>\n",
       "      <td>6.0</td>\n",
       "    </tr>\n",
       "    <tr>\n",
       "      <th>3</th>\n",
       "      <td>AFG</td>\n",
       "      <td>2010.0</td>\n",
       "      <td>1</td>\n",
       "      <td>7722667.00</td>\n",
       "      <td>6.0</td>\n",
       "      <td>6.0</td>\n",
       "      <td>6.0</td>\n",
       "    </tr>\n",
       "    <tr>\n",
       "      <th>4</th>\n",
       "      <td>AFG</td>\n",
       "      <td>2011.0</td>\n",
       "      <td>1</td>\n",
       "      <td>0.00</td>\n",
       "      <td>6.0</td>\n",
       "      <td>6.0</td>\n",
       "      <td>6.0</td>\n",
       "    </tr>\n",
       "  </tbody>\n",
       "</table>\n",
       "</div>"
      ],
      "text/plain": [
       "  country_code  end_year  num_projs  total_proj_size  w_avg_rating  \\\n",
       "0          AAB    2003.0          1       1684568.08           6.0   \n",
       "1          AFG    2006.0          1             0.00           4.5   \n",
       "2          AFG    2009.0          1             0.00           6.0   \n",
       "3          AFG    2010.0          1       7722667.00           6.0   \n",
       "4          AFG    2011.0          1             0.00           6.0   \n",
       "\n",
       "   min_rating  max_rating  \n",
       "0         6.0         6.0  \n",
       "1         4.5         4.5  \n",
       "2         6.0         6.0  \n",
       "3         6.0         6.0  \n",
       "4         6.0         6.0  "
      ]
     },
     "execution_count": 36,
     "metadata": {},
     "output_type": "execute_result"
    }
   ],
   "source": [
    "health_treatment_df = load_util.assemble_sector_ratings(project_df, 'Health').fillna(0)\n",
    "health_treatment_df.head()"
   ]
  },
  {
   "cell_type": "code",
   "execution_count": 37,
   "id": "passive-heaven",
   "metadata": {},
   "outputs": [
    {
     "data": {
      "text/plain": [
       "count    844.000000\n",
       "mean       4.331075\n",
       "std        1.346807\n",
       "min        0.000000\n",
       "25%        3.878389\n",
       "50%        4.500000\n",
       "75%        5.000000\n",
       "max        6.000000\n",
       "Name: w_avg_rating, dtype: float64"
      ]
     },
     "execution_count": 37,
     "metadata": {},
     "output_type": "execute_result"
    }
   ],
   "source": [
    "health_treatment_df.w_avg_rating.describe()"
   ]
  },
  {
   "cell_type": "code",
   "execution_count": 45,
   "id": "durable-parallel",
   "metadata": {},
   "outputs": [
    {
     "name": "stdout",
     "output_type": "stream",
     "text": [
      "Assembling main panel\n",
      "Loaded main panel, constructing next one\n"
     ]
    }
   ],
   "source": [
    "hp_df, hp_source = experiment.assemble_replication_panel('health', reload=False)"
   ]
  },
  {
   "cell_type": "code",
   "execution_count": 51,
   "id": "collective-observation",
   "metadata": {},
   "outputs": [],
   "source": [
    "health_df = hp_df.merge(health_treatment_df, how='left', left_on=['year', 'country'], right_on=['end_year', 'country_code'])"
   ]
  },
  {
   "cell_type": "code",
   "execution_count": 52,
   "id": "prompt-positive",
   "metadata": {},
   "outputs": [
    {
     "data": {
      "text/plain": [
       "count    326.000000\n",
       "mean       4.227413\n",
       "std        1.383231\n",
       "min        0.000000\n",
       "25%        3.750000\n",
       "50%        4.500000\n",
       "75%        5.000000\n",
       "max        6.000000\n",
       "Name: w_avg_rating, dtype: float64"
      ]
     },
     "execution_count": 52,
     "metadata": {},
     "output_type": "execute_result"
    }
   ],
   "source": [
    "health_df.w_avg_rating.describe()"
   ]
  },
  {
   "cell_type": "code",
   "execution_count": 38,
   "id": "legendary-pasta",
   "metadata": {},
   "outputs": [],
   "source": [
    "recreate_health_df = False\n",
    "\n",
    "if recreate_health_df:\n",
    "    hp_df, hp_source = experiment.assemble_replication_panel('health')\n",
    "    health_df = hp_df.merge(health_treatment_df, how='left', left_on=['year', 'country'], right_on=['end_year', 'country_code'])\n",
    "    treatment_cols = [col for col in health_treatment_df.columns if col not in [\"end_year\", \"country_code\"]]\n",
    "    health_df[treatment_cols] = edu_df[treatment_cols].fillna(0)\n",
    "else:\n",
    "    health_df = pd.read_csv('../data/transformed_data/health_df.csv', index_col=0)"
   ]
  },
  {
   "cell_type": "code",
   "execution_count": 53,
   "id": "located-bidder",
   "metadata": {},
   "outputs": [
    {
     "name": "stdout",
     "output_type": "stream",
     "text": [
      "Generating mean per capita commitments over prior years\n",
      "Marking whether a satisfactory project concluded in that year\n",
      "Taking maximum of weighted rating of concluded projects in prior period\n",
      "Treatment counts:  False    8717\n",
      "True      747\n",
      "Name: project_completed_year, dtype: int64\n"
     ]
    }
   ],
   "source": [
    "health_df = experiment.add_project_and_aid_cols(health_df, sector='health')\n",
    "\n",
    "treatment_cols = [col for col in health_treatment_df.columns if col not in [\"end_year\", \"country_code\"]]\n",
    "health_df[treatment_cols] = health_df[treatment_cols].fillna(0)\n",
    "print(\"Treatment counts: \", health_df.project_completed_year.value_counts())"
   ]
  },
  {
   "cell_type": "code",
   "execution_count": 54,
   "id": "fiscal-moore",
   "metadata": {},
   "outputs": [
    {
     "data": {
      "text/plain": [
       "count    314.000000\n",
       "mean       4.388970\n",
       "std        1.129312\n",
       "min        1.000000\n",
       "25%        4.000000\n",
       "50%        4.500000\n",
       "75%        5.000000\n",
       "max        6.000000\n",
       "Name: w_avg_rating, dtype: float64"
      ]
     },
     "execution_count": 54,
     "metadata": {},
     "output_type": "execute_result"
    }
   ],
   "source": [
    "health_df[health_df.w_avg_rating > 0].w_avg_rating.describe()"
   ]
  },
  {
   "cell_type": "code",
   "execution_count": 55,
   "id": "later-albania",
   "metadata": {},
   "outputs": [],
   "source": [
    "store_health_df = False\n",
    "\n",
    "if store_health_df:\n",
    "    health_df.to_csv('../data/transformed_data/health_df.csv')"
   ]
  },
  {
   "cell_type": "code",
   "execution_count": 56,
   "id": "clean-helping",
   "metadata": {},
   "outputs": [],
   "source": [
    "# take rolling five year averages of everything, following paper\n",
    "# note: not doing this for macro variables as justification does not make sense for those (measurement/volatility)\n",
    "measured_cols = ['mortality_under5', 'fertility', 'hiv_prevalence']\n",
    "\n",
    "for m_col in measured_cols:\n",
    "    health_df[f\"{m_col}_pavg\"] = explore_util.rolling_country_agg(health_df, m_col, 5, \"mean\")\n",
    "    health_df = explore_util.lag_variable_simple(health_df, f\"{m_col}_pavg\", 1)\n",
    "    \n",
    "macro_cols = [\"gdp_pc_ppp\", \"population\"]\n",
    "for m_col in macro_cols:\n",
    "    health_df = explore_util.lag_variable_simple(health_df, m_col, 1)"
   ]
  },
  {
   "cell_type": "code",
   "execution_count": 57,
   "id": "dental-gregory",
   "metadata": {},
   "outputs": [],
   "source": [
    "health_df['mean_pc_last_5'] = (\n",
    "    health_df.pc_commit_health_lag5.notna() * health_df.health_mean_pc_rolling_5_lag1\n",
    ").replace({ 0: np.nan })\n",
    "\n",
    "health_df = explore_util.lag_variable_simple(health_df, \"mortality_under5_pavg\", 5)\n",
    "health_df[\"lag_log_mort\"] = np.log(health_df[\"mortality_under5_pavg_lag5\"])\n",
    "health_df['prior_mort_decline'] = health_df['mortality_under5_pavg'] / health_df['mortality_under5_pavg_lag5']"
   ]
  },
  {
   "cell_type": "markdown",
   "id": "weighted-parliament",
   "metadata": {},
   "source": [
    "* Specification 1:\n",
    "\n",
    "```qui regress mortality_under5 pc_commit_health lag_mortality_under5 ///\n",
    "            lag_gdp_pc_ppp lag_fertility lag_population ///\n",
    "            hiv_prevalence conflict i.period, r```"
   ]
  },
  {
   "cell_type": "code",
   "execution_count": 58,
   "id": "thorough-advertiser",
   "metadata": {},
   "outputs": [],
   "source": [
    "# health_df.columns"
   ]
  },
  {
   "cell_type": "code",
   "execution_count": 59,
   "id": "unknown-costume",
   "metadata": {},
   "outputs": [],
   "source": [
    "target_cols = [\"mortality_under5_pavg\"]\n",
    "treatment_cols = [\"mean_pc_last_5\"]\n",
    "\n",
    "momentum_cols = [\"lag_log_mort\"]\n",
    "control_cols = [\"hiv_prevalence_pavg_lag1\", \"fertility_pavg_lag1\", \"gdp_pc_ppp_lag1\", \"population_lag1\", \"conflict\"]\n",
    "rating_cols = ['health_satisfactory_proj', 'w_avg_rating']\n",
    "\n",
    "\n",
    "health_data_cols = [\"country\"] + target_cols + treatment_cols + momentum_cols + control_cols + rating_cols"
   ]
  },
  {
   "cell_type": "code",
   "execution_count": 60,
   "id": "surprising-concord",
   "metadata": {},
   "outputs": [
    {
     "data": {
      "text/plain": [
       "{'Label': 'Health Replication',\n",
       " 'Regression P': 0.0,\n",
       " 'Treatment significance': 4.905810680712437e-25,\n",
       " 'Treatment coefficient': -0.025423821817695903,\n",
       " 'Sig feature coefficient': {'lag_log_mort': 0.937,\n",
       "  'hiv_prevalence_pavg_lag1': 0.0097,\n",
       "  'fertility_pavg_lag1': 0.0356,\n",
       "  'gdp_pc_ppp_lag1': -0.0,\n",
       "  'population_lag1': -0.0},\n",
       " 'Sig feature p-values': {'lag_log_mort': 0.0,\n",
       "  'hiv_prevalence_pavg_lag1': 0.0,\n",
       "  'fertility_pavg_lag1': 0.0,\n",
       "  'gdp_pc_ppp_lag1': 0.0,\n",
       "  'population_lag1': 0.0011},\n",
       " 'Number significant FE': 0,\n",
       " 'Mean coefficient on FE': 0,\n",
       " 'Keyword args': None}"
      ]
     },
     "execution_count": 60,
     "metadata": {},
     "output_type": "execute_result"
    }
   ],
   "source": [
    "# first go for the paper\n",
    "# replication_exclude = ['prior_mort_decline', 'w_avg_rating', 'satisfactory_proj', 'prior_4year_growth',\n",
    "#                       'inflation', 'trade_share_gdp', 'freedom_house', 'mean_pc_last_5']\n",
    "\n",
    "health_est = experiment.evaluate_treatment(health_df, 'mortality_under5_pavg', 'mean_pc_last_5', health_data_cols,\n",
    "                            remove_feature_cols=[\"prior_mort_decline\"], add_country_feffects=False, \n",
    "                            add_constant=False, log_target=True, log_treatment=True)\n",
    "\n",
    "experiment.extract_treatment_results('Health Replication', health_est, 'mortality_under5_pavg', 'mean_pc_last_5', health_data_cols, None)"
   ]
  },
  {
   "cell_type": "code",
   "execution_count": 61,
   "id": "engaging-venice",
   "metadata": {},
   "outputs": [
    {
     "name": "stdout",
     "output_type": "stream",
     "text": [
      "                                  OLS Regression Results                                  \n",
      "==========================================================================================\n",
      "Dep. Variable:     mortality_under5_pavg   R-squared (uncentered):                   0.999\n",
      "Model:                               OLS   Adj. R-squared (uncentered):              0.999\n",
      "Method:                    Least Squares   F-statistic:                          2.521e+05\n",
      "Date:                   Tue, 24 Aug 2021   Prob (F-statistic):                        0.00\n",
      "Time:                           14:38:47   Log-Likelihood:                          1282.4\n",
      "No. Observations:                   1654   AIC:                                     -2547.\n",
      "Df Residuals:                       1645   BIC:                                     -2498.\n",
      "Df Model:                              9                                                  \n",
      "Covariance Type:               nonrobust                                                  \n",
      "============================================================================================\n",
      "                               coef    std err          t      P>|t|      [0.025      0.975]\n",
      "--------------------------------------------------------------------------------------------\n",
      "mean_pc_last_5              -0.0254      0.002    -10.506      0.000      -0.030      -0.021\n",
      "lag_log_mort                 0.9370      0.003    271.103      0.000       0.930       0.944\n",
      "hiv_prevalence_pavg_lag1     0.0097      0.001     16.065      0.000       0.009       0.011\n",
      "fertility_pavg_lag1          0.0356      0.003     12.039      0.000       0.030       0.041\n",
      "gdp_pc_ppp_lag1            -2.6e-06   4.97e-07     -5.235      0.000   -3.57e-06   -1.63e-06\n",
      "population_lag1          -3.209e-10   9.78e-11     -3.281      0.001   -5.13e-10   -1.29e-10\n",
      "conflict                     0.0124      0.013      0.954      0.340      -0.013       0.038\n",
      "health_satisfactory_proj    -0.0387      0.030     -1.310      0.191      -0.097       0.019\n",
      "w_avg_rating                -0.0022      0.006     -0.363      0.717      -0.014       0.010\n",
      "==============================================================================\n",
      "Omnibus:                       22.149   Durbin-Watson:                   0.250\n",
      "Prob(Omnibus):                  0.000   Jarque-Bera (JB):               34.412\n",
      "Skew:                          -0.106   Prob(JB):                     3.37e-08\n",
      "Kurtosis:                       3.674   Cond. No.                     4.15e+08\n",
      "==============================================================================\n",
      "\n",
      "Notes:\n",
      "[1] R² is computed without centering (uncentered) since the model does not contain a constant.\n",
      "[2] Standard Errors assume that the covariance matrix of the errors is correctly specified.\n",
      "[3] The condition number is large, 4.15e+08. This might indicate that there are\n",
      "strong multicollinearity or other numerical problems.\n"
     ]
    }
   ],
   "source": [
    "print(health_est.summary())"
   ]
  },
  {
   "cell_type": "code",
   "execution_count": 62,
   "id": "proprietary-buying",
   "metadata": {},
   "outputs": [
    {
     "data": {
      "text/plain": [
       "{'Label': 'Health Replication with Macro',\n",
       " 'Regression P': 0.0,\n",
       " 'Treatment significance': 4.9238152669813355e-21,\n",
       " 'Treatment coefficient': -0.0317597980508285,\n",
       " 'Sig feature coefficient': {'lag_log_mort': 0.9391,\n",
       "  'hiv_prevalence_pavg_lag1': 0.0097,\n",
       "  'fertility_pavg_lag1': 0.0373,\n",
       "  'gdp_pc_ppp_lag1': -0.0,\n",
       "  'population_lag1': -0.0,\n",
       "  'inflation': 0.0002,\n",
       "  'cash_surplus_deficit': -0.0016,\n",
       "  'trade_share_gdp': -0.0003},\n",
       " 'Sig feature p-values': {'lag_log_mort': 0.0,\n",
       "  'hiv_prevalence_pavg_lag1': 0.0,\n",
       "  'fertility_pavg_lag1': 0.0,\n",
       "  'gdp_pc_ppp_lag1': 0.0,\n",
       "  'population_lag1': 0.0011,\n",
       "  'inflation': 0.0048,\n",
       "  'cash_surplus_deficit': 0.0416,\n",
       "  'trade_share_gdp': 0.0164},\n",
       " 'Number significant FE': 0,\n",
       " 'Mean coefficient on FE': 0,\n",
       " 'Keyword args': None}"
      ]
     },
     "execution_count": 62,
     "metadata": {},
     "output_type": "execute_result"
    }
   ],
   "source": [
    "# now add in controls for macro conditions\n",
    "cols_rep2 = health_data_cols + ['inflation', 'cash_surplus_deficit', 'trade_share_gdp']\n",
    "health_est2 = experiment.evaluate_treatment(health_df, 'mortality_under5_pavg', 'mean_pc_last_5', cols_rep2,\n",
    "                          add_country_feffects=False, add_constant=False, log_target=True, log_treatment=True)\n",
    "\n",
    "experiment.extract_treatment_results('Health Replication with Macro', health_est2, 'mortality_under5_pavg', 'mean_pc_last_5', cols_rep2, None)"
   ]
  },
  {
   "cell_type": "markdown",
   "id": "consistent-contemporary",
   "metadata": {},
   "source": [
    "* Specification 6\n",
    "\n",
    "```qui regress mortality_under5 pc_commit_health lag_mortality_under5 ///\n",
    "            lag_gdp_pc_ppp lag_fertility lag_population ///\n",
    "            lag_physicians_rate  lag_female_adult_literacy ///\n",
    "            lag_access_water lag_access_sanitation ///\n",
    "            hiv_prevalence conflict i.period i.nregionname, r```"
   ]
  },
  {
   "cell_type": "code",
   "execution_count": 63,
   "id": "induced-fleece",
   "metadata": {},
   "outputs": [
    {
     "data": {
      "text/plain": [
       "True"
      ]
     },
     "execution_count": 63,
     "metadata": {},
     "output_type": "execute_result"
    }
   ],
   "source": [
    "'female_adult_literacy' in health_df"
   ]
  },
  {
   "cell_type": "code",
   "execution_count": 64,
   "id": "future-liability",
   "metadata": {},
   "outputs": [
    {
     "data": {
      "text/plain": [
       "{'Label': 'Health Replication 6',\n",
       " 'Regression P': 0.0,\n",
       " 'Treatment significance': 2.1541154943776364e-20,\n",
       " 'Treatment coefficient': -0.023413006226278434,\n",
       " 'Sig feature coefficient': {'lag_log_mort': 0.7046,\n",
       "  'hiv_prevalence_pavg_lag1': 0.0134,\n",
       "  'fertility_pavg_lag1': 0.0896,\n",
       "  'gdp_pc_ppp_lag1': -0.0,\n",
       "  'population_lag1': 0.0},\n",
       " 'Sig feature p-values': {'lag_log_mort': 0.0,\n",
       "  'hiv_prevalence_pavg_lag1': 0.0,\n",
       "  'fertility_pavg_lag1': 0.0,\n",
       "  'gdp_pc_ppp_lag1': 0.0,\n",
       "  'population_lag1': 0.0223},\n",
       " 'Number significant FE': 100,\n",
       " 'Mean coefficient on FE': 0.8408437654732221,\n",
       " 'Keyword args': None}"
      ]
     },
     "execution_count": 64,
     "metadata": {},
     "output_type": "execute_result"
    }
   ],
   "source": [
    "# 'female_adult_literacy',\n",
    "cols_rep3 = health_data_cols + ['access_water', 'access_sanitation', 'physicians_rate']\n",
    "\n",
    "health_est3 = experiment.evaluate_treatment(health_df, 'mortality_under5_pavg', 'mean_pc_last_5', \n",
    "                          cols_rep3, add_country_feffects=True, add_period_feffects=True,\n",
    "                            add_constant=False, log_target=True, log_treatment=True)\n",
    "\n",
    "experiment.extract_treatment_results('Health Replication 6', health_est3, 'mortality_under5_pavg', 'mean_pc_last_5', health_data_cols, None)"
   ]
  },
  {
   "cell_type": "code",
   "execution_count": 65,
   "id": "provincial-lloyd",
   "metadata": {},
   "outputs": [
    {
     "name": "stdout",
     "output_type": "stream",
     "text": [
      "                              OLS Regression Results                             \n",
      "=================================================================================\n",
      "Dep. Variable:     mortality_under5_pavg   R-squared:                       0.994\n",
      "Model:                               OLS   Adj. R-squared:                  0.994\n",
      "Method:                    Least Squares   F-statistic:                     2214.\n",
      "Date:                   Tue, 24 Aug 2021   Prob (F-statistic):               0.00\n",
      "Time:                           14:38:54   Log-Likelihood:                 2077.8\n",
      "No. Observations:                   1617   AIC:                            -3930.\n",
      "Df Residuals:                       1504   BIC:                            -3321.\n",
      "Df Model:                            112                                         \n",
      "Covariance Type:               nonrobust                                         \n",
      "============================================================================================\n",
      "                               coef    std err          t      P>|t|      [0.025      0.975]\n",
      "--------------------------------------------------------------------------------------------\n",
      "mean_pc_last_5              -0.0234      0.002     -9.389      0.000      -0.028      -0.019\n",
      "lag_log_mort                 0.7046      0.020     35.057      0.000       0.665       0.744\n",
      "hiv_prevalence_pavg_lag1     0.0134      0.002      8.789      0.000       0.010       0.016\n",
      "fertility_pavg_lag1          0.0896      0.011      8.273      0.000       0.068       0.111\n",
      "gdp_pc_ppp_lag1          -1.434e-05   1.47e-06     -9.773      0.000   -1.72e-05   -1.15e-05\n",
      "population_lag1           1.331e-09   5.82e-10      2.288      0.022     1.9e-10    2.47e-09\n",
      "conflict                     0.0111      0.010      1.071      0.285      -0.009       0.031\n",
      "health_satisfactory_proj    -0.0031      0.019     -0.162      0.872      -0.041       0.035\n",
      "w_avg_rating                -0.0011      0.004     -0.285      0.776      -0.009       0.007\n",
      "access_water                -0.0047      0.001     -7.219      0.000      -0.006      -0.003\n",
      "access_sanitation            0.0042      0.001      5.373      0.000       0.003       0.006\n",
      "physicians_rate              0.0280      0.009      2.990      0.003       0.010       0.046\n",
      "AGO                          0.2407      0.034      7.115      0.000       0.174       0.307\n",
      "ALB                          0.0067      0.064      0.105      0.917      -0.119       0.133\n",
      "ARG                          0.0035      0.069      0.050      0.960      -0.132       0.139\n",
      "ARM                          0.0268      0.066      0.404      0.686      -0.103       0.157\n",
      "ATG                       5.237e-10   3.29e-10      1.590      0.112   -1.22e-10    1.17e-09\n",
      "AZE                          0.1848      0.067      2.774      0.006       0.054       0.315\n",
      "BDI                          0.1133      0.039      2.930      0.003       0.037       0.189\n",
      "BEN                          0.3859      0.043      9.056      0.000       0.302       0.469\n",
      "BFA                          0.3448      0.039      8.832      0.000       0.268       0.421\n",
      "BGD                       1.208e-10   3.26e-10      0.371      0.711   -5.19e-10    7.61e-10\n",
      "BGR                          0.0259      0.077      0.335      0.737      -0.125       0.177\n",
      "BIH                       6.505e-10   3.33e-10      1.956      0.051   -1.68e-12     1.3e-09\n",
      "BLR                         -0.2572      0.076     -3.363      0.001      -0.407      -0.107\n",
      "BLZ                      -1.629e-10   3.05e-10     -0.534      0.593   -7.61e-10    4.35e-10\n",
      "BOL                          0.2539      0.050      5.066      0.000       0.156       0.352\n",
      "BRA                         -0.1371      0.105     -1.304      0.193      -0.343       0.069\n",
      "BRB                       3.197e-10   2.33e-10      1.372      0.170   -1.37e-10    7.77e-10\n",
      "BTN                      -1.146e-09   3.08e-10     -3.723      0.000   -1.75e-09   -5.42e-10\n",
      "BWA                          0.1924      0.066      2.914      0.004       0.063       0.322\n",
      "CAF                          0.4029      0.043      9.481      0.000       0.320       0.486\n",
      "CHL                         -0.1576      0.071     -2.206      0.028      -0.298      -0.017\n",
      "CHN                      -2.074e-09   3.84e-10     -5.404      0.000   -2.83e-09   -1.32e-09\n",
      "CIV                          0.3762      0.045      8.346      0.000       0.288       0.465\n",
      "CMR                          0.2581      0.037      7.046      0.000       0.186       0.330\n",
      "COD                          0.0877      0.035      2.522      0.012       0.019       0.156\n",
      "COG                          0.3876      0.051      7.595      0.000       0.287       0.488\n",
      "COL                         -0.0220      0.059     -0.370      0.711      -0.138       0.094\n",
      "COM                          0.4327      0.050      8.665      0.000       0.335       0.531\n",
      "CPV                          0.1027      0.054      1.912      0.056      -0.003       0.208\n",
      "CRI                         -0.0911      0.070     -1.304      0.193      -0.228       0.046\n",
      "CUB                      -1.979e-09   3.77e-10     -5.250      0.000   -2.72e-09   -1.24e-09\n",
      "CYP                       8.356e-10    2.7e-10      3.092      0.002    3.06e-10    1.37e-09\n",
      "CZE                      -3.059e-10   3.47e-10     -0.881      0.379   -9.87e-10    3.75e-10\n",
      "DJI                       9.946e-10   3.02e-10      3.297      0.001    4.03e-10    1.59e-09\n",
      "DMA                       1.083e-09   3.83e-10      2.832      0.005    3.33e-10    1.83e-09\n",
      "DOM                          0.1443      0.058      2.478      0.013       0.030       0.258\n",
      "DZA                          0.0161      0.058      0.280      0.780      -0.097       0.129\n",
      "ECU                         -0.0683      0.055     -1.235      0.217      -0.177       0.040\n",
      "EGY                         -0.0755      0.062     -1.226      0.220      -0.196       0.045\n",
      "ERI                       8.867e-10   1.89e-10      4.690      0.000    5.16e-10    1.26e-09\n",
      "ESP                       5.073e-10   1.66e-10      3.059      0.002    1.82e-10    8.32e-10\n",
      "EST                      -6.738e-10    3.4e-10     -1.983      0.048   -1.34e-09   -7.24e-12\n",
      "ETH                         -0.0370      0.043     -0.851      0.395      -0.122       0.048\n",
      "FIN                       1.405e-09   2.91e-10      4.834      0.000    8.35e-10    1.98e-09\n",
      "FJI                          0.1408      0.062      2.278      0.023       0.020       0.262\n",
      "FSM                      -7.802e-10   2.54e-10     -3.072      0.002   -1.28e-09   -2.82e-10\n",
      "GAB                          0.5229      0.057      9.168      0.000       0.411       0.635\n",
      "GEO                         -0.0588      0.073     -0.810      0.418      -0.201       0.084\n",
      "GHA                          0.3755      0.051      7.324      0.000       0.275       0.476\n",
      "GIN                          0.3350      0.041      8.102      0.000       0.254       0.416\n",
      "GMB                          0.1605      0.045      3.536      0.000       0.071       0.250\n",
      "GNB                          0.3543      0.041      8.648      0.000       0.274       0.435\n",
      "GNQ                          0.1709      0.055      3.134      0.002       0.064       0.278\n",
      "GRC                      -1.805e-09    3.3e-10     -5.475      0.000   -2.45e-09   -1.16e-09\n",
      "GRD                      -4.067e-10   2.51e-10     -1.619      0.106   -8.99e-10     8.6e-11\n",
      "GTM                          0.0867      0.048      1.803      0.072      -0.008       0.181\n",
      "GUY                          0.2272      0.058      3.891      0.000       0.113       0.342\n",
      "HKG                       1.008e-09   4.39e-10      2.294      0.022    1.46e-10    1.87e-09\n",
      "HND                         -0.0556      0.050     -1.121      0.263      -0.153       0.042\n",
      "HRV                         -0.1403      0.081     -1.735      0.083      -0.299       0.018\n",
      "HTI                          0.3573      0.047      7.612      0.000       0.265       0.449\n",
      "HUN                       1.972e-10   2.76e-10      0.715      0.475   -3.44e-10    7.38e-10\n",
      "IDN                      -1.155e-09   2.66e-10     -4.344      0.000   -1.68e-09   -6.33e-10\n",
      "IND                      -2.444e-09   5.08e-10     -4.807      0.000   -3.44e-09   -1.45e-09\n",
      "IRL                       1.279e-09   3.19e-10      4.013      0.000    6.54e-10     1.9e-09\n",
      "IRN                         -0.0223      0.065     -0.342      0.732      -0.150       0.105\n",
      "IRQ                         1.2e-09   3.85e-10      3.114      0.002    4.44e-10    1.96e-09\n",
      "ISL                      -2.015e-10   3.24e-10     -0.622      0.534   -8.37e-10    4.34e-10\n",
      "ISR                       8.558e-10   2.26e-10      3.790      0.000    4.13e-10     1.3e-09\n",
      "JAM                          0.0587      0.064      0.925      0.355      -0.066       0.183\n",
      "JOR                      -2.189e-09   3.81e-10     -5.746      0.000   -2.94e-09   -1.44e-09\n",
      "JPN                       1.839e-09   3.08e-10      5.966      0.000    1.23e-09    2.44e-09\n",
      "KAZ                          0.0850      0.071      1.197      0.232      -0.054       0.224\n",
      "KEN                          0.0768      0.040      1.941      0.052      -0.001       0.154\n",
      "KGZ                         -0.0111      0.062     -0.180      0.857      -0.132       0.110\n",
      "KHM                          0.2102      0.048      4.339      0.000       0.115       0.305\n",
      "KIR                      -1.295e-09   2.66e-10     -4.860      0.000   -1.82e-09   -7.72e-10\n",
      "KOR                       9.523e-10   1.89e-10      5.028      0.000    5.81e-10    1.32e-09\n",
      "LAO                          0.2141      0.042      5.087      0.000       0.132       0.297\n",
      "LBN                         -0.0836      0.068     -1.227      0.220      -0.217       0.050\n",
      "LBR                          0.2736      0.045      6.033      0.000       0.185       0.363\n",
      "LCA                       1.443e-09   1.94e-10      7.440      0.000    1.06e-09    1.82e-09\n",
      "LKA                         -0.1330      0.061     -2.192      0.029      -0.252      -0.014\n",
      "LSO                          0.3754      0.060      6.264      0.000       0.258       0.493\n",
      "LTU                       6.099e-10   1.08e-10      5.672      0.000    3.99e-10    8.21e-10\n",
      "LVA                      -2.202e-10   1.33e-10     -1.655      0.098   -4.81e-10    4.08e-11\n",
      "MAR                          0.0913      0.052      1.764      0.078      -0.010       0.193\n",
      "MDA                          0.0662      0.069      0.965      0.335      -0.068       0.201\n",
      "MDG                          0.1277      0.040      3.189      0.001       0.049       0.206\n",
      "MDV                       1.553e-09   2.21e-10      7.034      0.000    1.12e-09    1.99e-09\n",
      "MEX                       7.166e-10   1.76e-10      4.080      0.000    3.72e-10    1.06e-09\n",
      "MHL                      -1.702e-09      2e-10     -8.510      0.000   -2.09e-09   -1.31e-09\n",
      "MKD                       2.086e-09   3.48e-10      6.001      0.000     1.4e-09    2.77e-09\n",
      "MLI                          0.2430      0.033      7.284      0.000       0.178       0.308\n",
      "MMR                          0.1591      0.052      3.072      0.002       0.057       0.261\n",
      "MNE                       8.139e-11   1.62e-10      0.503      0.615   -2.36e-10    3.99e-10\n",
      "MNG                          0.1003      0.061      1.648      0.099      -0.019       0.220\n",
      "MOZ                          0.1416      0.037      3.809      0.000       0.069       0.215\n",
      "MRT                          0.3093      0.039      7.998      0.000       0.233       0.385\n",
      "MUS                          0.0757      0.070      1.076      0.282      -0.062       0.214\n",
      "MWI                          0.0288      0.039      0.732      0.464      -0.048       0.106\n",
      "MYS                         -0.2814      0.069     -4.051      0.000      -0.418      -0.145\n",
      "NAM                          0.3656      0.057      6.464      0.000       0.255       0.476\n",
      "NER                          0.1659      0.034      4.835      0.000       0.099       0.233\n",
      "NGA                          0.1189      0.071      1.668      0.096      -0.021       0.259\n",
      "NIC                          0.0665      0.053      1.257      0.209      -0.037       0.170\n",
      "NPL                          0.2482      0.052      4.744      0.000       0.146       0.351\n",
      "NRU                        8.81e-10   1.66e-10      5.320      0.000    5.56e-10    1.21e-09\n",
      "NZL                       7.187e-10   1.22e-10      5.885      0.000    4.79e-10    9.58e-10\n",
      "OMN                      -6.694e-10   1.23e-10     -5.423      0.000   -9.12e-10   -4.27e-10\n",
      "PAK                          0.1518      0.085      1.788      0.074      -0.015       0.318\n",
      "PAN                       3.769e-10   1.07e-10      3.520      0.000    1.67e-10    5.87e-10\n",
      "PER                         -0.0472      0.053     -0.890      0.373      -0.151       0.057\n",
      "PHL                         -0.0653      0.057     -1.138      0.255      -0.178       0.047\n",
      "PLW                      -7.899e-10   3.11e-10     -2.542      0.011    -1.4e-09    -1.8e-10\n",
      "PNG                          0.1959      0.047      4.167      0.000       0.104       0.288\n",
      "POL                      -5.627e-10   2.15e-10     -2.613      0.009   -9.85e-10    -1.4e-10\n",
      "PRK                      -1.738e-10   1.04e-10     -1.678      0.094   -3.77e-10    2.94e-11\n",
      "PRT                      -1.526e-09   3.28e-10     -4.656      0.000   -2.17e-09   -8.83e-10\n",
      "PRY                          0.0202      0.054      0.375      0.708      -0.085       0.126\n",
      "PSE                       6.565e-11   1.63e-10      0.403      0.687   -2.54e-10    3.85e-10\n",
      "ROU                          0.1001      0.071      1.415      0.157      -0.039       0.239\n",
      "RUS                       6.691e-10   9.22e-11      7.258      0.000    4.88e-10     8.5e-10\n",
      "RWA                          0.1880      0.038      4.897      0.000       0.113       0.263\n",
      "SDN                          0.1690      0.038      4.506      0.000       0.095       0.243\n",
      "SEN                          0.2271      0.038      5.913      0.000       0.152       0.302\n",
      "SGP                      -2.863e-10   3.56e-11     -8.033      0.000   -3.56e-10   -2.16e-10\n",
      "SLB                      -1.156e-09   1.44e-10     -8.033      0.000   -1.44e-09   -8.73e-10\n",
      "SLE                          0.3993      0.039     10.284      0.000       0.323       0.475\n",
      "SLV                         -0.0094      0.056     -0.167      0.867      -0.120       0.101\n",
      "SOM                               0          0        nan        nan           0           0\n",
      "SRB                         -0.2051      0.074     -2.756      0.006      -0.351      -0.059\n",
      "SSD                               0          0        nan        nan           0           0\n",
      "STP                               0          0        nan        nan           0           0\n",
      "SUR                          0.1952      0.062      3.136      0.002       0.073       0.317\n",
      "SVK                               0          0        nan        nan           0           0\n",
      "SVN                               0          0        nan        nan           0           0\n",
      "SWZ                          0.2357      0.052      4.505      0.000       0.133       0.338\n",
      "SYC                               0          0        nan        nan           0           0\n",
      "SYR                               0          0        nan        nan           0           0\n",
      "TCA                               0          0        nan        nan           0           0\n",
      "TCD                          0.2458      0.033      7.384      0.000       0.181       0.311\n",
      "TGO                          0.2621      0.043      6.081      0.000       0.178       0.347\n",
      "THA                         -0.0996      0.068     -1.461      0.144      -0.233       0.034\n",
      "TJK                         -0.1302      0.055     -2.348      0.019      -0.239      -0.021\n",
      "TKM                               0          0        nan        nan           0           0\n",
      "TLS                               0          0        nan        nan           0           0\n",
      "TON                               0          0        nan        nan           0           0\n",
      "TTO                          0.3434      0.073      4.722      0.000       0.201       0.486\n",
      "TUN                         -0.0128      0.061     -0.209      0.835      -0.133       0.107\n",
      "TUR                               0          0        nan        nan           0           0\n",
      "TUV                               0          0        nan        nan           0           0\n",
      "TZA                          0.1360      0.041      3.292      0.001       0.055       0.217\n",
      "UGA                          0.0700      0.036      1.934      0.053      -0.001       0.141\n",
      "UKR                         -0.1125      0.072     -1.563      0.118      -0.254       0.029\n",
      "URY                               0          0        nan        nan           0           0\n",
      "USA                               0          0        nan        nan           0           0\n",
      "UZB                          0.0006      0.061      0.009      0.993      -0.118       0.119\n",
      "VNM                          0.0273      0.063      0.431      0.666      -0.097       0.152\n",
      "VUT                               0          0        nan        nan           0           0\n",
      "WSM                               0          0        nan        nan           0           0\n",
      "XKX                               0          0        nan        nan           0           0\n",
      "YEM                               0          0        nan        nan           0           0\n",
      "YUG                               0          0        nan        nan           0           0\n",
      "ZAF                          0.3708      0.059      6.245      0.000       0.254       0.487\n",
      "ZMB                         -0.0094      0.038     -0.247      0.805      -0.084       0.065\n",
      "ZWE                          0.2362      0.056      4.206      0.000       0.126       0.346\n",
      "2.0                               0          0        nan        nan           0           0\n",
      "3.0                               0          0        nan        nan           0           0\n",
      "4.0                               0          0        nan        nan           0           0\n",
      "5.0                               0          0        nan        nan           0           0\n",
      "6.0                               0          0        nan        nan           0           0\n",
      "7.0                               0          0        nan        nan           0           0\n",
      "8.0                          0.8068      0.156      5.179      0.000       0.501       1.112\n",
      "9.0                          0.8408      0.137      6.129      0.000       0.572       1.110\n",
      "10.0                         0.8014      0.136      5.908      0.000       0.535       1.067\n",
      "11.0                         0.7467      0.134      5.585      0.000       0.484       1.009\n",
      "12.0                         0.7162      0.132      5.423      0.000       0.457       0.975\n",
      "==============================================================================\n",
      "Omnibus:                      135.073   Durbin-Watson:                   0.434\n",
      "Prob(Omnibus):                  0.000   Jarque-Bera (JB):              706.221\n",
      "Skew:                           0.171   Prob(JB):                    4.43e-154\n",
      "Kurtosis:                       6.219   Cond. No.                     8.38e+23\n",
      "==============================================================================\n",
      "\n",
      "Notes:\n",
      "[1] Standard Errors assume that the covariance matrix of the errors is correctly specified.\n",
      "[2] The smallest eigenvalue is 3.35e-30. This might indicate that there are\n",
      "strong multicollinearity problems or that the design matrix is singular.\n"
     ]
    }
   ],
   "source": [
    "print(health_est3.summary())"
   ]
  },
  {
   "cell_type": "code",
   "execution_count": 68,
   "id": "crazy-queen",
   "metadata": {},
   "outputs": [
    {
     "data": {
      "text/plain": [
       "{'Label': 'Health Replication Only Rating',\n",
       " 'Regression P': 0.0,\n",
       " 'Treatment significance': 2.1541154943776364e-20,\n",
       " 'Treatment coefficient': -0.023413006226278434,\n",
       " 'Sig feature coefficient': {'lag_log_mort': 0.7046,\n",
       "  'hiv_prevalence_pavg_lag1': 0.0134,\n",
       "  'fertility_pavg_lag1': 0.0896,\n",
       "  'gdp_pc_ppp_lag1': -0.0,\n",
       "  'population_lag1': 0.0},\n",
       " 'Sig feature p-values': {'lag_log_mort': 0.0,\n",
       "  'hiv_prevalence_pavg_lag1': 0.0,\n",
       "  'fertility_pavg_lag1': 0.0,\n",
       "  'gdp_pc_ppp_lag1': 0.0,\n",
       "  'population_lag1': 0.0223},\n",
       " 'Number significant FE': 100,\n",
       " 'Mean coefficient on FE': 0.8408437654732221,\n",
       " 'Keyword args': None}"
      ]
     },
     "execution_count": 68,
     "metadata": {},
     "output_type": "execute_result"
    }
   ],
   "source": [
    "# now just with positive rating\n",
    "cols_rep4 = health_data_cols + ['access_water', 'access_sanitation', 'physicians_rate']\n",
    "\n",
    "health_est4 = experiment.evaluate_treatment(health_df[health_df.w_avg_rating > 0], 'mortality_under5_pavg', 'mean_pc_last_5', \n",
    "                          cols_rep3, add_country_feffects=False, add_period_feffects=False,\n",
    "                            add_constant=False, log_target=True, log_treatment=True)\n",
    "\n",
    "experiment.extract_treatment_results('Health Replication Only Rating', health_est3, 'mortality_under5_pavg', 'mean_pc_last_5', health_data_cols, None)"
   ]
  },
  {
   "cell_type": "code",
   "execution_count": 69,
   "id": "fifteen-legislation",
   "metadata": {},
   "outputs": [
    {
     "name": "stdout",
     "output_type": "stream",
     "text": [
      "                                  OLS Regression Results                                  \n",
      "==========================================================================================\n",
      "Dep. Variable:     mortality_under5_pavg   R-squared (uncentered):                   0.999\n",
      "Model:                               OLS   Adj. R-squared (uncentered):              0.999\n",
      "Method:                    Least Squares   F-statistic:                          3.029e+04\n",
      "Date:                   Tue, 24 Aug 2021   Prob (F-statistic):                   2.79e-310\n",
      "Time:                           14:40:17   Log-Likelihood:                          193.43\n",
      "No. Observations:                    206   AIC:                                     -362.9\n",
      "Df Residuals:                        194   BIC:                                     -322.9\n",
      "Df Model:                             12                                                  \n",
      "Covariance Type:               nonrobust                                                  \n",
      "============================================================================================\n",
      "                               coef    std err          t      P>|t|      [0.025      0.975]\n",
      "--------------------------------------------------------------------------------------------\n",
      "mean_pc_last_5              -0.0284      0.008     -3.443      0.001      -0.045      -0.012\n",
      "lag_log_mort                 0.9554      0.018     51.875      0.000       0.919       0.992\n",
      "hiv_prevalence_pavg_lag1     0.0044      0.003      1.544      0.124      -0.001       0.010\n",
      "fertility_pavg_lag1          0.0246      0.012      2.037      0.043       0.001       0.048\n",
      "gdp_pc_ppp_lag1           3.063e-06   2.55e-06      1.201      0.231   -1.97e-06    8.09e-06\n",
      "population_lag1          -3.108e-10   1.85e-10     -1.676      0.095   -6.77e-10    5.49e-11\n",
      "conflict                     0.0332      0.031      1.081      0.281      -0.027       0.094\n",
      "health_satisfactory_proj    -0.0207      0.031     -0.678      0.499      -0.081       0.040\n",
      "w_avg_rating                -0.0142      0.009     -1.506      0.134      -0.033       0.004\n",
      "access_water                 0.0008      0.001      1.280      0.202      -0.000       0.002\n",
      "access_sanitation           -0.0015      0.001     -2.596      0.010      -0.003      -0.000\n",
      "physicians_rate             -0.0018      0.012     -0.155      0.877      -0.025       0.021\n",
      "==============================================================================\n",
      "Omnibus:                        3.224   Durbin-Watson:                   0.729\n",
      "Prob(Omnibus):                  0.199   Jarque-Bera (JB):                3.652\n",
      "Skew:                           0.021   Prob(JB):                        0.161\n",
      "Kurtosis:                       3.651   Cond. No.                     2.91e+08\n",
      "==============================================================================\n",
      "\n",
      "Notes:\n",
      "[1] R² is computed without centering (uncentered) since the model does not contain a constant.\n",
      "[2] Standard Errors assume that the covariance matrix of the errors is correctly specified.\n",
      "[3] The condition number is large, 2.91e+08. This might indicate that there are\n",
      "strong multicollinearity or other numerical problems.\n"
     ]
    }
   ],
   "source": [
    "print(health_est4.summary())"
   ]
  },
  {
   "cell_type": "markdown",
   "id": "changing-origin",
   "metadata": {},
   "source": [
    "### Now trying EconML (on health)"
   ]
  },
  {
   "cell_type": "code",
   "execution_count": 71,
   "id": "democratic-mainstream",
   "metadata": {},
   "outputs": [],
   "source": [
    "health_est_ldml = LinearDML(model_y=LassoCV(), model_t=LassoCV())"
   ]
  },
  {
   "cell_type": "code",
   "execution_count": 72,
   "id": "dried-shock",
   "metadata": {},
   "outputs": [],
   "source": [
    "health_df[\"log_mort\"] = np.log(health_df[\"mortality_under5_pavg\"])\n",
    "health_df[\"log_mean_pc_last_5\"] = np.log(health_df[\"mean_pc_last_5\"])\n",
    "health_df[\"log_proj_rating\"] = np.log(health_df[\"w_avg_rating\"].replace(0, np.nan)).fillna(0).fillna(0)"
   ]
  },
  {
   "cell_type": "code",
   "execution_count": 73,
   "id": "fundamental-chapter",
   "metadata": {},
   "outputs": [],
   "source": [
    "if \"access_water\" not in control_cols:\n",
    "    control_cols += [\"physicians_rate\", \"health_share_gov_exp\"]"
   ]
  },
  {
   "cell_type": "code",
   "execution_count": 74,
   "id": "experienced-channels",
   "metadata": {},
   "outputs": [
    {
     "data": {
      "text/html": [
       "<table class=\"simpletable\">\n",
       "<caption>Coefficient Results</caption>\n",
       "<tr>\n",
       "              <td></td>             <th>point_estimate</th> <th>stderr</th>   <th>zstat</th>   <th>pvalue</th> <th>ci_lower</th> <th>ci_upper</th>\n",
       "</tr>\n",
       "<tr>\n",
       "  <th>hiv_prevalence_pavg_lag1</th>      <td>0.003</td>      <td>0.003</td>   <td>0.763</td>    <td>0.446</td>  <td>-0.003</td>    <td>0.008</td> \n",
       "</tr>\n",
       "<tr>\n",
       "  <th>fertility_pavg_lag1</th>           <td>0.13</td>       <td>0.01</td>   <td>12.896</td>     <td>0.0</td>    <td>0.114</td>    <td>0.147</td> \n",
       "</tr>\n",
       "<tr>\n",
       "  <th>gdp_pc_ppp_lag1</th>                <td>0.0</td>        <td>0.0</td>   <td>12.765</td>     <td>0.0</td>     <td>0.0</td>      <td>0.0</td>  \n",
       "</tr>\n",
       "<tr>\n",
       "  <th>population_lag1</th>                <td>0.0</td>        <td>0.0</td>    <td>2.399</td>    <td>0.016</td>    <td>0.0</td>      <td>0.0</td>  \n",
       "</tr>\n",
       "<tr>\n",
       "  <th>conflict</th>                     <td>-0.142</td>       <td>0.0</td>  <td>-1029.564</td>   <td>0.0</td>   <td>-0.142</td>   <td>-0.142</td> \n",
       "</tr>\n",
       "<tr>\n",
       "  <th>physicians_rate</th>               <td>0.122</td>      <td>0.001</td>  <td>142.684</td>    <td>0.0</td>    <td>0.121</td>    <td>0.124</td> \n",
       "</tr>\n",
       "<tr>\n",
       "  <th>health_share_gov_exp</th>          <td>0.016</td>      <td>0.003</td>   <td>5.239</td>     <td>0.0</td>    <td>0.011</td>    <td>0.021</td> \n",
       "</tr>\n",
       "<tr>\n",
       "  <th>log_proj_rating</th>              <td>-0.015</td>      <td>0.001</td>  <td>-26.81</td>     <td>0.0</td>   <td>-0.016</td>   <td>-0.014</td> \n",
       "</tr>\n",
       "</table>\n",
       "<table class=\"simpletable\">\n",
       "<caption>CATE Intercept Results</caption>\n",
       "<tr>\n",
       "         <td></td>        <th>point_estimate</th> <th>stderr</th>   <th>zstat</th>  <th>pvalue</th> <th>ci_lower</th> <th>ci_upper</th>\n",
       "</tr>\n",
       "<tr>\n",
       "  <th>cate_intercept</th>     <td>-0.717</td>      <td>0.001</td> <td>-487.149</td>   <td>0.0</td>   <td>-0.719</td>   <td>-0.715</td> \n",
       "</tr>\n",
       "</table><br/><br/><sub>A linear parametric conditional average treatment effect (CATE) model was fitted:<br/>$Y = \\Theta(X)\\cdot T + g(X, W) + \\epsilon$<br/>where for every outcome $i$ and treatment $j$ the CATE $\\Theta_{ij}(X)$ has the form:<br/>$\\Theta_{ij}(X) = \\phi(X)' coef_{ij} + cate\\_intercept_{ij}$<br/>where $\\phi(X)$ is the output of the `featurizer` or $X$ if `featurizer`=None. Coefficient Results table portrays the $coef_{ij}$ parameter vector for each outcome $i$ and treatment $j$. Intercept Results table portrays the $cate\\_intercept_{ij}$ parameter.</sub>"
      ],
      "text/plain": [
       "<class 'econml.utilities.Summary'>\n",
       "\"\"\"\n",
       "                               Coefficient Results                               \n",
       "=================================================================================\n",
       "                         point_estimate stderr   zstat   pvalue ci_lower ci_upper\n",
       "---------------------------------------------------------------------------------\n",
       "hiv_prevalence_pavg_lag1          0.003  0.003     0.763  0.446   -0.003    0.008\n",
       "fertility_pavg_lag1                0.13   0.01    12.896    0.0    0.114    0.147\n",
       "gdp_pc_ppp_lag1                     0.0    0.0    12.765    0.0      0.0      0.0\n",
       "population_lag1                     0.0    0.0     2.399  0.016      0.0      0.0\n",
       "conflict                         -0.142    0.0 -1029.564    0.0   -0.142   -0.142\n",
       "physicians_rate                   0.122  0.001   142.684    0.0    0.121    0.124\n",
       "health_share_gov_exp              0.016  0.003     5.239    0.0    0.011    0.021\n",
       "log_proj_rating                  -0.015  0.001    -26.81    0.0   -0.016   -0.014\n",
       "                        CATE Intercept Results                        \n",
       "======================================================================\n",
       "               point_estimate stderr  zstat   pvalue ci_lower ci_upper\n",
       "----------------------------------------------------------------------\n",
       "cate_intercept         -0.717  0.001 -487.149    0.0   -0.719   -0.715\n",
       "----------------------------------------------------------------------\n",
       "\n",
       "<sub>A linear parametric conditional average treatment effect (CATE) model was fitted:\n",
       "$Y = \\Theta(X)\\cdot T + g(X, W) + \\epsilon$\n",
       "where for every outcome $i$ and treatment $j$ the CATE $\\Theta_{ij}(X)$ has the form:\n",
       "$\\Theta_{ij}(X) = \\phi(X)' coef_{ij} + cate\\_intercept_{ij}$\n",
       "where $\\phi(X)$ is the output of the `featurizer` or $X$ if `featurizer`=None. Coefficient Results table portrays the $coef_{ij}$ parameter vector for each outcome $i$ and treatment $j$. Intercept Results table portrays the $cate\\_intercept_{ij}$ parameter.</sub>\n",
       "\"\"\""
      ]
     },
     "execution_count": 74,
     "metadata": {},
     "output_type": "execute_result"
    }
   ],
   "source": [
    "Y, T, X, W = experiment.assemble_econml_tuples(health_df, \"log_mort\", \"log_mean_pc_last_5\",\n",
    "                                              control_cols + [\"log_proj_rating\"])\n",
    "health_est_ldml.fit(Y, T, X=X, W=W)\n",
    "health_est_ldml.summary()"
   ]
  },
  {
   "cell_type": "code",
   "execution_count": 75,
   "id": "intimate-wagner",
   "metadata": {},
   "outputs": [
    {
     "data": {
      "text/plain": [
       "count    9464.000000\n",
       "mean        0.145619\n",
       "std         0.812503\n",
       "min         0.000000\n",
       "25%         0.000000\n",
       "50%         0.000000\n",
       "75%         0.000000\n",
       "max         6.000000\n",
       "Name: w_avg_rating, dtype: float64"
      ]
     },
     "execution_count": 75,
     "metadata": {},
     "output_type": "execute_result"
    }
   ],
   "source": [
    "health_df.w_avg_rating.describe()"
   ]
  },
  {
   "cell_type": "code",
   "execution_count": 76,
   "id": "secondary-wrestling",
   "metadata": {},
   "outputs": [
    {
     "name": "stderr",
     "output_type": "stream",
     "text": [
      "invalid value encountered in log\n"
     ]
    }
   ],
   "source": [
    "health_df['w_avg_rating_std'] = (health_df['w_avg_rating'] - health_df['w_avg_rating'].mean()) / health_df['w_avg_rating'].std()\n",
    "health_df['log_scale_avg_rating'] = experiment.safe_log(health_df, 'w_avg_rating_std')"
   ]
  },
  {
   "cell_type": "code",
   "execution_count": 77,
   "id": "social-psychiatry",
   "metadata": {},
   "outputs": [
    {
     "data": {
      "text/html": [
       "<table class=\"simpletable\">\n",
       "<caption>Coefficient Results</caption>\n",
       "<tr>\n",
       "              <td></td>             <th>point_estimate</th> <th>stderr</th>   <th>zstat</th>  <th>pvalue</th> <th>ci_lower</th> <th>ci_upper</th>\n",
       "</tr>\n",
       "<tr>\n",
       "  <th>hiv_prevalence_pavg_lag1</th>      <td>0.032</td>      <td>0.006</td>   <td>5.319</td>    <td>0.0</td>    <td>0.022</td>    <td>0.042</td> \n",
       "</tr>\n",
       "<tr>\n",
       "  <th>fertility_pavg_lag1</th>          <td>-0.126</td>      <td>0.013</td>  <td>-9.386</td>    <td>0.0</td>   <td>-0.148</td>   <td>-0.104</td> \n",
       "</tr>\n",
       "<tr>\n",
       "  <th>gdp_pc_ppp_lag1</th>                <td>0.0</td>        <td>0.0</td>    <td>2.177</td>   <td>0.029</td>    <td>0.0</td>      <td>0.0</td>  \n",
       "</tr>\n",
       "<tr>\n",
       "  <th>population_lag1</th>                <td>0.0</td>        <td>0.0</td>    <td>0.262</td>   <td>0.793</td>   <td>-0.0</td>      <td>0.0</td>  \n",
       "</tr>\n",
       "<tr>\n",
       "  <th>conflict</th>                      <td>0.818</td>       <td>0.0</td>  <td>5528.393</td>   <td>0.0</td>    <td>0.818</td>    <td>0.818</td> \n",
       "</tr>\n",
       "<tr>\n",
       "  <th>physicians_rate</th>              <td>-0.123</td>       <td>0.0</td>  <td>-297.574</td>   <td>0.0</td>   <td>-0.124</td>   <td>-0.122</td> \n",
       "</tr>\n",
       "<tr>\n",
       "  <th>health_share_gov_exp</th>         <td>-0.099</td>      <td>0.019</td>  <td>-5.187</td>    <td>0.0</td>    <td>-0.13</td>   <td>-0.067</td> \n",
       "</tr>\n",
       "<tr>\n",
       "  <th>log_mean_pc_last_5</th>            <td>0.217</td>      <td>0.007</td>   <td>32.99</td>    <td>0.0</td>    <td>0.206</td>    <td>0.227</td> \n",
       "</tr>\n",
       "</table>\n",
       "<table class=\"simpletable\">\n",
       "<caption>CATE Intercept Results</caption>\n",
       "<tr>\n",
       "         <td></td>        <th>point_estimate</th> <th>stderr</th>  <th>zstat</th> <th>pvalue</th> <th>ci_lower</th> <th>ci_upper</th>\n",
       "</tr>\n",
       "<tr>\n",
       "  <th>cate_intercept</th>      <td>0.083</td>      <td>0.002</td> <td>35.327</td>   <td>0.0</td>    <td>0.079</td>    <td>0.087</td> \n",
       "</tr>\n",
       "</table><br/><br/><sub>A linear parametric conditional average treatment effect (CATE) model was fitted:<br/>$Y = \\Theta(X)\\cdot T + g(X, W) + \\epsilon$<br/>where for every outcome $i$ and treatment $j$ the CATE $\\Theta_{ij}(X)$ has the form:<br/>$\\Theta_{ij}(X) = \\phi(X)' coef_{ij} + cate\\_intercept_{ij}$<br/>where $\\phi(X)$ is the output of the `featurizer` or $X$ if `featurizer`=None. Coefficient Results table portrays the $coef_{ij}$ parameter vector for each outcome $i$ and treatment $j$. Intercept Results table portrays the $cate\\_intercept_{ij}$ parameter.</sub>"
      ],
      "text/plain": [
       "<class 'econml.utilities.Summary'>\n",
       "\"\"\"\n",
       "                              Coefficient Results                               \n",
       "================================================================================\n",
       "                         point_estimate stderr  zstat   pvalue ci_lower ci_upper\n",
       "--------------------------------------------------------------------------------\n",
       "hiv_prevalence_pavg_lag1          0.032  0.006    5.319    0.0    0.022    0.042\n",
       "fertility_pavg_lag1              -0.126  0.013   -9.386    0.0   -0.148   -0.104\n",
       "gdp_pc_ppp_lag1                     0.0    0.0    2.177  0.029      0.0      0.0\n",
       "population_lag1                     0.0    0.0    0.262  0.793     -0.0      0.0\n",
       "conflict                          0.818    0.0 5528.393    0.0    0.818    0.818\n",
       "physicians_rate                  -0.123    0.0 -297.574    0.0   -0.124   -0.122\n",
       "health_share_gov_exp             -0.099  0.019   -5.187    0.0    -0.13   -0.067\n",
       "log_mean_pc_last_5                0.217  0.007    32.99    0.0    0.206    0.227\n",
       "                       CATE Intercept Results                       \n",
       "====================================================================\n",
       "               point_estimate stderr zstat  pvalue ci_lower ci_upper\n",
       "--------------------------------------------------------------------\n",
       "cate_intercept          0.083  0.002 35.327    0.0    0.079    0.087\n",
       "--------------------------------------------------------------------\n",
       "\n",
       "<sub>A linear parametric conditional average treatment effect (CATE) model was fitted:\n",
       "$Y = \\Theta(X)\\cdot T + g(X, W) + \\epsilon$\n",
       "where for every outcome $i$ and treatment $j$ the CATE $\\Theta_{ij}(X)$ has the form:\n",
       "$\\Theta_{ij}(X) = \\phi(X)' coef_{ij} + cate\\_intercept_{ij}$\n",
       "where $\\phi(X)$ is the output of the `featurizer` or $X$ if `featurizer`=None. Coefficient Results table portrays the $coef_{ij}$ parameter vector for each outcome $i$ and treatment $j$. Intercept Results table portrays the $cate\\_intercept_{ij}$ parameter.</sub>\n",
       "\"\"\""
      ]
     },
     "execution_count": 77,
     "metadata": {},
     "output_type": "execute_result"
    }
   ],
   "source": [
    "Y, T, X, W = experiment.assemble_econml_tuples(health_df[health_df.w_avg_rating > 0], \"log_mort\", \"log_scale_avg_rating\",\n",
    "                                              control_cols + [\"log_mean_pc_last_5\"])\n",
    "\n",
    "health_est_ldml.fit(Y, T, X=X, W=W)\n",
    "health_est_ldml.summary()"
   ]
  },
  {
   "cell_type": "code",
   "execution_count": 79,
   "id": "finnish-samuel",
   "metadata": {},
   "outputs": [
    {
     "data": {
      "image/png": "[encoded data removed]",
      "text/latex": [
       "$\\displaystyle 0.0592183346838764$"
      ],
      "text/plain": [
       "0.059218334683876384"
      ]
     },
     "execution_count": 79,
     "metadata": {},
     "output_type": "execute_result"
    }
   ],
   "source": [
    "2 ** (0.083) - 1"
   ]
  },
  {
   "cell_type": "markdown",
   "id": "stretch-symposium",
   "metadata": {},
   "source": [
    "## WASH replications"
   ]
  },
  {
   "cell_type": "code",
   "execution_count": null,
   "id": "backed-season",
   "metadata": {},
   "outputs": [],
   "source": [
    "# Access = a0 + a1 * Aid + a2 * Aid^2 + beta * controls + country FE + error term"
   ]
  },
  {
   "cell_type": "markdown",
   "id": "objective-instrumentation",
   "metadata": {},
   "source": [
    "* Access (country, year) = access_water or access_sanitation  (each of them is separately used as the dependent variable, for Table 4 and Table 5, while the other is included as a lagged term in the controls). They also split urban and rural, but I think we can ignore this for now\n",
    "* Aid (country, year) = Aid targeted to the water and sanitation sector as a percentage of GDP. So Aid = 100 * commit_wash / (gdp_pc * population)\n",
    "* Controls (country, year): \n",
    "   - adult_literacy; log(gdp_pc), lagged(access_water or access_sanitation) and 3 others that are not exactly in the dataset but have reasonably close proxies:\n",
    "   - Government spending on health (% of GDP)  is not in the dataset, but a reasonably close one is health_share_gov_exp = Government health expenditure (% of general government expenditure)\n",
    "   - Age dependency ratio is not in the dataset, but a reasonably close one is young_population\n",
    "   - Government stability from ICRG is not in the dataset, but reasonably close ones are conflict and freedom_house\n",
    "* Other details:\n",
    "   - Period = 1990-2010\n",
    "   - Sample restricted to SSA countries only"
   ]
  },
  {
   "cell_type": "code",
   "execution_count": 86,
   "id": "horizontal-evidence",
   "metadata": {},
   "outputs": [],
   "source": [
    "wash_df = health_df.copy()"
   ]
  },
  {
   "cell_type": "code",
   "execution_count": 87,
   "id": "chemical-coordinate",
   "metadata": {},
   "outputs": [
    {
     "name": "stdout",
     "output_type": "stream",
     "text": [
      "Generating mean per capita commitments over prior years\n",
      "Marking whether a satisfactory project concluded in that year\n",
      "Taking maximum of weighted rating of concluded projects in prior period\n"
     ]
    }
   ],
   "source": [
    "wash_df = experiment.add_project_and_aid_cols(wash_df, \"wash\")\n",
    "\n",
    "wash_df['wash_aid'] = wash_df['mean_pc_last_5'] * 100 / (wash_df['gdp_pc_ppp'])\n",
    "wash_df['wash_aid_sq'] = wash_df['wash_aid'] ** 2"
   ]
  },
  {
   "cell_type": "code",
   "execution_count": 88,
   "id": "mounted-defensive",
   "metadata": {},
   "outputs": [
    {
     "data": {
      "text/html": [
       "<div>\n",
       "<style scoped>\n",
       "    .dataframe tbody tr th:only-of-type {\n",
       "        vertical-align: middle;\n",
       "    }\n",
       "\n",
       "    .dataframe tbody tr th {\n",
       "        vertical-align: top;\n",
       "    }\n",
       "\n",
       "    .dataframe thead th {\n",
       "        text-align: right;\n",
       "    }\n",
       "</style>\n",
       "<table border=\"1\" class=\"dataframe\">\n",
       "  <thead>\n",
       "    <tr style=\"text-align: right;\">\n",
       "      <th></th>\n",
       "      <th>year</th>\n",
       "      <th>country</th>\n",
       "      <th>commit_wash</th>\n",
       "      <th>population</th>\n",
       "      <th>mean_pc_last_5</th>\n",
       "      <th>gdp_pc_ppp</th>\n",
       "      <th>wash_aid</th>\n",
       "      <th>wash_aid_sq</th>\n",
       "    </tr>\n",
       "  </thead>\n",
       "  <tbody>\n",
       "    <tr>\n",
       "      <th>8674</th>\n",
       "      <td>2007</td>\n",
       "      <td>ZWE</td>\n",
       "      <td>3937525.0</td>\n",
       "      <td>12255922.0</td>\n",
       "      <td>7.661863</td>\n",
       "      <td>2133.8081</td>\n",
       "      <td>0.359070</td>\n",
       "      <td>0.128931</td>\n",
       "    </tr>\n",
       "    <tr>\n",
       "      <th>8843</th>\n",
       "      <td>2008</td>\n",
       "      <td>ZWE</td>\n",
       "      <td>80993723.0</td>\n",
       "      <td>12379549.0</td>\n",
       "      <td>8.221996</td>\n",
       "      <td>1739.2428</td>\n",
       "      <td>0.472734</td>\n",
       "      <td>0.223478</td>\n",
       "    </tr>\n",
       "    <tr>\n",
       "      <th>9012</th>\n",
       "      <td>2009</td>\n",
       "      <td>ZWE</td>\n",
       "      <td>23370839.0</td>\n",
       "      <td>12526968.0</td>\n",
       "      <td>8.442636</td>\n",
       "      <td>1925.3644</td>\n",
       "      <td>0.438495</td>\n",
       "      <td>0.192278</td>\n",
       "    </tr>\n",
       "    <tr>\n",
       "      <th>9181</th>\n",
       "      <td>2010</td>\n",
       "      <td>ZWE</td>\n",
       "      <td>17334374.0</td>\n",
       "      <td>12697723.0</td>\n",
       "      <td>14.347361</td>\n",
       "      <td>2273.2002</td>\n",
       "      <td>0.631153</td>\n",
       "      <td>0.398354</td>\n",
       "    </tr>\n",
       "    <tr>\n",
       "      <th>9350</th>\n",
       "      <td>2011</td>\n",
       "      <td>ZWE</td>\n",
       "      <td>26854875.0</td>\n",
       "      <td>12894316.0</td>\n",
       "      <td>14.023592</td>\n",
       "      <td>2556.2783</td>\n",
       "      <td>0.548594</td>\n",
       "      <td>0.300955</td>\n",
       "    </tr>\n",
       "  </tbody>\n",
       "</table>\n",
       "</div>"
      ],
      "text/plain": [
       "      year country  commit_wash  population  mean_pc_last_5  gdp_pc_ppp  \\\n",
       "8674  2007     ZWE    3937525.0  12255922.0        7.661863   2133.8081   \n",
       "8843  2008     ZWE   80993723.0  12379549.0        8.221996   1739.2428   \n",
       "9012  2009     ZWE   23370839.0  12526968.0        8.442636   1925.3644   \n",
       "9181  2010     ZWE   17334374.0  12697723.0       14.347361   2273.2002   \n",
       "9350  2011     ZWE   26854875.0  12894316.0       14.023592   2556.2783   \n",
       "\n",
       "      wash_aid  wash_aid_sq  \n",
       "8674  0.359070     0.128931  \n",
       "8843  0.472734     0.223478  \n",
       "9012  0.438495     0.192278  \n",
       "9181  0.631153     0.398354  \n",
       "9350  0.548594     0.300955  "
      ]
     },
     "execution_count": 88,
     "metadata": {},
     "output_type": "execute_result"
    }
   ],
   "source": [
    "wash_df[wash_df.wash_aid.notna()][['year', 'country', 'commit_wash', 'population', 'mean_pc_last_5', 'gdp_pc_ppp', 'wash_aid', 'wash_aid_sq']].tail()"
   ]
  },
  {
   "cell_type": "code",
   "execution_count": 89,
   "id": "industrial-assurance",
   "metadata": {},
   "outputs": [],
   "source": [
    "wash_df['log_gdp_pc'] = experiment.safe_log(wash_df, 'gdp_pc_ppp')\n",
    "wash_df = experiment.take_avg_and_lag(wash_df, \"health_share_gov_exp\")\n",
    "wash_df = experiment.take_avg_and_lag(wash_df, \"adult_literacy\")"
   ]
  },
  {
   "cell_type": "code",
   "execution_count": 90,
   "id": "suspended-bulgarian",
   "metadata": {},
   "outputs": [],
   "source": [
    "wash_df['access_water_pavg'] = explore_util.rolling_country_agg(wash_df, \"access_water\", 5, \"mean\")\n",
    "wash_df['access_san_pavg'] = explore_util.rolling_country_agg(wash_df, \"access_sanitation\", 5, \"mean\")"
   ]
  },
  {
   "cell_type": "code",
   "execution_count": 91,
   "id": "novel-insider",
   "metadata": {},
   "outputs": [],
   "source": [
    "wash_df = explore_util.lag_variable_simple(wash_df, 'access_water_pavg', 1)\n",
    "wash_df = explore_util.lag_variable_simple(wash_df, \"access_san_pavg\", 1)\n",
    "wash_df = explore_util.lag_variable_simple(wash_df, 'access_water_pavg', 5)\n",
    "wash_df = explore_util.lag_variable_simple(wash_df, \"access_san_pavg\", 5)"
   ]
  },
  {
   "cell_type": "code",
   "execution_count": 92,
   "id": "through-cassette",
   "metadata": {},
   "outputs": [],
   "source": [
    "wash_controls_constant = ['adult_literacy_pavg', 'log_gdp_pc', 'health_share_gov_exp_pavg_lag1',\n",
    "                'young_population', 'conflict', 'freedom_house']\n",
    "\n",
    "wash_access_cols = ['access_water_pavg', 'access_san_pavg', 'access_water_pavg_lag5', 'access_san_pavg_lag5']\n",
    "wash_proj_cols = ['wash_satisfactory_proj', 'wash_max_proj_5yr']"
   ]
  },
  {
   "cell_type": "code",
   "execution_count": 97,
   "id": "exotic-planet",
   "metadata": {},
   "outputs": [],
   "source": [
    "wash_df['log_wash_aid_sq'] = experiment.safe_log(wash_df, 'wash_aid_sq')"
   ]
  },
  {
   "cell_type": "code",
   "execution_count": 98,
   "id": "expired-table",
   "metadata": {},
   "outputs": [
    {
     "data": {
      "text/plain": [
       "{'Label': 'Access to Water Estimate',\n",
       " 'Regression P': 1.7772149560775201e-193,\n",
       " 'Treatment significance': 2.651819402655426e-07,\n",
       " 'Treatment coefficient': 0.06708558763132336,\n",
       " 'Sig feature coefficient': {'young_population': 0.0177},\n",
       " 'Sig feature p-values': {'young_population': 0.0115},\n",
       " 'Number significant FE': 47,\n",
       " 'Mean coefficient on FE': 2.8390223875207625,\n",
       " 'Keyword args': None}"
      ]
     },
     "execution_count": 98,
     "metadata": {},
     "output_type": "execute_result"
    }
   ],
   "source": [
    "remove_for_water = [\"access_san_pavg\", \"access_water_pavg_lag5\"]\n",
    "# remove_for_water = []\n",
    "\n",
    "water_est = experiment.evaluate_treatment(wash_df[wash_df.gdp_pc_ppp < 10000], \"access_water_pavg\", \"wash_aid\",\n",
    "                                          wash_controls_constant + wash_access_cols + wash_proj_cols, # + ['log_wash_aid_sq'],\n",
    "                                          remove_feature_cols=remove_for_water,\n",
    "                                          log_target=True, log_treatment=True, add_constant=True, \n",
    "                                          add_country_feffects=True)\n",
    "\n",
    "experiment.extract_treatment_results('Access to Water Estimate', water_est, 'access_water_pavg', 'wash_aid', wash_controls_constant, None)"
   ]
  },
  {
   "cell_type": "code",
   "execution_count": 99,
   "id": "remarkable-pointer",
   "metadata": {},
   "outputs": [
    {
     "name": "stdout",
     "output_type": "stream",
     "text": [
      "Doubling effect:  0.0475982738409817\n",
      "                            OLS Regression Results                            \n",
      "==============================================================================\n",
      "Dep. Variable:      access_water_pavg   R-squared:                       0.785\n",
      "Model:                            OLS   Adj. R-squared:                  0.757\n",
      "Method:                 Least Squares   F-statistic:                     27.63\n",
      "Date:                Tue, 24 Aug 2021   Prob (F-statistic):          1.78e-193\n",
      "Time:                        15:18:08   Log-Likelihood:                 500.60\n",
      "No. Observations:                 857   AIC:                            -799.2\n",
      "Df Residuals:                     756   BIC:                            -319.1\n",
      "Df Model:                         100                                         \n",
      "Covariance Type:            nonrobust                                         \n",
      "==================================================================================================\n",
      "                                     coef    std err          t      P>|t|      [0.025      0.975]\n",
      "--------------------------------------------------------------------------------------------------\n",
      "const                              2.8390      0.718      3.956      0.000       1.430       4.248\n",
      "adult_literacy_pavg                0.0042      0.003      1.544      0.123      -0.001       0.009\n",
      "log_gdp_pc                        -0.0708      0.062     -1.134      0.257      -0.193       0.052\n",
      "health_share_gov_exp_pavg_lag1     0.0019      0.004      0.527      0.599      -0.005       0.009\n",
      "young_population                   0.0177      0.007      2.533      0.012       0.004       0.031\n",
      "conflict                          -0.0118      0.031     -0.376      0.707      -0.074       0.050\n",
      "freedom_house                      0.0099      0.014      0.692      0.489      -0.018       0.038\n",
      "access_san_pavg_lag5               0.0187      0.003      5.968      0.000       0.013       0.025\n",
      "wash_satisfactory_proj             0.0112      0.022      0.499      0.618      -0.033       0.055\n",
      "wash_max_proj_5yr                  0.0059      0.006      0.994      0.321      -0.006       0.017\n",
      "wash_aid                           0.0671      0.013      5.194      0.000       0.042       0.092\n",
      "AGO                                0.0488      0.194      0.252      0.801      -0.331       0.429\n",
      "ALB                                0.0325      0.236      0.138      0.891      -0.431       0.495\n",
      "ARM                               -0.0276      0.247     -0.112      0.911      -0.512       0.457\n",
      "AZE                                0.2221      0.243      0.913      0.361      -0.255       0.699\n",
      "BDI                                0.0529      0.184      0.287      0.775      -0.309       0.415\n",
      "BEN                                0.8581      0.175      4.903      0.000       0.514       1.202\n",
      "BFA                                0.7854      0.165      4.751      0.000       0.461       1.110\n",
      "BGD                                0.5709      0.179      3.195      0.001       0.220       0.922\n",
      "BGR                             2.518e-15   2.59e-15      0.973      0.331   -2.56e-15     7.6e-15\n",
      "BIH                               -0.0032      0.253     -0.013      0.990      -0.501       0.494\n",
      "BLR                                0.2866      0.272      1.052      0.293      -0.248       0.821\n",
      "BLZ                               -0.2268      0.232     -0.978      0.329      -0.682       0.229\n",
      "BOL                                0.5408      0.220      2.455      0.014       0.108       0.973\n",
      "BTN                                0.9560      0.189      5.050      0.000       0.584       1.328\n",
      "BWA                            -1.637e-15   1.79e-15     -0.914      0.361   -5.15e-15    1.88e-15\n",
      "CAF                                0.5191      0.174      2.984      0.003       0.178       0.861\n",
      "CHL                             3.365e-15    1.7e-15      1.976      0.049    2.12e-17    6.71e-15\n",
      "CHN                                0.6583      0.247      2.662      0.008       0.173       1.144\n",
      "CIV                                0.9230      0.173      5.326      0.000       0.583       1.263\n",
      "CMR                                0.1400      0.185      0.758      0.449      -0.223       0.503\n",
      "COD                                0.0322      0.196      0.164      0.870      -0.353       0.417\n",
      "COG                                0.8316      0.225      3.695      0.000       0.390       1.273\n",
      "COL                                0.3440      0.234      1.469      0.142      -0.116       0.804\n",
      "COM                                0.7801      0.180      4.326      0.000       0.426       1.134\n",
      "CPV                                0.4829      0.210      2.300      0.022       0.071       0.895\n",
      "CRI                             2.552e-15    7.6e-16      3.358      0.001    1.06e-15    4.04e-15\n",
      "DMA                            -1.419e-15   1.18e-15     -1.200      0.231   -3.74e-15    9.03e-16\n",
      "DOM                                0.0310      0.234      0.133      0.895      -0.428       0.490\n",
      "DZA                                0.3173      0.238      1.335      0.182      -0.149       0.784\n",
      "ECU                                0.1563      0.223      0.701      0.484      -0.282       0.594\n",
      "EGY                                0.1775      0.208      0.853      0.394      -0.231       0.586\n",
      "ETH                                0.1052      0.171      0.615      0.539      -0.231       0.441\n",
      "FJI                             1.596e-15    1.5e-15      1.062      0.289   -1.36e-15    4.55e-15\n",
      "FSM                            -6.996e-16   1.56e-15     -0.447      0.655   -3.77e-15    2.37e-15\n",
      "GEO                               -0.0949      0.258     -0.368      0.713      -0.602       0.412\n",
      "GHA                                0.9257      0.210      4.412      0.000       0.514       1.338\n",
      "GIN                                0.7671      0.163      4.714      0.000       0.448       1.086\n",
      "GMB                                0.0615      0.186      0.331      0.741      -0.303       0.426\n",
      "GNB                                0.5460      0.173      3.158      0.002       0.207       0.885\n",
      "GNQ                            -2.749e-15   1.44e-15     -1.905      0.057   -5.58e-15    8.44e-17\n",
      "GRD                            -3.889e-15   1.47e-15     -2.645      0.008   -6.78e-15      -1e-15\n",
      "GTM                                0.3220      0.196      1.646      0.100      -0.062       0.706\n",
      "GUY                               -0.1009      0.236     -0.428      0.669      -0.563       0.362\n",
      "HND                                0.0570      0.208      0.274      0.784      -0.351       0.465\n",
      "HTI                                0.5372      0.187      2.879      0.004       0.171       0.904\n",
      "IDN                                0.6551      0.234      2.802      0.005       0.196       1.114\n",
      "IND                                1.0753      0.210      5.126      0.000       0.663       1.487\n",
      "IRN                             1.813e-15   7.43e-16      2.439      0.015    3.54e-16    3.27e-15\n",
      "IRQ                               -0.1238      0.217     -0.571      0.568      -0.550       0.302\n",
      "JAM                                0.1121      0.217      0.517      0.606      -0.314       0.538\n",
      "JOR                               -0.4705      0.289     -1.626      0.104      -1.039       0.098\n",
      "KAZ                            -1.999e-15   1.28e-15     -1.563      0.118   -4.51e-15    5.11e-16\n",
      "KEN                                0.1486      0.198      0.749      0.454      -0.241       0.538\n",
      "KGZ                               -0.4767      0.254     -1.875      0.061      -0.976       0.022\n",
      "KHM                                0.4012      0.222      1.808      0.071      -0.034       0.837\n",
      "KIR                            -5.036e-15   1.76e-15     -2.869      0.004   -8.48e-15   -1.59e-15\n",
      "LAO                                0.2544      0.188      1.353      0.176      -0.115       0.624\n",
      "LBN                             4.484e-15   1.42e-15      3.157      0.002     1.7e-15    7.27e-15\n",
      "LBR                                0.6380      0.182      3.510      0.000       0.281       0.995\n",
      "LKA                                0.0909      0.228      0.399      0.690      -0.356       0.537\n",
      "LSO                                0.6345      0.227      2.791      0.005       0.188       1.081\n",
      "MAR                                0.3644      0.182      2.006      0.045       0.008       0.721\n",
      "MDA                                0.2538      0.250      1.014      0.311      -0.238       0.745\n",
      "MDG                                0.2000      0.197      1.013      0.311      -0.188       0.587\n",
      "MHL                             5.886e-15   1.98e-15      2.966      0.003    1.99e-15    9.78e-15\n",
      "MKD                             1.393e-15   9.45e-16      1.474      0.141   -4.62e-16    3.25e-15\n",
      "MLI                                0.4510      0.165      2.734      0.006       0.127       0.775\n",
      "MMR                                0.0855      0.251      0.341      0.733      -0.407       0.579\n",
      "MNG                                0.1533      0.243      0.631      0.528      -0.323       0.630\n",
      "MOZ                                0.1025      0.183      0.560      0.575      -0.257       0.461\n",
      "MRT                                0.3118      0.175      1.785      0.075      -0.031       0.655\n",
      "MUS                             2.695e-15   8.74e-16      3.083      0.002    9.79e-16    4.41e-15\n",
      "MWI                                0.0909      0.192      0.474      0.636      -0.285       0.467\n",
      "NAM                                0.6755      0.219      3.078      0.002       0.245       1.106\n",
      "NER                                0.4417      0.167      2.639      0.008       0.113       0.770\n",
      "NGA                                0.2504      0.176      1.421      0.156      -0.095       0.596\n",
      "NIC                                0.1945      0.195      0.996      0.320      -0.189       0.578\n",
      "NPL                                0.9086      0.183      4.952      0.000       0.548       1.269\n",
      "PAK                                0.8182      0.166      4.940      0.000       0.493       1.143\n",
      "PER                                0.2587      0.216      1.198      0.231      -0.165       0.683\n",
      "PHL                                0.2338      0.227      1.029      0.304      -0.212       0.680\n",
      "PNG                                0.0090      0.190      0.047      0.962      -0.364       0.382\n",
      "PRY                                0.1063      0.226      0.469      0.639      -0.338       0.551\n",
      "RWA                               -0.0624      0.186     -0.334      0.738      -0.428       0.304\n",
      "SDN                                0.4141      0.172      2.402      0.017       0.076       0.753\n",
      "SEN                                0.2809      0.165      1.704      0.089      -0.043       0.605\n",
      "SLB                                0.4732      0.207      2.281      0.023       0.066       0.880\n",
      "SLE                                0.5046      0.177      2.849      0.005       0.157       0.852\n",
      "SLV                                0.2528      0.208      1.216      0.224      -0.155       0.661\n",
      "SRB                              1.37e-16    2.4e-17      5.696      0.000    8.98e-17    1.84e-16\n",
      "STP                                0.6199      0.213      2.912      0.004       0.202       1.038\n",
      "SWZ                               -0.1455      0.203     -0.716      0.474      -0.544       0.253\n",
      "TCD                                0.3660      0.162      2.262      0.024       0.048       0.684\n",
      "TGO                                0.5130      0.192      2.676      0.008       0.137       0.889\n",
      "THA                              2.48e-17    1.4e-17      1.775      0.076   -2.62e-18    5.22e-17\n",
      "TJK                               -0.8697      0.271     -3.213      0.001      -1.401      -0.338\n",
      "TKM                               -0.5143      0.231     -2.225      0.026      -0.968      -0.061\n",
      "TON                               -0.5117      0.257     -1.993      0.047      -1.016      -0.008\n",
      "TUN                                0.1958      0.211      0.928      0.353      -0.218       0.610\n",
      "TZA                                0.4389      0.206      2.136      0.033       0.035       0.842\n",
      "UGA                                0.3065      0.188      1.633      0.103      -0.062       0.675\n",
      "UKR                                0.2283      0.272      0.839      0.402      -0.306       0.763\n",
      "UZB                               -0.3312      0.251     -1.319      0.188      -0.824       0.162\n",
      "VNM                                0.3821      0.232      1.650      0.099      -0.073       0.837\n",
      "VUT                                0.3024      0.204      1.483      0.138      -0.098       0.702\n",
      "WSM                               -0.5139      0.262     -1.962      0.050      -1.028       0.000\n",
      "ZAF                                     0          0        nan        nan           0           0\n",
      "ZMB                               -0.1597      0.185     -0.863      0.388      -0.523       0.203\n",
      "ZWE                                0.2159      0.246      0.879      0.380      -0.266       0.698\n",
      "==============================================================================\n",
      "Omnibus:                     2007.385   Durbin-Watson:                   1.989\n",
      "Prob(Omnibus):                  0.000   Jarque-Bera (JB):         11349884.085\n",
      "Skew:                         -21.133   Prob(JB):                         0.00\n",
      "Kurtosis:                     565.195   Cond. No.                     4.41e+19\n",
      "==============================================================================\n",
      "\n",
      "Notes:\n",
      "[1] Standard Errors assume that the covariance matrix of the errors is correctly specified.\n",
      "[2] The smallest eigenvalue is 3.95e-33. This might indicate that there are\n",
      "strong multicollinearity problems or that the design matrix is singular.\n"
     ]
    }
   ],
   "source": [
    "# effect of doubling:\n",
    "print(\"Doubling effect: \", 2 ** (water_est.params['wash_aid']) - 1)\n",
    "print(water_est.summary())"
   ]
  },
  {
   "cell_type": "code",
   "execution_count": 116,
   "id": "brown-japan",
   "metadata": {},
   "outputs": [
    {
     "name": "stdout",
     "output_type": "stream",
     "text": [
      "                            OLS Regression Results                            \n",
      "==============================================================================\n",
      "Dep. Variable:        access_san_pavg   R-squared:                       0.959\n",
      "Model:                            OLS   Adj. R-squared:                  0.954\n",
      "Method:                 Least Squares   F-statistic:                     177.2\n",
      "Date:                Tue, 24 Aug 2021   Prob (F-statistic):               0.00\n",
      "Time:                        15:27:50   Log-Likelihood:                 449.60\n",
      "No. Observations:                 859   AIC:                            -697.2\n",
      "Df Residuals:                     758   BIC:                            -216.9\n",
      "Df Model:                         100                                         \n",
      "Covariance Type:            nonrobust                                         \n",
      "==================================================================================================\n",
      "                                     coef    std err          t      P>|t|      [0.025      0.975]\n",
      "--------------------------------------------------------------------------------------------------\n",
      "const                              4.4865      0.754      5.951      0.000       3.007       5.966\n",
      "adult_literacy_pavg                0.0028      0.003      0.958      0.338      -0.003       0.009\n",
      "log_gdp_pc                        -0.1852      0.070     -2.637      0.009      -0.323      -0.047\n",
      "health_share_gov_exp_pavg_lag1    -0.0038      0.004     -1.019      0.308      -0.011       0.004\n",
      "young_population                  -0.0123      0.006     -1.959      0.050      -0.025    2.42e-05\n",
      "conflict                          -0.0057      0.033     -0.171      0.864      -0.071       0.060\n",
      "freedom_house                     -0.0050      0.015     -0.331      0.741      -0.034       0.025\n",
      "access_water_pavg_lag5             0.0216      0.003      8.299      0.000       0.016       0.027\n",
      "w_avg_rating                       0.0043      0.004      0.976      0.330      -0.004       0.013\n",
      "wash_aid                           0.0530      0.014      3.805      0.000       0.026       0.080\n",
      "AGO                                0.3516      0.206      1.707      0.088      -0.053       0.756\n",
      "ALB                               -0.2311      0.250     -0.924      0.356      -0.722       0.260\n",
      "ARM                               -0.1789      0.258     -0.693      0.489      -0.686       0.328\n",
      "AZE                                0.1190      0.255      0.466      0.641      -0.382       0.620\n",
      "BDI                               -0.4547      0.209     -2.178      0.030      -0.864      -0.045\n",
      "BEN                               -1.2493      0.186     -6.699      0.000      -1.615      -0.883\n",
      "BFA                               -1.1490      0.185     -6.210      0.000      -1.512      -0.786\n",
      "BGD                               -0.3155      0.201     -1.568      0.117      -0.711       0.080\n",
      "BGR                             3.402e-18   4.83e-15      0.001      0.999   -9.48e-15    9.49e-15\n",
      "BIH                               -0.2084      0.263     -0.794      0.428      -0.724       0.307\n",
      "BLR                               -0.0305      0.287     -0.106      0.915      -0.593       0.532\n",
      "BLZ                                0.2187      0.225      0.970      0.332      -0.224       0.661\n",
      "BOL                               -0.5066      0.225     -2.250      0.025      -0.949      -0.065\n",
      "BTN                               -0.5856      0.196     -2.984      0.003      -0.971      -0.200\n",
      "BWA                             1.093e-14   1.71e-15      6.371      0.000    7.56e-15    1.43e-14\n",
      "CAF                               -1.1052      0.191     -5.781      0.000      -1.481      -0.730\n",
      "CHL                            -1.394e-15   7.65e-16     -1.824      0.069    -2.9e-15    1.07e-16\n",
      "CHN                               -0.0940      0.256     -0.367      0.714      -0.597       0.409\n",
      "CIV                               -1.1188      0.189     -5.909      0.000      -1.490      -0.747\n",
      "CMR                               -0.0348      0.195     -0.179      0.858      -0.417       0.347\n",
      "COD                               -0.5882      0.205     -2.863      0.004      -0.991      -0.185\n",
      "COG                               -1.3663      0.210     -6.514      0.000      -1.778      -0.955\n",
      "COL                                0.1196      0.250      0.479      0.632      -0.370       0.610\n",
      "COM                               -1.1737      0.208     -5.636      0.000      -1.583      -0.765\n",
      "CPV                               -0.4112      0.221     -1.859      0.063      -0.845       0.023\n",
      "CRI                             2.409e-15   8.87e-16      2.717      0.007    6.68e-16    4.15e-15\n",
      "DMA                            -2.787e-14   1.63e-15    -17.134      0.000   -3.11e-14   -2.47e-14\n",
      "DOM                                0.0467      0.242      0.193      0.847      -0.429       0.522\n",
      "DZA                                0.2941      0.247      1.190      0.234      -0.191       0.779\n",
      "ECU                                0.1651      0.236      0.698      0.485      -0.299       0.629\n",
      "EGY                                0.1082      0.213      0.507      0.612      -0.310       0.527\n",
      "ETH                               -0.6598      0.173     -3.816      0.000      -0.999      -0.320\n",
      "FJI                             3.005e-14   1.69e-15     17.757      0.000    2.67e-14    3.34e-14\n",
      "FSM                            -1.169e-14   1.69e-15     -6.899      0.000    -1.5e-14   -8.36e-15\n",
      "GEO                               -0.0780      0.265     -0.294      0.769      -0.599       0.443\n",
      "GHA                               -1.6025      0.197     -8.131      0.000      -1.989      -1.216\n",
      "GIN                               -1.1214      0.181     -6.181      0.000      -1.478      -0.765\n",
      "GMB                               -0.1922      0.199     -0.965      0.335      -0.583       0.199\n",
      "GNB                               -0.9776      0.176     -5.562      0.000      -1.323      -0.633\n",
      "GNQ                              3.13e-14   1.65e-15     18.957      0.000    2.81e-14    3.45e-14\n",
      "GRD                            -6.123e-15   5.46e-16    -11.218      0.000   -7.19e-15   -5.05e-15\n",
      "GTM                               -0.0717      0.211     -0.340      0.734      -0.485       0.342\n",
      "GUY                               -0.0412      0.244     -0.169      0.866      -0.520       0.437\n",
      "HND                                0.0015      0.218      0.007      0.995      -0.426       0.429\n",
      "HTI                               -0.7778      0.184     -4.231      0.000      -1.139      -0.417\n",
      "IDN                               -0.2254      0.237     -0.949      0.343      -0.692       0.241\n",
      "IND                               -0.8743      0.211     -4.147      0.000      -1.288      -0.460\n",
      "IRN                            -2.339e-14   2.45e-15     -9.532      0.000   -2.82e-14   -1.86e-14\n",
      "IRQ                                0.3169      0.212      1.497      0.135      -0.099       0.732\n",
      "JAM                               -0.0744      0.229     -0.325      0.745      -0.524       0.375\n",
      "JOR                                0.0981      0.275      0.357      0.721      -0.442       0.638\n",
      "KAZ                             1.266e-14   8.29e-16     15.264      0.000     1.1e-14    1.43e-14\n",
      "KEN                               -0.3450      0.206     -1.672      0.095      -0.750       0.060\n",
      "KGZ                                0.1437      0.248      0.579      0.562      -0.343       0.630\n",
      "KHM                               -0.4410      0.211     -2.090      0.037      -0.855      -0.027\n",
      "KIR                              2.44e-14   1.54e-15     15.808      0.000    2.14e-14    2.74e-14\n",
      "LAO                                0.1676      0.194      0.862      0.389      -0.214       0.549\n",
      "LBN                            -2.794e-14   1.77e-15    -15.763      0.000   -3.14e-14   -2.45e-14\n",
      "LBR                               -1.3951      0.194     -7.209      0.000      -1.775      -1.015\n",
      "LKA                                0.2273      0.236      0.962      0.336      -0.236       0.691\n",
      "LSO                               -1.2396      0.230     -5.389      0.000      -1.691      -0.788\n",
      "MAR                                0.0660      0.195      0.339      0.735      -0.316       0.448\n",
      "MDA                               -0.2381      0.262     -0.910      0.363      -0.751       0.275\n",
      "MDG                               -1.0520      0.194     -5.426      0.000      -1.433      -0.671\n",
      "MHL                             2.648e-14   1.67e-15     15.823      0.000    2.32e-14    2.98e-14\n",
      "MKD                               -0.1905      0.270     -0.707      0.480      -0.720       0.339\n",
      "MLI                               -0.4669      0.176     -2.646      0.008      -0.813      -0.121\n",
      "MMR                                0.0486      0.265      0.184      0.854      -0.471       0.569\n",
      "MNG                                0.1190      0.255      0.466      0.642      -0.383       0.620\n",
      "MOZ                               -0.8907      0.187     -4.754      0.000      -1.259      -0.523\n",
      "MRT                                0.0608      0.178      0.342      0.733      -0.288       0.410\n",
      "MUS                            -1.718e-14   1.32e-15    -13.032      0.000   -1.98e-14   -1.46e-14\n",
      "MWI                               -0.5489      0.208     -2.635      0.009      -0.958      -0.140\n",
      "NAM                               -0.7344      0.220     -3.336      0.001      -1.166      -0.302\n",
      "NER                               -1.4489      0.180     -8.040      0.000      -1.803      -1.095\n",
      "NGA                               -0.0042      0.185     -0.023      0.982      -0.368       0.359\n",
      "NIC                               -0.2174      0.210     -1.036      0.300      -0.629       0.194\n",
      "NPL                               -0.9165      0.196     -4.671      0.000      -1.302      -0.531\n",
      "PAK                               -0.5294      0.201     -2.629      0.009      -0.925      -0.134\n",
      "PER                                0.0268      0.230      0.117      0.907      -0.425       0.478\n",
      "PHL                               -0.1712      0.242     -0.709      0.479      -0.646       0.303\n",
      "PNG                               -0.4215      0.192     -2.196      0.028      -0.798      -0.045\n",
      "PRY                                0.3948      0.238      1.659      0.098      -0.072       0.862\n",
      "RWA                               -0.2679      0.202     -1.326      0.185      -0.664       0.129\n",
      "SDN                               -0.5851      0.182     -3.218      0.001      -0.942      -0.228\n",
      "SEN                               -0.2174      0.184     -1.181      0.238      -0.579       0.144\n",
      "SLB                               -1.1143      0.221     -5.041      0.000      -1.548      -0.680\n",
      "SLE                               -1.1726      0.182     -6.446      0.000      -1.530      -0.815\n",
      "SLV                                0.0145      0.222      0.065      0.948      -0.421       0.450\n",
      "SRB                            -1.957e-14   3.92e-15     -4.993      0.000   -2.73e-14   -1.19e-14\n",
      "STP                               -1.0929      0.219     -4.987      0.000      -1.523      -0.663\n",
      "SWZ                                0.4701      0.219      2.149      0.032       0.041       0.899\n",
      "TCD                               -1.0901      0.172     -6.328      0.000      -1.428      -0.752\n",
      "TGO                               -1.4026      0.189     -7.405      0.000      -1.774      -1.031\n",
      "THA                            -5.939e-14   3.79e-15    -15.658      0.000   -6.68e-14   -5.19e-14\n",
      "TJK                                0.4666      0.255      1.833      0.067      -0.033       0.966\n",
      "TKM                               -0.0234      0.247     -0.095      0.924      -0.507       0.461\n",
      "TON                               -0.2303      0.248     -0.928      0.353      -0.717       0.257\n",
      "TUN                                0.0556      0.223      0.249      0.803      -0.382       0.493\n",
      "TZA                               -1.4401      0.199     -7.255      0.000      -1.830      -1.050\n",
      "UGA                               -1.0028      0.195     -5.146      0.000      -1.385      -0.620\n",
      "UKR                               -0.1125      0.286     -0.393      0.694      -0.674       0.449\n",
      "UZB                                0.0118      0.252      0.047      0.963      -0.482       0.506\n",
      "VNM                               -0.3033      0.242     -1.254      0.210      -0.778       0.171\n",
      "VUT                               -0.4353      0.216     -2.012      0.045      -0.860      -0.011\n",
      "WSM                               -0.0760      0.250     -0.304      0.761      -0.567       0.415\n",
      "ZAF                            -3.658e-17   5.11e-18     -7.159      0.000   -4.66e-17   -2.65e-17\n",
      "ZMB                                0.0056      0.194      0.029      0.977      -0.375       0.386\n",
      "ZWE                               -0.7060      0.263     -2.680      0.008      -1.223      -0.189\n",
      "==============================================================================\n",
      "Omnibus:                     1937.139   Durbin-Watson:                   1.857\n",
      "Prob(Omnibus):                  0.000   Jarque-Bera (JB):          8900336.765\n",
      "Skew:                         -19.340   Prob(JB):                         0.00\n",
      "Kurtosis:                     500.166   Cond. No.                     1.49e+20\n",
      "==============================================================================\n",
      "\n",
      "Notes:\n",
      "[1] Standard Errors assume that the covariance matrix of the errors is correctly specified.\n",
      "[2] The smallest eigenvalue is 4.47e-34. This might indicate that there are\n",
      "strong multicollinearity problems or that the design matrix is singular.\n"
     ]
    }
   ],
   "source": [
    "remove_for_san = [\"access_water_pavg\", \"access_san_pavg_lag5\"]\n",
    "# remove_for_water = []\n",
    "\n",
    "san_est = experiment.evaluate_treatment(wash_df[wash_df.gdp_pc_ppp < 10000], \"access_san_pavg\", \"wash_aid\",\n",
    "                                          wash_controls_constant + wash_access_cols + ['w_avg_rating'], # + wash_proj_cols + ['log_wash_aid_sq'],\n",
    "                                          remove_feature_cols=remove_for_san,\n",
    "                                          log_target=True, log_treatment=True, add_constant=True, \n",
    "                                          add_country_feffects=True)\n",
    "\n",
    "print(san_est.summary())"
   ]
  },
  {
   "cell_type": "code",
   "execution_count": 102,
   "id": "fresh-dallas",
   "metadata": {},
   "outputs": [
    {
     "name": "stdout",
     "output_type": "stream",
     "text": [
      "Effect of doubling:  0.03791408491986359\n"
     ]
    }
   ],
   "source": [
    "# effect of doubling here\n",
    "print(\"Effect of doubling: \", 2 ** (san_est.params[\"wash_aid\"]) - 1)"
   ]
  },
  {
   "cell_type": "code",
   "execution_count": 103,
   "id": "alike-ozone",
   "metadata": {},
   "outputs": [],
   "source": [
    "write_wash_results = False\n",
    "\n",
    "if write_wash_results:\n",
    "    with open(\"../results/intial_run/water_initial_fe_linear.txt\", \"w\") as file:\n",
    "        file.write(water_est.summary().as_text())\n",
    "\n",
    "    with open(\"../results/intial_run/sanitation_initial_fe_linear.txt\", \"w\") as file:\n",
    "        file.write(san_est.summary().as_text())\n",
    "\n",
    "#     gsearch_results.to_csv('../data/results/education_model_crawl.csv', float_format='%.4f')"
   ]
  },
  {
   "cell_type": "code",
   "execution_count": null,
   "id": "automatic-region",
   "metadata": {},
   "outputs": [],
   "source": [
    "# future: do a pair-wise comparison, e.g., using BERT and others"
   ]
  },
  {
   "cell_type": "markdown",
   "id": "independent-climb",
   "metadata": {},
   "source": [
    "### EconML"
   ]
  },
  {
   "cell_type": "code",
   "execution_count": 104,
   "id": "billion-tobago",
   "metadata": {},
   "outputs": [],
   "source": [
    "feature_cols = ['adult_literacy_pavg', 'log_gdp_pc', 'health_share_gov_exp_pavg_lag1',  \n",
    "             'young_population', 'conflict', 'freedom_house', 'access_water_pavg_lag5']"
   ]
  },
  {
   "cell_type": "code",
   "execution_count": 119,
   "id": "experimental-brighton",
   "metadata": {},
   "outputs": [],
   "source": [
    "wash_df['log_san_access'] = experiment.safe_log(wash_df, 'access_san_pavg')\n",
    "wash_df['log_wash_aid'] = experiment.safe_log(wash_df, 'wash_aid')\n",
    "wash_df['log_avg_rating'] = experiment.safe_log(wash_df, 'w_avg_rating')"
   ]
  },
  {
   "cell_type": "code",
   "execution_count": 123,
   "id": "cardiovascular-configuration",
   "metadata": {},
   "outputs": [],
   "source": [
    "rating_col = 'log_avg_rating'\n",
    "magnitude_col = 'log_wash_aid'\n",
    "target_col = 'log_san_access'\n",
    "\n",
    "# feature_cols = [col for col in data_cols if col != treatment_col and col != target_col]\n",
    "Y, T, X, W = experiment.assemble_econml_tuples(wash_df, target_col=target_col, treatment_col=magnitude_col, \n",
    "                                               feature_cols=feature_cols + [rating_col])"
   ]
  },
  {
   "cell_type": "code",
   "execution_count": 121,
   "id": "liked-orleans",
   "metadata": {},
   "outputs": [
    {
     "name": "stdout",
     "output_type": "stream",
     "text": [
      "                                Coefficient Results                                 \n",
      "====================================================================================\n",
      "                               point_estimate stderr zstat  pvalue ci_lower ci_upper\n",
      "------------------------------------------------------------------------------------\n",
      "adult_literacy_pavg                    -0.001  0.001 -1.221  0.222   -0.003      0.0\n",
      "log_gdp_pc                              0.015  0.007  2.038  0.042    0.003    0.026\n",
      "health_share_gov_exp_pavg_lag1         -0.004  0.001 -2.902  0.004   -0.007   -0.002\n",
      "young_population                       -0.004  0.001 -4.367    0.0   -0.006   -0.003\n",
      "conflict                                0.068  0.033  2.069  0.038    0.014    0.122\n",
      "freedom_house                          -0.005  0.005 -1.029  0.303   -0.014    0.003\n",
      "access_water_pavg_lag5                 -0.003  0.001 -2.896  0.004   -0.005   -0.001\n",
      "log_avg_rating                          0.029  0.011  2.739  0.006    0.012    0.047\n",
      "                       CATE Intercept Results                      \n",
      "===================================================================\n",
      "               point_estimate stderr zstat pvalue ci_lower ci_upper\n",
      "-------------------------------------------------------------------\n",
      "cate_intercept          0.377  0.099 3.788    0.0    0.213     0.54\n",
      "-------------------------------------------------------------------\n",
      "\n",
      "<sub>A linear parametric conditional average treatment effect (CATE) model was fitted:\n",
      "$Y = \\Theta(X)\\cdot T + g(X, W) + \\epsilon$\n",
      "where for every outcome $i$ and treatment $j$ the CATE $\\Theta_{ij}(X)$ has the form:\n",
      "$\\Theta_{ij}(X) = \\phi(X)' coef_{ij} + cate\\_intercept_{ij}$\n",
      "where $\\phi(X)$ is the output of the `featurizer` or $X$ if `featurizer`=None. Coefficient Results table portrays the $coef_{ij}$ parameter vector for each outcome $i$ and treatment $j$. Intercept Results table portrays the $cate\\_intercept_{ij}$ parameter.</sub>\n"
     ]
    }
   ],
   "source": [
    "wash_est = LinearDML(model_y='auto', model_t='auto')\n",
    "wash_est.fit(Y, T, X=X, W=W)\n",
    "print(wash_est.summary())"
   ]
  },
  {
   "cell_type": "code",
   "execution_count": 122,
   "id": "consolidated-green",
   "metadata": {},
   "outputs": [
    {
     "name": "stdout",
     "output_type": "stream",
     "text": [
      "                                Coefficient Results                                 \n",
      "====================================================================================\n",
      "                               point_estimate stderr zstat  pvalue ci_lower ci_upper\n",
      "------------------------------------------------------------------------------------\n",
      "adult_literacy_pavg                    -0.001  0.001 -1.221  0.222   -0.003      0.0\n",
      "log_gdp_pc                              0.015  0.007  2.038  0.042    0.003    0.026\n",
      "health_share_gov_exp_pavg_lag1         -0.004  0.001 -2.902  0.004   -0.007   -0.002\n",
      "young_population                       -0.004  0.001 -4.367    0.0   -0.006   -0.003\n",
      "conflict                                0.068  0.033  2.069  0.038    0.014    0.122\n",
      "freedom_house                          -0.005  0.005 -1.029  0.303   -0.014    0.003\n",
      "access_water_pavg_lag5                 -0.003  0.001 -2.896  0.004   -0.005   -0.001\n",
      "log_avg_rating                          0.029  0.011  2.739  0.006    0.012    0.047\n",
      "                       CATE Intercept Results                      \n",
      "===================================================================\n",
      "               point_estimate stderr zstat pvalue ci_lower ci_upper\n",
      "-------------------------------------------------------------------\n",
      "cate_intercept          0.377  0.099 3.788    0.0    0.213     0.54\n",
      "-------------------------------------------------------------------\n",
      "\n",
      "<sub>A linear parametric conditional average treatment effect (CATE) model was fitted:\n",
      "$Y = \\Theta(X)\\cdot T + g(X, W) + \\epsilon$\n",
      "where for every outcome $i$ and treatment $j$ the CATE $\\Theta_{ij}(X)$ has the form:\n",
      "$\\Theta_{ij}(X) = \\phi(X)' coef_{ij} + cate\\_intercept_{ij}$\n",
      "where $\\phi(X)$ is the output of the `featurizer` or $X$ if `featurizer`=None. Coefficient Results table portrays the $coef_{ij}$ parameter vector for each outcome $i$ and treatment $j$. Intercept Results table portrays the $cate\\_intercept_{ij}$ parameter.</sub>\n"
     ]
    }
   ],
   "source": [
    "print(wash_est.summary())"
   ]
  },
  {
   "cell_type": "code",
   "execution_count": 125,
   "id": "round-market",
   "metadata": {},
   "outputs": [
    {
     "name": "stderr",
     "output_type": "stream",
     "text": [
      "Objective did not converge. You might want to increase the number of iterations. Duality gap: 0.7268280919428207, tolerance: 0.017648538606224697\n",
      "Objective did not converge. You might want to increase the number of iterations. Duality gap: 0.3058507731746687, tolerance: 0.016652731068600955\n",
      "Objective did not converge. You might want to increase the number of iterations. Duality gap: 0.19346313939425386, tolerance: 0.01609700615149715\n",
      "Objective did not converge. You might want to increase the number of iterations. Duality gap: 0.9520364112118074, tolerance: 0.01609700615149715\n",
      "Objective did not converge. You might want to increase the number of iterations. Duality gap: 0.04679579828039948, tolerance: 0.018883346503693707\n",
      "Objective did not converge. You might want to increase the number of iterations. Duality gap: 0.02667053990690249, tolerance: 0.018883346503693707\n"
     ]
    },
    {
     "name": "stdout",
     "output_type": "stream",
     "text": [
      "                                Coefficient Results                                 \n",
      "====================================================================================\n",
      "                               point_estimate stderr zstat  pvalue ci_lower ci_upper\n",
      "------------------------------------------------------------------------------------\n",
      "adult_literacy_pavg                    -0.005  0.001 -3.754    0.0   -0.007   -0.003\n",
      "log_gdp_pc                              0.049   0.02  2.529  0.011    0.017    0.082\n",
      "health_share_gov_exp_pavg_lag1          0.014  0.005  2.807  0.005    0.006    0.021\n",
      "young_population                       -0.011  0.003 -3.722    0.0   -0.016   -0.006\n",
      "conflict                                0.038  0.076  0.497  0.619   -0.088    0.164\n",
      "freedom_house                           0.037  0.012  3.132  0.002    0.018    0.057\n",
      "access_water_pavg_lag5                 -0.002  0.001 -1.339  0.181   -0.004      0.0\n",
      "log_wash_aid                            0.035  0.011  3.099  0.002    0.016    0.053\n",
      "                       CATE Intercept Results                      \n",
      "===================================================================\n",
      "               point_estimate stderr zstat pvalue ci_lower ci_upper\n",
      "-------------------------------------------------------------------\n",
      "cate_intercept          0.244  0.239 1.019  0.308    -0.15    0.637\n",
      "-------------------------------------------------------------------\n",
      "\n",
      "<sub>A linear parametric conditional average treatment effect (CATE) model was fitted:\n",
      "$Y = \\Theta(X)\\cdot T + g(X, W) + \\epsilon$\n",
      "where for every outcome $i$ and treatment $j$ the CATE $\\Theta_{ij}(X)$ has the form:\n",
      "$\\Theta_{ij}(X) = \\phi(X)' coef_{ij} + cate\\_intercept_{ij}$\n",
      "where $\\phi(X)$ is the output of the `featurizer` or $X$ if `featurizer`=None. Coefficient Results table portrays the $coef_{ij}$ parameter vector for each outcome $i$ and treatment $j$. Intercept Results table portrays the $cate\\_intercept_{ij}$ parameter.</sub>\n"
     ]
    }
   ],
   "source": [
    "Y, T, X, W = experiment.assemble_econml_tuples(wash_df, target_col=target_col, treatment_col=rating_col, \n",
    "                                               feature_cols=feature_cols + [magnitude_col])\n",
    "\n",
    "est = LinearDML(model_y='auto', model_t='auto')\n",
    "est.fit(Y, T, X=X, W=W)\n",
    "print(est.summary())"
   ]
  },
  {
   "cell_type": "code",
   "execution_count": 126,
   "id": "restricted-contamination",
   "metadata": {},
   "outputs": [
    {
     "name": "stdout",
     "output_type": "stream",
     "text": [
      "                                Coefficient Results                                 \n",
      "====================================================================================\n",
      "                               point_estimate stderr zstat  pvalue ci_lower ci_upper\n",
      "------------------------------------------------------------------------------------\n",
      "adult_literacy_pavg                    -0.005  0.001 -3.658    0.0   -0.007   -0.003\n",
      "log_gdp_pc                              0.047   0.02  2.431  0.015    0.015     0.08\n",
      "health_share_gov_exp_pavg_lag1          0.013  0.005  2.778  0.005    0.005    0.021\n",
      "young_population                       -0.011  0.003 -3.809    0.0   -0.016   -0.006\n",
      "conflict                                0.018  0.075  0.237  0.812   -0.106    0.141\n",
      "freedom_house                           0.037  0.012  3.181  0.001    0.018    0.057\n",
      "access_water_pavg_lag5                 -0.002  0.001 -1.344  0.179   -0.004      0.0\n",
      "log_wash_aid                            0.035  0.011  3.212  0.001    0.017    0.053\n",
      "                       CATE Intercept Results                      \n",
      "===================================================================\n",
      "               point_estimate stderr zstat pvalue ci_lower ci_upper\n",
      "-------------------------------------------------------------------\n",
      "cate_intercept          0.248  0.235 1.054  0.292   -0.139    0.635\n",
      "-------------------------------------------------------------------\n",
      "\n",
      "<sub>A linear parametric conditional average treatment effect (CATE) model was fitted:\n",
      "$Y = \\Theta(X)\\cdot T + g(X, W) + \\epsilon$\n",
      "where for every outcome $i$ and treatment $j$ the CATE $\\Theta_{ij}(X)$ has the form:\n",
      "$\\Theta_{ij}(X) = \\phi(X)' coef_{ij} + cate\\_intercept_{ij}$\n",
      "where $\\phi(X)$ is the output of the `featurizer` or $X$ if `featurizer`=None. Coefficient Results table portrays the $coef_{ij}$ parameter vector for each outcome $i$ and treatment $j$. Intercept Results table portrays the $cate\\_intercept_{ij}$ parameter.</sub>\n"
     ]
    }
   ],
   "source": [
    "wash_est = LinearDML(model_y='auto', model_t='auto')\n",
    "wash_est.fit(Y, T, X=X, W=W)\n",
    "print(wash_est.summary())"
   ]
  },
  {
   "cell_type": "code",
   "execution_count": null,
   "id": "integrated-diversity",
   "metadata": {},
   "outputs": [],
   "source": []
  }
 ],
 "metadata": {
  "kernelspec": {
   "display_name": "causal",
   "language": "python",
   "name": "causal"
  },
  "language_info": {
   "codemirror_mode": {
    "name": "ipython",
    "version": 3
   },
   "file_extension": ".py",
   "mimetype": "text/x-python",
   "name": "python",
   "nbconvert_exporter": "python",
   "pygments_lexer": "ipython3",
   "version": "3.8.8"
  }
 },
 "nbformat": 4,
 "nbformat_minor": 5
}
