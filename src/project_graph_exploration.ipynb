{
 "cells": [
  {
   "cell_type": "markdown",
   "id": "unavailable-right",
   "metadata": {},
   "source": [
    "Graph design.\n",
    "\n",
    "Entities:\n",
    "\n",
    "1. Project. ID: project ID. *D*: 1\n",
    "\n",
    "2. People. ID: name. But then feature type? Not clear. Maybe frequency of involvement. Or have TTL as different node/entity to SVP. So same name, but different node. Yes. Then drop name - all care about is the connection. So a person repeats and their number in the relevant dimension is the number of projects prior to that one. SVPs and others are different, and similarly coded for experience. TTL + management + advisors/others. *D*: 3\n",
    "\n",
    "3. Sector/Theme: ID: also ordinal encoding. Maybe rank order by most popular. Although explore also with some kind of randomized ordinality. *D*: 1\n",
    "\n",
    "4. PAD: use the t-SNE of the PAD. *D*: 2\n",
    "\n",
    "5. DLI: similarly, use the t-SNE. *D*: 2\n",
    "\n",
    "6. Country: also ordinal. Or possibly the other results. *D*: 1.\n",
    "\n",
    "7. Outcome residual: the number in there.\n",
    "\n",
    "Relationships (in GNN, relationship types may not matter - so may have to think this through)\n",
    "\n",
    "Actual vector construction:\n",
    "\n",
    "One-hot on entity type? Dimensionality then: 6 entity types. All in all, about 12 so far. Under control. Then we see as we build.\n",
    "\n",
    "_Keep thinking though_.\n",
    "\n",
    "Embed the projects, sector colour code, see what happens. \"Similarity\" should be on the PDO or outcome? Will need something to construct a loss function. Keep reading and thinking."
   ]
  },
  {
   "cell_type": "code",
   "execution_count": null,
   "id": "abroad-tokyo",
   "metadata": {},
   "outputs": [],
   "source": []
  }
 ],
 "metadata": {
  "kernelspec": {
   "display_name": "Python 3",
   "language": "python",
   "name": "python3"
  },
  "language_info": {
   "codemirror_mode": {
    "name": "ipython",
    "version": 3
   },
   "file_extension": ".py",
   "mimetype": "text/x-python",
   "name": "python",
   "nbconvert_exporter": "python",
   "pygments_lexer": "ipython3",
   "version": "3.7.9"
  }
 },
 "nbformat": 4,
 "nbformat_minor": 5
}
