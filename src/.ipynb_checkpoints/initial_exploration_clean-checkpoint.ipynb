{
 "cells": [
  {
   "cell_type": "code",
   "execution_count": 1,
   "id": "developing-paradise",
   "metadata": {},
   "outputs": [],
   "source": [
    "import logging"
   ]
  },
  {
   "cell_type": "code",
   "execution_count": 2,
   "id": "ongoing-arabic",
   "metadata": {},
   "outputs": [],
   "source": [
    "import pandas as pd\n",
    "import numpy as np"
   ]
  },
  {
   "cell_type": "code",
   "execution_count": 3,
   "id": "executed-plaza",
   "metadata": {},
   "outputs": [],
   "source": [
    "import dowhy\n",
    "from dowhy import CausalModel"
   ]
  },
  {
   "cell_type": "code",
   "execution_count": 4,
   "id": "dominant-ready",
   "metadata": {},
   "outputs": [],
   "source": [
    "from IPython.display import Image, display"
   ]
  },
  {
   "cell_type": "code",
   "execution_count": 5,
   "id": "first-description",
   "metadata": {},
   "outputs": [],
   "source": [
    "pd.set_option(\"mode.chained_assignment\", None)"
   ]
  },
  {
   "cell_type": "code",
   "execution_count": 6,
   "id": "effective-pattern",
   "metadata": {},
   "outputs": [],
   "source": [
    "from futil import * "
   ]
  },
  {
   "cell_type": "markdown",
   "id": "interpreted-immigration",
   "metadata": {},
   "source": [
    "## Initial setup: load in the WDI, project data, etc"
   ]
  },
  {
   "cell_type": "code",
   "execution_count": 7,
   "id": "revised-diesel",
   "metadata": {},
   "outputs": [],
   "source": [
    "wdi_df, series_df = load_wdi()"
   ]
  },
  {
   "cell_type": "code",
   "execution_count": 8,
   "id": "psychological-inside",
   "metadata": {},
   "outputs": [],
   "source": [
    "gdp_per_cap_code = ['NY.GDP.PCAP.KD.ZG']\n",
    "gdp_growth_series = extract_indicators(wdi_df, gdp_per_cap_code)"
   ]
  },
  {
   "cell_type": "code",
   "execution_count": 9,
   "id": "similar-favorite",
   "metadata": {},
   "outputs": [],
   "source": [
    "project_df = load_projects()"
   ]
  },
  {
   "cell_type": "code",
   "execution_count": 10,
   "id": "changed-minister",
   "metadata": {},
   "outputs": [
    {
     "data": {
      "text/plain": [
       "WB         7146\n",
       "KfW        2229\n",
       "DFID       1917\n",
       "AsianDB    1572\n",
       "JICA        723\n",
       "GFATM       581\n",
       "GiZ         129\n",
       "IFAD         55\n",
       "Name: donor_name, dtype: int64"
      ]
     },
     "execution_count": 10,
     "metadata": {},
     "output_type": "execute_result"
    }
   ],
   "source": [
    "project_df.donor_name.value_counts()"
   ]
  },
  {
   "cell_type": "code",
   "execution_count": 11,
   "id": "outside-beach",
   "metadata": {},
   "outputs": [
    {
     "name": "stdout",
     "output_type": "stream",
     "text": [
      "Number WB projects with clean match to WDI country code:  3681\n"
     ]
    }
   ],
   "source": [
    "wb_pdf = project_df[project_df.donor_name == 'WB']\n",
    "print(\"Number WB projects with clean match to WDI country code: \", len(wb_pdf[wb_pdf.country_code.isin(gdp_growth_series['Country Code'])]))"
   ]
  },
  {
   "cell_type": "code",
   "execution_count": 12,
   "id": "independent-tucson",
   "metadata": {},
   "outputs": [],
   "source": [
    "df = wb_pdf[wb_pdf.country_code.isin(gdp_growth_series['Country Code'])]"
   ]
  },
  {
   "cell_type": "code",
   "execution_count": 13,
   "id": "worthy-object",
   "metadata": {},
   "outputs": [],
   "source": [
    "relevant_cols_from_project_df = [\n",
    " 'wb_project_id', \n",
    " 'country_code',\n",
    " 'six_overall_rating', \n",
    " 'wb_government_partner_rating', \n",
    " 'eval_lag', \n",
    " 'project_duration',\n",
    " 'project_name',\n",
    " 'original_overall_rating',\n",
    " 'wb_lendingproject_cost',\n",
    " 'wb_lendinginstrumenttype',\n",
    " 'wb_qualityatentry_rating',\n",
    " 'wb_supervisionquality_rating',\n",
    " 'wb_owninstperformance_rating',\n",
    " 'start_date',\n",
    " 'completion_date',\n",
    " 'evaluation_date'\n",
    "]"
   ]
  },
  {
   "cell_type": "code",
   "execution_count": 14,
   "id": "gross-release",
   "metadata": {},
   "outputs": [],
   "source": [
    "df = narrow_convert_project_data(df, relevant_cols_from_project_df)"
   ]
  },
  {
   "cell_type": "code",
   "execution_count": 15,
   "id": "auburn-regular",
   "metadata": {},
   "outputs": [
    {
     "data": {
      "text/html": [
       "<div>\n",
       "<style scoped>\n",
       "    .dataframe tbody tr th:only-of-type {\n",
       "        vertical-align: middle;\n",
       "    }\n",
       "\n",
       "    .dataframe tbody tr th {\n",
       "        vertical-align: top;\n",
       "    }\n",
       "\n",
       "    .dataframe thead th {\n",
       "        text-align: right;\n",
       "    }\n",
       "</style>\n",
       "<table border=\"1\" class=\"dataframe\">\n",
       "  <thead>\n",
       "    <tr style=\"text-align: right;\">\n",
       "      <th></th>\n",
       "      <th>wb_project_id</th>\n",
       "      <th>country_code</th>\n",
       "      <th>six_overall_rating</th>\n",
       "      <th>wb_government_partner_rating</th>\n",
       "      <th>eval_lag</th>\n",
       "      <th>project_duration</th>\n",
       "      <th>project_name</th>\n",
       "      <th>original_overall_rating</th>\n",
       "      <th>wb_lendingproject_cost</th>\n",
       "      <th>wb_lendinginstrumenttype</th>\n",
       "      <th>wb_qualityatentry_rating</th>\n",
       "      <th>wb_supervisionquality_rating</th>\n",
       "      <th>wb_owninstperformance_rating</th>\n",
       "      <th>start_date</th>\n",
       "      <th>completion_date</th>\n",
       "      <th>evaluation_date</th>\n",
       "      <th>start_dt</th>\n",
       "      <th>start_year</th>\n",
       "      <th>completion_dt</th>\n",
       "      <th>end_year</th>\n",
       "    </tr>\n",
       "  </thead>\n",
       "  <tbody>\n",
       "    <tr>\n",
       "      <th>6496</th>\n",
       "      <td>P057271</td>\n",
       "      <td>GUY</td>\n",
       "      <td>5.0</td>\n",
       "      <td>5.0</td>\n",
       "      <td>365.0</td>\n",
       "      <td>1095.0</td>\n",
       "      <td>Emergency Assistance Project</td>\n",
       "      <td>5.0</td>\n",
       "      <td>10200000.0</td>\n",
       "      <td>ERL</td>\n",
       "      <td>5.0</td>\n",
       "      <td>5.0</td>\n",
       "      <td>5.0</td>\n",
       "      <td>01jan1999</td>\n",
       "      <td>01jan2002</td>\n",
       "      <td>01jan2003</td>\n",
       "      <td>1999-01-01</td>\n",
       "      <td>1999</td>\n",
       "      <td>2002-01-01</td>\n",
       "      <td>2002.0</td>\n",
       "    </tr>\n",
       "    <tr>\n",
       "      <th>6497</th>\n",
       "      <td>P009674</td>\n",
       "      <td>IND</td>\n",
       "      <td>5.0</td>\n",
       "      <td>NaN</td>\n",
       "      <td>1460.0</td>\n",
       "      <td>2555.0</td>\n",
       "      <td>(DFC) IDBI I</td>\n",
       "      <td>5.0</td>\n",
       "      <td>0.0</td>\n",
       "      <td>FIL</td>\n",
       "      <td>NaN</td>\n",
       "      <td>NaN</td>\n",
       "      <td>NaN</td>\n",
       "      <td>01sep1973</td>\n",
       "      <td>01jan1980</td>\n",
       "      <td>01jan1984</td>\n",
       "      <td>1973-09-01</td>\n",
       "      <td>1973</td>\n",
       "      <td>1980-01-01</td>\n",
       "      <td>1980.0</td>\n",
       "    </tr>\n",
       "    <tr>\n",
       "      <th>6498</th>\n",
       "      <td>P102095</td>\n",
       "      <td>COL</td>\n",
       "      <td>6.0</td>\n",
       "      <td>6.0</td>\n",
       "      <td>730.0</td>\n",
       "      <td>730.0</td>\n",
       "      <td>(LKD) GPOBA W3: Colombia Natural Gas</td>\n",
       "      <td>6.0</td>\n",
       "      <td>5085000.0</td>\n",
       "      <td>SIL</td>\n",
       "      <td>5.0</td>\n",
       "      <td>5.0</td>\n",
       "      <td>5.0</td>\n",
       "      <td>01jan2006</td>\n",
       "      <td>01jan2008</td>\n",
       "      <td>01jan2010</td>\n",
       "      <td>2006-01-01</td>\n",
       "      <td>2006</td>\n",
       "      <td>2008-01-01</td>\n",
       "      <td>2008.0</td>\n",
       "    </tr>\n",
       "    <tr>\n",
       "      <th>6500</th>\n",
       "      <td>P043871</td>\n",
       "      <td>BRA</td>\n",
       "      <td>5.0</td>\n",
       "      <td>5.0</td>\n",
       "      <td>365.0</td>\n",
       "      <td>1825.0</td>\n",
       "      <td>(PIAUI)R.POVERTY</td>\n",
       "      <td>5.0</td>\n",
       "      <td>40000000.0</td>\n",
       "      <td>SIL</td>\n",
       "      <td>5.0</td>\n",
       "      <td>5.0</td>\n",
       "      <td>5.0</td>\n",
       "      <td>12dec1996</td>\n",
       "      <td>01jan2002</td>\n",
       "      <td>01jan2003</td>\n",
       "      <td>1996-12-12</td>\n",
       "      <td>1996</td>\n",
       "      <td>2002-01-01</td>\n",
       "      <td>2002.0</td>\n",
       "    </tr>\n",
       "    <tr>\n",
       "      <th>6502</th>\n",
       "      <td>P010415</td>\n",
       "      <td>PAK</td>\n",
       "      <td>5.0</td>\n",
       "      <td>5.0</td>\n",
       "      <td>365.0</td>\n",
       "      <td>1825.0</td>\n",
       "      <td>1992 FLOOD DAMAGE RE</td>\n",
       "      <td>5.0</td>\n",
       "      <td>397200000.0</td>\n",
       "      <td>ERL</td>\n",
       "      <td>5.0</td>\n",
       "      <td>5.0</td>\n",
       "      <td>5.0</td>\n",
       "      <td>03apr1993</td>\n",
       "      <td>01jan1998</td>\n",
       "      <td>01jan1999</td>\n",
       "      <td>1993-04-03</td>\n",
       "      <td>1993</td>\n",
       "      <td>1998-01-01</td>\n",
       "      <td>1998.0</td>\n",
       "    </tr>\n",
       "  </tbody>\n",
       "</table>\n",
       "</div>"
      ],
      "text/plain": [
       "     wb_project_id country_code  six_overall_rating  \\\n",
       "6496       P057271          GUY                 5.0   \n",
       "6497       P009674          IND                 5.0   \n",
       "6498       P102095          COL                 6.0   \n",
       "6500       P043871          BRA                 5.0   \n",
       "6502       P010415          PAK                 5.0   \n",
       "\n",
       "      wb_government_partner_rating  eval_lag  project_duration  \\\n",
       "6496                           5.0     365.0            1095.0   \n",
       "6497                           NaN    1460.0            2555.0   \n",
       "6498                           6.0     730.0             730.0   \n",
       "6500                           5.0     365.0            1825.0   \n",
       "6502                           5.0     365.0            1825.0   \n",
       "\n",
       "                              project_name  original_overall_rating  \\\n",
       "6496          Emergency Assistance Project                      5.0   \n",
       "6497                          (DFC) IDBI I                      5.0   \n",
       "6498  (LKD) GPOBA W3: Colombia Natural Gas                      6.0   \n",
       "6500                      (PIAUI)R.POVERTY                      5.0   \n",
       "6502                  1992 FLOOD DAMAGE RE                      5.0   \n",
       "\n",
       "      wb_lendingproject_cost wb_lendinginstrumenttype  \\\n",
       "6496              10200000.0                      ERL   \n",
       "6497                     0.0                      FIL   \n",
       "6498               5085000.0                      SIL   \n",
       "6500              40000000.0                      SIL   \n",
       "6502             397200000.0                      ERL   \n",
       "\n",
       "      wb_qualityatentry_rating  wb_supervisionquality_rating  \\\n",
       "6496                       5.0                           5.0   \n",
       "6497                       NaN                           NaN   \n",
       "6498                       5.0                           5.0   \n",
       "6500                       5.0                           5.0   \n",
       "6502                       5.0                           5.0   \n",
       "\n",
       "      wb_owninstperformance_rating start_date completion_date evaluation_date  \\\n",
       "6496                           5.0  01jan1999       01jan2002       01jan2003   \n",
       "6497                           NaN  01sep1973       01jan1980       01jan1984   \n",
       "6498                           5.0  01jan2006       01jan2008       01jan2010   \n",
       "6500                           5.0  12dec1996       01jan2002       01jan2003   \n",
       "6502                           5.0  03apr1993       01jan1998       01jan1999   \n",
       "\n",
       "       start_dt  start_year completion_dt  end_year  \n",
       "6496 1999-01-01        1999    2002-01-01    2002.0  \n",
       "6497 1973-09-01        1973    1980-01-01    1980.0  \n",
       "6498 2006-01-01        2006    2008-01-01    2008.0  \n",
       "6500 1996-12-12        1996    2002-01-01    2002.0  \n",
       "6502 1993-04-03        1993    1998-01-01    1998.0  "
      ]
     },
     "execution_count": 15,
     "metadata": {},
     "output_type": "execute_result"
    }
   ],
   "source": [
    "df.head()"
   ]
  },
  {
   "cell_type": "markdown",
   "id": "competitive-mainland",
   "metadata": {},
   "source": [
    "## Extract indicator averages before, during and after projects (will automate to allow walking over lags)"
   ]
  },
  {
   "cell_type": "code",
   "execution_count": 16,
   "id": "sticky-kuwait",
   "metadata": {},
   "outputs": [],
   "source": [
    "df = df.apply(lambda project: extract_indicator_pre_during_post(project, \"growth\", gdp_growth_series), axis=1)"
   ]
  },
  {
   "cell_type": "code",
   "execution_count": 17,
   "id": "domestic-atlantic",
   "metadata": {},
   "outputs": [
    {
     "data": {
      "text/plain": [
       "<AxesSubplot:>"
      ]
     },
     "execution_count": 17,
     "metadata": {},
     "output_type": "execute_result"
    },
    {
     "data": {
      "image/png": "[encoded data removed]",
      "text/plain": [
       "<Figure size 432x288 with 1 Axes>"
      ]
     },
     "metadata": {
      "needs_background": "light"
     },
     "output_type": "display_data"
    }
   ],
   "source": [
    "df.growth_prior.hist()"
   ]
  },
  {
   "cell_type": "code",
   "execution_count": 18,
   "id": "other-health",
   "metadata": {},
   "outputs": [
    {
     "data": {
      "text/plain": [
       "<AxesSubplot:>"
      ]
     },
     "execution_count": 18,
     "metadata": {},
     "output_type": "execute_result"
    },
    {
     "data": {
      "image/png": "[encoded data removed]",
      "text/plain": [
       "<Figure size 432x288 with 1 Axes>"
      ]
     },
     "metadata": {
      "needs_background": "light"
     },
     "output_type": "display_data"
    }
   ],
   "source": [
    "df.growth_during.hist()"
   ]
  },
  {
   "cell_type": "code",
   "execution_count": 19,
   "id": "experimental-spring",
   "metadata": {},
   "outputs": [
    {
     "data": {
      "text/plain": [
       "<AxesSubplot:>"
      ]
     },
     "execution_count": 19,
     "metadata": {},
     "output_type": "execute_result"
    },
    {
     "data": {
      "image/png": "[encoded data removed]",
      "text/plain": [
       "<Figure size 432x288 with 1 Axes>"
      ]
     },
     "metadata": {
      "needs_background": "light"
     },
     "output_type": "display_data"
    }
   ],
   "source": [
    "df.growth_post.hist()"
   ]
  },
  {
   "cell_type": "code",
   "execution_count": 20,
   "id": "developing-consent",
   "metadata": {},
   "outputs": [
    {
     "data": {
      "text/plain": [
       "count    3676.000000\n",
       "mean        2.483981\n",
       "std         3.188126\n",
       "min        -9.276867\n",
       "25%         0.481342\n",
       "50%         2.096917\n",
       "75%         3.876678\n",
       "max        21.244872\n",
       "Name: growth_during, dtype: float64"
      ]
     },
     "execution_count": 20,
     "metadata": {},
     "output_type": "execute_result"
    }
   ],
   "source": [
    "df.growth_during.describe()"
   ]
  },
  {
   "cell_type": "code",
   "execution_count": 21,
   "id": "residential-chase",
   "metadata": {},
   "outputs": [
    {
     "data": {
      "text/plain": [
       "count    3676.000000\n",
       "mean        2.634407\n",
       "std         3.163606\n",
       "min        -7.905942\n",
       "25%         0.615209\n",
       "50%         2.394937\n",
       "75%         4.031064\n",
       "max        20.060154\n",
       "Name: growth_post, dtype: float64"
      ]
     },
     "execution_count": 21,
     "metadata": {},
     "output_type": "execute_result"
    }
   ],
   "source": [
    "df.growth_post.describe()"
   ]
  },
  {
   "cell_type": "markdown",
   "id": "realistic-mexican",
   "metadata": {},
   "source": [
    "## Initial causal runs"
   ]
  },
  {
   "cell_type": "code",
   "execution_count": 22,
   "id": "creative-cherry",
   "metadata": {},
   "outputs": [],
   "source": [
    "rating_growth_graph = \"\"\"digraph { \n",
    "    \"Govt-Quality\"[latent];\n",
    "    six_overall_rating [exposure, label=\"WB-Loan-Rating\"];\n",
    "    global_growth_during [adjusted, label=\"GlobalMacroDuringProject\"];\n",
    "    global_growth_post [label=\"GlobalMacroPostProject\"];\n",
    "    global_growth_prior [adjusted, label=\"GlobalMacroPriorProject\"];\n",
    "    growth_during [adjusted, label=GrowthDuringProject];\n",
    "    growth_post [outcome, label=GrowthPostProject];\n",
    "    growth_prior [adjusted, label=GrowthPriorProject];\n",
    "    wb_government_partner_rating [label=\"WBGovtRating\"];\n",
    "    \"Govt-Quality\" -> six_overall_rating;\n",
    "    \"Govt-Quality\" -> growth_prior;\n",
    "    \"Govt-Quality\" -> wb_government_partner_rating;\n",
    "    six_overall_rating -> growth_post;\n",
    "    global_growth_during -> global_growth_post;\n",
    "    global_growth_during -> growth_during;\n",
    "    global_growth_post -> growth_post;\n",
    "    global_growth_prior -> global_growth_during;\n",
    "    global_growth_prior -> growth_prior;\n",
    "    growth_during -> growth_post;\n",
    "    growth_prior -> growth_during;\n",
    "    wb_government_partner_rating -> six_overall_rating;\n",
    "    }\"\"\""
   ]
  },
  {
   "cell_type": "code",
   "execution_count": 23,
   "id": "educated-profile",
   "metadata": {},
   "outputs": [],
   "source": [
    "causal_columns = ['six_overall_rating', 'global_growth_prior', 'global_growth_during', 'global_growth_post',\n",
    "                 'growth_prior', 'growth_during', 'growth_post', 'wb_government_partner_rating']"
   ]
  },
  {
   "cell_type": "code",
   "execution_count": 30,
   "id": "ordinary-kennedy",
   "metadata": {},
   "outputs": [],
   "source": [
    "def perform_causal_estimate(df, num_years_post, verbose=False):\n",
    "    extract_ind = lambda project: extract_indicator_pre_during_post(project, \"growth\", gdp_growth_series, num_years=num_years_post)\n",
    "    df = df.apply(extract_ind, axis=1)\n",
    "    causal_df = df[causal_columns]\n",
    "    pre_drop_N = len(causal_df)\n",
    "    causal_df = causal_df.dropna()\n",
    "    post_drop_N = len(causal_df)\n",
    "    if verbose:\n",
    "        print(\"N pre NA drop: \", pre_drop_N, \" and post: \", post_drop_N)\n",
    "    \n",
    "    model = CausalModel(\n",
    "        data=causal_df,\n",
    "        graph=rating_growth_graph.replace(\"\\n\", \" \"),\n",
    "        treatment=\"six_overall_rating\",\n",
    "        outcome=\"growth_post\"\n",
    "    )\n",
    "    \n",
    "    if verbose:\n",
    "        model.view_model()\n",
    "        display(Image(filename=\"causal_model.png\"))\n",
    "    \n",
    "    identified_estimand = model.identify_effect(proceed_when_unidentifiable=True)\n",
    "    if verbose:\n",
    "        print(identified_estimand)\n",
    "    \n",
    "    estimate = model.estimate_effect(identified_estimand, method_name=\"backdoor.linear_regression\",\n",
    "                                     target_units=\"att\", test_significance=True)\n",
    "    if verbose:\n",
    "        print(estimate)\n",
    "    \n",
    "    return {\"model\": model, \"estimand\": identified_estimand, \"estimate\": estimate}"
   ]
  },
  {
   "cell_type": "code",
   "execution_count": 35,
   "id": "tribal-latest",
   "metadata": {},
   "outputs": [
    {
     "name": "stderr",
     "output_type": "stream",
     "text": [
      "ERROR:dowhy.causal_graph:Error: Pygraphviz cannot be loaded. Invalid Input\n",
      "Trying pydot ...\n",
      "INFO:dowhy.causal_model:Model to find the causal effect of treatment ['six_overall_rating'] on outcome ['growth_post']\n",
      "INFO:dowhy.causal_identifier:All common causes are observed. Causal effect can be identified.\n",
      "INFO:dowhy.causal_identifier:Instrumental variables for treatment and outcome:[]\n",
      "INFO:dowhy.causal_identifier:Frontdoor variables for treatment and outcome:[]\n",
      "INFO:dowhy.causal_estimator:b: growth_post~six_overall_rating+growth_during+global_growth_during+global_growth_prior+global_growth_post+growth_prior+wb_government_partner_rating+six_overall_rating*growth_during+six_overall_rating*global_growth_post+six_overall_rating*growth_prior+six_overall_rating*global_growth_during+six_overall_rating*global_growth_prior\n",
      "INFO:dowhy.causal_estimator:INFO: Using Linear Regression Estimator\n"
     ]
    }
   ],
   "source": [
    "result = perform_causal_estimate(df, num_years_post=5)"
   ]
  },
  {
   "cell_type": "code",
   "execution_count": 37,
   "id": "banner-tactics",
   "metadata": {},
   "outputs": [
    {
     "name": "stdout",
     "output_type": "stream",
     "text": [
      "*** Causal Estimate ***\n",
      "\n",
      "## Identified estimand\n",
      "Estimand type: nonparametric-ate\n",
      "\n",
      "## Realized estimand\n",
      "b: growth_post~six_overall_rating+growth_during+global_growth_during+global_growth_prior+global_growth_post+growth_prior+wb_government_partner_rating+six_overall_rating*growth_during+six_overall_rating*global_growth_post+six_overall_rating*growth_prior+six_overall_rating*global_growth_during+six_overall_rating*global_growth_prior\n",
      "Target units: att\n",
      "\n",
      "## Estimate\n",
      "Mean value: -0.005914790734908415\n",
      "p-value: [0.12426414]\n",
      "### Conditional Estimates\n",
      "__categorical__growth_during  __categorical__global_growth_post  __categorical__growth_prior  __categorical__global_growth_during  __categorical__global_growth_prior\n",
      "(-9.277999999999999, 0.688]   (0.456, 1.305]                     (-25.809, 0.0]               (1.161, 1.605]                       (0.595, 1.369]                       -0.224798\n",
      "                                                                                              (1.605, 1.742]                       (0.379, 0.595]                       -0.146530\n",
      "                                                                                              (1.742, 1.992]                       (0.379, 0.595]                       -0.078015\n",
      "                                                                                                                                   (1.369, 1.626]                       -0.218800\n",
      "                                                                                                                                   (1.626, 1.869]                       -0.531273\n",
      "                                                                                                                                                                           ...   \n",
      "(5.993, 20.277]               (2.285, 2.716]                     (4.353, 13.832]              (1.605, 1.742]                       (0.595, 1.369]                        0.370381\n",
      "                                                                                              (1.742, 1.992]                       (0.379, 0.595]                        0.618893\n",
      "                                                                                                                                   (1.369, 1.626]                        0.304677\n",
      "                                                                                              (1.992, 2.716]                       (1.626, 1.869]                        0.383788\n",
      "                                                                                                                                   (1.869, 2.716]                        0.352323\n",
      "Length: 745, dtype: float64\n"
     ]
    }
   ],
   "source": [
    "print(result[\"estimate\"])"
   ]
  },
  {
   "cell_type": "code",
   "execution_count": 27,
   "id": "super-annex",
   "metadata": {},
   "outputs": [
    {
     "data": {
      "image/png": "[encoded data removed]",
      "text/latex": [
       "$\\displaystyle -0.00591479073490842$"
      ],
      "text/plain": [
       "-0.005914790734908415"
      ]
     },
     "execution_count": 27,
     "metadata": {},
     "output_type": "execute_result"
    }
   ],
   "source": [
    "estimate.value"
   ]
  },
  {
   "cell_type": "code",
   "execution_count": 51,
   "id": "cellular-bargain",
   "metadata": {},
   "outputs": [
    {
     "data": {
      "image/png": "[encoded data removed]",
      "text/latex": [
       "$\\displaystyle 0.619529262045562$"
      ],
      "text/plain": [
       "0.6195292620455621"
      ]
     },
     "execution_count": 51,
     "metadata": {},
     "output_type": "execute_result"
    }
   ],
   "source": [
    "estimate.test_stat_significance()['p_value'][0]"
   ]
  },
  {
   "cell_type": "markdown",
   "id": "dominican-bulgaria",
   "metadata": {},
   "source": [
    "## Now initiate exploration of different lag settings"
   ]
  },
  {
   "cell_type": "code",
   "execution_count": 32,
   "id": "transparent-scheme",
   "metadata": {},
   "outputs": [],
   "source": [
    "def crawl_over_lags(range_of_years):\n",
    "    model_results = [perform_causal_estimate(df, num_years_post=num_years_post) for num_years_post in range_of_years]\n",
    "    return dict(zip(range_of_years, model_results))"
   ]
  },
  {
   "cell_type": "code",
   "execution_count": 39,
   "id": "south-excuse",
   "metadata": {},
   "outputs": [
    {
     "name": "stderr",
     "output_type": "stream",
     "text": [
      "ERROR:dowhy.causal_graph:Error: Pygraphviz cannot be loaded. Invalid Input\n",
      "Trying pydot ...\n",
      "INFO:dowhy.causal_model:Model to find the causal effect of treatment ['six_overall_rating'] on outcome ['growth_post']\n",
      "INFO:dowhy.causal_identifier:All common causes are observed. Causal effect can be identified.\n",
      "INFO:dowhy.causal_identifier:Instrumental variables for treatment and outcome:[]\n",
      "INFO:dowhy.causal_identifier:Frontdoor variables for treatment and outcome:[]\n",
      "INFO:dowhy.causal_estimator:b: growth_post~six_overall_rating+growth_during+global_growth_during+global_growth_prior+global_growth_post+growth_prior+wb_government_partner_rating+six_overall_rating*growth_during+six_overall_rating*global_growth_post+six_overall_rating*growth_prior+six_overall_rating*global_growth_during+six_overall_rating*global_growth_prior\n",
      "INFO:dowhy.causal_estimator:INFO: Using Linear Regression Estimator\n"
     ]
    }
   ],
   "source": [
    "test_results = perform_causal_estimate(df, num_years_post=10)"
   ]
  },
  {
   "cell_type": "code",
   "execution_count": 40,
   "id": "honest-atlantic",
   "metadata": {},
   "outputs": [],
   "source": [
    "estimate = test_results[\"estimate\"]"
   ]
  },
  {
   "cell_type": "code",
   "execution_count": 41,
   "id": "frank-spell",
   "metadata": {},
   "outputs": [
    {
     "name": "stdout",
     "output_type": "stream",
     "text": [
      "*** Causal Estimate ***\n",
      "\n",
      "## Identified estimand\n",
      "Estimand type: nonparametric-ate\n",
      "\n",
      "## Realized estimand\n",
      "b: growth_post~six_overall_rating+growth_during+global_growth_during+global_growth_prior+global_growth_post+growth_prior+wb_government_partner_rating+six_overall_rating*growth_during+six_overall_rating*global_growth_post+six_overall_rating*growth_prior+six_overall_rating*global_growth_during+six_overall_rating*global_growth_prior\n",
      "Target units: att\n",
      "\n",
      "## Estimate\n",
      "Mean value: 0.0031933162821853323\n",
      "p-value: [0.61952926]\n",
      "### Conditional Estimates\n",
      "__categorical__growth_during  __categorical__global_growth_post  __categorical__growth_prior  __categorical__global_growth_during  __categorical__global_growth_prior\n",
      "(-9.277999999999999, 0.688]   (1.096, 1.503]                     (-0.0877, 1.028]             (1.161, 1.605]                       (1.222, 1.264]                       -0.192128\n",
      "                                                                                                                                   (1.421, 2.239]                       -0.078577\n",
      "                                                                                              (1.605, 1.742]                       (0.838, 1.222]                       -0.232962\n",
      "                                                                                                                                   (1.264, 1.3]                         -0.207004\n",
      "                                                                                              (1.742, 1.992]                       (0.838, 1.222]                       -0.285676\n",
      "                                                                                                                                                                           ...   \n",
      "(5.993, 20.277]               (1.894, 2.117]                     (3.433, 13.421]              (0.456, 1.161]                       (1.264, 1.3]                          0.770463\n",
      "                                                                                                                                   (1.3, 1.421]                          0.732531\n",
      "                                                                                              (1.161, 1.605]                       (1.264, 1.3]                          0.665994\n",
      "                                                                                                                                   (1.3, 1.421]                          0.467617\n",
      "                                                                                              (1.605, 1.742]                       (1.3, 1.421]                          0.608821\n",
      "Length: 750, dtype: float64\n"
     ]
    }
   ],
   "source": [
    "print(estimate)"
   ]
  },
  {
   "cell_type": "code",
   "execution_count": 47,
   "id": "devoted-arrival",
   "metadata": {},
   "outputs": [
    {
     "name": "stderr",
     "output_type": "stream",
     "text": [
      "ERROR:dowhy.causal_graph:Error: Pygraphviz cannot be loaded. Invalid Input\n",
      "Trying pydot ...\n",
      "INFO:dowhy.causal_model:Model to find the causal effect of treatment ['six_overall_rating'] on outcome ['growth_post']\n",
      "INFO:dowhy.causal_identifier:All common causes are observed. Causal effect can be identified.\n",
      "INFO:dowhy.causal_identifier:Instrumental variables for treatment and outcome:[]\n",
      "INFO:dowhy.causal_identifier:Frontdoor variables for treatment and outcome:[]\n",
      "INFO:dowhy.causal_estimator:b: growth_post~six_overall_rating+growth_during+global_growth_during+global_growth_prior+global_growth_post+growth_prior+wb_government_partner_rating+six_overall_rating*growth_during+six_overall_rating*global_growth_post+six_overall_rating*growth_prior+six_overall_rating*global_growth_during+six_overall_rating*global_growth_prior\n",
      "INFO:dowhy.causal_estimator:INFO: Using Linear Regression Estimator\n",
      "ERROR:dowhy.causal_graph:Error: Pygraphviz cannot be loaded. Invalid Input\n",
      "Trying pydot ...\n",
      "INFO:dowhy.causal_model:Model to find the causal effect of treatment ['six_overall_rating'] on outcome ['growth_post']\n",
      "INFO:dowhy.causal_identifier:All common causes are observed. Causal effect can be identified.\n",
      "INFO:dowhy.causal_identifier:Instrumental variables for treatment and outcome:[]\n",
      "INFO:dowhy.causal_identifier:Frontdoor variables for treatment and outcome:[]\n",
      "INFO:dowhy.causal_estimator:b: growth_post~six_overall_rating+growth_during+global_growth_during+global_growth_prior+global_growth_post+growth_prior+wb_government_partner_rating+six_overall_rating*growth_during+six_overall_rating*global_growth_post+six_overall_rating*growth_prior+six_overall_rating*global_growth_during+six_overall_rating*global_growth_prior\n",
      "INFO:dowhy.causal_estimator:INFO: Using Linear Regression Estimator\n",
      "ERROR:dowhy.causal_graph:Error: Pygraphviz cannot be loaded. Invalid Input\n",
      "Trying pydot ...\n",
      "INFO:dowhy.causal_model:Model to find the causal effect of treatment ['six_overall_rating'] on outcome ['growth_post']\n",
      "INFO:dowhy.causal_identifier:All common causes are observed. Causal effect can be identified.\n",
      "INFO:dowhy.causal_identifier:Instrumental variables for treatment and outcome:[]\n",
      "INFO:dowhy.causal_identifier:Frontdoor variables for treatment and outcome:[]\n",
      "INFO:dowhy.causal_estimator:b: growth_post~six_overall_rating+growth_during+global_growth_during+global_growth_prior+global_growth_post+growth_prior+wb_government_partner_rating+six_overall_rating*growth_during+six_overall_rating*global_growth_post+six_overall_rating*growth_prior+six_overall_rating*global_growth_during+six_overall_rating*global_growth_prior\n",
      "INFO:dowhy.causal_estimator:INFO: Using Linear Regression Estimator\n",
      "ERROR:dowhy.causal_graph:Error: Pygraphviz cannot be loaded. Invalid Input\n",
      "Trying pydot ...\n",
      "INFO:dowhy.causal_model:Model to find the causal effect of treatment ['six_overall_rating'] on outcome ['growth_post']\n",
      "INFO:dowhy.causal_identifier:All common causes are observed. Causal effect can be identified.\n",
      "INFO:dowhy.causal_identifier:Instrumental variables for treatment and outcome:[]\n",
      "INFO:dowhy.causal_identifier:Frontdoor variables for treatment and outcome:[]\n",
      "INFO:dowhy.causal_estimator:b: growth_post~six_overall_rating+growth_during+global_growth_during+global_growth_prior+global_growth_post+growth_prior+wb_government_partner_rating+six_overall_rating*growth_during+six_overall_rating*global_growth_post+six_overall_rating*growth_prior+six_overall_rating*global_growth_during+six_overall_rating*global_growth_prior\n",
      "INFO:dowhy.causal_estimator:INFO: Using Linear Regression Estimator\n",
      "ERROR:dowhy.causal_graph:Error: Pygraphviz cannot be loaded. Invalid Input\n",
      "Trying pydot ...\n",
      "INFO:dowhy.causal_model:Model to find the causal effect of treatment ['six_overall_rating'] on outcome ['growth_post']\n",
      "INFO:dowhy.causal_identifier:All common causes are observed. Causal effect can be identified.\n",
      "INFO:dowhy.causal_identifier:Instrumental variables for treatment and outcome:[]\n",
      "INFO:dowhy.causal_identifier:Frontdoor variables for treatment and outcome:[]\n",
      "INFO:dowhy.causal_estimator:b: growth_post~six_overall_rating+growth_during+global_growth_during+global_growth_prior+global_growth_post+growth_prior+wb_government_partner_rating+six_overall_rating*growth_during+six_overall_rating*global_growth_post+six_overall_rating*growth_prior+six_overall_rating*global_growth_during+six_overall_rating*global_growth_prior\n",
      "INFO:dowhy.causal_estimator:INFO: Using Linear Regression Estimator\n",
      "ERROR:dowhy.causal_graph:Error: Pygraphviz cannot be loaded. Invalid Input\n",
      "Trying pydot ...\n",
      "INFO:dowhy.causal_model:Model to find the causal effect of treatment ['six_overall_rating'] on outcome ['growth_post']\n",
      "INFO:dowhy.causal_identifier:All common causes are observed. Causal effect can be identified.\n",
      "INFO:dowhy.causal_identifier:Instrumental variables for treatment and outcome:[]\n",
      "INFO:dowhy.causal_identifier:Frontdoor variables for treatment and outcome:[]\n",
      "INFO:dowhy.causal_estimator:b: growth_post~six_overall_rating+growth_during+global_growth_during+global_growth_prior+global_growth_post+growth_prior+wb_government_partner_rating+six_overall_rating*growth_during+six_overall_rating*global_growth_post+six_overall_rating*growth_prior+six_overall_rating*global_growth_during+six_overall_rating*global_growth_prior\n",
      "INFO:dowhy.causal_estimator:INFO: Using Linear Regression Estimator\n",
      "ERROR:dowhy.causal_graph:Error: Pygraphviz cannot be loaded. Invalid Input\n",
      "Trying pydot ...\n",
      "INFO:dowhy.causal_model:Model to find the causal effect of treatment ['six_overall_rating'] on outcome ['growth_post']\n",
      "INFO:dowhy.causal_identifier:All common causes are observed. Causal effect can be identified.\n",
      "INFO:dowhy.causal_identifier:Instrumental variables for treatment and outcome:[]\n",
      "INFO:dowhy.causal_identifier:Frontdoor variables for treatment and outcome:[]\n",
      "INFO:dowhy.causal_estimator:b: growth_post~six_overall_rating+growth_during+global_growth_during+global_growth_prior+global_growth_post+growth_prior+wb_government_partner_rating+six_overall_rating*growth_during+six_overall_rating*global_growth_post+six_overall_rating*growth_prior+six_overall_rating*global_growth_during+six_overall_rating*global_growth_prior\n",
      "INFO:dowhy.causal_estimator:INFO: Using Linear Regression Estimator\n",
      "ERROR:dowhy.causal_graph:Error: Pygraphviz cannot be loaded. Invalid Input\n",
      "Trying pydot ...\n",
      "INFO:dowhy.causal_model:Model to find the causal effect of treatment ['six_overall_rating'] on outcome ['growth_post']\n",
      "INFO:dowhy.causal_identifier:All common causes are observed. Causal effect can be identified.\n",
      "INFO:dowhy.causal_identifier:Instrumental variables for treatment and outcome:[]\n",
      "INFO:dowhy.causal_identifier:Frontdoor variables for treatment and outcome:[]\n",
      "INFO:dowhy.causal_estimator:b: growth_post~six_overall_rating+growth_during+global_growth_during+global_growth_prior+global_growth_post+growth_prior+wb_government_partner_rating+six_overall_rating*growth_during+six_overall_rating*global_growth_post+six_overall_rating*growth_prior+six_overall_rating*global_growth_during+six_overall_rating*global_growth_prior\n",
      "INFO:dowhy.causal_estimator:INFO: Using Linear Regression Estimator\n",
      "ERROR:dowhy.causal_graph:Error: Pygraphviz cannot be loaded. Invalid Input\n",
      "Trying pydot ...\n",
      "INFO:dowhy.causal_model:Model to find the causal effect of treatment ['six_overall_rating'] on outcome ['growth_post']\n",
      "INFO:dowhy.causal_identifier:All common causes are observed. Causal effect can be identified.\n",
      "INFO:dowhy.causal_identifier:Instrumental variables for treatment and outcome:[]\n",
      "INFO:dowhy.causal_identifier:Frontdoor variables for treatment and outcome:[]\n",
      "INFO:dowhy.causal_estimator:b: growth_post~six_overall_rating+growth_during+global_growth_during+global_growth_prior+global_growth_post+growth_prior+wb_government_partner_rating+six_overall_rating*growth_during+six_overall_rating*global_growth_post+six_overall_rating*growth_prior+six_overall_rating*global_growth_during+six_overall_rating*global_growth_prior\n",
      "INFO:dowhy.causal_estimator:INFO: Using Linear Regression Estimator\n",
      "ERROR:dowhy.causal_graph:Error: Pygraphviz cannot be loaded. Invalid Input\n",
      "Trying pydot ...\n",
      "INFO:dowhy.causal_model:Model to find the causal effect of treatment ['six_overall_rating'] on outcome ['growth_post']\n"
     ]
    },
    {
     "name": "stderr",
     "output_type": "stream",
     "text": [
      "INFO:dowhy.causal_identifier:All common causes are observed. Causal effect can be identified.\n",
      "INFO:dowhy.causal_identifier:Instrumental variables for treatment and outcome:[]\n",
      "INFO:dowhy.causal_identifier:Frontdoor variables for treatment and outcome:[]\n",
      "INFO:dowhy.causal_estimator:b: growth_post~six_overall_rating+growth_during+global_growth_during+global_growth_prior+global_growth_post+growth_prior+wb_government_partner_rating+six_overall_rating*growth_during+six_overall_rating*global_growth_post+six_overall_rating*growth_prior+six_overall_rating*global_growth_during+six_overall_rating*global_growth_prior\n",
      "INFO:dowhy.causal_estimator:INFO: Using Linear Regression Estimator\n"
     ]
    }
   ],
   "source": [
    "range_results = crawl_over_lags(range(1, 11))"
   ]
  },
  {
   "cell_type": "code",
   "execution_count": 57,
   "id": "short-convertible",
   "metadata": {},
   "outputs": [],
   "source": [
    "extract_coeff_and_p = lambda year, result: { \n",
    "    \"years_after\": year, \n",
    "    \"ate\": result[\"estimate\"].value,\n",
    "    \"pval\": result[\"estimate\"].test_stat_significance()['p_value'][0]\n",
    "}"
   ]
  },
  {
   "cell_type": "code",
   "execution_count": 58,
   "id": "generous-copying",
   "metadata": {},
   "outputs": [
    {
     "data": {
      "text/plain": [
       "{'years_after': 1, 'ate': 0.19307246374859277, 'pval': 0.395949790012057}"
      ]
     },
     "execution_count": 58,
     "metadata": {},
     "output_type": "execute_result"
    }
   ],
   "source": [
    "extract_coeff_and_p(1, range_results[1])"
   ]
  },
  {
   "cell_type": "code",
   "execution_count": 59,
   "id": "changed-contemporary",
   "metadata": {},
   "outputs": [],
   "source": [
    "result_table = pd.DataFrame([extract_coeff_and_p(year, result) for year, result in range_results.items()])"
   ]
  },
  {
   "cell_type": "code",
   "execution_count": 60,
   "id": "unauthorized-joining",
   "metadata": {},
   "outputs": [
    {
     "data": {
      "text/html": [
       "<div>\n",
       "<style scoped>\n",
       "    .dataframe tbody tr th:only-of-type {\n",
       "        vertical-align: middle;\n",
       "    }\n",
       "\n",
       "    .dataframe tbody tr th {\n",
       "        vertical-align: top;\n",
       "    }\n",
       "\n",
       "    .dataframe thead th {\n",
       "        text-align: right;\n",
       "    }\n",
       "</style>\n",
       "<table border=\"1\" class=\"dataframe\">\n",
       "  <thead>\n",
       "    <tr style=\"text-align: right;\">\n",
       "      <th></th>\n",
       "      <th>years_after</th>\n",
       "      <th>ate</th>\n",
       "      <th>pval</th>\n",
       "    </tr>\n",
       "  </thead>\n",
       "  <tbody>\n",
       "    <tr>\n",
       "      <th>0</th>\n",
       "      <td>1</td>\n",
       "      <td>0.193072</td>\n",
       "      <td>0.395950</td>\n",
       "    </tr>\n",
       "    <tr>\n",
       "      <th>1</th>\n",
       "      <td>2</td>\n",
       "      <td>0.074262</td>\n",
       "      <td>0.730500</td>\n",
       "    </tr>\n",
       "    <tr>\n",
       "      <th>2</th>\n",
       "      <td>3</td>\n",
       "      <td>0.015178</td>\n",
       "      <td>0.826395</td>\n",
       "    </tr>\n",
       "    <tr>\n",
       "      <th>3</th>\n",
       "      <td>4</td>\n",
       "      <td>0.017962</td>\n",
       "      <td>0.655991</td>\n",
       "    </tr>\n",
       "    <tr>\n",
       "      <th>4</th>\n",
       "      <td>5</td>\n",
       "      <td>-0.005915</td>\n",
       "      <td>0.124264</td>\n",
       "    </tr>\n",
       "    <tr>\n",
       "      <th>5</th>\n",
       "      <td>6</td>\n",
       "      <td>-0.016961</td>\n",
       "      <td>0.110459</td>\n",
       "    </tr>\n",
       "    <tr>\n",
       "      <th>6</th>\n",
       "      <td>7</td>\n",
       "      <td>-0.010275</td>\n",
       "      <td>0.277426</td>\n",
       "    </tr>\n",
       "    <tr>\n",
       "      <th>7</th>\n",
       "      <td>8</td>\n",
       "      <td>-0.004216</td>\n",
       "      <td>0.292315</td>\n",
       "    </tr>\n",
       "    <tr>\n",
       "      <th>8</th>\n",
       "      <td>9</td>\n",
       "      <td>0.007183</td>\n",
       "      <td>0.890491</td>\n",
       "    </tr>\n",
       "    <tr>\n",
       "      <th>9</th>\n",
       "      <td>10</td>\n",
       "      <td>0.003193</td>\n",
       "      <td>0.619529</td>\n",
       "    </tr>\n",
       "  </tbody>\n",
       "</table>\n",
       "</div>"
      ],
      "text/plain": [
       "   years_after       ate      pval\n",
       "0            1  0.193072  0.395950\n",
       "1            2  0.074262  0.730500\n",
       "2            3  0.015178  0.826395\n",
       "3            4  0.017962  0.655991\n",
       "4            5 -0.005915  0.124264\n",
       "5            6 -0.016961  0.110459\n",
       "6            7 -0.010275  0.277426\n",
       "7            8 -0.004216  0.292315\n",
       "8            9  0.007183  0.890491\n",
       "9           10  0.003193  0.619529"
      ]
     },
     "execution_count": 60,
     "metadata": {},
     "output_type": "execute_result"
    }
   ],
   "source": [
    "result_table"
   ]
  },
  {
   "cell_type": "code",
   "execution_count": 63,
   "id": "pregnant-influence",
   "metadata": {},
   "outputs": [],
   "source": [
    "result_table.to_csv('../data/results/initial_growth_crawl.csv', index=False)"
   ]
  },
  {
   "cell_type": "code",
   "execution_count": null,
   "id": "modern-overhead",
   "metadata": {},
   "outputs": [],
   "source": []
  }
 ],
 "metadata": {
  "kernelspec": {
   "display_name": "causal",
   "language": "python",
   "name": "causal"
  },
  "language_info": {
   "codemirror_mode": {
    "name": "ipython",
    "version": 3
   },
   "file_extension": ".py",
   "mimetype": "text/x-python",
   "name": "python",
   "nbconvert_exporter": "python",
   "pygments_lexer": "ipython3",
   "version": "3.8.8"
  }
 },
 "nbformat": 4,
 "nbformat_minor": 5
}
