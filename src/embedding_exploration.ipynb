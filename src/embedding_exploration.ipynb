{
 "cells": [
  {
   "cell_type": "code",
   "execution_count": null,
   "id": "seasonal-shade",
   "metadata": {},
   "outputs": [],
   "source": [
    "import pandas as pd\n",
    "import numpy as np"
   ]
  },
  {
   "cell_type": "code",
   "execution_count": null,
   "id": "tribal-mozambique",
   "metadata": {},
   "outputs": [],
   "source": [
    "import matplotlib.pyplot as plt"
   ]
  },
  {
   "cell_type": "code",
   "execution_count": null,
   "id": "quick-helmet",
   "metadata": {},
   "outputs": [],
   "source": [
    "import pickle"
   ]
  },
  {
   "cell_type": "code",
   "execution_count": null,
   "id": "constitutional-conflict",
   "metadata": {},
   "outputs": [],
   "source": [
    "with open(\"../data/transformed_data/title_pdo_embeddings.pkl\", \"rb\") as embed_file:\n",
    "    embeddings = pickle.load(embed_file)"
   ]
  },
  {
   "cell_type": "code",
   "execution_count": null,
   "id": "proprietary-tutorial",
   "metadata": {},
   "outputs": [],
   "source": [
    "embeddings.keys()"
   ]
  },
  {
   "cell_type": "code",
   "execution_count": null,
   "id": "perceived-integer",
   "metadata": {},
   "outputs": [],
   "source": [
    "embeds = embeddings[\"embeddings\"]"
   ]
  },
  {
   "cell_type": "code",
   "execution_count": null,
   "id": "equivalent-piano",
   "metadata": {},
   "outputs": [],
   "source": [
    "from sklearn.decomposition import PCA"
   ]
  },
  {
   "cell_type": "code",
   "execution_count": null,
   "id": "sound-floating",
   "metadata": {},
   "outputs": [],
   "source": [
    "pca = PCA().fit(embeds)"
   ]
  },
  {
   "cell_type": "code",
   "execution_count": null,
   "id": "labeled-locking",
   "metadata": {},
   "outputs": [],
   "source": [
    "exp_var = np.cumsum(pca.explained_variance_ratio_)"
   ]
  },
  {
   "cell_type": "code",
   "execution_count": null,
   "id": "dimensional-tucson",
   "metadata": {},
   "outputs": [],
   "source": [
    "plt.plot(exp_var)\n",
    "plt.xlabel('number of components')\n",
    "plt.ylabel('cumulative explained variance');"
   ]
  },
  {
   "cell_type": "code",
   "execution_count": null,
   "id": "crucial-alaska",
   "metadata": {},
   "outputs": [],
   "source": [
    "embeds.shape"
   ]
  },
  {
   "cell_type": "code",
   "execution_count": null,
   "id": "therapeutic-rocket",
   "metadata": {},
   "outputs": [],
   "source": [
    "for i in range(10, 300, 10):\n",
    "    print(i, \": \", exp_var[i], \" gain: \", exp_var[i] - exp_var[i - 10])"
   ]
  },
  {
   "cell_type": "markdown",
   "id": "general-crazy",
   "metadata": {},
   "source": [
    "Going to use 100 as a good trade-off"
   ]
  },
  {
   "cell_type": "code",
   "execution_count": null,
   "id": "attached-serial",
   "metadata": {},
   "outputs": [],
   "source": [
    "from sklearn.manifold import TSNE"
   ]
  },
  {
   "cell_type": "code",
   "execution_count": null,
   "id": "incoming-print",
   "metadata": {},
   "outputs": [],
   "source": [
    "tsne = TSNE(n_components = 2, perplexity = 10, random_state = 6, \n",
    "                learning_rate = 1000, n_iter = 1500)"
   ]
  },
  {
   "cell_type": "code",
   "execution_count": null,
   "id": "toxic-enzyme",
   "metadata": {},
   "outputs": [],
   "source": [
    "embeds_pca = PCA(n_components = 100).fit_transform(embeds)"
   ]
  },
  {
   "cell_type": "code",
   "execution_count": null,
   "id": "compressed-incident",
   "metadata": {},
   "outputs": [],
   "source": [
    "embeds_pca.shape"
   ]
  },
  {
   "cell_type": "code",
   "execution_count": null,
   "id": "abandoned-intensity",
   "metadata": {},
   "outputs": [],
   "source": [
    "embeds_tsne = tsne.fit_transform(embeds_pca)"
   ]
  },
  {
   "cell_type": "code",
   "execution_count": null,
   "id": "important-handy",
   "metadata": {},
   "outputs": [],
   "source": []
  }
 ],
 "metadata": {
  "kernelspec": {
   "display_name": "causal",
   "language": "python",
   "name": "causal"
  },
  "language_info": {
   "codemirror_mode": {
    "name": "ipython",
    "version": 3
   },
   "file_extension": ".py",
   "mimetype": "text/x-python",
   "name": "python",
   "nbconvert_exporter": "python",
   "pygments_lexer": "ipython3",
   "version": "3.8.8"
  }
 },
 "nbformat": 4,
 "nbformat_minor": 5
}
