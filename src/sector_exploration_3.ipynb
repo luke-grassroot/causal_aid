{
 "cells": [
  {
   "cell_type": "code",
   "execution_count": 1,
   "id": "municipal-washington",
   "metadata": {},
   "outputs": [],
   "source": [
    "import pandas as pd"
   ]
  },
  {
   "cell_type": "code",
   "execution_count": 2,
   "id": "seasonal-unemployment",
   "metadata": {},
   "outputs": [],
   "source": [
    "from datetime import datetime, timedelta"
   ]
  },
  {
   "cell_type": "code",
   "execution_count": 3,
   "id": "liable-petersburg",
   "metadata": {},
   "outputs": [],
   "source": [
    "import matplotlib\n",
    "import matplotlib.pyplot as plt"
   ]
  },
  {
   "cell_type": "code",
   "execution_count": 66,
   "id": "fitting-assembly",
   "metadata": {},
   "outputs": [],
   "source": [
    "# import dowhy\n",
    "from dowhy import CausalModel"
   ]
  },
  {
   "cell_type": "code",
   "execution_count": 67,
   "id": "adjacent-neighbor",
   "metadata": {},
   "outputs": [],
   "source": [
    "from IPython.display import Image, display"
   ]
  },
  {
   "cell_type": "code",
   "execution_count": 4,
   "id": "improving-murder",
   "metadata": {},
   "outputs": [],
   "source": [
    "pd.set_option(\"mode.chained_assignment\", None)"
   ]
  },
  {
   "cell_type": "code",
   "execution_count": 5,
   "id": "bronze-realtor",
   "metadata": {},
   "outputs": [],
   "source": [
    "from futil import * "
   ]
  },
  {
   "cell_type": "code",
   "execution_count": 6,
   "id": "detected-capacity",
   "metadata": {},
   "outputs": [],
   "source": [
    "wdi_df, series_df = load_wdi()"
   ]
  },
  {
   "cell_type": "code",
   "execution_count": 7,
   "id": "creative-arctic",
   "metadata": {},
   "outputs": [],
   "source": [
    "project_df = load_projects()\n",
    "wb_df = extract_wb_projects(project_df)"
   ]
  },
  {
   "cell_type": "markdown",
   "id": "false-berry",
   "metadata": {},
   "source": [
    "So use:\n",
    "\n",
    "* GDP at current USD, from WDI\n",
    "* Multiply by % of GDP\n",
    "* Compare to WB loan size"
   ]
  },
  {
   "cell_type": "code",
   "execution_count": 8,
   "id": "official-smart",
   "metadata": {},
   "outputs": [],
   "source": [
    "relevant_codes = {\n",
    "    'GDP_current_USD': 'NY.GDP.MKTP.CD',\n",
    "    'GovtExpenses_current_USD': 'GC.XPN.TOTL.GD.ZS'\n",
    "}\n",
    "\n",
    "wb_extract = extract_indicators(wdi_df, relevant_codes.values())\n",
    "\n",
    "expense_df = wb_extract[wb_extract['Indicator Code'] == 'GC.XPN.TOTL.GD.ZS']"
   ]
  },
  {
   "cell_type": "code",
   "execution_count": 9,
   "id": "natural-lawyer",
   "metadata": {},
   "outputs": [],
   "source": [
    "feature_indicators = [\n",
    "    'DT.ODA.ODAT.GN.ZS',\n",
    "    'NY.GDP.MKTP.CD' # divide project size at time\n",
    "]"
   ]
  },
  {
   "cell_type": "code",
   "execution_count": 10,
   "id": "ordered-designation",
   "metadata": {},
   "outputs": [],
   "source": [
    "education_expense_indicators = [\n",
    "    'SE.XPD.PRIM.ZS',\n",
    "    'SE.XPD.SECO.ZS',\n",
    "    'SE.XPD.TERT.ZS'\n",
    "]"
   ]
  },
  {
   "cell_type": "markdown",
   "id": "floating-maple",
   "metadata": {},
   "source": [
    "## Constructing time gaps"
   ]
  },
  {
   "cell_type": "code",
   "execution_count": 11,
   "id": "composite-grounds",
   "metadata": {},
   "outputs": [],
   "source": [
    "sector_aggs = project_df.groupby('sector').agg(\n",
    "    number_projects=('ppd_project_id', 'nunique'),\n",
    "    earliest_year=('start_dt', 'min'),\n",
    "    latest_project=('start_dt', 'max'),\n",
    "    number_donors=('donor_name', 'nunique'),\n",
    "    avg_rating=('six_overall_rating', 'mean'),\n",
    "    avg_duration=('project_duration', 'mean')\n",
    ")"
   ]
  },
  {
   "cell_type": "code",
   "execution_count": 12,
   "id": "athletic-egyptian",
   "metadata": {},
   "outputs": [],
   "source": [
    "feature_cols = [\n",
    "    'country_code', \n",
    "    'donor_name', \n",
    "    'aiddata_sectorname', \n",
    "    'six_overall_rating', \n",
    "    'start_date', \n",
    "    'completion_date', \n",
    "    'project_duration',\n",
    "    'sector'\n",
    "]"
   ]
  },
  {
   "cell_type": "code",
   "execution_count": 13,
   "id": "federal-casino",
   "metadata": {},
   "outputs": [],
   "source": [
    "pdf = narrow_convert_project_data(project_df, feature_cols)"
   ]
  },
  {
   "cell_type": "code",
   "execution_count": 14,
   "id": "peripheral-viewer",
   "metadata": {},
   "outputs": [
    {
     "data": {
      "text/plain": [
       "<AxesSubplot:>"
      ]
     },
     "execution_count": 14,
     "metadata": {},
     "output_type": "execute_result"
    },
    {
     "data": {
      "image/png": "[encoded data removed]",
      "text/plain": [
       "<Figure size 432x288 with 1 Axes>"
      ]
     },
     "metadata": {
      "needs_background": "light"
     },
     "output_type": "display_data"
    }
   ],
   "source": [
    "pdf.completion_dt.dt.month.hist()"
   ]
  },
  {
   "cell_type": "code",
   "execution_count": 15,
   "id": "american-uncertainty",
   "metadata": {},
   "outputs": [],
   "source": [
    "total_countries = pdf.country_code.nunique()\n",
    "earliest_year = pdf.start_year.min()\n",
    "latest_year = pdf.start_year.max()\n",
    "year_range = range(int(earliest_year), int(latest_year))"
   ]
  },
  {
   "cell_type": "code",
   "execution_count": 16,
   "id": "behavioral-projector",
   "metadata": {},
   "outputs": [
    {
     "data": {
      "text/plain": [
       "[<matplotlib.lines.Line2D at 0x7fd8bcac9730>]"
      ]
     },
     "execution_count": 16,
     "metadata": {},
     "output_type": "execute_result"
    },
    {
     "data": {
      "image/png": "[encoded data removed]",
      "text/plain": [
       "<Figure size 432x288 with 1 Axes>"
      ]
     },
     "metadata": {
      "needs_background": "light"
     },
     "output_type": "display_data"
    }
   ],
   "source": [
    "fig, ax = plt.subplots()\n",
    "ax.plot(year_range, count_countries_in_window(pdf, year_range, year_lag=0))"
   ]
  },
  {
   "cell_type": "code",
   "execution_count": 17,
   "id": "imposed-empty",
   "metadata": {},
   "outputs": [
    {
     "data": {
      "text/plain": [
       "(0.0, 1.0)"
      ]
     },
     "execution_count": 17,
     "metadata": {},
     "output_type": "execute_result"
    },
    {
     "data": {
      "image/png": "[encoded data removed]",
      "text/plain": [
       "<Figure size 432x288 with 1 Axes>"
      ]
     },
     "metadata": {
      "needs_background": "light"
     },
     "output_type": "display_data"
    }
   ],
   "source": [
    "fig, ax = plt.subplots()\n",
    "ax.plot(year_range, count_countries_in_window(pdf, year_range))\n",
    "ax.set_ylim([0, 1])"
   ]
  },
  {
   "cell_type": "code",
   "execution_count": 18,
   "id": "eligible-writer",
   "metadata": {},
   "outputs": [
    {
     "data": {
      "text/plain": [
       "(0.0, 1.0)"
      ]
     },
     "execution_count": 18,
     "metadata": {},
     "output_type": "execute_result"
    },
    {
     "data": {
      "image/png": "[encoded data removed]",
      "text/plain": [
       "<Figure size 432x288 with 1 Axes>"
      ]
     },
     "metadata": {
      "needs_background": "light"
     },
     "output_type": "display_data"
    }
   ],
   "source": [
    "fig, ax = plt.subplots()\n",
    "ax.plot(year_range, count_countries_in_window(pdf, year_range, year_lag=5, in_sector='Education'))\n",
    "ax.set_ylim([0, 1])"
   ]
  },
  {
   "cell_type": "markdown",
   "id": "attended-massage",
   "metadata": {},
   "source": [
    "** In other words: can only get to binary using sectors"
   ]
  },
  {
   "cell_type": "code",
   "execution_count": 19,
   "id": "occasional-painting",
   "metadata": {},
   "outputs": [],
   "source": [
    "assemble_sector_dict = lambda sector: dict(zip(year_range, count_countries_in_window(pdf, year_range, year_lag=5, in_sector=sector)))\n",
    "# mean_sector_treat = lambda sector: "
   ]
  },
  {
   "cell_type": "code",
   "execution_count": 20,
   "id": "solved-gibraltar",
   "metadata": {},
   "outputs": [],
   "source": [
    "def calc_sector_post_year_gaps(sector, year):\n",
    "    sector_post_year = [value for key, value in assemble_sector_dict(sector).items() if key >= year]\n",
    "    mean_post_year = sum(sector_post_year) / len(sector_post_year)\n",
    "    return mean_post_year"
   ]
  },
  {
   "cell_type": "code",
   "execution_count": 21,
   "id": "nearby-ecuador",
   "metadata": {},
   "outputs": [
    {
     "data": {
      "text/plain": [
       "0.5015495867768593"
      ]
     },
     "execution_count": 21,
     "metadata": {},
     "output_type": "execute_result"
    }
   ],
   "source": [
    "calc_sector_post_year_gaps('Education', 1990)"
   ]
  },
  {
   "cell_type": "markdown",
   "id": "promotional-decimal",
   "metadata": {},
   "source": [
    "## Assemble dataframe"
   ]
  },
  {
   "cell_type": "code",
   "execution_count": 22,
   "id": "collect-moses",
   "metadata": {},
   "outputs": [],
   "source": [
    "def get_countries_with_active(pdf, year, year_lag=5, in_sector=None):\n",
    "    ref_year = datetime(year, 1, 1)\n",
    "    \n",
    "    active_mask = pdf.start_dt < ref_year\n",
    "    lag_mask = (pdf.completion_dt + timedelta(days=(year_lag*365))) > ref_year\n",
    "    active_plus_lag_mask = active_mask & lag_mask\n",
    "    sector_mask = pdf.sector == in_sector\n",
    "    \n",
    "    final_mask = (active_plus_lag_mask & sector_mask) if in_sector is not None else active_plus_lag_mask\n",
    "    \n",
    "    return pdf[final_mask].country_code.unique()"
   ]
  },
  {
   "cell_type": "code",
   "execution_count": 23,
   "id": "palestinian-prague",
   "metadata": {},
   "outputs": [
    {
     "data": {
      "text/plain": [
       "array(['BNG', 'INS', 'CAM', 'MSI', 'LAO', 'KZK', 'UZB', 'COO', 'MON',\n",
       "       'KYR', 'PHI', 'PNG', 'THI', 'DRV', 'NEP', 'PAK', 'MLD', 'SRI',\n",
       "       'BHU', 'MAL', 'JOR', 'CHN', 'BUI', 'MLI', 'SAL', 'HON', 'NIC',\n",
       "       'CHL', 'GUA', 'SEN', 'TUN', 'NIR', 'CHA', 'CDI', 'ISR', 'EGY',\n",
       "       'BOL', 'ECU', 'PER', 'ERI', 'DOM', 'MAW', 'GHA', 'ETH', 'IND',\n",
       "       'GUI', 'NAM', 'YEM', 'WBG', 'UGA', 'LES', 'NIG', 'ZIM', 'ARG',\n",
       "       'ALG', 'TUR', 'CAP', 'MOR', 'BAR', 'BFO', 'BRA', 'BLZ', 'MZM',\n",
       "       'COL', 'COS', 'DJI', 'DMA', 'LAT', 'TAZ', 'AZE', 'MAG', 'MAA',\n",
       "       'TAJ', 'VAN', 'MAD', 'BEN', 'ANG', 'SIE', 'ROM', 'ZAM', 'MAS',\n",
       "       'POL', 'HUN', 'MEX', 'JAM', 'LEB', 'KEN', 'PAN', 'PAR', 'TOG',\n",
       "       'ALB', 'SLU', 'URU'], dtype=object)"
      ]
     },
     "execution_count": 23,
     "metadata": {},
     "output_type": "execute_result"
    }
   ],
   "source": [
    "get_countries_with_active(pdf, 2000, in_sector='Education')"
   ]
  },
  {
   "cell_type": "code",
   "execution_count": 24,
   "id": "great-ceremony",
   "metadata": {},
   "outputs": [],
   "source": [
    "all_countries = pdf.country_code.unique()"
   ]
  },
  {
   "cell_type": "code",
   "execution_count": 25,
   "id": "graphic-skill",
   "metadata": {},
   "outputs": [
    {
     "data": {
      "text/plain": [
       "176"
      ]
     },
     "execution_count": 25,
     "metadata": {},
     "output_type": "execute_result"
    }
   ],
   "source": [
    "len(all_countries)"
   ]
  },
  {
   "cell_type": "code",
   "execution_count": 26,
   "id": "sized-breed",
   "metadata": {},
   "outputs": [
    {
     "data": {
      "text/plain": [
       "93"
      ]
     },
     "execution_count": 26,
     "metadata": {},
     "output_type": "execute_result"
    }
   ],
   "source": [
    "len(get_countries_with_active(pdf, 2000, in_sector='Education'))"
   ]
  },
  {
   "cell_type": "markdown",
   "id": "limiting-dryer",
   "metadata": {},
   "source": [
    "## First approach: binary treatment, simple, education"
   ]
  },
  {
   "cell_type": "markdown",
   "id": "successful-expansion",
   "metadata": {},
   "source": [
    "### Assemble education indicator frame"
   ]
  },
  {
   "cell_type": "code",
   "execution_count": 27,
   "id": "rocky-stopping",
   "metadata": {},
   "outputs": [],
   "source": [
    "# for each country-year, calculate mean growth in education indicators at year + lag"
   ]
  },
  {
   "cell_type": "code",
   "execution_count": 175,
   "id": "little-documentation",
   "metadata": {},
   "outputs": [],
   "source": [
    "def assemble_sectoral_df(load_persisted=True):\n",
    "    # first, assemble DF from cross product of country codes and all years\n",
    "    df = pd.DataFrame(index = pd.MultiIndex.from_product([year_range, all_countries], names=[\"year\", \"country\"])).reset_index()\n",
    "\n",
    "    # second, look up education indicators at years + lag, after interpolating\n",
    "    edu_indicators = ['SE.PRM.NENR',\n",
    "                      'SE.PRM.CMPT.ZS',\n",
    "                      'SE.PRM.PRSL.ZS']\n",
    "\n",
    "    mdf = pd.read_csv('../data/MDGData.csv')\n",
    "    edf = mdf[mdf['Indicator Code'].isin(edu_indicators)]\n",
    "    tdf = edf.drop(\n",
    "        columns=[\"Country Name\", \"Indicator Name\", \"Unnamed: 30\"]\n",
    "    ).melt(\n",
    "        id_vars=['Country Code', 'Indicator Code'],\n",
    "        var_name=\"Year\"\n",
    "    )\n",
    "\n",
    "    tdf['Year'] = tdf['Year'].astype(int)\n",
    "    \n",
    "    if load_persisted:\n",
    "        df = df.read_csv('../data/transformed_df/education.csv')\n",
    "    \n",
    "    return df, tdf"
   ]
  },
  {
   "cell_type": "code",
   "execution_count": 37,
   "id": "written-corps",
   "metadata": {},
   "outputs": [
    {
     "data": {
      "text/html": [
       "<div>\n",
       "<style scoped>\n",
       "    .dataframe tbody tr th:only-of-type {\n",
       "        vertical-align: middle;\n",
       "    }\n",
       "\n",
       "    .dataframe tbody tr th {\n",
       "        vertical-align: top;\n",
       "    }\n",
       "\n",
       "    .dataframe thead th {\n",
       "        text-align: right;\n",
       "    }\n",
       "</style>\n",
       "<table border=\"1\" class=\"dataframe\">\n",
       "  <thead>\n",
       "    <tr style=\"text-align: right;\">\n",
       "      <th></th>\n",
       "      <th>Country Code</th>\n",
       "      <th>Indicator Code</th>\n",
       "      <th>Year</th>\n",
       "      <th>value</th>\n",
       "    </tr>\n",
       "  </thead>\n",
       "  <tbody>\n",
       "    <tr>\n",
       "      <th>0</th>\n",
       "      <td>ARB</td>\n",
       "      <td>SE.PRM.PRSL.ZS</td>\n",
       "      <td>1990</td>\n",
       "      <td>84.182720</td>\n",
       "    </tr>\n",
       "    <tr>\n",
       "      <th>1</th>\n",
       "      <td>ARB</td>\n",
       "      <td>SE.PRM.CMPT.ZS</td>\n",
       "      <td>1990</td>\n",
       "      <td>68.912369</td>\n",
       "    </tr>\n",
       "    <tr>\n",
       "      <th>2</th>\n",
       "      <td>ARB</td>\n",
       "      <td>SE.PRM.NENR</td>\n",
       "      <td>1990</td>\n",
       "      <td>72.386398</td>\n",
       "    </tr>\n",
       "    <tr>\n",
       "      <th>3</th>\n",
       "      <td>CSS</td>\n",
       "      <td>SE.PRM.PRSL.ZS</td>\n",
       "      <td>1990</td>\n",
       "      <td>83.209790</td>\n",
       "    </tr>\n",
       "    <tr>\n",
       "      <th>4</th>\n",
       "      <td>CSS</td>\n",
       "      <td>SE.PRM.CMPT.ZS</td>\n",
       "      <td>1990</td>\n",
       "      <td>94.996964</td>\n",
       "    </tr>\n",
       "  </tbody>\n",
       "</table>\n",
       "</div>"
      ],
      "text/plain": [
       "  Country Code  Indicator Code  Year      value\n",
       "0          ARB  SE.PRM.PRSL.ZS  1990  84.182720\n",
       "1          ARB  SE.PRM.CMPT.ZS  1990  68.912369\n",
       "2          ARB     SE.PRM.NENR  1990  72.386398\n",
       "3          CSS  SE.PRM.PRSL.ZS  1990  83.209790\n",
       "4          CSS  SE.PRM.CMPT.ZS  1990  94.996964"
      ]
     },
     "execution_count": 37,
     "metadata": {},
     "output_type": "execute_result"
    }
   ],
   "source": [
    "df, tdf = assemble_sectoral_df()\n",
    "# tdf.head()"
   ]
  },
  {
   "cell_type": "code",
   "execution_count": 38,
   "id": "ecological-laser",
   "metadata": {},
   "outputs": [],
   "source": [
    "# stubbing out for some later interpolation"
   ]
  },
  {
   "cell_type": "code",
   "execution_count": 39,
   "id": "enclosed-muscle",
   "metadata": {},
   "outputs": [],
   "source": [
    "ug_df = tdf[(tdf['Country Code'] == 'UGA') & (tdf['Indicator Code'] == 'SE.PRM.PRSL.ZS')]\n",
    "ug_df = ug_df.set_index('Year')"
   ]
  },
  {
   "cell_type": "code",
   "execution_count": 188,
   "id": "disciplinary-attendance",
   "metadata": {},
   "outputs": [
    {
     "data": {
      "text/plain": [
       "<AxesSubplot:xlabel='Year'>"
      ]
     },
     "execution_count": 188,
     "metadata": {},
     "output_type": "execute_result"
    },
    {
     "data": {
      "image/png": "[encoded data removed]",
      "text/plain": [
       "<Figure size 432x288 with 1 Axes>"
      ]
     },
     "metadata": {
      "needs_background": "light"
     },
     "output_type": "display_data"
    }
   ],
   "source": [
    "ug_df['value_interp'] = ug_df['value'].interpolate(method='akima')\n",
    "ug_df.plot.line(y=['value_interp', 'value'])"
   ]
  },
  {
   "cell_type": "code",
   "execution_count": 43,
   "id": "vertical-coordination",
   "metadata": {},
   "outputs": [],
   "source": [
    "# third, obtain the average; now have the response"
   ]
  },
  {
   "cell_type": "code",
   "execution_count": 44,
   "id": "configured-pontiac",
   "metadata": {},
   "outputs": [],
   "source": [
    "def add_edu_lag_and_count(row, lag):\n",
    "    lag_avg, lag_count = get_avg_indicator_with_lag(tdf, row['country'], row['year'], edu_indicators, lag)\n",
    "    row['edu_lag_' + str(lag) + '_growth'] = lag_avg\n",
    "    row['edu_lag_' + str(lag) + '_count'] = lag_count\n",
    "    return row"
   ]
  },
  {
   "cell_type": "code",
   "execution_count": 45,
   "id": "aware-policy",
   "metadata": {},
   "outputs": [
    {
     "data": {
      "text/plain": [
       "(0.8334471820033446, 1)"
      ]
     },
     "execution_count": 45,
     "metadata": {},
     "output_type": "execute_result"
    }
   ],
   "source": [
    "get_avg_indicator_with_lag(tdf, 'UGA', 2000, edu_indicators, 6)"
   ]
  },
  {
   "cell_type": "code",
   "execution_count": 176,
   "id": "simple-federation",
   "metadata": {},
   "outputs": [],
   "source": [
    "for lag in range (1, 10):\n",
    "    if 'edu_lag_' + str(lag) + '_growth' not in df.columns:\n",
    "        df = df.apply(lambda row: add_edu_lag_and_count(row, lag), axis=1)"
   ]
  },
  {
   "cell_type": "code",
   "execution_count": 178,
   "id": "empirical-testing",
   "metadata": {},
   "outputs": [],
   "source": [
    "prior_offset= 4\n",
    "if 'edu_lag_' + str(-prior_offset) + '_growth':\n",
    "    df = df.apply(lambda row: add_edu_lag_and_count(row, -4), axis=1)"
   ]
  },
  {
   "cell_type": "code",
   "execution_count": 58,
   "id": "treated-information",
   "metadata": {},
   "outputs": [
    {
     "data": {
      "text/html": [
       "<div>\n",
       "<style scoped>\n",
       "    .dataframe tbody tr th:only-of-type {\n",
       "        vertical-align: middle;\n",
       "    }\n",
       "\n",
       "    .dataframe tbody tr th {\n",
       "        vertical-align: top;\n",
       "    }\n",
       "\n",
       "    .dataframe thead th {\n",
       "        text-align: right;\n",
       "    }\n",
       "</style>\n",
       "<table border=\"1\" class=\"dataframe\">\n",
       "  <thead>\n",
       "    <tr style=\"text-align: right;\">\n",
       "      <th></th>\n",
       "      <th>year</th>\n",
       "      <th>country</th>\n",
       "      <th>edu_lag_5_growth</th>\n",
       "      <th>edu_lag_5_count</th>\n",
       "      <th>edu_lag_6_growth</th>\n",
       "      <th>edu_lag_6_count</th>\n",
       "      <th>edu_lag_7_growth</th>\n",
       "      <th>edu_lag_7_count</th>\n",
       "      <th>edu_lag_8_growth</th>\n",
       "      <th>edu_lag_8_count</th>\n",
       "      <th>...</th>\n",
       "      <th>edu_lag_1_growth</th>\n",
       "      <th>edu_lag_1_count</th>\n",
       "      <th>edu_lag_2_growth</th>\n",
       "      <th>edu_lag_2_count</th>\n",
       "      <th>edu_lag_3_growth</th>\n",
       "      <th>edu_lag_3_count</th>\n",
       "      <th>edu_lag_4_growth</th>\n",
       "      <th>edu_lag_4_count</th>\n",
       "      <th>edu_lag_-4_growth</th>\n",
       "      <th>edu_lag_-4_count</th>\n",
       "    </tr>\n",
       "  </thead>\n",
       "  <tbody>\n",
       "    <tr>\n",
       "      <th>0</th>\n",
       "      <td>1956</td>\n",
       "      <td>CHN</td>\n",
       "      <td>NaN</td>\n",
       "      <td>0</td>\n",
       "      <td>NaN</td>\n",
       "      <td>0</td>\n",
       "      <td>NaN</td>\n",
       "      <td>0</td>\n",
       "      <td>NaN</td>\n",
       "      <td>0</td>\n",
       "      <td>...</td>\n",
       "      <td>NaN</td>\n",
       "      <td>0</td>\n",
       "      <td>NaN</td>\n",
       "      <td>0</td>\n",
       "      <td>NaN</td>\n",
       "      <td>0</td>\n",
       "      <td>NaN</td>\n",
       "      <td>0</td>\n",
       "      <td>NaN</td>\n",
       "      <td>0</td>\n",
       "    </tr>\n",
       "    <tr>\n",
       "      <th>1</th>\n",
       "      <td>1956</td>\n",
       "      <td>COO</td>\n",
       "      <td>NaN</td>\n",
       "      <td>0</td>\n",
       "      <td>NaN</td>\n",
       "      <td>0</td>\n",
       "      <td>NaN</td>\n",
       "      <td>0</td>\n",
       "      <td>NaN</td>\n",
       "      <td>0</td>\n",
       "      <td>...</td>\n",
       "      <td>NaN</td>\n",
       "      <td>0</td>\n",
       "      <td>NaN</td>\n",
       "      <td>0</td>\n",
       "      <td>NaN</td>\n",
       "      <td>0</td>\n",
       "      <td>NaN</td>\n",
       "      <td>0</td>\n",
       "      <td>NaN</td>\n",
       "      <td>0</td>\n",
       "    </tr>\n",
       "    <tr>\n",
       "      <th>2</th>\n",
       "      <td>1956</td>\n",
       "      <td>PHI</td>\n",
       "      <td>NaN</td>\n",
       "      <td>0</td>\n",
       "      <td>NaN</td>\n",
       "      <td>0</td>\n",
       "      <td>NaN</td>\n",
       "      <td>0</td>\n",
       "      <td>NaN</td>\n",
       "      <td>0</td>\n",
       "      <td>...</td>\n",
       "      <td>NaN</td>\n",
       "      <td>0</td>\n",
       "      <td>NaN</td>\n",
       "      <td>0</td>\n",
       "      <td>NaN</td>\n",
       "      <td>0</td>\n",
       "      <td>NaN</td>\n",
       "      <td>0</td>\n",
       "      <td>NaN</td>\n",
       "      <td>0</td>\n",
       "    </tr>\n",
       "    <tr>\n",
       "      <th>3</th>\n",
       "      <td>1956</td>\n",
       "      <td>NEP</td>\n",
       "      <td>NaN</td>\n",
       "      <td>0</td>\n",
       "      <td>NaN</td>\n",
       "      <td>0</td>\n",
       "      <td>NaN</td>\n",
       "      <td>0</td>\n",
       "      <td>NaN</td>\n",
       "      <td>0</td>\n",
       "      <td>...</td>\n",
       "      <td>NaN</td>\n",
       "      <td>0</td>\n",
       "      <td>NaN</td>\n",
       "      <td>0</td>\n",
       "      <td>NaN</td>\n",
       "      <td>0</td>\n",
       "      <td>NaN</td>\n",
       "      <td>0</td>\n",
       "      <td>NaN</td>\n",
       "      <td>0</td>\n",
       "    </tr>\n",
       "    <tr>\n",
       "      <th>4</th>\n",
       "      <td>1956</td>\n",
       "      <td>SRI</td>\n",
       "      <td>NaN</td>\n",
       "      <td>0</td>\n",
       "      <td>NaN</td>\n",
       "      <td>0</td>\n",
       "      <td>NaN</td>\n",
       "      <td>0</td>\n",
       "      <td>NaN</td>\n",
       "      <td>0</td>\n",
       "      <td>...</td>\n",
       "      <td>NaN</td>\n",
       "      <td>0</td>\n",
       "      <td>NaN</td>\n",
       "      <td>0</td>\n",
       "      <td>NaN</td>\n",
       "      <td>0</td>\n",
       "      <td>NaN</td>\n",
       "      <td>0</td>\n",
       "      <td>NaN</td>\n",
       "      <td>0</td>\n",
       "    </tr>\n",
       "  </tbody>\n",
       "</table>\n",
       "<p>5 rows × 22 columns</p>\n",
       "</div>"
      ],
      "text/plain": [
       "   year country  edu_lag_5_growth  edu_lag_5_count  edu_lag_6_growth  \\\n",
       "0  1956     CHN               NaN                0               NaN   \n",
       "1  1956     COO               NaN                0               NaN   \n",
       "2  1956     PHI               NaN                0               NaN   \n",
       "3  1956     NEP               NaN                0               NaN   \n",
       "4  1956     SRI               NaN                0               NaN   \n",
       "\n",
       "   edu_lag_6_count  edu_lag_7_growth  edu_lag_7_count  edu_lag_8_growth  \\\n",
       "0                0               NaN                0               NaN   \n",
       "1                0               NaN                0               NaN   \n",
       "2                0               NaN                0               NaN   \n",
       "3                0               NaN                0               NaN   \n",
       "4                0               NaN                0               NaN   \n",
       "\n",
       "   edu_lag_8_count  ...  edu_lag_1_growth  edu_lag_1_count  edu_lag_2_growth  \\\n",
       "0                0  ...               NaN                0               NaN   \n",
       "1                0  ...               NaN                0               NaN   \n",
       "2                0  ...               NaN                0               NaN   \n",
       "3                0  ...               NaN                0               NaN   \n",
       "4                0  ...               NaN                0               NaN   \n",
       "\n",
       "   edu_lag_2_count  edu_lag_3_growth  edu_lag_3_count  edu_lag_4_growth  \\\n",
       "0                0               NaN                0               NaN   \n",
       "1                0               NaN                0               NaN   \n",
       "2                0               NaN                0               NaN   \n",
       "3                0               NaN                0               NaN   \n",
       "4                0               NaN                0               NaN   \n",
       "\n",
       "   edu_lag_4_count  edu_lag_-4_growth  edu_lag_-4_count  \n",
       "0                0                NaN                 0  \n",
       "1                0                NaN                 0  \n",
       "2                0                NaN                 0  \n",
       "3                0                NaN                 0  \n",
       "4                0                NaN                 0  \n",
       "\n",
       "[5 rows x 22 columns]"
      ]
     },
     "execution_count": 58,
     "metadata": {},
     "output_type": "execute_result"
    }
   ],
   "source": [
    "df.head()"
   ]
  },
  {
   "cell_type": "code",
   "execution_count": 55,
   "id": "chinese-cuisine",
   "metadata": {},
   "outputs": [
    {
     "name": "stdout",
     "output_type": "stream",
     "text": [
      "Number of observations at lag 1 is: 930\n",
      "Number of observations at lag 2 is: 917\n",
      "Number of observations at lag 3 is: 904\n",
      "Number of observations at lag 4 is: 902\n",
      "Number of observations at lag 5 is: 849\n",
      "Number of observations at lag 6 is: 801\n",
      "Number of observations at lag 7 is: 747\n",
      "Number of observations at lag 8 is: 707\n",
      "Number of observations at lag 9 is: 664\n"
     ]
    }
   ],
   "source": [
    "for i in range(1, 10):\n",
    "    print(f\"Number of observations at lag {i} is: {df['edu_lag_' + str(i) + '_growth'].notna().sum()}\")"
   ]
  },
  {
   "cell_type": "code",
   "execution_count": 61,
   "id": "laden-continent",
   "metadata": {},
   "outputs": [
    {
     "data": {
      "text/plain": [
       "<AxesSubplot:>"
      ]
     },
     "execution_count": 61,
     "metadata": {},
     "output_type": "execute_result"
    },
    {
     "data": {
      "image/png": "[encoded data removed]",
      "text/plain": [
       "<Figure size 432x288 with 1 Axes>"
      ]
     },
     "metadata": {
      "needs_background": "light"
     },
     "output_type": "display_data"
    }
   ],
   "source": [
    "df[df['edu_lag_-4_count'] > 0]['edu_lag_-4_count'].hist()"
   ]
  },
  {
   "cell_type": "code",
   "execution_count": 62,
   "id": "phantom-affairs",
   "metadata": {},
   "outputs": [
    {
     "data": {
      "text/plain": [
       "<AxesSubplot:>"
      ]
     },
     "execution_count": 62,
     "metadata": {},
     "output_type": "execute_result"
    },
    {
     "data": {
      "image/png": "[encoded data removed]",
      "text/plain": [
       "<Figure size 432x288 with 1 Axes>"
      ]
     },
     "metadata": {
      "needs_background": "light"
     },
     "output_type": "display_data"
    }
   ],
   "source": [
    "df[df['edu_lag_-4_count'] > 0]['edu_lag_-4_growth'].hist()"
   ]
  },
  {
   "cell_type": "code",
   "execution_count": null,
   "id": "organized-environment",
   "metadata": {},
   "outputs": [],
   "source": [
    "# fourth, add in whether or not a project completed in that year"
   ]
  },
  {
   "cell_type": "code",
   "execution_count": 179,
   "id": "hydraulic-machine",
   "metadata": {},
   "outputs": [],
   "source": [
    "eproj = pdf[pdf.sector == 'Education']\n",
    "\n",
    "def is_project_complete_year(year, country, sp_df):\n",
    "    country_proj = sp_df[sp_df['country_code'] == country].end_year.to_list()\n",
    "    return year in country_proj"
   ]
  },
  {
   "cell_type": "code",
   "execution_count": 180,
   "id": "sublime-syracuse",
   "metadata": {},
   "outputs": [],
   "source": [
    "if 'project_completed_year' not in df.columns:\n",
    "    df['project_completed_year'] = df.apply(lambda row: is_project_complete_year(row['year'], row['country'], eproj), axis=1)"
   ]
  },
  {
   "cell_type": "code",
   "execution_count": 181,
   "id": "constant-cincinnati",
   "metadata": {},
   "outputs": [
    {
     "data": {
      "text/html": [
       "<div>\n",
       "<style scoped>\n",
       "    .dataframe tbody tr th:only-of-type {\n",
       "        vertical-align: middle;\n",
       "    }\n",
       "\n",
       "    .dataframe tbody tr th {\n",
       "        vertical-align: top;\n",
       "    }\n",
       "\n",
       "    .dataframe thead th {\n",
       "        text-align: right;\n",
       "    }\n",
       "</style>\n",
       "<table border=\"1\" class=\"dataframe\">\n",
       "  <thead>\n",
       "    <tr style=\"text-align: right;\">\n",
       "      <th></th>\n",
       "      <th>year</th>\n",
       "      <th>country</th>\n",
       "      <th>edu_lag_5_growth</th>\n",
       "      <th>edu_lag_5_count</th>\n",
       "      <th>edu_lag_6_growth</th>\n",
       "      <th>edu_lag_6_count</th>\n",
       "      <th>edu_lag_7_growth</th>\n",
       "      <th>edu_lag_7_count</th>\n",
       "      <th>edu_lag_8_growth</th>\n",
       "      <th>edu_lag_8_count</th>\n",
       "      <th>...</th>\n",
       "      <th>edu_lag_3_growth</th>\n",
       "      <th>edu_lag_3_count</th>\n",
       "      <th>edu_lag_4_growth</th>\n",
       "      <th>edu_lag_4_count</th>\n",
       "      <th>edu_lag_-4_growth</th>\n",
       "      <th>edu_lag_-4_count</th>\n",
       "      <th>project_completed_year</th>\n",
       "      <th>most_recent_govt_rating</th>\n",
       "      <th>sector_delta_prior</th>\n",
       "      <th>sector_delta_post</th>\n",
       "    </tr>\n",
       "  </thead>\n",
       "  <tbody>\n",
       "    <tr>\n",
       "      <th>0</th>\n",
       "      <td>1956</td>\n",
       "      <td>CHN</td>\n",
       "      <td>NaN</td>\n",
       "      <td>0</td>\n",
       "      <td>NaN</td>\n",
       "      <td>0</td>\n",
       "      <td>NaN</td>\n",
       "      <td>0</td>\n",
       "      <td>NaN</td>\n",
       "      <td>0</td>\n",
       "      <td>...</td>\n",
       "      <td>NaN</td>\n",
       "      <td>0</td>\n",
       "      <td>NaN</td>\n",
       "      <td>0</td>\n",
       "      <td>NaN</td>\n",
       "      <td>0</td>\n",
       "      <td>False</td>\n",
       "      <td>NaN</td>\n",
       "      <td>NaN</td>\n",
       "      <td>NaN</td>\n",
       "    </tr>\n",
       "    <tr>\n",
       "      <th>1</th>\n",
       "      <td>1956</td>\n",
       "      <td>COO</td>\n",
       "      <td>NaN</td>\n",
       "      <td>0</td>\n",
       "      <td>NaN</td>\n",
       "      <td>0</td>\n",
       "      <td>NaN</td>\n",
       "      <td>0</td>\n",
       "      <td>NaN</td>\n",
       "      <td>0</td>\n",
       "      <td>...</td>\n",
       "      <td>NaN</td>\n",
       "      <td>0</td>\n",
       "      <td>NaN</td>\n",
       "      <td>0</td>\n",
       "      <td>NaN</td>\n",
       "      <td>0</td>\n",
       "      <td>False</td>\n",
       "      <td>NaN</td>\n",
       "      <td>NaN</td>\n",
       "      <td>NaN</td>\n",
       "    </tr>\n",
       "    <tr>\n",
       "      <th>2</th>\n",
       "      <td>1956</td>\n",
       "      <td>PHI</td>\n",
       "      <td>NaN</td>\n",
       "      <td>0</td>\n",
       "      <td>NaN</td>\n",
       "      <td>0</td>\n",
       "      <td>NaN</td>\n",
       "      <td>0</td>\n",
       "      <td>NaN</td>\n",
       "      <td>0</td>\n",
       "      <td>...</td>\n",
       "      <td>NaN</td>\n",
       "      <td>0</td>\n",
       "      <td>NaN</td>\n",
       "      <td>0</td>\n",
       "      <td>NaN</td>\n",
       "      <td>0</td>\n",
       "      <td>False</td>\n",
       "      <td>NaN</td>\n",
       "      <td>NaN</td>\n",
       "      <td>NaN</td>\n",
       "    </tr>\n",
       "    <tr>\n",
       "      <th>3</th>\n",
       "      <td>1956</td>\n",
       "      <td>NEP</td>\n",
       "      <td>NaN</td>\n",
       "      <td>0</td>\n",
       "      <td>NaN</td>\n",
       "      <td>0</td>\n",
       "      <td>NaN</td>\n",
       "      <td>0</td>\n",
       "      <td>NaN</td>\n",
       "      <td>0</td>\n",
       "      <td>...</td>\n",
       "      <td>NaN</td>\n",
       "      <td>0</td>\n",
       "      <td>NaN</td>\n",
       "      <td>0</td>\n",
       "      <td>NaN</td>\n",
       "      <td>0</td>\n",
       "      <td>False</td>\n",
       "      <td>NaN</td>\n",
       "      <td>NaN</td>\n",
       "      <td>NaN</td>\n",
       "    </tr>\n",
       "    <tr>\n",
       "      <th>4</th>\n",
       "      <td>1956</td>\n",
       "      <td>SRI</td>\n",
       "      <td>NaN</td>\n",
       "      <td>0</td>\n",
       "      <td>NaN</td>\n",
       "      <td>0</td>\n",
       "      <td>NaN</td>\n",
       "      <td>0</td>\n",
       "      <td>NaN</td>\n",
       "      <td>0</td>\n",
       "      <td>...</td>\n",
       "      <td>NaN</td>\n",
       "      <td>0</td>\n",
       "      <td>NaN</td>\n",
       "      <td>0</td>\n",
       "      <td>NaN</td>\n",
       "      <td>0</td>\n",
       "      <td>False</td>\n",
       "      <td>NaN</td>\n",
       "      <td>NaN</td>\n",
       "      <td>NaN</td>\n",
       "    </tr>\n",
       "  </tbody>\n",
       "</table>\n",
       "<p>5 rows × 26 columns</p>\n",
       "</div>"
      ],
      "text/plain": [
       "   year country  edu_lag_5_growth  edu_lag_5_count  edu_lag_6_growth  \\\n",
       "0  1956     CHN               NaN                0               NaN   \n",
       "1  1956     COO               NaN                0               NaN   \n",
       "2  1956     PHI               NaN                0               NaN   \n",
       "3  1956     NEP               NaN                0               NaN   \n",
       "4  1956     SRI               NaN                0               NaN   \n",
       "\n",
       "   edu_lag_6_count  edu_lag_7_growth  edu_lag_7_count  edu_lag_8_growth  \\\n",
       "0                0               NaN                0               NaN   \n",
       "1                0               NaN                0               NaN   \n",
       "2                0               NaN                0               NaN   \n",
       "3                0               NaN                0               NaN   \n",
       "4                0               NaN                0               NaN   \n",
       "\n",
       "   edu_lag_8_count  ...  edu_lag_3_growth  edu_lag_3_count  edu_lag_4_growth  \\\n",
       "0                0  ...               NaN                0               NaN   \n",
       "1                0  ...               NaN                0               NaN   \n",
       "2                0  ...               NaN                0               NaN   \n",
       "3                0  ...               NaN                0               NaN   \n",
       "4                0  ...               NaN                0               NaN   \n",
       "\n",
       "   edu_lag_4_count  edu_lag_-4_growth  edu_lag_-4_count  \\\n",
       "0                0                NaN                 0   \n",
       "1                0                NaN                 0   \n",
       "2                0                NaN                 0   \n",
       "3                0                NaN                 0   \n",
       "4                0                NaN                 0   \n",
       "\n",
       "   project_completed_year  most_recent_govt_rating  sector_delta_prior  \\\n",
       "0                   False                      NaN                 NaN   \n",
       "1                   False                      NaN                 NaN   \n",
       "2                   False                      NaN                 NaN   \n",
       "3                   False                      NaN                 NaN   \n",
       "4                   False                      NaN                 NaN   \n",
       "\n",
       "   sector_delta_post  \n",
       "0                NaN  \n",
       "1                NaN  \n",
       "2                NaN  \n",
       "3                NaN  \n",
       "4                NaN  \n",
       "\n",
       "[5 rows x 26 columns]"
      ]
     },
     "execution_count": 181,
     "metadata": {},
     "output_type": "execute_result"
    }
   ],
   "source": [
    "df.head()"
   ]
  },
  {
   "cell_type": "code",
   "execution_count": 182,
   "id": "cross-currency",
   "metadata": {},
   "outputs": [],
   "source": [
    "write_df = False\n",
    "\n",
    "if write_df:\n",
    "    df.to_csv('../data/transformed_data/education_df.csv')"
   ]
  },
  {
   "cell_type": "code",
   "execution_count": 183,
   "id": "assisted-brake",
   "metadata": {},
   "outputs": [
    {
     "data": {
      "text/plain": [
       "False    741\n",
       "True     161\n",
       "Name: project_completed_year, dtype: int64"
      ]
     },
     "execution_count": 183,
     "metadata": {},
     "output_type": "execute_result"
    }
   ],
   "source": [
    "df[df.edu_lag_4_count > 0].project_completed_year.value_counts()"
   ]
  },
  {
   "cell_type": "code",
   "execution_count": null,
   "id": "lucky-underground",
   "metadata": {},
   "outputs": [],
   "source": [
    "# remove: years within the influence of a project, i.e., during its initation and up to the lag period"
   ]
  },
  {
   "cell_type": "code",
   "execution_count": null,
   "id": "strategic-painting",
   "metadata": {},
   "outputs": [],
   "source": [
    "# then: add in the various confounders, treatments, controlsc"
   ]
  },
  {
   "cell_type": "code",
   "execution_count": 184,
   "id": "contained-medicaid",
   "metadata": {},
   "outputs": [
    {
     "data": {
      "image/png": "[encoded data removed]",
      "text/latex": [
       "$\\displaystyle 13971$"
      ],
      "text/plain": [
       "13971"
      ]
     },
     "execution_count": 184,
     "metadata": {},
     "output_type": "execute_result"
    }
   ],
   "source": [
    "len(pdf)"
   ]
  },
  {
   "cell_type": "code",
   "execution_count": 185,
   "id": "recent-contemporary",
   "metadata": {},
   "outputs": [
    {
     "data": {
      "text/html": [
       "<div>\n",
       "<style scoped>\n",
       "    .dataframe tbody tr th:only-of-type {\n",
       "        vertical-align: middle;\n",
       "    }\n",
       "\n",
       "    .dataframe tbody tr th {\n",
       "        vertical-align: top;\n",
       "    }\n",
       "\n",
       "    .dataframe thead th {\n",
       "        text-align: right;\n",
       "    }\n",
       "</style>\n",
       "<table border=\"1\" class=\"dataframe\">\n",
       "  <thead>\n",
       "    <tr style=\"text-align: right;\">\n",
       "      <th></th>\n",
       "      <th>year</th>\n",
       "      <th>country</th>\n",
       "      <th>edu_lag_5_growth</th>\n",
       "      <th>edu_lag_5_count</th>\n",
       "      <th>edu_lag_6_growth</th>\n",
       "      <th>edu_lag_6_count</th>\n",
       "      <th>edu_lag_7_growth</th>\n",
       "      <th>edu_lag_7_count</th>\n",
       "      <th>edu_lag_8_growth</th>\n",
       "      <th>edu_lag_8_count</th>\n",
       "      <th>...</th>\n",
       "      <th>edu_lag_3_growth</th>\n",
       "      <th>edu_lag_3_count</th>\n",
       "      <th>edu_lag_4_growth</th>\n",
       "      <th>edu_lag_4_count</th>\n",
       "      <th>edu_lag_-4_growth</th>\n",
       "      <th>edu_lag_-4_count</th>\n",
       "      <th>project_completed_year</th>\n",
       "      <th>most_recent_govt_rating</th>\n",
       "      <th>sector_delta_prior</th>\n",
       "      <th>sector_delta_post</th>\n",
       "    </tr>\n",
       "  </thead>\n",
       "  <tbody>\n",
       "    <tr>\n",
       "      <th>6061</th>\n",
       "      <td>1990</td>\n",
       "      <td>JOR</td>\n",
       "      <td>NaN</td>\n",
       "      <td>0</td>\n",
       "      <td>0.998454</td>\n",
       "      <td>1</td>\n",
       "      <td>NaN</td>\n",
       "      <td>0</td>\n",
       "      <td>NaN</td>\n",
       "      <td>0</td>\n",
       "      <td>...</td>\n",
       "      <td>1.009747</td>\n",
       "      <td>1</td>\n",
       "      <td>1.039520</td>\n",
       "      <td>1</td>\n",
       "      <td>NaN</td>\n",
       "      <td>0</td>\n",
       "      <td>True</td>\n",
       "      <td>5.0</td>\n",
       "      <td>NaN</td>\n",
       "      <td>1.039520</td>\n",
       "    </tr>\n",
       "    <tr>\n",
       "      <th>6111</th>\n",
       "      <td>1990</td>\n",
       "      <td>TUN</td>\n",
       "      <td>1.084337</td>\n",
       "      <td>3</td>\n",
       "      <td>1.061001</td>\n",
       "      <td>3</td>\n",
       "      <td>1.052491</td>\n",
       "      <td>2</td>\n",
       "      <td>1.109765</td>\n",
       "      <td>1</td>\n",
       "      <td>...</td>\n",
       "      <td>1.003544</td>\n",
       "      <td>3</td>\n",
       "      <td>1.039468</td>\n",
       "      <td>3</td>\n",
       "      <td>NaN</td>\n",
       "      <td>0</td>\n",
       "      <td>True</td>\n",
       "      <td>5.0</td>\n",
       "      <td>NaN</td>\n",
       "      <td>1.039468</td>\n",
       "    </tr>\n",
       "    <tr>\n",
       "      <th>6240</th>\n",
       "      <td>1991</td>\n",
       "      <td>MEX</td>\n",
       "      <td>1.065398</td>\n",
       "      <td>3</td>\n",
       "      <td>1.044746</td>\n",
       "      <td>2</td>\n",
       "      <td>1.070365</td>\n",
       "      <td>2</td>\n",
       "      <td>1.084939</td>\n",
       "      <td>3</td>\n",
       "      <td>...</td>\n",
       "      <td>1.043643</td>\n",
       "      <td>3</td>\n",
       "      <td>1.062694</td>\n",
       "      <td>3</td>\n",
       "      <td>NaN</td>\n",
       "      <td>0</td>\n",
       "      <td>True</td>\n",
       "      <td>5.0</td>\n",
       "      <td>NaN</td>\n",
       "      <td>1.062694</td>\n",
       "    </tr>\n",
       "    <tr>\n",
       "      <th>6306</th>\n",
       "      <td>1991</td>\n",
       "      <td>DJI</td>\n",
       "      <td>1.079301</td>\n",
       "      <td>2</td>\n",
       "      <td>1.002846</td>\n",
       "      <td>2</td>\n",
       "      <td>NaN</td>\n",
       "      <td>0</td>\n",
       "      <td>0.968544</td>\n",
       "      <td>2</td>\n",
       "      <td>...</td>\n",
       "      <td>1.065767</td>\n",
       "      <td>2</td>\n",
       "      <td>1.131585</td>\n",
       "      <td>2</td>\n",
       "      <td>NaN</td>\n",
       "      <td>0</td>\n",
       "      <td>True</td>\n",
       "      <td>2.0</td>\n",
       "      <td>NaN</td>\n",
       "      <td>1.131585</td>\n",
       "    </tr>\n",
       "    <tr>\n",
       "      <th>6336</th>\n",
       "      <td>1992</td>\n",
       "      <td>CHN</td>\n",
       "      <td>0.923874</td>\n",
       "      <td>2</td>\n",
       "      <td>NaN</td>\n",
       "      <td>0</td>\n",
       "      <td>NaN</td>\n",
       "      <td>0</td>\n",
       "      <td>NaN</td>\n",
       "      <td>0</td>\n",
       "      <td>...</td>\n",
       "      <td>0.992914</td>\n",
       "      <td>3</td>\n",
       "      <td>0.977998</td>\n",
       "      <td>3</td>\n",
       "      <td>NaN</td>\n",
       "      <td>0</td>\n",
       "      <td>True</td>\n",
       "      <td>6.0</td>\n",
       "      <td>NaN</td>\n",
       "      <td>0.977998</td>\n",
       "    </tr>\n",
       "  </tbody>\n",
       "</table>\n",
       "<p>5 rows × 26 columns</p>\n",
       "</div>"
      ],
      "text/plain": [
       "      year country  edu_lag_5_growth  edu_lag_5_count  edu_lag_6_growth  \\\n",
       "6061  1990     JOR               NaN                0          0.998454   \n",
       "6111  1990     TUN          1.084337                3          1.061001   \n",
       "6240  1991     MEX          1.065398                3          1.044746   \n",
       "6306  1991     DJI          1.079301                2          1.002846   \n",
       "6336  1992     CHN          0.923874                2               NaN   \n",
       "\n",
       "      edu_lag_6_count  edu_lag_7_growth  edu_lag_7_count  edu_lag_8_growth  \\\n",
       "6061                1               NaN                0               NaN   \n",
       "6111                3          1.052491                2          1.109765   \n",
       "6240                2          1.070365                2          1.084939   \n",
       "6306                2               NaN                0          0.968544   \n",
       "6336                0               NaN                0               NaN   \n",
       "\n",
       "      edu_lag_8_count  ...  edu_lag_3_growth  edu_lag_3_count  \\\n",
       "6061                0  ...          1.009747                1   \n",
       "6111                1  ...          1.003544                3   \n",
       "6240                3  ...          1.043643                3   \n",
       "6306                2  ...          1.065767                2   \n",
       "6336                0  ...          0.992914                3   \n",
       "\n",
       "      edu_lag_4_growth  edu_lag_4_count  edu_lag_-4_growth  edu_lag_-4_count  \\\n",
       "6061          1.039520                1                NaN                 0   \n",
       "6111          1.039468                3                NaN                 0   \n",
       "6240          1.062694                3                NaN                 0   \n",
       "6306          1.131585                2                NaN                 0   \n",
       "6336          0.977998                3                NaN                 0   \n",
       "\n",
       "      project_completed_year  most_recent_govt_rating  sector_delta_prior  \\\n",
       "6061                    True                      5.0                 NaN   \n",
       "6111                    True                      5.0                 NaN   \n",
       "6240                    True                      5.0                 NaN   \n",
       "6306                    True                      2.0                 NaN   \n",
       "6336                    True                      6.0                 NaN   \n",
       "\n",
       "      sector_delta_post  \n",
       "6061           1.039520  \n",
       "6111           1.039468  \n",
       "6240           1.062694  \n",
       "6306           1.131585  \n",
       "6336           0.977998  \n",
       "\n",
       "[5 rows x 26 columns]"
      ]
     },
     "execution_count": 185,
     "metadata": {},
     "output_type": "execute_result"
    }
   ],
   "source": [
    "df[(df.edu_lag_4_count > 0) & (df.project_completed_year)].head()"
   ]
  },
  {
   "cell_type": "code",
   "execution_count": 110,
   "id": "entertaining-japan",
   "metadata": {},
   "outputs": [
    {
     "data": {
      "text/html": [
       "<div>\n",
       "<style scoped>\n",
       "    .dataframe tbody tr th:only-of-type {\n",
       "        vertical-align: middle;\n",
       "    }\n",
       "\n",
       "    .dataframe tbody tr th {\n",
       "        vertical-align: top;\n",
       "    }\n",
       "\n",
       "    .dataframe thead th {\n",
       "        text-align: right;\n",
       "    }\n",
       "</style>\n",
       "<table border=\"1\" class=\"dataframe\">\n",
       "  <thead>\n",
       "    <tr style=\"text-align: right;\">\n",
       "      <th></th>\n",
       "      <th>ppd_project_id</th>\n",
       "      <th>donor_name</th>\n",
       "      <th>six_overall_rating</th>\n",
       "      <th>country_code</th>\n",
       "      <th>office_presence</th>\n",
       "      <th>project_duration</th>\n",
       "      <th>eval_lag</th>\n",
       "      <th>crs_purpose_code</th>\n",
       "      <th>crs_purpose_sector</th>\n",
       "      <th>aid_type</th>\n",
       "      <th>...</th>\n",
       "      <th>mmg_purpose_code</th>\n",
       "      <th>mmg_purpose_codename</th>\n",
       "      <th>wb_project_id</th>\n",
       "      <th>gfatm_project_id</th>\n",
       "      <th>giz_project_id</th>\n",
       "      <th>start_dt</th>\n",
       "      <th>start_year</th>\n",
       "      <th>completion_dt</th>\n",
       "      <th>end_year</th>\n",
       "      <th>sector</th>\n",
       "    </tr>\n",
       "  </thead>\n",
       "  <tbody>\n",
       "    <tr>\n",
       "      <th>0</th>\n",
       "      <td>1</td>\n",
       "      <td>AsianDB</td>\n",
       "      <td>4.5</td>\n",
       "      <td>CHN</td>\n",
       "      <td>1.0</td>\n",
       "      <td>2555.0</td>\n",
       "      <td>730.0</td>\n",
       "      <td>NaN</td>\n",
       "      <td>NaN</td>\n",
       "      <td>NaN</td>\n",
       "      <td>...</td>\n",
       "      <td>140</td>\n",
       "      <td>WATER AND SANITATION</td>\n",
       "      <td>NaN</td>\n",
       "      <td>NaN</td>\n",
       "      <td>NaN</td>\n",
       "      <td>1996-11-26</td>\n",
       "      <td>1996.0</td>\n",
       "      <td>2003-01-01</td>\n",
       "      <td>2003.0</td>\n",
       "      <td>Wash</td>\n",
       "    </tr>\n",
       "    <tr>\n",
       "      <th>1</th>\n",
       "      <td>2</td>\n",
       "      <td>AsianDB</td>\n",
       "      <td>4.5</td>\n",
       "      <td>COO</td>\n",
       "      <td>0.0</td>\n",
       "      <td>1825.0</td>\n",
       "      <td>0.0</td>\n",
       "      <td>22040.0</td>\n",
       "      <td>220.0</td>\n",
       "      <td>L</td>\n",
       "      <td>...</td>\n",
       "      <td>220</td>\n",
       "      <td>COMMUNICATION</td>\n",
       "      <td>NaN</td>\n",
       "      <td>NaN</td>\n",
       "      <td>NaN</td>\n",
       "      <td>1990-09-20</td>\n",
       "      <td>1990.0</td>\n",
       "      <td>1995-01-01</td>\n",
       "      <td>1995.0</td>\n",
       "      <td>Telecom</td>\n",
       "    </tr>\n",
       "    <tr>\n",
       "      <th>2</th>\n",
       "      <td>3</td>\n",
       "      <td>AsianDB</td>\n",
       "      <td>1.5</td>\n",
       "      <td>PHI</td>\n",
       "      <td>1.0</td>\n",
       "      <td>2190.0</td>\n",
       "      <td>730.0</td>\n",
       "      <td>NaN</td>\n",
       "      <td>NaN</td>\n",
       "      <td>NaN</td>\n",
       "      <td>...</td>\n",
       "      <td>140</td>\n",
       "      <td>WATER AND SANITATION</td>\n",
       "      <td>NaN</td>\n",
       "      <td>NaN</td>\n",
       "      <td>NaN</td>\n",
       "      <td>1989-01-24</td>\n",
       "      <td>1989.0</td>\n",
       "      <td>1995-01-01</td>\n",
       "      <td>1995.0</td>\n",
       "      <td>Wash</td>\n",
       "    </tr>\n",
       "    <tr>\n",
       "      <th>3</th>\n",
       "      <td>4</td>\n",
       "      <td>AsianDB</td>\n",
       "      <td>4.5</td>\n",
       "      <td>NEP</td>\n",
       "      <td>1.0</td>\n",
       "      <td>6570.0</td>\n",
       "      <td>1095.0</td>\n",
       "      <td>21050.0</td>\n",
       "      <td>210.0</td>\n",
       "      <td>L</td>\n",
       "      <td>...</td>\n",
       "      <td>210</td>\n",
       "      <td>TRANSPORT AND STORAGE</td>\n",
       "      <td>NaN</td>\n",
       "      <td>NaN</td>\n",
       "      <td>NaN</td>\n",
       "      <td>1978-12-22</td>\n",
       "      <td>1978.0</td>\n",
       "      <td>1996-01-01</td>\n",
       "      <td>1996.0</td>\n",
       "      <td>Transport</td>\n",
       "    </tr>\n",
       "    <tr>\n",
       "      <th>4</th>\n",
       "      <td>5</td>\n",
       "      <td>AsianDB</td>\n",
       "      <td>4.5</td>\n",
       "      <td>SRI</td>\n",
       "      <td>1.0</td>\n",
       "      <td>1825.0</td>\n",
       "      <td>0.0</td>\n",
       "      <td>24010.0</td>\n",
       "      <td>240.0</td>\n",
       "      <td>L</td>\n",
       "      <td>...</td>\n",
       "      <td>240</td>\n",
       "      <td>BANKING AND FINANCIAL SERVICES</td>\n",
       "      <td>NaN</td>\n",
       "      <td>NaN</td>\n",
       "      <td>NaN</td>\n",
       "      <td>1991-07-23</td>\n",
       "      <td>1991.0</td>\n",
       "      <td>1996-01-01</td>\n",
       "      <td>1996.0</td>\n",
       "      <td>Finance</td>\n",
       "    </tr>\n",
       "  </tbody>\n",
       "</table>\n",
       "<p>5 rows × 189 columns</p>\n",
       "</div>"
      ],
      "text/plain": [
       "   ppd_project_id donor_name  six_overall_rating country_code  \\\n",
       "0               1    AsianDB                 4.5          CHN   \n",
       "1               2    AsianDB                 4.5          COO   \n",
       "2               3    AsianDB                 1.5          PHI   \n",
       "3               4    AsianDB                 4.5          NEP   \n",
       "4               5    AsianDB                 4.5          SRI   \n",
       "\n",
       "   office_presence  project_duration  eval_lag  crs_purpose_code  \\\n",
       "0              1.0            2555.0     730.0               NaN   \n",
       "1              0.0            1825.0       0.0           22040.0   \n",
       "2              1.0            2190.0     730.0               NaN   \n",
       "3              1.0            6570.0    1095.0           21050.0   \n",
       "4              1.0            1825.0       0.0           24010.0   \n",
       "\n",
       "   crs_purpose_sector aid_type  ... mmg_purpose_code  \\\n",
       "0                 NaN      NaN  ...              140   \n",
       "1               220.0        L  ...              220   \n",
       "2                 NaN      NaN  ...              140   \n",
       "3               210.0        L  ...              210   \n",
       "4               240.0        L  ...              240   \n",
       "\n",
       "             mmg_purpose_codename wb_project_id gfatm_project_id  \\\n",
       "0            WATER AND SANITATION           NaN              NaN   \n",
       "1                   COMMUNICATION           NaN              NaN   \n",
       "2            WATER AND SANITATION           NaN              NaN   \n",
       "3           TRANSPORT AND STORAGE           NaN              NaN   \n",
       "4  BANKING AND FINANCIAL SERVICES           NaN              NaN   \n",
       "\n",
       "  giz_project_id   start_dt start_year  completion_dt end_year     sector  \n",
       "0            NaN 1996-11-26     1996.0     2003-01-01   2003.0       Wash  \n",
       "1            NaN 1990-09-20     1990.0     1995-01-01   1995.0    Telecom  \n",
       "2            NaN 1989-01-24     1989.0     1995-01-01   1995.0       Wash  \n",
       "3            NaN 1978-12-22     1978.0     1996-01-01   1996.0  Transport  \n",
       "4            NaN 1991-07-23     1991.0     1996-01-01   1996.0    Finance  \n",
       "\n",
       "[5 rows x 189 columns]"
      ]
     },
     "execution_count": 110,
     "metadata": {},
     "output_type": "execute_result"
    }
   ],
   "source": [
    "project_df.head()"
   ]
  },
  {
   "cell_type": "code",
   "execution_count": 119,
   "id": "measured-leave",
   "metadata": {},
   "outputs": [
    {
     "name": "stdout",
     "output_type": "stream",
     "text": [
      "        Series Code                                     Indicator Name  \\\n",
      "383  GF.XPD.BUDG.ZS  Primary government expenditures as a proportio...   \n",
      "477  IQ.CPA.FINQ.XQ  CPIA quality of budgetary and financial manage...   \n",
      "\n",
      "                                       Long definition  \n",
      "383  Primary government expenditures as a proportio...  \n",
      "477  Quality of budgetary and financial management ...  \n"
     ]
    }
   ],
   "source": [
    "print(extract_indic_name_definition(series_df, 'budget'))"
   ]
  },
  {
   "cell_type": "code",
   "execution_count": 121,
   "id": "dutch-cursor",
   "metadata": {},
   "outputs": [
    {
     "data": {
      "image/png": "[encoded data removed]",
      "text/latex": [
       "$\\displaystyle 0.878961038961039$"
      ],
      "text/plain": [
       "0.8789610389610389"
      ]
     },
     "execution_count": 121,
     "metadata": {},
     "output_type": "execute_result"
    }
   ],
   "source": [
    "calculate_ratio_na(wdi_df, 'IQ.CPA.FINQ.XQ', df.country) # too high"
   ]
  },
  {
   "cell_type": "code",
   "execution_count": 186,
   "id": "amber-publicity",
   "metadata": {},
   "outputs": [],
   "source": [
    "def find_latest_govt_rating(country, year):\n",
    "    country_proj = project_df[\n",
    "        (project_df['country_code'] == country) \n",
    "        & (project_df['start_year'] <= year)\n",
    "        & (project_df['wb_government_partner_rating'].notna())]\n",
    "    if len(country_proj) == 0:\n",
    "        return np.nan\n",
    "    else:\n",
    "        proj_year = country_proj[country_proj.start_year == country_proj.start_year.max()]\n",
    "        return proj_year['wb_government_partner_rating'].sort_values(ascending=False).iloc[0]\n",
    "#     return country_proj[['start_year', 'wb_government_partner_rating']]"
   ]
  },
  {
   "cell_type": "code",
   "execution_count": 187,
   "id": "diagnostic-medicaid",
   "metadata": {},
   "outputs": [],
   "source": [
    "if 'most_recent_govt_rating' not in df:\n",
    "    df['most_recent_govt_rating'] = df.apply(lambda row: find_latest_govt_rating(row['country'], row['year']), axis=1)"
   ]
  },
  {
   "cell_type": "code",
   "execution_count": 148,
   "id": "other-catalog",
   "metadata": {},
   "outputs": [
    {
     "data": {
      "text/plain": [
       "5.0    1655\n",
       "2.0     403\n",
       "4.0     306\n",
       "6.0     205\n",
       "3.0     156\n",
       "1.0      11\n",
       "Name: most_recent_govt_rating, dtype: int64"
      ]
     },
     "execution_count": 148,
     "metadata": {},
     "output_type": "execute_result"
    }
   ],
   "source": [
    "df.most_recent_govt_rating.value_counts()"
   ]
  },
  {
   "cell_type": "markdown",
   "id": "indirect-evidence",
   "metadata": {},
   "source": [
    "# Execute do-why"
   ]
  },
  {
   "cell_type": "code",
   "execution_count": 150,
   "id": "thirty-ground",
   "metadata": {},
   "outputs": [],
   "source": [
    "df['sector_delta_prior'] = df['edu_lag_-4_growth']\n",
    "df['sector_delta_post'] = df['edu_lag_4_growth']"
   ]
  },
  {
   "cell_type": "code",
   "execution_count": 164,
   "id": "experimental-tampa",
   "metadata": {},
   "outputs": [],
   "source": [
    "sectoral_effect_graph_binary = \"\"\"digraph { \n",
    "    \"Govt-Quality\"[latent];\n",
    "    project_completed_year [exposure, label=\"project_completed\"];\n",
    "    sector_delta_prior [adjusted, label=\"sector_outcome_growth_prior\"];\n",
    "    sector_delta_post [outcome, label=sector_outcome_growth_lagged];\n",
    "    most_recent_govt_rating [label=\"WBGovtRating\"];\n",
    "    \"Govt-Quality\" -> project_completed_year;\n",
    "    \"Govt-Quality\" -> sector_delta_prior;\n",
    "    \"Govt-Quality\" -> most_recent_govt_rating;\n",
    "    project_completed_year -> sector_delta_post;\n",
    "    sector_delta_prior -> sector_delta_post;\n",
    "    most_recent_govt_rating -> project_completed_year;\n",
    "    }\"\"\""
   ]
  },
  {
   "cell_type": "code",
   "execution_count": 151,
   "id": "scheduled-evanescence",
   "metadata": {},
   "outputs": [],
   "source": [
    "causal_columns = ['sector_delta_prior', 'most_recent_govt_rating', 'project_completed_year', 'sector_delta_post']"
   ]
  },
  {
   "cell_type": "code",
   "execution_count": 152,
   "id": "outstanding-cleaning",
   "metadata": {},
   "outputs": [
    {
     "name": "stdout",
     "output_type": "stream",
     "text": [
      "N pre NA drop:  9856  and post:  418\n"
     ]
    }
   ],
   "source": [
    "causal_df = df[causal_columns]\n",
    "pre_drop_N = len(causal_df)\n",
    "causal_df = causal_df.dropna()\n",
    "post_drop_N = len(causal_df)\n",
    "\n",
    "print(\"N pre NA drop: \", pre_drop_N, \" and post: \", post_drop_N)"
   ]
  },
  {
   "cell_type": "code",
   "execution_count": 172,
   "id": "approximate-friday",
   "metadata": {},
   "outputs": [
    {
     "data": {
      "text/plain": [
       "False    315\n",
       "True     103\n",
       "Name: project_completed_year, dtype: int64"
      ]
     },
     "execution_count": 172,
     "metadata": {},
     "output_type": "execute_result"
    }
   ],
   "source": [
    "causal_df.project_completed_year.value_counts()"
   ]
  },
  {
   "cell_type": "code",
   "execution_count": 168,
   "id": "basic-algebra",
   "metadata": {},
   "outputs": [
    {
     "name": "stderr",
     "output_type": "stream",
     "text": [
      "ERROR:dowhy.causal_graph:Error: Pygraphviz cannot be loaded. Invalid Input\n",
      "Trying pydot ...\n",
      "INFO:dowhy.causal_model:Model to find the causal effect of treatment ['project_completed_year'] on outcome ['sector_delta_post']\n"
     ]
    },
    {
     "data": {
      "image/png": "[encoded data removed]",
      "text/plain": [
       "<IPython.core.display.Image object>"
      ]
     },
     "metadata": {},
     "output_type": "display_data"
    }
   ],
   "source": [
    "model = CausalModel(\n",
    "    data=causal_df,\n",
    "    graph=sectoral_effect_graph_binary.replace(\"\\n\", \" \"),\n",
    "    treatment=\"project_completed_year\",\n",
    "    outcome=\"sector_delta_post\"\n",
    ")\n",
    "\n",
    "model.view_model()\n",
    "display(Image(filename=\"causal_model.png\"))"
   ]
  },
  {
   "cell_type": "code",
   "execution_count": 169,
   "id": "excessive-broadway",
   "metadata": {},
   "outputs": [
    {
     "name": "stderr",
     "output_type": "stream",
     "text": [
      "INFO:dowhy.causal_identifier:All common causes are observed. Causal effect can be identified.\n",
      "INFO:dowhy.causal_identifier:Instrumental variables for treatment and outcome:[]\n",
      "INFO:dowhy.causal_identifier:Frontdoor variables for treatment and outcome:[]\n"
     ]
    },
    {
     "name": "stdout",
     "output_type": "stream",
     "text": [
      "Estimand type: nonparametric-ate\n",
      "\n",
      "### Estimand : 1\n",
      "Estimand name: backdoor1 (Default)\n",
      "Estimand expression:\n",
      "            d                                                                 \n",
      "─────────────────────────(Expectation(sector_delta_post|sector_delta_prior,mos\n",
      "d[project_completed_year]                                                     \n",
      "\n",
      "                      \n",
      "t_recent_govt_rating))\n",
      "                      \n",
      "Estimand assumption 1, Unconfoundedness: If U→{project_completed_year} and U→sector_delta_post then P(sector_delta_post|project_completed_year,sector_delta_prior,most_recent_govt_rating,U) = P(sector_delta_post|project_completed_year,sector_delta_prior,most_recent_govt_rating)\n",
      "\n",
      "### Estimand : 2\n",
      "Estimand name: iv\n",
      "No such variable found!\n",
      "\n",
      "### Estimand : 3\n",
      "Estimand name: frontdoor\n",
      "No such variable found!\n",
      "\n"
     ]
    }
   ],
   "source": [
    "identified_estimand = model.identify_effect(proceed_when_unidentifiable=True)\n",
    "print(identified_estimand)"
   ]
  },
  {
   "cell_type": "code",
   "execution_count": 171,
   "id": "virgin-video",
   "metadata": {},
   "outputs": [
    {
     "name": "stderr",
     "output_type": "stream",
     "text": [
      "INFO:dowhy.causal_estimator:b: sector_delta_post~project_completed_year+sector_delta_prior+most_recent_govt_rating+project_completed_year*sector_delta_prior\n",
      "INFO:dowhy.causal_estimator:INFO: Using Linear Regression Estimator\n"
     ]
    },
    {
     "name": "stdout",
     "output_type": "stream",
     "text": [
      "*** Causal Estimate ***\n",
      "\n",
      "## Identified estimand\n",
      "Estimand type: nonparametric-ate\n",
      "\n",
      "## Realized estimand\n",
      "b: sector_delta_post~project_completed_year+sector_delta_prior+most_recent_govt_rating+project_completed_year*sector_delta_prior\n",
      "Target units: ate\n",
      "\n",
      "## Estimate\n",
      "Mean value: 0.012000683582671146\n",
      "p-value: [0.00015782]\n",
      "### Conditional Estimates\n",
      "__categorical__sector_delta_prior\n",
      "(0.559, 0.907]   -0.040718\n",
      "(0.907, 0.971]    0.002391\n",
      "(0.971, 0.995]    0.018588\n",
      "(0.995, 1.017]    0.027871\n",
      "(1.017, 1.5]      0.051946\n",
      "dtype: float64\n"
     ]
    }
   ],
   "source": [
    "estimate = model.estimate_effect(identified_estimand, method_name=\"backdoor.linear_regression\",\n",
    "                                 target_units=\"ate\", test_significance=True)\n",
    "print(estimate)"
   ]
  },
  {
   "cell_type": "code",
   "execution_count": null,
   "id": "detected-waterproof",
   "metadata": {},
   "outputs": [],
   "source": []
  }
 ],
 "metadata": {
  "kernelspec": {
   "display_name": "causal",
   "language": "python",
   "name": "causal"
  },
  "language_info": {
   "codemirror_mode": {
    "name": "ipython",
    "version": 3
   },
   "file_extension": ".py",
   "mimetype": "text/x-python",
   "name": "python",
   "nbconvert_exporter": "python",
   "pygments_lexer": "ipython3",
   "version": "3.8.8"
  }
 },
 "nbformat": 4,
 "nbformat_minor": 5
}
