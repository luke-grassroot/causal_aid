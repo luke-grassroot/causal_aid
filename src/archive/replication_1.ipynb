{
 "cells": [
  {
   "cell_type": "code",
   "execution_count": 1,
   "id": "random-exhaust",
   "metadata": {},
   "outputs": [],
   "source": [
    "from importlib import reload"
   ]
  },
  {
   "cell_type": "code",
   "execution_count": 2,
   "id": "municipal-washington",
   "metadata": {},
   "outputs": [],
   "source": [
    "from datetime import datetime, timedelta\n",
    "\n",
    "import pandas as pd\n",
    "import numpy as np\n",
    "\n",
    "import matplotlib\n",
    "import matplotlib.pyplot as plt\n",
    "\n",
    "from IPython.display import Image, display\n",
    "\n",
    "from dowhy import CausalModel"
   ]
  },
  {
   "cell_type": "code",
   "execution_count": 3,
   "id": "improving-murder",
   "metadata": {},
   "outputs": [],
   "source": [
    "pd.set_option(\"mode.chained_assignment\", None)"
   ]
  },
  {
   "cell_type": "code",
   "execution_count": 4,
   "id": "excellent-strip",
   "metadata": {},
   "outputs": [],
   "source": [
    "import futil, load_util"
   ]
  },
  {
   "cell_type": "code",
   "execution_count": 5,
   "id": "detected-capacity",
   "metadata": {},
   "outputs": [],
   "source": [
    "wdi_df, series_df = load_util.load_wdi()\n",
    "project_df = load_util.load_projects()\n",
    "wb_df = load_util.extract_wb_projects(project_df)"
   ]
  },
  {
   "cell_type": "code",
   "execution_count": 6,
   "id": "natural-lawyer",
   "metadata": {},
   "outputs": [],
   "source": [
    "odi_and_gdp_indicators = [\n",
    "    'DT.ODA.ODAT.GN.ZS',\n",
    "    'NY.GDP.MKTP.CD' # divide project size at time\n",
    "]\n",
    "\n",
    "education_expense_indicators = [\n",
    "    'SE.XPD.PRIM.ZS',\n",
    "    'SE.XPD.SECO.ZS',\n",
    "    'SE.XPD.TERT.ZS'\n",
    "]\n",
    "\n",
    "education_outcome_indicators = [\n",
    "    'SE.PRM.NENR', \n",
    "    'SE.PRM.CMPT.ZS', \n",
    "    'SE.PRM.PRSL.ZS'\n",
    "]"
   ]
  },
  {
   "cell_type": "markdown",
   "id": "floating-maple",
   "metadata": {},
   "source": [
    "## Constructing time gaps"
   ]
  },
  {
   "cell_type": "code",
   "execution_count": 7,
   "id": "composite-grounds",
   "metadata": {},
   "outputs": [],
   "source": [
    "sector_aggs = project_df.groupby('sector').agg(\n",
    "    number_projects=('ppd_project_id', 'nunique'),\n",
    "    earliest_year=('start_dt', 'min'),\n",
    "    latest_project=('start_dt', 'max'),\n",
    "    number_donors=('donor_name', 'nunique'),\n",
    "    avg_rating=('six_overall_rating', 'mean'),\n",
    "    avg_duration=('project_duration', 'mean')\n",
    ")"
   ]
  },
  {
   "cell_type": "code",
   "execution_count": 8,
   "id": "athletic-egyptian",
   "metadata": {},
   "outputs": [],
   "source": [
    "feature_cols = [\n",
    "    'country_code', \n",
    "    'donor_name', \n",
    "    'aiddata_sectorname', \n",
    "    'six_overall_rating', \n",
    "    'start_date', \n",
    "    'completion_date', \n",
    "    'project_duration',\n",
    "    'sector'\n",
    "]\n",
    "\n",
    "pdf = load_util.narrow_convert_project_data(project_df, feature_cols)\n",
    "\n",
    "total_countries = pdf.country_code.nunique()\n",
    "earliest_year = pdf.start_year.min()\n",
    "latest_year = pdf.start_year.max()\n",
    "year_range = range(int(earliest_year), int(latest_year))"
   ]
  },
  {
   "cell_type": "code",
   "execution_count": 9,
   "id": "nearby-ecuador",
   "metadata": {},
   "outputs": [
    {
     "data": {
      "image/png": "[encoded data removed]",
      "text/latex": [
       "$\\displaystyle 0.501549586776859$"
      ],
      "text/plain": [
       "0.5015495867768593"
      ]
     },
     "execution_count": 9,
     "metadata": {},
     "output_type": "execute_result"
    }
   ],
   "source": [
    "futil.calc_sector_controls(pdf, 'Education', 1990, year_range)"
   ]
  },
  {
   "cell_type": "markdown",
   "id": "limiting-dryer",
   "metadata": {},
   "source": [
    "## First approach: binary treatment, replicating papers on causal structure"
   ]
  },
  {
   "cell_type": "markdown",
   "id": "successful-expansion",
   "metadata": {},
   "source": [
    "### Assemble education panel"
   ]
  },
  {
   "cell_type": "code",
   "execution_count": 10,
   "id": "devoted-reasoning",
   "metadata": {},
   "outputs": [],
   "source": [
    "# load in panel assembled by DG"
   ]
  },
  {
   "cell_type": "code",
   "execution_count": 11,
   "id": "immune-freeze",
   "metadata": {},
   "outputs": [],
   "source": [
    "ddf = pd.read_csv('../data/countrypanel.csv')"
   ]
  },
  {
   "cell_type": "code",
   "execution_count": 12,
   "id": "rocky-stopping",
   "metadata": {},
   "outputs": [],
   "source": [
    "# for each country-year, calculate mean growth in education indicators at year + lag"
   ]
  },
  {
   "cell_type": "code",
   "execution_count": 13,
   "id": "julian-dairy",
   "metadata": {},
   "outputs": [],
   "source": [
    "ccode_corr = pd.read_csv('../data/PPD_WDI_country_codes.csv')"
   ]
  },
  {
   "cell_type": "code",
   "execution_count": 14,
   "id": "typical-speaking",
   "metadata": {},
   "outputs": [
    {
     "data": {
      "text/html": [
       "<div>\n",
       "<style scoped>\n",
       "    .dataframe tbody tr th:only-of-type {\n",
       "        vertical-align: middle;\n",
       "    }\n",
       "\n",
       "    .dataframe tbody tr th {\n",
       "        vertical-align: top;\n",
       "    }\n",
       "\n",
       "    .dataframe thead th {\n",
       "        text-align: right;\n",
       "    }\n",
       "</style>\n",
       "<table border=\"1\" class=\"dataframe\">\n",
       "  <thead>\n",
       "    <tr style=\"text-align: right;\">\n",
       "      <th></th>\n",
       "      <th>ppd_countrycode</th>\n",
       "      <th>ppd_countryname</th>\n",
       "      <th>wdi_countrycode</th>\n",
       "      <th>wdi_countryname</th>\n",
       "    </tr>\n",
       "  </thead>\n",
       "  <tbody>\n",
       "    <tr>\n",
       "      <th>0</th>\n",
       "      <td>AAB</td>\n",
       "      <td>Antigua &amp; Barbuda</td>\n",
       "      <td>ATG</td>\n",
       "      <td>Antigua and Barbuda</td>\n",
       "    </tr>\n",
       "    <tr>\n",
       "      <th>1</th>\n",
       "      <td>AFG</td>\n",
       "      <td>Afghanistan</td>\n",
       "      <td>AFG</td>\n",
       "      <td>Afghanistan</td>\n",
       "    </tr>\n",
       "    <tr>\n",
       "      <th>2</th>\n",
       "      <td>ALB</td>\n",
       "      <td>Albania</td>\n",
       "      <td>ALB</td>\n",
       "      <td>Albania</td>\n",
       "    </tr>\n",
       "    <tr>\n",
       "      <th>3</th>\n",
       "      <td>ALG</td>\n",
       "      <td>Algeria</td>\n",
       "      <td>DZA</td>\n",
       "      <td>Algeria</td>\n",
       "    </tr>\n",
       "    <tr>\n",
       "      <th>4</th>\n",
       "      <td>ANG</td>\n",
       "      <td>Angola</td>\n",
       "      <td>AGO</td>\n",
       "      <td>Angola</td>\n",
       "    </tr>\n",
       "  </tbody>\n",
       "</table>\n",
       "</div>"
      ],
      "text/plain": [
       "  ppd_countrycode    ppd_countryname wdi_countrycode      wdi_countryname\n",
       "0             AAB  Antigua & Barbuda             ATG  Antigua and Barbuda\n",
       "1             AFG        Afghanistan             AFG          Afghanistan\n",
       "2             ALB            Albania             ALB              Albania\n",
       "3             ALG            Algeria             DZA              Algeria\n",
       "4             ANG             Angola             AGO               Angola"
      ]
     },
     "execution_count": 14,
     "metadata": {},
     "output_type": "execute_result"
    }
   ],
   "source": [
    "ccode_corr.head()"
   ]
  },
  {
   "cell_type": "code",
   "execution_count": 15,
   "id": "purple-buffalo",
   "metadata": {},
   "outputs": [
    {
     "data": {
      "text/html": [
       "<div>\n",
       "<style scoped>\n",
       "    .dataframe tbody tr th:only-of-type {\n",
       "        vertical-align: middle;\n",
       "    }\n",
       "\n",
       "    .dataframe tbody tr th {\n",
       "        vertical-align: top;\n",
       "    }\n",
       "\n",
       "    .dataframe thead th {\n",
       "        text-align: right;\n",
       "    }\n",
       "</style>\n",
       "<table border=\"1\" class=\"dataframe\">\n",
       "  <thead>\n",
       "    <tr style=\"text-align: right;\">\n",
       "      <th></th>\n",
       "      <th>country_code</th>\n",
       "      <th>donor_name</th>\n",
       "      <th>aiddata_sectorname</th>\n",
       "      <th>six_overall_rating</th>\n",
       "      <th>start_date</th>\n",
       "      <th>completion_date</th>\n",
       "      <th>project_duration</th>\n",
       "      <th>sector</th>\n",
       "      <th>start_dt</th>\n",
       "      <th>start_year</th>\n",
       "      <th>completion_dt</th>\n",
       "      <th>end_year</th>\n",
       "    </tr>\n",
       "  </thead>\n",
       "  <tbody>\n",
       "    <tr>\n",
       "      <th>0</th>\n",
       "      <td>CHN</td>\n",
       "      <td>AsianDB</td>\n",
       "      <td>NaN</td>\n",
       "      <td>4.5</td>\n",
       "      <td>26nov1996</td>\n",
       "      <td>01jan2003</td>\n",
       "      <td>2555.0</td>\n",
       "      <td>Wash</td>\n",
       "      <td>1996-11-26</td>\n",
       "      <td>1996.0</td>\n",
       "      <td>2003-01-01</td>\n",
       "      <td>2003.0</td>\n",
       "    </tr>\n",
       "    <tr>\n",
       "      <th>1</th>\n",
       "      <td>COO</td>\n",
       "      <td>AsianDB</td>\n",
       "      <td>NaN</td>\n",
       "      <td>4.5</td>\n",
       "      <td>20sep1990</td>\n",
       "      <td>01jan1995</td>\n",
       "      <td>1825.0</td>\n",
       "      <td>Telecom</td>\n",
       "      <td>1990-09-20</td>\n",
       "      <td>1990.0</td>\n",
       "      <td>1995-01-01</td>\n",
       "      <td>1995.0</td>\n",
       "    </tr>\n",
       "    <tr>\n",
       "      <th>2</th>\n",
       "      <td>PHI</td>\n",
       "      <td>AsianDB</td>\n",
       "      <td>NaN</td>\n",
       "      <td>1.5</td>\n",
       "      <td>24jan1989</td>\n",
       "      <td>01jan1995</td>\n",
       "      <td>2190.0</td>\n",
       "      <td>Wash</td>\n",
       "      <td>1989-01-24</td>\n",
       "      <td>1989.0</td>\n",
       "      <td>1995-01-01</td>\n",
       "      <td>1995.0</td>\n",
       "    </tr>\n",
       "    <tr>\n",
       "      <th>3</th>\n",
       "      <td>NEP</td>\n",
       "      <td>AsianDB</td>\n",
       "      <td>NaN</td>\n",
       "      <td>4.5</td>\n",
       "      <td>22dec1978</td>\n",
       "      <td>01jan1996</td>\n",
       "      <td>6570.0</td>\n",
       "      <td>Transport</td>\n",
       "      <td>1978-12-22</td>\n",
       "      <td>1978.0</td>\n",
       "      <td>1996-01-01</td>\n",
       "      <td>1996.0</td>\n",
       "    </tr>\n",
       "    <tr>\n",
       "      <th>4</th>\n",
       "      <td>SRI</td>\n",
       "      <td>AsianDB</td>\n",
       "      <td>NaN</td>\n",
       "      <td>4.5</td>\n",
       "      <td>23jul1991</td>\n",
       "      <td>01jan1996</td>\n",
       "      <td>1825.0</td>\n",
       "      <td>Finance</td>\n",
       "      <td>1991-07-23</td>\n",
       "      <td>1991.0</td>\n",
       "      <td>1996-01-01</td>\n",
       "      <td>1996.0</td>\n",
       "    </tr>\n",
       "  </tbody>\n",
       "</table>\n",
       "</div>"
      ],
      "text/plain": [
       "  country_code donor_name aiddata_sectorname  six_overall_rating start_date  \\\n",
       "0          CHN    AsianDB                NaN                 4.5  26nov1996   \n",
       "1          COO    AsianDB                NaN                 4.5  20sep1990   \n",
       "2          PHI    AsianDB                NaN                 1.5  24jan1989   \n",
       "3          NEP    AsianDB                NaN                 4.5  22dec1978   \n",
       "4          SRI    AsianDB                NaN                 4.5  23jul1991   \n",
       "\n",
       "  completion_date  project_duration     sector   start_dt  start_year  \\\n",
       "0       01jan2003            2555.0       Wash 1996-11-26      1996.0   \n",
       "1       01jan1995            1825.0    Telecom 1990-09-20      1990.0   \n",
       "2       01jan1995            2190.0       Wash 1989-01-24      1989.0   \n",
       "3       01jan1996            6570.0  Transport 1978-12-22      1978.0   \n",
       "4       01jan1996            1825.0    Finance 1991-07-23      1991.0   \n",
       "\n",
       "  completion_dt  end_year  \n",
       "0    2003-01-01    2003.0  \n",
       "1    1995-01-01    1995.0  \n",
       "2    1995-01-01    1995.0  \n",
       "3    1996-01-01    1996.0  \n",
       "4    1996-01-01    1996.0  "
      ]
     },
     "execution_count": 15,
     "metadata": {},
     "output_type": "execute_result"
    }
   ],
   "source": [
    "pdf.head()"
   ]
  },
  {
   "cell_type": "code",
   "execution_count": 26,
   "id": "written-corps",
   "metadata": {},
   "outputs": [],
   "source": [
    "df, tdf = futil.assemble_sectoral_df(\n",
    "    pdf, \n",
    "    education_outcome_indicators,\n",
    "    year_range,\n",
    "    interpolate_limit=5,\n",
    "#     persisted_lag_table=None,\n",
    "    persisted_lag_table='../data/transformed_data/education_df.csv'\n",
    ")"
   ]
  },
  {
   "cell_type": "code",
   "execution_count": 28,
   "id": "alert-parker",
   "metadata": {},
   "outputs": [],
   "source": [
    "df = df.merge(ccode_corr[['ppd_countrycode', 'wdi_countrycode', 'wdi_countryname']], left_on='country',\n",
    "               right_on='ppd_countrycode', how='left')"
   ]
  },
  {
   "cell_type": "code",
   "execution_count": 31,
   "id": "representative-profession",
   "metadata": {},
   "outputs": [],
   "source": [
    "df['country_code'] = df['wdi_countrycode']\n",
    "df = df[df['country_code'].notna()].drop(columns=['wdi_countrycode', 'country_code'])"
   ]
  },
  {
   "cell_type": "code",
   "execution_count": 32,
   "id": "dynamic-graphic",
   "metadata": {},
   "outputs": [
    {
     "data": {
      "text/html": [
       "<div>\n",
       "<style scoped>\n",
       "    .dataframe tbody tr th:only-of-type {\n",
       "        vertical-align: middle;\n",
       "    }\n",
       "\n",
       "    .dataframe tbody tr th {\n",
       "        vertical-align: top;\n",
       "    }\n",
       "\n",
       "    .dataframe thead th {\n",
       "        text-align: right;\n",
       "    }\n",
       "</style>\n",
       "<table border=\"1\" class=\"dataframe\">\n",
       "  <thead>\n",
       "    <tr style=\"text-align: right;\">\n",
       "      <th></th>\n",
       "      <th>year</th>\n",
       "      <th>country</th>\n",
       "      <th>project_completed_year</th>\n",
       "      <th>education_lag_1_growth</th>\n",
       "      <th>education_lag_1_count</th>\n",
       "      <th>education_lag_2_growth</th>\n",
       "      <th>education_lag_2_count</th>\n",
       "      <th>education_lag_3_growth</th>\n",
       "      <th>education_lag_3_count</th>\n",
       "      <th>education_lag_4_growth</th>\n",
       "      <th>...</th>\n",
       "      <th>FP.CPI.TOTL.ZG</th>\n",
       "      <th>GC.NLD.TOTL.GD.ZS</th>\n",
       "      <th>NE.TRD.GNFS.ZS</th>\n",
       "      <th>NY.GDP.PCAP.KD</th>\n",
       "      <th>NY.GDP.PCAP.PP.KD</th>\n",
       "      <th>SE.XPD.TOTL.GB.ZS</th>\n",
       "      <th>SP.POP.0014.TO.ZS</th>\n",
       "      <th>SP.POP.TOTL</th>\n",
       "      <th>ppd_countrycode</th>\n",
       "      <th>wdi_countryname</th>\n",
       "    </tr>\n",
       "  </thead>\n",
       "  <tbody>\n",
       "    <tr>\n",
       "      <th>0</th>\n",
       "      <td>1956</td>\n",
       "      <td>CHN</td>\n",
       "      <td>False</td>\n",
       "      <td>NaN</td>\n",
       "      <td>0</td>\n",
       "      <td>NaN</td>\n",
       "      <td>0</td>\n",
       "      <td>NaN</td>\n",
       "      <td>0</td>\n",
       "      <td>NaN</td>\n",
       "      <td>...</td>\n",
       "      <td>NaN</td>\n",
       "      <td>NaN</td>\n",
       "      <td>NaN</td>\n",
       "      <td>NaN</td>\n",
       "      <td>NaN</td>\n",
       "      <td>NaN</td>\n",
       "      <td>NaN</td>\n",
       "      <td>NaN</td>\n",
       "      <td>CHN</td>\n",
       "      <td>China</td>\n",
       "    </tr>\n",
       "    <tr>\n",
       "      <th>2</th>\n",
       "      <td>1956</td>\n",
       "      <td>PHI</td>\n",
       "      <td>False</td>\n",
       "      <td>NaN</td>\n",
       "      <td>0</td>\n",
       "      <td>NaN</td>\n",
       "      <td>0</td>\n",
       "      <td>NaN</td>\n",
       "      <td>0</td>\n",
       "      <td>NaN</td>\n",
       "      <td>...</td>\n",
       "      <td>NaN</td>\n",
       "      <td>NaN</td>\n",
       "      <td>NaN</td>\n",
       "      <td>NaN</td>\n",
       "      <td>NaN</td>\n",
       "      <td>NaN</td>\n",
       "      <td>NaN</td>\n",
       "      <td>NaN</td>\n",
       "      <td>PHI</td>\n",
       "      <td>Philippines</td>\n",
       "    </tr>\n",
       "    <tr>\n",
       "      <th>3</th>\n",
       "      <td>1956</td>\n",
       "      <td>NEP</td>\n",
       "      <td>False</td>\n",
       "      <td>NaN</td>\n",
       "      <td>0</td>\n",
       "      <td>NaN</td>\n",
       "      <td>0</td>\n",
       "      <td>NaN</td>\n",
       "      <td>0</td>\n",
       "      <td>NaN</td>\n",
       "      <td>...</td>\n",
       "      <td>NaN</td>\n",
       "      <td>NaN</td>\n",
       "      <td>NaN</td>\n",
       "      <td>NaN</td>\n",
       "      <td>NaN</td>\n",
       "      <td>NaN</td>\n",
       "      <td>NaN</td>\n",
       "      <td>NaN</td>\n",
       "      <td>NEP</td>\n",
       "      <td>Nepal</td>\n",
       "    </tr>\n",
       "    <tr>\n",
       "      <th>4</th>\n",
       "      <td>1956</td>\n",
       "      <td>SRI</td>\n",
       "      <td>False</td>\n",
       "      <td>NaN</td>\n",
       "      <td>0</td>\n",
       "      <td>NaN</td>\n",
       "      <td>0</td>\n",
       "      <td>NaN</td>\n",
       "      <td>0</td>\n",
       "      <td>NaN</td>\n",
       "      <td>...</td>\n",
       "      <td>NaN</td>\n",
       "      <td>NaN</td>\n",
       "      <td>NaN</td>\n",
       "      <td>NaN</td>\n",
       "      <td>NaN</td>\n",
       "      <td>NaN</td>\n",
       "      <td>NaN</td>\n",
       "      <td>NaN</td>\n",
       "      <td>SRI</td>\n",
       "      <td>Sri Lanka</td>\n",
       "    </tr>\n",
       "    <tr>\n",
       "      <th>5</th>\n",
       "      <td>1956</td>\n",
       "      <td>TON</td>\n",
       "      <td>False</td>\n",
       "      <td>NaN</td>\n",
       "      <td>0</td>\n",
       "      <td>NaN</td>\n",
       "      <td>0</td>\n",
       "      <td>NaN</td>\n",
       "      <td>0</td>\n",
       "      <td>NaN</td>\n",
       "      <td>...</td>\n",
       "      <td>NaN</td>\n",
       "      <td>NaN</td>\n",
       "      <td>NaN</td>\n",
       "      <td>NaN</td>\n",
       "      <td>NaN</td>\n",
       "      <td>NaN</td>\n",
       "      <td>NaN</td>\n",
       "      <td>NaN</td>\n",
       "      <td>TON</td>\n",
       "      <td>Tonga</td>\n",
       "    </tr>\n",
       "  </tbody>\n",
       "</table>\n",
       "<p>5 rows × 34 columns</p>\n",
       "</div>"
      ],
      "text/plain": [
       "   year country  project_completed_year  education_lag_1_growth  \\\n",
       "0  1956     CHN                   False                     NaN   \n",
       "2  1956     PHI                   False                     NaN   \n",
       "3  1956     NEP                   False                     NaN   \n",
       "4  1956     SRI                   False                     NaN   \n",
       "5  1956     TON                   False                     NaN   \n",
       "\n",
       "   education_lag_1_count  education_lag_2_growth  education_lag_2_count  \\\n",
       "0                      0                     NaN                      0   \n",
       "2                      0                     NaN                      0   \n",
       "3                      0                     NaN                      0   \n",
       "4                      0                     NaN                      0   \n",
       "5                      0                     NaN                      0   \n",
       "\n",
       "   education_lag_3_growth  education_lag_3_count  education_lag_4_growth  ...  \\\n",
       "0                     NaN                      0                     NaN  ...   \n",
       "2                     NaN                      0                     NaN  ...   \n",
       "3                     NaN                      0                     NaN  ...   \n",
       "4                     NaN                      0                     NaN  ...   \n",
       "5                     NaN                      0                     NaN  ...   \n",
       "\n",
       "   FP.CPI.TOTL.ZG  GC.NLD.TOTL.GD.ZS  NE.TRD.GNFS.ZS  NY.GDP.PCAP.KD  \\\n",
       "0             NaN                NaN             NaN             NaN   \n",
       "2             NaN                NaN             NaN             NaN   \n",
       "3             NaN                NaN             NaN             NaN   \n",
       "4             NaN                NaN             NaN             NaN   \n",
       "5             NaN                NaN             NaN             NaN   \n",
       "\n",
       "   NY.GDP.PCAP.PP.KD  SE.XPD.TOTL.GB.ZS  SP.POP.0014.TO.ZS  SP.POP.TOTL  \\\n",
       "0                NaN                NaN                NaN          NaN   \n",
       "2                NaN                NaN                NaN          NaN   \n",
       "3                NaN                NaN                NaN          NaN   \n",
       "4                NaN                NaN                NaN          NaN   \n",
       "5                NaN                NaN                NaN          NaN   \n",
       "\n",
       "   ppd_countrycode  wdi_countryname  \n",
       "0              CHN            China  \n",
       "2              PHI      Philippines  \n",
       "3              NEP            Nepal  \n",
       "4              SRI        Sri Lanka  \n",
       "5              TON            Tonga  \n",
       "\n",
       "[5 rows x 34 columns]"
      ]
     },
     "execution_count": 32,
     "metadata": {},
     "output_type": "execute_result"
    }
   ],
   "source": [
    "df.head()"
   ]
  },
  {
   "cell_type": "code",
   "execution_count": 28,
   "id": "prompt-convention",
   "metadata": {},
   "outputs": [],
   "source": [
    "stored_df = pd.read_csv('../data/transformed_data/education_df.csv')"
   ]
  },
  {
   "cell_type": "code",
   "execution_count": 15,
   "id": "united-northeast",
   "metadata": {},
   "outputs": [],
   "source": [
    "# na_counts = tdf.groupby(['Year', 'Indicator Code']).agg(num_rows=('na_value', 'count'), num_na=('na_value', 'sum')).reset_index()\n",
    "# na_counts['ratio_values_present'] = 1 - na_counts['num_na'] / na_counts['num_rows']\n",
    "# na_counts.plot.line(y='ratio_values_present', x='Year')"
   ]
  },
  {
   "cell_type": "code",
   "execution_count": 30,
   "id": "noticed-detector",
   "metadata": {},
   "outputs": [],
   "source": [
    "non_data_cols = ['year', 'country', 'project_completed_year']\n",
    "data_cols = [col for col in stored_df.columns if col not in non_data_cols]\n",
    "null_df = stored_df.copy()\n",
    "null_df = null_df[null_df.year > 1990]\n",
    "null_df[data_cols] = null_df[data_cols].isna()\n",
    "null_df['number_missing'] = null_df[data_cols].sum(axis=1)"
   ]
  },
  {
   "cell_type": "code",
   "execution_count": 31,
   "id": "qualified-progress",
   "metadata": {},
   "outputs": [
    {
     "data": {
      "text/html": [
       "<div>\n",
       "<style scoped>\n",
       "    .dataframe tbody tr th:only-of-type {\n",
       "        vertical-align: middle;\n",
       "    }\n",
       "\n",
       "    .dataframe tbody tr th {\n",
       "        vertical-align: top;\n",
       "    }\n",
       "\n",
       "    .dataframe thead th {\n",
       "        text-align: right;\n",
       "    }\n",
       "</style>\n",
       "<table border=\"1\" class=\"dataframe\">\n",
       "  <thead>\n",
       "    <tr style=\"text-align: right;\">\n",
       "      <th></th>\n",
       "      <th>year</th>\n",
       "      <th>country</th>\n",
       "      <th>project_completed_year</th>\n",
       "      <th>education_lag_-4_growth</th>\n",
       "      <th>most_recent_govt_rating</th>\n",
       "      <th>FP.CPI.TOTL.ZG</th>\n",
       "      <th>GC.NLD.TOTL.GD.ZS</th>\n",
       "      <th>NE.TRD.GNFS.ZS</th>\n",
       "      <th>NY.GDP.PCAP.KD</th>\n",
       "      <th>NY.GDP.PCAP.PP.KD</th>\n",
       "      <th>SE.XPD.TOTL.GB.ZS</th>\n",
       "      <th>SP.POP.0014.TO.ZS</th>\n",
       "      <th>SP.POP.TOTL</th>\n",
       "      <th>number_missing</th>\n",
       "    </tr>\n",
       "  </thead>\n",
       "  <tbody>\n",
       "    <tr>\n",
       "      <th>6160</th>\n",
       "      <td>1991</td>\n",
       "      <td>CHN</td>\n",
       "      <td>False</td>\n",
       "      <td>True</td>\n",
       "      <td>False</td>\n",
       "      <td>False</td>\n",
       "      <td>True</td>\n",
       "      <td>False</td>\n",
       "      <td>False</td>\n",
       "      <td>False</td>\n",
       "      <td>True</td>\n",
       "      <td>False</td>\n",
       "      <td>False</td>\n",
       "      <td>3</td>\n",
       "    </tr>\n",
       "    <tr>\n",
       "      <th>6161</th>\n",
       "      <td>1991</td>\n",
       "      <td>COO</td>\n",
       "      <td>False</td>\n",
       "      <td>True</td>\n",
       "      <td>True</td>\n",
       "      <td>True</td>\n",
       "      <td>True</td>\n",
       "      <td>True</td>\n",
       "      <td>True</td>\n",
       "      <td>True</td>\n",
       "      <td>True</td>\n",
       "      <td>True</td>\n",
       "      <td>True</td>\n",
       "      <td>10</td>\n",
       "    </tr>\n",
       "    <tr>\n",
       "      <th>6162</th>\n",
       "      <td>1991</td>\n",
       "      <td>PHI</td>\n",
       "      <td>False</td>\n",
       "      <td>True</td>\n",
       "      <td>False</td>\n",
       "      <td>True</td>\n",
       "      <td>True</td>\n",
       "      <td>True</td>\n",
       "      <td>True</td>\n",
       "      <td>True</td>\n",
       "      <td>True</td>\n",
       "      <td>True</td>\n",
       "      <td>True</td>\n",
       "      <td>9</td>\n",
       "    </tr>\n",
       "    <tr>\n",
       "      <th>6163</th>\n",
       "      <td>1991</td>\n",
       "      <td>NEP</td>\n",
       "      <td>False</td>\n",
       "      <td>True</td>\n",
       "      <td>False</td>\n",
       "      <td>True</td>\n",
       "      <td>True</td>\n",
       "      <td>True</td>\n",
       "      <td>True</td>\n",
       "      <td>True</td>\n",
       "      <td>True</td>\n",
       "      <td>True</td>\n",
       "      <td>True</td>\n",
       "      <td>9</td>\n",
       "    </tr>\n",
       "    <tr>\n",
       "      <th>6164</th>\n",
       "      <td>1991</td>\n",
       "      <td>SRI</td>\n",
       "      <td>False</td>\n",
       "      <td>True</td>\n",
       "      <td>False</td>\n",
       "      <td>True</td>\n",
       "      <td>True</td>\n",
       "      <td>True</td>\n",
       "      <td>True</td>\n",
       "      <td>True</td>\n",
       "      <td>True</td>\n",
       "      <td>True</td>\n",
       "      <td>True</td>\n",
       "      <td>9</td>\n",
       "    </tr>\n",
       "  </tbody>\n",
       "</table>\n",
       "</div>"
      ],
      "text/plain": [
       "      year country  project_completed_year  education_lag_-4_growth  \\\n",
       "6160  1991     CHN                   False                     True   \n",
       "6161  1991     COO                   False                     True   \n",
       "6162  1991     PHI                   False                     True   \n",
       "6163  1991     NEP                   False                     True   \n",
       "6164  1991     SRI                   False                     True   \n",
       "\n",
       "      most_recent_govt_rating  FP.CPI.TOTL.ZG  GC.NLD.TOTL.GD.ZS  \\\n",
       "6160                    False           False               True   \n",
       "6161                     True            True               True   \n",
       "6162                    False            True               True   \n",
       "6163                    False            True               True   \n",
       "6164                    False            True               True   \n",
       "\n",
       "      NE.TRD.GNFS.ZS  NY.GDP.PCAP.KD  NY.GDP.PCAP.PP.KD  SE.XPD.TOTL.GB.ZS  \\\n",
       "6160           False           False              False               True   \n",
       "6161            True            True               True               True   \n",
       "6162            True            True               True               True   \n",
       "6163            True            True               True               True   \n",
       "6164            True            True               True               True   \n",
       "\n",
       "      SP.POP.0014.TO.ZS  SP.POP.TOTL  number_missing  \n",
       "6160              False        False               3  \n",
       "6161               True         True              10  \n",
       "6162               True         True               9  \n",
       "6163               True         True               9  \n",
       "6164               True         True               9  "
      ]
     },
     "execution_count": 31,
     "metadata": {},
     "output_type": "execute_result"
    }
   ],
   "source": [
    "null_df.head()"
   ]
  },
  {
   "cell_type": "code",
   "execution_count": 32,
   "id": "whole-article",
   "metadata": {},
   "outputs": [
    {
     "data": {
      "text/plain": [
       "<AxesSubplot:>"
      ]
     },
     "execution_count": 32,
     "metadata": {},
     "output_type": "execute_result"
    },
    {
     "data": {
      "image/png": "[encoded data removed]",
      "text/plain": [
       "<Figure size 432x288 with 1 Axes>"
      ]
     },
     "metadata": {
      "needs_background": "light"
     },
     "output_type": "display_data"
    }
   ],
   "source": [
    "null_df['number_missing'].hist()"
   ]
  },
  {
   "cell_type": "code",
   "execution_count": 103,
   "id": "supreme-cyprus",
   "metadata": {},
   "outputs": [
    {
     "data": {
      "text/plain": [
       "year                       21\n",
       "country                   176\n",
       "project_completed_year      2\n",
       "dtype: int64"
      ]
     },
     "execution_count": 103,
     "metadata": {},
     "output_type": "execute_result"
    }
   ],
   "source": [
    "null_df[non_data_cols].nunique()"
   ]
  },
  {
   "cell_type": "code",
   "execution_count": 104,
   "id": "occasional-antarctica",
   "metadata": {},
   "outputs": [
    {
     "data": {
      "image/png": "[encoded data removed]",
      "text/latex": [
       "$\\displaystyle \\left\\{ 0 : 237, \\  1 : 384, \\  2 : 327, \\  3 : 286, \\  4 : 145, \\  5 : 90, \\  6 : 33, \\  7 : 26, \\  8 : 89, \\  9 : 1377, \\  10 : 702\\right\\}$"
      ],
      "text/plain": [
       "{0: 237, 1: 384, 2: 327, 3: 286, 4: 145, 5: 90, 6: 33, 7: 26, 8: 89, 9: 1377, \n",
       "10: 702}"
      ]
     },
     "execution_count": 104,
     "metadata": {},
     "output_type": "execute_result"
    }
   ],
   "source": [
    "null_df['number_missing'].value_counts().to_dict()"
   ]
  },
  {
   "cell_type": "code",
   "execution_count": 115,
   "id": "proud-optics",
   "metadata": {},
   "outputs": [],
   "source": [
    "def extract_culprit_counts(null_df, data_cols):\n",
    "    clean_number_base = null_df['number_missing'].value_counts().to_dict()[0]\n",
    "    culprit_counts = {}\n",
    "    for test_col in data_cols:\n",
    "        tmp_cols = [col for col in data_cols if col != test_col]\n",
    "        temp_df = null_df.drop(columns=[test_col])\n",
    "        temp_df['number_missing'] = temp_df[tmp_cols].sum(axis=1)\n",
    "        new_clean = temp_df['number_missing'].value_counts().to_dict()[0]\n",
    "        culprit_counts[test_col] = new_clean - clean_number_base\n",
    "        \n",
    "    return culprit_counts"
   ]
  },
  {
   "cell_type": "code",
   "execution_count": 105,
   "id": "swiss-seven",
   "metadata": {},
   "outputs": [],
   "source": [
    "culprit_counts = extract_culprit_counts(null_df, data_cols)\n",
    "culprit_counts"
   ]
  },
  {
   "cell_type": "code",
   "execution_count": 107,
   "id": "familiar-semiconductor",
   "metadata": {},
   "outputs": [
    {
     "data": {
      "text/html": [
       "<div>\n",
       "<style scoped>\n",
       "    .dataframe tbody tr th:only-of-type {\n",
       "        vertical-align: middle;\n",
       "    }\n",
       "\n",
       "    .dataframe tbody tr th {\n",
       "        vertical-align: top;\n",
       "    }\n",
       "\n",
       "    .dataframe thead th {\n",
       "        text-align: right;\n",
       "    }\n",
       "</style>\n",
       "<table border=\"1\" class=\"dataframe\">\n",
       "  <thead>\n",
       "    <tr style=\"text-align: right;\">\n",
       "      <th></th>\n",
       "      <th>Series Code</th>\n",
       "      <th>Topic</th>\n",
       "      <th>Indicator Name</th>\n",
       "    </tr>\n",
       "  </thead>\n",
       "  <tbody>\n",
       "    <tr>\n",
       "      <th>317</th>\n",
       "      <td>FP.CPI.TOTL.ZG</td>\n",
       "      <td>Financial Sector: Exchange rates &amp; prices</td>\n",
       "      <td>Inflation, consumer prices (annual %)</td>\n",
       "    </tr>\n",
       "    <tr>\n",
       "      <th>347</th>\n",
       "      <td>GC.NLD.TOTL.GD.ZS</td>\n",
       "      <td>Public Sector: Government finance: Deficit &amp; f...</td>\n",
       "      <td>Net lending (+) / net borrowing (-) (% of GDP)</td>\n",
       "    </tr>\n",
       "    <tr>\n",
       "      <th>594</th>\n",
       "      <td>NE.TRD.GNFS.ZS</td>\n",
       "      <td>Economic Policy &amp; Debt: National accounts: Sha...</td>\n",
       "      <td>Trade (% of GDP)</td>\n",
       "    </tr>\n",
       "    <tr>\n",
       "      <th>683</th>\n",
       "      <td>NY.GDP.PCAP.KD</td>\n",
       "      <td>Economic Policy &amp; Debt: National accounts: US$...</td>\n",
       "      <td>GDP per capita (constant 2010 US$)</td>\n",
       "    </tr>\n",
       "    <tr>\n",
       "      <th>687</th>\n",
       "      <td>NY.GDP.PCAP.PP.KD</td>\n",
       "      <td>Economic Policy &amp; Debt: Purchasing power parity</td>\n",
       "      <td>GDP per capita, PPP (constant 2017 internation...</td>\n",
       "    </tr>\n",
       "    <tr>\n",
       "      <th>902</th>\n",
       "      <td>SE.XPD.TOTL.GB.ZS</td>\n",
       "      <td>Education: Inputs</td>\n",
       "      <td>Government expenditure on education, total (% ...</td>\n",
       "    </tr>\n",
       "    <tr>\n",
       "      <th>1265</th>\n",
       "      <td>SP.POP.0014.TO.ZS</td>\n",
       "      <td>Health: Population: Structure</td>\n",
       "      <td>Population ages 0-14 (% of total population)</td>\n",
       "    </tr>\n",
       "    <tr>\n",
       "      <th>1317</th>\n",
       "      <td>SP.POP.TOTL</td>\n",
       "      <td>Health: Population: Structure</td>\n",
       "      <td>Population, total</td>\n",
       "    </tr>\n",
       "  </tbody>\n",
       "</table>\n",
       "</div>"
      ],
      "text/plain": [
       "            Series Code                                              Topic  \\\n",
       "317      FP.CPI.TOTL.ZG          Financial Sector: Exchange rates & prices   \n",
       "347   GC.NLD.TOTL.GD.ZS  Public Sector: Government finance: Deficit & f...   \n",
       "594      NE.TRD.GNFS.ZS  Economic Policy & Debt: National accounts: Sha...   \n",
       "683      NY.GDP.PCAP.KD  Economic Policy & Debt: National accounts: US$...   \n",
       "687   NY.GDP.PCAP.PP.KD    Economic Policy & Debt: Purchasing power parity   \n",
       "902   SE.XPD.TOTL.GB.ZS                                  Education: Inputs   \n",
       "1265  SP.POP.0014.TO.ZS                      Health: Population: Structure   \n",
       "1317        SP.POP.TOTL                      Health: Population: Structure   \n",
       "\n",
       "                                         Indicator Name  \n",
       "317               Inflation, consumer prices (annual %)  \n",
       "347      Net lending (+) / net borrowing (-) (% of GDP)  \n",
       "594                                    Trade (% of GDP)  \n",
       "683                  GDP per capita (constant 2010 US$)  \n",
       "687   GDP per capita, PPP (constant 2017 internation...  \n",
       "902   Government expenditure on education, total (% ...  \n",
       "1265       Population ages 0-14 (% of total population)  \n",
       "1317                                  Population, total  "
      ]
     },
     "execution_count": 107,
     "metadata": {},
     "output_type": "execute_result"
    }
   ],
   "source": [
    "series_df[series_df['Series Code'].isin(culprit_counts.keys())][['Series Code', 'Topic', 'Indicator Name']]"
   ]
  },
  {
   "cell_type": "code",
   "execution_count": 85,
   "id": "pursuant-norway",
   "metadata": {},
   "outputs": [],
   "source": [
    "ddf = pd.read_csv('../data/countrypanel.csv')\n",
    "ddf.head()"
   ]
  },
  {
   "cell_type": "code",
   "execution_count": 109,
   "id": "exact-briefs",
   "metadata": {},
   "outputs": [],
   "source": [
    "ddf_data_cols = [col for col in ddf.columns if col not in ['year', 'countrycode', 'regionname', 'fcv_ind', 'lendingtype', 'incomelevel']]\n",
    "nddf = ddf.copy()\n",
    "nddf[ddf_data_cols] = nddf[ddf_data_cols].isna()\n",
    "nddf['number_missing'] = nddf[ddf_data_cols].sum(axis=1)"
   ]
  },
  {
   "cell_type": "code",
   "execution_count": 110,
   "id": "bronze-passage",
   "metadata": {},
   "outputs": [
    {
     "data": {
      "text/html": [
       "<div>\n",
       "<style scoped>\n",
       "    .dataframe tbody tr th:only-of-type {\n",
       "        vertical-align: middle;\n",
       "    }\n",
       "\n",
       "    .dataframe tbody tr th {\n",
       "        vertical-align: top;\n",
       "    }\n",
       "\n",
       "    .dataframe thead th {\n",
       "        text-align: right;\n",
       "    }\n",
       "</style>\n",
       "<table border=\"1\" class=\"dataframe\">\n",
       "  <thead>\n",
       "    <tr style=\"text-align: right;\">\n",
       "      <th></th>\n",
       "      <th>year</th>\n",
       "      <th>countrycode</th>\n",
       "      <th>countryname</th>\n",
       "      <th>regionname</th>\n",
       "      <th>fcv_ind</th>\n",
       "      <th>lendingtype</th>\n",
       "      <th>incomelevel</th>\n",
       "      <th>pc_commit_total</th>\n",
       "      <th>pc_commit_education</th>\n",
       "      <th>pc_commit_health</th>\n",
       "      <th>...</th>\n",
       "      <th>hiv_prevalence</th>\n",
       "      <th>health_share_gov_exp</th>\n",
       "      <th>cash_surplus_deficit</th>\n",
       "      <th>access_water</th>\n",
       "      <th>access_sanitation</th>\n",
       "      <th>political_rights</th>\n",
       "      <th>civil_liberties</th>\n",
       "      <th>conflict</th>\n",
       "      <th>freedom_house</th>\n",
       "      <th>number_missing</th>\n",
       "    </tr>\n",
       "  </thead>\n",
       "  <tbody>\n",
       "    <tr>\n",
       "      <th>0</th>\n",
       "      <td>1990</td>\n",
       "      <td>AFG</td>\n",
       "      <td>False</td>\n",
       "      <td>South Asia</td>\n",
       "      <td>FCS</td>\n",
       "      <td>IDA</td>\n",
       "      <td>LIC</td>\n",
       "      <td>False</td>\n",
       "      <td>False</td>\n",
       "      <td>False</td>\n",
       "      <td>...</td>\n",
       "      <td>False</td>\n",
       "      <td>True</td>\n",
       "      <td>True</td>\n",
       "      <td>True</td>\n",
       "      <td>True</td>\n",
       "      <td>False</td>\n",
       "      <td>False</td>\n",
       "      <td>False</td>\n",
       "      <td>False</td>\n",
       "      <td>15</td>\n",
       "    </tr>\n",
       "    <tr>\n",
       "      <th>1</th>\n",
       "      <td>1991</td>\n",
       "      <td>AFG</td>\n",
       "      <td>False</td>\n",
       "      <td>South Asia</td>\n",
       "      <td>FCS</td>\n",
       "      <td>IDA</td>\n",
       "      <td>LIC</td>\n",
       "      <td>False</td>\n",
       "      <td>False</td>\n",
       "      <td>False</td>\n",
       "      <td>...</td>\n",
       "      <td>False</td>\n",
       "      <td>True</td>\n",
       "      <td>True</td>\n",
       "      <td>False</td>\n",
       "      <td>False</td>\n",
       "      <td>False</td>\n",
       "      <td>False</td>\n",
       "      <td>False</td>\n",
       "      <td>False</td>\n",
       "      <td>13</td>\n",
       "    </tr>\n",
       "    <tr>\n",
       "      <th>2</th>\n",
       "      <td>1992</td>\n",
       "      <td>AFG</td>\n",
       "      <td>False</td>\n",
       "      <td>South Asia</td>\n",
       "      <td>FCS</td>\n",
       "      <td>IDA</td>\n",
       "      <td>LIC</td>\n",
       "      <td>False</td>\n",
       "      <td>False</td>\n",
       "      <td>False</td>\n",
       "      <td>...</td>\n",
       "      <td>False</td>\n",
       "      <td>True</td>\n",
       "      <td>True</td>\n",
       "      <td>False</td>\n",
       "      <td>False</td>\n",
       "      <td>False</td>\n",
       "      <td>False</td>\n",
       "      <td>False</td>\n",
       "      <td>False</td>\n",
       "      <td>13</td>\n",
       "    </tr>\n",
       "    <tr>\n",
       "      <th>3</th>\n",
       "      <td>1993</td>\n",
       "      <td>AFG</td>\n",
       "      <td>False</td>\n",
       "      <td>South Asia</td>\n",
       "      <td>FCS</td>\n",
       "      <td>IDA</td>\n",
       "      <td>LIC</td>\n",
       "      <td>False</td>\n",
       "      <td>False</td>\n",
       "      <td>False</td>\n",
       "      <td>...</td>\n",
       "      <td>False</td>\n",
       "      <td>True</td>\n",
       "      <td>True</td>\n",
       "      <td>False</td>\n",
       "      <td>False</td>\n",
       "      <td>False</td>\n",
       "      <td>False</td>\n",
       "      <td>False</td>\n",
       "      <td>False</td>\n",
       "      <td>10</td>\n",
       "    </tr>\n",
       "    <tr>\n",
       "      <th>4</th>\n",
       "      <td>1994</td>\n",
       "      <td>AFG</td>\n",
       "      <td>False</td>\n",
       "      <td>South Asia</td>\n",
       "      <td>FCS</td>\n",
       "      <td>IDA</td>\n",
       "      <td>LIC</td>\n",
       "      <td>False</td>\n",
       "      <td>False</td>\n",
       "      <td>False</td>\n",
       "      <td>...</td>\n",
       "      <td>False</td>\n",
       "      <td>True</td>\n",
       "      <td>True</td>\n",
       "      <td>False</td>\n",
       "      <td>False</td>\n",
       "      <td>False</td>\n",
       "      <td>False</td>\n",
       "      <td>False</td>\n",
       "      <td>False</td>\n",
       "      <td>13</td>\n",
       "    </tr>\n",
       "  </tbody>\n",
       "</table>\n",
       "<p>5 rows × 45 columns</p>\n",
       "</div>"
      ],
      "text/plain": [
       "   year countrycode  countryname  regionname fcv_ind lendingtype incomelevel  \\\n",
       "0  1990         AFG        False  South Asia     FCS         IDA         LIC   \n",
       "1  1991         AFG        False  South Asia     FCS         IDA         LIC   \n",
       "2  1992         AFG        False  South Asia     FCS         IDA         LIC   \n",
       "3  1993         AFG        False  South Asia     FCS         IDA         LIC   \n",
       "4  1994         AFG        False  South Asia     FCS         IDA         LIC   \n",
       "\n",
       "   pc_commit_total  pc_commit_education  pc_commit_health  ...  \\\n",
       "0            False                False             False  ...   \n",
       "1            False                False             False  ...   \n",
       "2            False                False             False  ...   \n",
       "3            False                False             False  ...   \n",
       "4            False                False             False  ...   \n",
       "\n",
       "   hiv_prevalence  health_share_gov_exp  cash_surplus_deficit  access_water  \\\n",
       "0           False                  True                  True          True   \n",
       "1           False                  True                  True         False   \n",
       "2           False                  True                  True         False   \n",
       "3           False                  True                  True         False   \n",
       "4           False                  True                  True         False   \n",
       "\n",
       "   access_sanitation  political_rights  civil_liberties  conflict  \\\n",
       "0               True             False            False     False   \n",
       "1              False             False            False     False   \n",
       "2              False             False            False     False   \n",
       "3              False             False            False     False   \n",
       "4              False             False            False     False   \n",
       "\n",
       "   freedom_house  number_missing  \n",
       "0          False              15  \n",
       "1          False              13  \n",
       "2          False              13  \n",
       "3          False              10  \n",
       "4          False              13  \n",
       "\n",
       "[5 rows x 45 columns]"
      ]
     },
     "execution_count": 110,
     "metadata": {},
     "output_type": "execute_result"
    }
   ],
   "source": [
    "nddf.head()"
   ]
  },
  {
   "cell_type": "code",
   "execution_count": 112,
   "id": "statistical-armor",
   "metadata": {},
   "outputs": [
    {
     "data": {
      "image/png": "[encoded data removed]",
      "text/latex": [
       "$\\displaystyle \\left\\{ 0 : 498, \\  1 : 460, \\  2 : 394, \\  3 : 336, \\  4 : 296, \\  5 : 306, \\  6 : 219, \\  7 : 176, \\  8 : 180, \\  9 : 138, \\  10 : 80, \\  11 : 46, \\  12 : 35, \\  13 : 37, \\  14 : 10, \\  15 : 7, \\  16 : 3, \\  17 : 1, \\  18 : 9, \\  19 : 7, \\  20 : 4, \\  21 : 1, \\  23 : 2, \\  24 : 5, \\  25 : 3, \\  26 : 4, \\  27 : 2, \\  28 : 5\\right\\}$"
      ],
      "text/plain": [
       "{0: 498, 1: 460, 2: 394, 3: 336, 4: 296, 5: 306, 6: 219, 7: 176, 8: 180, 9: 13\n",
       "8, 10: 80, 11: 46, 12: 35, 13: 37, 14: 10, 15: 7, 16: 3, 17: 1, 18: 9, 19: 7, \n",
       "20: 4, 21: 1, 23: 2, 24: 5, 25: 3, 26: 4, 27: 2, 28: 5}"
      ]
     },
     "execution_count": 112,
     "metadata": {},
     "output_type": "execute_result"
    }
   ],
   "source": [
    "nddf['number_missing'].value_counts().to_dict()"
   ]
  },
  {
   "cell_type": "code",
   "execution_count": 116,
   "id": "severe-friend",
   "metadata": {},
   "outputs": [
    {
     "data": {
      "text/plain": [
       "{'countryname': 0,\n",
       " 'pc_commit_total': 0,\n",
       " 'pc_commit_education': 0,\n",
       " 'pc_commit_health': 0,\n",
       " 'pc_commit_wash': 0,\n",
       " 'commit_total': 0,\n",
       " 'commit_education': 0,\n",
       " 'commit_health': 0,\n",
       " 'commit_wash': 0,\n",
       " 'population': 0,\n",
       " 'young_population': 0,\n",
       " 'fertility': 0,\n",
       " 'oda_share_gni': 0,\n",
       " 'oda_pc': 0,\n",
       " 'gdp_pc': 0,\n",
       " 'gdp_pc_ppp': 0,\n",
       " 'inflation': 14,\n",
       " 'trade_share_gdp': 19,\n",
       " 'edu_ner': 0,\n",
       " 'edu_aner': 1,\n",
       " 'edu_completion': 24,\n",
       " 'edu_share_gov_exp': 37,\n",
       " 'edu_pupil_teacher': 7,\n",
       " 'female_adult_literacy': 0,\n",
       " 'adult_literacy': 0,\n",
       " 'physicians_rate': 8,\n",
       " 'mortality_under5': 0,\n",
       " 'immunization': 0,\n",
       " 'life_expectancy': 0,\n",
       " 'hiv_prevalence': 83,\n",
       " 'health_share_gov_exp': 53,\n",
       " 'cash_surplus_deficit': 214,\n",
       " 'access_water': 0,\n",
       " 'access_sanitation': 0,\n",
       " 'political_rights': 0,\n",
       " 'civil_liberties': 0,\n",
       " 'conflict': 0,\n",
       " 'freedom_house': 0}"
      ]
     },
     "execution_count": 116,
     "metadata": {},
     "output_type": "execute_result"
    }
   ],
   "source": [
    "extract_culprit_counts(nddf, ddf_data_cols)"
   ]
  },
  {
   "cell_type": "code",
   "execution_count": 117,
   "id": "detected-aquarium",
   "metadata": {},
   "outputs": [],
   "source": [
    "merged_df = stored_df.merge(ddf[['countrycode', 'year', 'cash_surplus_deficit']], left_on=['country', 'year'], \n",
    "                            right_on=['countrycode', 'year'])\n",
    "\n",
    "merged_df['deficit_na'] = merged_df['GC.NLD.TOTL.GD.ZS'].isna().astype(int) + merged_df['cash_surplus_deficit'].isna().astype(int)\n",
    "merged_df.deficit_na.value_counts()"
   ]
  },
  {
   "cell_type": "code",
   "execution_count": 155,
   "id": "complimentary-frost",
   "metadata": {},
   "outputs": [
    {
     "data": {
      "text/html": [
       "<div>\n",
       "<style scoped>\n",
       "    .dataframe tbody tr th:only-of-type {\n",
       "        vertical-align: middle;\n",
       "    }\n",
       "\n",
       "    .dataframe tbody tr th {\n",
       "        vertical-align: top;\n",
       "    }\n",
       "\n",
       "    .dataframe thead th {\n",
       "        text-align: right;\n",
       "    }\n",
       "</style>\n",
       "<table border=\"1\" class=\"dataframe\">\n",
       "  <thead>\n",
       "    <tr style=\"text-align: right;\">\n",
       "      <th></th>\n",
       "      <th>countrycode</th>\n",
       "      <th>countryname</th>\n",
       "      <th>rows</th>\n",
       "      <th>honig_match</th>\n",
       "    </tr>\n",
       "  </thead>\n",
       "  <tbody>\n",
       "    <tr>\n",
       "      <th>0</th>\n",
       "      <td>AFG</td>\n",
       "      <td>Afghanistan</td>\n",
       "      <td>24</td>\n",
       "      <td>True</td>\n",
       "    </tr>\n",
       "    <tr>\n",
       "      <th>1</th>\n",
       "      <td>AGO</td>\n",
       "      <td>Angola</td>\n",
       "      <td>24</td>\n",
       "      <td>False</td>\n",
       "    </tr>\n",
       "    <tr>\n",
       "      <th>2</th>\n",
       "      <td>ALB</td>\n",
       "      <td>Albania</td>\n",
       "      <td>24</td>\n",
       "      <td>True</td>\n",
       "    </tr>\n",
       "    <tr>\n",
       "      <th>3</th>\n",
       "      <td>ARG</td>\n",
       "      <td>Argentina</td>\n",
       "      <td>24</td>\n",
       "      <td>True</td>\n",
       "    </tr>\n",
       "    <tr>\n",
       "      <th>4</th>\n",
       "      <td>ARM</td>\n",
       "      <td>Armenia</td>\n",
       "      <td>24</td>\n",
       "      <td>True</td>\n",
       "    </tr>\n",
       "    <tr>\n",
       "      <th>...</th>\n",
       "      <td>...</td>\n",
       "      <td>...</td>\n",
       "      <td>...</td>\n",
       "      <td>...</td>\n",
       "    </tr>\n",
       "    <tr>\n",
       "      <th>131</th>\n",
       "      <td>WSM</td>\n",
       "      <td>Samoa</td>\n",
       "      <td>24</td>\n",
       "      <td>True</td>\n",
       "    </tr>\n",
       "    <tr>\n",
       "      <th>132</th>\n",
       "      <td>YEM</td>\n",
       "      <td>Yemen, Republic of</td>\n",
       "      <td>24</td>\n",
       "      <td>True</td>\n",
       "    </tr>\n",
       "    <tr>\n",
       "      <th>133</th>\n",
       "      <td>ZAF</td>\n",
       "      <td>South Africa</td>\n",
       "      <td>24</td>\n",
       "      <td>False</td>\n",
       "    </tr>\n",
       "    <tr>\n",
       "      <th>134</th>\n",
       "      <td>ZMB</td>\n",
       "      <td>Zambia</td>\n",
       "      <td>24</td>\n",
       "      <td>False</td>\n",
       "    </tr>\n",
       "    <tr>\n",
       "      <th>135</th>\n",
       "      <td>ZWE</td>\n",
       "      <td>Zimbabwe</td>\n",
       "      <td>24</td>\n",
       "      <td>False</td>\n",
       "    </tr>\n",
       "  </tbody>\n",
       "</table>\n",
       "<p>136 rows × 4 columns</p>\n",
       "</div>"
      ],
      "text/plain": [
       "    countrycode         countryname  rows  honig_match\n",
       "0           AFG         Afghanistan    24         True\n",
       "1           AGO              Angola    24        False\n",
       "2           ALB             Albania    24         True\n",
       "3           ARG           Argentina    24         True\n",
       "4           ARM             Armenia    24         True\n",
       "..          ...                 ...   ...          ...\n",
       "131         WSM               Samoa    24         True\n",
       "132         YEM  Yemen, Republic of    24         True\n",
       "133         ZAF        South Africa    24        False\n",
       "134         ZMB              Zambia    24        False\n",
       "135         ZWE            Zimbabwe    24        False\n",
       "\n",
       "[136 rows x 4 columns]"
      ]
     },
     "execution_count": 155,
     "metadata": {},
     "output_type": "execute_result"
    }
   ],
   "source": [
    "ddf_ccodes = ddf.groupby(['countrycode', 'countryname'], as_index=False).agg(rows=('year', 'count'))\n",
    "ddf_ccodes['honig_match'] = ddf_ccodes['countrycode'].isin(project_df.country_code)\n",
    "ddf_ccodes"
   ]
  },
  {
   "cell_type": "code",
   "execution_count": 156,
   "id": "touched-tuner",
   "metadata": {},
   "outputs": [
    {
     "data": {
      "text/html": [
       "<div>\n",
       "<style scoped>\n",
       "    .dataframe tbody tr th:only-of-type {\n",
       "        vertical-align: middle;\n",
       "    }\n",
       "\n",
       "    .dataframe tbody tr th {\n",
       "        vertical-align: top;\n",
       "    }\n",
       "\n",
       "    .dataframe thead th {\n",
       "        text-align: right;\n",
       "    }\n",
       "</style>\n",
       "<table border=\"1\" class=\"dataframe\">\n",
       "  <thead>\n",
       "    <tr style=\"text-align: right;\">\n",
       "      <th></th>\n",
       "      <th>country_code</th>\n",
       "      <th>proj_count</th>\n",
       "      <th>panel_match</th>\n",
       "    </tr>\n",
       "  </thead>\n",
       "  <tbody>\n",
       "    <tr>\n",
       "      <th>0</th>\n",
       "      <td>AAB</td>\n",
       "      <td>3</td>\n",
       "      <td>False</td>\n",
       "    </tr>\n",
       "    <tr>\n",
       "      <th>1</th>\n",
       "      <td>AFG</td>\n",
       "      <td>135</td>\n",
       "      <td>True</td>\n",
       "    </tr>\n",
       "    <tr>\n",
       "      <th>2</th>\n",
       "      <td>ALB</td>\n",
       "      <td>93</td>\n",
       "      <td>True</td>\n",
       "    </tr>\n",
       "    <tr>\n",
       "      <th>3</th>\n",
       "      <td>ALG</td>\n",
       "      <td>72</td>\n",
       "      <td>False</td>\n",
       "    </tr>\n",
       "    <tr>\n",
       "      <th>4</th>\n",
       "      <td>ANG</td>\n",
       "      <td>24</td>\n",
       "      <td>False</td>\n",
       "    </tr>\n",
       "  </tbody>\n",
       "</table>\n",
       "</div>"
      ],
      "text/plain": [
       "  country_code  proj_count  panel_match\n",
       "0          AAB           3        False\n",
       "1          AFG         135         True\n",
       "2          ALB          93         True\n",
       "3          ALG          72        False\n",
       "4          ANG          24        False"
      ]
     },
     "execution_count": 156,
     "metadata": {},
     "output_type": "execute_result"
    }
   ],
   "source": [
    "project_data_ccodes = project_df.groupby(['country_code'], as_index=False).agg(proj_count=('ppd_project_id', 'nunique'))\n",
    "project_data_ccodes['panel_match'] = project_data_ccodes['country_code'].isin(ddf.countrycode)\n",
    "project_data_ccodes.head()"
   ]
  },
  {
   "cell_type": "code",
   "execution_count": 160,
   "id": "arabic-consistency",
   "metadata": {},
   "outputs": [
    {
     "name": "stdout",
     "output_type": "stream",
     "text": [
      "Honig matches in panel:  0.45588235294117646\n",
      "Panel matches in Honig:  0.3522727272727273\n"
     ]
    }
   ],
   "source": [
    "print('Honig matches in panel: ', ddf_ccodes.honig_match.sum() / len(ddf_ccodes))\n",
    "print('Panel matches in Honig: ', project_data_ccodes.panel_match.sum() / len(project_data_ccodes))"
   ]
  },
  {
   "cell_type": "code",
   "execution_count": 157,
   "id": "eastern-enzyme",
   "metadata": {},
   "outputs": [],
   "source": [
    "store_ccode_mismatch = False\n",
    "\n",
    "if store_ccode_mismatch:\n",
    "    ddf_ccodes.to_csv('../data/panel_country_codes.csv', index=False)\n",
    "    project_data_ccodes.to_csv('../data/honig_country_codes.csv', index=False)"
   ]
  },
  {
   "cell_type": "code",
   "execution_count": null,
   "id": "abstract-stock",
   "metadata": {},
   "outputs": [],
   "source": [
    "# ddata_cols = [col for col in ddf.columns if col not in ['year', 'countrycode', '']]"
   ]
  },
  {
   "cell_type": "code",
   "execution_count": 16,
   "id": "modified-agenda",
   "metadata": {},
   "outputs": [
    {
     "data": {
      "text/html": [
       "<div>\n",
       "<style scoped>\n",
       "    .dataframe tbody tr th:only-of-type {\n",
       "        vertical-align: middle;\n",
       "    }\n",
       "\n",
       "    .dataframe tbody tr th {\n",
       "        vertical-align: top;\n",
       "    }\n",
       "\n",
       "    .dataframe thead th {\n",
       "        text-align: right;\n",
       "    }\n",
       "</style>\n",
       "<table border=\"1\" class=\"dataframe\">\n",
       "  <thead>\n",
       "    <tr style=\"text-align: right;\">\n",
       "      <th></th>\n",
       "      <th>Country Code</th>\n",
       "      <th>Indicator Code</th>\n",
       "      <th>Year</th>\n",
       "      <th>value</th>\n",
       "    </tr>\n",
       "  </thead>\n",
       "  <tbody>\n",
       "    <tr>\n",
       "      <th>0</th>\n",
       "      <td>ARB</td>\n",
       "      <td>SE.PRM.PRSL.ZS</td>\n",
       "      <td>1990</td>\n",
       "      <td>84.182720</td>\n",
       "    </tr>\n",
       "    <tr>\n",
       "      <th>1</th>\n",
       "      <td>ARB</td>\n",
       "      <td>SE.PRM.CMPT.ZS</td>\n",
       "      <td>1990</td>\n",
       "      <td>68.912369</td>\n",
       "    </tr>\n",
       "    <tr>\n",
       "      <th>2</th>\n",
       "      <td>ARB</td>\n",
       "      <td>SE.PRM.NENR</td>\n",
       "      <td>1990</td>\n",
       "      <td>72.386398</td>\n",
       "    </tr>\n",
       "    <tr>\n",
       "      <th>3</th>\n",
       "      <td>CSS</td>\n",
       "      <td>SE.PRM.PRSL.ZS</td>\n",
       "      <td>1990</td>\n",
       "      <td>83.209790</td>\n",
       "    </tr>\n",
       "    <tr>\n",
       "      <th>4</th>\n",
       "      <td>CSS</td>\n",
       "      <td>SE.PRM.CMPT.ZS</td>\n",
       "      <td>1990</td>\n",
       "      <td>94.996964</td>\n",
       "    </tr>\n",
       "  </tbody>\n",
       "</table>\n",
       "</div>"
      ],
      "text/plain": [
       "  Country Code  Indicator Code  Year      value\n",
       "0          ARB  SE.PRM.PRSL.ZS  1990  84.182720\n",
       "1          ARB  SE.PRM.CMPT.ZS  1990  68.912369\n",
       "2          ARB     SE.PRM.NENR  1990  72.386398\n",
       "3          CSS  SE.PRM.PRSL.ZS  1990  83.209790\n",
       "4          CSS  SE.PRM.CMPT.ZS  1990  94.996964"
      ]
     },
     "execution_count": 16,
     "metadata": {},
     "output_type": "execute_result"
    }
   ],
   "source": [
    "tdf.head()"
   ]
  },
  {
   "cell_type": "code",
   "execution_count": null,
   "id": "divided-dimension",
   "metadata": {},
   "outputs": [],
   "source": [
    "edu_proj, df = futil.assemble_sector_proj_df(project_df, 'Education', df)"
   ]
  },
  {
   "cell_type": "code",
   "execution_count": null,
   "id": "stopped-charles",
   "metadata": {},
   "outputs": [],
   "source": [
    "df = futil.construct_sector_lag_table(df, tdf, pdf, education_outcome_indicators, 'Education')"
   ]
  },
  {
   "cell_type": "code",
   "execution_count": null,
   "id": "paperback-harris",
   "metadata": {},
   "outputs": [],
   "source": [
    "df.head()"
   ]
  },
  {
   "cell_type": "code",
   "execution_count": null,
   "id": "recent-contemporary",
   "metadata": {},
   "outputs": [],
   "source": [
    "print('Total projects: ', len(pdf))\n",
    "print('Years with sufficient coverage on lag: ', len(df[(df.education_lag_4_count > 0)]))\n",
    "df.project_completed_year.value_counts()"
   ]
  },
  {
   "cell_type": "code",
   "execution_count": null,
   "id": "strategic-painting",
   "metadata": {},
   "outputs": [],
   "source": [
    "# then: add in the various confounders, treatments, controlsc"
   ]
  },
  {
   "cell_type": "code",
   "execution_count": null,
   "id": "dedicated-survival",
   "metadata": {},
   "outputs": [],
   "source": [
    "# first : country rating\n",
    "def find_latest_govt_rating(country, year):\n",
    "    country_proj = project_df[\n",
    "        (project_df['country_code'] == country) \n",
    "        & (project_df['start_year'] <= year)\n",
    "        & (project_df['wb_government_partner_rating'].notna())]\n",
    "    if len(country_proj) == 0:\n",
    "        return np.nan\n",
    "    else:\n",
    "        proj_year = country_proj[country_proj.start_year == country_proj.start_year.max()]\n",
    "        return proj_year['wb_government_partner_rating'].sort_values(ascending=False).iloc[0]\n",
    "\n",
    "if 'most_recent_govt_rating' not in df:\n",
    "    df['most_recent_govt_rating'] = df.apply(lambda row: find_latest_govt_rating(row['country'], row['year']), axis=1)\n",
    "\n",
    "df.most_recent_govt_rating.value_counts()"
   ]
  },
  {
   "cell_type": "markdown",
   "id": "olive-canon",
   "metadata": {},
   "source": [
    "Education: Specification 2\n",
    "```\n",
    "regress  last_ner <- first_ner pc_commit_education [per capita commitment amount=\n",
    "        edu_share_gov_exp edu_pupil_teacher young_population\n",
    "        gdp_pc_ppp cash_surplus_deficit inflation trade_share_gdp\n",
    "        freedom_house i.period i.ncountrycode if countrytoinclude == 1, r\n",
    "```"
   ]
  },
  {
   "cell_type": "code",
   "execution_count": null,
   "id": "egyptian-fifteen",
   "metadata": {},
   "outputs": [],
   "source": [
    "# the commitment amounts will come from aid data (and are the original exogs)\n",
    "other_input_variables = [\n",
    "    'SP.POP.TOTL', \n",
    "    'SP.POP.0014.TO.ZS', # young population\n",
    "    'NY.GDP.PCAP.KD',\n",
    "    'NY.GDP.PCAP.PP.KD', # gdp per cap PPP\n",
    "    'FP.CPI.TOTL.ZG', # inflation\n",
    "    'NE.TRD.GNFS.ZS', # trade share of GDP,\n",
    "#     'SE.PRM.ENRL.TC.ZS', # teacher-pupil share (? - should be in outcome)\n",
    "    'SE.XPD.TOTL.GB.ZS', # govt share of education,\n",
    "    'GC.NLD.TOTL.GD.ZS' # note: discontinued cash surplus/balance, and not in MDG, so use this\n",
    "]"
   ]
  },
  {
   "cell_type": "markdown",
   "id": "instructional-istanbul",
   "metadata": {},
   "source": [
    "*Note*: There is no surplus deficit in the standard WDI, so using net borrowing in year (is available)"
   ]
  },
  {
   "cell_type": "code",
   "execution_count": null,
   "id": "changed-visitor",
   "metadata": {},
   "outputs": [],
   "source": [
    "feature_frame = futil.extract_indicators(wdi_df, other_input_variables)"
   ]
  },
  {
   "cell_type": "code",
   "execution_count": null,
   "id": "macro-macro",
   "metadata": {},
   "outputs": [],
   "source": [
    "feature_df = futil.melt_interpolate_df(feature_frame, interpolate_limit=2, drop_columns=['Country Name', 'Indicator Name', 'Unnamed: 65'])"
   ]
  },
  {
   "cell_type": "code",
   "execution_count": null,
   "id": "efficient-planning",
   "metadata": {},
   "outputs": [],
   "source": [
    "present_counts = feature_df['Indicator Code'].value_counts().to_dict()\n",
    "var_count = { key: present_counts.get(key, 0) for key in other_input_variables }\n",
    "var_count"
   ]
  },
  {
   "cell_type": "code",
   "execution_count": null,
   "id": "flying-permit",
   "metadata": {},
   "outputs": [],
   "source": [
    "feature_df.head()"
   ]
  },
  {
   "cell_type": "code",
   "execution_count": null,
   "id": "sound-humanitarian",
   "metadata": {},
   "outputs": [],
   "source": [
    "# pf_df = feature_df.pivot(columns=['Country Code', 'Year'])\n",
    "pf_df = feature_df.groupby(['Country Code', 'Year', 'Indicator Code'])['value'].max().unstack()\n",
    "pf_df = pf_df.reset_index()\n",
    "pf_df.head()"
   ]
  },
  {
   "cell_type": "code",
   "execution_count": null,
   "id": "excited-health",
   "metadata": {},
   "outputs": [],
   "source": [
    "df.head()"
   ]
  },
  {
   "cell_type": "code",
   "execution_count": null,
   "id": "earlier-signature",
   "metadata": {},
   "outputs": [],
   "source": [
    "pf_df['Year'] = pf_df['Year'].astype(int)"
   ]
  },
  {
   "cell_type": "code",
   "execution_count": null,
   "id": "attempted-wiring",
   "metadata": {},
   "outputs": [],
   "source": [
    "df = df.merge(pf_df, how='left', left_on=['year', 'country'], right_on=['Year', 'Country Code'])"
   ]
  },
  {
   "cell_type": "code",
   "execution_count": null,
   "id": "taken-extreme",
   "metadata": {},
   "outputs": [],
   "source": [
    "df = df.drop(columns=['Country Code', 'Year'], errors='ignore')\n",
    "df.head()"
   ]
  },
  {
   "cell_type": "code",
   "execution_count": null,
   "id": "compatible-bandwidth",
   "metadata": {},
   "outputs": [],
   "source": [
    "save_df = True\n",
    "\n",
    "if save_df:\n",
    "    df.to_csv('../data/transformed_data/education_df.csv', index=False)"
   ]
  },
  {
   "cell_type": "markdown",
   "id": "manufactured-practice",
   "metadata": {},
   "source": [
    "## Some vanilla OLS"
   ]
  },
  {
   "cell_type": "code",
   "execution_count": null,
   "id": "chicken-vermont",
   "metadata": {},
   "outputs": [],
   "source": [
    "import statsmodels.api as sm"
   ]
  },
  {
   "cell_type": "code",
   "execution_count": null,
   "id": "funky-currency",
   "metadata": {},
   "outputs": [],
   "source": [
    "df.head()"
   ]
  },
  {
   "cell_type": "code",
   "execution_count": null,
   "id": "seasonal-knight",
   "metadata": {},
   "outputs": [],
   "source": [
    "df.isna().sum() / len(df)"
   ]
  },
  {
   "cell_type": "code",
   "execution_count": null,
   "id": "sudden-canberra",
   "metadata": {},
   "outputs": [],
   "source": [
    "# Adding categorical variables for country, for replication purposes, although means dimensionality explosion (for unclear gain)"
   ]
  },
  {
   "cell_type": "code",
   "execution_count": null,
   "id": "valuable-pharmacy",
   "metadata": {},
   "outputs": [],
   "source": [
    "ols_df = pd.concat((df, pd.get_dummies(df['country'], drop_first=True)), axis=1)"
   ]
  },
  {
   "cell_type": "code",
   "execution_count": null,
   "id": "eight-nomination",
   "metadata": {},
   "outputs": [],
   "source": [
    "ols_df.head()"
   ]
  },
  {
   "cell_type": "code",
   "execution_count": null,
   "id": "announced-photograph",
   "metadata": {},
   "outputs": [],
   "source": [
    "drop_cols = [f'education_lag_{i}_count' for i in range(1, 10)]\n",
    "drop_cols += [f'education_lag_{i}_growth' for i in range(1, 10)]\n",
    "drop_cols += ['education_lag_-4_count']"
   ]
  },
  {
   "cell_type": "code",
   "execution_count": null,
   "id": "secondary-hanging",
   "metadata": {},
   "outputs": [],
   "source": [
    "ols_df.drop(columns=drop_cols, errors='ignore').columns"
   ]
  },
  {
   "cell_type": "code",
   "execution_count": null,
   "id": "medieval-section",
   "metadata": {},
   "outputs": [],
   "source": [
    "target_col = 'education_lag_4_growth'"
   ]
  },
  {
   "cell_type": "code",
   "execution_count": null,
   "id": "coupled-theorem",
   "metadata": {},
   "outputs": [],
   "source": [
    "len(ols_df)"
   ]
  },
  {
   "cell_type": "code",
   "execution_count": null,
   "id": "approximate-tucson",
   "metadata": {},
   "outputs": [],
   "source": [
    "data = ols_df.drop(columns=drop_cols + ['most_recent_govt_rating'])"
   ]
  },
  {
   "cell_type": "code",
   "execution_count": null,
   "id": "played-thesaurus",
   "metadata": {},
   "outputs": [],
   "source": [
    "data.isna().sum()"
   ]
  },
  {
   "cell_type": "code",
   "execution_count": null,
   "id": "conditional-nursing",
   "metadata": {},
   "outputs": [],
   "source": [
    "len(data)"
   ]
  },
  {
   "cell_type": "code",
   "execution_count": null,
   "id": "amber-edmonton",
   "metadata": {},
   "outputs": [],
   "source": [
    "y = ols_df[target_col]\n",
    "x = ols_df.drop(columns=drop_cols)"
   ]
  },
  {
   "cell_type": "code",
   "execution_count": null,
   "id": "balanced-virus",
   "metadata": {},
   "outputs": [],
   "source": [
    "sm.OLS.fit(y, x)"
   ]
  },
  {
   "cell_type": "markdown",
   "id": "indirect-evidence",
   "metadata": {},
   "source": [
    "# Execute do-why"
   ]
  },
  {
   "cell_type": "code",
   "execution_count": null,
   "id": "thirty-ground",
   "metadata": {},
   "outputs": [],
   "source": [
    "df['sector_delta_prior'] = df['education_lag_-4_growth']\n",
    "df['sector_delta_post'] = df['education_lag_4_growth']"
   ]
  },
  {
   "cell_type": "code",
   "execution_count": null,
   "id": "experimental-tampa",
   "metadata": {},
   "outputs": [],
   "source": [
    "sectoral_effect_graph_binary = \"\"\"digraph { \n",
    "    \"Govt-Quality\"[latent];\n",
    "    project_completed_year [exposure, label=\"project_completed\"];\n",
    "    sector_delta_prior [adjusted, label=\"sector_outcome_growth_prior\"];\n",
    "    sector_delta_post [outcome, label=sector_outcome_growth_lagged];\n",
    "    most_recent_govt_rating [label=\"WBGovtRating\"];\n",
    "    \"Govt-Quality\" -> project_completed_year;\n",
    "    \"Govt-Quality\" -> sector_delta_prior;\n",
    "    \"Govt-Quality\" -> most_recent_govt_rating;\n",
    "    project_completed_year -> sector_delta_post;\n",
    "    sector_delta_prior -> sector_delta_post;\n",
    "    most_recent_govt_rating -> project_completed_year;\n",
    "    }\"\"\""
   ]
  },
  {
   "cell_type": "code",
   "execution_count": null,
   "id": "scheduled-evanescence",
   "metadata": {},
   "outputs": [],
   "source": [
    "causal_columns = ['sector_delta_prior', 'most_recent_govt_rating', 'project_completed_year', 'sector_delta_post']"
   ]
  },
  {
   "cell_type": "code",
   "execution_count": null,
   "id": "outstanding-cleaning",
   "metadata": {},
   "outputs": [],
   "source": [
    "causal_df = df[causal_columns]\n",
    "pre_drop_N = len(causal_df)\n",
    "causal_df = causal_df.dropna()\n",
    "post_drop_N = len(causal_df)\n",
    "\n",
    "print(\"N pre NA drop: \", pre_drop_N, \" and post: \", post_drop_N)"
   ]
  },
  {
   "cell_type": "code",
   "execution_count": null,
   "id": "approximate-friday",
   "metadata": {},
   "outputs": [],
   "source": [
    "causal_df.project_completed_year.value_counts()"
   ]
  },
  {
   "cell_type": "code",
   "execution_count": null,
   "id": "basic-algebra",
   "metadata": {},
   "outputs": [],
   "source": [
    "model = CausalModel(\n",
    "    data=causal_df,\n",
    "    graph=sectoral_effect_graph_binary.replace(\"\\n\", \" \"),\n",
    "    treatment=\"project_completed_year\",\n",
    "    outcome=\"sector_delta_post\"\n",
    ")\n",
    "\n",
    "model.view_model()\n",
    "display(Image(filename=\"causal_model.png\"))"
   ]
  },
  {
   "cell_type": "code",
   "execution_count": null,
   "id": "excessive-broadway",
   "metadata": {},
   "outputs": [],
   "source": [
    "identified_estimand = model.identify_effect(proceed_when_unidentifiable=True)\n",
    "print(identified_estimand)"
   ]
  },
  {
   "cell_type": "code",
   "execution_count": null,
   "id": "virgin-video",
   "metadata": {},
   "outputs": [],
   "source": [
    "estimate = model.estimate_effect(identified_estimand, method_name=\"backdoor.linear_regression\",\n",
    "                                 target_units=\"ate\", test_significance=True)\n",
    "print(estimate)"
   ]
  },
  {
   "cell_type": "code",
   "execution_count": null,
   "id": "rational-damages",
   "metadata": {},
   "outputs": [],
   "source": [
    "causal_df.head()"
   ]
  },
  {
   "cell_type": "code",
   "execution_count": null,
   "id": "detected-waterproof",
   "metadata": {},
   "outputs": [],
   "source": [
    "estimator_list = [\"backdoor.propensity_score_matching\", \"backdoor.propensity_score_weighting\", \"backdoor.causalml.inference.meta.LRSRegressor\"]\n",
    "method_params= [ None, None, { \"init_params\":{} } ]"
   ]
  },
  {
   "cell_type": "code",
   "execution_count": null,
   "id": "forward-disney",
   "metadata": {},
   "outputs": [],
   "source": [
    "refuter_list = [\"bootstrap_refuter\", \"data_subset_refuter\"]"
   ]
  },
  {
   "cell_type": "code",
   "execution_count": null,
   "id": "opposed-disability",
   "metadata": {},
   "outputs": [],
   "source": [
    "# for estimator, method_params in zip(estimator_list, method_params):\n",
    "#     estimate = model.estimate_effect(identified_estimand, method_name=estimator, method_params=method_params)"
   ]
  },
  {
   "cell_type": "code",
   "execution_count": null,
   "id": "warming-surgery",
   "metadata": {},
   "outputs": [],
   "source": [
    "refuter = model.refute_estimate(identified_estimand, estimate, method_name=\"bootstrap_refuter\")"
   ]
  },
  {
   "cell_type": "code",
   "execution_count": null,
   "id": "apart-location",
   "metadata": {},
   "outputs": [],
   "source": [
    "print(refuter)"
   ]
  },
  {
   "cell_type": "code",
   "execution_count": null,
   "id": "married-building",
   "metadata": {},
   "outputs": [],
   "source": [
    "run_refuter = lambda refuter_name, refuter_params: model.refute_estimate(identified_estimand, estimate, method_name=refuter_name, **refuter_params)"
   ]
  },
  {
   "cell_type": "code",
   "execution_count": null,
   "id": "anonymous-school",
   "metadata": {},
   "outputs": [],
   "source": [
    "# c_cause_refuter = model.refute_estimate(identified_estimand, estimate, method_name=\"random_common_cause\")\n",
    "c_cause_refuter = run_refuter(\"random_common_cause\", {})"
   ]
  },
  {
   "cell_type": "code",
   "execution_count": null,
   "id": "quiet-chrome",
   "metadata": {},
   "outputs": [],
   "source": [
    "print(c_cause_refuter)"
   ]
  },
  {
   "cell_type": "code",
   "execution_count": null,
   "id": "powered-teens",
   "metadata": {},
   "outputs": [],
   "source": [
    "placebo_refuter = run_refuter(\"placebo_treatment_refuter\", dict(placebo_type=\"permuter\"))"
   ]
  },
  {
   "cell_type": "code",
   "execution_count": null,
   "id": "soviet-classroom",
   "metadata": {},
   "outputs": [],
   "source": [
    "print(placebo_refuter)"
   ]
  },
  {
   "cell_type": "code",
   "execution_count": null,
   "id": "affecting-worry",
   "metadata": {},
   "outputs": [],
   "source": [
    "sample_refuter = run_refuter(\"data_subset_refuter\", dict(subset_fraction=0.9))"
   ]
  },
  {
   "cell_type": "code",
   "execution_count": null,
   "id": "green-violence",
   "metadata": {},
   "outputs": [],
   "source": [
    "print(sample_refuter)"
   ]
  },
  {
   "cell_type": "code",
   "execution_count": null,
   "id": "split-interface",
   "metadata": {},
   "outputs": [],
   "source": [
    "# Note: took a bit of digging, but the \"p value\" here relates to a null hypothesis that \n",
    "# the estimate obtained is part of the general set of distributions, i.e., we want this to hold\n",
    "# (since it suggests that the family of estimators is not significantly affected by subsampling)"
   ]
  },
  {
   "cell_type": "code",
   "execution_count": null,
   "id": "empty-reality",
   "metadata": {},
   "outputs": [],
   "source": [
    "estimate.interpret(method_name=\"textual_effect_interpreter\")"
   ]
  },
  {
   "cell_type": "code",
   "execution_count": null,
   "id": "nutritional-morocco",
   "metadata": {},
   "outputs": [],
   "source": [
    "bootstrap_refuter = run_refuter(\"bootstrap_refuter\", {})"
   ]
  },
  {
   "cell_type": "code",
   "execution_count": null,
   "id": "moral-facility",
   "metadata": {},
   "outputs": [],
   "source": [
    "print(bootstrap_refuter)"
   ]
  },
  {
   "cell_type": "code",
   "execution_count": null,
   "id": "breeding-timer",
   "metadata": {},
   "outputs": [],
   "source": [
    "# cribbed for now from example notebook\n",
    "dummy_args = {'num_simulations':5,'transformation_list': [('random_forest',{'n_estimators':100, 'max_depth':6})], 'true_causal_effect':(lambda x:0.5)}"
   ]
  },
  {
   "cell_type": "code",
   "execution_count": null,
   "id": "established-syria",
   "metadata": {},
   "outputs": [],
   "source": [
    "dummy_refuter = run_refuter(\"dummy_outcome_refuter\", dummy_args)"
   ]
  },
  {
   "cell_type": "code",
   "execution_count": null,
   "id": "british-chair",
   "metadata": {},
   "outputs": [],
   "source": [
    "print(dummy_refuter[0])"
   ]
  },
  {
   "cell_type": "code",
   "execution_count": null,
   "id": "preceding-collaboration",
   "metadata": {},
   "outputs": [],
   "source": [
    "from sklearn.ensemble import GradientBoostingRegressor\n",
    "from sklearn.linear_model import LassoCV"
   ]
  },
  {
   "cell_type": "code",
   "execution_count": null,
   "id": "partial-california",
   "metadata": {},
   "outputs": [],
   "source": [
    "from sklearn.preprocessing import PolynomialFeatures"
   ]
  },
  {
   "cell_type": "code",
   "execution_count": null,
   "id": "viral-blame",
   "metadata": {},
   "outputs": [],
   "source": [
    "# cribbed for now\n",
    "dml_params = { \n",
    "    \"init_params\": { \n",
    "        'model_y':GradientBoostingRegressor(),\n",
    "        'model_t': GradientBoostingRegressor(),\n",
    "        \"model_final\":LassoCV(fit_intercept=False),\n",
    "        'featurizer':PolynomialFeatures(degree=1, include_bias=True)\n",
    "    },\n",
    "    \"fit_params\": {}\n",
    "}"
   ]
  },
  {
   "cell_type": "code",
   "execution_count": null,
   "id": "thorough-capacity",
   "metadata": {},
   "outputs": [],
   "source": [
    "estimate = model.estimate_effect(identified_estimand, method_name=\"backdoor.econml.dml.DML\", method_params=dml_params,\n",
    "                                 target_units=\"ate\", test_significance=True)\n",
    "print(estimate)"
   ]
  },
  {
   "cell_type": "code",
   "execution_count": null,
   "id": "southwest-afternoon",
   "metadata": {},
   "outputs": [],
   "source": [
    "print(estimate)"
   ]
  }
 ],
 "metadata": {
  "kernelspec": {
   "display_name": "causal",
   "language": "python",
   "name": "causal"
  },
  "language_info": {
   "codemirror_mode": {
    "name": "ipython",
    "version": 3
   },
   "file_extension": ".py",
   "mimetype": "text/x-python",
   "name": "python",
   "nbconvert_exporter": "python",
   "pygments_lexer": "ipython3",
   "version": "3.8.8"
  }
 },
 "nbformat": 4,
 "nbformat_minor": 5
}
