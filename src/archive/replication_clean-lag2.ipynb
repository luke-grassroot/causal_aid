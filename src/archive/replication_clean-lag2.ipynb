{
 "cells": [
  {
   "cell_type": "code",
   "execution_count": null,
   "id": "direct-simulation",
   "metadata": {},
   "outputs": [],
   "source": [
    "%config Completer.use_jedi = False\n",
    "from importlib import reload"
   ]
  },
  {
   "cell_type": "code",
   "execution_count": null,
   "id": "bored-humanity",
   "metadata": {},
   "outputs": [],
   "source": [
    "import statsmodels.api as sm\n",
    "\n",
    "from datetime import datetime, timedelta\n",
    "\n",
    "import pandas as pd\n",
    "import numpy as np\n",
    "\n",
    "import matplotlib\n",
    "import matplotlib.pyplot as plt\n",
    "\n",
    "from IPython.display import Image, display\n",
    "\n",
    "from dowhy import CausalModel"
   ]
  },
  {
   "cell_type": "code",
   "execution_count": null,
   "id": "lined-harbor",
   "metadata": {},
   "outputs": [],
   "source": [
    "pd.set_option(\"mode.chained_assignment\", None)"
   ]
  },
  {
   "cell_type": "code",
   "execution_count": null,
   "id": "duplicate-samba",
   "metadata": {},
   "outputs": [],
   "source": [
    "import util.load as load_util\n",
    "import util.explore as explore_util\n",
    "import util.experiment as experiment"
   ]
  },
  {
   "cell_type": "code",
   "execution_count": null,
   "id": "chinese-photograph",
   "metadata": {},
   "outputs": [],
   "source": [
    "from econml.dml import LinearDML"
   ]
  },
  {
   "cell_type": "markdown",
   "id": "intended-documentation",
   "metadata": {},
   "source": [
    "### Load in data frames"
   ]
  },
  {
   "cell_type": "markdown",
   "id": "assumed-prophet",
   "metadata": {},
   "source": [
    "1. Load in panel assembled by DG, and country code cross-matches\n",
    "2. For each country-year, calculate mean growth in education indicators at year + lag"
   ]
  },
  {
   "cell_type": "code",
   "execution_count": null,
   "id": "dynamic-forge",
   "metadata": {},
   "outputs": [],
   "source": [
    "project_df = load_util.load_projects() # loads in aid data projects\n",
    "edu_treatment_df = load_util.assemble_sector_ratings(project_df, 'Education').fillna(0) # loads in \n",
    "edu_treatment_df.head()"
   ]
  },
  {
   "cell_type": "code",
   "execution_count": null,
   "id": "distributed-deputy",
   "metadata": {},
   "outputs": [],
   "source": [
    "recreate_df = False\n",
    "\n",
    "if recreate_df:\n",
    "    panel_df, panel_source = experiment.assemble_replication_panel('education')\n",
    "    df = panel_df.merge(edu_treatment_df, how='left', left_on=['year', 'country'], right_on=['end_year', 'country_code'])\n",
    "    treatment_cols = [col for col in edu_treatment_df.columns if col not in [\"end_year\", \"country_code\"]]\n",
    "    df[treatment_cols] = df[treatment_cols].fillna(0)\n",
    "else:\n",
    "    df = pd.read_csv('../data/transformed_data/education_df.csv', index_col=0)"
   ]
  },
  {
   "cell_type": "code",
   "execution_count": null,
   "id": "imperial-manor",
   "metadata": {},
   "outputs": [],
   "source": [
    "# deal with some legacy (quicker than regenerating)\n",
    "df = df.drop(columns=[f\"education_lag_{i}_growth\" for i in range(1, 10)], errors=\"ignore\")\n",
    "df = df.drop(columns=[f\"education_lag_{i}_count\" for i in range(1, 10)], errors=\"ignore\")\n",
    "df = df.drop(columns=[\"education_lag_-4_count\", \"mean_pc_last_5\", \"future_edu_ner\", \"lagged_edu_ner\", \"ner_growth\"], errors=\"ignore\")"
   ]
  },
  {
   "cell_type": "markdown",
   "id": "separated-footage",
   "metadata": {},
   "source": [
    "### Construct lagged indicators, fille in needed columns"
   ]
  },
  {
   "cell_type": "code",
   "execution_count": null,
   "id": "assumed-marine",
   "metadata": {},
   "outputs": [],
   "source": [
    "df.project_completed_year.value_counts()"
   ]
  },
  {
   "cell_type": "markdown",
   "id": "dangerous-noise",
   "metadata": {},
   "source": [
    "Generate some necessary feature and outcome columns"
   ]
  },
  {
   "cell_type": "code",
   "execution_count": null,
   "id": "fitting-kazakhstan",
   "metadata": {},
   "outputs": [],
   "source": [
    "def add_lagged_future_edu_outcomes(df):\n",
    "    if 'edu_ner_lag5' not in df:\n",
    "        print('Generating past net enrollment rates')\n",
    "        df = explore_util.lag_variable_simple(df, 'edu_ner', 5)\n",
    "\n",
    "    if 'future_edu_ner' not in df:\n",
    "        print('Generating future net enrollment rates')\n",
    "        df = explore_util.lag_variable_simple(df, 'edu_ner', -5)\n",
    "        df = df.rename(columns = { 'edu_ner_lag-5': 'future_edu_ner'})\n",
    "\n",
    "    return df"
   ]
  },
  {
   "cell_type": "code",
   "execution_count": null,
   "id": "aquatic-microwave",
   "metadata": {},
   "outputs": [],
   "source": [
    "df = experiment.add_project_and_aid_cols(df)\n",
    "df = add_lagged_future_edu_outcomes(df)"
   ]
  },
  {
   "cell_type": "code",
   "execution_count": null,
   "id": "moved-drove",
   "metadata": {},
   "outputs": [],
   "source": [
    "df[df.edu_ner_lag5.notna()][['year', 'country', 'edu_ner', 'edu_ner_lag5', 'pc_commit_education', 'education_mean_pc_rolling_5', 'education_mean_pc_rolling_5_lag1']].head()"
   ]
  },
  {
   "cell_type": "code",
   "execution_count": null,
   "id": "stuffed-search",
   "metadata": {},
   "outputs": [],
   "source": [
    "store_df = False\n",
    "\n",
    "if store_df:\n",
    "    df.to_csv('../data/transformed_data/education_df.csv')"
   ]
  },
  {
   "cell_type": "markdown",
   "id": "later-thunder",
   "metadata": {},
   "source": [
    "### Check data coverage, isolating features with a lot of uncovered years/countries"
   ]
  },
  {
   "cell_type": "markdown",
   "id": "continued-accountability",
   "metadata": {},
   "source": [
    "A column is a culprit for an N/A row if it alone is N/A, i.e., it is responsible for the country-year being unusable. If multiple columns are N/A then none are culprits"
   ]
  },
  {
   "cell_type": "code",
   "execution_count": null,
   "id": "protective-receiver",
   "metadata": {},
   "outputs": [],
   "source": [
    "conduct_coverage_analysis = False"
   ]
  },
  {
   "cell_type": "code",
   "execution_count": null,
   "id": "taken-lottery",
   "metadata": {},
   "outputs": [],
   "source": [
    "if 'panel_source' not in vars():\n",
    "    panel_source = pd.read_csv('../data/countrypanel.csv')"
   ]
  },
  {
   "cell_type": "code",
   "execution_count": null,
   "id": "printable-annex",
   "metadata": {},
   "outputs": [],
   "source": [
    "if conduct_coverage_analysis:\n",
    "\n",
    "    # We only want to do this on the data columns, so don't check the others\n",
    "    panel_label_columns = ['year', 'countrycode', 'regionname', 'fcv_ind', 'lendingtype', 'incomelevel']\n",
    "    df_label_columns = ['year', 'country', 'ppd_countrycode', 'wdi_countryname', 'project_completed_year'] + panel_non_data\n",
    "\n",
    "    data_cols = [col for col in df.columns if col not in panel_label_columns + df_label_columns]\n",
    "    ddf_data_cols = [col for col in panel_source.columns if col not in panel_non_data]\n",
    "\n",
    "    culprit_counts, null_df = experiment.extract_culprit_counts(df, data_cols)\n",
    "    ddf_culprits, ddf_nulls = experiment.extract_culprit_counts(panel_source, ddf_data_cols)\n",
    "\n",
    "    non_zero_culps = lambda culpc: (\n",
    "        { key: value for key, value in sorted(culprit_counts.items(), key=lambda item: item[1], reverse=True) if value > 0 }\n",
    "    ) \n",
    "\n",
    "    print(non_zero_culps(culprit_counts))\n",
    "    print(non_zero_culps(ddf_culprits))"
   ]
  },
  {
   "cell_type": "markdown",
   "id": "canadian-probe",
   "metadata": {},
   "source": [
    "*Note*: There is no surplus deficit in the standard WDI, so using net borrowing in year (is available)"
   ]
  },
  {
   "cell_type": "markdown",
   "id": "initial-submission",
   "metadata": {},
   "source": [
    "## Education: replicate original, then probe the specification"
   ]
  },
  {
   "cell_type": "markdown",
   "id": "thorough-petroleum",
   "metadata": {},
   "source": [
    "Education: Specification 2\n",
    "```\n",
    "regress  last_ner <- first_ner pc_commit_education [per capita commitment amount=\n",
    "        edu_share_gov_exp edu_pupil_teacher young_population\n",
    "        gdp_pc_ppp cash_surplus_deficit inflation trade_share_gdp\n",
    "        freedom_house i.period i.ncountrycode if countrytoinclude == 1, r\n",
    "```"
   ]
  },
  {
   "cell_type": "code",
   "execution_count": null,
   "id": "healthy-advice",
   "metadata": {},
   "outputs": [],
   "source": [
    "df['mean_pc_last_5'] = (df.pc_commit_education_lag5.notna() * df.education_mean_pc_rolling_5_lag1).replace({ 0: np.nan })"
   ]
  },
  {
   "cell_type": "code",
   "execution_count": null,
   "id": "increasing-course",
   "metadata": {},
   "outputs": [],
   "source": [
    "df['period'] = round((df.year - 1900) / 5) - 10\n",
    "df['prior_ner_growth'] = df['edu_ner'] / df['edu_ner_lag5']\n",
    "df = explore_util.lag_variable_simple(df, 'pc_commit_education', 5)"
   ]
  },
  {
   "cell_type": "code",
   "execution_count": null,
   "id": "artistic-coverage",
   "metadata": {},
   "outputs": [],
   "source": [
    "df[(df.education_mean_pc_rolling_5_lag1.notna()) & (df.country == 'CHN')][['country', 'year', 'edu_ner', 'mean_pc_last_5', 'pc_commit_education', 'education_mean_pc_rolling_5_lag1']]"
   ]
  },
  {
   "cell_type": "code",
   "execution_count": null,
   "id": "crazy-craps",
   "metadata": {},
   "outputs": [],
   "source": [
    "df.education_mean_pc_rolling_5_lag1.isna().sum()"
   ]
  },
  {
   "cell_type": "code",
   "execution_count": null,
   "id": "premier-charlotte",
   "metadata": {},
   "outputs": [],
   "source": [
    "data_cols = ['edu_ner', 'mean_pc_last_5',\n",
    "             'edu_share_gov_exp', 'edu_pupil_teacher', 'young_population', 'gdp_pc_ppp', \n",
    "             'cash_surplus_deficit', 'inflation', 'trade_share_gdp',\n",
    "             'freedom_house', 'prior_ner_growth', 'prior_4year_growth']\n",
    "    \n",
    "# first go for the paper\n",
    "edu_treatment_col = 'mean_pc_last_5'\n",
    "\n",
    "initial_drop = ['prior_ner_growth', 'edu_share_gov_exp', 'w_avg_rating', 'satisfactory_proj', 'prior_4year_growth']\n",
    "r_est = experiment.evaluate_treatment(df, 'edu_ner', edu_treatment_col, data_cols,\n",
    "                          remove_feature_cols=initial_drop,\n",
    "                          add_country_feffects=True, add_constant=False, log_target=True, log_treatment=True,\n",
    "                                     add_period_feffects=False)\n",
    "\n",
    "experiment.extract_treatment_results('Replication', r_est, 'edu_ner', edu_treatment_col, data_cols, None)\n",
    "# print(r_est.summary())"
   ]
  },
  {
   "cell_type": "code",
   "execution_count": null,
   "id": "capable-territory",
   "metadata": {},
   "outputs": [],
   "source": [
    "print(r_est.summary())"
   ]
  },
  {
   "cell_type": "code",
   "execution_count": null,
   "id": "sealed-technical",
   "metadata": {},
   "outputs": [],
   "source": [
    "search_grid = {\n",
    "    'Straight replication': {\n",
    "        'target_col': 'edu_ner', \n",
    "        'treatment_col': edu_treatment_col,\n",
    "        'est_kw_args': dict(\n",
    "            add_country_feffects=True, add_constant=False, log_target=True, log_treatment=True,\n",
    "            remove_feature_cols=['prior_ner_growth', 'edu_share_gov_exp', 'w_avg_rating', 'satisfactory_proj', 'prior_4year_growth']\n",
    "        )\n",
    "    },\n",
    "    'Include rating information': {\n",
    "        'target_col': 'edu_ner', \n",
    "        'treatment_col': edu_treatment_col,\n",
    "        'est_kw_args': dict(\n",
    "            add_country_feffects=True, add_constant=False, log_target=True, log_treatment=True,\n",
    "            remove_feature_cols=['prior_ner_growth', 'edu_share_gov_exp', 'prior_4year_growth']\n",
    "        )\n",
    "    },\n",
    "    'Include period fixed effects': {\n",
    "        'target_col': 'edu_ner', \n",
    "        'treatment_col': edu_treatment_col,\n",
    "        'est_kw_args': dict(\n",
    "            add_country_feffects=True, add_constant=True, log_target=True, log_treatment=True, add_period_feffects=True,\n",
    "            remove_feature_cols=['prior_ner_growth', 'edu_share_gov_exp', 'w_avg_rating', 'satisfactory_proj', 'prior_4year_growth']\n",
    "        )        \n",
    "    },\n",
    "    'Include prior growth across education outcomes': {\n",
    "        'target_col': 'edu_ner', \n",
    "        'treatment_col': edu_treatment_col,\n",
    "        'est_kw_args': dict(\n",
    "            add_country_feffects=True, add_constant=False, log_target=True, log_treatment=True,\n",
    "            remove_feature_cols=['prior_ner_growth', 'edu_share_gov_exp', 'satisfactory_proj', 'w_avg_rating']\n",
    "        )\n",
    "    },\n",
    "    'Properly include govt share spend': {\n",
    "        'target_col': 'edu_ner', \n",
    "        'treatment_col': edu_treatment_col,\n",
    "        'est_kw_args': dict(\n",
    "            add_country_feffects=True, add_constant=False, log_target=True, log_treatment=True,\n",
    "            remove_feature_cols=['prior_ner_growth', 'w_avg_rating', 'satisfactory_proj', 'prior_4year_growth']\n",
    "        )\n",
    "    },\n",
    "    'Use growth in NER as target': {\n",
    "        'target_col': 'prior_ner_growth', \n",
    "        'treatment_col': edu_treatment_col,\n",
    "        'est_kw_args': dict(\n",
    "            add_country_feffects=True, add_constant=True, log_target=True, log_treatment=True,\n",
    "            remove_feature_cols=['edu_ner', 'w_avg_rating', 'satisfactory_proj', 'prior_4year_growth']\n",
    "        )\n",
    "\n",
    "    }\n",
    "}"
   ]
  },
  {
   "cell_type": "code",
   "execution_count": null,
   "id": "instructional-growth",
   "metadata": {},
   "outputs": [],
   "source": [
    "treatment_search_result = []\n",
    "estimators = {}\n",
    "for label, args in search_grid.items():\n",
    "    est = experiment.evaluate_treatment(df, args['target_col'], args['treatment_col'], data_cols, **args['est_kw_args'])\n",
    "    results = experiment.extract_treatment_results(label, est, args['target_col'], args['treatment_col'], data_cols, args['est_kw_args'])\n",
    "    treatment_search_result.append(results)\n",
    "    estimators[label] = est\n",
    "\n",
    "gsearch_results = pd.DataFrame(treatment_search_result)"
   ]
  },
  {
   "cell_type": "code",
   "execution_count": null,
   "id": "cellular-newfoundland",
   "metadata": {},
   "outputs": [],
   "source": [
    "gsearch_results"
   ]
  },
  {
   "cell_type": "code",
   "execution_count": null,
   "id": "royal-mileage",
   "metadata": {},
   "outputs": [],
   "source": [
    "treatment_search_result[1]"
   ]
  },
  {
   "cell_type": "code",
   "execution_count": null,
   "id": "decimal-palestine",
   "metadata": {},
   "outputs": [],
   "source": [
    "write_results = False\n",
    "\n",
    "if write_results:\n",
    "    with open(\"./growth_not_abs_ner_target.txt\", \"w\") as file:\n",
    "        file.write(estimators['Use growth in NER as target'].summary().as_text())\n",
    "\n",
    "    with open(\"./base_replication_full.txt\", \"w\") as file:\n",
    "        file.write(estimators['Straight replication'].summary().as_text())\n",
    "\n",
    "    gsearch_results.to_csv('../data/results/education_model_crawl.csv', float_format='%.4f')"
   ]
  },
  {
   "cell_type": "code",
   "execution_count": null,
   "id": "aggregate-embassy",
   "metadata": {},
   "outputs": [],
   "source": [
    "display_repl_summary = True\n",
    "\n",
    "if display_repl_summary:\n",
    "    print(\"*** Standard Replication: \")\n",
    "    print(r_est.summary())\n",
    "    \n",
    "    print(\"*** Replication with average rating: \")\n",
    "    print(estimators['Include rating information'].summary())"
   ]
  },
  {
   "cell_type": "code",
   "execution_count": null,
   "id": "destroyed-element",
   "metadata": {},
   "outputs": [],
   "source": []
  },
  {
   "cell_type": "code",
   "execution_count": null,
   "id": "close-project",
   "metadata": {},
   "outputs": [],
   "source": []
  },
  {
   "cell_type": "code",
   "execution_count": null,
   "id": "boolean-average",
   "metadata": {},
   "outputs": [],
   "source": []
  },
  {
   "cell_type": "markdown",
   "id": "offshore-target",
   "metadata": {},
   "source": [
    "## Health"
   ]
  },
  {
   "cell_type": "markdown",
   "id": "recognized-sponsorship",
   "metadata": {},
   "source": [
    "Process:\n",
    "\n",
    "1. Repeat outcome variable formation, using lagged construction\n",
    "2. Construct sectoral aid per capita using utilities\n",
    "3. Construct specification, using Diana's original notebook"
   ]
  },
  {
   "cell_type": "code",
   "execution_count": null,
   "id": "falling-forty",
   "metadata": {},
   "outputs": [],
   "source": [
    "health_treatment_df = load_util.assemble_sector_ratings(project_df, 'Health').fillna(0)\n",
    "health_treatment_df.head()"
   ]
  },
  {
   "cell_type": "code",
   "execution_count": null,
   "id": "solar-mobile",
   "metadata": {},
   "outputs": [],
   "source": [
    "recreate_health_df = False\n",
    "\n",
    "if recreate_health_df:\n",
    "    hp_df, hp_source = experiment.assemble_replication_panel('health')\n",
    "    health_df = hp_df.merge(health_treatment_df, how='left', left_on=['year', 'country'], right_on=['end_year', 'country_code'])\n",
    "    treatment_cols = [col for col in health_treatment_df.columns if col not in [\"end_year\", \"country_code\"]]\n",
    "    health_df[treatment_cols] = df[treatment_cols].fillna(0)\n",
    "else:\n",
    "    health_df = pd.read_csv('../data/transformed_data/health_df.csv', index_col=0)"
   ]
  },
  {
   "cell_type": "code",
   "execution_count": null,
   "id": "altered-check",
   "metadata": {},
   "outputs": [],
   "source": [
    "health_df = experiment.add_project_and_aid_cols(health_df, sector='health')\n",
    "\n",
    "treatment_cols = [col for col in health_treatment_df.columns if col not in [\"end_year\", \"country_code\"]]\n",
    "health_df[treatment_cols] = health_df[treatment_cols].fillna(0)\n",
    "print(\"Treatment counts: \", health_df.project_completed_year.value_counts())"
   ]
  },
  {
   "cell_type": "code",
   "execution_count": null,
   "id": "sonic-voice",
   "metadata": {},
   "outputs": [],
   "source": [
    "store_health_df = False\n",
    "\n",
    "if store_health_df:\n",
    "    health_df.to_csv('../data/transformed_data/health_df.csv')"
   ]
  },
  {
   "cell_type": "code",
   "execution_count": null,
   "id": "desperate-reminder",
   "metadata": {},
   "outputs": [],
   "source": [
    "# take rolling five year averages of everything, following paper\n",
    "# note: not doing this for macro variables as justification does not make sense for those (measurement/volatility)\n",
    "measured_cols = ['mortality_under5', 'fertility', 'hiv_prevalence']\n",
    "\n",
    "for m_col in measured_cols:\n",
    "    health_df[f\"{m_col}_pavg\"] = explore_util.rolling_country_agg(health_df, m_col, 5, \"mean\")\n",
    "    health_df = explore_util.lag_variable_simple(health_df, f\"{m_col}_pavg\", 1)\n",
    "    \n",
    "macro_cols = [\"gdp_pc_ppp\", \"population\"]\n",
    "for m_col in macro_cols:\n",
    "    health_df = explore_util.lag_variable_simple(health_df, m_col, 1)"
   ]
  },
  {
   "cell_type": "code",
   "execution_count": null,
   "id": "internal-dimension",
   "metadata": {},
   "outputs": [],
   "source": [
    "health_df['mean_pc_last_5'] = (\n",
    "    health_df.pc_commit_health_lag5.notna() * health_df.health_mean_pc_rolling_5_lag1\n",
    ").replace({ 0: np.nan })\n",
    "\n",
    "health_df = explore_util.lag_variable_simple(health_df, \"mortality_under5_pavg\", 5)\n",
    "health_df[\"lag_log_mort\"] = np.log(health_df[\"mortality_under5_pavg_lag5\"])\n",
    "health_df['prior_mort_decline'] = health_df['mortality_under5_pavg'] / health_df['mortality_under5_pavg_lag5']"
   ]
  },
  {
   "cell_type": "markdown",
   "id": "protecting-compression",
   "metadata": {},
   "source": [
    "* Specification 1:\n",
    "\n",
    "```qui regress mortality_under5 pc_commit_health lag_mortality_under5 ///\n",
    "            lag_gdp_pc_ppp lag_fertility lag_population ///\n",
    "            hiv_prevalence conflict i.period, r```"
   ]
  },
  {
   "cell_type": "code",
   "execution_count": null,
   "id": "manual-preview",
   "metadata": {},
   "outputs": [],
   "source": [
    "# health_df.columns"
   ]
  },
  {
   "cell_type": "code",
   "execution_count": null,
   "id": "active-lender",
   "metadata": {},
   "outputs": [],
   "source": [
    "target_cols = [\"mortality_under5_pavg\"]\n",
    "treatment_cols = [\"mean_pc_last_5\"]\n",
    "\n",
    "momentum_cols = [\"lag_log_mort\"]\n",
    "control_cols = [\"hiv_prevalence_pavg_lag1\", \"fertility_pavg_lag1\", \"gdp_pc_ppp_lag1\", \"population_lag1\", \"conflict\"]\n",
    "rating_cols = ['health_satisfactory_proj', 'w_avg_rating']\n",
    "\n",
    "\n",
    "health_data_cols = [\"country\"] + target_cols + treatment_cols + momentum_cols + control_cols + rating_cols"
   ]
  },
  {
   "cell_type": "code",
   "execution_count": null,
   "id": "outdoor-deployment",
   "metadata": {},
   "outputs": [],
   "source": [
    "# first go for the paper\n",
    "# replication_exclude = ['prior_mort_decline', 'w_avg_rating', 'satisfactory_proj', 'prior_4year_growth',\n",
    "#                       'inflation', 'trade_share_gdp', 'freedom_house', 'mean_pc_last_5']\n",
    "\n",
    "health_est = experiment.evaluate_treatment(health_df, 'mortality_under5_pavg', 'mean_pc_last_5', health_data_cols,\n",
    "                            remove_feature_cols=[\"prior_mort_decline\"], add_country_feffects=False, \n",
    "                            add_constant=False, log_target=True, log_treatment=True)\n",
    "\n",
    "experiment.extract_treatment_results('Health Replication', health_est, 'mortality_under5_pavg', 'mean_pc_last_5', health_data_cols, None)"
   ]
  },
  {
   "cell_type": "code",
   "execution_count": null,
   "id": "educated-decimal",
   "metadata": {},
   "outputs": [],
   "source": [
    "print(health_est.summary())"
   ]
  },
  {
   "cell_type": "code",
   "execution_count": null,
   "id": "interior-fashion",
   "metadata": {},
   "outputs": [],
   "source": [
    "# now add in controls for macro conditions\n",
    "cols_rep2 = health_data_cols + ['inflation', 'cash_surplus_deficit', 'trade_share_gdp']\n",
    "health_est2 = experiment.evaluate_treatment(health_df, 'mortality_under5_pavg', 'mean_pc_last_5', cols_rep2,\n",
    "                          add_country_feffects=False, add_constant=False, log_target=True, log_treatment=True)\n",
    "\n",
    "experiment.extract_treatment_results('Health Replication with Macro', health_est2, 'mortality_under5_pavg', 'mean_pc_last_5', cols_rep2, None)"
   ]
  },
  {
   "cell_type": "markdown",
   "id": "italian-department",
   "metadata": {},
   "source": [
    "* Specification 6\n",
    "\n",
    "```qui regress mortality_under5 pc_commit_health lag_mortality_under5 ///\n",
    "            lag_gdp_pc_ppp lag_fertility lag_population ///\n",
    "            lag_physicians_rate  lag_female_adult_literacy ///\n",
    "            lag_access_water lag_access_sanitation ///\n",
    "            hiv_prevalence conflict i.period i.nregionname, r```"
   ]
  },
  {
   "cell_type": "code",
   "execution_count": null,
   "id": "stable-romance",
   "metadata": {},
   "outputs": [],
   "source": [
    "'female_adult_literacy' in health_df"
   ]
  },
  {
   "cell_type": "code",
   "execution_count": null,
   "id": "applied-bennett",
   "metadata": {},
   "outputs": [],
   "source": [
    "# 'female_adult_literacy',\n",
    "cols_rep3 = health_data_cols + ['access_water', 'access_sanitation', 'physicians_rate']\n",
    "\n",
    "health_est3 = experiment.evaluate_treatment(health_df, 'mortality_under5_pavg', 'mean_pc_last_5', \n",
    "                          cols_rep3, add_country_feffects=True, add_period_feffects=True,\n",
    "                            add_constant=False, log_target=True, log_treatment=True)\n",
    "\n",
    "experiment.extract_treatment_results('Health Replication 6', health_est3, 'mortality_under5_pavg', 'mean_pc_last_5', health_data_cols, None)"
   ]
  },
  {
   "cell_type": "code",
   "execution_count": null,
   "id": "industrial-portuguese",
   "metadata": {},
   "outputs": [],
   "source": [
    "print(health_est3.summary())"
   ]
  },
  {
   "cell_type": "markdown",
   "id": "relevant-fundamentals",
   "metadata": {},
   "source": [
    "### Now trying EconML (on health)"
   ]
  },
  {
   "cell_type": "code",
   "execution_count": null,
   "id": "foster-onion",
   "metadata": {},
   "outputs": [],
   "source": [
    "from econml.dml import LinearDML"
   ]
  },
  {
   "cell_type": "code",
   "execution_count": null,
   "id": "egyptian-thomson",
   "metadata": {},
   "outputs": [],
   "source": [
    "eml_est = LinearDML()"
   ]
  },
  {
   "cell_type": "code",
   "execution_count": null,
   "id": "official-injection",
   "metadata": {},
   "outputs": [],
   "source": [
    "health_df[\"log_mort\"] = np.log(health_df[\"mortality_under5_pavg\"])\n",
    "health_df[\"log_mean_pc_last_5\"] = np.log(health_df[\"mean_pc_last_5\"])\n",
    "health_df[\"log_proj_rating\"] = np.log(health_df[\"w_avg_rating\"].replace(0, np.nan)).fillna(0).fillna(0)"
   ]
  },
  {
   "cell_type": "code",
   "execution_count": null,
   "id": "prescribed-helping",
   "metadata": {},
   "outputs": [],
   "source": [
    "if \"access_water\" not in control_cols:\n",
    "    control_cols += [\"physicians_rate\", \"health_share_gov_exp\"]"
   ]
  },
  {
   "cell_type": "code",
   "execution_count": null,
   "id": "funky-rachel",
   "metadata": {},
   "outputs": [],
   "source": [
    "Y, T, X, W = experiment.assemble_econml_tuples(health_df, \"log_mort\", \"log_mean_pc_last_5\",\n",
    "                                              control_cols + [\"log_proj_rating\"])\n",
    "eml_est.fit(Y, T, X=X, W=W)\n",
    "eml_est.summary()"
   ]
  },
  {
   "cell_type": "code",
   "execution_count": null,
   "id": "competent-ecuador",
   "metadata": {},
   "outputs": [],
   "source": [
    "Y, T, X, W = experiment.assemble_econml_tuples(health_df, \"log_mort\", \"w_avg_rating\",\n",
    "                                              control_cols + [\"log_mean_pc_last_5\"])\n",
    "\n",
    "eml_est.fit(Y, T, X=X, W=W)\n",
    "eml_est.summary()"
   ]
  },
  {
   "cell_type": "code",
   "execution_count": null,
   "id": "disturbed-globe",
   "metadata": {},
   "outputs": [],
   "source": [
    "# so far copied from the process directly\n",
    "\n",
    "from econml.policy import DRPolicyTree, DRPolicyForest\n",
    "from sklearn.ensemble import RandomForestRegressor\n",
    "\n",
    "# fit a single binary decision tree policy\n",
    "policy = DRPolicyTree(max_depth=1, min_impurity_decrease=0.01, honest=True)\n",
    "policy.fit(Y, T, X=X, W=W)\n",
    "# predict the recommended treatment\n",
    "recommended_T = policy.predict(X)\n",
    "# plot the binary decision tree\n",
    "plt.figure(figsize=(10,5))\n",
    "policy.plot()\n",
    "# get feature importances\n",
    "importances = policy.feature_importances_\n",
    "\n",
    "# fit a binary decision forest\n",
    "policy = DRPolicyForest(max_depth=1, min_impurity_decrease=0.01, honest=True)\n",
    "policy.fit(Y, T, X=X, W=W)\n",
    "# predict the recommended treatment\n",
    "recommended_T = policy.predict(X)\n",
    "# plot the first tree in the ensemble\n",
    "plt.figure(figsize=(10,5))\n",
    "policy.plot(0)\n",
    "# get feature importances\n",
    "importances = policy.feature_importances_\n"
   ]
  },
  {
   "cell_type": "markdown",
   "id": "interested-tanzania",
   "metadata": {},
   "source": [
    "## WASH replications"
   ]
  },
  {
   "cell_type": "code",
   "execution_count": null,
   "id": "facial-missile",
   "metadata": {},
   "outputs": [],
   "source": [
    "# Access = a0 + a1 * Aid + a2 * Aid^2 + beta * controls + country FE + error term"
   ]
  },
  {
   "cell_type": "markdown",
   "id": "electrical-commissioner",
   "metadata": {},
   "source": [
    "* Access (country, year) = access_water or access_sanitation  (each of them is separately used as the dependent variable, for Table 4 and Table 5, while the other is included as a lagged term in the controls). They also split urban and rural, but I think we can ignore this for now\n",
    "* Aid (country, year) = Aid targeted to the water and sanitation sector as a percentage of GDP. So Aid = 100 * commit_wash / (gdp_pc * population)\n",
    "* Controls (country, year): \n",
    "   - adult_literacy; log(gdp_pc), lagged(access_water or access_sanitation) and 3 others that are not exactly in the dataset but have reasonably close proxies:\n",
    "   - Government spending on health (% of GDP)  is not in the dataset, but a reasonably close one is health_share_gov_exp = Government health expenditure (% of general government expenditure)\n",
    "   - Age dependency ratio is not in the dataset, but a reasonably close one is young_population\n",
    "   - Government stability from ICRG is not in the dataset, but reasonably close ones are conflict and freedom_house\n",
    "* Other details:\n",
    "   - Period = 1990-2010\n",
    "   - Sample restricted to SSA countries only"
   ]
  },
  {
   "cell_type": "code",
   "execution_count": null,
   "id": "seeing-enforcement",
   "metadata": {},
   "outputs": [],
   "source": [
    "safe_log = lambda data, col: np.log(data[col].replace(0, np.nan)).fillna(0)"
   ]
  },
  {
   "cell_type": "code",
   "execution_count": null,
   "id": "direct-water",
   "metadata": {},
   "outputs": [],
   "source": [
    "wash_df = df.copy()"
   ]
  },
  {
   "cell_type": "code",
   "execution_count": null,
   "id": "whole-volume",
   "metadata": {},
   "outputs": [],
   "source": [
    "wash_df.columns"
   ]
  },
  {
   "cell_type": "code",
   "execution_count": null,
   "id": "liable-palace",
   "metadata": {},
   "outputs": [],
   "source": [
    "wash_df = experiment.add_project_and_aid_cols(wash_df, \"wash\")"
   ]
  },
  {
   "cell_type": "code",
   "execution_count": null,
   "id": "cultural-mississippi",
   "metadata": {},
   "outputs": [],
   "source": [
    "wash_df['wash_aid'] = wash_df['mean_pc_last_5'] * 100 / (wash_df['gdp_pc_ppp'])\n",
    "wash_df['wash_aid_sq'] = wash_df['wash_aid'] ** 2"
   ]
  },
  {
   "cell_type": "code",
   "execution_count": null,
   "id": "supposed-reaction",
   "metadata": {},
   "outputs": [],
   "source": [
    "wash_df[wash_df.wash_aid.notna()][['year', 'country', 'commit_wash', 'population', 'mean_pc_last_5', 'gdp_pc_ppp', 'wash_aid', 'wash_aid_sq']].tail()"
   ]
  },
  {
   "cell_type": "code",
   "execution_count": null,
   "id": "above-alexandria",
   "metadata": {},
   "outputs": [],
   "source": [
    "def take_avg_and_lag(data, col):\n",
    "    data[f\"{col}_pavg\"] = explore_util.rolling_country_agg(data, col, 5, \"mean\")\n",
    "    data = explore_util.lag_variable_simple(data, f\"{col}_pavg\", 1)\n",
    "    return data"
   ]
  },
  {
   "cell_type": "code",
   "execution_count": null,
   "id": "apart-elevation",
   "metadata": {},
   "outputs": [],
   "source": [
    "wash_df['log_gdp_pc'] = safe_log(wash_df, 'gdp_pc_ppp')\n",
    "wash_df = take_avg_and_lag(wash_df, \"health_share_gov_exp\")\n",
    "wash_df = take_avg_and_lag(wash_df, \"adult_literacy\")"
   ]
  },
  {
   "cell_type": "code",
   "execution_count": null,
   "id": "matched-disney",
   "metadata": {},
   "outputs": [],
   "source": [
    "wash_df['access_water_pavg'] = explore_util.rolling_country_agg(wash_df, \"access_water\", 5, \"mean\")\n",
    "wash_df['access_san_pavg'] = explore_util.rolling_country_agg(wash_df, \"access_sanitation\", 5, \"mean\")"
   ]
  },
  {
   "cell_type": "code",
   "execution_count": null,
   "id": "freelance-double",
   "metadata": {},
   "outputs": [],
   "source": [
    "# wash_df = explore_util.lag_variable_simple(wash_df, 'access_water_pavg', 1)\n",
    "# wash_df = explore_util.lag_variable_simple(wash_df, \"access_san_pavg\", 1)\n",
    "\n",
    "wash_df = explore_util.lag_variable_simple(wash_df, 'access_water_pavg', 5)\n",
    "wash_df = explore_util.lag_variable_simple(wash_df, \"access_san_pavg\", 5)"
   ]
  },
  {
   "cell_type": "code",
   "execution_count": null,
   "id": "weekly-dover",
   "metadata": {},
   "outputs": [],
   "source": [
    "wash_controls_constant = ['adult_literacy_pavg', 'log_gdp_pc', 'health_share_gov_exp_pavg_lag1',\n",
    "                'young_population', 'conflict', 'freedom_house']\n",
    "\n",
    "wash_access_cols = ['access_water_pavg', 'access_san_pavg', 'access_water_pavg_lag5', 'access_san_pavg_lag5']\n",
    "wash_proj_cols = ['wash_satisfactory_proj', 'wash_max_proj_5yr']"
   ]
  },
  {
   "cell_type": "code",
   "execution_count": null,
   "id": "strong-detroit",
   "metadata": {},
   "outputs": [],
   "source": [
    "wash_df['log_wash_aid_sq'] = safe_log(wash_df, 'wash_aid_sq')"
   ]
  },
  {
   "cell_type": "code",
   "execution_count": null,
   "id": "nonprofit-farmer",
   "metadata": {},
   "outputs": [],
   "source": [
    "remove_for_water = [\"access_san_pavg\", \"access_water_pavg_lag5\"]\n",
    "# remove_for_water = []\n",
    "\n",
    "water_est = experiment.evaluate_treatment(wash_df[wash_df.gdp_pc_ppp < 10000], \"access_water_pavg\", \"wash_aid\",\n",
    "                                          wash_controls_constant + wash_access_cols + wash_proj_cols, # + ['log_wash_aid_sq'],\n",
    "                                          remove_feature_cols=remove_for_water,\n",
    "                                          log_target=True, log_treatment=True, add_constant=True, \n",
    "                                          add_country_feffects=True)\n",
    "\n",
    "experiment.extract_treatment_results('Access to Water Estimate', water_est, 'access_water_pavg', 'wash_aid', wash_controls_constant, None)"
   ]
  },
  {
   "cell_type": "code",
   "execution_count": null,
   "id": "faced-broadway",
   "metadata": {},
   "outputs": [],
   "source": [
    "print(water_est.summary())"
   ]
  },
  {
   "cell_type": "code",
   "execution_count": null,
   "id": "beautiful-requirement",
   "metadata": {},
   "outputs": [],
   "source": [
    "# effect of doubling:\n",
    "2 ** (water_est.params['wash_aid']) - 1"
   ]
  },
  {
   "cell_type": "code",
   "execution_count": null,
   "id": "premier-spouse",
   "metadata": {},
   "outputs": [],
   "source": [
    "remove_for_san = [\"access_water_pavg\", \"access_san_pavg_lag5\"]\n",
    "# remove_for_water = []\n",
    "\n",
    "san_est = experiment.evaluate_treatment(wash_df[wash_df.gdp_pc_ppp < 10000], \"access_san_pavg\", \"wash_aid\",\n",
    "                                          wash_controls_constant + wash_access_cols, # + wash_proj_cols + ['log_wash_aid_sq'],\n",
    "                                          remove_feature_cols=remove_for_san,\n",
    "                                          log_target=True, log_treatment=True, add_constant=True, \n",
    "                                          add_country_feffects=True)\n",
    "\n",
    "print(san_est.summary())"
   ]
  },
  {
   "cell_type": "code",
   "execution_count": null,
   "id": "classical-individual",
   "metadata": {},
   "outputs": [],
   "source": [
    "# effect of doubling here\n",
    "2 ** (san_est.params[\"wash_aid\"])"
   ]
  },
  {
   "cell_type": "code",
   "execution_count": null,
   "id": "blessed-princeton",
   "metadata": {},
   "outputs": [],
   "source": [
    "write_wash_results = True\n",
    "\n",
    "if write_wash_results:\n",
    "    with open(\"../results/intial_run/water_initial_fe_linear.txt\", \"w\") as file:\n",
    "        file.write(water_est.summary().as_text())\n",
    "\n",
    "    with open(\"../results/intial_run/sanitation_initial_fe_linear.txt\", \"w\") as file:\n",
    "        file.write(san_est.summary().as_text())\n",
    "\n",
    "#     gsearch_results.to_csv('../data/results/education_model_crawl.csv', float_format='%.4f')"
   ]
  },
  {
   "cell_type": "markdown",
   "id": "sunrise-egyptian",
   "metadata": {},
   "source": [
    "### Also trying GMM model"
   ]
  },
  {
   "cell_type": "code",
   "execution_count": null,
   "id": "modified-azerbaijan",
   "metadata": {},
   "outputs": [],
   "source": [
    "from statsmodels.sandbox.regression.gmm import GMM, LinearIVGMM, NonlinearIVGMM"
   ]
  },
  {
   "cell_type": "code",
   "execution_count": null,
   "id": "painful-yahoo",
   "metadata": {},
   "outputs": [],
   "source": [
    "gmm_df = wash_df[wash_df.gdp_pc_ppp < 10000][\n",
    "    ['access_water_pavg', 'wash_aid', 'log_wash_aid_sq'] + wash_controls_constant + wash_access_cols\n",
    "]\n",
    "gmm_df = gmm_df.dropna()\n",
    "gmm_df.head()"
   ]
  },
  {
   "cell_type": "code",
   "execution_count": null,
   "id": "lovely-narrative",
   "metadata": {},
   "outputs": [],
   "source": [
    "# endog, exog, instrument = map(lambda cols: np.asarray(gmm_df[cols]), [\n",
    "#     ['access_water_pavg'], ['wash_aid'], ['conflict']\n",
    "# ])\n",
    "# gm_water_est = LinearIVGMM(endog, exog, instrument)\n",
    "# gm_water_est.fit()"
   ]
  },
  {
   "cell_type": "code",
   "execution_count": null,
   "id": "intermediate-residence",
   "metadata": {},
   "outputs": [],
   "source": []
  },
  {
   "cell_type": "code",
   "execution_count": null,
   "id": "motivated-latin",
   "metadata": {},
   "outputs": [],
   "source": []
  },
  {
   "cell_type": "code",
   "execution_count": null,
   "id": "experienced-surveillance",
   "metadata": {},
   "outputs": [],
   "source": [
    "wash_df.access_water_pavg.describe()"
   ]
  },
  {
   "cell_type": "code",
   "execution_count": null,
   "id": "interpreted-apparel",
   "metadata": {},
   "outputs": [],
   "source": [
    "water_est2 = experiment.evaluate_treatment(wash_df, \"access_water_pavg\", \"wash_aid\",\n",
    "                                          wash_controls_constant + wash_access_cols + wash_proj_cols,\n",
    "                                          remove_feature_cols=remove_for_water, log_target=True, log_treatment=True,\n",
    "                                          add_constant=True, add_country_feffects=False)"
   ]
  },
  {
   "cell_type": "code",
   "execution_count": null,
   "id": "bright-apparatus",
   "metadata": {},
   "outputs": [],
   "source": [
    "print(water_est2.summary())"
   ]
  },
  {
   "cell_type": "code",
   "execution_count": null,
   "id": "strategic-graph",
   "metadata": {},
   "outputs": [],
   "source": []
  },
  {
   "cell_type": "code",
   "execution_count": null,
   "id": "wound-ozone",
   "metadata": {},
   "outputs": [],
   "source": [
    "experiment.extract_treatment_results(water_est, )"
   ]
  },
  {
   "cell_type": "code",
   "execution_count": null,
   "id": "occasional-pacific",
   "metadata": {},
   "outputs": [],
   "source": [
    "n_est = evaluate_treatment(df, 'edu_ner', 'satisfactory_proj', data_cols,\n",
    "                          remove_feature_cols=['prior_ner_growth', 'w_avg_rating', 'prior_4year_growth'],\n",
    "                          add_country_feffects=True, add_constant=False, log_target=True, log_treatment=True)"
   ]
  },
  {
   "cell_type": "code",
   "execution_count": null,
   "id": "right-refrigerator",
   "metadata": {},
   "outputs": [],
   "source": [
    "print(n_est.summary())"
   ]
  },
  {
   "cell_type": "code",
   "execution_count": null,
   "id": "skilled-grocery",
   "metadata": {},
   "outputs": [],
   "source": []
  },
  {
   "cell_type": "code",
   "execution_count": null,
   "id": "overhead-implementation",
   "metadata": {},
   "outputs": [],
   "source": [
    "# future: do a pair-wise comparison, e.g., using BERT and others"
   ]
  },
  {
   "cell_type": "code",
   "execution_count": null,
   "id": "north-folks",
   "metadata": {},
   "outputs": [],
   "source": []
  }
 ],
 "metadata": {
  "kernelspec": {
   "display_name": "causal",
   "language": "python",
   "name": "causal"
  },
  "language_info": {
   "codemirror_mode": {
    "name": "ipython",
    "version": 3
   },
   "file_extension": ".py",
   "mimetype": "text/x-python",
   "name": "python",
   "nbconvert_exporter": "python",
   "pygments_lexer": "ipython3",
   "version": "3.8.8"
  }
 },
 "nbformat": 4,
 "nbformat_minor": 5
}
