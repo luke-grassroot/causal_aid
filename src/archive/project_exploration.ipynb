{
 "cells": [
  {
   "cell_type": "code",
   "execution_count": 1,
   "id": "objective-pakistan",
   "metadata": {},
   "outputs": [],
   "source": [
    "%config Completer.use_jedi = False\n",
    "\n",
    "import pickle\n",
    "\n",
    "import numpy as np\n",
    "import pandas as pd\n",
    "\n",
    "pd.set_option('mode.chained_assignment', None)\n",
    "\n",
    "import util.explore as explore_util\n",
    "\n",
    "import statsmodels.api as sm\n",
    "\n",
    "from econml.dml import NonParamDML\n",
    "from sklearn.ensemble import RandomForestRegressor, RandomForestClassifier\n",
    "\n",
    "from sklearn.preprocessing import StandardScaler\n",
    "\n",
    "from sklearn.metrics import mean_absolute_percentage_error\n",
    "from sklearn.metrics import precision_recall_fscore_support\n",
    "\n",
    "from sklearn.model_selection import train_test_split"
   ]
  },
  {
   "cell_type": "code",
   "execution_count": 2,
   "id": "timely-corruption",
   "metadata": {},
   "outputs": [],
   "source": [
    "import matplotlib.pyplot as plt"
   ]
  },
  {
   "cell_type": "markdown",
   "id": "together-stack",
   "metadata": {},
   "source": [
    "Steps:\n",
    "\n",
    "1. Code for sector\n",
    "2. Load in MDG panel\n",
    "3. Construct non-lag project - MDG DF for sector, with vars as in specifications\n",
    "4. Extract further project features: size relative to GDP, ratings, basic features of PDO and descriptions, etc.\n",
    "5. Do some crawls over lag periods, features and feature combinations\n",
    "6. Get ready for some graph work\n"
   ]
  },
  {
   "cell_type": "markdown",
   "id": "minus-attack",
   "metadata": {},
   "source": [
    "## Load in all projects from WB project panel, and merge with MDG panel data"
   ]
  },
  {
   "cell_type": "code",
   "execution_count": 3,
   "id": "noted-dairy",
   "metadata": {},
   "outputs": [],
   "source": [
    "# all_projects = pd.read_csv('../data/clean_wb_proj_all.csv', index_col=0)"
   ]
  },
  {
   "cell_type": "code",
   "execution_count": 4,
   "id": "sophisticated-houston",
   "metadata": {},
   "outputs": [],
   "source": [
    "reassemble_proj_country_df = False\n",
    "\n",
    "df = pd.read_json(\"../data/aggregated_proj.json\", orient=\"index\")\n",
    "country_panel = pd.read_csv('../data/countrypanel.csv')\n",
    "\n",
    "if reassemble_proj_country_df:\n",
    "    df['boardapprovaldate'] = pd.to_datetime(df['boardapprovaldate'])\n",
    "    df['closingdate'] = pd.to_datetime(df['closingdate'])\n",
    "    df['closingyear'] = df.closingdate.dt.year\n",
    "\n",
    "    # will need to redo some manual work here\n",
    "\n",
    "    # cname_counts = df.groupby(['countryname'], as_index=False).agg(project_count=('id', 'count'))\n",
    "    # cname_counts['project_country'] = cname_counts['countryname']\n",
    "    # panel_counts = country_panel.groupby(['countryname'], as_index=False).agg(year_count=('year', 'count'))\n",
    "\n",
    "    # country_matcher = cname_counts.merge(panel_counts, how='left')\n",
    "    # country_matcher.to_csv('../data/tmp/project_countries.csv', index=False)\n",
    "    # panel_counts.to_csv('../data/tmp/panel_countries.csv', index=False)\n",
    "\n",
    "    new_country_df = pd.read_csv('../data/tmp/project_countries.csv')\n",
    "\n",
    "    ndf = df.merge(new_country_df[['project_country', 'panel_country']], \n",
    "                   left_on='countryname', right_on='project_country', how='left')\n",
    "\n",
    "    ndf = ndf.drop(columns=['countryname'])\n",
    "    ndf = ndf[ndf.panel_country.notna()]\n",
    "    \n",
    "    save_transformed_df = False\n",
    "    if save_transformed_df:\n",
    "        ndf.to_csv('../data/transformed_data/projects_with_ccodes.csv')\n",
    "\n",
    "else:\n",
    "    ndf = pd.read_csv('../data/transformed_data/projects_with_ccodes.csv', index_col=0, low_memory=False)\n",
    "    ndf['boardapprovaldate'] = pd.to_datetime(ndf['boardapprovaldate'])\n",
    "    ndf['closingdate'] = pd.to_datetime(ndf['closingdate'])"
   ]
  },
  {
   "cell_type": "code",
   "execution_count": 5,
   "id": "limited-miniature",
   "metadata": {},
   "outputs": [
    {
     "data": {
      "text/plain": [
       "4271"
      ]
     },
     "execution_count": 5,
     "metadata": {},
     "output_type": "execute_result"
    }
   ],
   "source": [
    "ipf_data = pd.read_csv('../data/prior_proj_paper/ipf_paper_data.csv')\n",
    "print(ndf.id.isin(ipf_data.projid).sum())\n",
    "\n",
    "ipf_feature_cols = [\n",
    "    'origcommamt',\n",
    "    'cpia_approval',\n",
    "    'region',\n",
    "    'gp',\n",
    "    'fundingsource',\n",
    "    'fcsatappfy',\n",
    "    'uppermiddle_income_appfy',\n",
    "    'origprojlength',\n",
    "    'prepttl_exp',\n",
    "    'prepttl_quality_va'    \n",
    "]\n",
    "\n",
    "ndf = ndf.merge(ipf_data[['projid'] + ipf_feature_cols], left_on='id', right_on='projid', how='left')"
   ]
  },
  {
   "cell_type": "markdown",
   "id": "simple-switch",
   "metadata": {},
   "source": [
    "What is:\n",
    "* mjthemecode\n",
    "\n",
    "Also, these have XML / extractable information:\n",
    "* indicatormappingdata"
   ]
  },
  {
   "cell_type": "code",
   "execution_count": 8,
   "id": "referenced-exhibition",
   "metadata": {},
   "outputs": [],
   "source": [
    "with open(\"../data/transformed_data/title_pdo_embeds_reduced.pkl\", \"rb\") as fin:\n",
    "    embeddings = pickle.load(fin)\n",
    "\n",
    "em_ext = dict(\n",
    "    project_id=embeddings[\"project_ids\"],\n",
    "    embed_x=embeddings[\"tsne\"][:, 0],\n",
    "    embed_y=embeddings[\"tsne\"][:, 1]\n",
    ")\n",
    "embed_df = pd.DataFrame(em_ext)"
   ]
  },
  {
   "cell_type": "code",
   "execution_count": 9,
   "id": "adjacent-bundle",
   "metadata": {},
   "outputs": [],
   "source": [
    "ndf = ndf.merge(embed_df, left_on=\"id\", right_on=\"project_id\", how=\"left\")"
   ]
  },
  {
   "cell_type": "code",
   "execution_count": 10,
   "id": "adult-aquatic",
   "metadata": {},
   "outputs": [],
   "source": [
    "dli_df = pd.read_csv('../data/transformed_data/clean_dli_pdo_tsne_sector.csv')\n",
    "dli_df = dli_df.rename(columns={ 'tsne_x': 'dli_x', 'tsne_y': 'dli_y' })"
   ]
  },
  {
   "cell_type": "code",
   "execution_count": 11,
   "id": "royal-sponsorship",
   "metadata": {},
   "outputs": [
    {
     "data": {
      "text/html": [
       "<div>\n",
       "<style scoped>\n",
       "    .dataframe tbody tr th:only-of-type {\n",
       "        vertical-align: middle;\n",
       "    }\n",
       "\n",
       "    .dataframe tbody tr th {\n",
       "        vertical-align: top;\n",
       "    }\n",
       "\n",
       "    .dataframe thead th {\n",
       "        text-align: right;\n",
       "    }\n",
       "</style>\n",
       "<table border=\"1\" class=\"dataframe\">\n",
       "  <thead>\n",
       "    <tr style=\"text-align: right;\">\n",
       "      <th></th>\n",
       "      <th>id</th>\n",
       "      <th>parent_sector_name</th>\n",
       "      <th>dli_x</th>\n",
       "      <th>dli_y</th>\n",
       "      <th>pdo_tsne_x</th>\n",
       "      <th>pdo_tsne_y</th>\n",
       "    </tr>\n",
       "  </thead>\n",
       "  <tbody>\n",
       "    <tr>\n",
       "      <th>0</th>\n",
       "      <td>P000216</td>\n",
       "      <td>Health</td>\n",
       "      <td>27.166418</td>\n",
       "      <td>97.184680</td>\n",
       "      <td>137.560970</td>\n",
       "      <td>42.154420</td>\n",
       "    </tr>\n",
       "    <tr>\n",
       "      <th>1</th>\n",
       "      <td>P000306</td>\n",
       "      <td>Water/Sanit/Waste</td>\n",
       "      <td>-39.916710</td>\n",
       "      <td>-46.855600</td>\n",
       "      <td>16.741653</td>\n",
       "      <td>-76.000660</td>\n",
       "    </tr>\n",
       "    <tr>\n",
       "      <th>2</th>\n",
       "      <td>P000309</td>\n",
       "      <td>Education</td>\n",
       "      <td>-41.516260</td>\n",
       "      <td>81.193980</td>\n",
       "      <td>62.548880</td>\n",
       "      <td>96.084230</td>\n",
       "    </tr>\n",
       "    <tr>\n",
       "      <th>3</th>\n",
       "      <td>P000527</td>\n",
       "      <td>Education</td>\n",
       "      <td>-45.601746</td>\n",
       "      <td>64.791590</td>\n",
       "      <td>104.001260</td>\n",
       "      <td>17.372000</td>\n",
       "    </tr>\n",
       "    <tr>\n",
       "      <th>4</th>\n",
       "      <td>P000756</td>\n",
       "      <td>Health</td>\n",
       "      <td>-88.544410</td>\n",
       "      <td>4.238974</td>\n",
       "      <td>113.523140</td>\n",
       "      <td>61.331684</td>\n",
       "    </tr>\n",
       "  </tbody>\n",
       "</table>\n",
       "</div>"
      ],
      "text/plain": [
       "        id parent_sector_name      dli_x      dli_y  pdo_tsne_x  pdo_tsne_y\n",
       "0  P000216             Health  27.166418  97.184680  137.560970   42.154420\n",
       "1  P000306  Water/Sanit/Waste -39.916710 -46.855600   16.741653  -76.000660\n",
       "2  P000309          Education -41.516260  81.193980   62.548880   96.084230\n",
       "3  P000527          Education -45.601746  64.791590  104.001260   17.372000\n",
       "4  P000756             Health -88.544410   4.238974  113.523140   61.331684"
      ]
     },
     "execution_count": 11,
     "metadata": {},
     "output_type": "execute_result"
    }
   ],
   "source": [
    "dli_df.head()"
   ]
  },
  {
   "cell_type": "code",
   "execution_count": 12,
   "id": "copyrighted-suggestion",
   "metadata": {},
   "outputs": [],
   "source": [
    "ndf = ndf.merge(dli_df[['id', 'dli_x', 'dli_y']], how='left')"
   ]
  },
  {
   "cell_type": "code",
   "execution_count": 13,
   "id": "sophisticated-consortium",
   "metadata": {},
   "outputs": [
    {
     "data": {
      "image/png": "[encoded data removed]",
      "text/latex": [
       "$\\displaystyle 5066$"
      ],
      "text/plain": [
       "5066"
      ]
     },
     "execution_count": 13,
     "metadata": {},
     "output_type": "execute_result"
    }
   ],
   "source": [
    "sector_df = pd.read_csv('../data/prior_proj_paper/WB_project_sectors.csv').rename(columns={ 'proj_id': 'id' })\n",
    "len(sector_df[(sector_df.parent_sector_name == 'Health') & (sector_df.flag_main_sector == 1)])"
   ]
  },
  {
   "cell_type": "code",
   "execution_count": 14,
   "id": "curious-blood",
   "metadata": {},
   "outputs": [],
   "source": [
    "main_sector_df = sector_df[sector_df.flag_main_sector == 1]"
   ]
  },
  {
   "cell_type": "code",
   "execution_count": 15,
   "id": "strange-algorithm",
   "metadata": {},
   "outputs": [
    {
     "data": {
      "text/html": [
       "<div>\n",
       "<style scoped>\n",
       "    .dataframe tbody tr th:only-of-type {\n",
       "        vertical-align: middle;\n",
       "    }\n",
       "\n",
       "    .dataframe tbody tr th {\n",
       "        vertical-align: top;\n",
       "    }\n",
       "\n",
       "    .dataframe thead th {\n",
       "        text-align: right;\n",
       "    }\n",
       "</style>\n",
       "<table border=\"1\" class=\"dataframe\">\n",
       "  <thead>\n",
       "    <tr style=\"text-align: right;\">\n",
       "      <th></th>\n",
       "      <th>id</th>\n",
       "      <th>sector_code</th>\n",
       "      <th>sector_percentage</th>\n",
       "      <th>sector_name</th>\n",
       "      <th>parent_sector_code</th>\n",
       "      <th>parent_sector_name</th>\n",
       "      <th>flag_main_sector</th>\n",
       "    </tr>\n",
       "  </thead>\n",
       "  <tbody>\n",
       "    <tr>\n",
       "      <th>4</th>\n",
       "      <td>P000001</td>\n",
       "      <td>WZ</td>\n",
       "      <td>4</td>\n",
       "      <td>Oth Water, Sani&amp;Wast</td>\n",
       "      <td>WX</td>\n",
       "      <td>Water/Sanit/Waste</td>\n",
       "      <td>1</td>\n",
       "    </tr>\n",
       "    <tr>\n",
       "      <th>7</th>\n",
       "      <td>P000003</td>\n",
       "      <td>BZ</td>\n",
       "      <td>70</td>\n",
       "      <td>Other Public Adminis</td>\n",
       "      <td>BX</td>\n",
       "      <td>Public Admin</td>\n",
       "      <td>1</td>\n",
       "    </tr>\n",
       "    <tr>\n",
       "      <th>8</th>\n",
       "      <td>P000017</td>\n",
       "      <td>LD</td>\n",
       "      <td>100</td>\n",
       "      <td>Power</td>\n",
       "      <td>LX</td>\n",
       "      <td>Energy &amp; Extractives</td>\n",
       "      <td>1</td>\n",
       "    </tr>\n",
       "    <tr>\n",
       "      <th>10</th>\n",
       "      <td>P000031</td>\n",
       "      <td>SA</td>\n",
       "      <td>90</td>\n",
       "      <td>Social Protection</td>\n",
       "      <td>SX</td>\n",
       "      <td>Social Protection</td>\n",
       "      <td>1</td>\n",
       "    </tr>\n",
       "    <tr>\n",
       "      <th>15</th>\n",
       "      <td>P000034</td>\n",
       "      <td>TW</td>\n",
       "      <td>30</td>\n",
       "      <td>Railways</td>\n",
       "      <td>TX</td>\n",
       "      <td>Transportation</td>\n",
       "      <td>1</td>\n",
       "    </tr>\n",
       "  </tbody>\n",
       "</table>\n",
       "</div>"
      ],
      "text/plain": [
       "         id sector_code  sector_percentage           sector_name  \\\n",
       "4   P000001          WZ                  4  Oth Water, Sani&Wast   \n",
       "7   P000003          BZ                 70  Other Public Adminis   \n",
       "8   P000017          LD                100                 Power   \n",
       "10  P000031          SA                 90     Social Protection   \n",
       "15  P000034          TW                 30              Railways   \n",
       "\n",
       "   parent_sector_code    parent_sector_name  flag_main_sector  \n",
       "4                  WX     Water/Sanit/Waste                 1  \n",
       "7                  BX          Public Admin                 1  \n",
       "8                  LX  Energy & Extractives                 1  \n",
       "10                 SX     Social Protection                 1  \n",
       "15                 TX        Transportation                 1  "
      ]
     },
     "execution_count": 15,
     "metadata": {},
     "output_type": "execute_result"
    }
   ],
   "source": [
    "main_sector_df.head()"
   ]
  },
  {
   "cell_type": "code",
   "execution_count": 16,
   "id": "moderate-ivory",
   "metadata": {},
   "outputs": [],
   "source": [
    "ndf = ndf.merge(main_sector_df[['id', 'sector_code', 'sector_percentage', 'parent_sector_name']], how='left')"
   ]
  },
  {
   "cell_type": "code",
   "execution_count": 17,
   "id": "danish-pencil",
   "metadata": {},
   "outputs": [],
   "source": [
    "ndf['dli_x'] = ndf['dli_x'].fillna(0)\n",
    "ndf['dli_y'] = ndf['dli_y'].fillna(0)"
   ]
  },
  {
   "cell_type": "code",
   "execution_count": null,
   "id": "apparent-medicine",
   "metadata": {},
   "outputs": [],
   "source": []
  },
  {
   "cell_type": "code",
   "execution_count": null,
   "id": "seventh-championship",
   "metadata": {},
   "outputs": [],
   "source": [
    "# "
   ]
  },
  {
   "cell_type": "code",
   "execution_count": 41,
   "id": "central-employment",
   "metadata": {},
   "outputs": [],
   "source": [
    "basic_features = [\n",
    "     'id', \n",
    "     'regionname', \n",
    "     'project_name', \n",
    "     'pdo', \n",
    "     'boardapprovaldate', \n",
    "     'closingdate', \n",
    "     'closingyear', \n",
    "     'project_country', \n",
    "     'panel_country',\n",
    "]\n",
    "\n",
    "loan_features = [\n",
    "    'projectfinancialtype',\n",
    "    'lendinginstr',\n",
    "    'sector_percentage' # = percentage in primary sector\n",
    "] + ipf_feature_cols\n",
    "\n",
    "# not using combined practice code as limited in reach )recent projects) and seems fairly concentrated\n",
    "sector_features = [\n",
    "    'sector1', 'sector2', 'sector3', 'sector4', 'sector5', 'theme1', 'theme2'\n",
    "]\n",
    "\n",
    "cat_features = [\n",
    "    'impagency',\n",
    "    'cons_serv_reqd_ind',\n",
    "    'supplementprojectflg',\n",
    "    'prodlinetext',\n",
    "    'parent_sector_name'\n",
    "]\n",
    "\n",
    "embed_features = [\n",
    "    'embed_x',\n",
    "    'embed_y',\n",
    "    'dli_x',\n",
    "    'dli_y'\n",
    "]\n",
    "\n",
    "wdf = ndf[basic_features + loan_features + sector_features + cat_features + embed_features].fillna(0)\n",
    "# wdf.head()"
   ]
  },
  {
   "cell_type": "markdown",
   "id": "particular-toronto",
   "metadata": {},
   "source": [
    "Code projects as health if one of their sectors/themes includes health"
   ]
  },
  {
   "cell_type": "code",
   "execution_count": 42,
   "id": "contrary-version",
   "metadata": {},
   "outputs": [
    {
     "data": {
      "text/plain": [
       "False    17038\n",
       "True      2457\n",
       "Name: is_health_project, dtype: int64"
      ]
     },
     "execution_count": 42,
     "metadata": {},
     "output_type": "execute_result"
    }
   ],
   "source": [
    "wdf['all_sectors_theme_words'] = wdf[sector_features].apply(lambda row: ' '.join(row.values.astype(str)), axis=1).str.lower()\n",
    "wdf['is_health_project'] = wdf.all_sectors_theme_words.str.contains('health')\n",
    "\n",
    "wdf.is_health_project.value_counts()"
   ]
  },
  {
   "cell_type": "code",
   "execution_count": 43,
   "id": "charged-arkansas",
   "metadata": {},
   "outputs": [],
   "source": [
    "data = wdf.merge(country_panel.drop(columns=['regionname']), \n",
    "                                    left_on=['panel_country', 'closingyear'], right_on=['countryname', 'year'])\n",
    "\n",
    "data = data.drop(columns=['countryname', 'year'])\n",
    "data = data[data.closingyear.notna()]\n",
    "data['pdo_length'] = data['pdo'].str.len().fillna(0)"
   ]
  },
  {
   "cell_type": "code",
   "execution_count": 44,
   "id": "dress-bidder",
   "metadata": {},
   "outputs": [
    {
     "data": {
      "image/png": "[encoded data removed]",
      "text/latex": [
       "$\\displaystyle 6659$"
      ],
      "text/plain": [
       "6659"
      ]
     },
     "execution_count": 44,
     "metadata": {},
     "output_type": "execute_result"
    }
   ],
   "source": [
    "len(data)"
   ]
  },
  {
   "cell_type": "code",
   "execution_count": 45,
   "id": "attractive-folder",
   "metadata": {},
   "outputs": [],
   "source": [
    "data = data.rename(columns = { 'project_country': 'country', 'closingyear': 'year' })\n",
    "data = explore_util.lag_variable_simple(data, 'gdp_pc_ppp', -5)"
   ]
  },
  {
   "cell_type": "code",
   "execution_count": 46,
   "id": "yellow-disposition",
   "metadata": {},
   "outputs": [
    {
     "data": {
      "text/plain": [
       "955"
      ]
     },
     "execution_count": 46,
     "metadata": {},
     "output_type": "execute_result"
    }
   ],
   "source": [
    "data.all_sectors_theme_words.str.contains('education').sum()"
   ]
  },
  {
   "cell_type": "code",
   "execution_count": 47,
   "id": "talented-annual",
   "metadata": {},
   "outputs": [
    {
     "data": {
      "text/html": [
       "<div>\n",
       "<style scoped>\n",
       "    .dataframe tbody tr th:only-of-type {\n",
       "        vertical-align: middle;\n",
       "    }\n",
       "\n",
       "    .dataframe tbody tr th {\n",
       "        vertical-align: top;\n",
       "    }\n",
       "\n",
       "    .dataframe thead th {\n",
       "        text-align: right;\n",
       "    }\n",
       "</style>\n",
       "<table border=\"1\" class=\"dataframe\">\n",
       "  <thead>\n",
       "    <tr style=\"text-align: right;\">\n",
       "      <th></th>\n",
       "      <th>id</th>\n",
       "      <th>regionname</th>\n",
       "      <th>project_name</th>\n",
       "      <th>pdo</th>\n",
       "      <th>boardapprovaldate</th>\n",
       "      <th>closingdate</th>\n",
       "      <th>year</th>\n",
       "      <th>country</th>\n",
       "      <th>panel_country</th>\n",
       "      <th>projectfinancialtype</th>\n",
       "      <th>...</th>\n",
       "      <th>health_share_gov_exp</th>\n",
       "      <th>cash_surplus_deficit</th>\n",
       "      <th>access_water</th>\n",
       "      <th>access_sanitation</th>\n",
       "      <th>political_rights</th>\n",
       "      <th>civil_liberties</th>\n",
       "      <th>conflict</th>\n",
       "      <th>freedom_house</th>\n",
       "      <th>pdo_length</th>\n",
       "      <th>gdp_pc_ppp_lag-5</th>\n",
       "    </tr>\n",
       "  </thead>\n",
       "  <tbody>\n",
       "    <tr>\n",
       "      <th>6631</th>\n",
       "      <td>P005043</td>\n",
       "      <td>Middle East and North Africa</td>\n",
       "      <td>Road Maintenance Project</td>\n",
       "      <td>0</td>\n",
       "      <td>1983-06-28 00:00:00+00:00</td>\n",
       "      <td>1990-06-30 00:00:00+00:00</td>\n",
       "      <td>1990.0</td>\n",
       "      <td>Arab Republic of Egypt</td>\n",
       "      <td>Egypt, Arab Republic of</td>\n",
       "      <td>0</td>\n",
       "      <td>...</td>\n",
       "      <td>NaN</td>\n",
       "      <td>-1.950328</td>\n",
       "      <td>93.4</td>\n",
       "      <td>73.4</td>\n",
       "      <td>5.0</td>\n",
       "      <td>4.0</td>\n",
       "      <td>0</td>\n",
       "      <td>4.5</td>\n",
       "      <td>0.0</td>\n",
       "      <td>6016.9072</td>\n",
       "    </tr>\n",
       "    <tr>\n",
       "      <th>6632</th>\n",
       "      <td>P005040</td>\n",
       "      <td>Middle East and North Africa</td>\n",
       "      <td>Agro Industry Project (02)</td>\n",
       "      <td>0</td>\n",
       "      <td>1983-03-08 00:00:00+00:00</td>\n",
       "      <td>1990-06-30 00:00:00+00:00</td>\n",
       "      <td>1990.0</td>\n",
       "      <td>Arab Republic of Egypt</td>\n",
       "      <td>Egypt, Arab Republic of</td>\n",
       "      <td>0</td>\n",
       "      <td>...</td>\n",
       "      <td>NaN</td>\n",
       "      <td>-1.950328</td>\n",
       "      <td>93.4</td>\n",
       "      <td>73.4</td>\n",
       "      <td>5.0</td>\n",
       "      <td>4.0</td>\n",
       "      <td>0</td>\n",
       "      <td>4.5</td>\n",
       "      <td>0.0</td>\n",
       "      <td>6152.9287</td>\n",
       "    </tr>\n",
       "    <tr>\n",
       "      <th>6633</th>\n",
       "      <td>P005028</td>\n",
       "      <td>Middle East and North Africa</td>\n",
       "      <td>New Land Development Project</td>\n",
       "      <td>0</td>\n",
       "      <td>1980-12-16 00:00:00+00:00</td>\n",
       "      <td>1990-12-31 00:00:00+00:00</td>\n",
       "      <td>1990.0</td>\n",
       "      <td>Arab Republic of Egypt</td>\n",
       "      <td>Egypt, Arab Republic of</td>\n",
       "      <td>0</td>\n",
       "      <td>...</td>\n",
       "      <td>NaN</td>\n",
       "      <td>-1.950328</td>\n",
       "      <td>93.4</td>\n",
       "      <td>73.4</td>\n",
       "      <td>5.0</td>\n",
       "      <td>4.0</td>\n",
       "      <td>0</td>\n",
       "      <td>4.5</td>\n",
       "      <td>0.0</td>\n",
       "      <td>6152.9287</td>\n",
       "    </tr>\n",
       "    <tr>\n",
       "      <th>6507</th>\n",
       "      <td>P005051</td>\n",
       "      <td>Middle East and North Africa</td>\n",
       "      <td>Port Said Port Expansion and Rehabilitation Pr...</td>\n",
       "      <td>0</td>\n",
       "      <td>1985-06-06 00:00:00+00:00</td>\n",
       "      <td>1991-06-30 00:00:00+00:00</td>\n",
       "      <td>1991.0</td>\n",
       "      <td>Arab Republic of Egypt</td>\n",
       "      <td>Egypt, Arab Republic of</td>\n",
       "      <td>0</td>\n",
       "      <td>...</td>\n",
       "      <td>NaN</td>\n",
       "      <td>2.472933</td>\n",
       "      <td>93.7</td>\n",
       "      <td>74.5</td>\n",
       "      <td>5.0</td>\n",
       "      <td>5.0</td>\n",
       "      <td>0</td>\n",
       "      <td>5.0</td>\n",
       "      <td>0.0</td>\n",
       "      <td>6152.9287</td>\n",
       "    </tr>\n",
       "    <tr>\n",
       "      <th>6508</th>\n",
       "      <td>P005037</td>\n",
       "      <td>Middle East and North Africa</td>\n",
       "      <td>El Dikheila Port Project</td>\n",
       "      <td>0</td>\n",
       "      <td>1982-06-17 00:00:00+00:00</td>\n",
       "      <td>1991-06-30 00:00:00+00:00</td>\n",
       "      <td>1991.0</td>\n",
       "      <td>Arab Republic of Egypt</td>\n",
       "      <td>Egypt, Arab Republic of</td>\n",
       "      <td>0</td>\n",
       "      <td>...</td>\n",
       "      <td>NaN</td>\n",
       "      <td>2.472933</td>\n",
       "      <td>93.7</td>\n",
       "      <td>74.5</td>\n",
       "      <td>5.0</td>\n",
       "      <td>5.0</td>\n",
       "      <td>0</td>\n",
       "      <td>5.0</td>\n",
       "      <td>0.0</td>\n",
       "      <td>6203.0679</td>\n",
       "    </tr>\n",
       "  </tbody>\n",
       "</table>\n",
       "<p>5 rows × 83 columns</p>\n",
       "</div>"
      ],
      "text/plain": [
       "           id                    regionname  \\\n",
       "6631  P005043  Middle East and North Africa   \n",
       "6632  P005040  Middle East and North Africa   \n",
       "6633  P005028  Middle East and North Africa   \n",
       "6507  P005051  Middle East and North Africa   \n",
       "6508  P005037  Middle East and North Africa   \n",
       "\n",
       "                                           project_name pdo  \\\n",
       "6631                           Road Maintenance Project   0   \n",
       "6632                         Agro Industry Project (02)   0   \n",
       "6633                       New Land Development Project   0   \n",
       "6507  Port Said Port Expansion and Rehabilitation Pr...   0   \n",
       "6508                           El Dikheila Port Project   0   \n",
       "\n",
       "              boardapprovaldate                closingdate    year  \\\n",
       "6631  1983-06-28 00:00:00+00:00  1990-06-30 00:00:00+00:00  1990.0   \n",
       "6632  1983-03-08 00:00:00+00:00  1990-06-30 00:00:00+00:00  1990.0   \n",
       "6633  1980-12-16 00:00:00+00:00  1990-12-31 00:00:00+00:00  1990.0   \n",
       "6507  1985-06-06 00:00:00+00:00  1991-06-30 00:00:00+00:00  1991.0   \n",
       "6508  1982-06-17 00:00:00+00:00  1991-06-30 00:00:00+00:00  1991.0   \n",
       "\n",
       "                     country            panel_country projectfinancialtype  \\\n",
       "6631  Arab Republic of Egypt  Egypt, Arab Republic of                    0   \n",
       "6632  Arab Republic of Egypt  Egypt, Arab Republic of                    0   \n",
       "6633  Arab Republic of Egypt  Egypt, Arab Republic of                    0   \n",
       "6507  Arab Republic of Egypt  Egypt, Arab Republic of                    0   \n",
       "6508  Arab Republic of Egypt  Egypt, Arab Republic of                    0   \n",
       "\n",
       "      ... health_share_gov_exp  cash_surplus_deficit  access_water  \\\n",
       "6631  ...                  NaN             -1.950328          93.4   \n",
       "6632  ...                  NaN             -1.950328          93.4   \n",
       "6633  ...                  NaN             -1.950328          93.4   \n",
       "6507  ...                  NaN              2.472933          93.7   \n",
       "6508  ...                  NaN              2.472933          93.7   \n",
       "\n",
       "      access_sanitation political_rights civil_liberties conflict  \\\n",
       "6631               73.4              5.0             4.0        0   \n",
       "6632               73.4              5.0             4.0        0   \n",
       "6633               73.4              5.0             4.0        0   \n",
       "6507               74.5              5.0             5.0        0   \n",
       "6508               74.5              5.0             5.0        0   \n",
       "\n",
       "      freedom_house  pdo_length  gdp_pc_ppp_lag-5  \n",
       "6631            4.5         0.0         6016.9072  \n",
       "6632            4.5         0.0         6152.9287  \n",
       "6633            4.5         0.0         6152.9287  \n",
       "6507            5.0         0.0         6152.9287  \n",
       "6508            5.0         0.0         6203.0679  \n",
       "\n",
       "[5 rows x 83 columns]"
      ]
     },
     "execution_count": 47,
     "metadata": {},
     "output_type": "execute_result"
    }
   ],
   "source": [
    "data.head()"
   ]
  },
  {
   "cell_type": "markdown",
   "id": "advanced-guard",
   "metadata": {},
   "source": [
    "## Conduct simple specifications"
   ]
  },
  {
   "cell_type": "markdown",
   "id": "stupid-eating",
   "metadata": {},
   "source": [
    "We do a negative lag to obtain the value in the future (here just doing gdp pc)"
   ]
  },
  {
   "cell_type": "code",
   "execution_count": 48,
   "id": "sporting-rachel",
   "metadata": {},
   "outputs": [],
   "source": [
    "from sklearn.metrics import roc_auc_score, roc_curve"
   ]
  },
  {
   "cell_type": "code",
   "execution_count": 49,
   "id": "seventh-gauge",
   "metadata": {},
   "outputs": [],
   "source": [
    "def end_to_end_project_eval(all_data, sector_key_word, target_col, variables_to_lag, observed_X_cols, loan_feature_cols, \n",
    "                            regressor=RandomForestRegressor, classifier=RandomForestClassifier, inverted_outcome=False):\n",
    "    sector_data = all_data.copy()\n",
    "    \n",
    "    for var in variables_to_lag:\n",
    "        sector_data = explore_util.lag_variable_simple(sector_data, var, variables_to_lag[var])\n",
    "    \n",
    "    sector_data['is_sector_project'] = sector_data.all_sectors_theme_words.str.contains(sector_key_word)\n",
    "    sector_data = sector_data[sector_data.is_sector_project]\n",
    "    print(\"Sector projects data: \", len(sector_data), \" versus all projects: \", len(all_data))\n",
    "    \n",
    "    sdata = sector_data[['id'] + observed_X_cols + [target_col]]\n",
    "    sdata = sdata.dropna()\n",
    "    print(\"Clean observations: \", len(sdata))\n",
    "\n",
    "    # print(\"Pre scaling: \", sdata[observed_X_cols[:2]].describe())\n",
    "    observation_scaler = StandardScaler()\n",
    "    sdata[observed_X_cols] = observation_scaler.fit_transform(sdata[observed_X_cols])\n",
    "    res_est = sm.OLS(endog=sdata[target_col], exog=sm.add_constant(sdata[observed_X_cols])).fit()\n",
    "    print(\"Naive R squared of partialling out phase: \", res_est.rsquared, \" and f_p: \", res_est.f_pvalue)\n",
    "    # print(\"Post scaling: \", sdata[observed_X_cols[:2]].describe())\n",
    "    \n",
    "    target_resid = f\"residual_{target_col}\"\n",
    "    sdata[target_resid] = res_est.resid\n",
    "    \n",
    "    forest_data = sdata[['id', target_resid]].merge(all_data[['id'] + loan_feature_cols], how='inner')\n",
    "#     print(forest_data.isna().sum())\n",
    "    pre_scale_target_desc = forest_data[target_resid].describe()\n",
    "    print(\"Descriptive stats for target: \", pre_scale_target_desc)\n",
    "    \n",
    "    numeric_cols = forest_data.select_dtypes(include=np.number).columns.tolist()\n",
    "    treatment_scaler = StandardScaler()\n",
    "    forest_data[numeric_cols] = treatment_scaler.fit_transform(forest_data[numeric_cols])\n",
    "\n",
    "    categorical_cols = [col for col in loan_feature_cols if col not in numeric_cols]\n",
    "    forest_data = pd.get_dummies(forest_data, columns=categorical_cols)\n",
    "\n",
    "    forest_data = forest_data.dropna()\n",
    "    print(\"Clean within project characteristics: \", len(forest_data))\n",
    "    \n",
    "    pos_std_dev_threshold = 0.1\n",
    "    forest_data[f'{target_resid}_above_threshold'] = (\n",
    "        forest_data[target_resid] > pos_std_dev_threshold if not inverted_outcome else \n",
    "            forest_data[target_resid] < pos_std_dev_threshold\n",
    "    )\n",
    "    print(\"Projects with residual above mean: \", len(forest_data[forest_data[target_resid] > 0]))\n",
    "    print(\"Projects with positive residual above threshold: \", len(forest_data[forest_data[target_resid] > pos_std_dev_threshold]))\n",
    "    \n",
    "    nreg = regressor()\n",
    "    nest = classifier()\n",
    "    \n",
    "    X = forest_data.drop(columns=['id', target_resid, f'{target_resid}_above_threshold'])\n",
    "    \n",
    "    y_reg = forest_data[target_resid]\n",
    "    y_class = forest_data[f'{target_resid}_above_threshold']\n",
    "    \n",
    "    reg_fit, reg_scores = fit_score_model(X, y_reg, nreg)\n",
    "    bin_est, bin_scores = fit_score_model(X, y_class, nest, classification=True)\n",
    "    \n",
    "    all_col_imp, summed_imp = extract_feature_imp(bin_est, loan_feature_cols, X.columns)\n",
    "    summed_imp = { feature: score for feature, score in sorted(summed_imp.items(), key=lambda item: item[1], reverse=True)}\n",
    "    \n",
    "    return {\n",
    "        \"partial_out_model\": res_est,\n",
    "        \"residual_regressor\": reg_fit,\n",
    "        \"residual_classifier\": bin_est,\n",
    "        \"regression_scores\": reg_scores,\n",
    "        \"classifier_scores\": bin_scores,\n",
    "        \"pre_scale_target_stats\": pre_scale_target_desc,\n",
    "        \"summed_importances\": summed_imp,\n",
    "        \"all_importances\": all_col_imp\n",
    "    }"
   ]
  },
  {
   "cell_type": "code",
   "execution_count": 50,
   "id": "occasional-disorder",
   "metadata": {},
   "outputs": [],
   "source": [
    "def sum_feature_imp(category_name, feature_imp, exp_features):\n",
    "    return sum([feature_imp[col] for col in exp_features if col.startswith(category_name)])\n",
    "\n",
    "def extract_feature_imp(est, orig_features, exp_features):\n",
    "    feature_imp = { col: est.feature_importances_[i] for i, col in enumerate(exp_features) }\n",
    "    summed_feature_imp = { col: sum_feature_imp(col, feature_imp, exp_features) for col in orig_features }\n",
    "    return feature_imp, summed_feature_imp\n",
    "\n",
    "def fit_score_model(X, y, est, classification=False):\n",
    "    X_train, X_test, y_train, y_test = train_test_split(X, y, test_size=0.1, stratify=y if classification else None)\n",
    "    \n",
    "    est.fit(X_train, y_train)\n",
    "    scores = { 'default_score': est.score(X_test, y_test) }\n",
    "    if classification:\n",
    "        true_pred = est.predict_proba(X_test)[:, 1]\n",
    "        scores['fscore_etc'] = precision_recall_fscore_support(y_test, est.predict(X_test), average=\"binary\")\n",
    "        scores['roc_auc'] = roc_auc_score(y_test, true_pred)\n",
    "        scores['roc_curve'] = roc_curve(y_test, true_pred)\n",
    "    else:\n",
    "        scores['mape'] = mean_absolute_percentage_error(y_test, est.predict(X_test))\n",
    "    test_data = { \"X_test\": X_test, \"y_test\": y_test }\n",
    "    return est, scores"
   ]
  },
  {
   "cell_type": "code",
   "execution_count": 53,
   "id": "tribal-compromise",
   "metadata": {},
   "outputs": [],
   "source": [
    "trivial_imp_features = [\n",
    "    'cons_serv_reqd_ind', \n",
    "    'impagency',\n",
    "    'prodlinetext',\n",
    "    'supplementprojectflg'\n",
    "]"
   ]
  },
  {
   "cell_type": "code",
   "execution_count": 56,
   "id": "engaging-sheet",
   "metadata": {},
   "outputs": [
    {
     "name": "stdout",
     "output_type": "stream",
     "text": [
      "Sector projects data:  1132  versus all projects:  6659\n",
      "Clean observations:  539\n",
      "Naive R squared of partialling out phase:  0.8822305771394772  and f_p:  1.4534552222547013e-240\n",
      "Descriptive stats for target:  count    5.390000e+02\n",
      "mean    -1.603006e-14\n",
      "std      1.673725e+01\n",
      "min     -4.200129e+01\n",
      "25%     -8.178952e+00\n",
      "50%     -3.915536e-02\n",
      "75%      7.666529e+00\n",
      "max      7.572134e+01\n",
      "Name: residual_mortality_under5_lag-5, dtype: float64\n",
      "Clean within project characteristics:  539\n",
      "Projects with residual above mean:  268\n",
      "Projects with positive residual above threshold:  241\n",
      "Results for health check:  {'default_score': 0.7407407407407407, 'fscore_etc': (0.75, 0.8, 0.7741935483870969, None), 'roc_auc': 0.770138888888889, 'roc_curve': (array([0.        , 0.        , 0.        , 0.        , 0.        ,\n",
      "       0.04166667, 0.08333333, 0.08333333, 0.16666667, 0.20833333,\n",
      "       0.20833333, 0.25      , 0.25      , 0.33333333, 0.41666667,\n",
      "       0.45833333, 0.54166667, 0.54166667, 0.58333333, 0.66666667,\n",
      "       0.66666667, 0.83333333, 0.83333333, 0.875     , 0.95833333,\n",
      "       1.        , 1.        ]), array([0.        , 0.03333333, 0.1       , 0.23333333, 0.33333333,\n",
      "       0.43333333, 0.5       , 0.56666667, 0.56666667, 0.63333333,\n",
      "       0.7       , 0.76666667, 0.8       , 0.8       , 0.8       ,\n",
      "       0.8       , 0.8       , 0.83333333, 0.83333333, 0.83333333,\n",
      "       0.86666667, 0.86666667, 0.9       , 0.9       , 0.9       ,\n",
      "       0.9       , 1.        ]), array([1.9 , 0.9 , 0.86, 0.81, 0.75, 0.73, 0.72, 0.69, 0.65, 0.63, 0.59,\n",
      "       0.57, 0.55, 0.51, 0.5 , 0.49, 0.48, 0.47, 0.46, 0.41, 0.4 , 0.39,\n",
      "       0.36, 0.33, 0.25, 0.23, 0.14]))}\n",
      "{'embed_x': 0.114, 'embed_y': 0.107, 'projectfinancialtype': 0.098, 'parent_sector_name': 0.097, 'sector_percentage': 0.079, 'region': 0.072, 'lendinginstr': 0.069, 'pdo_length': 0.056, 'cpia_approval': 0.051, 'origcommamt': 0.05, 'origprojlength': 0.05, 'prepttl_quality_va': 0.043, 'dli_x': 0.023, 'prepttl_exp': 0.022, 'fundingsource': 0.019, 'dli_y': 0.019, 'gp': 0.016, 'fcsatappfy': 0.009, 'uppermiddle_income_appfy': 0.007}\n"
     ]
    }
   ],
   "source": [
    "health_target = 'mortality_under5_lag-5'\n",
    "\n",
    "health_to_lag = {\n",
    "    'mortality_under5': -5,\n",
    "    'hiv_prevalence': -5,\n",
    "    'conflict': -5\n",
    "}\n",
    "\n",
    "health_observed_X_cols = [\n",
    "#     'mortality_under5', # = lag_mortality_under5 (since now evaluating at closure year)\n",
    "    'gdp_pc_ppp',\n",
    "    'fertility',\n",
    "    'population',\n",
    "    'physicians_rate',\n",
    "    'female_adult_literacy',\n",
    "    'access_water',\n",
    "    'access_sanitation',\n",
    "    'hiv_prevalence_lag-5'\n",
    "]\n",
    "\n",
    "probe_feature_cols = loan_features + cat_features + ['pdo_length'] + embed_features\n",
    "probe_feature_cols = [col for col in probe_feature_cols if col not in trivial_imp_features]\n",
    "\n",
    "health_results = end_to_end_project_eval(\n",
    "    data, \"health\", \"mortality_under5_lag-5\", health_to_lag,\n",
    "    health_observed_X_cols, probe_feature_cols,\n",
    "    inverted_outcome=True\n",
    ")\n",
    "\n",
    "print(\"Results for health check: \", health_results[\"classifier_scores\"])\n",
    "print({ key: round(value, 3) for key, value in health_results[\"summed_importances\"].items() })"
   ]
  },
  {
   "cell_type": "code",
   "execution_count": 59,
   "id": "published-jacket",
   "metadata": {},
   "outputs": [
    {
     "data": {
      "image/png": "[encoded data removed]",
      "text/latex": [
       "$\\displaystyle 2460$"
      ],
      "text/plain": [
       "2460"
      ]
     },
     "execution_count": 59,
     "metadata": {},
     "output_type": "execute_result"
    }
   ],
   "source": [
    "len(wdf[abs(wdf.dli_x) > 0])"
   ]
  },
  {
   "cell_type": "code",
   "execution_count": 55,
   "id": "thermal-scroll",
   "metadata": {},
   "outputs": [
    {
     "data": {
      "text/plain": [
       "[<matplotlib.lines.Line2D at 0x7f168ddb6100>]"
      ]
     },
     "execution_count": 55,
     "metadata": {},
     "output_type": "execute_result"
    },
    {
     "data": {
      "image/png": "[encoded data removed]",
      "text/plain": [
       "<Figure size 432x288 with 1 Axes>"
      ]
     },
     "metadata": {
      "needs_background": "light"
     },
     "output_type": "display_data"
    }
   ],
   "source": [
    "clf_fpr, clf_tpr, _ = health_results[\"classifier_scores\"][\"roc_curve\"]\n",
    "plt.plot(clf_fpr, clf_tpr, marker='.', label='Model')\n",
    "# len(health_results[\"classifier_scores\"][\"roc_curve\"])"
   ]
  },
  {
   "cell_type": "code",
   "execution_count": null,
   "id": "demographic-senator",
   "metadata": {},
   "outputs": [],
   "source": [
    "# get the education projects only\n",
    "# extract further project features\n",
    "# run through catboost, econml and the like"
   ]
  },
  {
   "cell_type": "markdown",
   "id": "portable-argentina",
   "metadata": {},
   "source": [
    "```qui regress mortality_under5 pc_commit_health lag_mortality_under5 ///\n",
    "            lag_gdp_pc_ppp lag_fertility lag_population ///\n",
    "            lag_physicians_rate  lag_female_adult_literacy ///\n",
    "            lag_access_water lag_access_sanitation ///\n",
    "            hiv_prevalence conflict i.period i.nregionname, r```"
   ]
  },
  {
   "cell_type": "code",
   "execution_count": null,
   "id": "comparable-equity",
   "metadata": {},
   "outputs": [],
   "source": [
    "# archiving original code for feature exploration:\n",
    "\n",
    "# health_data = data[data.is_health_project]\n",
    "# print(\"Health projects data: \", len(health_data), \" versus all projects: \", len(data))\n",
    "\n",
    "# target_col = 'mortality_under5_lag-5'\n",
    "\n",
    "# hdata = health_data[['id'] + observed_X_cols + [target_col]]\n",
    "# hdata = hdata.dropna()\n",
    "\n",
    "# len(hdata)\n",
    "\n",
    "# res_est = sm.OLS(endog=hdata[target_col], exog=sm.add_constant(hdata[observed_X_cols])).fit()\n",
    "\n",
    "# print(res_est.summary2())\n",
    "\n",
    "# hdata[\"mortality_under5_lag-5\"].describe()\n",
    "\n",
    "# target_resid = 'residual_mort_under5'\n",
    "\n",
    "# residual = res_est.resid\n",
    "# hdata[target_resid] = res_est.resid\n",
    "\n",
    "# forest_data = hdata[['id', target_resid]].merge(data[['id'] + loan_features + cat_features], how='inner')\n",
    "# forest_data = pd.get_dummies(forest_data, columns=loan_features + cat_features)\n",
    "# len(forest_data)\n",
    "\n",
    "# forest_data[f'{target_resid}_plus1std'] = forest_data[target_resid] > (\n",
    "#     forest_data[target_resid].mean() + forest_data[target_resid].std()\n",
    "# )\n",
    "\n",
    "# forest_data[f'{target_resid}_plus1std'].value_counts()\n",
    "\n",
    "# forest_data[target_resid].describe()\n",
    "\n",
    "# X = forest_data.drop(columns=['id', target_resid, f'{target_resid}_plus1std'])\n",
    "# y_reg = forest_data[target_resid]\n",
    "# y_class = forest_data[f'{target_resid}_plus1std']\n",
    "\n",
    "# fit_score_model(target_resid, nreg)\n",
    "\n",
    "# bin_est, scores = fit_score_model(f'{target_resid}_plus1std', nest, classification=True)\n",
    "\n",
    "# all_col_imp, summed_imp = extract_feature_imp(bin_est)\n",
    "\n",
    "# summed_imp\n",
    "\n",
    "# fin_type_agg = ['projectfinancialtype_IBRD', 'projectfinancialtype_IDA', 'projectfinancialtype_Other']\n",
    "# { typ: sum_feature_imp(typ) for typ in fin_type_agg }"
   ]
  },
  {
   "cell_type": "markdown",
   "id": "abstract-national",
   "metadata": {},
   "source": [
    "## Extract more complex features"
   ]
  },
  {
   "cell_type": "code",
   "execution_count": null,
   "id": "seventh-enforcement",
   "metadata": {},
   "outputs": [],
   "source": []
  },
  {
   "cell_type": "markdown",
   "id": "adverse-wound",
   "metadata": {},
   "source": [
    "## Build better models"
   ]
  },
  {
   "cell_type": "code",
   "execution_count": null,
   "id": "taken-keeping",
   "metadata": {},
   "outputs": [],
   "source": []
  },
  {
   "cell_type": "markdown",
   "id": "extended-bangkok",
   "metadata": {},
   "source": [
    "## Extract SHAP and other values"
   ]
  },
  {
   "cell_type": "code",
   "execution_count": null,
   "id": "checked-resident",
   "metadata": {},
   "outputs": [],
   "source": []
  }
 ],
 "metadata": {
  "kernelspec": {
   "display_name": "causal",
   "language": "python",
   "name": "causal"
  },
  "language_info": {
   "codemirror_mode": {
    "name": "ipython",
    "version": 3
   },
   "file_extension": ".py",
   "mimetype": "text/x-python",
   "name": "python",
   "nbconvert_exporter": "python",
   "pygments_lexer": "ipython3",
   "version": "3.8.8"
  }
 },
 "nbformat": 4,
 "nbformat_minor": 5
}
