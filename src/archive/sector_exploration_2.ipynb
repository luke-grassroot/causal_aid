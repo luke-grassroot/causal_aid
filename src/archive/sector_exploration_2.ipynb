{
 "cells": [
  {
   "cell_type": "code",
   "execution_count": 2,
   "id": "municipal-washington",
   "metadata": {},
   "outputs": [],
   "source": [
    "import pandas as pd"
   ]
  },
  {
   "cell_type": "code",
   "execution_count": 51,
   "id": "seasonal-unemployment",
   "metadata": {},
   "outputs": [],
   "source": [
    "from datetime import datetime, timedelta"
   ]
  },
  {
   "cell_type": "code",
   "execution_count": 55,
   "id": "liable-petersburg",
   "metadata": {},
   "outputs": [],
   "source": [
    "import matplotlib\n",
    "import matplotlib.pyplot as plt"
   ]
  },
  {
   "cell_type": "code",
   "execution_count": 3,
   "id": "improving-murder",
   "metadata": {},
   "outputs": [],
   "source": [
    "pd.set_option(\"mode.chained_assignment\", None)"
   ]
  },
  {
   "cell_type": "code",
   "execution_count": 4,
   "id": "bronze-realtor",
   "metadata": {},
   "outputs": [],
   "source": [
    "from futil import * "
   ]
  },
  {
   "cell_type": "code",
   "execution_count": 5,
   "id": "detected-capacity",
   "metadata": {},
   "outputs": [],
   "source": [
    "wdi_df, series_df = load_wdi()"
   ]
  },
  {
   "cell_type": "code",
   "execution_count": 6,
   "id": "hawaiian-effects",
   "metadata": {},
   "outputs": [
    {
     "data": {
      "text/plain": [
       "Index(['Series Code', 'Topic', 'Indicator Name', 'Short definition',\n",
       "       'Long definition', 'Unit of measure', 'Periodicity', 'Base Period',\n",
       "       'Other notes', 'Aggregation method', 'Limitations and exceptions',\n",
       "       'Notes from original source', 'General comments', 'Source',\n",
       "       'Statistical concept and methodology', 'Development relevance',\n",
       "       'Related source links', 'Other web links', 'Related indicators',\n",
       "       'License Type', 'Unnamed: 20'],\n",
       "      dtype='object')"
      ]
     },
     "execution_count": 6,
     "metadata": {},
     "output_type": "execute_result"
    }
   ],
   "source": [
    "series_df.columns"
   ]
  },
  {
   "cell_type": "code",
   "execution_count": 11,
   "id": "excited-bishop",
   "metadata": {},
   "outputs": [
    {
     "name": "stdout",
     "output_type": "stream",
     "text": [
      "383    Primary government expenditures as a proportio...\n",
      "477    CPIA quality of budgetary and financial manage...\n",
      "Name: Indicator Name, dtype: object\n",
      "379    Expense (current LCU)\n",
      "380       Expense (% of GDP)\n",
      "Name: Indicator Name, dtype: object\n",
      "365    Tax revenue (current LCU)\n",
      "366       Tax revenue (% of GDP)\n",
      "Name: Indicator Name, dtype: object\n"
     ]
    }
   ],
   "source": [
    "print(extract_indic_name_definition(series_df, 'budget')['Indicator Name'])\n",
    "print(extract_indic_name_definition(series_df, 'Expense')['Indicator Name'])\n",
    "print(extract_indic_name_definition(series_df, 'Tax revenue')['Indicator Name'])"
   ]
  },
  {
   "cell_type": "markdown",
   "id": "expanded-international",
   "metadata": {},
   "source": [
    "To use for government budget, options:\n",
    "\n",
    "* Expense. GC.XPN.TOTL.CN (or GC.XPN.TOTL.ZS) for total expenses. But only current LCU.\n",
    "* Tax revenue. GC.TAX.TOTL.CN (or GC.TAX.TOTL.GD.ZS) for total revenue. Also only current LCU"
   ]
  },
  {
   "cell_type": "code",
   "execution_count": 12,
   "id": "creative-arctic",
   "metadata": {},
   "outputs": [
    {
     "data": {
      "text/html": [
       "<div>\n",
       "<style scoped>\n",
       "    .dataframe tbody tr th:only-of-type {\n",
       "        vertical-align: middle;\n",
       "    }\n",
       "\n",
       "    .dataframe tbody tr th {\n",
       "        vertical-align: top;\n",
       "    }\n",
       "\n",
       "    .dataframe thead th {\n",
       "        text-align: right;\n",
       "    }\n",
       "</style>\n",
       "<table border=\"1\" class=\"dataframe\">\n",
       "  <thead>\n",
       "    <tr style=\"text-align: right;\">\n",
       "      <th></th>\n",
       "      <th>ppd_project_id</th>\n",
       "      <th>donor_name</th>\n",
       "      <th>six_overall_rating</th>\n",
       "      <th>country_code</th>\n",
       "      <th>office_presence</th>\n",
       "      <th>project_duration</th>\n",
       "      <th>eval_lag</th>\n",
       "      <th>crs_purpose_code</th>\n",
       "      <th>crs_purpose_sector</th>\n",
       "      <th>aid_type</th>\n",
       "      <th>...</th>\n",
       "      <th>kfw_sustainability_rating</th>\n",
       "      <th>ifad_government_partner_rating</th>\n",
       "      <th>wb_government_partner_rating</th>\n",
       "      <th>mmg_purpose_sector</th>\n",
       "      <th>mmg_purpose_sectorname</th>\n",
       "      <th>mmg_purpose_code</th>\n",
       "      <th>mmg_purpose_codename</th>\n",
       "      <th>wb_project_id</th>\n",
       "      <th>gfatm_project_id</th>\n",
       "      <th>giz_project_id</th>\n",
       "    </tr>\n",
       "  </thead>\n",
       "  <tbody>\n",
       "    <tr>\n",
       "      <th>0</th>\n",
       "      <td>1</td>\n",
       "      <td>AsianDB</td>\n",
       "      <td>4.5</td>\n",
       "      <td>CHN</td>\n",
       "      <td>1.0</td>\n",
       "      <td>2555.0</td>\n",
       "      <td>730.0</td>\n",
       "      <td>NaN</td>\n",
       "      <td>NaN</td>\n",
       "      <td>NaN</td>\n",
       "      <td>...</td>\n",
       "      <td>NaN</td>\n",
       "      <td>NaN</td>\n",
       "      <td>NaN</td>\n",
       "      <td>14020</td>\n",
       "      <td>Water supply and sanitation - large systems</td>\n",
       "      <td>140</td>\n",
       "      <td>WATER AND SANITATION</td>\n",
       "      <td>NaN</td>\n",
       "      <td>NaN</td>\n",
       "      <td>NaN</td>\n",
       "    </tr>\n",
       "    <tr>\n",
       "      <th>1</th>\n",
       "      <td>2</td>\n",
       "      <td>AsianDB</td>\n",
       "      <td>4.5</td>\n",
       "      <td>COO</td>\n",
       "      <td>0.0</td>\n",
       "      <td>1825.0</td>\n",
       "      <td>0.0</td>\n",
       "      <td>22040.0</td>\n",
       "      <td>220.0</td>\n",
       "      <td>L</td>\n",
       "      <td>...</td>\n",
       "      <td>NaN</td>\n",
       "      <td>NaN</td>\n",
       "      <td>NaN</td>\n",
       "      <td>22040</td>\n",
       "      <td>Information and communication technology (ICT)</td>\n",
       "      <td>220</td>\n",
       "      <td>COMMUNICATION</td>\n",
       "      <td>NaN</td>\n",
       "      <td>NaN</td>\n",
       "      <td>NaN</td>\n",
       "    </tr>\n",
       "    <tr>\n",
       "      <th>2</th>\n",
       "      <td>3</td>\n",
       "      <td>AsianDB</td>\n",
       "      <td>1.5</td>\n",
       "      <td>PHI</td>\n",
       "      <td>1.0</td>\n",
       "      <td>2190.0</td>\n",
       "      <td>730.0</td>\n",
       "      <td>NaN</td>\n",
       "      <td>NaN</td>\n",
       "      <td>NaN</td>\n",
       "      <td>...</td>\n",
       "      <td>NaN</td>\n",
       "      <td>NaN</td>\n",
       "      <td>NaN</td>\n",
       "      <td>14010</td>\n",
       "      <td>Water sector policy and administrative management</td>\n",
       "      <td>140</td>\n",
       "      <td>WATER AND SANITATION</td>\n",
       "      <td>NaN</td>\n",
       "      <td>NaN</td>\n",
       "      <td>NaN</td>\n",
       "    </tr>\n",
       "    <tr>\n",
       "      <th>3</th>\n",
       "      <td>4</td>\n",
       "      <td>AsianDB</td>\n",
       "      <td>4.5</td>\n",
       "      <td>NEP</td>\n",
       "      <td>1.0</td>\n",
       "      <td>6570.0</td>\n",
       "      <td>1095.0</td>\n",
       "      <td>21050.0</td>\n",
       "      <td>210.0</td>\n",
       "      <td>L</td>\n",
       "      <td>...</td>\n",
       "      <td>NaN</td>\n",
       "      <td>NaN</td>\n",
       "      <td>NaN</td>\n",
       "      <td>21050</td>\n",
       "      <td>Air transport</td>\n",
       "      <td>210</td>\n",
       "      <td>TRANSPORT AND STORAGE</td>\n",
       "      <td>NaN</td>\n",
       "      <td>NaN</td>\n",
       "      <td>NaN</td>\n",
       "    </tr>\n",
       "    <tr>\n",
       "      <th>4</th>\n",
       "      <td>5</td>\n",
       "      <td>AsianDB</td>\n",
       "      <td>4.5</td>\n",
       "      <td>SRI</td>\n",
       "      <td>1.0</td>\n",
       "      <td>1825.0</td>\n",
       "      <td>0.0</td>\n",
       "      <td>24010.0</td>\n",
       "      <td>240.0</td>\n",
       "      <td>L</td>\n",
       "      <td>...</td>\n",
       "      <td>NaN</td>\n",
       "      <td>NaN</td>\n",
       "      <td>NaN</td>\n",
       "      <td>24010</td>\n",
       "      <td>Financial policy and administrative management</td>\n",
       "      <td>240</td>\n",
       "      <td>BANKING AND FINANCIAL SERVICES</td>\n",
       "      <td>NaN</td>\n",
       "      <td>NaN</td>\n",
       "      <td>NaN</td>\n",
       "    </tr>\n",
       "  </tbody>\n",
       "</table>\n",
       "<p>5 rows × 184 columns</p>\n",
       "</div>"
      ],
      "text/plain": [
       "   ppd_project_id donor_name  six_overall_rating country_code  \\\n",
       "0               1    AsianDB                 4.5          CHN   \n",
       "1               2    AsianDB                 4.5          COO   \n",
       "2               3    AsianDB                 1.5          PHI   \n",
       "3               4    AsianDB                 4.5          NEP   \n",
       "4               5    AsianDB                 4.5          SRI   \n",
       "\n",
       "   office_presence  project_duration  eval_lag  crs_purpose_code  \\\n",
       "0              1.0            2555.0     730.0               NaN   \n",
       "1              0.0            1825.0       0.0           22040.0   \n",
       "2              1.0            2190.0     730.0               NaN   \n",
       "3              1.0            6570.0    1095.0           21050.0   \n",
       "4              1.0            1825.0       0.0           24010.0   \n",
       "\n",
       "   crs_purpose_sector aid_type  ... kfw_sustainability_rating  \\\n",
       "0                 NaN      NaN  ...                       NaN   \n",
       "1               220.0        L  ...                       NaN   \n",
       "2                 NaN      NaN  ...                       NaN   \n",
       "3               210.0        L  ...                       NaN   \n",
       "4               240.0        L  ...                       NaN   \n",
       "\n",
       "  ifad_government_partner_rating wb_government_partner_rating  \\\n",
       "0                            NaN                          NaN   \n",
       "1                            NaN                          NaN   \n",
       "2                            NaN                          NaN   \n",
       "3                            NaN                          NaN   \n",
       "4                            NaN                          NaN   \n",
       "\n",
       "  mmg_purpose_sector                             mmg_purpose_sectorname  \\\n",
       "0              14020        Water supply and sanitation - large systems   \n",
       "1              22040     Information and communication technology (ICT)   \n",
       "2              14010  Water sector policy and administrative management   \n",
       "3              21050                                      Air transport   \n",
       "4              24010     Financial policy and administrative management   \n",
       "\n",
       "  mmg_purpose_code            mmg_purpose_codename  wb_project_id  \\\n",
       "0              140            WATER AND SANITATION            NaN   \n",
       "1              220                   COMMUNICATION            NaN   \n",
       "2              140            WATER AND SANITATION            NaN   \n",
       "3              210           TRANSPORT AND STORAGE            NaN   \n",
       "4              240  BANKING AND FINANCIAL SERVICES            NaN   \n",
       "\n",
       "  gfatm_project_id  giz_project_id  \n",
       "0              NaN             NaN  \n",
       "1              NaN             NaN  \n",
       "2              NaN             NaN  \n",
       "3              NaN             NaN  \n",
       "4              NaN             NaN  \n",
       "\n",
       "[5 rows x 184 columns]"
      ]
     },
     "execution_count": 12,
     "metadata": {},
     "output_type": "execute_result"
    }
   ],
   "source": [
    "project_df = load_projects()\n",
    "project_df.head()"
   ]
  },
  {
   "cell_type": "code",
   "execution_count": 14,
   "id": "oriental-summary",
   "metadata": {},
   "outputs": [
    {
     "data": {
      "text/plain": [
       "7142"
      ]
     },
     "execution_count": 14,
     "metadata": {},
     "output_type": "execute_result"
    }
   ],
   "source": [
    "len(project_df[project_df.wb_lendingproject_cost.notna()])"
   ]
  },
  {
   "cell_type": "code",
   "execution_count": 15,
   "id": "upper-rouge",
   "metadata": {},
   "outputs": [
    {
     "data": {
      "text/html": [
       "<div>\n",
       "<style scoped>\n",
       "    .dataframe tbody tr th:only-of-type {\n",
       "        vertical-align: middle;\n",
       "    }\n",
       "\n",
       "    .dataframe tbody tr th {\n",
       "        vertical-align: top;\n",
       "    }\n",
       "\n",
       "    .dataframe thead th {\n",
       "        text-align: right;\n",
       "    }\n",
       "</style>\n",
       "<table border=\"1\" class=\"dataframe\">\n",
       "  <thead>\n",
       "    <tr style=\"text-align: right;\">\n",
       "      <th></th>\n",
       "      <th>avg_size</th>\n",
       "    </tr>\n",
       "    <tr>\n",
       "      <th>wb_lendinginstrumenttype</th>\n",
       "      <th></th>\n",
       "    </tr>\n",
       "  </thead>\n",
       "  <tbody>\n",
       "    <tr>\n",
       "      <th>APL</th>\n",
       "      <td>1.147938e+08</td>\n",
       "    </tr>\n",
       "    <tr>\n",
       "      <th>DPL</th>\n",
       "      <td>1.607427e+08</td>\n",
       "    </tr>\n",
       "    <tr>\n",
       "      <th>DRL</th>\n",
       "      <td>1.303000e+08</td>\n",
       "    </tr>\n",
       "    <tr>\n",
       "      <th>ERL</th>\n",
       "      <td>7.568429e+07</td>\n",
       "    </tr>\n",
       "    <tr>\n",
       "      <th>FIL</th>\n",
       "      <td>2.318032e+07</td>\n",
       "    </tr>\n",
       "    <tr>\n",
       "      <th>LIL</th>\n",
       "      <td>6.243777e+06</td>\n",
       "    </tr>\n",
       "    <tr>\n",
       "      <th>PRC</th>\n",
       "      <td>8.722817e+07</td>\n",
       "    </tr>\n",
       "    <tr>\n",
       "      <th>PSL</th>\n",
       "      <td>2.525249e+08</td>\n",
       "    </tr>\n",
       "    <tr>\n",
       "      <th>RIL</th>\n",
       "      <td>9.044211e+07</td>\n",
       "    </tr>\n",
       "    <tr>\n",
       "      <th>SAD</th>\n",
       "      <td>1.260717e+08</td>\n",
       "    </tr>\n",
       "    <tr>\n",
       "      <th>SAL</th>\n",
       "      <td>1.031417e+08</td>\n",
       "    </tr>\n",
       "    <tr>\n",
       "      <th>SIL</th>\n",
       "      <td>8.520775e+07</td>\n",
       "    </tr>\n",
       "    <tr>\n",
       "      <th>SIM</th>\n",
       "      <td>3.729570e+07</td>\n",
       "    </tr>\n",
       "    <tr>\n",
       "      <th>SSL</th>\n",
       "      <td>1.262500e+08</td>\n",
       "    </tr>\n",
       "    <tr>\n",
       "      <th>TAL</th>\n",
       "      <td>1.101528e+07</td>\n",
       "    </tr>\n",
       "  </tbody>\n",
       "</table>\n",
       "</div>"
      ],
      "text/plain": [
       "                              avg_size\n",
       "wb_lendinginstrumenttype              \n",
       "APL                       1.147938e+08\n",
       "DPL                       1.607427e+08\n",
       "DRL                       1.303000e+08\n",
       "ERL                       7.568429e+07\n",
       "FIL                       2.318032e+07\n",
       "LIL                       6.243777e+06\n",
       "PRC                       8.722817e+07\n",
       "PSL                       2.525249e+08\n",
       "RIL                       9.044211e+07\n",
       "SAD                       1.260717e+08\n",
       "SAL                       1.031417e+08\n",
       "SIL                       8.520775e+07\n",
       "SIM                       3.729570e+07\n",
       "SSL                       1.262500e+08\n",
       "TAL                       1.101528e+07"
      ]
     },
     "execution_count": 15,
     "metadata": {},
     "output_type": "execute_result"
    }
   ],
   "source": [
    "wb_df = project_df[project_df.donor_name == 'WB']\n",
    "wb_df.groupby('wb_lendinginstrumenttype').agg(avg_size=('wb_lendingproject_cost', 'mean'))"
   ]
  },
  {
   "cell_type": "code",
   "execution_count": 18,
   "id": "acknowledged-equality",
   "metadata": {},
   "outputs": [
    {
     "data": {
      "text/plain": [
       "<AxesSubplot:xlabel='created_year'>"
      ]
     },
     "execution_count": 18,
     "metadata": {},
     "output_type": "execute_result"
    },
    {
     "data": {
      "image/png": "[encoded data removed]",
      "text/plain": [
       "<Figure size 432x288 with 1 Axes>"
      ]
     },
     "metadata": {
      "needs_background": "light"
     },
     "output_type": "display_data"
    }
   ],
   "source": [
    "wb_df['start_date'] = pd.to_datetime(wb_df.start_date)\n",
    "wb_df['created_year'] = wb_df.start_date.dt.year\n",
    "wb_df[wb_df['created_year'] > 1980].groupby('created_year').agg(avg_size=('wb_lendingproject_cost', 'mean')).plot.line()"
   ]
  },
  {
   "cell_type": "markdown",
   "id": "false-berry",
   "metadata": {},
   "source": [
    "So use:\n",
    "\n",
    "* GDP at current USD, from WDI\n",
    "* Multiply by % of GDP\n",
    "* Compare to WB loan size"
   ]
  },
  {
   "cell_type": "code",
   "execution_count": 19,
   "id": "official-smart",
   "metadata": {},
   "outputs": [],
   "source": [
    "relevant_codes = {\n",
    "    'GDP_current_USD': 'NY.GDP.MKTP.CD',\n",
    "    'GovtExpenses_current_USD': 'GC.XPN.TOTL.GD.ZS'\n",
    "}\n",
    "\n",
    "wb_extract = extract_indicators(wdi_df, relevant_codes.values())\n",
    "\n",
    "expense_df = wb_extract[wb_extract['Indicator Code'] == 'GC.XPN.TOTL.GD.ZS']"
   ]
  },
  {
   "cell_type": "code",
   "execution_count": 20,
   "id": "helpful-popularity",
   "metadata": {},
   "outputs": [
    {
     "data": {
      "text/plain": [
       "<AxesSubplot:xlabel='year'>"
      ]
     },
     "execution_count": 20,
     "metadata": {},
     "output_type": "execute_result"
    },
    {
     "data": {
      "image/png": "[encoded data removed]",
      "text/plain": [
       "<Figure size 432x288 with 1 Axes>"
      ]
     },
     "metadata": {
      "needs_background": "light"
     },
     "output_type": "display_data"
    }
   ],
   "source": [
    "country_code = 'ZWE' # use Zim as an example\n",
    "country_exp_row = expense_df[expense_df['Country Code'] == country_code]\n",
    "\n",
    "edf = country_exp_row.drop(columns=['Indicator Name', 'Indicator Code', 'Unnamed: 65'], errors='ignore').melt(id_vars=['Country Code', 'Country Name'])\n",
    "edf = edf.rename(columns = { 'variable': 'year' })\n",
    "\n",
    "edf['year'] = pd.to_datetime(edf['year'])\n",
    "\n",
    "edf = edf.set_index('year')\n",
    "edf = edf.interpolate()\n",
    "edf.plot.line()"
   ]
  },
  {
   "cell_type": "markdown",
   "id": "manufactured-entertainment",
   "metadata": {},
   "source": [
    "### Checking indicator coverage on budget, etc"
   ]
  },
  {
   "cell_type": "code",
   "execution_count": 21,
   "id": "corresponding-control",
   "metadata": {},
   "outputs": [
    {
     "name": "stdout",
     "output_type": "stream",
     "text": [
      "Ratio not available:  0.7019906323185011\n"
     ]
    },
    {
     "data": {
      "text/plain": [
       "<AxesSubplot:>"
      ]
     },
     "execution_count": 21,
     "metadata": {},
     "output_type": "execute_result"
    },
    {
     "data": {
      "image/png": "[encoded data removed]",
      "text/plain": [
       "<Figure size 432x288 with 1 Axes>"
      ]
     },
     "metadata": {
      "needs_background": "light"
     },
     "output_type": "display_data"
    }
   ],
   "source": [
    "edf2 = expense_df.drop(columns=['Indicator Name', 'Indicator Code', 'Unnamed: 65'], errors='ignore').melt(id_vars=['Country Code', 'Country Name'])\n",
    "edf2 = edf2[edf2['Country Code'].isin(wb_df.country_code)]\n",
    "\n",
    "print(\"Ratio not available: \",  edf2.value.isna().sum() / len(edf2))\n",
    "\n",
    "wb_df.created_year.hist()"
   ]
  },
  {
   "cell_type": "code",
   "execution_count": 24,
   "id": "toxic-macedonia",
   "metadata": {},
   "outputs": [
    {
     "name": "stdout",
     "output_type": "stream",
     "text": [
      "0.6364285714285715\n",
      "0.2810714285714286\n"
     ]
    }
   ],
   "source": [
    "print(calculate_ratio_na(wdi_df, 'GC.XPN.TOTL.GD.ZS', wb_df.country_code))\n",
    "print(calculate_ratio_na(wdi_df, 'DT.ODA.ODAT.GN.ZS', wb_df.country_code))"
   ]
  },
  {
   "cell_type": "code",
   "execution_count": 25,
   "id": "caroline-myrtle",
   "metadata": {},
   "outputs": [],
   "source": [
    "# Expense. GC.XPN.TOTL.CN (or GC.XPN.TOTL.ZS) for total expenses. But only current LCU.\n",
    "# Tax revenue. GC.TAX.TOTL.CN (or GC.TAX.TOTL.GD.ZS) for total revenue. Also only current LCU"
   ]
  },
  {
   "cell_type": "code",
   "execution_count": 26,
   "id": "civilian-zimbabwe",
   "metadata": {},
   "outputs": [],
   "source": [
    "candidate_vars = [\n",
    "    'NY.GDP.MKTP.CD',\n",
    "    'GC.XPN.TOTL.GD.ZS',\n",
    "    'GC.XPN.TOTL.ZS',\n",
    "    'GC.TAX.TOTL.CN',\n",
    "    'GC.TAX.TOTL.GD.ZS',\n",
    "    'IQ.CPA.FINQ.XQ',\n",
    "    'SE.XPD.TOTL.GD.ZS',\n",
    "    'GB.XPD.RSDV.GD.ZS',\n",
    "    'DT.ODA.ODAT.GN.ZS'\n",
    "]"
   ]
  },
  {
   "cell_type": "code",
   "execution_count": 28,
   "id": "informative-invalid",
   "metadata": {},
   "outputs": [
    {
     "name": "stdout",
     "output_type": "stream",
     "text": [
      "{'NY.GDP.MKTP.CD': 0.16142857142857142, 'GC.XPN.TOTL.GD.ZS': 0.6364285714285715, 'GC.XPN.TOTL.ZS': nan, 'GC.TAX.TOTL.CN': 0.6139285714285714, 'GC.TAX.TOTL.GD.ZS': 0.6210714285714286, 'IQ.CPA.FINQ.XQ': 0.8692857142857143, 'SE.XPD.TOTL.GD.ZS': 0.6039285714285715, 'GB.XPD.RSDV.GD.ZS': 0.7767857142857143, 'DT.ODA.ODAT.GN.ZS': 0.2810714285714286}\n"
     ]
    },
    {
     "name": "stderr",
     "output_type": "stream",
     "text": [
      "/home/luke/newproj/wbwdi/src/futil.py:77: RuntimeWarning: invalid value encountered in long_scalars\n",
      "  return tdf.value.isna().sum() / len(tdf)\n"
     ]
    }
   ],
   "source": [
    "na_ratios = [calculate_ratio_na(wdi_df, code, wb_df.country_code) for code in candidate_vars]\n",
    "print(dict(zip(candidate_vars, na_ratios)))"
   ]
  },
  {
   "cell_type": "markdown",
   "id": "simplified-supplier",
   "metadata": {},
   "source": [
    "### Result: at present, looks like we have to use just GDP in current USD."
   ]
  },
  {
   "cell_type": "markdown",
   "id": "incomplete-sunday",
   "metadata": {},
   "source": [
    "**Note**: Weirdly, have more data points for education share of expenditure"
   ]
  },
  {
   "cell_type": "markdown",
   "id": "floating-maple",
   "metadata": {},
   "source": [
    "## Checking feasibility of windows with no active project"
   ]
  },
  {
   "cell_type": "code",
   "execution_count": 29,
   "id": "authorized-metabolism",
   "metadata": {},
   "outputs": [
    {
     "data": {
      "text/plain": [
       "311.0    1608\n",
       "210.0    1466\n",
       "230.0    1026\n",
       "140.0     914\n",
       "151.0     736\n",
       "240.0     598\n",
       "321.0     571\n",
       "430.0     562\n",
       "122.0     539\n",
       "600.0     535\n",
       "130.0     412\n",
       "160.0     361\n",
       "112.0     252\n",
       "220.0     235\n",
       "113.0     232\n",
       "121.0     209\n",
       "510.0     204\n",
       "322.0     187\n",
       "312.0     177\n",
       "114.0     144\n",
       "410.0     142\n",
       "720.0     130\n",
       "111.0     124\n",
       "250.0     109\n",
       "313.0      81\n",
       "110.0      66\n",
       "120.0      61\n",
       "730.0      57\n",
       "331.0      55\n",
       "152.0      40\n",
       "530.0      39\n",
       "332.0      23\n",
       "310.0      17\n",
       "520.0      13\n",
       "740.0      11\n",
       "998.0       8\n",
       "700.0       8\n",
       "323.0       2\n",
       "930.0       1\n",
       "920.0       1\n",
       "320.0       1\n",
       "420.0       1\n",
       "Name: crs_purpose_sector, dtype: int64"
      ]
     },
     "execution_count": 29,
     "metadata": {},
     "output_type": "execute_result"
    }
   ],
   "source": [
    "project_df.crs_purpose_sector.value_counts()"
   ]
  },
  {
   "cell_type": "code",
   "execution_count": 30,
   "id": "pregnant-advertising",
   "metadata": {},
   "outputs": [
    {
     "data": {
      "text/plain": [
       "<AxesSubplot:>"
      ]
     },
     "execution_count": 30,
     "metadata": {},
     "output_type": "execute_result"
    },
    {
     "data": {
      "image/png": "[encoded data removed]",
      "text/plain": [
       "<Figure size 432x288 with 1 Axes>"
      ]
     },
     "metadata": {
      "needs_background": "light"
     },
     "output_type": "display_data"
    }
   ],
   "source": [
    "project_df.project_duration.hist()"
   ]
  },
  {
   "cell_type": "code",
   "execution_count": 31,
   "id": "superior-immune",
   "metadata": {},
   "outputs": [
    {
     "data": {
      "text/plain": [
       "Road transport                                                  945\n",
       "Debt forgiveness                                                529\n",
       "Water supply and sanitation - large systems                     511\n",
       "Public sector policy and administrative management              473\n",
       "Agricultural development                                        405\n",
       "                                                               ... \n",
       "Trade education/training                                          1\n",
       "Personnel development for population and reproductive health      1\n",
       "Refugees in donor countries                                       1\n",
       "MINERAL RESOURCES AND MINING                                      1\n",
       "Storage                                                           1\n",
       "Name: mmg_purpose_sectorname, Length: 211, dtype: int64"
      ]
     },
     "execution_count": 31,
     "metadata": {},
     "output_type": "execute_result"
    }
   ],
   "source": [
    "project_df.mmg_purpose_sectorname.value_counts()"
   ]
  },
  {
   "cell_type": "code",
   "execution_count": 32,
   "id": "elementary-decimal",
   "metadata": {},
   "outputs": [
    {
     "data": {
      "text/plain": [
       "21020    945\n",
       "60020    529\n",
       "14020    511\n",
       "15110    473\n",
       "31140    405\n",
       "        ... \n",
       "21061      1\n",
       "24005      1\n",
       "23066      1\n",
       "31282      1\n",
       "15261      1\n",
       "Name: mmg_purpose_sector, Length: 214, dtype: int64"
      ]
     },
     "execution_count": 32,
     "metadata": {},
     "output_type": "execute_result"
    }
   ],
   "source": [
    "project_df.mmg_purpose_sector.value_counts()"
   ]
  },
  {
   "cell_type": "code",
   "execution_count": 33,
   "id": "robust-shanghai",
   "metadata": {},
   "outputs": [
    {
     "data": {
      "text/plain": [
       "Agriculture                                                                       1169\n",
       "TRANSPORT AND STORAGE                                                              799\n",
       "Multisector                                                                        542\n",
       "ENERGY GENERATION AND SUPPLY                                                       541\n",
       "Government and civil society, general                                              459\n",
       "Basic health                                                                       401\n",
       "Industry                                                                           389\n",
       "WATER SUPPLY AND SANITATION                                                        368\n",
       "GENERAL BUDGET SUPPORT                                                             324\n",
       "POPULATION POLICIES/ PROGRAMMES AND REPRODUCTIVE HEALTH                            306\n",
       "OTHER SOCIAL INFRASTRUCTURE AND SERVICES                                           237\n",
       "Mineral resources and mining                                                       186\n",
       "BANKING AND FINANCIAL SERVICES                                                     178\n",
       "Secondary education                                                                176\n",
       "Basic education                                                                    174\n",
       "COMMUNICATIONS                                                                     134\n",
       "HEALTH                                                                             133\n",
       "EDUCATION                                                                          124\n",
       "BUSINESS AND OTHER SERVICES                                                        118\n",
       "Forestry                                                                           111\n",
       "RECONSTRUCTION RELIEF                                                               92\n",
       "EMERGENCY RESPONSE                                                                  88\n",
       "GENERAL ENVIRONMENTAL PROTECTION                                                    80\n",
       "Post-secondary education                                                            69\n",
       "OTHER                                                                               61\n",
       "Education, level unspecified                                                        57\n",
       "OTHER COMMODITY ASSISTANCE                                                          43\n",
       "Health, general                                                                     42\n",
       "Trade policy and regulations                                                        39\n",
       "Fishing                                                                             38\n",
       "AGRICULTURE, FORESTRY, FISHING                                                      26\n",
       "Tourism                                                                             24\n",
       "Conflict prevention and resolution, peace and security                              23\n",
       "HUMANITARIAN AID                                                                    16\n",
       "DEVELOPMENT AID/FOOD SECURITY ASSISTANCE                                            13\n",
       "DISASTER PREVENTION AND PREPAREDNESS                                                11\n",
       "ACTION RELATING TO DEBT                                                             11\n",
       "UNALLOCATED/  UNSPECIFIED                                                            6\n",
       "WOMEN                                                                                3\n",
       "Construction                                                                         2\n",
       "INDUSTRY, MINING, CONSTRUCTION                                                       1\n",
       "SUPPORT TO NON- GOVERNMENTAL ORGANISATIONS (NGOs) AND GOVERNMENT ORGANIZATIONS       1\n",
       "GOVERNMENT AND CIVIL SOCIETY                                                         1\n",
       "Name: aiddata_sectorname, dtype: int64"
      ]
     },
     "execution_count": 33,
     "metadata": {},
     "output_type": "execute_result"
    }
   ],
   "source": [
    "project_df.aiddata_sectorname.value_counts()"
   ]
  },
  {
   "cell_type": "code",
   "execution_count": 34,
   "id": "subtle-perspective",
   "metadata": {},
   "outputs": [],
   "source": [
    "project_df['start_dt'] = pd.to_datetime(project_df['start_date'], format='%d%b%Y', errors='coerce')"
   ]
  },
  {
   "cell_type": "code",
   "execution_count": 39,
   "id": "south-report",
   "metadata": {},
   "outputs": [],
   "source": [
    "sector_mapping_table = pd.read_csv('../data/sector_mapping.csv')"
   ]
  },
  {
   "cell_type": "code",
   "execution_count": 40,
   "id": "documented-wrapping",
   "metadata": {},
   "outputs": [
    {
     "data": {
      "text/html": [
       "<div>\n",
       "<style scoped>\n",
       "    .dataframe tbody tr th:only-of-type {\n",
       "        vertical-align: middle;\n",
       "    }\n",
       "\n",
       "    .dataframe tbody tr th {\n",
       "        vertical-align: top;\n",
       "    }\n",
       "\n",
       "    .dataframe thead th {\n",
       "        text-align: right;\n",
       "    }\n",
       "</style>\n",
       "<table border=\"1\" class=\"dataframe\">\n",
       "  <thead>\n",
       "    <tr style=\"text-align: right;\">\n",
       "      <th></th>\n",
       "      <th>mmg_purpose_sector</th>\n",
       "      <th>mmg_purpose_sectorname</th>\n",
       "      <th>mmg_purpose_code</th>\n",
       "      <th>mmg_purpose_codename</th>\n",
       "      <th>sector</th>\n",
       "    </tr>\n",
       "  </thead>\n",
       "  <tbody>\n",
       "    <tr>\n",
       "      <th>0</th>\n",
       "      <td>11000</td>\n",
       "      <td>Education</td>\n",
       "      <td>110</td>\n",
       "      <td>EDUCATION</td>\n",
       "      <td>Education</td>\n",
       "    </tr>\n",
       "    <tr>\n",
       "      <th>1</th>\n",
       "      <td>11100</td>\n",
       "      <td>Education</td>\n",
       "      <td>111</td>\n",
       "      <td>Education, level unspecified -</td>\n",
       "      <td>Education</td>\n",
       "    </tr>\n",
       "    <tr>\n",
       "      <th>2</th>\n",
       "      <td>11105</td>\n",
       "      <td>Education</td>\n",
       "      <td>111</td>\n",
       "      <td>Education, level unspecified -</td>\n",
       "      <td>Education</td>\n",
       "    </tr>\n",
       "    <tr>\n",
       "      <th>3</th>\n",
       "      <td>11110</td>\n",
       "      <td>Education policy and administrative management</td>\n",
       "      <td>111</td>\n",
       "      <td>Education, level unspecified -</td>\n",
       "      <td>Education</td>\n",
       "    </tr>\n",
       "    <tr>\n",
       "      <th>4</th>\n",
       "      <td>11120</td>\n",
       "      <td>Education facilities and training</td>\n",
       "      <td>111</td>\n",
       "      <td>Education, level unspecified -</td>\n",
       "      <td>Education</td>\n",
       "    </tr>\n",
       "  </tbody>\n",
       "</table>\n",
       "</div>"
      ],
      "text/plain": [
       "   mmg_purpose_sector                          mmg_purpose_sectorname  \\\n",
       "0               11000                                       Education   \n",
       "1               11100                                       Education   \n",
       "2               11105                                       Education   \n",
       "3               11110  Education policy and administrative management   \n",
       "4               11120               Education facilities and training   \n",
       "\n",
       "   mmg_purpose_code            mmg_purpose_codename     sector  \n",
       "0               110                       EDUCATION  Education  \n",
       "1               111  Education, level unspecified -  Education  \n",
       "2               111  Education, level unspecified -  Education  \n",
       "3               111  Education, level unspecified -  Education  \n",
       "4               111  Education, level unspecified -  Education  "
      ]
     },
     "execution_count": 40,
     "metadata": {},
     "output_type": "execute_result"
    }
   ],
   "source": [
    "sector_mapping_table.head()"
   ]
  },
  {
   "cell_type": "code",
   "execution_count": 42,
   "id": "seasonal-moment",
   "metadata": {},
   "outputs": [],
   "source": [
    "project_df = project_df.merge(\n",
    "    sector_mapping_table[['mmg_purpose_sector', 'sector']], \n",
    "    left_on='mmg_purpose_sector', \n",
    "    right_on='mmg_purpose_sector',\n",
    "    how='left'\n",
    ")"
   ]
  },
  {
   "cell_type": "code",
   "execution_count": 190,
   "id": "composite-grounds",
   "metadata": {},
   "outputs": [],
   "source": [
    "sector_aggs = project_df.groupby('sector').agg(\n",
    "    number_projects=('ppd_project_id', 'nunique'),\n",
    "    earliest_year=('start_dt', 'min'),\n",
    "    latest_project=('start_dt', 'max'),\n",
    "    number_donors=('donor_name', 'nunique'),\n",
    "    avg_rating=('six_overall_rating', 'mean'),\n",
    "    avg_duration=('project_duration', 'mean')\n",
    ")"
   ]
  },
  {
   "cell_type": "code",
   "execution_count": 191,
   "id": "received-fever",
   "metadata": {},
   "outputs": [
    {
     "data": {
      "text/html": [
       "<div>\n",
       "<style scoped>\n",
       "    .dataframe tbody tr th:only-of-type {\n",
       "        vertical-align: middle;\n",
       "    }\n",
       "\n",
       "    .dataframe tbody tr th {\n",
       "        vertical-align: top;\n",
       "    }\n",
       "\n",
       "    .dataframe thead th {\n",
       "        text-align: right;\n",
       "    }\n",
       "</style>\n",
       "<table border=\"1\" class=\"dataframe\">\n",
       "  <thead>\n",
       "    <tr style=\"text-align: right;\">\n",
       "      <th></th>\n",
       "      <th>number_projects</th>\n",
       "      <th>earliest_year</th>\n",
       "      <th>latest_project</th>\n",
       "      <th>number_donors</th>\n",
       "      <th>avg_rating</th>\n",
       "      <th>avg_duration</th>\n",
       "    </tr>\n",
       "    <tr>\n",
       "      <th>sector</th>\n",
       "      <th></th>\n",
       "      <th></th>\n",
       "      <th></th>\n",
       "      <th></th>\n",
       "      <th></th>\n",
       "      <th></th>\n",
       "    </tr>\n",
       "  </thead>\n",
       "  <tbody>\n",
       "    <tr>\n",
       "      <th>Agriculture</th>\n",
       "      <td>2139</td>\n",
       "      <td>1961-01-01</td>\n",
       "      <td>2010-04-01</td>\n",
       "      <td>7</td>\n",
       "      <td>3.945315</td>\n",
       "      <td>2688.239551</td>\n",
       "    </tr>\n",
       "    <tr>\n",
       "      <th>Debt</th>\n",
       "      <td>536</td>\n",
       "      <td>1963-01-01</td>\n",
       "      <td>2003-01-01</td>\n",
       "      <td>4</td>\n",
       "      <td>3.932458</td>\n",
       "      <td>2299.308851</td>\n",
       "    </tr>\n",
       "    <tr>\n",
       "      <th>Education</th>\n",
       "      <td>964</td>\n",
       "      <td>1964-01-01</td>\n",
       "      <td>2009-10-09</td>\n",
       "      <td>6</td>\n",
       "      <td>4.345599</td>\n",
       "      <td>2417.854041</td>\n",
       "    </tr>\n",
       "    <tr>\n",
       "      <th>Energy</th>\n",
       "      <td>1180</td>\n",
       "      <td>1960-01-01</td>\n",
       "      <td>2008-07-02</td>\n",
       "      <td>6</td>\n",
       "      <td>4.363322</td>\n",
       "      <td>2587.785095</td>\n",
       "    </tr>\n",
       "    <tr>\n",
       "      <th>Environment</th>\n",
       "      <td>311</td>\n",
       "      <td>1974-01-01</td>\n",
       "      <td>2010-03-16</td>\n",
       "      <td>7</td>\n",
       "      <td>4.354027</td>\n",
       "      <td>2601.019531</td>\n",
       "    </tr>\n",
       "    <tr>\n",
       "      <th>Finance</th>\n",
       "      <td>662</td>\n",
       "      <td>1968-01-01</td>\n",
       "      <td>2010-01-01</td>\n",
       "      <td>7</td>\n",
       "      <td>4.130533</td>\n",
       "      <td>1993.956098</td>\n",
       "    </tr>\n",
       "    <tr>\n",
       "      <th>Governance</th>\n",
       "      <td>1132</td>\n",
       "      <td>1969-01-01</td>\n",
       "      <td>2010-12-01</td>\n",
       "      <td>7</td>\n",
       "      <td>4.209571</td>\n",
       "      <td>1756.464342</td>\n",
       "    </tr>\n",
       "    <tr>\n",
       "      <th>Health</th>\n",
       "      <td>1482</td>\n",
       "      <td>1970-01-01</td>\n",
       "      <td>2012-01-01</td>\n",
       "      <td>8</td>\n",
       "      <td>4.507777</td>\n",
       "      <td>1959.853617</td>\n",
       "    </tr>\n",
       "    <tr>\n",
       "      <th>Housing</th>\n",
       "      <td>87</td>\n",
       "      <td>1977-01-01</td>\n",
       "      <td>2008-01-01</td>\n",
       "      <td>4</td>\n",
       "      <td>4.202469</td>\n",
       "      <td>2399.043478</td>\n",
       "    </tr>\n",
       "    <tr>\n",
       "      <th>Humanitarian</th>\n",
       "      <td>496</td>\n",
       "      <td>1975-04-11</td>\n",
       "      <td>2009-01-01</td>\n",
       "      <td>6</td>\n",
       "      <td>4.808554</td>\n",
       "      <td>1644.445455</td>\n",
       "    </tr>\n",
       "    <tr>\n",
       "      <th>Industry</th>\n",
       "      <td>695</td>\n",
       "      <td>1962-01-01</td>\n",
       "      <td>2008-06-05</td>\n",
       "      <td>7</td>\n",
       "      <td>3.945627</td>\n",
       "      <td>2291.059200</td>\n",
       "    </tr>\n",
       "    <tr>\n",
       "      <th>Mineral</th>\n",
       "      <td>206</td>\n",
       "      <td>1964-01-01</td>\n",
       "      <td>2005-01-01</td>\n",
       "      <td>5</td>\n",
       "      <td>4.178537</td>\n",
       "      <td>2166.837438</td>\n",
       "    </tr>\n",
       "    <tr>\n",
       "      <th>Other</th>\n",
       "      <td>1484</td>\n",
       "      <td>1963-10-07</td>\n",
       "      <td>2010-01-01</td>\n",
       "      <td>7</td>\n",
       "      <td>4.185764</td>\n",
       "      <td>2022.001643</td>\n",
       "    </tr>\n",
       "    <tr>\n",
       "      <th>Telecom</th>\n",
       "      <td>256</td>\n",
       "      <td>1967-01-01</td>\n",
       "      <td>2006-06-01</td>\n",
       "      <td>5</td>\n",
       "      <td>4.725397</td>\n",
       "      <td>2315.410359</td>\n",
       "    </tr>\n",
       "    <tr>\n",
       "      <th>Trade</th>\n",
       "      <td>69</td>\n",
       "      <td>1980-12-06</td>\n",
       "      <td>2008-01-01</td>\n",
       "      <td>5</td>\n",
       "      <td>4.436765</td>\n",
       "      <td>1220.812500</td>\n",
       "    </tr>\n",
       "    <tr>\n",
       "      <th>Transport</th>\n",
       "      <td>1643</td>\n",
       "      <td>1956-01-01</td>\n",
       "      <td>2008-03-17</td>\n",
       "      <td>5</td>\n",
       "      <td>4.385547</td>\n",
       "      <td>2549.416404</td>\n",
       "    </tr>\n",
       "    <tr>\n",
       "      <th>Wash</th>\n",
       "      <td>1009</td>\n",
       "      <td>1964-01-01</td>\n",
       "      <td>2008-09-12</td>\n",
       "      <td>7</td>\n",
       "      <td>4.115170</td>\n",
       "      <td>2793.927521</td>\n",
       "    </tr>\n",
       "  </tbody>\n",
       "</table>\n",
       "</div>"
      ],
      "text/plain": [
       "              number_projects earliest_year latest_project  number_donors  \\\n",
       "sector                                                                      \n",
       "Agriculture              2139    1961-01-01     2010-04-01              7   \n",
       "Debt                      536    1963-01-01     2003-01-01              4   \n",
       "Education                 964    1964-01-01     2009-10-09              6   \n",
       "Energy                   1180    1960-01-01     2008-07-02              6   \n",
       "Environment               311    1974-01-01     2010-03-16              7   \n",
       "Finance                   662    1968-01-01     2010-01-01              7   \n",
       "Governance               1132    1969-01-01     2010-12-01              7   \n",
       "Health                   1482    1970-01-01     2012-01-01              8   \n",
       "Housing                    87    1977-01-01     2008-01-01              4   \n",
       "Humanitarian              496    1975-04-11     2009-01-01              6   \n",
       "Industry                  695    1962-01-01     2008-06-05              7   \n",
       "Mineral                   206    1964-01-01     2005-01-01              5   \n",
       "Other                    1484    1963-10-07     2010-01-01              7   \n",
       "Telecom                   256    1967-01-01     2006-06-01              5   \n",
       "Trade                      69    1980-12-06     2008-01-01              5   \n",
       "Transport                1643    1956-01-01     2008-03-17              5   \n",
       "Wash                     1009    1964-01-01     2008-09-12              7   \n",
       "\n",
       "              avg_rating  avg_duration  \n",
       "sector                                  \n",
       "Agriculture     3.945315   2688.239551  \n",
       "Debt            3.932458   2299.308851  \n",
       "Education       4.345599   2417.854041  \n",
       "Energy          4.363322   2587.785095  \n",
       "Environment     4.354027   2601.019531  \n",
       "Finance         4.130533   1993.956098  \n",
       "Governance      4.209571   1756.464342  \n",
       "Health          4.507777   1959.853617  \n",
       "Housing         4.202469   2399.043478  \n",
       "Humanitarian    4.808554   1644.445455  \n",
       "Industry        3.945627   2291.059200  \n",
       "Mineral         4.178537   2166.837438  \n",
       "Other           4.185764   2022.001643  \n",
       "Telecom         4.725397   2315.410359  \n",
       "Trade           4.436765   1220.812500  \n",
       "Transport       4.385547   2549.416404  \n",
       "Wash            4.115170   2793.927521  "
      ]
     },
     "execution_count": 191,
     "metadata": {},
     "output_type": "execute_result"
    }
   ],
   "source": [
    "sector_aggs"
   ]
  },
  {
   "cell_type": "markdown",
   "id": "brown-carolina",
   "metadata": {},
   "source": [
    "### Finding year-gaps, for treatment"
   ]
  },
  {
   "cell_type": "code",
   "execution_count": 65,
   "id": "athletic-egyptian",
   "metadata": {},
   "outputs": [],
   "source": [
    "time_cols = [\n",
    "    'country_code', \n",
    "    'donor_name', \n",
    "    'aiddata_sectorname', \n",
    "    'six_overall_rating', \n",
    "    'start_date', \n",
    "    'completion_date', \n",
    "    'project_duration',\n",
    "    'sector'\n",
    "]"
   ]
  },
  {
   "cell_type": "code",
   "execution_count": 66,
   "id": "federal-casino",
   "metadata": {},
   "outputs": [],
   "source": [
    "pdf = narrow_convert_project_data(project_df, time_cols)"
   ]
  },
  {
   "cell_type": "code",
   "execution_count": 67,
   "id": "peripheral-viewer",
   "metadata": {},
   "outputs": [
    {
     "data": {
      "text/plain": [
       "<AxesSubplot:>"
      ]
     },
     "execution_count": 67,
     "metadata": {},
     "output_type": "execute_result"
    },
    {
     "data": {
      "image/png": "[encoded data removed]",
      "text/plain": [
       "<Figure size 432x288 with 1 Axes>"
      ]
     },
     "metadata": {
      "needs_background": "light"
     },
     "output_type": "display_data"
    }
   ],
   "source": [
    "pdf.completion_dt.dt.month.hist()"
   ]
  },
  {
   "cell_type": "markdown",
   "id": "opening-foundation",
   "metadata": {},
   "source": [
    "### NB reasoning on years"
   ]
  },
  {
   "cell_type": "markdown",
   "id": "alien-reservoir",
   "metadata": {},
   "source": [
    "1. Vast majority of projects have completion date as 1 January. Suggesting specific completion dates are generally not recorded, i.e., assume some normal distribution throughout year.\n",
    "2. On the other hand, by project completion most activities should have been underway for some time. So it is plausible to consider the year of the project as year 1 for lags. If a project has completion date 2010, outcome effects on a lag of 5 years would be evaluated in 2014.\n",
    "3. That also implies a no-treatment year is any in which no project is active and is not within the lag period of a completed project."
   ]
  },
  {
   "cell_type": "code",
   "execution_count": 53,
   "id": "weekly-watershed",
   "metadata": {},
   "outputs": [
    {
     "data": {
      "text/plain": [
       "2428"
      ]
     },
     "execution_count": 53,
     "metadata": {},
     "output_type": "execute_result"
    }
   ],
   "source": [
    "example_year = datetime(2000, 1, 1)\n",
    "len(pdf[pdf.start_dt > example_year])"
   ]
  },
  {
   "cell_type": "code",
   "execution_count": 54,
   "id": "familiar-cemetery",
   "metadata": {},
   "outputs": [
    {
     "data": {
      "text/plain": [
       "13971"
      ]
     },
     "execution_count": 54,
     "metadata": {},
     "output_type": "execute_result"
    }
   ],
   "source": [
    "len(pdf)"
   ]
  },
  {
   "cell_type": "code",
   "execution_count": 56,
   "id": "outside-spanking",
   "metadata": {},
   "outputs": [
    {
     "data": {
      "text/plain": [
       "<AxesSubplot:>"
      ]
     },
     "execution_count": 56,
     "metadata": {},
     "output_type": "execute_result"
    },
    {
     "data": {
      "image/png": "[encoded data removed]",
      "text/plain": [
       "<Figure size 432x288 with 1 Axes>"
      ]
     },
     "metadata": {
      "needs_background": "light"
     },
     "output_type": "display_data"
    }
   ],
   "source": [
    "pdf.start_year.hist()"
   ]
  },
  {
   "cell_type": "code",
   "execution_count": 57,
   "id": "exceptional-necklace",
   "metadata": {},
   "outputs": [],
   "source": [
    "active_projects = pdf[(pdf.start_dt < example_year) & (pdf.completion_dt > example_year)]"
   ]
  },
  {
   "cell_type": "code",
   "execution_count": 58,
   "id": "sudden-crowd",
   "metadata": {},
   "outputs": [
    {
     "data": {
      "text/html": [
       "<div>\n",
       "<style scoped>\n",
       "    .dataframe tbody tr th:only-of-type {\n",
       "        vertical-align: middle;\n",
       "    }\n",
       "\n",
       "    .dataframe tbody tr th {\n",
       "        vertical-align: top;\n",
       "    }\n",
       "\n",
       "    .dataframe thead th {\n",
       "        text-align: right;\n",
       "    }\n",
       "</style>\n",
       "<table border=\"1\" class=\"dataframe\">\n",
       "  <thead>\n",
       "    <tr style=\"text-align: right;\">\n",
       "      <th></th>\n",
       "      <th>country_code</th>\n",
       "      <th>donor_name</th>\n",
       "      <th>aiddata_sectorname</th>\n",
       "      <th>six_overall_rating</th>\n",
       "      <th>start_date</th>\n",
       "      <th>completion_date</th>\n",
       "      <th>project_duration</th>\n",
       "      <th>start_dt</th>\n",
       "      <th>start_year</th>\n",
       "      <th>completion_dt</th>\n",
       "      <th>end_year</th>\n",
       "    </tr>\n",
       "  </thead>\n",
       "  <tbody>\n",
       "    <tr>\n",
       "      <th>0</th>\n",
       "      <td>CHN</td>\n",
       "      <td>AsianDB</td>\n",
       "      <td>NaN</td>\n",
       "      <td>4.5</td>\n",
       "      <td>26nov1996</td>\n",
       "      <td>01jan2003</td>\n",
       "      <td>2555.0</td>\n",
       "      <td>1996-11-26</td>\n",
       "      <td>1996.0</td>\n",
       "      <td>2003-01-01</td>\n",
       "      <td>2003.0</td>\n",
       "    </tr>\n",
       "    <tr>\n",
       "      <th>7</th>\n",
       "      <td>NEP</td>\n",
       "      <td>AsianDB</td>\n",
       "      <td>NaN</td>\n",
       "      <td>4.5</td>\n",
       "      <td>21sep1995</td>\n",
       "      <td>01jan2003</td>\n",
       "      <td>2920.0</td>\n",
       "      <td>1995-09-21</td>\n",
       "      <td>1995.0</td>\n",
       "      <td>2003-01-01</td>\n",
       "      <td>2003.0</td>\n",
       "    </tr>\n",
       "    <tr>\n",
       "      <th>12</th>\n",
       "      <td>PHI</td>\n",
       "      <td>AsianDB</td>\n",
       "      <td>NaN</td>\n",
       "      <td>4.5</td>\n",
       "      <td>18dec1998</td>\n",
       "      <td>01jan2009</td>\n",
       "      <td>4015.0</td>\n",
       "      <td>1998-12-18</td>\n",
       "      <td>1998.0</td>\n",
       "      <td>2009-01-01</td>\n",
       "      <td>2009.0</td>\n",
       "    </tr>\n",
       "    <tr>\n",
       "      <th>29</th>\n",
       "      <td>THI</td>\n",
       "      <td>AsianDB</td>\n",
       "      <td>NaN</td>\n",
       "      <td>3.0</td>\n",
       "      <td>23sep1999</td>\n",
       "      <td>01jan2003</td>\n",
       "      <td>1460.0</td>\n",
       "      <td>1999-09-23</td>\n",
       "      <td>1999.0</td>\n",
       "      <td>2003-01-01</td>\n",
       "      <td>2003.0</td>\n",
       "    </tr>\n",
       "    <tr>\n",
       "      <th>39</th>\n",
       "      <td>CAM</td>\n",
       "      <td>AsianDB</td>\n",
       "      <td>NaN</td>\n",
       "      <td>4.5</td>\n",
       "      <td>20jun1996</td>\n",
       "      <td>01jan2001</td>\n",
       "      <td>1825.0</td>\n",
       "      <td>1996-06-20</td>\n",
       "      <td>1996.0</td>\n",
       "      <td>2001-01-01</td>\n",
       "      <td>2001.0</td>\n",
       "    </tr>\n",
       "  </tbody>\n",
       "</table>\n",
       "</div>"
      ],
      "text/plain": [
       "   country_code donor_name aiddata_sectorname  six_overall_rating start_date  \\\n",
       "0           CHN    AsianDB                NaN                 4.5  26nov1996   \n",
       "7           NEP    AsianDB                NaN                 4.5  21sep1995   \n",
       "12          PHI    AsianDB                NaN                 4.5  18dec1998   \n",
       "29          THI    AsianDB                NaN                 3.0  23sep1999   \n",
       "39          CAM    AsianDB                NaN                 4.5  20jun1996   \n",
       "\n",
       "   completion_date  project_duration   start_dt  start_year completion_dt  \\\n",
       "0        01jan2003            2555.0 1996-11-26      1996.0    2003-01-01   \n",
       "7        01jan2003            2920.0 1995-09-21      1995.0    2003-01-01   \n",
       "12       01jan2009            4015.0 1998-12-18      1998.0    2009-01-01   \n",
       "29       01jan2003            1460.0 1999-09-23      1999.0    2003-01-01   \n",
       "39       01jan2001            1825.0 1996-06-20      1996.0    2001-01-01   \n",
       "\n",
       "    end_year  \n",
       "0     2003.0  \n",
       "7     2003.0  \n",
       "12    2009.0  \n",
       "29    2003.0  \n",
       "39    2001.0  "
      ]
     },
     "execution_count": 58,
     "metadata": {},
     "output_type": "execute_result"
    }
   ],
   "source": [
    "active_projects.head()"
   ]
  },
  {
   "cell_type": "code",
   "execution_count": 59,
   "id": "bound-reservoir",
   "metadata": {},
   "outputs": [
    {
     "data": {
      "text/plain": [
       "2532"
      ]
     },
     "execution_count": 59,
     "metadata": {},
     "output_type": "execute_result"
    }
   ],
   "source": [
    "len(active_projects)"
   ]
  },
  {
   "cell_type": "code",
   "execution_count": 60,
   "id": "sporting-oasis",
   "metadata": {},
   "outputs": [],
   "source": [
    "example_lag_years = 5"
   ]
  },
  {
   "cell_type": "code",
   "execution_count": 61,
   "id": "alpine-pottery",
   "metadata": {},
   "outputs": [],
   "source": [
    "active_projects = pdf[(pdf.start_dt < example_year) & ((pdf.completion_dt + timedelta(days=(5*365))) > example_year)]"
   ]
  },
  {
   "cell_type": "code",
   "execution_count": 62,
   "id": "growing-attraction",
   "metadata": {},
   "outputs": [
    {
     "data": {
      "text/plain": [
       "4440"
      ]
     },
     "execution_count": 62,
     "metadata": {},
     "output_type": "execute_result"
    }
   ],
   "source": [
    "len(active_projects)"
   ]
  },
  {
   "cell_type": "code",
   "execution_count": 82,
   "id": "american-uncertainty",
   "metadata": {},
   "outputs": [],
   "source": [
    "total_countries = pdf.country_code.nunique()\n",
    "earliest_year = pdf.start_year.min()\n",
    "latest_year = pdf.start_year.max()"
   ]
  },
  {
   "cell_type": "code",
   "execution_count": 83,
   "id": "eligible-prompt",
   "metadata": {},
   "outputs": [
    {
     "data": {
      "text/plain": [
       "176"
      ]
     },
     "execution_count": 83,
     "metadata": {},
     "output_type": "execute_result"
    }
   ],
   "source": [
    "total_countries"
   ]
  },
  {
   "cell_type": "code",
   "execution_count": 73,
   "id": "prime-intranet",
   "metadata": {},
   "outputs": [],
   "source": [
    "year_range = range(int(earliest_year), int(latest_year))"
   ]
  },
  {
   "cell_type": "code",
   "execution_count": 74,
   "id": "stuffed-stuart",
   "metadata": {},
   "outputs": [
    {
     "data": {
      "text/plain": [
       "Agriculture     2103\n",
       "Transport       1632\n",
       "Health          1479\n",
       "Other           1424\n",
       "Energy          1175\n",
       "Governance      1130\n",
       "Wash            1002\n",
       "Education        958\n",
       "Industry         681\n",
       "Debt             534\n",
       "Humanitarian     490\n",
       "Finance          444\n",
       "Environment      308\n",
       "Telecom          256\n",
       "Mineral          205\n",
       "Housing           81\n",
       "Trade             69\n",
       "Name: sector, dtype: int64"
      ]
     },
     "execution_count": 74,
     "metadata": {},
     "output_type": "execute_result"
    }
   ],
   "source": [
    "pdf.sector.value_counts()"
   ]
  },
  {
   "cell_type": "code",
   "execution_count": 101,
   "id": "structural-density",
   "metadata": {},
   "outputs": [],
   "source": [
    "def count_countries_in_window(year_lag=5, in_sector=None):\n",
    "    countries_with_active_projects = []\n",
    "    for year in year_range:\n",
    "        ref_year = datetime(year, 1, 1)\n",
    "        \n",
    "        active_mask = pdf.start_dt < ref_year\n",
    "        lag_mask = (pdf.completion_dt + timedelta(days=(5*365))) > ref_year\n",
    "        active_plus_lag_mask = active_mask & lag_mask\n",
    "        sector_mask = pdf.sector == in_sector\n",
    "        \n",
    "        final_mask = (active_plus_lag_mask & sector_mask) if in_sector is not None else active_plus_lag_mask\n",
    "        \n",
    "        countries_with_active_projects.append(pdf[final_mask].country_code.nunique())\n",
    "    \n",
    "    prop_countries_untreated = [1 - count / total_countries for count in countries_with_active_projects]\n",
    "    return prop_countries_untreated"
   ]
  },
  {
   "cell_type": "code",
   "execution_count": 102,
   "id": "behavioral-projector",
   "metadata": {},
   "outputs": [
    {
     "data": {
      "text/plain": [
       "[<matplotlib.lines.Line2D at 0x7f6771f57f10>]"
      ]
     },
     "execution_count": 102,
     "metadata": {},
     "output_type": "execute_result"
    },
    {
     "data": {
      "image/png": "[encoded data removed]",
      "text/plain": [
       "<Figure size 432x288 with 1 Axes>"
      ]
     },
     "metadata": {
      "needs_background": "light"
     },
     "output_type": "display_data"
    }
   ],
   "source": [
    "fig, ax = plt.subplots()\n",
    "ax.plot(year_range, count_countries_in_window(year_lag=0))"
   ]
  },
  {
   "cell_type": "code",
   "execution_count": 103,
   "id": "imposed-empty",
   "metadata": {},
   "outputs": [
    {
     "data": {
      "text/plain": [
       "(0.0, 1.0)"
      ]
     },
     "execution_count": 103,
     "metadata": {},
     "output_type": "execute_result"
    },
    {
     "data": {
      "image/png": "[encoded data removed]",
      "text/plain": [
       "<Figure size 432x288 with 1 Axes>"
      ]
     },
     "metadata": {
      "needs_background": "light"
     },
     "output_type": "display_data"
    }
   ],
   "source": [
    "fig, ax = plt.subplots()\n",
    "ax.plot(year_range, count_countries_in_window())\n",
    "ax.set_ylim([0, 1])"
   ]
  },
  {
   "cell_type": "code",
   "execution_count": 104,
   "id": "eligible-writer",
   "metadata": {},
   "outputs": [
    {
     "data": {
      "text/plain": [
       "(0.0, 1.0)"
      ]
     },
     "execution_count": 104,
     "metadata": {},
     "output_type": "execute_result"
    },
    {
     "data": {
      "image/png": "[encoded data removed]",
      "text/plain": [
       "<Figure size 432x288 with 1 Axes>"
      ]
     },
     "metadata": {
      "needs_background": "light"
     },
     "output_type": "display_data"
    }
   ],
   "source": [
    "fig, ax = plt.subplots()\n",
    "ax.plot(year_range, count_countries_in_window(year_lag=5, in_sector='Education'))\n",
    "ax.set_ylim([0, 1])"
   ]
  },
  {
   "cell_type": "markdown",
   "id": "attended-massage",
   "metadata": {},
   "source": [
    "** In other words: can only get to binary using sectors"
   ]
  },
  {
   "cell_type": "code",
   "execution_count": 105,
   "id": "occasional-painting",
   "metadata": {},
   "outputs": [],
   "source": [
    "assemble_sector_dict = lambda sector: dict(zip(year_range, count_countries_in_window(year_lag=5, in_sector=sector)))\n",
    "# mean_sector_treat = lambda sector: "
   ]
  },
  {
   "cell_type": "code",
   "execution_count": 118,
   "id": "solved-gibraltar",
   "metadata": {},
   "outputs": [],
   "source": [
    "def calc_sector_post_year_gaps(sector, year):\n",
    "    sector_post_year = [value for key, value in assemble_sector_dict(sector).items() if key >= year]\n",
    "    mean_post_year = sum(sector_post_year) / len(sector_post_year)\n",
    "    return mean_post_year"
   ]
  },
  {
   "cell_type": "code",
   "execution_count": 119,
   "id": "nearby-ecuador",
   "metadata": {},
   "outputs": [
    {
     "data": {
      "text/plain": [
       "0.5015495867768593"
      ]
     },
     "execution_count": 119,
     "metadata": {},
     "output_type": "execute_result"
    }
   ],
   "source": [
    "calc_sector_post_year_gaps('Education', 1990)"
   ]
  },
  {
   "cell_type": "code",
   "execution_count": 192,
   "id": "studied-language",
   "metadata": {},
   "outputs": [],
   "source": [
    "sector_aggs = sector_aggs.reset_index()"
   ]
  },
  {
   "cell_type": "code",
   "execution_count": 193,
   "id": "tested-armstrong",
   "metadata": {},
   "outputs": [],
   "source": [
    "sector_aggs['mean_gap'] = sector_aggs['sector'].apply(lambda sector: calc_sector_post_year_gaps(sector, 1990))"
   ]
  },
  {
   "cell_type": "code",
   "execution_count": 194,
   "id": "integrated-history",
   "metadata": {},
   "outputs": [
    {
     "data": {
      "text/html": [
       "<div>\n",
       "<style scoped>\n",
       "    .dataframe tbody tr th:only-of-type {\n",
       "        vertical-align: middle;\n",
       "    }\n",
       "\n",
       "    .dataframe tbody tr th {\n",
       "        vertical-align: top;\n",
       "    }\n",
       "\n",
       "    .dataframe thead th {\n",
       "        text-align: right;\n",
       "    }\n",
       "</style>\n",
       "<table border=\"1\" class=\"dataframe\">\n",
       "  <thead>\n",
       "    <tr style=\"text-align: right;\">\n",
       "      <th></th>\n",
       "      <th>sector</th>\n",
       "      <th>number_projects</th>\n",
       "      <th>earliest_year</th>\n",
       "      <th>latest_project</th>\n",
       "      <th>number_donors</th>\n",
       "      <th>avg_rating</th>\n",
       "      <th>avg_duration</th>\n",
       "      <th>mean_gap</th>\n",
       "    </tr>\n",
       "  </thead>\n",
       "  <tbody>\n",
       "    <tr>\n",
       "      <th>14</th>\n",
       "      <td>Trade</td>\n",
       "      <td>69</td>\n",
       "      <td>1980-12-06</td>\n",
       "      <td>2008-01-01</td>\n",
       "      <td>5</td>\n",
       "      <td>4.436765</td>\n",
       "      <td>1220.812500</td>\n",
       "      <td>0.938533</td>\n",
       "    </tr>\n",
       "    <tr>\n",
       "      <th>8</th>\n",
       "      <td>Housing</td>\n",
       "      <td>87</td>\n",
       "      <td>1977-01-01</td>\n",
       "      <td>2008-01-01</td>\n",
       "      <td>4</td>\n",
       "      <td>4.202469</td>\n",
       "      <td>2399.043478</td>\n",
       "      <td>0.891012</td>\n",
       "    </tr>\n",
       "    <tr>\n",
       "      <th>9</th>\n",
       "      <td>Humanitarian</td>\n",
       "      <td>496</td>\n",
       "      <td>1975-04-11</td>\n",
       "      <td>2009-01-01</td>\n",
       "      <td>6</td>\n",
       "      <td>4.808554</td>\n",
       "      <td>1644.445455</td>\n",
       "      <td>0.859762</td>\n",
       "    </tr>\n",
       "    <tr>\n",
       "      <th>1</th>\n",
       "      <td>Debt</td>\n",
       "      <td>536</td>\n",
       "      <td>1963-01-01</td>\n",
       "      <td>2003-01-01</td>\n",
       "      <td>4</td>\n",
       "      <td>3.932458</td>\n",
       "      <td>2299.308851</td>\n",
       "      <td>0.857438</td>\n",
       "    </tr>\n",
       "    <tr>\n",
       "      <th>11</th>\n",
       "      <td>Mineral</td>\n",
       "      <td>206</td>\n",
       "      <td>1964-01-01</td>\n",
       "      <td>2005-01-01</td>\n",
       "      <td>5</td>\n",
       "      <td>4.178537</td>\n",
       "      <td>2166.837438</td>\n",
       "      <td>0.844783</td>\n",
       "    </tr>\n",
       "    <tr>\n",
       "      <th>13</th>\n",
       "      <td>Telecom</td>\n",
       "      <td>256</td>\n",
       "      <td>1967-01-01</td>\n",
       "      <td>2006-06-01</td>\n",
       "      <td>5</td>\n",
       "      <td>4.725397</td>\n",
       "      <td>2315.410359</td>\n",
       "      <td>0.787707</td>\n",
       "    </tr>\n",
       "    <tr>\n",
       "      <th>4</th>\n",
       "      <td>Environment</td>\n",
       "      <td>311</td>\n",
       "      <td>1974-01-01</td>\n",
       "      <td>2010-03-16</td>\n",
       "      <td>7</td>\n",
       "      <td>4.354027</td>\n",
       "      <td>2601.019531</td>\n",
       "      <td>0.747934</td>\n",
       "    </tr>\n",
       "    <tr>\n",
       "      <th>10</th>\n",
       "      <td>Industry</td>\n",
       "      <td>695</td>\n",
       "      <td>1962-01-01</td>\n",
       "      <td>2008-06-05</td>\n",
       "      <td>7</td>\n",
       "      <td>3.945627</td>\n",
       "      <td>2291.059200</td>\n",
       "      <td>0.686209</td>\n",
       "    </tr>\n",
       "    <tr>\n",
       "      <th>5</th>\n",
       "      <td>Finance</td>\n",
       "      <td>662</td>\n",
       "      <td>1968-01-01</td>\n",
       "      <td>2010-01-01</td>\n",
       "      <td>7</td>\n",
       "      <td>4.130533</td>\n",
       "      <td>1993.956098</td>\n",
       "      <td>0.652118</td>\n",
       "    </tr>\n",
       "    <tr>\n",
       "      <th>6</th>\n",
       "      <td>Governance</td>\n",
       "      <td>1132</td>\n",
       "      <td>1969-01-01</td>\n",
       "      <td>2010-12-01</td>\n",
       "      <td>7</td>\n",
       "      <td>4.209571</td>\n",
       "      <td>1756.464342</td>\n",
       "      <td>0.556818</td>\n",
       "    </tr>\n",
       "    <tr>\n",
       "      <th>3</th>\n",
       "      <td>Energy</td>\n",
       "      <td>1180</td>\n",
       "      <td>1960-01-01</td>\n",
       "      <td>2008-07-02</td>\n",
       "      <td>6</td>\n",
       "      <td>4.363322</td>\n",
       "      <td>2587.785095</td>\n",
       "      <td>0.542355</td>\n",
       "    </tr>\n",
       "    <tr>\n",
       "      <th>2</th>\n",
       "      <td>Education</td>\n",
       "      <td>964</td>\n",
       "      <td>1964-01-01</td>\n",
       "      <td>2009-10-09</td>\n",
       "      <td>6</td>\n",
       "      <td>4.345599</td>\n",
       "      <td>2417.854041</td>\n",
       "      <td>0.501550</td>\n",
       "    </tr>\n",
       "    <tr>\n",
       "      <th>7</th>\n",
       "      <td>Health</td>\n",
       "      <td>1482</td>\n",
       "      <td>1970-01-01</td>\n",
       "      <td>2012-01-01</td>\n",
       "      <td>8</td>\n",
       "      <td>4.507777</td>\n",
       "      <td>1959.853617</td>\n",
       "      <td>0.489153</td>\n",
       "    </tr>\n",
       "    <tr>\n",
       "      <th>12</th>\n",
       "      <td>Other</td>\n",
       "      <td>1484</td>\n",
       "      <td>1963-10-07</td>\n",
       "      <td>2010-01-01</td>\n",
       "      <td>7</td>\n",
       "      <td>4.185764</td>\n",
       "      <td>2022.001643</td>\n",
       "      <td>0.488120</td>\n",
       "    </tr>\n",
       "    <tr>\n",
       "      <th>0</th>\n",
       "      <td>Agriculture</td>\n",
       "      <td>2139</td>\n",
       "      <td>1961-01-01</td>\n",
       "      <td>2010-04-01</td>\n",
       "      <td>7</td>\n",
       "      <td>3.945315</td>\n",
       "      <td>2688.239551</td>\n",
       "      <td>0.475723</td>\n",
       "    </tr>\n",
       "    <tr>\n",
       "      <th>16</th>\n",
       "      <td>Wash</td>\n",
       "      <td>1009</td>\n",
       "      <td>1964-01-01</td>\n",
       "      <td>2008-09-12</td>\n",
       "      <td>7</td>\n",
       "      <td>4.115170</td>\n",
       "      <td>2793.927521</td>\n",
       "      <td>0.470558</td>\n",
       "    </tr>\n",
       "    <tr>\n",
       "      <th>15</th>\n",
       "      <td>Transport</td>\n",
       "      <td>1643</td>\n",
       "      <td>1956-01-01</td>\n",
       "      <td>2008-03-17</td>\n",
       "      <td>5</td>\n",
       "      <td>4.385547</td>\n",
       "      <td>2549.416404</td>\n",
       "      <td>0.469267</td>\n",
       "    </tr>\n",
       "  </tbody>\n",
       "</table>\n",
       "</div>"
      ],
      "text/plain": [
       "          sector  number_projects earliest_year latest_project  number_donors  \\\n",
       "14         Trade               69    1980-12-06     2008-01-01              5   \n",
       "8        Housing               87    1977-01-01     2008-01-01              4   \n",
       "9   Humanitarian              496    1975-04-11     2009-01-01              6   \n",
       "1           Debt              536    1963-01-01     2003-01-01              4   \n",
       "11       Mineral              206    1964-01-01     2005-01-01              5   \n",
       "13       Telecom              256    1967-01-01     2006-06-01              5   \n",
       "4    Environment              311    1974-01-01     2010-03-16              7   \n",
       "10      Industry              695    1962-01-01     2008-06-05              7   \n",
       "5        Finance              662    1968-01-01     2010-01-01              7   \n",
       "6     Governance             1132    1969-01-01     2010-12-01              7   \n",
       "3         Energy             1180    1960-01-01     2008-07-02              6   \n",
       "2      Education              964    1964-01-01     2009-10-09              6   \n",
       "7         Health             1482    1970-01-01     2012-01-01              8   \n",
       "12         Other             1484    1963-10-07     2010-01-01              7   \n",
       "0    Agriculture             2139    1961-01-01     2010-04-01              7   \n",
       "16          Wash             1009    1964-01-01     2008-09-12              7   \n",
       "15     Transport             1643    1956-01-01     2008-03-17              5   \n",
       "\n",
       "    avg_rating  avg_duration  mean_gap  \n",
       "14    4.436765   1220.812500  0.938533  \n",
       "8     4.202469   2399.043478  0.891012  \n",
       "9     4.808554   1644.445455  0.859762  \n",
       "1     3.932458   2299.308851  0.857438  \n",
       "11    4.178537   2166.837438  0.844783  \n",
       "13    4.725397   2315.410359  0.787707  \n",
       "4     4.354027   2601.019531  0.747934  \n",
       "10    3.945627   2291.059200  0.686209  \n",
       "5     4.130533   1993.956098  0.652118  \n",
       "6     4.209571   1756.464342  0.556818  \n",
       "3     4.363322   2587.785095  0.542355  \n",
       "2     4.345599   2417.854041  0.501550  \n",
       "7     4.507777   1959.853617  0.489153  \n",
       "12    4.185764   2022.001643  0.488120  \n",
       "0     3.945315   2688.239551  0.475723  \n",
       "16    4.115170   2793.927521  0.470558  \n",
       "15    4.385547   2549.416404  0.469267  "
      ]
     },
     "execution_count": 194,
     "metadata": {},
     "output_type": "execute_result"
    }
   ],
   "source": [
    "sector_aggs.sort_values(['mean_gap', 'number_projects'], ascending=False)"
   ]
  },
  {
   "cell_type": "code",
   "execution_count": 195,
   "id": "inclusive-medline",
   "metadata": {},
   "outputs": [
    {
     "data": {
      "text/plain": [
       "WB         7146\n",
       "KfW        2229\n",
       "DFID       1917\n",
       "AsianDB    1572\n",
       "JICA        723\n",
       "GFATM       581\n",
       "GiZ         129\n",
       "IFAD         55\n",
       "Name: donor_name, dtype: int64"
      ]
     },
     "execution_count": 195,
     "metadata": {},
     "output_type": "execute_result"
    }
   ],
   "source": [
    "project_df.donor_name.value_counts()"
   ]
  },
  {
   "cell_type": "code",
   "execution_count": 196,
   "id": "serious-ocean",
   "metadata": {},
   "outputs": [],
   "source": [
    "post_1990_wb_proj_mask = (project_df.start_dt.dt.year > 1990) & (project_df.donor_name == 'WB') \n",
    "post_1990_wb_proj_count = project_df[post_1990_wb_proj_mask].groupby('sector', as_index=False).agg(\n",
    "    wb_1990_proj_count=('ppd_project_id', 'nunique'),\n",
    "    wb_1990_rating_mean=('six_overall_rating', 'mean'),\n",
    "    wb_1990_rating_dev=('six_overall_rating', 'std'),\n",
    "    wb_loan_amount=('wb_lendingproject_cost', 'sum')\n",
    ")"
   ]
  },
  {
   "cell_type": "code",
   "execution_count": 197,
   "id": "revolutionary-myanmar",
   "metadata": {},
   "outputs": [
    {
     "data": {
      "text/html": [
       "<div>\n",
       "<style scoped>\n",
       "    .dataframe tbody tr th:only-of-type {\n",
       "        vertical-align: middle;\n",
       "    }\n",
       "\n",
       "    .dataframe tbody tr th {\n",
       "        vertical-align: top;\n",
       "    }\n",
       "\n",
       "    .dataframe thead th {\n",
       "        text-align: right;\n",
       "    }\n",
       "</style>\n",
       "<table border=\"1\" class=\"dataframe\">\n",
       "  <thead>\n",
       "    <tr style=\"text-align: right;\">\n",
       "      <th></th>\n",
       "      <th>sector</th>\n",
       "      <th>wb_1990_proj_count</th>\n",
       "      <th>wb_1990_rating_mean</th>\n",
       "      <th>wb_1990_rating_dev</th>\n",
       "      <th>wb_loan_amount</th>\n",
       "    </tr>\n",
       "  </thead>\n",
       "  <tbody>\n",
       "    <tr>\n",
       "      <th>0</th>\n",
       "      <td>Agriculture</td>\n",
       "      <td>300</td>\n",
       "      <td>4.064846</td>\n",
       "      <td>1.143427</td>\n",
       "      <td>3.355578e+10</td>\n",
       "    </tr>\n",
       "    <tr>\n",
       "      <th>1</th>\n",
       "      <td>Debt</td>\n",
       "      <td>134</td>\n",
       "      <td>4.029851</td>\n",
       "      <td>1.291617</td>\n",
       "      <td>8.778601e+09</td>\n",
       "    </tr>\n",
       "    <tr>\n",
       "      <th>2</th>\n",
       "      <td>Education</td>\n",
       "      <td>287</td>\n",
       "      <td>4.188612</td>\n",
       "      <td>1.012429</td>\n",
       "      <td>4.145720e+10</td>\n",
       "    </tr>\n",
       "    <tr>\n",
       "      <th>3</th>\n",
       "      <td>Energy</td>\n",
       "      <td>201</td>\n",
       "      <td>4.113990</td>\n",
       "      <td>1.248942</td>\n",
       "      <td>7.666548e+10</td>\n",
       "    </tr>\n",
       "    <tr>\n",
       "      <th>4</th>\n",
       "      <td>Environment</td>\n",
       "      <td>133</td>\n",
       "      <td>4.269231</td>\n",
       "      <td>0.938318</td>\n",
       "      <td>7.041919e+09</td>\n",
       "    </tr>\n",
       "    <tr>\n",
       "      <th>5</th>\n",
       "      <td>Finance</td>\n",
       "      <td>173</td>\n",
       "      <td>4.205882</td>\n",
       "      <td>1.166074</td>\n",
       "      <td>2.520311e+10</td>\n",
       "    </tr>\n",
       "    <tr>\n",
       "      <th>6</th>\n",
       "      <td>Governance</td>\n",
       "      <td>394</td>\n",
       "      <td>4.072165</td>\n",
       "      <td>1.120607</td>\n",
       "      <td>3.560972e+10</td>\n",
       "    </tr>\n",
       "    <tr>\n",
       "      <th>7</th>\n",
       "      <td>Health</td>\n",
       "      <td>248</td>\n",
       "      <td>4.028689</td>\n",
       "      <td>1.134566</td>\n",
       "      <td>2.699627e+10</td>\n",
       "    </tr>\n",
       "    <tr>\n",
       "      <th>8</th>\n",
       "      <td>Housing</td>\n",
       "      <td>20</td>\n",
       "      <td>4.000000</td>\n",
       "      <td>1.028992</td>\n",
       "      <td>6.003468e+09</td>\n",
       "    </tr>\n",
       "    <tr>\n",
       "      <th>9</th>\n",
       "      <td>Humanitarian</td>\n",
       "      <td>30</td>\n",
       "      <td>4.166667</td>\n",
       "      <td>1.176885</td>\n",
       "      <td>6.459889e+09</td>\n",
       "    </tr>\n",
       "    <tr>\n",
       "      <th>10</th>\n",
       "      <td>Industry</td>\n",
       "      <td>102</td>\n",
       "      <td>3.851485</td>\n",
       "      <td>1.388425</td>\n",
       "      <td>1.053125e+10</td>\n",
       "    </tr>\n",
       "    <tr>\n",
       "      <th>11</th>\n",
       "      <td>Mineral</td>\n",
       "      <td>54</td>\n",
       "      <td>4.111111</td>\n",
       "      <td>1.176286</td>\n",
       "      <td>1.477038e+10</td>\n",
       "    </tr>\n",
       "    <tr>\n",
       "      <th>12</th>\n",
       "      <td>Other</td>\n",
       "      <td>526</td>\n",
       "      <td>4.239216</td>\n",
       "      <td>1.130759</td>\n",
       "      <td>8.857610e+10</td>\n",
       "    </tr>\n",
       "    <tr>\n",
       "      <th>13</th>\n",
       "      <td>Telecom</td>\n",
       "      <td>38</td>\n",
       "      <td>4.405405</td>\n",
       "      <td>1.141623</td>\n",
       "      <td>8.788044e+09</td>\n",
       "    </tr>\n",
       "    <tr>\n",
       "      <th>14</th>\n",
       "      <td>Trade</td>\n",
       "      <td>24</td>\n",
       "      <td>4.416667</td>\n",
       "      <td>0.653863</td>\n",
       "      <td>1.303380e+09</td>\n",
       "    </tr>\n",
       "    <tr>\n",
       "      <th>15</th>\n",
       "      <td>Transport</td>\n",
       "      <td>267</td>\n",
       "      <td>4.494297</td>\n",
       "      <td>0.956579</td>\n",
       "      <td>7.121682e+10</td>\n",
       "    </tr>\n",
       "    <tr>\n",
       "      <th>16</th>\n",
       "      <td>Wash</td>\n",
       "      <td>190</td>\n",
       "      <td>4.058201</td>\n",
       "      <td>1.203629</td>\n",
       "      <td>2.977144e+10</td>\n",
       "    </tr>\n",
       "  </tbody>\n",
       "</table>\n",
       "</div>"
      ],
      "text/plain": [
       "          sector  wb_1990_proj_count  wb_1990_rating_mean  wb_1990_rating_dev  \\\n",
       "0    Agriculture                 300             4.064846            1.143427   \n",
       "1           Debt                 134             4.029851            1.291617   \n",
       "2      Education                 287             4.188612            1.012429   \n",
       "3         Energy                 201             4.113990            1.248942   \n",
       "4    Environment                 133             4.269231            0.938318   \n",
       "5        Finance                 173             4.205882            1.166074   \n",
       "6     Governance                 394             4.072165            1.120607   \n",
       "7         Health                 248             4.028689            1.134566   \n",
       "8        Housing                  20             4.000000            1.028992   \n",
       "9   Humanitarian                  30             4.166667            1.176885   \n",
       "10      Industry                 102             3.851485            1.388425   \n",
       "11       Mineral                  54             4.111111            1.176286   \n",
       "12         Other                 526             4.239216            1.130759   \n",
       "13       Telecom                  38             4.405405            1.141623   \n",
       "14         Trade                  24             4.416667            0.653863   \n",
       "15     Transport                 267             4.494297            0.956579   \n",
       "16          Wash                 190             4.058201            1.203629   \n",
       "\n",
       "    wb_loan_amount  \n",
       "0     3.355578e+10  \n",
       "1     8.778601e+09  \n",
       "2     4.145720e+10  \n",
       "3     7.666548e+10  \n",
       "4     7.041919e+09  \n",
       "5     2.520311e+10  \n",
       "6     3.560972e+10  \n",
       "7     2.699627e+10  \n",
       "8     6.003468e+09  \n",
       "9     6.459889e+09  \n",
       "10    1.053125e+10  \n",
       "11    1.477038e+10  \n",
       "12    8.857610e+10  \n",
       "13    8.788044e+09  \n",
       "14    1.303380e+09  \n",
       "15    7.121682e+10  \n",
       "16    2.977144e+10  "
      ]
     },
     "execution_count": 197,
     "metadata": {},
     "output_type": "execute_result"
    }
   ],
   "source": [
    "post_1990_wb_proj_count"
   ]
  },
  {
   "cell_type": "code",
   "execution_count": 198,
   "id": "yellow-conjunction",
   "metadata": {},
   "outputs": [],
   "source": [
    "sector_aggs = sector_aggs.merge(post_1990_wb_proj_count, how='left', on='sector')"
   ]
  },
  {
   "cell_type": "code",
   "execution_count": 199,
   "id": "adjusted-durham",
   "metadata": {},
   "outputs": [],
   "source": [
    "sector_aggs['wb_loan_amount'] = sector_aggs['wb_loan_amount'] / 1e9"
   ]
  },
  {
   "cell_type": "code",
   "execution_count": 200,
   "id": "verbal-restaurant",
   "metadata": {},
   "outputs": [
    {
     "data": {
      "text/html": [
       "<div>\n",
       "<style scoped>\n",
       "    .dataframe tbody tr th:only-of-type {\n",
       "        vertical-align: middle;\n",
       "    }\n",
       "\n",
       "    .dataframe tbody tr th {\n",
       "        vertical-align: top;\n",
       "    }\n",
       "\n",
       "    .dataframe thead th {\n",
       "        text-align: right;\n",
       "    }\n",
       "</style>\n",
       "<table border=\"1\" class=\"dataframe\">\n",
       "  <thead>\n",
       "    <tr style=\"text-align: right;\">\n",
       "      <th></th>\n",
       "      <th>sector</th>\n",
       "      <th>number_projects</th>\n",
       "      <th>earliest_year</th>\n",
       "      <th>latest_project</th>\n",
       "      <th>number_donors</th>\n",
       "      <th>avg_rating</th>\n",
       "      <th>avg_duration</th>\n",
       "      <th>mean_gap</th>\n",
       "      <th>wb_1990_proj_count</th>\n",
       "      <th>wb_1990_rating_mean</th>\n",
       "      <th>wb_1990_rating_dev</th>\n",
       "      <th>wb_loan_amount</th>\n",
       "    </tr>\n",
       "  </thead>\n",
       "  <tbody>\n",
       "    <tr>\n",
       "      <th>12</th>\n",
       "      <td>Other</td>\n",
       "      <td>1484</td>\n",
       "      <td>1963-10-07</td>\n",
       "      <td>2010-01-01</td>\n",
       "      <td>7</td>\n",
       "      <td>4.185764</td>\n",
       "      <td>2022.001643</td>\n",
       "      <td>0.488120</td>\n",
       "      <td>526</td>\n",
       "      <td>4.239216</td>\n",
       "      <td>1.130759</td>\n",
       "      <td>88.576101</td>\n",
       "    </tr>\n",
       "    <tr>\n",
       "      <th>6</th>\n",
       "      <td>Governance</td>\n",
       "      <td>1132</td>\n",
       "      <td>1969-01-01</td>\n",
       "      <td>2010-12-01</td>\n",
       "      <td>7</td>\n",
       "      <td>4.209571</td>\n",
       "      <td>1756.464342</td>\n",
       "      <td>0.556818</td>\n",
       "      <td>394</td>\n",
       "      <td>4.072165</td>\n",
       "      <td>1.120607</td>\n",
       "      <td>35.609716</td>\n",
       "    </tr>\n",
       "    <tr>\n",
       "      <th>0</th>\n",
       "      <td>Agriculture</td>\n",
       "      <td>2139</td>\n",
       "      <td>1961-01-01</td>\n",
       "      <td>2010-04-01</td>\n",
       "      <td>7</td>\n",
       "      <td>3.945315</td>\n",
       "      <td>2688.239551</td>\n",
       "      <td>0.475723</td>\n",
       "      <td>300</td>\n",
       "      <td>4.064846</td>\n",
       "      <td>1.143427</td>\n",
       "      <td>33.555783</td>\n",
       "    </tr>\n",
       "    <tr>\n",
       "      <th>2</th>\n",
       "      <td>Education</td>\n",
       "      <td>964</td>\n",
       "      <td>1964-01-01</td>\n",
       "      <td>2009-10-09</td>\n",
       "      <td>6</td>\n",
       "      <td>4.345599</td>\n",
       "      <td>2417.854041</td>\n",
       "      <td>0.501550</td>\n",
       "      <td>287</td>\n",
       "      <td>4.188612</td>\n",
       "      <td>1.012429</td>\n",
       "      <td>41.457200</td>\n",
       "    </tr>\n",
       "    <tr>\n",
       "      <th>15</th>\n",
       "      <td>Transport</td>\n",
       "      <td>1643</td>\n",
       "      <td>1956-01-01</td>\n",
       "      <td>2008-03-17</td>\n",
       "      <td>5</td>\n",
       "      <td>4.385547</td>\n",
       "      <td>2549.416404</td>\n",
       "      <td>0.469267</td>\n",
       "      <td>267</td>\n",
       "      <td>4.494297</td>\n",
       "      <td>0.956579</td>\n",
       "      <td>71.216821</td>\n",
       "    </tr>\n",
       "    <tr>\n",
       "      <th>7</th>\n",
       "      <td>Health</td>\n",
       "      <td>1482</td>\n",
       "      <td>1970-01-01</td>\n",
       "      <td>2012-01-01</td>\n",
       "      <td>8</td>\n",
       "      <td>4.507777</td>\n",
       "      <td>1959.853617</td>\n",
       "      <td>0.489153</td>\n",
       "      <td>248</td>\n",
       "      <td>4.028689</td>\n",
       "      <td>1.134566</td>\n",
       "      <td>26.996274</td>\n",
       "    </tr>\n",
       "    <tr>\n",
       "      <th>3</th>\n",
       "      <td>Energy</td>\n",
       "      <td>1180</td>\n",
       "      <td>1960-01-01</td>\n",
       "      <td>2008-07-02</td>\n",
       "      <td>6</td>\n",
       "      <td>4.363322</td>\n",
       "      <td>2587.785095</td>\n",
       "      <td>0.542355</td>\n",
       "      <td>201</td>\n",
       "      <td>4.113990</td>\n",
       "      <td>1.248942</td>\n",
       "      <td>76.665484</td>\n",
       "    </tr>\n",
       "    <tr>\n",
       "      <th>16</th>\n",
       "      <td>Wash</td>\n",
       "      <td>1009</td>\n",
       "      <td>1964-01-01</td>\n",
       "      <td>2008-09-12</td>\n",
       "      <td>7</td>\n",
       "      <td>4.115170</td>\n",
       "      <td>2793.927521</td>\n",
       "      <td>0.470558</td>\n",
       "      <td>190</td>\n",
       "      <td>4.058201</td>\n",
       "      <td>1.203629</td>\n",
       "      <td>29.771444</td>\n",
       "    </tr>\n",
       "    <tr>\n",
       "      <th>5</th>\n",
       "      <td>Finance</td>\n",
       "      <td>662</td>\n",
       "      <td>1968-01-01</td>\n",
       "      <td>2010-01-01</td>\n",
       "      <td>7</td>\n",
       "      <td>4.130533</td>\n",
       "      <td>1993.956098</td>\n",
       "      <td>0.652118</td>\n",
       "      <td>173</td>\n",
       "      <td>4.205882</td>\n",
       "      <td>1.166074</td>\n",
       "      <td>25.203108</td>\n",
       "    </tr>\n",
       "    <tr>\n",
       "      <th>1</th>\n",
       "      <td>Debt</td>\n",
       "      <td>536</td>\n",
       "      <td>1963-01-01</td>\n",
       "      <td>2003-01-01</td>\n",
       "      <td>4</td>\n",
       "      <td>3.932458</td>\n",
       "      <td>2299.308851</td>\n",
       "      <td>0.857438</td>\n",
       "      <td>134</td>\n",
       "      <td>4.029851</td>\n",
       "      <td>1.291617</td>\n",
       "      <td>8.778601</td>\n",
       "    </tr>\n",
       "    <tr>\n",
       "      <th>4</th>\n",
       "      <td>Environment</td>\n",
       "      <td>311</td>\n",
       "      <td>1974-01-01</td>\n",
       "      <td>2010-03-16</td>\n",
       "      <td>7</td>\n",
       "      <td>4.354027</td>\n",
       "      <td>2601.019531</td>\n",
       "      <td>0.747934</td>\n",
       "      <td>133</td>\n",
       "      <td>4.269231</td>\n",
       "      <td>0.938318</td>\n",
       "      <td>7.041919</td>\n",
       "    </tr>\n",
       "    <tr>\n",
       "      <th>10</th>\n",
       "      <td>Industry</td>\n",
       "      <td>695</td>\n",
       "      <td>1962-01-01</td>\n",
       "      <td>2008-06-05</td>\n",
       "      <td>7</td>\n",
       "      <td>3.945627</td>\n",
       "      <td>2291.059200</td>\n",
       "      <td>0.686209</td>\n",
       "      <td>102</td>\n",
       "      <td>3.851485</td>\n",
       "      <td>1.388425</td>\n",
       "      <td>10.531254</td>\n",
       "    </tr>\n",
       "    <tr>\n",
       "      <th>11</th>\n",
       "      <td>Mineral</td>\n",
       "      <td>206</td>\n",
       "      <td>1964-01-01</td>\n",
       "      <td>2005-01-01</td>\n",
       "      <td>5</td>\n",
       "      <td>4.178537</td>\n",
       "      <td>2166.837438</td>\n",
       "      <td>0.844783</td>\n",
       "      <td>54</td>\n",
       "      <td>4.111111</td>\n",
       "      <td>1.176286</td>\n",
       "      <td>14.770380</td>\n",
       "    </tr>\n",
       "    <tr>\n",
       "      <th>13</th>\n",
       "      <td>Telecom</td>\n",
       "      <td>256</td>\n",
       "      <td>1967-01-01</td>\n",
       "      <td>2006-06-01</td>\n",
       "      <td>5</td>\n",
       "      <td>4.725397</td>\n",
       "      <td>2315.410359</td>\n",
       "      <td>0.787707</td>\n",
       "      <td>38</td>\n",
       "      <td>4.405405</td>\n",
       "      <td>1.141623</td>\n",
       "      <td>8.788044</td>\n",
       "    </tr>\n",
       "    <tr>\n",
       "      <th>9</th>\n",
       "      <td>Humanitarian</td>\n",
       "      <td>496</td>\n",
       "      <td>1975-04-11</td>\n",
       "      <td>2009-01-01</td>\n",
       "      <td>6</td>\n",
       "      <td>4.808554</td>\n",
       "      <td>1644.445455</td>\n",
       "      <td>0.859762</td>\n",
       "      <td>30</td>\n",
       "      <td>4.166667</td>\n",
       "      <td>1.176885</td>\n",
       "      <td>6.459889</td>\n",
       "    </tr>\n",
       "    <tr>\n",
       "      <th>14</th>\n",
       "      <td>Trade</td>\n",
       "      <td>69</td>\n",
       "      <td>1980-12-06</td>\n",
       "      <td>2008-01-01</td>\n",
       "      <td>5</td>\n",
       "      <td>4.436765</td>\n",
       "      <td>1220.812500</td>\n",
       "      <td>0.938533</td>\n",
       "      <td>24</td>\n",
       "      <td>4.416667</td>\n",
       "      <td>0.653863</td>\n",
       "      <td>1.303380</td>\n",
       "    </tr>\n",
       "    <tr>\n",
       "      <th>8</th>\n",
       "      <td>Housing</td>\n",
       "      <td>87</td>\n",
       "      <td>1977-01-01</td>\n",
       "      <td>2008-01-01</td>\n",
       "      <td>4</td>\n",
       "      <td>4.202469</td>\n",
       "      <td>2399.043478</td>\n",
       "      <td>0.891012</td>\n",
       "      <td>20</td>\n",
       "      <td>4.000000</td>\n",
       "      <td>1.028992</td>\n",
       "      <td>6.003468</td>\n",
       "    </tr>\n",
       "  </tbody>\n",
       "</table>\n",
       "</div>"
      ],
      "text/plain": [
       "          sector  number_projects earliest_year latest_project  number_donors  \\\n",
       "12         Other             1484    1963-10-07     2010-01-01              7   \n",
       "6     Governance             1132    1969-01-01     2010-12-01              7   \n",
       "0    Agriculture             2139    1961-01-01     2010-04-01              7   \n",
       "2      Education              964    1964-01-01     2009-10-09              6   \n",
       "15     Transport             1643    1956-01-01     2008-03-17              5   \n",
       "7         Health             1482    1970-01-01     2012-01-01              8   \n",
       "3         Energy             1180    1960-01-01     2008-07-02              6   \n",
       "16          Wash             1009    1964-01-01     2008-09-12              7   \n",
       "5        Finance              662    1968-01-01     2010-01-01              7   \n",
       "1           Debt              536    1963-01-01     2003-01-01              4   \n",
       "4    Environment              311    1974-01-01     2010-03-16              7   \n",
       "10      Industry              695    1962-01-01     2008-06-05              7   \n",
       "11       Mineral              206    1964-01-01     2005-01-01              5   \n",
       "13       Telecom              256    1967-01-01     2006-06-01              5   \n",
       "9   Humanitarian              496    1975-04-11     2009-01-01              6   \n",
       "14         Trade               69    1980-12-06     2008-01-01              5   \n",
       "8        Housing               87    1977-01-01     2008-01-01              4   \n",
       "\n",
       "    avg_rating  avg_duration  mean_gap  wb_1990_proj_count  \\\n",
       "12    4.185764   2022.001643  0.488120                 526   \n",
       "6     4.209571   1756.464342  0.556818                 394   \n",
       "0     3.945315   2688.239551  0.475723                 300   \n",
       "2     4.345599   2417.854041  0.501550                 287   \n",
       "15    4.385547   2549.416404  0.469267                 267   \n",
       "7     4.507777   1959.853617  0.489153                 248   \n",
       "3     4.363322   2587.785095  0.542355                 201   \n",
       "16    4.115170   2793.927521  0.470558                 190   \n",
       "5     4.130533   1993.956098  0.652118                 173   \n",
       "1     3.932458   2299.308851  0.857438                 134   \n",
       "4     4.354027   2601.019531  0.747934                 133   \n",
       "10    3.945627   2291.059200  0.686209                 102   \n",
       "11    4.178537   2166.837438  0.844783                  54   \n",
       "13    4.725397   2315.410359  0.787707                  38   \n",
       "9     4.808554   1644.445455  0.859762                  30   \n",
       "14    4.436765   1220.812500  0.938533                  24   \n",
       "8     4.202469   2399.043478  0.891012                  20   \n",
       "\n",
       "    wb_1990_rating_mean  wb_1990_rating_dev  wb_loan_amount  \n",
       "12             4.239216            1.130759       88.576101  \n",
       "6              4.072165            1.120607       35.609716  \n",
       "0              4.064846            1.143427       33.555783  \n",
       "2              4.188612            1.012429       41.457200  \n",
       "15             4.494297            0.956579       71.216821  \n",
       "7              4.028689            1.134566       26.996274  \n",
       "3              4.113990            1.248942       76.665484  \n",
       "16             4.058201            1.203629       29.771444  \n",
       "5              4.205882            1.166074       25.203108  \n",
       "1              4.029851            1.291617        8.778601  \n",
       "4              4.269231            0.938318        7.041919  \n",
       "10             3.851485            1.388425       10.531254  \n",
       "11             4.111111            1.176286       14.770380  \n",
       "13             4.405405            1.141623        8.788044  \n",
       "9              4.166667            1.176885        6.459889  \n",
       "14             4.416667            0.653863        1.303380  \n",
       "8              4.000000            1.028992        6.003468  "
      ]
     },
     "execution_count": 200,
     "metadata": {},
     "output_type": "execute_result"
    }
   ],
   "source": [
    "sector_aggs.sort_values(['wb_1990_proj_count', 'mean_gap'], ascending=False)"
   ]
  },
  {
   "cell_type": "code",
   "execution_count": 201,
   "id": "interstate-anatomy",
   "metadata": {},
   "outputs": [
    {
     "data": {
      "text/plain": [
       "<AxesSubplot:xlabel='mean_gap', ylabel='wb_1990_proj_count'>"
      ]
     },
     "execution_count": 201,
     "metadata": {},
     "output_type": "execute_result"
    },
    {
     "data": {
      "image/png": "[encoded data removed]",
      "text/plain": [
       "<Figure size 432x288 with 1 Axes>"
      ]
     },
     "metadata": {
      "needs_background": "light"
     },
     "output_type": "display_data"
    }
   ],
   "source": [
    "sector_aggs.plot.scatter(x='mean_gap', y='wb_1990_proj_count')"
   ]
  },
  {
   "cell_type": "code",
   "execution_count": 202,
   "id": "verified-salmon",
   "metadata": {},
   "outputs": [],
   "source": [
    "sector_aggs.sort_values(['wb_1990_proj_count', 'mean_gap'], ascending=False).to_csv(\n",
    "    '../data/sector_project_gap_counts.csv', index=False, float_format='%.2f'\n",
    ")"
   ]
  },
  {
   "cell_type": "markdown",
   "id": "promotional-decimal",
   "metadata": {},
   "source": [
    "## Now checking indicator coverage"
   ]
  },
  {
   "cell_type": "code",
   "execution_count": 158,
   "id": "conservative-reasoning",
   "metadata": {},
   "outputs": [],
   "source": [
    "sector_indicators = pd.read_csv('../data/sector_mapping_indicators.csv')"
   ]
  },
  {
   "cell_type": "code",
   "execution_count": 159,
   "id": "constitutional-croatia",
   "metadata": {},
   "outputs": [
    {
     "data": {
      "text/html": [
       "<div>\n",
       "<style scoped>\n",
       "    .dataframe tbody tr th:only-of-type {\n",
       "        vertical-align: middle;\n",
       "    }\n",
       "\n",
       "    .dataframe tbody tr th {\n",
       "        vertical-align: top;\n",
       "    }\n",
       "\n",
       "    .dataframe thead th {\n",
       "        text-align: right;\n",
       "    }\n",
       "</style>\n",
       "<table border=\"1\" class=\"dataframe\">\n",
       "  <thead>\n",
       "    <tr style=\"text-align: right;\">\n",
       "      <th></th>\n",
       "      <th>indicator name</th>\n",
       "      <th>indicator code</th>\n",
       "      <th>sector</th>\n",
       "    </tr>\n",
       "  </thead>\n",
       "  <tbody>\n",
       "    <tr>\n",
       "      <th>0</th>\n",
       "      <td>Adjusted net enrollment rate, primary (% of pr...</td>\n",
       "      <td>SE.PRM.TENR</td>\n",
       "      <td>Education</td>\n",
       "    </tr>\n",
       "    <tr>\n",
       "      <th>1</th>\n",
       "      <td>Adolescent fertility rate (births per 1,000 wo...</td>\n",
       "      <td>SP.ADO.TFRT</td>\n",
       "      <td>Health</td>\n",
       "    </tr>\n",
       "    <tr>\n",
       "      <th>2</th>\n",
       "      <td>Energy use (kg of oil equivalent) per $1,000 G...</td>\n",
       "      <td>EG.USE.COMM.GD.PP.KD</td>\n",
       "      <td>Energy</td>\n",
       "    </tr>\n",
       "    <tr>\n",
       "      <th>3</th>\n",
       "      <td>Immunization, measles (% of children ages 12-2...</td>\n",
       "      <td>SH.IMM.MEAS</td>\n",
       "      <td>Health</td>\n",
       "    </tr>\n",
       "    <tr>\n",
       "      <th>4</th>\n",
       "      <td>Improved sanitation facilities (% of populatio...</td>\n",
       "      <td>SH.STA.ACSN</td>\n",
       "      <td>Wash</td>\n",
       "    </tr>\n",
       "    <tr>\n",
       "      <th>5</th>\n",
       "      <td>Improved water source (% of population with ac...</td>\n",
       "      <td>SH.H2O.SAFE.ZS</td>\n",
       "      <td>Wash</td>\n",
       "    </tr>\n",
       "    <tr>\n",
       "      <th>6</th>\n",
       "      <td>Incidence of tuberculosis (per 100,000 people)</td>\n",
       "      <td>SH.TBS.INCD</td>\n",
       "      <td>Health</td>\n",
       "    </tr>\n",
       "    <tr>\n",
       "      <th>7</th>\n",
       "      <td>Internet users (per 100 people)</td>\n",
       "      <td>IT.NET.USER.P2</td>\n",
       "      <td>Telecom</td>\n",
       "    </tr>\n",
       "    <tr>\n",
       "      <th>8</th>\n",
       "      <td>Literacy rate, adult total (% of people ages 1...</td>\n",
       "      <td>SE.ADT.LITR.ZS</td>\n",
       "      <td>Education</td>\n",
       "    </tr>\n",
       "    <tr>\n",
       "      <th>9</th>\n",
       "      <td>Mobile cellular subscriptions (per 100 people)</td>\n",
       "      <td>IT.CEL.SETS.P2</td>\n",
       "      <td>Telecom</td>\n",
       "    </tr>\n",
       "    <tr>\n",
       "      <th>10</th>\n",
       "      <td>Mortality rate, under-5 (per 1,000 live births)</td>\n",
       "      <td>SH.DYN.MORT</td>\n",
       "      <td>Health</td>\n",
       "    </tr>\n",
       "    <tr>\n",
       "      <th>11</th>\n",
       "      <td>Net ODA received (% of GNI)</td>\n",
       "      <td>DT.ODA.ODAT.GN.ZS</td>\n",
       "      <td>Aid</td>\n",
       "    </tr>\n",
       "    <tr>\n",
       "      <th>12</th>\n",
       "      <td>Net ODA received per capita (current US$)</td>\n",
       "      <td>DT.ODA.ODAT.PC.ZS</td>\n",
       "      <td>Aid</td>\n",
       "    </tr>\n",
       "    <tr>\n",
       "      <th>13</th>\n",
       "      <td>Net official development assistance and offici...</td>\n",
       "      <td>DT.ODA.ALLD.CD</td>\n",
       "      <td>Aid</td>\n",
       "    </tr>\n",
       "    <tr>\n",
       "      <th>14</th>\n",
       "      <td>Persistence to last grade of primary, total (%...</td>\n",
       "      <td>SE.PRM.PRSL.ZS</td>\n",
       "      <td>Education</td>\n",
       "    </tr>\n",
       "    <tr>\n",
       "      <th>15</th>\n",
       "      <td>Population living in slums (% of urban populat...</td>\n",
       "      <td>EN.POP.SLUM.UR.ZS</td>\n",
       "      <td>Housing</td>\n",
       "    </tr>\n",
       "    <tr>\n",
       "      <th>16</th>\n",
       "      <td>Pregnant women receiving prenatal care (%)</td>\n",
       "      <td>SH.STA.ANVC.ZS</td>\n",
       "      <td>Health</td>\n",
       "    </tr>\n",
       "    <tr>\n",
       "      <th>17</th>\n",
       "      <td>Prevalence of HIV, total (% of population ages...</td>\n",
       "      <td>SH.DYN.AIDS.ZS</td>\n",
       "      <td>Health</td>\n",
       "    </tr>\n",
       "    <tr>\n",
       "      <th>18</th>\n",
       "      <td>Prevalence of underweight, weight for age (% o...</td>\n",
       "      <td>SH.STA.MALN.ZS</td>\n",
       "      <td>Health</td>\n",
       "    </tr>\n",
       "    <tr>\n",
       "      <th>19</th>\n",
       "      <td>Primary completion rate, total (% of relevant ...</td>\n",
       "      <td>SE.PRM.CMPT.ZS</td>\n",
       "      <td>Education</td>\n",
       "    </tr>\n",
       "    <tr>\n",
       "      <th>20</th>\n",
       "      <td>School enrollment, primary (% net)</td>\n",
       "      <td>SE.PRM.NENR</td>\n",
       "      <td>Education</td>\n",
       "    </tr>\n",
       "    <tr>\n",
       "      <th>21</th>\n",
       "      <td>Trade (% of GDP)</td>\n",
       "      <td>NE.TRD.GNFS.ZS</td>\n",
       "      <td>Trade</td>\n",
       "    </tr>\n",
       "    <tr>\n",
       "      <th>22</th>\n",
       "      <td>Unmet need for contraception (% of married wom...</td>\n",
       "      <td>SP.UWT.TFRT</td>\n",
       "      <td>Health</td>\n",
       "    </tr>\n",
       "  </tbody>\n",
       "</table>\n",
       "</div>"
      ],
      "text/plain": [
       "                                       indicator name        indicator code  \\\n",
       "0   Adjusted net enrollment rate, primary (% of pr...           SE.PRM.TENR   \n",
       "1   Adolescent fertility rate (births per 1,000 wo...           SP.ADO.TFRT   \n",
       "2   Energy use (kg of oil equivalent) per $1,000 G...  EG.USE.COMM.GD.PP.KD   \n",
       "3   Immunization, measles (% of children ages 12-2...           SH.IMM.MEAS   \n",
       "4   Improved sanitation facilities (% of populatio...           SH.STA.ACSN   \n",
       "5   Improved water source (% of population with ac...        SH.H2O.SAFE.ZS   \n",
       "6      Incidence of tuberculosis (per 100,000 people)           SH.TBS.INCD   \n",
       "7                     Internet users (per 100 people)        IT.NET.USER.P2   \n",
       "8   Literacy rate, adult total (% of people ages 1...        SE.ADT.LITR.ZS   \n",
       "9      Mobile cellular subscriptions (per 100 people)        IT.CEL.SETS.P2   \n",
       "10    Mortality rate, under-5 (per 1,000 live births)           SH.DYN.MORT   \n",
       "11                        Net ODA received (% of GNI)     DT.ODA.ODAT.GN.ZS   \n",
       "12          Net ODA received per capita (current US$)     DT.ODA.ODAT.PC.ZS   \n",
       "13  Net official development assistance and offici...        DT.ODA.ALLD.CD   \n",
       "14  Persistence to last grade of primary, total (%...        SE.PRM.PRSL.ZS   \n",
       "15  Population living in slums (% of urban populat...     EN.POP.SLUM.UR.ZS   \n",
       "16         Pregnant women receiving prenatal care (%)        SH.STA.ANVC.ZS   \n",
       "17  Prevalence of HIV, total (% of population ages...        SH.DYN.AIDS.ZS   \n",
       "18  Prevalence of underweight, weight for age (% o...        SH.STA.MALN.ZS   \n",
       "19  Primary completion rate, total (% of relevant ...        SE.PRM.CMPT.ZS   \n",
       "20                 School enrollment, primary (% net)           SE.PRM.NENR   \n",
       "21                                   Trade (% of GDP)        NE.TRD.GNFS.ZS   \n",
       "22  Unmet need for contraception (% of married wom...           SP.UWT.TFRT   \n",
       "\n",
       "       sector  \n",
       "0   Education  \n",
       "1      Health  \n",
       "2      Energy  \n",
       "3      Health  \n",
       "4        Wash  \n",
       "5        Wash  \n",
       "6      Health  \n",
       "7     Telecom  \n",
       "8   Education  \n",
       "9     Telecom  \n",
       "10     Health  \n",
       "11        Aid  \n",
       "12        Aid  \n",
       "13        Aid  \n",
       "14  Education  \n",
       "15    Housing  \n",
       "16     Health  \n",
       "17     Health  \n",
       "18     Health  \n",
       "19  Education  \n",
       "20  Education  \n",
       "21      Trade  \n",
       "22     Health  "
      ]
     },
     "execution_count": 159,
     "metadata": {},
     "output_type": "execute_result"
    }
   ],
   "source": [
    "sector_indicators"
   ]
  },
  {
   "cell_type": "code",
   "execution_count": 160,
   "id": "dress-uniform",
   "metadata": {},
   "outputs": [],
   "source": [
    "sector_indicators['ratio_available'] = sector_indicators['indicator code'].apply(\n",
    "    lambda code: calculate_ratio_na(wdi_df, code, wb_df.country_code, earliest_year=1990)\n",
    ")"
   ]
  },
  {
   "cell_type": "code",
   "execution_count": 164,
   "id": "authentic-glucose",
   "metadata": {},
   "outputs": [],
   "source": [
    "sector_indicators.sort_values('sector').to_csv('../data/sector_codes_with_coverage.csv', index=False, float_format = '%.2f')"
   ]
  },
  {
   "cell_type": "code",
   "execution_count": null,
   "id": "collect-moses",
   "metadata": {},
   "outputs": [],
   "source": []
  }
 ],
 "metadata": {
  "kernelspec": {
   "display_name": "causal",
   "language": "python",
   "name": "causal"
  },
  "language_info": {
   "codemirror_mode": {
    "name": "ipython",
    "version": 3
   },
   "file_extension": ".py",
   "mimetype": "text/x-python",
   "name": "python",
   "nbconvert_exporter": "python",
   "pygments_lexer": "ipython3",
   "version": "3.8.8"
  }
 },
 "nbformat": 4,
 "nbformat_minor": 5
}
