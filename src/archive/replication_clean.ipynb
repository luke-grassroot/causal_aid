{
 "cells": [
  {
   "cell_type": "code",
   "execution_count": null,
   "id": "direct-simulation",
   "metadata": {},
   "outputs": [],
   "source": [
    "%config Completer.use_jedi = False\n",
    "from importlib import reload"
   ]
  },
  {
   "cell_type": "code",
   "execution_count": null,
   "id": "bored-humanity",
   "metadata": {},
   "outputs": [],
   "source": [
    "import statsmodels.api as sm\n",
    "\n",
    "from datetime import datetime, timedelta\n",
    "\n",
    "import pandas as pd\n",
    "import numpy as np\n",
    "\n",
    "import matplotlib\n",
    "import matplotlib.pyplot as plt\n",
    "\n",
    "from IPython.display import Image, display\n",
    "\n",
    "from dowhy import CausalModel"
   ]
  },
  {
   "cell_type": "code",
   "execution_count": null,
   "id": "lined-harbor",
   "metadata": {},
   "outputs": [],
   "source": [
    "pd.set_option(\"mode.chained_assignment\", None)"
   ]
  },
  {
   "cell_type": "code",
   "execution_count": null,
   "id": "duplicate-samba",
   "metadata": {},
   "outputs": [],
   "source": [
    "import util.load as load_util\n",
    "import util.explore as explore_util\n",
    "import util.experiment as experiment"
   ]
  },
  {
   "cell_type": "code",
   "execution_count": null,
   "id": "imperial-investigator",
   "metadata": {},
   "outputs": [],
   "source": [
    "def add_project_and_aid_cols(sector_df, sector='education'):\n",
    "    mean_pc_col = f\"{sector}_mean_pc_last_5\"\n",
    "    if mean_pc_col not in sector_df:\n",
    "        print('Generating mean per capita commitments over prior years')\n",
    "        sector_df[mean_pc_col] = sector_df.apply(\n",
    "            lambda row: obtain_lagged(f'pc_commit_{sector}', row['country'], row['year'], -5, take_agg=True, agg_function=np.mean), axis=1)\n",
    "\n",
    "    sat_proj_col = f\"{sector}_satisfactory_proj\"\n",
    "    if sat_proj_col not in sector_df:\n",
    "        print('Marking whether a satisfactory project concluded in that year')\n",
    "        sector_df[sat_proj_col] = (sector_df['max_rating'] > 3).astype(int)\n",
    "\n",
    "    max_rating_col = f\"{sector}_max_proj_5yr\"\n",
    "    if max_rating_col not in sector_df:\n",
    "        print('Taking maximum of weighted rating of concluded projects in prior period')\n",
    "        sector_df[max_rating_col] = sector_df.apply(lambda row: obtain_lagged('w_avg_rating', row['country'], row['year'], -5, take_agg=True, agg_function=np.max), axis=1)\n",
    "        \n",
    "    return sector_df"
   ]
  },
  {
   "cell_type": "code",
   "execution_count": null,
   "id": "executed-hobby",
   "metadata": {},
   "outputs": [],
   "source": [
    "def evaluate_treatment(df, target_col, treatment_col, feature_cols,\n",
    "                       log_target=False, log_treatment=False, remove_feature_cols=[], # this last is convenience \n",
    "                       add_country_feffects=True, add_constant=True):\n",
    "    data = df.copy() # else logs overwrite\n",
    "    if treatment_col not in feature_cols:\n",
    "        feature_cols += [treatment_col]\n",
    "    ols_cols = [col for col in feature_cols if col not in remove_feature_cols]\n",
    "    if log_target:\n",
    "        data[target_col] = np.log(data[target_col].replace(0, np.nan)).fillna(0)\n",
    "    if log_treatment:\n",
    "        data[treatment_col] = np.log(data[treatment_col].replace(0, np.nan)).fillna(0)\n",
    "    \n",
    "    est = experiment.plain_vanilla_ols(data, target_col, ols_cols, \n",
    "                                       add_country_feffects=add_country_feffects, \n",
    "                                       add_constant=add_constant)\n",
    "    \n",
    "    return est"
   ]
  },
  {
   "cell_type": "code",
   "execution_count": null,
   "id": "hawaiian-seventh",
   "metadata": {},
   "outputs": [],
   "source": [
    "def extract_treatment_results(label, est, target_col, treatment_col, feature_cols, est_kwards, sig_level=0.05):\n",
    "    sig_params = [param for param in est.params.keys() if est.pvalues[param] < sig_level]\n",
    "    sig_features = [param for param in sig_params if param in feature_cols and param != treatment_col]\n",
    "    sig_coeffs = { feature: round(est.params[feature], 4) for feature in sig_features }\n",
    "    sig_f_effects = [param for param in sig_params if param not in feature_cols]\n",
    "    \n",
    "    return {\n",
    "        'Label': label,\n",
    "        'Regression P': est.f_pvalue,\n",
    "        'Treatment significance': est.pvalues[treatment_col],\n",
    "        'Treatment coefficient': est.params[treatment_col],\n",
    "        'Sig feature coefficient': sig_coeffs,\n",
    "        'Sig feature p-values': { col: round(est.pvalues[col], 4) for col in sig_features },\n",
    "        'Number significant FE': len(sig_f_effects),\n",
    "        'Mean coefficient on FE': max([value for param, value in est.params.items() if param in sig_f_effects]) if len(sig_f_effects) > 0 else 0,\n",
    "        'Keyword args': est_kwards\n",
    "    }"
   ]
  },
  {
   "cell_type": "markdown",
   "id": "intended-documentation",
   "metadata": {},
   "source": [
    "### Load in data frames"
   ]
  },
  {
   "cell_type": "markdown",
   "id": "assumed-prophet",
   "metadata": {},
   "source": [
    "1. Load in panel assembled by DG, and country code cross-matches\n",
    "2. For each country-year, calculate mean growth in education indicators at year + lag"
   ]
  },
  {
   "cell_type": "code",
   "execution_count": null,
   "id": "dynamic-forge",
   "metadata": {},
   "outputs": [],
   "source": [
    "# Project data\n",
    "project_df = load_util.load_projects() # loads in aid data projects\n",
    "# Sector ratings for educations\n",
    "edu_treatment_df = load_util.assemble_sector_ratings(project_df, 'Education').fillna(0) # loads in \n",
    "edu_treatment_df.head()"
   ]
  },
  {
   "cell_type": "code",
   "execution_count": null,
   "id": "distributed-deputy",
   "metadata": {},
   "outputs": [],
   "source": [
    "recreate_df = False\n",
    "\n",
    "if recreate_df:\n",
    "    panel_df, panel_source = experiment.assemble_replication_panel('education')\n",
    "    df = panel_df.merge(edu_treatment_df, how='left', left_on=['year', 'country'], right_on=['end_year', 'country_code'])\n",
    "    treatment_cols = [col for col in edu_treatment_df.columns if col not in [\"end_year\", \"country_code\"]]\n",
    "    df[treatment_cols] = df[treatment_cols].fillna(0)\n",
    "else:\n",
    "    df = pd.read_csv('../data/transformed_data/education_df.csv', index_col=0)"
   ]
  },
  {
   "cell_type": "markdown",
   "id": "separated-footage",
   "metadata": {},
   "source": [
    "### Construct lagged indicators, fille in needed columns"
   ]
  },
  {
   "cell_type": "code",
   "execution_count": null,
   "id": "assumed-marine",
   "metadata": {},
   "outputs": [],
   "source": [
    "df.project_completed_year.value_counts()"
   ]
  },
  {
   "cell_type": "code",
   "execution_count": null,
   "id": "mobile-caution",
   "metadata": {},
   "outputs": [],
   "source": [
    "def obtain_lagged(col, country, year, lag_years, take_agg=False, agg_function=None):\n",
    "    if take_agg:\n",
    "        start_year = year if lag_years > 0 else year + lag_years\n",
    "        end_year = year + lag_years if lag_years > 0 else year\n",
    "        years = df[(df.country == country) & (df.year >= start_year) & (df.year < end_year)]\n",
    "        if len(years) == 0:\n",
    "            return np.nan\n",
    "        else:\n",
    "            return agg_function(years[col])\n",
    "    else:\n",
    "        future = df[(df.country == country) & (df.year == year + lag_years)]\n",
    "        if len(future) == 0:\n",
    "            return np.nan\n",
    "        else:\n",
    "            return future.iloc[0].to_dict()[col]"
   ]
  },
  {
   "cell_type": "markdown",
   "id": "dangerous-noise",
   "metadata": {},
   "source": [
    "Generate some necessary feature and outcome columns"
   ]
  },
  {
   "cell_type": "code",
   "execution_count": null,
   "id": "fitting-kazakhstan",
   "metadata": {},
   "outputs": [],
   "source": [
    "def add_lagged_future_edu_outcomes(df):\n",
    "    if 'lagged_edu_ner' not in df:\n",
    "        print('Generating past net enrollment rates')\n",
    "        df['lagged_edu_ner'] = df.apply(lambda row: obtain_lagged('edu_ner', row['country'], row['year'], -5), axis=1)\n",
    "\n",
    "    if 'future_edu_ner' not in df:\n",
    "        print('Generating future net enrollment rates')\n",
    "        df['future_edu_ner'] = df.apply(lambda row: obtain_lagged('edu_ner', row['country'], row['year'], 5), axis=1)\n",
    "\n",
    "    return df"
   ]
  },
  {
   "cell_type": "code",
   "execution_count": null,
   "id": "aquatic-microwave",
   "metadata": {},
   "outputs": [],
   "source": [
    "df = add_project_and_aid_cols(df)"
   ]
  },
  {
   "cell_type": "code",
   "execution_count": null,
   "id": "western-egyptian",
   "metadata": {},
   "outputs": [],
   "source": [
    "df = add_lagged_future_edu_outcomes(df)"
   ]
  },
  {
   "cell_type": "code",
   "execution_count": null,
   "id": "stuffed-search",
   "metadata": {},
   "outputs": [],
   "source": [
    "store_df = False\n",
    "\n",
    "if store_df:\n",
    "    df.to_csv('../data/transformed_data/education_df.csv')"
   ]
  },
  {
   "cell_type": "code",
   "execution_count": null,
   "id": "incident-mortgage",
   "metadata": {},
   "outputs": [],
   "source": [
    "# df.max_proj_rating_5.hist()"
   ]
  },
  {
   "cell_type": "markdown",
   "id": "later-thunder",
   "metadata": {},
   "source": [
    "### Check data coverage, isolating features with a lot of uncovered years/countries"
   ]
  },
  {
   "cell_type": "markdown",
   "id": "continued-accountability",
   "metadata": {},
   "source": [
    "A column is a culprit for an N/A row if it alone is N/A, i.e., it is responsible for the country-year being unusable. If multiple columns are N/A then none are culprits"
   ]
  },
  {
   "cell_type": "code",
   "execution_count": null,
   "id": "protective-receiver",
   "metadata": {},
   "outputs": [],
   "source": [
    "conduct_coverage_analysis = False"
   ]
  },
  {
   "cell_type": "code",
   "execution_count": null,
   "id": "taken-lottery",
   "metadata": {},
   "outputs": [],
   "source": [
    "if 'panel_source' not in vars():\n",
    "    panel_source = pd.read_csv('../data/countrypanel.csv')"
   ]
  },
  {
   "cell_type": "code",
   "execution_count": null,
   "id": "printable-annex",
   "metadata": {},
   "outputs": [],
   "source": [
    "if conduct_coverage_analysis:\n",
    "\n",
    "    # We only want to do this on the data columns, so don't check the others\n",
    "    panel_label_columns = ['year', 'countrycode', 'regionname', 'fcv_ind', 'lendingtype', 'incomelevel']\n",
    "    df_label_columns = ['year', 'country', 'ppd_countrycode', 'wdi_countryname', 'project_completed_year'] + panel_non_data\n",
    "\n",
    "    data_cols = [col for col in df.columns if col not in panel_label_columns + df_label_columns]\n",
    "    ddf_data_cols = [col for col in panel_source.columns if col not in panel_non_data]\n",
    "\n",
    "    culprit_counts, null_df = experiment.extract_culprit_counts(df, data_cols)\n",
    "    ddf_culprits, ddf_nulls = experiment.extract_culprit_counts(panel_source, ddf_data_cols)\n",
    "\n",
    "    non_zero_culps = lambda culpc: (\n",
    "        { key: value for key, value in sorted(culprit_counts.items(), key=lambda item: item[1], reverse=True) if value > 0 }\n",
    "    ) \n",
    "\n",
    "    print(non_zero_culps(culprit_counts))\n",
    "    print(non_zero_culps(ddf_culprits))"
   ]
  },
  {
   "cell_type": "markdown",
   "id": "canadian-probe",
   "metadata": {},
   "source": [
    "*Note*: There is no surplus deficit in the standard WDI, so using net borrowing in year (is available)"
   ]
  },
  {
   "cell_type": "markdown",
   "id": "initial-submission",
   "metadata": {},
   "source": [
    "## Main event, education: replicate original, then probe the specification"
   ]
  },
  {
   "cell_type": "markdown",
   "id": "thorough-petroleum",
   "metadata": {},
   "source": [
    "Education: Specification 2\n",
    "```\n",
    "regress  last_ner <- first_ner pc_commit_education [per capita commitment amount=\n",
    "        edu_share_gov_exp edu_pupil_teacher young_population\n",
    "        gdp_pc_ppp cash_surplus_deficit inflation trade_share_gdp\n",
    "        freedom_house i.period i.ncountrycode if countrytoinclude == 1, r\n",
    "```"
   ]
  },
  {
   "cell_type": "code",
   "execution_count": null,
   "id": "confirmed-dress",
   "metadata": {},
   "outputs": [],
   "source": [
    "# Adding categorical variables for country, for replication purposes, although means dimensionality explosion (for unclear gain)"
   ]
  },
  {
   "cell_type": "code",
   "execution_count": null,
   "id": "juvenile-founder",
   "metadata": {},
   "outputs": [],
   "source": [
    "df = df.rename(columns={ 'education_lag_-4_growth': 'prior_4year_growth' })"
   ]
  },
  {
   "cell_type": "code",
   "execution_count": null,
   "id": "former-scotland",
   "metadata": {},
   "outputs": [],
   "source": [
    "df[(df.mean_pc_last_5.notna()) & (df.country == 'CHN')][['country', 'year', 'edu_ner', 'pc_commit_education', 'mean_pc_last_5']]"
   ]
  },
  {
   "cell_type": "code",
   "execution_count": null,
   "id": "hindu-abortion",
   "metadata": {},
   "outputs": [],
   "source": [
    "df.mean_pc_last_5.isna().sum()"
   ]
  },
  {
   "cell_type": "code",
   "execution_count": null,
   "id": "premier-charlotte",
   "metadata": {},
   "outputs": [],
   "source": [
    "df['prior_ner_growth'] = df['edu_ner'] / df['lagged_edu_ner']\n",
    "\n",
    "data_cols = ['country', 'satisfactory_proj', 'w_avg_rating', 'prior_ner_growth', 'edu_ner',\n",
    "                        'mean_pc_last_5', 'edu_pupil_teacher', \n",
    "                        'young_population', 'gdp_pc_ppp', 'cash_surplus_deficit', 'inflation', 'trade_share_gdp',\n",
    "                        'freedom_house', 'prior_4year_growth']\n",
    "\n",
    "# first go for the paper\n",
    "r_est = evaluate_treatment(df, 'edu_ner', 'mean_pc_last_5', data_cols,\n",
    "                          remove_feature_cols=['prior_ner_growth', 'w_avg_rating', 'satisfactory_proj', 'prior_4year_growth'],\n",
    "                          add_country_feffects=True, add_constant=False, log_target=True, log_treatment=True)\n",
    "\n",
    "extract_treatment_results('Replication', r_est, 'edu_ner', 'mean_pc_last_5', data_cols, None)"
   ]
  },
  {
   "cell_type": "code",
   "execution_count": null,
   "id": "previous-hollow",
   "metadata": {},
   "outputs": [],
   "source": [
    "print(r_est.summary())"
   ]
  },
  {
   "cell_type": "code",
   "execution_count": null,
   "id": "sealed-technical",
   "metadata": {},
   "outputs": [],
   "source": [
    "search_grid = {\n",
    "    'Straight replication': {\n",
    "        'target_col': 'edu_ner', \n",
    "        'treatment_col': 'mean_pc_last_5',\n",
    "        'est_kw_args': dict(\n",
    "            add_country_feffects=True, add_constant=False, log_target=True, log_treatment=True,\n",
    "            remove_feature_cols=['prior_ner_growth', 'w_avg_rating', 'satisfactory_proj', 'prior_4year_growth']\n",
    "        )\n",
    "    },\n",
    "    'Include weighted average rating': {\n",
    "        'target_col': 'edu_ner', \n",
    "        'treatment_col': 'mean_pc_last_5',\n",
    "        'est_kw_args': dict(\n",
    "            add_country_feffects=True, add_constant=False, log_target=True, log_treatment=True,\n",
    "            remove_feature_cols=['prior_ner_growth', 'satisfactory_proj', 'prior_4year_growth']\n",
    "        )\n",
    "    },\n",
    "    'Include constant term in regression': {\n",
    "        'target_col': 'edu_ner', \n",
    "        'treatment_col': 'mean_pc_last_5',\n",
    "        'est_kw_args': dict(\n",
    "            add_country_feffects=True, add_constant=True, log_target=True, log_treatment=True,\n",
    "            remove_feature_cols=['prior_ner_growth', 'w_avg_rating', 'satisfactory_proj', 'prior_4year_growth']\n",
    "        )        \n",
    "    },\n",
    "    'Include prior growth across education outcomes': {\n",
    "        'target_col': 'edu_ner', \n",
    "        'treatment_col': 'mean_pc_last_5',\n",
    "        'est_kw_args': dict(\n",
    "            add_country_feffects=True, add_constant=False, log_target=True, log_treatment=True,\n",
    "            remove_feature_cols=['prior_ner_growth', 'satisfactory_proj', 'w_avg_rating']\n",
    "        )\n",
    "    },\n",
    "    'Use growth in NER as target': {\n",
    "        'target_col': 'prior_ner_growth', \n",
    "        'treatment_col': 'mean_pc_last_5',\n",
    "        'est_kw_args': dict(\n",
    "            add_country_feffects=True, add_constant=True, log_target=True, log_treatment=True,\n",
    "            remove_feature_cols=['edu_ner', 'w_avg_rating', 'satisfactory_proj', 'prior_4year_growth']\n",
    "        )\n",
    "\n",
    "    }\n",
    "}"
   ]
  },
  {
   "cell_type": "code",
   "execution_count": null,
   "id": "instructional-growth",
   "metadata": {},
   "outputs": [],
   "source": [
    "treatment_search_result = []\n",
    "estimators = {}\n",
    "for label, args in search_grid.items():\n",
    "    est = evaluate_treatment(df, args['target_col'], args['treatment_col'], data_cols, **args['est_kw_args'])\n",
    "    results = extract_treatment_results(label, est, args['target_col'], args['treatment_col'], data_cols, args['est_kw_args'])\n",
    "    treatment_search_result.append(results)\n",
    "    estimators[label] = est\n",
    "\n",
    "gsearch_results = pd.DataFrame(treatment_search_result)"
   ]
  },
  {
   "cell_type": "code",
   "execution_count": null,
   "id": "decimal-palestine",
   "metadata": {},
   "outputs": [],
   "source": [
    "write_results = False\n",
    "\n",
    "if write_results:\n",
    "    with open(\"./growth_not_abs_ner_target.txt\", \"w\") as file:\n",
    "        file.write(estimators['Use growth in NER as target'].summary().as_text())\n",
    "\n",
    "    with open(\"./base_replication_full.txt\", \"w\") as file:\n",
    "        file.write(estimators['Straight replication'].summary().as_text())\n",
    "\n",
    "    gsearch_results.to_csv('../data/results/education_model_crawl.csv', float_format='%.4f')"
   ]
  },
  {
   "cell_type": "code",
   "execution_count": null,
   "id": "aggregate-embassy",
   "metadata": {},
   "outputs": [],
   "source": [
    "display_repl_summary = True\n",
    "\n",
    "if display_repl_summary:\n",
    "    print(\"*** Standard Replication: \")\n",
    "    print(r_est.summary())\n",
    "    \n",
    "    print(\"*** Replication with average rating: \")\n",
    "    print(estimators['Include weighted average rating'].summary())"
   ]
  },
  {
   "cell_type": "markdown",
   "id": "offshore-target",
   "metadata": {},
   "source": [
    "## Now conduct health"
   ]
  },
  {
   "cell_type": "markdown",
   "id": "recognized-sponsorship",
   "metadata": {},
   "source": [
    "Process:\n",
    "\n",
    "1. Repeat outcome variable formation, using lagged construction\n",
    "2. Construct sectoral aid per capita using utilities\n",
    "3. Construct specification, using Diana's original notebook"
   ]
  },
  {
   "cell_type": "code",
   "execution_count": null,
   "id": "falling-forty",
   "metadata": {},
   "outputs": [],
   "source": [
    "health_treatment_df = load_util.assemble_sector_ratings(project_df, 'Health').fillna(0)\n",
    "health_treatment_df.head()"
   ]
  },
  {
   "cell_type": "code",
   "execution_count": null,
   "id": "solar-mobile",
   "metadata": {},
   "outputs": [],
   "source": [
    "recreate_health_df = False\n",
    "\n",
    "if recreate_health_df:\n",
    "    hp_df, hp_source = experiment.assemble_replication_panel('health')\n",
    "    health_df = hp_df.merge(health_treatment_df, how='left', left_on=['year', 'country'], right_on=['end_year', 'country_code'])\n",
    "    treatment_cols = [col for col in health_treatment_df.columns if col not in [\"end_year\", \"country_code\"]]\n",
    "    health_df[treatment_cols] = df[treatment_cols].fillna(0)\n",
    "else:\n",
    "    health_df = pd.read_csv('../data/transformed_data/health_df.csv', index_col=0)"
   ]
  },
  {
   "cell_type": "code",
   "execution_count": null,
   "id": "altered-check",
   "metadata": {},
   "outputs": [],
   "source": [
    "health_df = add_project_and_aid_cols(health_df, sector='health')\n",
    "\n",
    "treatment_cols = [col for col in health_treatment_df.columns if col not in [\"end_year\", \"country_code\"]]\n",
    "health_df[treatment_cols] = health_df[treatment_cols].fillna(0)\n",
    "print(\"Treatment counts: \", health_df.project_completed_year.value_counts())"
   ]
  },
  {
   "cell_type": "code",
   "execution_count": null,
   "id": "running-clock",
   "metadata": {},
   "outputs": [],
   "source": [
    "if 'lagged_health_mort' not in health_df:\n",
    "    print('Generating past mortality')\n",
    "    health_df['lagged_health_mort'] = health_df.apply(\n",
    "        lambda row: obtain_lagged('mortality_under5', row['country'], row['year'], -5), axis=1\n",
    "    )\n",
    "\n",
    "if 'future_health_mort' not in health_df:\n",
    "    print('Generating future mortality')\n",
    "    health_df['future_health_mort'] = health_df.apply(\n",
    "        lambda row: obtain_lagged('mortality_under5', row['country'], row['year'], 5), axis=1\n",
    "    )"
   ]
  },
  {
   "cell_type": "code",
   "execution_count": null,
   "id": "sonic-voice",
   "metadata": {},
   "outputs": [],
   "source": [
    "store_health_df = False\n",
    "\n",
    "if store_health_df:\n",
    "    health_df.to_csv('../data/transformed_data/health_df.csv')"
   ]
  },
  {
   "cell_type": "markdown",
   "id": "protecting-compression",
   "metadata": {},
   "source": [
    "* Specification 1:\n",
    "\n",
    "```qui regress mortality_under5 pc_commit_health lag_mortality_under5 ///\n",
    "            lag_gdp_pc_ppp lag_fertility lag_population ///\n",
    "            hiv_prevalence conflict i.period, r```"
   ]
  },
  {
   "cell_type": "code",
   "execution_count": null,
   "id": "norman-potential",
   "metadata": {},
   "outputs": [],
   "source": [
    "health_df = health_df.rename(columns={ 'health_lag_-4_growth': 'prior_4year_growth' })"
   ]
  },
  {
   "cell_type": "code",
   "execution_count": null,
   "id": "accurate-sperm",
   "metadata": {},
   "outputs": [],
   "source": [
    "# sometimes gets dragged along, so drop to make sense of things more easily\n",
    "health_df = health_df.drop(columns=[\n",
    "    'edu_ner', 'edu_aner', 'edu_completion',\n",
    "    'edu_share_gov_exp', 'edu_pupil_teacher',\n",
    "    'adult_literacy', 'commit_education', 'pc_commit_wash', \n",
    "    'pc_commit_education', 'commit_wash'], errors='ignore')"
   ]
  },
  {
   "cell_type": "code",
   "execution_count": null,
   "id": "incident-philip",
   "metadata": {},
   "outputs": [],
   "source": [
    "health_df['prior_mort_decline'] = health_df['mortality_under5'] / health_df['lagged_health_mort']"
   ]
  },
  {
   "cell_type": "code",
   "execution_count": null,
   "id": "active-lender",
   "metadata": {},
   "outputs": [],
   "source": [
    "health_data_cols = ['country', 'health_satisfactory_proj', 'w_avg_rating', 'prior_mort_decline', 'mortality_under5',\n",
    "                        'health_mean_pc_last_5', 'gdp_pc_ppp', 'cash_surplus_deficit', \n",
    "                        'inflation', 'trade_share_gdp', 'freedom_house', 'prior_mort_decline',\n",
    "                        'fertility', 'hiv_prevalence', 'conflict']"
   ]
  },
  {
   "cell_type": "code",
   "execution_count": null,
   "id": "outdoor-deployment",
   "metadata": {},
   "outputs": [],
   "source": [
    "# first go for the paper\n",
    "# replication_exclude = ['prior_mort_decline', 'w_avg_rating', 'satisfactory_proj', 'prior_4year_growth',\n",
    "#                       'inflation', 'trade_share_gdp', 'freedom_house', 'mean_pc_last_5']\n",
    "\n",
    "cols_for_rep1 = ['mortality_under5', 'health_mean_pc_last_5', 'lagged_health_mort', 'gdp_pc_ppp', 'fertility', 'population', 'hiv_prevalence', 'conflict']\n",
    "health_est = evaluate_treatment(health_df, 'mortality_under5', 'health_mean_pc_last_5', cols_for_rep1,\n",
    "                          add_country_feffects=False, add_constant=False, log_target=True, log_treatment=True)\n",
    "\n",
    "extract_treatment_results('Health Replication', health_est, 'mortality_under5', 'health_mean_pc_last_5', cols_for_rep1, None)"
   ]
  },
  {
   "cell_type": "code",
   "execution_count": null,
   "id": "educated-decimal",
   "metadata": {},
   "outputs": [],
   "source": [
    "print(health_est.summary())"
   ]
  },
  {
   "cell_type": "code",
   "execution_count": null,
   "id": "interior-fashion",
   "metadata": {},
   "outputs": [],
   "source": [
    "# now add in controls for macro conditions\n",
    "cols_rep2 = cols_for_rep1 + ['inflation', 'cash_surplus_deficit', 'trade_share_gdp']\n",
    "health_est2 = evaluate_treatment(health_df, 'mortality_under5', 'mean_pc_last_5', cols_rep2,\n",
    "                          add_country_feffects=False, add_constant=False, log_target=True, log_treatment=True)\n",
    "\n",
    "extract_treatment_results('Health Replication with Macro', health_est2, 'mortality_under5', 'health_mean_pc_last_5', cols_rep2, None)"
   ]
  },
  {
   "cell_type": "markdown",
   "id": "italian-department",
   "metadata": {},
   "source": [
    "* Specification 6\n",
    "\n",
    "```qui regress mortality_under5 pc_commit_health lag_mortality_under5 ///\n",
    "            lag_gdp_pc_ppp lag_fertility lag_population ///\n",
    "            lag_physicians_rate  lag_female_adult_literacy ///\n",
    "            lag_access_water lag_access_sanitation ///\n",
    "            hiv_prevalence conflict i.period i.nregionname, r```"
   ]
  },
  {
   "cell_type": "code",
   "execution_count": null,
   "id": "stable-romance",
   "metadata": {},
   "outputs": [],
   "source": [
    "'female_adult_literacy' in health_df"
   ]
  },
  {
   "cell_type": "code",
   "execution_count": null,
   "id": "applied-bennett",
   "metadata": {},
   "outputs": [],
   "source": [
    "# 'female_adult_literacy',\n",
    "cols_rep3 = cols_for_rep1 + ['access_water', 'access_sanitation', 'physicians_rate']\n",
    "\n",
    "health_est3 = evaluate_treatment(health_df, 'mortality_under5', 'health_mean_pc_last_5', \n",
    "                          cols_rep3, add_country_feffects=False, add_constant=False, log_target=True, log_treatment=True)\n",
    "\n",
    "extract_treatment_results('Health Replication 6', health_est3, 'mortality_under5', 'health_mean_pc_last_5', health_data_cols, None)"
   ]
  },
  {
   "cell_type": "code",
   "execution_count": null,
   "id": "industrial-portuguese",
   "metadata": {},
   "outputs": [],
   "source": [
    "print(health_est3.summary())"
   ]
  },
  {
   "cell_type": "code",
   "execution_count": null,
   "id": "efficient-registrar",
   "metadata": {},
   "outputs": [],
   "source": [
    "# add project ratings\n",
    "cols_rep4 = cols_rep3 + ['w_avg_rating']\n",
    "\n",
    "health_est4 = evaluate_treatment(health_df, 'mortality_under5', 'health_mean_pc_last_5', \n",
    "                          cols_rep4, add_country_feffects=False, add_constant=False, log_target=True, log_treatment=True)\n",
    "\n",
    "extract_treatment_results('Health Replication 6', health_est4, 'mortality_under5', 'health_mean_pc_last_5', health_data_cols, None)"
   ]
  },
  {
   "cell_type": "code",
   "execution_count": null,
   "id": "recreational-castle",
   "metadata": {},
   "outputs": [],
   "source": [
    "print(health_est4.summary())"
   ]
  },
  {
   "cell_type": "markdown",
   "id": "interested-tanzania",
   "metadata": {},
   "source": [
    "## Next round of simple replications"
   ]
  },
  {
   "cell_type": "code",
   "execution_count": null,
   "id": "lucky-toner",
   "metadata": {},
   "outputs": [],
   "source": [
    "# first: restrict to projects with satisfactory ratings and better"
   ]
  },
  {
   "cell_type": "code",
   "execution_count": null,
   "id": "breeding-recording",
   "metadata": {},
   "outputs": [],
   "source": [
    "df.columns"
   ]
  },
  {
   "cell_type": "code",
   "execution_count": null,
   "id": "occasional-pacific",
   "metadata": {},
   "outputs": [],
   "source": [
    "n_est = evaluate_treatment(df, 'edu_ner', 'satisfactory_proj', data_cols,\n",
    "                          remove_feature_cols=['prior_ner_growth', 'w_avg_rating', 'prior_4year_growth'],\n",
    "                          add_country_feffects=True, add_constant=False, log_target=True, log_treatment=True)"
   ]
  },
  {
   "cell_type": "code",
   "execution_count": null,
   "id": "right-refrigerator",
   "metadata": {},
   "outputs": [],
   "source": [
    "print(n_est.summary())"
   ]
  },
  {
   "cell_type": "code",
   "execution_count": null,
   "id": "streaming-speaking",
   "metadata": {},
   "outputs": [],
   "source": [
    "# second: construct exploratory function"
   ]
  },
  {
   "cell_type": "code",
   "execution_count": null,
   "id": "understanding-friend",
   "metadata": {},
   "outputs": [],
   "source": [
    "# third: conduct for health"
   ]
  },
  {
   "cell_type": "code",
   "execution_count": null,
   "id": "mathematical-outreach",
   "metadata": {},
   "outputs": [],
   "source": [
    "# fourth: repeat for WASH"
   ]
  },
  {
   "cell_type": "code",
   "execution_count": null,
   "id": "tight-consent",
   "metadata": {},
   "outputs": [],
   "source": [
    "# fifth: summarize "
   ]
  },
  {
   "cell_type": "code",
   "execution_count": null,
   "id": "concrete-software",
   "metadata": {},
   "outputs": [],
   "source": [
    "# sixth: move onto EconML, and start planning the writing"
   ]
  },
  {
   "cell_type": "code",
   "execution_count": null,
   "id": "skilled-grocery",
   "metadata": {},
   "outputs": [],
   "source": []
  },
  {
   "cell_type": "code",
   "execution_count": null,
   "id": "overhead-implementation",
   "metadata": {},
   "outputs": [],
   "source": [
    "# future: do a pair-wise comparison, e.g., using BERT and others"
   ]
  },
  {
   "cell_type": "code",
   "execution_count": null,
   "id": "north-folks",
   "metadata": {},
   "outputs": [],
   "source": []
  }
 ],
 "metadata": {
  "kernelspec": {
   "display_name": "causal",
   "language": "python",
   "name": "causal"
  },
  "language_info": {
   "codemirror_mode": {
    "name": "ipython",
    "version": 3
   },
   "file_extension": ".py",
   "mimetype": "text/x-python",
   "name": "python",
   "nbconvert_exporter": "python",
   "pygments_lexer": "ipython3",
   "version": "3.8.8"
  }
 },
 "nbformat": 4,
 "nbformat_minor": 5
}
