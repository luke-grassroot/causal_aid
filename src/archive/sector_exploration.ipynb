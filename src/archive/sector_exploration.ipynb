{
 "cells": [
  {
   "cell_type": "code",
   "execution_count": null,
   "id": "municipal-washington",
   "metadata": {},
   "outputs": [],
   "source": [
    "import pandas as pd"
   ]
  },
  {
   "cell_type": "code",
   "execution_count": null,
   "id": "improving-murder",
   "metadata": {},
   "outputs": [],
   "source": [
    "pd.set_option(\"mode.chained_assignment\", None)"
   ]
  },
  {
   "cell_type": "code",
   "execution_count": null,
   "id": "bronze-realtor",
   "metadata": {},
   "outputs": [],
   "source": [
    "from futil import * "
   ]
  },
  {
   "cell_type": "code",
   "execution_count": null,
   "id": "detected-capacity",
   "metadata": {},
   "outputs": [],
   "source": [
    "wdi_df, series_df = load_wdi()"
   ]
  },
  {
   "cell_type": "code",
   "execution_count": null,
   "id": "hawaiian-effects",
   "metadata": {},
   "outputs": [],
   "source": [
    "series_df.columns"
   ]
  },
  {
   "cell_type": "code",
   "execution_count": null,
   "id": "legendary-calcium",
   "metadata": {},
   "outputs": [],
   "source": [
    "series_df[series_df['Indicator Name'].str.contains('Primary government')][['Indicator Name', 'Long definition']].iloc[0].to_dict()"
   ]
  },
  {
   "cell_type": "code",
   "execution_count": null,
   "id": "medieval-arbor",
   "metadata": {},
   "outputs": [],
   "source": [
    "def extract_indic_name_definition(string_fragment, columns=['Series Code', 'Indicator Name', 'Long definition']):\n",
    "    xdf = series_df[series_df['Indicator Name'].str.contains(string_fragment)]\n",
    "    print(xdf[columns].to_string())"
   ]
  },
  {
   "cell_type": "code",
   "execution_count": null,
   "id": "excited-bishop",
   "metadata": {},
   "outputs": [],
   "source": [
    "extract_indic_name_definition('budget')"
   ]
  },
  {
   "cell_type": "code",
   "execution_count": null,
   "id": "hungry-failure",
   "metadata": {},
   "outputs": [],
   "source": [
    "extract_indic_name_definition('Expense')"
   ]
  },
  {
   "cell_type": "code",
   "execution_count": null,
   "id": "radio-death",
   "metadata": {},
   "outputs": [],
   "source": [
    "extract_indic_name_definition('Tax revenue')"
   ]
  },
  {
   "cell_type": "markdown",
   "id": "expanded-international",
   "metadata": {},
   "source": [
    "To use for government budget, options:\n",
    "\n",
    "* Expense. GC.XPN.TOTL.CN (or GC.XPN.TOTL.ZS) for total expenses. But only current LCU.\n",
    "* Tax revenue. GC.TAX.TOTL.CN (or GC.TAX.TOTL.GD.ZS) for total revenue. Also only current LCU"
   ]
  },
  {
   "cell_type": "code",
   "execution_count": null,
   "id": "creative-arctic",
   "metadata": {},
   "outputs": [],
   "source": [
    "project_df = load_projects()\n",
    "project_df.head()"
   ]
  },
  {
   "cell_type": "code",
   "execution_count": null,
   "id": "first-mercy",
   "metadata": {},
   "outputs": [],
   "source": [
    "project_df.wb_lendingproject_cost.hist()"
   ]
  },
  {
   "cell_type": "code",
   "execution_count": null,
   "id": "oriental-summary",
   "metadata": {},
   "outputs": [],
   "source": [
    "len(project_df[project_df.wb_lendingproject_cost.notna()])"
   ]
  },
  {
   "cell_type": "code",
   "execution_count": null,
   "id": "upper-rouge",
   "metadata": {},
   "outputs": [],
   "source": [
    "wb_df = project_df[project_df.donor_name == 'WB']\n",
    "wb_df.groupby('wb_lendinginstrumenttype').agg(avg_size=('wb_lendingproject_cost', 'mean'))"
   ]
  },
  {
   "cell_type": "code",
   "execution_count": null,
   "id": "acknowledged-equality",
   "metadata": {},
   "outputs": [],
   "source": [
    "wb_df['start_date'] = pd.to_datetime(wb_df.start_date)\n",
    "wb_df['created_year'] = wb_df.start_date.dt.year\n",
    "wb_df[wb_df['created_year'] > 1980].groupby('created_year').agg(avg_size=('wb_lendingproject_cost', 'mean'))"
   ]
  },
  {
   "cell_type": "markdown",
   "id": "defensive-cancer",
   "metadata": {},
   "source": [
    "* Looks pretty clearly like it's USD at period, not now, so will have to combine"
   ]
  },
  {
   "cell_type": "markdown",
   "id": "false-berry",
   "metadata": {},
   "source": [
    "So use:\n",
    "\n",
    "* GDP at current USD, from WDI\n",
    "* Multiply by % of GDP\n",
    "* Compare to WB loan size"
   ]
  },
  {
   "cell_type": "code",
   "execution_count": null,
   "id": "official-smart",
   "metadata": {},
   "outputs": [],
   "source": [
    "relevant_codes = {\n",
    "    'GDP_current_USD': 'NY.GDP.MKTP.CD',\n",
    "    'GovtExpenses_current_USD': 'GC.XPN.TOTL.GD.ZS'\n",
    "}"
   ]
  },
  {
   "cell_type": "code",
   "execution_count": null,
   "id": "pediatric-oxygen",
   "metadata": {},
   "outputs": [],
   "source": [
    "wb_extract = extract_indicators(wdi_df, relevant_codes.values())"
   ]
  },
  {
   "cell_type": "code",
   "execution_count": null,
   "id": "balanced-representative",
   "metadata": {},
   "outputs": [],
   "source": [
    "def obtain_country_exp_time(expense_df, country_code):\n",
    "    country_code"
   ]
  },
  {
   "cell_type": "code",
   "execution_count": null,
   "id": "latest-blair",
   "metadata": {},
   "outputs": [],
   "source": [
    "expense_df = wb_extract[wb_extract['Indicator Code'] == 'GC.XPN.TOTL.GD.ZS']"
   ]
  },
  {
   "cell_type": "code",
   "execution_count": null,
   "id": "helpful-popularity",
   "metadata": {},
   "outputs": [],
   "source": [
    "country_code = 'ZWE' # use Zim\n",
    "country_exp_row = expense_df[expense_df['Country Code'] == country_code]\n",
    "country_exp_row"
   ]
  },
  {
   "cell_type": "code",
   "execution_count": null,
   "id": "affected-window",
   "metadata": {},
   "outputs": [],
   "source": [
    "edf = country_exp_row.drop(columns=['Indicator Name', 'Indicator Code', 'Unnamed: 65'], errors='ignore').melt(id_vars=['Country Code', 'Country Name'])"
   ]
  },
  {
   "cell_type": "code",
   "execution_count": null,
   "id": "understood-minister",
   "metadata": {},
   "outputs": [],
   "source": [
    "edf = edf.rename(columns = { 'variable': 'year' })"
   ]
  },
  {
   "cell_type": "code",
   "execution_count": null,
   "id": "twenty-termination",
   "metadata": {},
   "outputs": [],
   "source": [
    "edf.head()"
   ]
  },
  {
   "cell_type": "code",
   "execution_count": null,
   "id": "genuine-comedy",
   "metadata": {},
   "outputs": [],
   "source": [
    "edf['year'] = pd.to_datetime(edf['year'])"
   ]
  },
  {
   "cell_type": "code",
   "execution_count": null,
   "id": "correct-newark",
   "metadata": {},
   "outputs": [],
   "source": [
    "edf = edf.set_index('year')"
   ]
  },
  {
   "cell_type": "code",
   "execution_count": null,
   "id": "permanent-strap",
   "metadata": {},
   "outputs": [],
   "source": [
    "edf.interpolate()"
   ]
  },
  {
   "cell_type": "code",
   "execution_count": null,
   "id": "impossible-alloy",
   "metadata": {},
   "outputs": [],
   "source": [
    "edf.plot.line()"
   ]
  },
  {
   "cell_type": "code",
   "execution_count": null,
   "id": "orange-conversation",
   "metadata": {},
   "outputs": [],
   "source": [
    "edf.head(n=20)"
   ]
  },
  {
   "cell_type": "code",
   "execution_count": null,
   "id": "corresponding-control",
   "metadata": {},
   "outputs": [],
   "source": [
    "edf2 = expense_df.drop(columns=['Indicator Name', 'Indicator Code', 'Unnamed: 65'], errors='ignore').melt(id_vars=['Country Code', 'Country Name'])"
   ]
  },
  {
   "cell_type": "code",
   "execution_count": null,
   "id": "alert-lighter",
   "metadata": {},
   "outputs": [],
   "source": [
    "edf2.head()"
   ]
  },
  {
   "cell_type": "code",
   "execution_count": null,
   "id": "simple-contest",
   "metadata": {},
   "outputs": [],
   "source": [
    "len(edf2)"
   ]
  },
  {
   "cell_type": "code",
   "execution_count": null,
   "id": "disturbed-sculpture",
   "metadata": {},
   "outputs": [],
   "source": [
    "edf2 = edf2[edf2['Country Code'].isin(wb_df.country_code)]"
   ]
  },
  {
   "cell_type": "code",
   "execution_count": null,
   "id": "strange-hospital",
   "metadata": {},
   "outputs": [],
   "source": [
    "print(\"Ratio not available: \",  edf2.value.isna().sum() / len(edf2))"
   ]
  },
  {
   "cell_type": "code",
   "execution_count": null,
   "id": "egyptian-anatomy",
   "metadata": {},
   "outputs": [],
   "source": [
    "wb_df.created_year.hist()"
   ]
  },
  {
   "cell_type": "code",
   "execution_count": null,
   "id": "substantial-worry",
   "metadata": {},
   "outputs": [],
   "source": [
    "def calculate_ratio_na(indicator_code, earliest_year=1970):\n",
    "    indic_extract = extract_indicators(wdi_df, [indicator_code])\n",
    "    tdf = indic_extract.drop(columns=['Indicator Name', 'Indicator Code', 'Unnamed: 65'], errors='ignore').melt(id_vars=['Country Code', 'Country Name'])\n",
    "    tdf['year'] = pd.to_datetime(tdf['variable']).dt.year\n",
    "    tdf = tdf[tdf['year'] > earliest_year]\n",
    "    tdf = tdf[tdf['Country Code'].isin(wb_df.country_code)]\n",
    "    return tdf.value.isna().sum() / len(tdf)"
   ]
  },
  {
   "cell_type": "code",
   "execution_count": null,
   "id": "toxic-macedonia",
   "metadata": {},
   "outputs": [],
   "source": [
    "calculate_ratio_na('GC.XPN.TOTL.GD.ZS')"
   ]
  },
  {
   "cell_type": "code",
   "execution_count": null,
   "id": "reasonable-drove",
   "metadata": {},
   "outputs": [],
   "source": [
    "calculate_ratio_na('DT.ODA.ODAT.GN.ZS')"
   ]
  },
  {
   "cell_type": "code",
   "execution_count": null,
   "id": "caroline-myrtle",
   "metadata": {},
   "outputs": [],
   "source": [
    "# Expense. GC.XPN.TOTL.CN (or GC.XPN.TOTL.ZS) for total expenses. But only current LCU.\n",
    "# Tax revenue. GC.TAX.TOTL.CN (or GC.TAX.TOTL.GD.ZS) for total revenue. Also only current LCU"
   ]
  },
  {
   "cell_type": "code",
   "execution_count": null,
   "id": "civilian-zimbabwe",
   "metadata": {},
   "outputs": [],
   "source": [
    "candidate_vars = [\n",
    "    'NY.GDP.MKTP.CD',\n",
    "    'GC.XPN.TOTL.GD.ZS',\n",
    "    'GC.XPN.TOTL.ZS',\n",
    "    'GC.TAX.TOTL.CN',\n",
    "    'GC.TAX.TOTL.GD.ZS',\n",
    "    'IQ.CPA.FINQ.XQ',\n",
    "    'SE.XPD.TOTL.GD.ZS',\n",
    "    'GB.XPD.RSDV.GD.ZS',\n",
    "    'DT.ODA.ODAT.GN.ZS'\n",
    "]"
   ]
  },
  {
   "cell_type": "code",
   "execution_count": null,
   "id": "informative-invalid",
   "metadata": {},
   "outputs": [],
   "source": [
    "na_ratios = [calculate_ratio_na(code) for code in candidate_vars]\n",
    "print(dict(zip(candidate_vars, na_ratios)))"
   ]
  },
  {
   "cell_type": "markdown",
   "id": "simplified-supplier",
   "metadata": {},
   "source": [
    "### Result: at present, looks like we have to use just GDP in current USD. Going to have to just go with GDP."
   ]
  },
  {
   "cell_type": "markdown",
   "id": "incomplete-sunday",
   "metadata": {},
   "source": [
    "**Note**: Weirdly, have more data points for education share of expenditure"
   ]
  },
  {
   "cell_type": "code",
   "execution_count": null,
   "id": "ongoing-float",
   "metadata": {},
   "outputs": [],
   "source": [
    "extract_indic_name_definition('GDP')"
   ]
  },
  {
   "cell_type": "markdown",
   "id": "floating-maple",
   "metadata": {},
   "source": [
    "## Checking feasibility of windows with no active project"
   ]
  },
  {
   "cell_type": "code",
   "execution_count": null,
   "id": "played-aircraft",
   "metadata": {},
   "outputs": [],
   "source": [
    "project_df.head()"
   ]
  },
  {
   "cell_type": "code",
   "execution_count": null,
   "id": "authorized-metabolism",
   "metadata": {},
   "outputs": [],
   "source": [
    "project_df.crs_purpose_sector.value_counts()"
   ]
  },
  {
   "cell_type": "code",
   "execution_count": null,
   "id": "pregnant-advertising",
   "metadata": {},
   "outputs": [],
   "source": [
    "project_df.project_duration.hist()"
   ]
  },
  {
   "cell_type": "code",
   "execution_count": null,
   "id": "superior-immune",
   "metadata": {},
   "outputs": [],
   "source": [
    "project_df.mmg_purpose_sectorname.value_counts()"
   ]
  },
  {
   "cell_type": "code",
   "execution_count": null,
   "id": "elementary-decimal",
   "metadata": {},
   "outputs": [],
   "source": [
    "project_df.mmg_purpose_sector.value_counts()"
   ]
  },
  {
   "cell_type": "code",
   "execution_count": null,
   "id": "robust-shanghai",
   "metadata": {},
   "outputs": [],
   "source": [
    "project_df.aiddata_sectorname.value_counts()"
   ]
  },
  {
   "cell_type": "markdown",
   "id": "corresponding-snapshot",
   "metadata": {},
   "source": [
    "* **Note**: Will need to cross-match to SDGs, in order to match properly to data"
   ]
  },
  {
   "cell_type": "code",
   "execution_count": null,
   "id": "subtle-perspective",
   "metadata": {},
   "outputs": [],
   "source": [
    "project_df['start_dt'] = pd.to_datetime(project_df['start_date'], format='%d%b%Y', errors='coerce')"
   ]
  },
  {
   "cell_type": "code",
   "execution_count": null,
   "id": "composite-grounds",
   "metadata": {},
   "outputs": [],
   "source": [
    "project_df.groupby('aiddata_sectorname').agg(\n",
    "    number_projects=('ppd_project_id', 'nunique'),\n",
    "    earliest_year=('start_dt', 'min'),\n",
    "    latest_project=('start_dt', 'max'),\n",
    "    number_donors=('donor_name', 'nunique'),\n",
    "    avg_rating=('six_overall_rating', 'mean')\n",
    ").to_csv('../data/aiddata_purposes_honig_summary_stats.csv')"
   ]
  },
  {
   "cell_type": "code",
   "execution_count": null,
   "id": "immune-temple",
   "metadata": {},
   "outputs": [],
   "source": [
    "project_df.project_duration.describe()"
   ]
  },
  {
   "cell_type": "code",
   "execution_count": null,
   "id": "interior-candy",
   "metadata": {},
   "outputs": [],
   "source": [
    "project_df['project_years'] = project_df['project_duration'] / 365"
   ]
  },
  {
   "cell_type": "code",
   "execution_count": null,
   "id": "light-statement",
   "metadata": {},
   "outputs": [],
   "source": [
    "project_df.project_years.describe()"
   ]
  },
  {
   "cell_type": "code",
   "execution_count": null,
   "id": "capital-fountain",
   "metadata": {},
   "outputs": [],
   "source": [
    "ccode = 'GUY'"
   ]
  },
  {
   "cell_type": "code",
   "execution_count": null,
   "id": "athletic-egyptian",
   "metadata": {},
   "outputs": [],
   "source": [
    "time_cols = ['country_code', 'donor_name', 'aiddata_sectorname', 'six_overall_rating', 'start_date', 'completion_date', 'project_duration']"
   ]
  },
  {
   "cell_type": "code",
   "execution_count": null,
   "id": "federal-casino",
   "metadata": {},
   "outputs": [],
   "source": [
    "pdf = narrow_convert_project_data(project_df, time_cols)"
   ]
  },
  {
   "cell_type": "code",
   "execution_count": null,
   "id": "vanilla-cookbook",
   "metadata": {},
   "outputs": [],
   "source": [
    "pdf[pdf.country_code == ccode]"
   ]
  },
  {
   "cell_type": "code",
   "execution_count": null,
   "id": "instrumental-firewall",
   "metadata": {},
   "outputs": [],
   "source": [
    "from datetime import datetime"
   ]
  },
  {
   "cell_type": "code",
   "execution_count": null,
   "id": "peripheral-viewer",
   "metadata": {},
   "outputs": [],
   "source": [
    "pdf.completion_dt.dt.month.hist()"
   ]
  },
  {
   "cell_type": "markdown",
   "id": "opening-foundation",
   "metadata": {},
   "source": [
    "### NB reasoning on years"
   ]
  },
  {
   "cell_type": "markdown",
   "id": "alien-reservoir",
   "metadata": {},
   "source": [
    "1. Vast majority of projects have completion date as 1 January. Suggesting specific completion dates are generally not recorded, i.e., assume some normal distribution throughout year.\n",
    "2. On the other hand, by project completion most activities should have been underway for some time. So it is plausible to consider the year of the project as year 1 for lags. If a project has completion date 2010, outcome effects on a lag of 5 years would be evaluated in 2014.\n",
    "3. That also implies a no-treatment year is any in which no project is active and is not within the lag period of a completed project."
   ]
  },
  {
   "cell_type": "code",
   "execution_count": null,
   "id": "indirect-candy",
   "metadata": {},
   "outputs": [],
   "source": [
    "from datetime import datetime, timedelta"
   ]
  },
  {
   "cell_type": "code",
   "execution_count": null,
   "id": "weekly-watershed",
   "metadata": {},
   "outputs": [],
   "source": [
    "example_year = datetime(2000, 1, 1)"
   ]
  },
  {
   "cell_type": "code",
   "execution_count": null,
   "id": "adult-syndication",
   "metadata": {},
   "outputs": [],
   "source": [
    "len(pdf[pdf.start_dt > example_year])"
   ]
  },
  {
   "cell_type": "code",
   "execution_count": null,
   "id": "familiar-cemetery",
   "metadata": {},
   "outputs": [],
   "source": [
    "len(pdf)"
   ]
  },
  {
   "cell_type": "code",
   "execution_count": null,
   "id": "acoustic-genetics",
   "metadata": {},
   "outputs": [],
   "source": [
    "pdf.aiddata_sectorname.nunique()"
   ]
  },
  {
   "cell_type": "code",
   "execution_count": null,
   "id": "outside-spanking",
   "metadata": {},
   "outputs": [],
   "source": [
    "pdf.start_year.hist()"
   ]
  },
  {
   "cell_type": "code",
   "execution_count": null,
   "id": "exceptional-necklace",
   "metadata": {},
   "outputs": [],
   "source": [
    "active_projects = pdf[(pdf.start_dt < example_year) & (pdf.completion_dt > example_year)]"
   ]
  },
  {
   "cell_type": "code",
   "execution_count": null,
   "id": "sudden-crowd",
   "metadata": {},
   "outputs": [],
   "source": [
    "active_projects.head()"
   ]
  },
  {
   "cell_type": "code",
   "execution_count": null,
   "id": "bound-reservoir",
   "metadata": {},
   "outputs": [],
   "source": [
    "len(active_projects)"
   ]
  },
  {
   "cell_type": "code",
   "execution_count": null,
   "id": "sporting-oasis",
   "metadata": {},
   "outputs": [],
   "source": [
    "example_lag_years = 5"
   ]
  },
  {
   "cell_type": "code",
   "execution_count": null,
   "id": "alpine-pottery",
   "metadata": {},
   "outputs": [],
   "source": [
    "active_projects = pdf[(pdf.start_dt < example_year) & ((pdf.completion_dt + timedelta(days=(5*365))) > example_year)]"
   ]
  },
  {
   "cell_type": "code",
   "execution_count": null,
   "id": "growing-attraction",
   "metadata": {},
   "outputs": [],
   "source": [
    "len(active_projects)"
   ]
  },
  {
   "cell_type": "code",
   "execution_count": null,
   "id": "growing-phrase",
   "metadata": {},
   "outputs": [],
   "source": [
    "active_projects.country_code.nunique()"
   ]
  },
  {
   "cell_type": "code",
   "execution_count": null,
   "id": "assured-silver",
   "metadata": {},
   "outputs": [],
   "source": [
    "sectors = active_projects.groupby('country_code')['aiddata_sectorname'].nunique()"
   ]
  },
  {
   "cell_type": "code",
   "execution_count": null,
   "id": "compatible-engineering",
   "metadata": {},
   "outputs": [],
   "source": [
    "sectors"
   ]
  },
  {
   "cell_type": "code",
   "execution_count": null,
   "id": "international-juvenile",
   "metadata": {},
   "outputs": [],
   "source": [
    "sectors.ge(0).sum()"
   ]
  },
  {
   "cell_type": "code",
   "execution_count": null,
   "id": "wireless-ability",
   "metadata": {},
   "outputs": [],
   "source": [
    "active_projects.start_year.hist()"
   ]
  },
  {
   "cell_type": "code",
   "execution_count": null,
   "id": "strategic-theta",
   "metadata": {},
   "outputs": [],
   "source": [
    "active_projects.end_year.hist()"
   ]
  },
  {
   "cell_type": "code",
   "execution_count": null,
   "id": "ongoing-latest",
   "metadata": {},
   "outputs": [],
   "source": [
    "pdf.country_code.nunique()"
   ]
  },
  {
   "cell_type": "code",
   "execution_count": null,
   "id": "american-uncertainty",
   "metadata": {},
   "outputs": [],
   "source": [
    "total_countries = pdf.country_code.nunique()\n",
    "earliest_year = pdf.start_year.min()\n",
    "latest_year = pdf.start_year.max()"
   ]
  },
  {
   "cell_type": "code",
   "execution_count": null,
   "id": "prime-intranet",
   "metadata": {},
   "outputs": [],
   "source": [
    "year_range = range(int(earliest_year), int(latest_year))"
   ]
  },
  {
   "cell_type": "code",
   "execution_count": null,
   "id": "scientific-philip",
   "metadata": {},
   "outputs": [],
   "source": [
    "len(pdf.sector)"
   ]
  },
  {
   "cell_type": "code",
   "execution_count": null,
   "id": "structural-density",
   "metadata": {},
   "outputs": [],
   "source": [
    "def count_countries_in_window(year_lag=5, above_sector_count=0):\n",
    "    countries_with_active_projects = []\n",
    "    for year in year_range:\n",
    "        ref_year = datetime(year, 1, 1)\n",
    "        active_plus_lag_mask = (pdf.start_dt < ref_year) & ((pdf.completion_dt + timedelta(days=(5*365))) > ref_year)\n",
    "        active_plus_lag = pdf[active_plus_lag_mask]\n",
    "        with_sectors = active_plus_lag.groupby('country_code')['aiddata_sectorname'].nunique()\n",
    "        countries_with_active_projects.append(with_sectors.ge(above_sector_count).sum())\n",
    "    \n",
    "    prop_countries_untreated = [1 - count / total_countries for count in countries_with_active_projects]\n",
    "    return prop_countries_untreated"
   ]
  },
  {
   "cell_type": "code",
   "execution_count": null,
   "id": "weird-territory",
   "metadata": {},
   "outputs": [],
   "source": [
    "import matplotlib\n",
    "import matplotlib.pyplot as plt"
   ]
  },
  {
   "cell_type": "code",
   "execution_count": null,
   "id": "behavioral-projector",
   "metadata": {},
   "outputs": [],
   "source": [
    "fig, ax = plt.subplots()\n",
    "ax.plot(year_range, countries_with_active_projects)"
   ]
  },
  {
   "cell_type": "code",
   "execution_count": null,
   "id": "imposed-empty",
   "metadata": {},
   "outputs": [],
   "source": [
    "fig, ax = plt.subplots()\n",
    "ax.plot(year_range, count_countries_in_window())\n",
    "ax.set_ylim([0, 1])"
   ]
  },
  {
   "cell_type": "code",
   "execution_count": null,
   "id": "eligible-writer",
   "metadata": {},
   "outputs": [],
   "source": [
    "fig, ax = plt.subplots()\n",
    "ax.plot(year_range, count_countries_in_window(year_lag=5, above_sector_count=3))\n",
    "ax.set_ylim([0, 1])"
   ]
  },
  {
   "cell_type": "markdown",
   "id": "attended-massage",
   "metadata": {},
   "source": [
    "** In other words: can only get to binary using sectors"
   ]
  },
  {
   "cell_type": "code",
   "execution_count": null,
   "id": "occasional-painting",
   "metadata": {},
   "outputs": [],
   "source": []
  }
 ],
 "metadata": {
  "kernelspec": {
   "display_name": "causal",
   "language": "python",
   "name": "causal"
  },
  "language_info": {
   "codemirror_mode": {
    "name": "ipython",
    "version": 3
   },
   "file_extension": ".py",
   "mimetype": "text/x-python",
   "name": "python",
   "nbconvert_exporter": "python",
   "pygments_lexer": "ipython3",
   "version": "3.8.8"
  }
 },
 "nbformat": 4,
 "nbformat_minor": 5
}
