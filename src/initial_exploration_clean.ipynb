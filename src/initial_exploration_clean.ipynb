{
 "cells": [
  {
   "cell_type": "code",
   "execution_count": 2,
   "id": "developing-paradise",
   "metadata": {},
   "outputs": [],
   "source": [
    "import logging"
   ]
  },
  {
   "cell_type": "code",
   "execution_count": 3,
   "id": "ongoing-arabic",
   "metadata": {},
   "outputs": [],
   "source": [
    "import pandas as pd\n",
    "import numpy as np"
   ]
  },
  {
   "cell_type": "code",
   "execution_count": 4,
   "id": "executed-plaza",
   "metadata": {},
   "outputs": [],
   "source": [
    "import dowhy\n",
    "from dowhy import CausalModel"
   ]
  },
  {
   "cell_type": "code",
   "execution_count": 5,
   "id": "dominant-ready",
   "metadata": {},
   "outputs": [],
   "source": [
    "from IPython.display import Image, display"
   ]
  },
  {
   "cell_type": "code",
   "execution_count": 6,
   "id": "first-description",
   "metadata": {},
   "outputs": [],
   "source": [
    "pd.set_option(\"mode.chained_assignment\", None)"
   ]
  },
  {
   "cell_type": "code",
   "execution_count": 7,
   "id": "effective-pattern",
   "metadata": {},
   "outputs": [],
   "source": [
    "from futil import * "
   ]
  },
  {
   "cell_type": "markdown",
   "id": "interpreted-immigration",
   "metadata": {},
   "source": [
    "## Initial setup: load in the WDI, project data, etc"
   ]
  },
  {
   "cell_type": "code",
   "execution_count": 8,
   "id": "revised-diesel",
   "metadata": {},
   "outputs": [],
   "source": [
    "wdi_df, series_df = load_wdi()"
   ]
  },
  {
   "cell_type": "code",
   "execution_count": 9,
   "id": "psychological-inside",
   "metadata": {},
   "outputs": [],
   "source": [
    "gdp_per_cap_code = ['NY.GDP.PCAP.KD.ZG']\n",
    "gdp_growth_series = extract_indicators(wdi_df, gdp_per_cap_code)"
   ]
  },
  {
   "cell_type": "code",
   "execution_count": 10,
   "id": "similar-favorite",
   "metadata": {},
   "outputs": [],
   "source": [
    "project_df = load_projects()"
   ]
  },
  {
   "cell_type": "code",
   "execution_count": 11,
   "id": "changed-minister",
   "metadata": {},
   "outputs": [
    {
     "data": {
      "text/plain": [
       "WB         7146\n",
       "KfW        2229\n",
       "DFID       1917\n",
       "AsianDB    1572\n",
       "JICA        723\n",
       "GFATM       581\n",
       "GiZ         129\n",
       "IFAD         55\n",
       "Name: donor_name, dtype: int64"
      ]
     },
     "execution_count": 11,
     "metadata": {},
     "output_type": "execute_result"
    }
   ],
   "source": [
    "project_df.donor_name.value_counts()"
   ]
  },
  {
   "cell_type": "code",
   "execution_count": 12,
   "id": "outside-beach",
   "metadata": {},
   "outputs": [
    {
     "name": "stdout",
     "output_type": "stream",
     "text": [
      "Number WB projects with clean match to WDI country code:  3681\n"
     ]
    }
   ],
   "source": [
    "wb_pdf = project_df[project_df.donor_name == 'WB']\n",
    "print(\"Number WB projects with clean match to WDI country code: \", len(wb_pdf[wb_pdf.country_code.isin(gdp_growth_series['Country Code'])]))"
   ]
  },
  {
   "cell_type": "code",
   "execution_count": 63,
   "id": "independent-tucson",
   "metadata": {},
   "outputs": [],
   "source": [
    "df = wb_pdf[wb_pdf.country_code.isin(gdp_growth_series['Country Code'])]"
   ]
  },
  {
   "cell_type": "code",
   "execution_count": 64,
   "id": "worthy-object",
   "metadata": {},
   "outputs": [],
   "source": [
    "relevant_cols_from_project_df = [\n",
    " 'wb_project_id', \n",
    " 'country_code',\n",
    " 'six_overall_rating', \n",
    " 'wb_government_partner_rating', \n",
    " 'eval_lag', \n",
    " 'project_duration',\n",
    " 'project_name',\n",
    " 'original_overall_rating',\n",
    " 'wb_lendingproject_cost',\n",
    " 'wb_lendinginstrumenttype',\n",
    " 'wb_qualityatentry_rating',\n",
    " 'wb_supervisionquality_rating',\n",
    " 'wb_owninstperformance_rating',\n",
    " 'start_date',\n",
    " 'completion_date',\n",
    " 'evaluation_date'\n",
    "]"
   ]
  },
  {
   "cell_type": "code",
   "execution_count": 65,
   "id": "gross-release",
   "metadata": {},
   "outputs": [],
   "source": [
    "df = narrow_convert_project_data(df, relevant_cols_from_project_df)"
   ]
  },
  {
   "cell_type": "code",
   "execution_count": 66,
   "id": "behavioral-dealer",
   "metadata": {},
   "outputs": [],
   "source": [
    "gdp_series = extract_indicators(wdi_df, ['NY.GDP.MKTP.CD'])"
   ]
  },
  {
   "cell_type": "code",
   "execution_count": 69,
   "id": "looking-mystery",
   "metadata": {},
   "outputs": [],
   "source": [
    "def proj_share_gdp(project):\n",
    "    gdp_for_country = gdp_series[gdp_series['Country Code'] == project['country_code']]\n",
    "    if str(project['start_year']) not in gdp_for_country.columns:\n",
    "        project['gdp_cusd_year'] = np.nan\n",
    "        project['proj_share_gdp'] = np.nan\n",
    "        return project\n",
    "    \n",
    "    gdp_cusd_year = gdp_for_country[str(project['start_year'])].iloc[0]\n",
    "    project['gdp_cusd_year'] = gdp_cusd_year\n",
    "    project['proj_share_gdp'] = project['wb_lendingproject_cost'] / gdp_cusd_year\n",
    "    return project"
   ]
  },
  {
   "cell_type": "code",
   "execution_count": 70,
   "id": "charming-saver",
   "metadata": {},
   "outputs": [],
   "source": [
    "df = df.apply(proj_share_gdp, axis=1)"
   ]
  },
  {
   "cell_type": "code",
   "execution_count": 71,
   "id": "auburn-regular",
   "metadata": {},
   "outputs": [
    {
     "data": {
      "text/html": [
       "<div>\n",
       "<style scoped>\n",
       "    .dataframe tbody tr th:only-of-type {\n",
       "        vertical-align: middle;\n",
       "    }\n",
       "\n",
       "    .dataframe tbody tr th {\n",
       "        vertical-align: top;\n",
       "    }\n",
       "\n",
       "    .dataframe thead th {\n",
       "        text-align: right;\n",
       "    }\n",
       "</style>\n",
       "<table border=\"1\" class=\"dataframe\">\n",
       "  <thead>\n",
       "    <tr style=\"text-align: right;\">\n",
       "      <th></th>\n",
       "      <th>wb_project_id</th>\n",
       "      <th>country_code</th>\n",
       "      <th>six_overall_rating</th>\n",
       "      <th>wb_government_partner_rating</th>\n",
       "      <th>eval_lag</th>\n",
       "      <th>project_duration</th>\n",
       "      <th>project_name</th>\n",
       "      <th>original_overall_rating</th>\n",
       "      <th>wb_lendingproject_cost</th>\n",
       "      <th>wb_lendinginstrumenttype</th>\n",
       "      <th>...</th>\n",
       "      <th>wb_owninstperformance_rating</th>\n",
       "      <th>start_date</th>\n",
       "      <th>completion_date</th>\n",
       "      <th>evaluation_date</th>\n",
       "      <th>start_dt</th>\n",
       "      <th>start_year</th>\n",
       "      <th>completion_dt</th>\n",
       "      <th>end_year</th>\n",
       "      <th>gdp_cusd_year</th>\n",
       "      <th>proj_share_gdp</th>\n",
       "    </tr>\n",
       "  </thead>\n",
       "  <tbody>\n",
       "    <tr>\n",
       "      <th>6496</th>\n",
       "      <td>P057271</td>\n",
       "      <td>GUY</td>\n",
       "      <td>5.0</td>\n",
       "      <td>5.0</td>\n",
       "      <td>365.0</td>\n",
       "      <td>1095.0</td>\n",
       "      <td>Emergency Assistance Project</td>\n",
       "      <td>5.0</td>\n",
       "      <td>10200000.0</td>\n",
       "      <td>ERL</td>\n",
       "      <td>...</td>\n",
       "      <td>5.0</td>\n",
       "      <td>01jan1999</td>\n",
       "      <td>01jan2002</td>\n",
       "      <td>01jan2003</td>\n",
       "      <td>1999-01-01</td>\n",
       "      <td>1999</td>\n",
       "      <td>2002-01-01</td>\n",
       "      <td>2002.0</td>\n",
       "      <td>6.947550e+08</td>\n",
       "      <td>0.014681</td>\n",
       "    </tr>\n",
       "    <tr>\n",
       "      <th>6497</th>\n",
       "      <td>P009674</td>\n",
       "      <td>IND</td>\n",
       "      <td>5.0</td>\n",
       "      <td>NaN</td>\n",
       "      <td>1460.0</td>\n",
       "      <td>2555.0</td>\n",
       "      <td>(DFC) IDBI I</td>\n",
       "      <td>5.0</td>\n",
       "      <td>0.0</td>\n",
       "      <td>FIL</td>\n",
       "      <td>...</td>\n",
       "      <td>NaN</td>\n",
       "      <td>01sep1973</td>\n",
       "      <td>01jan1980</td>\n",
       "      <td>01jan1984</td>\n",
       "      <td>1973-09-01</td>\n",
       "      <td>1973</td>\n",
       "      <td>1980-01-01</td>\n",
       "      <td>1980.0</td>\n",
       "      <td>8.551527e+10</td>\n",
       "      <td>0.000000</td>\n",
       "    </tr>\n",
       "    <tr>\n",
       "      <th>6498</th>\n",
       "      <td>P102095</td>\n",
       "      <td>COL</td>\n",
       "      <td>6.0</td>\n",
       "      <td>6.0</td>\n",
       "      <td>730.0</td>\n",
       "      <td>730.0</td>\n",
       "      <td>(LKD) GPOBA W3: Colombia Natural Gas</td>\n",
       "      <td>6.0</td>\n",
       "      <td>5085000.0</td>\n",
       "      <td>SIL</td>\n",
       "      <td>...</td>\n",
       "      <td>5.0</td>\n",
       "      <td>01jan2006</td>\n",
       "      <td>01jan2008</td>\n",
       "      <td>01jan2010</td>\n",
       "      <td>2006-01-01</td>\n",
       "      <td>2006</td>\n",
       "      <td>2008-01-01</td>\n",
       "      <td>2008.0</td>\n",
       "      <td>1.616186e+11</td>\n",
       "      <td>0.000031</td>\n",
       "    </tr>\n",
       "    <tr>\n",
       "      <th>6500</th>\n",
       "      <td>P043871</td>\n",
       "      <td>BRA</td>\n",
       "      <td>5.0</td>\n",
       "      <td>5.0</td>\n",
       "      <td>365.0</td>\n",
       "      <td>1825.0</td>\n",
       "      <td>(PIAUI)R.POVERTY</td>\n",
       "      <td>5.0</td>\n",
       "      <td>40000000.0</td>\n",
       "      <td>SIL</td>\n",
       "      <td>...</td>\n",
       "      <td>5.0</td>\n",
       "      <td>12dec1996</td>\n",
       "      <td>01jan2002</td>\n",
       "      <td>01jan2003</td>\n",
       "      <td>1996-12-12</td>\n",
       "      <td>1996</td>\n",
       "      <td>2002-01-01</td>\n",
       "      <td>2002.0</td>\n",
       "      <td>8.504264e+11</td>\n",
       "      <td>0.000047</td>\n",
       "    </tr>\n",
       "    <tr>\n",
       "      <th>6502</th>\n",
       "      <td>P010415</td>\n",
       "      <td>PAK</td>\n",
       "      <td>5.0</td>\n",
       "      <td>5.0</td>\n",
       "      <td>365.0</td>\n",
       "      <td>1825.0</td>\n",
       "      <td>1992 FLOOD DAMAGE RE</td>\n",
       "      <td>5.0</td>\n",
       "      <td>397200000.0</td>\n",
       "      <td>ERL</td>\n",
       "      <td>...</td>\n",
       "      <td>5.0</td>\n",
       "      <td>03apr1993</td>\n",
       "      <td>01jan1998</td>\n",
       "      <td>01jan1999</td>\n",
       "      <td>1993-04-03</td>\n",
       "      <td>1993</td>\n",
       "      <td>1998-01-01</td>\n",
       "      <td>1998.0</td>\n",
       "      <td>5.180995e+10</td>\n",
       "      <td>0.007666</td>\n",
       "    </tr>\n",
       "  </tbody>\n",
       "</table>\n",
       "<p>5 rows × 22 columns</p>\n",
       "</div>"
      ],
      "text/plain": [
       "     wb_project_id country_code  six_overall_rating  \\\n",
       "6496       P057271          GUY                 5.0   \n",
       "6497       P009674          IND                 5.0   \n",
       "6498       P102095          COL                 6.0   \n",
       "6500       P043871          BRA                 5.0   \n",
       "6502       P010415          PAK                 5.0   \n",
       "\n",
       "      wb_government_partner_rating  eval_lag  project_duration  \\\n",
       "6496                           5.0     365.0            1095.0   \n",
       "6497                           NaN    1460.0            2555.0   \n",
       "6498                           6.0     730.0             730.0   \n",
       "6500                           5.0     365.0            1825.0   \n",
       "6502                           5.0     365.0            1825.0   \n",
       "\n",
       "                              project_name  original_overall_rating  \\\n",
       "6496          Emergency Assistance Project                      5.0   \n",
       "6497                          (DFC) IDBI I                      5.0   \n",
       "6498  (LKD) GPOBA W3: Colombia Natural Gas                      6.0   \n",
       "6500                      (PIAUI)R.POVERTY                      5.0   \n",
       "6502                  1992 FLOOD DAMAGE RE                      5.0   \n",
       "\n",
       "      wb_lendingproject_cost wb_lendinginstrumenttype  ...  \\\n",
       "6496              10200000.0                      ERL  ...   \n",
       "6497                     0.0                      FIL  ...   \n",
       "6498               5085000.0                      SIL  ...   \n",
       "6500              40000000.0                      SIL  ...   \n",
       "6502             397200000.0                      ERL  ...   \n",
       "\n",
       "      wb_owninstperformance_rating  start_date  completion_date  \\\n",
       "6496                           5.0   01jan1999        01jan2002   \n",
       "6497                           NaN   01sep1973        01jan1980   \n",
       "6498                           5.0   01jan2006        01jan2008   \n",
       "6500                           5.0   12dec1996        01jan2002   \n",
       "6502                           5.0   03apr1993        01jan1998   \n",
       "\n",
       "     evaluation_date   start_dt start_year completion_dt  end_year  \\\n",
       "6496       01jan2003 1999-01-01       1999    2002-01-01    2002.0   \n",
       "6497       01jan1984 1973-09-01       1973    1980-01-01    1980.0   \n",
       "6498       01jan2010 2006-01-01       2006    2008-01-01    2008.0   \n",
       "6500       01jan2003 1996-12-12       1996    2002-01-01    2002.0   \n",
       "6502       01jan1999 1993-04-03       1993    1998-01-01    1998.0   \n",
       "\n",
       "     gdp_cusd_year  proj_share_gdp  \n",
       "6496  6.947550e+08        0.014681  \n",
       "6497  8.551527e+10        0.000000  \n",
       "6498  1.616186e+11        0.000031  \n",
       "6500  8.504264e+11        0.000047  \n",
       "6502  5.180995e+10        0.007666  \n",
       "\n",
       "[5 rows x 22 columns]"
      ]
     },
     "execution_count": 71,
     "metadata": {},
     "output_type": "execute_result"
    }
   ],
   "source": [
    "df.head()"
   ]
  },
  {
   "cell_type": "code",
   "execution_count": 73,
   "id": "parental-wheat",
   "metadata": {},
   "outputs": [
    {
     "data": {
      "text/plain": [
       "<AxesSubplot:>"
      ]
     },
     "execution_count": 73,
     "metadata": {},
     "output_type": "execute_result"
    },
    {
     "data": {
      "image/png": "[encoded data removed]",
      "text/plain": [
       "<Figure size 432x288 with 1 Axes>"
      ]
     },
     "metadata": {
      "needs_background": "light"
     },
     "output_type": "display_data"
    }
   ],
   "source": [
    "df[df.proj_share_gdp < 0.05].proj_share_gdp.hist()"
   ]
  },
  {
   "cell_type": "code",
   "execution_count": 74,
   "id": "formed-grenada",
   "metadata": {},
   "outputs": [
    {
     "data": {
      "text/html": [
       "<div>\n",
       "<style scoped>\n",
       "    .dataframe tbody tr th:only-of-type {\n",
       "        vertical-align: middle;\n",
       "    }\n",
       "\n",
       "    .dataframe tbody tr th {\n",
       "        vertical-align: top;\n",
       "    }\n",
       "\n",
       "    .dataframe thead th {\n",
       "        text-align: right;\n",
       "    }\n",
       "</style>\n",
       "<table border=\"1\" class=\"dataframe\">\n",
       "  <thead>\n",
       "    <tr style=\"text-align: right;\">\n",
       "      <th></th>\n",
       "      <th>wb_project_id</th>\n",
       "      <th>country_code</th>\n",
       "      <th>six_overall_rating</th>\n",
       "      <th>wb_government_partner_rating</th>\n",
       "      <th>eval_lag</th>\n",
       "      <th>project_duration</th>\n",
       "      <th>project_name</th>\n",
       "      <th>original_overall_rating</th>\n",
       "      <th>wb_lendingproject_cost</th>\n",
       "      <th>wb_lendinginstrumenttype</th>\n",
       "      <th>...</th>\n",
       "      <th>wb_owninstperformance_rating</th>\n",
       "      <th>start_date</th>\n",
       "      <th>completion_date</th>\n",
       "      <th>evaluation_date</th>\n",
       "      <th>start_dt</th>\n",
       "      <th>start_year</th>\n",
       "      <th>completion_dt</th>\n",
       "      <th>end_year</th>\n",
       "      <th>gdp_cusd_year</th>\n",
       "      <th>proj_share_gdp</th>\n",
       "    </tr>\n",
       "  </thead>\n",
       "  <tbody>\n",
       "    <tr>\n",
       "      <th>7763</th>\n",
       "      <td>P004809</td>\n",
       "      <td>TON</td>\n",
       "      <td>2.0</td>\n",
       "      <td>2.0</td>\n",
       "      <td>1460.0</td>\n",
       "      <td>2190.0</td>\n",
       "      <td>DEVELOPMENT BANK II</td>\n",
       "      <td>2.0</td>\n",
       "      <td>1.530000e+07</td>\n",
       "      <td>FIL</td>\n",
       "      <td>...</td>\n",
       "      <td>2.0</td>\n",
       "      <td>01apr1990</td>\n",
       "      <td>01jan1996</td>\n",
       "      <td>01jan2000</td>\n",
       "      <td>1990-04-01</td>\n",
       "      <td>1990</td>\n",
       "      <td>1996-01-01</td>\n",
       "      <td>1996.0</td>\n",
       "      <td>1.135638e+08</td>\n",
       "      <td>0.134726</td>\n",
       "    </tr>\n",
       "    <tr>\n",
       "      <th>8361</th>\n",
       "      <td>P004863</td>\n",
       "      <td>WSM</td>\n",
       "      <td>5.0</td>\n",
       "      <td>5.0</td>\n",
       "      <td>365.0</td>\n",
       "      <td>2920.0</td>\n",
       "      <td>EMERGENCY ROAD REHAB</td>\n",
       "      <td>5.0</td>\n",
       "      <td>2.120000e+07</td>\n",
       "      <td>ERL</td>\n",
       "      <td>...</td>\n",
       "      <td>6.0</td>\n",
       "      <td>01jan1990</td>\n",
       "      <td>01jan1998</td>\n",
       "      <td>01jan1999</td>\n",
       "      <td>1990-01-01</td>\n",
       "      <td>1990</td>\n",
       "      <td>1998-01-01</td>\n",
       "      <td>1998.0</td>\n",
       "      <td>1.257663e+08</td>\n",
       "      <td>0.168567</td>\n",
       "    </tr>\n",
       "    <tr>\n",
       "      <th>8472</th>\n",
       "      <td>P044674</td>\n",
       "      <td>ERI</td>\n",
       "      <td>5.0</td>\n",
       "      <td>5.0</td>\n",
       "      <td>730.0</td>\n",
       "      <td>1460.0</td>\n",
       "      <td>ER-Emerg Reconstr ERL (FY01)</td>\n",
       "      <td>5.0</td>\n",
       "      <td>2.927000e+08</td>\n",
       "      <td>ERL</td>\n",
       "      <td>...</td>\n",
       "      <td>5.0</td>\n",
       "      <td>01jan2001</td>\n",
       "      <td>01jan2005</td>\n",
       "      <td>01jan2007</td>\n",
       "      <td>2001-01-01</td>\n",
       "      <td>2001</td>\n",
       "      <td>2005-01-01</td>\n",
       "      <td>2005.0</td>\n",
       "      <td>7.523685e+08</td>\n",
       "      <td>0.389038</td>\n",
       "    </tr>\n",
       "    <tr>\n",
       "      <th>8553</th>\n",
       "      <td>P040650</td>\n",
       "      <td>MLI</td>\n",
       "      <td>4.0</td>\n",
       "      <td>4.0</td>\n",
       "      <td>365.0</td>\n",
       "      <td>2190.0</td>\n",
       "      <td>Edu Sec Exp Prgm APL (FY01) - (PISE)</td>\n",
       "      <td>4.0</td>\n",
       "      <td>5.412000e+08</td>\n",
       "      <td>APL</td>\n",
       "      <td>...</td>\n",
       "      <td>5.0</td>\n",
       "      <td>01jan2001</td>\n",
       "      <td>01jan2007</td>\n",
       "      <td>01jan2008</td>\n",
       "      <td>2001-01-01</td>\n",
       "      <td>2001</td>\n",
       "      <td>2007-01-01</td>\n",
       "      <td>2007.0</td>\n",
       "      <td>3.465306e+09</td>\n",
       "      <td>0.156177</td>\n",
       "    </tr>\n",
       "    <tr>\n",
       "      <th>8932</th>\n",
       "      <td>P073649</td>\n",
       "      <td>GHA</td>\n",
       "      <td>3.0</td>\n",
       "      <td>3.0</td>\n",
       "      <td>365.0</td>\n",
       "      <td>1460.0</td>\n",
       "      <td>GH-Health Sec Prgm Supt 2 (FY03)</td>\n",
       "      <td>3.0</td>\n",
       "      <td>1.113000e+09</td>\n",
       "      <td>SIL</td>\n",
       "      <td>...</td>\n",
       "      <td>3.0</td>\n",
       "      <td>02jun2003</td>\n",
       "      <td>01jan2007</td>\n",
       "      <td>01jan2008</td>\n",
       "      <td>2003-06-02</td>\n",
       "      <td>2003</td>\n",
       "      <td>2007-01-01</td>\n",
       "      <td>2007.0</td>\n",
       "      <td>7.632407e+09</td>\n",
       "      <td>0.145826</td>\n",
       "    </tr>\n",
       "    <tr>\n",
       "      <th>8940</th>\n",
       "      <td>P050623</td>\n",
       "      <td>GHA</td>\n",
       "      <td>5.0</td>\n",
       "      <td>5.0</td>\n",
       "      <td>365.0</td>\n",
       "      <td>2190.0</td>\n",
       "      <td>GH-Road Sec Dev Project (FY02)</td>\n",
       "      <td>5.0</td>\n",
       "      <td>1.191000e+09</td>\n",
       "      <td>SIL</td>\n",
       "      <td>...</td>\n",
       "      <td>5.0</td>\n",
       "      <td>01jan2002</td>\n",
       "      <td>01jan2008</td>\n",
       "      <td>01jan2009</td>\n",
       "      <td>2002-01-01</td>\n",
       "      <td>2002</td>\n",
       "      <td>2008-01-01</td>\n",
       "      <td>2008.0</td>\n",
       "      <td>6.166330e+09</td>\n",
       "      <td>0.193146</td>\n",
       "    </tr>\n",
       "    <tr>\n",
       "      <th>9021</th>\n",
       "      <td>P035688</td>\n",
       "      <td>GNB</td>\n",
       "      <td>3.0</td>\n",
       "      <td>2.0</td>\n",
       "      <td>365.0</td>\n",
       "      <td>3650.0</td>\n",
       "      <td>GW-National Health Dev. Prog. (FY98)</td>\n",
       "      <td>3.0</td>\n",
       "      <td>6.610000e+07</td>\n",
       "      <td>SIL</td>\n",
       "      <td>...</td>\n",
       "      <td>4.0</td>\n",
       "      <td>01jan1998</td>\n",
       "      <td>01jan2008</td>\n",
       "      <td>01jan2009</td>\n",
       "      <td>1998-01-01</td>\n",
       "      <td>1998</td>\n",
       "      <td>2008-01-01</td>\n",
       "      <td>2008.0</td>\n",
       "      <td>2.064575e+08</td>\n",
       "      <td>0.320163</td>\n",
       "    </tr>\n",
       "    <tr>\n",
       "      <th>10129</th>\n",
       "      <td>P102915</td>\n",
       "      <td>LBR</td>\n",
       "      <td>5.0</td>\n",
       "      <td>5.0</td>\n",
       "      <td>365.0</td>\n",
       "      <td>0.0</td>\n",
       "      <td>LR-Re-eng. and Reform Support (DPO)</td>\n",
       "      <td>5.0</td>\n",
       "      <td>4.300000e+08</td>\n",
       "      <td>DPL</td>\n",
       "      <td>...</td>\n",
       "      <td>5.0</td>\n",
       "      <td>12apr2007</td>\n",
       "      <td>01jan2008</td>\n",
       "      <td>01jan2009</td>\n",
       "      <td>2007-04-12</td>\n",
       "      <td>2007</td>\n",
       "      <td>2008-01-01</td>\n",
       "      <td>2008.0</td>\n",
       "      <td>1.373000e+09</td>\n",
       "      <td>0.313183</td>\n",
       "    </tr>\n",
       "    <tr>\n",
       "      <th>10327</th>\n",
       "      <td>P001730</td>\n",
       "      <td>MLI</td>\n",
       "      <td>4.0</td>\n",
       "      <td>5.0</td>\n",
       "      <td>365.0</td>\n",
       "      <td>4015.0</td>\n",
       "      <td>ML TRANSPORT SECTOR</td>\n",
       "      <td>4.0</td>\n",
       "      <td>3.057000e+08</td>\n",
       "      <td>SIL</td>\n",
       "      <td>...</td>\n",
       "      <td>5.0</td>\n",
       "      <td>01jan1994</td>\n",
       "      <td>01jan2005</td>\n",
       "      <td>01jan2006</td>\n",
       "      <td>1994-01-01</td>\n",
       "      <td>1994</td>\n",
       "      <td>2005-01-01</td>\n",
       "      <td>2005.0</td>\n",
       "      <td>2.081846e+09</td>\n",
       "      <td>0.146841</td>\n",
       "    </tr>\n",
       "    <tr>\n",
       "      <th>12495</th>\n",
       "      <td>P047319</td>\n",
       "      <td>SEN</td>\n",
       "      <td>4.0</td>\n",
       "      <td>5.0</td>\n",
       "      <td>365.0</td>\n",
       "      <td>2190.0</td>\n",
       "      <td>SN-Quality Edu For All (FY00)</td>\n",
       "      <td>4.0</td>\n",
       "      <td>9.260000e+08</td>\n",
       "      <td>APL</td>\n",
       "      <td>...</td>\n",
       "      <td>5.0</td>\n",
       "      <td>04nov2000</td>\n",
       "      <td>01jan2006</td>\n",
       "      <td>01jan2007</td>\n",
       "      <td>2000-11-04</td>\n",
       "      <td>2000</td>\n",
       "      <td>2006-01-01</td>\n",
       "      <td>2006.0</td>\n",
       "      <td>5.924240e+09</td>\n",
       "      <td>0.156307</td>\n",
       "    </tr>\n",
       "    <tr>\n",
       "      <th>13104</th>\n",
       "      <td>P035915</td>\n",
       "      <td>GNB</td>\n",
       "      <td>1.0</td>\n",
       "      <td>2.0</td>\n",
       "      <td>365.0</td>\n",
       "      <td>2190.0</td>\n",
       "      <td>TRANSPORT AND URBAN INFRASTRUCTURE</td>\n",
       "      <td>1.0</td>\n",
       "      <td>3.350000e+07</td>\n",
       "      <td>SIL</td>\n",
       "      <td>...</td>\n",
       "      <td>1.0</td>\n",
       "      <td>01jan1995</td>\n",
       "      <td>01jan2001</td>\n",
       "      <td>01jan2002</td>\n",
       "      <td>1995-01-01</td>\n",
       "      <td>1995</td>\n",
       "      <td>2001-01-01</td>\n",
       "      <td>2001.0</td>\n",
       "      <td>2.539669e+08</td>\n",
       "      <td>0.131907</td>\n",
       "    </tr>\n",
       "    <tr>\n",
       "      <th>13206</th>\n",
       "      <td>P002929</td>\n",
       "      <td>UGA</td>\n",
       "      <td>2.0</td>\n",
       "      <td>3.0</td>\n",
       "      <td>2190.0</td>\n",
       "      <td>4015.0</td>\n",
       "      <td>UG POWER III</td>\n",
       "      <td>2.0</td>\n",
       "      <td>3.350000e+08</td>\n",
       "      <td>SIL</td>\n",
       "      <td>...</td>\n",
       "      <td>2.0</td>\n",
       "      <td>01jan1991</td>\n",
       "      <td>01jan2002</td>\n",
       "      <td>01jan2008</td>\n",
       "      <td>1991-01-01</td>\n",
       "      <td>1991</td>\n",
       "      <td>2002-01-01</td>\n",
       "      <td>2002.0</td>\n",
       "      <td>3.321729e+09</td>\n",
       "      <td>0.100851</td>\n",
       "    </tr>\n",
       "  </tbody>\n",
       "</table>\n",
       "<p>12 rows × 22 columns</p>\n",
       "</div>"
      ],
      "text/plain": [
       "      wb_project_id country_code  six_overall_rating  \\\n",
       "7763        P004809          TON                 2.0   \n",
       "8361        P004863          WSM                 5.0   \n",
       "8472        P044674          ERI                 5.0   \n",
       "8553        P040650          MLI                 4.0   \n",
       "8932        P073649          GHA                 3.0   \n",
       "8940        P050623          GHA                 5.0   \n",
       "9021        P035688          GNB                 3.0   \n",
       "10129       P102915          LBR                 5.0   \n",
       "10327       P001730          MLI                 4.0   \n",
       "12495       P047319          SEN                 4.0   \n",
       "13104       P035915          GNB                 1.0   \n",
       "13206       P002929          UGA                 2.0   \n",
       "\n",
       "       wb_government_partner_rating  eval_lag  project_duration  \\\n",
       "7763                            2.0    1460.0            2190.0   \n",
       "8361                            5.0     365.0            2920.0   \n",
       "8472                            5.0     730.0            1460.0   \n",
       "8553                            4.0     365.0            2190.0   \n",
       "8932                            3.0     365.0            1460.0   \n",
       "8940                            5.0     365.0            2190.0   \n",
       "9021                            2.0     365.0            3650.0   \n",
       "10129                           5.0     365.0               0.0   \n",
       "10327                           5.0     365.0            4015.0   \n",
       "12495                           5.0     365.0            2190.0   \n",
       "13104                           2.0     365.0            2190.0   \n",
       "13206                           3.0    2190.0            4015.0   \n",
       "\n",
       "                               project_name  original_overall_rating  \\\n",
       "7763                    DEVELOPMENT BANK II                      2.0   \n",
       "8361                   EMERGENCY ROAD REHAB                      5.0   \n",
       "8472           ER-Emerg Reconstr ERL (FY01)                      5.0   \n",
       "8553   Edu Sec Exp Prgm APL (FY01) - (PISE)                      4.0   \n",
       "8932       GH-Health Sec Prgm Supt 2 (FY03)                      3.0   \n",
       "8940         GH-Road Sec Dev Project (FY02)                      5.0   \n",
       "9021   GW-National Health Dev. Prog. (FY98)                      3.0   \n",
       "10129   LR-Re-eng. and Reform Support (DPO)                      5.0   \n",
       "10327                   ML TRANSPORT SECTOR                      4.0   \n",
       "12495         SN-Quality Edu For All (FY00)                      4.0   \n",
       "13104    TRANSPORT AND URBAN INFRASTRUCTURE                      1.0   \n",
       "13206                          UG POWER III                      2.0   \n",
       "\n",
       "       wb_lendingproject_cost wb_lendinginstrumenttype  ...  \\\n",
       "7763             1.530000e+07                      FIL  ...   \n",
       "8361             2.120000e+07                      ERL  ...   \n",
       "8472             2.927000e+08                      ERL  ...   \n",
       "8553             5.412000e+08                      APL  ...   \n",
       "8932             1.113000e+09                      SIL  ...   \n",
       "8940             1.191000e+09                      SIL  ...   \n",
       "9021             6.610000e+07                      SIL  ...   \n",
       "10129            4.300000e+08                      DPL  ...   \n",
       "10327            3.057000e+08                      SIL  ...   \n",
       "12495            9.260000e+08                      APL  ...   \n",
       "13104            3.350000e+07                      SIL  ...   \n",
       "13206            3.350000e+08                      SIL  ...   \n",
       "\n",
       "       wb_owninstperformance_rating  start_date  completion_date  \\\n",
       "7763                            2.0   01apr1990        01jan1996   \n",
       "8361                            6.0   01jan1990        01jan1998   \n",
       "8472                            5.0   01jan2001        01jan2005   \n",
       "8553                            5.0   01jan2001        01jan2007   \n",
       "8932                            3.0   02jun2003        01jan2007   \n",
       "8940                            5.0   01jan2002        01jan2008   \n",
       "9021                            4.0   01jan1998        01jan2008   \n",
       "10129                           5.0   12apr2007        01jan2008   \n",
       "10327                           5.0   01jan1994        01jan2005   \n",
       "12495                           5.0   04nov2000        01jan2006   \n",
       "13104                           1.0   01jan1995        01jan2001   \n",
       "13206                           2.0   01jan1991        01jan2002   \n",
       "\n",
       "      evaluation_date   start_dt start_year completion_dt  end_year  \\\n",
       "7763        01jan2000 1990-04-01       1990    1996-01-01    1996.0   \n",
       "8361        01jan1999 1990-01-01       1990    1998-01-01    1998.0   \n",
       "8472        01jan2007 2001-01-01       2001    2005-01-01    2005.0   \n",
       "8553        01jan2008 2001-01-01       2001    2007-01-01    2007.0   \n",
       "8932        01jan2008 2003-06-02       2003    2007-01-01    2007.0   \n",
       "8940        01jan2009 2002-01-01       2002    2008-01-01    2008.0   \n",
       "9021        01jan2009 1998-01-01       1998    2008-01-01    2008.0   \n",
       "10129       01jan2009 2007-04-12       2007    2008-01-01    2008.0   \n",
       "10327       01jan2006 1994-01-01       1994    2005-01-01    2005.0   \n",
       "12495       01jan2007 2000-11-04       2000    2006-01-01    2006.0   \n",
       "13104       01jan2002 1995-01-01       1995    2001-01-01    2001.0   \n",
       "13206       01jan2008 1991-01-01       1991    2002-01-01    2002.0   \n",
       "\n",
       "      gdp_cusd_year  proj_share_gdp  \n",
       "7763   1.135638e+08        0.134726  \n",
       "8361   1.257663e+08        0.168567  \n",
       "8472   7.523685e+08        0.389038  \n",
       "8553   3.465306e+09        0.156177  \n",
       "8932   7.632407e+09        0.145826  \n",
       "8940   6.166330e+09        0.193146  \n",
       "9021   2.064575e+08        0.320163  \n",
       "10129  1.373000e+09        0.313183  \n",
       "10327  2.081846e+09        0.146841  \n",
       "12495  5.924240e+09        0.156307  \n",
       "13104  2.539669e+08        0.131907  \n",
       "13206  3.321729e+09        0.100851  \n",
       "\n",
       "[12 rows x 22 columns]"
      ]
     },
     "execution_count": 74,
     "metadata": {},
     "output_type": "execute_result"
    }
   ],
   "source": [
    "df[df.proj_share_gdp > 0.1]"
   ]
  },
  {
   "cell_type": "markdown",
   "id": "competitive-mainland",
   "metadata": {},
   "source": [
    "## Extract indicator averages before, during and after projects (will automate to allow walking over lags)"
   ]
  },
  {
   "cell_type": "code",
   "execution_count": 17,
   "id": "sticky-kuwait",
   "metadata": {},
   "outputs": [],
   "source": [
    "df = df.apply(lambda project: extract_indicator_pre_during_post(project, \"growth\", gdp_growth_series), axis=1)"
   ]
  },
  {
   "cell_type": "code",
   "execution_count": 18,
   "id": "domestic-atlantic",
   "metadata": {},
   "outputs": [
    {
     "data": {
      "text/plain": [
       "<AxesSubplot:>"
      ]
     },
     "execution_count": 18,
     "metadata": {},
     "output_type": "execute_result"
    },
    {
     "data": {
      "image/png": "[encoded data removed]",
      "text/plain": [
       "<Figure size 432x288 with 1 Axes>"
      ]
     },
     "metadata": {
      "needs_background": "light"
     },
     "output_type": "display_data"
    }
   ],
   "source": [
    "df.growth_prior.hist()"
   ]
  },
  {
   "cell_type": "code",
   "execution_count": 19,
   "id": "other-health",
   "metadata": {},
   "outputs": [
    {
     "data": {
      "text/plain": [
       "<AxesSubplot:>"
      ]
     },
     "execution_count": 19,
     "metadata": {},
     "output_type": "execute_result"
    },
    {
     "data": {
      "image/png": "[encoded data removed]",
      "text/plain": [
       "<Figure size 432x288 with 1 Axes>"
      ]
     },
     "metadata": {
      "needs_background": "light"
     },
     "output_type": "display_data"
    }
   ],
   "source": [
    "df.growth_during.hist()"
   ]
  },
  {
   "cell_type": "code",
   "execution_count": 20,
   "id": "experimental-spring",
   "metadata": {},
   "outputs": [
    {
     "data": {
      "text/plain": [
       "<AxesSubplot:>"
      ]
     },
     "execution_count": 20,
     "metadata": {},
     "output_type": "execute_result"
    },
    {
     "data": {
      "image/png": "[encoded data removed]",
      "text/plain": [
       "<Figure size 432x288 with 1 Axes>"
      ]
     },
     "metadata": {
      "needs_background": "light"
     },
     "output_type": "display_data"
    }
   ],
   "source": [
    "df.growth_post.hist()"
   ]
  },
  {
   "cell_type": "code",
   "execution_count": 21,
   "id": "developing-consent",
   "metadata": {},
   "outputs": [
    {
     "data": {
      "text/plain": [
       "count    3676.000000\n",
       "mean        2.483981\n",
       "std         3.188126\n",
       "min        -9.276867\n",
       "25%         0.481342\n",
       "50%         2.096917\n",
       "75%         3.876678\n",
       "max        21.244872\n",
       "Name: growth_during, dtype: float64"
      ]
     },
     "execution_count": 21,
     "metadata": {},
     "output_type": "execute_result"
    }
   ],
   "source": [
    "df.growth_during.describe()"
   ]
  },
  {
   "cell_type": "code",
   "execution_count": 22,
   "id": "residential-chase",
   "metadata": {},
   "outputs": [
    {
     "data": {
      "text/plain": [
       "count    3676.000000\n",
       "mean        2.634407\n",
       "std         3.163606\n",
       "min        -7.905942\n",
       "25%         0.615209\n",
       "50%         2.394937\n",
       "75%         4.031064\n",
       "max        20.060154\n",
       "Name: growth_post, dtype: float64"
      ]
     },
     "execution_count": 22,
     "metadata": {},
     "output_type": "execute_result"
    }
   ],
   "source": [
    "df.growth_post.describe()"
   ]
  },
  {
   "cell_type": "markdown",
   "id": "realistic-mexican",
   "metadata": {},
   "source": [
    "## Initial causal runs"
   ]
  },
  {
   "cell_type": "code",
   "execution_count": 23,
   "id": "creative-cherry",
   "metadata": {},
   "outputs": [],
   "source": [
    "rating_growth_graph = \"\"\"digraph { \n",
    "    \"Govt-Quality\"[latent];\n",
    "    six_overall_rating [exposure, label=\"WB-Loan-Rating\"];\n",
    "    global_growth_during [adjusted, label=\"GlobalMacroDuringProject\"];\n",
    "    global_growth_post [label=\"GlobalMacroPostProject\"];\n",
    "    global_growth_prior [adjusted, label=\"GlobalMacroPriorProject\"];\n",
    "    growth_during [adjusted, label=GrowthDuringProject];\n",
    "    growth_post [outcome, label=GrowthPostProject];\n",
    "    growth_prior [adjusted, label=GrowthPriorProject];\n",
    "    wb_government_partner_rating [label=\"WBGovtRating\"];\n",
    "    \"Govt-Quality\" -> six_overall_rating;\n",
    "    \"Govt-Quality\" -> growth_prior;\n",
    "    \"Govt-Quality\" -> wb_government_partner_rating;\n",
    "    six_overall_rating -> growth_post;\n",
    "    global_growth_during -> global_growth_post;\n",
    "    global_growth_during -> growth_during;\n",
    "    global_growth_post -> growth_post;\n",
    "    global_growth_prior -> global_growth_during;\n",
    "    global_growth_prior -> growth_prior;\n",
    "    growth_during -> growth_post;\n",
    "    growth_prior -> growth_during;\n",
    "    wb_government_partner_rating -> six_overall_rating;\n",
    "    }\"\"\""
   ]
  },
  {
   "cell_type": "code",
   "execution_count": 24,
   "id": "educated-profile",
   "metadata": {},
   "outputs": [],
   "source": [
    "causal_columns = ['six_overall_rating', 'global_growth_prior', 'global_growth_during', 'global_growth_post',\n",
    "                 'growth_prior', 'growth_during', 'growth_post', 'wb_government_partner_rating']"
   ]
  },
  {
   "cell_type": "code",
   "execution_count": 25,
   "id": "ordinary-kennedy",
   "metadata": {},
   "outputs": [],
   "source": [
    "def perform_causal_estimate(df, num_years_post, verbose=False):\n",
    "    extract_ind = lambda project: extract_indicator_pre_during_post(project, \"growth\", gdp_growth_series, num_years=num_years_post)\n",
    "    df = df.apply(extract_ind, axis=1)\n",
    "    causal_df = df[causal_columns]\n",
    "    pre_drop_N = len(causal_df)\n",
    "    causal_df = causal_df.dropna()\n",
    "    post_drop_N = len(causal_df)\n",
    "    if verbose:\n",
    "        print(\"N pre NA drop: \", pre_drop_N, \" and post: \", post_drop_N)\n",
    "    \n",
    "    model = CausalModel(\n",
    "        data=causal_df,\n",
    "        graph=rating_growth_graph.replace(\"\\n\", \" \"),\n",
    "        treatment=\"six_overall_rating\",\n",
    "        outcome=\"growth_post\"\n",
    "    )\n",
    "    \n",
    "    if verbose:\n",
    "        model.view_model()\n",
    "        display(Image(filename=\"causal_model.png\"))\n",
    "    \n",
    "    identified_estimand = model.identify_effect(proceed_when_unidentifiable=True)\n",
    "    if verbose:\n",
    "        print(identified_estimand)\n",
    "    \n",
    "    estimate = model.estimate_effect(identified_estimand, method_name=\"backdoor.linear_regression\",\n",
    "                                     target_units=\"att\", test_significance=True)\n",
    "    if verbose:\n",
    "        print(estimate)\n",
    "    \n",
    "    return {\"model\": model, \"estimand\": identified_estimand, \"estimate\": estimate}"
   ]
  },
  {
   "cell_type": "code",
   "execution_count": 26,
   "id": "tribal-latest",
   "metadata": {},
   "outputs": [
    {
     "name": "stderr",
     "output_type": "stream",
     "text": [
      "ERROR:dowhy.causal_graph:Error: Pygraphviz cannot be loaded. Invalid Input\n",
      "Trying pydot ...\n",
      "INFO:dowhy.causal_model:Model to find the causal effect of treatment ['six_overall_rating'] on outcome ['growth_post']\n",
      "INFO:dowhy.causal_identifier:All common causes are observed. Causal effect can be identified.\n",
      "INFO:dowhy.causal_identifier:Instrumental variables for treatment and outcome:[]\n",
      "INFO:dowhy.causal_identifier:Frontdoor variables for treatment and outcome:[]\n",
      "INFO:dowhy.causal_estimator:b: growth_post~six_overall_rating+growth_during+global_growth_post+global_growth_during+global_growth_prior+wb_government_partner_rating+growth_prior+six_overall_rating*growth_during+six_overall_rating*global_growth_post+six_overall_rating*global_growth_during+six_overall_rating*global_growth_prior+six_overall_rating*growth_prior\n",
      "INFO:dowhy.causal_estimator:INFO: Using Linear Regression Estimator\n"
     ]
    }
   ],
   "source": [
    "result = perform_causal_estimate(df, num_years_post=5)"
   ]
  },
  {
   "cell_type": "code",
   "execution_count": 27,
   "id": "banner-tactics",
   "metadata": {},
   "outputs": [
    {
     "name": "stdout",
     "output_type": "stream",
     "text": [
      "*** Causal Estimate ***\n",
      "\n",
      "## Identified estimand\n",
      "Estimand type: nonparametric-ate\n",
      "\n",
      "## Realized estimand\n",
      "b: growth_post~six_overall_rating+growth_during+global_growth_post+global_growth_during+global_growth_prior+wb_government_partner_rating+growth_prior+six_overall_rating*growth_during+six_overall_rating*global_growth_post+six_overall_rating*global_growth_during+six_overall_rating*global_growth_prior+six_overall_rating*growth_prior\n",
      "Target units: att\n",
      "\n",
      "## Estimate\n",
      "Mean value: -0.005914790734909747\n",
      "p-value: [0.12426414]\n",
      "### Conditional Estimates\n",
      "__categorical__growth_during  __categorical__global_growth_post  __categorical__global_growth_during  __categorical__global_growth_prior  __categorical__growth_prior\n",
      "(-9.277999999999999, 0.688]   (0.456, 1.305]                     (0.456, 1.161]                       (0.595, 1.369]                      (0.0, 1.52]                    0.158736\n",
      "                                                                                                      (1.626, 1.869]                      (0.0, 1.52]                   -0.175556\n",
      "                                                                                                                                          (1.52, 2.57]                   0.054404\n",
      "                                                                                                                                          (2.57, 4.353]                  0.031811\n",
      "                                                                                                      (1.869, 2.716]                      (0.0, 1.52]                   -0.191853\n",
      "                                                                                                                                                                           ...   \n",
      "(5.993, 20.277]               (2.285, 2.716]                     (1.992, 2.716]                       (1.626, 1.869]                      (0.0, 1.52]                   -0.376552\n",
      "                                                                                                                                          (2.57, 4.353]                 -0.204640\n",
      "                                                                                                                                          (4.353, 13.832]                0.383788\n",
      "                                                                                                      (1.869, 2.716]                      (2.57, 4.353]                 -0.288147\n",
      "                                                                                                                                          (4.353, 13.832]                0.352323\n",
      "Length: 745, dtype: float64\n"
     ]
    }
   ],
   "source": [
    "print(result[\"estimate\"])"
   ]
  },
  {
   "cell_type": "code",
   "execution_count": 30,
   "id": "super-annex",
   "metadata": {},
   "outputs": [
    {
     "data": {
      "image/png": "[encoded data removed]",
      "text/latex": [
       "$\\displaystyle -0.00591479073490975$"
      ],
      "text/plain": [
       "-0.005914790734909747"
      ]
     },
     "execution_count": 30,
     "metadata": {},
     "output_type": "execute_result"
    }
   ],
   "source": [
    "estimate = result[\"estimate\"]\n",
    "estimate.value"
   ]
  },
  {
   "cell_type": "code",
   "execution_count": 31,
   "id": "cellular-bargain",
   "metadata": {},
   "outputs": [
    {
     "data": {
      "image/png": "[encoded data removed]",
      "text/latex": [
       "$\\displaystyle 0.124264138145093$"
      ],
      "text/plain": [
       "0.12426413814509263"
      ]
     },
     "execution_count": 31,
     "metadata": {},
     "output_type": "execute_result"
    }
   ],
   "source": [
    "estimate.test_stat_significance()['p_value'][0]"
   ]
  },
  {
   "cell_type": "markdown",
   "id": "dominican-bulgaria",
   "metadata": {},
   "source": [
    "## Now initiate exploration of different lag settings"
   ]
  },
  {
   "cell_type": "code",
   "execution_count": 32,
   "id": "transparent-scheme",
   "metadata": {},
   "outputs": [],
   "source": [
    "def crawl_over_lags(range_of_years):\n",
    "    model_results = [perform_causal_estimate(df, num_years_post=num_years_post) for num_years_post in range_of_years]\n",
    "    return dict(zip(range_of_years, model_results))"
   ]
  },
  {
   "cell_type": "code",
   "execution_count": 33,
   "id": "south-excuse",
   "metadata": {},
   "outputs": [
    {
     "name": "stderr",
     "output_type": "stream",
     "text": [
      "ERROR:dowhy.causal_graph:Error: Pygraphviz cannot be loaded. Invalid Input\n",
      "Trying pydot ...\n",
      "INFO:dowhy.causal_model:Model to find the causal effect of treatment ['six_overall_rating'] on outcome ['growth_post']\n",
      "INFO:dowhy.causal_identifier:All common causes are observed. Causal effect can be identified.\n",
      "INFO:dowhy.causal_identifier:Instrumental variables for treatment and outcome:[]\n",
      "INFO:dowhy.causal_identifier:Frontdoor variables for treatment and outcome:[]\n",
      "INFO:dowhy.causal_estimator:b: growth_post~six_overall_rating+growth_during+global_growth_post+global_growth_during+global_growth_prior+wb_government_partner_rating+growth_prior+six_overall_rating*growth_during+six_overall_rating*global_growth_post+six_overall_rating*global_growth_during+six_overall_rating*global_growth_prior+six_overall_rating*growth_prior\n",
      "INFO:dowhy.causal_estimator:INFO: Using Linear Regression Estimator\n"
     ]
    }
   ],
   "source": [
    "test_results = perform_causal_estimate(df, num_years_post=10)"
   ]
  },
  {
   "cell_type": "code",
   "execution_count": 34,
   "id": "honest-atlantic",
   "metadata": {},
   "outputs": [],
   "source": [
    "estimate = test_results[\"estimate\"]"
   ]
  },
  {
   "cell_type": "code",
   "execution_count": 35,
   "id": "frank-spell",
   "metadata": {},
   "outputs": [
    {
     "name": "stdout",
     "output_type": "stream",
     "text": [
      "*** Causal Estimate ***\n",
      "\n",
      "## Identified estimand\n",
      "Estimand type: nonparametric-ate\n",
      "\n",
      "## Realized estimand\n",
      "b: growth_post~six_overall_rating+growth_during+global_growth_post+global_growth_during+global_growth_prior+wb_government_partner_rating+growth_prior+six_overall_rating*growth_during+six_overall_rating*global_growth_post+six_overall_rating*global_growth_during+six_overall_rating*global_growth_prior+six_overall_rating*growth_prior\n",
      "Target units: att\n",
      "\n",
      "## Estimate\n",
      "Mean value: 0.0031933162821853323\n",
      "p-value: [0.61952926]\n",
      "### Conditional Estimates\n",
      "__categorical__growth_during  __categorical__global_growth_post  __categorical__global_growth_during  __categorical__global_growth_prior  __categorical__growth_prior\n",
      "(-9.277999999999999, 0.688]   (1.096, 1.503]                     (0.456, 1.161]                       (1.421, 2.239]                      (1.028, 1.882]                 0.035675\n",
      "                                                                                                                                          (1.882, 3.433]                 0.109019\n",
      "                                                                 (1.161, 1.605]                       (1.222, 1.264]                      (-0.0877, 1.028]              -0.192128\n",
      "                                                                                                                                          (1.028, 1.882]                -0.317390\n",
      "                                                                                                                                          (1.882, 3.433]                -0.137054\n",
      "                                                                                                                                                                           ...   \n",
      "(5.993, 20.277]               (1.894, 2.117]                     (1.605, 1.742]                       (1.3, 1.421]                        (-25.809, -0.0877]            -0.563483\n",
      "                                                                                                                                          (-0.0877, 1.028]               0.047446\n",
      "                                                                                                                                          (3.433, 13.421]                0.608821\n",
      "                                                                 (1.742, 1.992]                       (1.222, 1.264]                      (-25.809, -0.0877]            -0.433439\n",
      "                                                                                                                                          (-0.0877, 1.028]               0.037090\n",
      "Length: 750, dtype: float64\n"
     ]
    }
   ],
   "source": [
    "print(estimate)"
   ]
  },
  {
   "cell_type": "code",
   "execution_count": 36,
   "id": "devoted-arrival",
   "metadata": {},
   "outputs": [
    {
     "name": "stderr",
     "output_type": "stream",
     "text": [
      "ERROR:dowhy.causal_graph:Error: Pygraphviz cannot be loaded. Invalid Input\n",
      "Trying pydot ...\n",
      "INFO:dowhy.causal_model:Model to find the causal effect of treatment ['six_overall_rating'] on outcome ['growth_post']\n",
      "INFO:dowhy.causal_identifier:All common causes are observed. Causal effect can be identified.\n",
      "INFO:dowhy.causal_identifier:Instrumental variables for treatment and outcome:[]\n",
      "INFO:dowhy.causal_identifier:Frontdoor variables for treatment and outcome:[]\n",
      "INFO:dowhy.causal_estimator:b: growth_post~six_overall_rating+growth_during+global_growth_post+global_growth_during+global_growth_prior+wb_government_partner_rating+growth_prior+six_overall_rating*growth_during+six_overall_rating*global_growth_post+six_overall_rating*global_growth_during+six_overall_rating*global_growth_prior+six_overall_rating*growth_prior\n",
      "INFO:dowhy.causal_estimator:INFO: Using Linear Regression Estimator\n",
      "ERROR:dowhy.causal_graph:Error: Pygraphviz cannot be loaded. Invalid Input\n",
      "Trying pydot ...\n",
      "INFO:dowhy.causal_model:Model to find the causal effect of treatment ['six_overall_rating'] on outcome ['growth_post']\n",
      "INFO:dowhy.causal_identifier:All common causes are observed. Causal effect can be identified.\n",
      "INFO:dowhy.causal_identifier:Instrumental variables for treatment and outcome:[]\n",
      "INFO:dowhy.causal_identifier:Frontdoor variables for treatment and outcome:[]\n",
      "INFO:dowhy.causal_estimator:b: growth_post~six_overall_rating+growth_during+global_growth_post+global_growth_during+global_growth_prior+wb_government_partner_rating+growth_prior+six_overall_rating*growth_during+six_overall_rating*global_growth_post+six_overall_rating*global_growth_during+six_overall_rating*global_growth_prior+six_overall_rating*growth_prior\n",
      "INFO:dowhy.causal_estimator:INFO: Using Linear Regression Estimator\n",
      "ERROR:dowhy.causal_graph:Error: Pygraphviz cannot be loaded. Invalid Input\n",
      "Trying pydot ...\n",
      "INFO:dowhy.causal_model:Model to find the causal effect of treatment ['six_overall_rating'] on outcome ['growth_post']\n",
      "INFO:dowhy.causal_identifier:All common causes are observed. Causal effect can be identified.\n",
      "INFO:dowhy.causal_identifier:Instrumental variables for treatment and outcome:[]\n",
      "INFO:dowhy.causal_identifier:Frontdoor variables for treatment and outcome:[]\n",
      "INFO:dowhy.causal_estimator:b: growth_post~six_overall_rating+growth_during+global_growth_post+global_growth_during+global_growth_prior+wb_government_partner_rating+growth_prior+six_overall_rating*growth_during+six_overall_rating*global_growth_post+six_overall_rating*global_growth_during+six_overall_rating*global_growth_prior+six_overall_rating*growth_prior\n",
      "INFO:dowhy.causal_estimator:INFO: Using Linear Regression Estimator\n"
     ]
    },
    {
     "ename": "KeyboardInterrupt",
     "evalue": "",
     "output_type": "error",
     "traceback": [
      "\u001b[0;31m---------------------------------------------------------------------------\u001b[0m",
      "\u001b[0;31mKeyboardInterrupt\u001b[0m                         Traceback (most recent call last)",
      "\u001b[0;32m<ipython-input-36-f2da1e662085>\u001b[0m in \u001b[0;36m<module>\u001b[0;34m\u001b[0m\n\u001b[0;32m----> 1\u001b[0;31m \u001b[0mrange_results\u001b[0m \u001b[0;34m=\u001b[0m \u001b[0mcrawl_over_lags\u001b[0m\u001b[0;34m(\u001b[0m\u001b[0mrange\u001b[0m\u001b[0;34m(\u001b[0m\u001b[0;36m1\u001b[0m\u001b[0;34m,\u001b[0m \u001b[0;36m11\u001b[0m\u001b[0;34m)\u001b[0m\u001b[0;34m)\u001b[0m\u001b[0;34m\u001b[0m\u001b[0;34m\u001b[0m\u001b[0m\n\u001b[0m",
      "\u001b[0;32m<ipython-input-32-e88f9de16f6c>\u001b[0m in \u001b[0;36mcrawl_over_lags\u001b[0;34m(range_of_years)\u001b[0m\n\u001b[1;32m      1\u001b[0m \u001b[0;32mdef\u001b[0m \u001b[0mcrawl_over_lags\u001b[0m\u001b[0;34m(\u001b[0m\u001b[0mrange_of_years\u001b[0m\u001b[0;34m)\u001b[0m\u001b[0;34m:\u001b[0m\u001b[0;34m\u001b[0m\u001b[0;34m\u001b[0m\u001b[0m\n\u001b[0;32m----> 2\u001b[0;31m     \u001b[0mmodel_results\u001b[0m \u001b[0;34m=\u001b[0m \u001b[0;34m[\u001b[0m\u001b[0mperform_causal_estimate\u001b[0m\u001b[0;34m(\u001b[0m\u001b[0mdf\u001b[0m\u001b[0;34m,\u001b[0m \u001b[0mnum_years_post\u001b[0m\u001b[0;34m=\u001b[0m\u001b[0mnum_years_post\u001b[0m\u001b[0;34m)\u001b[0m \u001b[0;32mfor\u001b[0m \u001b[0mnum_years_post\u001b[0m \u001b[0;32min\u001b[0m \u001b[0mrange_of_years\u001b[0m\u001b[0;34m]\u001b[0m\u001b[0;34m\u001b[0m\u001b[0;34m\u001b[0m\u001b[0m\n\u001b[0m\u001b[1;32m      3\u001b[0m     \u001b[0;32mreturn\u001b[0m \u001b[0mdict\u001b[0m\u001b[0;34m(\u001b[0m\u001b[0mzip\u001b[0m\u001b[0;34m(\u001b[0m\u001b[0mrange_of_years\u001b[0m\u001b[0;34m,\u001b[0m \u001b[0mmodel_results\u001b[0m\u001b[0;34m)\u001b[0m\u001b[0;34m)\u001b[0m\u001b[0;34m\u001b[0m\u001b[0;34m\u001b[0m\u001b[0m\n",
      "\u001b[0;32m<ipython-input-32-e88f9de16f6c>\u001b[0m in \u001b[0;36m<listcomp>\u001b[0;34m(.0)\u001b[0m\n\u001b[1;32m      1\u001b[0m \u001b[0;32mdef\u001b[0m \u001b[0mcrawl_over_lags\u001b[0m\u001b[0;34m(\u001b[0m\u001b[0mrange_of_years\u001b[0m\u001b[0;34m)\u001b[0m\u001b[0;34m:\u001b[0m\u001b[0;34m\u001b[0m\u001b[0;34m\u001b[0m\u001b[0m\n\u001b[0;32m----> 2\u001b[0;31m     \u001b[0mmodel_results\u001b[0m \u001b[0;34m=\u001b[0m \u001b[0;34m[\u001b[0m\u001b[0mperform_causal_estimate\u001b[0m\u001b[0;34m(\u001b[0m\u001b[0mdf\u001b[0m\u001b[0;34m,\u001b[0m \u001b[0mnum_years_post\u001b[0m\u001b[0;34m=\u001b[0m\u001b[0mnum_years_post\u001b[0m\u001b[0;34m)\u001b[0m \u001b[0;32mfor\u001b[0m \u001b[0mnum_years_post\u001b[0m \u001b[0;32min\u001b[0m \u001b[0mrange_of_years\u001b[0m\u001b[0;34m]\u001b[0m\u001b[0;34m\u001b[0m\u001b[0;34m\u001b[0m\u001b[0m\n\u001b[0m\u001b[1;32m      3\u001b[0m     \u001b[0;32mreturn\u001b[0m \u001b[0mdict\u001b[0m\u001b[0;34m(\u001b[0m\u001b[0mzip\u001b[0m\u001b[0;34m(\u001b[0m\u001b[0mrange_of_years\u001b[0m\u001b[0;34m,\u001b[0m \u001b[0mmodel_results\u001b[0m\u001b[0;34m)\u001b[0m\u001b[0;34m)\u001b[0m\u001b[0;34m\u001b[0m\u001b[0;34m\u001b[0m\u001b[0m\n",
      "\u001b[0;32m<ipython-input-25-35d301ef477b>\u001b[0m in \u001b[0;36mperform_causal_estimate\u001b[0;34m(df, num_years_post, verbose)\u001b[0m\n\u001b[1;32m     24\u001b[0m         \u001b[0mprint\u001b[0m\u001b[0;34m(\u001b[0m\u001b[0midentified_estimand\u001b[0m\u001b[0;34m)\u001b[0m\u001b[0;34m\u001b[0m\u001b[0;34m\u001b[0m\u001b[0m\n\u001b[1;32m     25\u001b[0m \u001b[0;34m\u001b[0m\u001b[0m\n\u001b[0;32m---> 26\u001b[0;31m     estimate = model.estimate_effect(identified_estimand, method_name=\"backdoor.linear_regression\",\n\u001b[0m\u001b[1;32m     27\u001b[0m                                      target_units=\"att\", test_significance=True)\n\u001b[1;32m     28\u001b[0m     \u001b[0;32mif\u001b[0m \u001b[0mverbose\u001b[0m\u001b[0;34m:\u001b[0m\u001b[0;34m\u001b[0m\u001b[0;34m\u001b[0m\u001b[0m\n",
      "\u001b[0;32m~/miniconda3/envs/causal/lib/python3.8/site-packages/dowhy/causal_model.py\u001b[0m in \u001b[0;36mestimate_effect\u001b[0;34m(self, identified_estimand, method_name, control_value, treatment_value, test_significance, evaluate_effect_strength, confidence_intervals, target_units, effect_modifiers, method_params)\u001b[0m\n\u001b[1;32m    234\u001b[0m                 \u001b[0mparams\u001b[0m\u001b[0;34m=\u001b[0m\u001b[0mmethod_params\u001b[0m\u001b[0;34m\u001b[0m\u001b[0;34m\u001b[0m\u001b[0m\n\u001b[1;32m    235\u001b[0m             )\n\u001b[0;32m--> 236\u001b[0;31m             \u001b[0mestimate\u001b[0m \u001b[0;34m=\u001b[0m \u001b[0mcausal_estimator\u001b[0m\u001b[0;34m.\u001b[0m\u001b[0mestimate_effect\u001b[0m\u001b[0;34m(\u001b[0m\u001b[0;34m)\u001b[0m\u001b[0;34m\u001b[0m\u001b[0;34m\u001b[0m\u001b[0m\n\u001b[0m\u001b[1;32m    237\u001b[0m             \u001b[0;31m# Store parameters inside estimate object for refutation methods\u001b[0m\u001b[0;34m\u001b[0m\u001b[0;34m\u001b[0m\u001b[0;34m\u001b[0m\u001b[0m\n\u001b[1;32m    238\u001b[0m             estimate.add_params(\n",
      "\u001b[0;32m~/miniconda3/envs/causal/lib/python3.8/site-packages/dowhy/causal_estimator.py\u001b[0m in \u001b[0;36mestimate_effect\u001b[0;34m(self)\u001b[0m\n\u001b[1;32m    165\u001b[0m         \u001b[0;34m:\u001b[0m\u001b[0mreturns\u001b[0m\u001b[0;34m:\u001b[0m \u001b[0mA\u001b[0m \u001b[0mCausalEstimate\u001b[0m \u001b[0minstance\u001b[0m \u001b[0mthat\u001b[0m \u001b[0mcontains\u001b[0m \u001b[0mpoint\u001b[0m \u001b[0mestimates\u001b[0m \u001b[0mof\u001b[0m \u001b[0maverage\u001b[0m \u001b[0;32mand\u001b[0m \u001b[0mconditional\u001b[0m \u001b[0meffects\u001b[0m\u001b[0;34m.\u001b[0m \u001b[0mBased\u001b[0m \u001b[0mon\u001b[0m \u001b[0mthe\u001b[0m \u001b[0mparameters\u001b[0m \u001b[0mprovided\u001b[0m\u001b[0;34m,\u001b[0m \u001b[0mit\u001b[0m \u001b[0moptionally\u001b[0m \u001b[0mincludes\u001b[0m \u001b[0mconfidence\u001b[0m \u001b[0mintervals\u001b[0m\u001b[0;34m,\u001b[0m \u001b[0mstandard\u001b[0m \u001b[0merrors\u001b[0m\u001b[0;34m,\u001b[0m\u001b[0mstatistical\u001b[0m \u001b[0msignificance\u001b[0m \u001b[0;32mand\u001b[0m \u001b[0mother\u001b[0m \u001b[0mstatistical\u001b[0m \u001b[0mparameters\u001b[0m\u001b[0;34m.\u001b[0m\u001b[0;34m\u001b[0m\u001b[0;34m\u001b[0m\u001b[0m\n\u001b[1;32m    166\u001b[0m         \"\"\"\n\u001b[0;32m--> 167\u001b[0;31m         \u001b[0mest\u001b[0m \u001b[0;34m=\u001b[0m \u001b[0mself\u001b[0m\u001b[0;34m.\u001b[0m\u001b[0m_estimate_effect\u001b[0m\u001b[0;34m(\u001b[0m\u001b[0;34m)\u001b[0m\u001b[0;34m\u001b[0m\u001b[0;34m\u001b[0m\u001b[0m\n\u001b[0m\u001b[1;32m    168\u001b[0m         \u001b[0mest\u001b[0m\u001b[0;34m.\u001b[0m\u001b[0madd_estimator\u001b[0m\u001b[0;34m(\u001b[0m\u001b[0mself\u001b[0m\u001b[0;34m)\u001b[0m\u001b[0;34m\u001b[0m\u001b[0;34m\u001b[0m\u001b[0m\n\u001b[1;32m    169\u001b[0m \u001b[0;34m\u001b[0m\u001b[0m\n",
      "\u001b[0;32m~/miniconda3/envs/causal/lib/python3.8/site-packages/dowhy/causal_estimators/regression_estimator.py\u001b[0m in \u001b[0;36m_estimate_effect\u001b[0;34m(self, data_df, need_conditional_estimates)\u001b[0m\n\u001b[1;32m     47\u001b[0m         \u001b[0mconditional_effect_estimates\u001b[0m \u001b[0;34m=\u001b[0m \u001b[0;32mNone\u001b[0m\u001b[0;34m\u001b[0m\u001b[0;34m\u001b[0m\u001b[0m\n\u001b[1;32m     48\u001b[0m         \u001b[0;32mif\u001b[0m \u001b[0mneed_conditional_estimates\u001b[0m\u001b[0;34m:\u001b[0m\u001b[0;34m\u001b[0m\u001b[0;34m\u001b[0m\u001b[0m\n\u001b[0;32m---> 49\u001b[0;31m             conditional_effect_estimates = self._estimate_conditional_effects(\n\u001b[0m\u001b[1;32m     50\u001b[0m                     \u001b[0mself\u001b[0m\u001b[0;34m.\u001b[0m\u001b[0m_estimate_effect_fn\u001b[0m\u001b[0;34m,\u001b[0m\u001b[0;34m\u001b[0m\u001b[0;34m\u001b[0m\u001b[0m\n\u001b[1;32m     51\u001b[0m                     effect_modifier_names=self._effect_modifier_names)\n",
      "\u001b[0;32m~/miniconda3/envs/causal/lib/python3.8/site-packages/dowhy/causal_estimator.py\u001b[0m in \u001b[0;36m_estimate_conditional_effects\u001b[0;34m(self, estimate_effect_fn, effect_modifier_names, num_quantiles)\u001b[0m\n\u001b[1;32m    231\u001b[0m         \u001b[0mby_effect_mods\u001b[0m \u001b[0;34m=\u001b[0m \u001b[0mself\u001b[0m\u001b[0;34m.\u001b[0m\u001b[0m_data\u001b[0m\u001b[0;34m.\u001b[0m\u001b[0mgroupby\u001b[0m\u001b[0;34m(\u001b[0m\u001b[0meffect_modifier_names\u001b[0m\u001b[0;34m)\u001b[0m\u001b[0;34m\u001b[0m\u001b[0;34m\u001b[0m\u001b[0m\n\u001b[1;32m    232\u001b[0m         \u001b[0mcond_est_fn\u001b[0m \u001b[0;34m=\u001b[0m \u001b[0;32mlambda\u001b[0m \u001b[0mx\u001b[0m\u001b[0;34m:\u001b[0m \u001b[0mself\u001b[0m\u001b[0;34m.\u001b[0m\u001b[0m_do\u001b[0m\u001b[0;34m(\u001b[0m\u001b[0mself\u001b[0m\u001b[0;34m.\u001b[0m\u001b[0m_treatment_value\u001b[0m\u001b[0;34m,\u001b[0m \u001b[0mx\u001b[0m\u001b[0;34m)\u001b[0m \u001b[0;34m-\u001b[0m\u001b[0mself\u001b[0m\u001b[0;34m.\u001b[0m\u001b[0m_do\u001b[0m\u001b[0;34m(\u001b[0m\u001b[0mself\u001b[0m\u001b[0;34m.\u001b[0m\u001b[0m_control_value\u001b[0m\u001b[0;34m,\u001b[0m \u001b[0mx\u001b[0m\u001b[0;34m)\u001b[0m\u001b[0;34m\u001b[0m\u001b[0;34m\u001b[0m\u001b[0m\n\u001b[0;32m--> 233\u001b[0;31m         \u001b[0mconditional_estimates\u001b[0m \u001b[0;34m=\u001b[0m \u001b[0mby_effect_mods\u001b[0m\u001b[0;34m.\u001b[0m\u001b[0mapply\u001b[0m\u001b[0;34m(\u001b[0m\u001b[0mestimate_effect_fn\u001b[0m\u001b[0;34m)\u001b[0m\u001b[0;34m\u001b[0m\u001b[0;34m\u001b[0m\u001b[0m\n\u001b[0m\u001b[1;32m    234\u001b[0m         \u001b[0;31m# Deleting the temporary categorical columns\u001b[0m\u001b[0;34m\u001b[0m\u001b[0;34m\u001b[0m\u001b[0;34m\u001b[0m\u001b[0m\n\u001b[1;32m    235\u001b[0m         \u001b[0;32mfor\u001b[0m \u001b[0mem\u001b[0m \u001b[0;32min\u001b[0m \u001b[0meffect_modifier_names\u001b[0m\u001b[0;34m:\u001b[0m\u001b[0;34m\u001b[0m\u001b[0;34m\u001b[0m\u001b[0m\n",
      "\u001b[0;32m~/miniconda3/envs/causal/lib/python3.8/site-packages/pandas/core/groupby/groupby.py\u001b[0m in \u001b[0;36mapply\u001b[0;34m(self, func, *args, **kwargs)\u001b[0m\n\u001b[1;32m    892\u001b[0m         \u001b[0;32mwith\u001b[0m \u001b[0moption_context\u001b[0m\u001b[0;34m(\u001b[0m\u001b[0;34m\"mode.chained_assignment\"\u001b[0m\u001b[0;34m,\u001b[0m \u001b[0;32mNone\u001b[0m\u001b[0;34m)\u001b[0m\u001b[0;34m:\u001b[0m\u001b[0;34m\u001b[0m\u001b[0;34m\u001b[0m\u001b[0m\n\u001b[1;32m    893\u001b[0m             \u001b[0;32mtry\u001b[0m\u001b[0;34m:\u001b[0m\u001b[0;34m\u001b[0m\u001b[0;34m\u001b[0m\u001b[0m\n\u001b[0;32m--> 894\u001b[0;31m                 \u001b[0mresult\u001b[0m \u001b[0;34m=\u001b[0m \u001b[0mself\u001b[0m\u001b[0;34m.\u001b[0m\u001b[0m_python_apply_general\u001b[0m\u001b[0;34m(\u001b[0m\u001b[0mf\u001b[0m\u001b[0;34m,\u001b[0m \u001b[0mself\u001b[0m\u001b[0;34m.\u001b[0m\u001b[0m_selected_obj\u001b[0m\u001b[0;34m)\u001b[0m\u001b[0;34m\u001b[0m\u001b[0;34m\u001b[0m\u001b[0m\n\u001b[0m\u001b[1;32m    895\u001b[0m             \u001b[0;32mexcept\u001b[0m \u001b[0mTypeError\u001b[0m\u001b[0;34m:\u001b[0m\u001b[0;34m\u001b[0m\u001b[0;34m\u001b[0m\u001b[0m\n\u001b[1;32m    896\u001b[0m                 \u001b[0;31m# gh-20949\u001b[0m\u001b[0;34m\u001b[0m\u001b[0;34m\u001b[0m\u001b[0;34m\u001b[0m\u001b[0m\n",
      "\u001b[0;32m~/miniconda3/envs/causal/lib/python3.8/site-packages/pandas/core/groupby/groupby.py\u001b[0m in \u001b[0;36m_python_apply_general\u001b[0;34m(self, f, data)\u001b[0m\n\u001b[1;32m    926\u001b[0m             \u001b[0mdata\u001b[0m \u001b[0mafter\u001b[0m \u001b[0mapplying\u001b[0m \u001b[0mf\u001b[0m\u001b[0;34m\u001b[0m\u001b[0;34m\u001b[0m\u001b[0m\n\u001b[1;32m    927\u001b[0m         \"\"\"\n\u001b[0;32m--> 928\u001b[0;31m         \u001b[0mkeys\u001b[0m\u001b[0;34m,\u001b[0m \u001b[0mvalues\u001b[0m\u001b[0;34m,\u001b[0m \u001b[0mmutated\u001b[0m \u001b[0;34m=\u001b[0m \u001b[0mself\u001b[0m\u001b[0;34m.\u001b[0m\u001b[0mgrouper\u001b[0m\u001b[0;34m.\u001b[0m\u001b[0mapply\u001b[0m\u001b[0;34m(\u001b[0m\u001b[0mf\u001b[0m\u001b[0;34m,\u001b[0m \u001b[0mdata\u001b[0m\u001b[0;34m,\u001b[0m \u001b[0mself\u001b[0m\u001b[0;34m.\u001b[0m\u001b[0maxis\u001b[0m\u001b[0;34m)\u001b[0m\u001b[0;34m\u001b[0m\u001b[0;34m\u001b[0m\u001b[0m\n\u001b[0m\u001b[1;32m    929\u001b[0m \u001b[0;34m\u001b[0m\u001b[0m\n\u001b[1;32m    930\u001b[0m         return self._wrap_applied_output(\n",
      "\u001b[0;32m~/miniconda3/envs/causal/lib/python3.8/site-packages/pandas/core/groupby/ops.py\u001b[0m in \u001b[0;36mapply\u001b[0;34m(self, f, data, axis)\u001b[0m\n\u001b[1;32m    236\u001b[0m             \u001b[0;31m# group might be modified\u001b[0m\u001b[0;34m\u001b[0m\u001b[0;34m\u001b[0m\u001b[0;34m\u001b[0m\u001b[0m\n\u001b[1;32m    237\u001b[0m             \u001b[0mgroup_axes\u001b[0m \u001b[0;34m=\u001b[0m \u001b[0mgroup\u001b[0m\u001b[0;34m.\u001b[0m\u001b[0maxes\u001b[0m\u001b[0;34m\u001b[0m\u001b[0;34m\u001b[0m\u001b[0m\n\u001b[0;32m--> 238\u001b[0;31m             \u001b[0mres\u001b[0m \u001b[0;34m=\u001b[0m \u001b[0mf\u001b[0m\u001b[0;34m(\u001b[0m\u001b[0mgroup\u001b[0m\u001b[0;34m)\u001b[0m\u001b[0;34m\u001b[0m\u001b[0;34m\u001b[0m\u001b[0m\n\u001b[0m\u001b[1;32m    239\u001b[0m             \u001b[0;32mif\u001b[0m \u001b[0;32mnot\u001b[0m \u001b[0m_is_indexed_like\u001b[0m\u001b[0;34m(\u001b[0m\u001b[0mres\u001b[0m\u001b[0;34m,\u001b[0m \u001b[0mgroup_axes\u001b[0m\u001b[0;34m,\u001b[0m \u001b[0maxis\u001b[0m\u001b[0;34m)\u001b[0m\u001b[0;34m:\u001b[0m\u001b[0;34m\u001b[0m\u001b[0;34m\u001b[0m\u001b[0m\n\u001b[1;32m    240\u001b[0m                 \u001b[0mmutated\u001b[0m \u001b[0;34m=\u001b[0m \u001b[0;32mTrue\u001b[0m\u001b[0;34m\u001b[0m\u001b[0;34m\u001b[0m\u001b[0m\n",
      "\u001b[0;32m~/miniconda3/envs/causal/lib/python3.8/site-packages/dowhy/causal_estimators/regression_estimator.py\u001b[0m in \u001b[0;36m_estimate_effect_fn\u001b[0;34m(self, data_df)\u001b[0m\n\u001b[1;32m     59\u001b[0m \u001b[0;34m\u001b[0m\u001b[0m\n\u001b[1;32m     60\u001b[0m     \u001b[0;32mdef\u001b[0m \u001b[0m_estimate_effect_fn\u001b[0m\u001b[0;34m(\u001b[0m\u001b[0mself\u001b[0m\u001b[0;34m,\u001b[0m \u001b[0mdata_df\u001b[0m\u001b[0;34m)\u001b[0m\u001b[0;34m:\u001b[0m\u001b[0;34m\u001b[0m\u001b[0;34m\u001b[0m\u001b[0m\n\u001b[0;32m---> 61\u001b[0;31m         \u001b[0mest\u001b[0m \u001b[0;34m=\u001b[0m \u001b[0mself\u001b[0m\u001b[0;34m.\u001b[0m\u001b[0m_estimate_effect\u001b[0m\u001b[0;34m(\u001b[0m\u001b[0mdata_df\u001b[0m\u001b[0;34m,\u001b[0m \u001b[0mneed_conditional_estimates\u001b[0m\u001b[0;34m=\u001b[0m\u001b[0;32mFalse\u001b[0m\u001b[0;34m)\u001b[0m\u001b[0;34m\u001b[0m\u001b[0;34m\u001b[0m\u001b[0m\n\u001b[0m\u001b[1;32m     62\u001b[0m         \u001b[0;32mreturn\u001b[0m \u001b[0mest\u001b[0m\u001b[0;34m.\u001b[0m\u001b[0mvalue\u001b[0m\u001b[0;34m\u001b[0m\u001b[0;34m\u001b[0m\u001b[0m\n\u001b[1;32m     63\u001b[0m \u001b[0;34m\u001b[0m\u001b[0m\n",
      "\u001b[0;32m~/miniconda3/envs/causal/lib/python3.8/site-packages/dowhy/causal_estimators/regression_estimator.py\u001b[0m in \u001b[0;36m_estimate_effect\u001b[0;34m(self, data_df, need_conditional_estimates)\u001b[0m\n\u001b[1;32m     44\u001b[0m             \u001b[0mself\u001b[0m\u001b[0;34m.\u001b[0m\u001b[0mlogger\u001b[0m\u001b[0;34m.\u001b[0m\u001b[0mdebug\u001b[0m\u001b[0;34m(\u001b[0m\u001b[0mself\u001b[0m\u001b[0;34m.\u001b[0m\u001b[0mmodel\u001b[0m\u001b[0;34m.\u001b[0m\u001b[0msummary\u001b[0m\u001b[0;34m(\u001b[0m\u001b[0;34m)\u001b[0m\u001b[0;34m)\u001b[0m\u001b[0;34m\u001b[0m\u001b[0;34m\u001b[0m\u001b[0m\n\u001b[1;32m     45\u001b[0m         \u001b[0;31m# All treatments are set to the same constant value\u001b[0m\u001b[0;34m\u001b[0m\u001b[0;34m\u001b[0m\u001b[0;34m\u001b[0m\u001b[0m\n\u001b[0;32m---> 46\u001b[0;31m         \u001b[0meffect_estimate\u001b[0m \u001b[0;34m=\u001b[0m \u001b[0mself\u001b[0m\u001b[0;34m.\u001b[0m\u001b[0m_do\u001b[0m\u001b[0;34m(\u001b[0m\u001b[0mself\u001b[0m\u001b[0;34m.\u001b[0m\u001b[0m_treatment_value\u001b[0m\u001b[0;34m,\u001b[0m \u001b[0mdata_df\u001b[0m\u001b[0;34m)\u001b[0m \u001b[0;34m-\u001b[0m \u001b[0mself\u001b[0m\u001b[0;34m.\u001b[0m\u001b[0m_do\u001b[0m\u001b[0;34m(\u001b[0m\u001b[0mself\u001b[0m\u001b[0;34m.\u001b[0m\u001b[0m_control_value\u001b[0m\u001b[0;34m,\u001b[0m \u001b[0mdata_df\u001b[0m\u001b[0;34m)\u001b[0m\u001b[0;34m\u001b[0m\u001b[0;34m\u001b[0m\u001b[0m\n\u001b[0m\u001b[1;32m     47\u001b[0m         \u001b[0mconditional_effect_estimates\u001b[0m \u001b[0;34m=\u001b[0m \u001b[0;32mNone\u001b[0m\u001b[0;34m\u001b[0m\u001b[0;34m\u001b[0m\u001b[0m\n\u001b[1;32m     48\u001b[0m         \u001b[0;32mif\u001b[0m \u001b[0mneed_conditional_estimates\u001b[0m\u001b[0;34m:\u001b[0m\u001b[0;34m\u001b[0m\u001b[0;34m\u001b[0m\u001b[0m\n",
      "\u001b[0;32m~/miniconda3/envs/causal/lib/python3.8/site-packages/dowhy/causal_estimators/regression_estimator.py\u001b[0m in \u001b[0;36m_do\u001b[0;34m(self, treatment_val, data_df)\u001b[0m\n\u001b[1;32m    111\u001b[0m         \u001b[0;31m# Replacing treatment values by given x\u001b[0m\u001b[0;34m\u001b[0m\u001b[0;34m\u001b[0m\u001b[0;34m\u001b[0m\u001b[0m\n\u001b[1;32m    112\u001b[0m         \u001b[0minterventional_treatment_2d\u001b[0m \u001b[0;34m=\u001b[0m \u001b[0mnp\u001b[0m\u001b[0;34m.\u001b[0m\u001b[0mfull\u001b[0m\u001b[0;34m(\u001b[0m\u001b[0;34m(\u001b[0m\u001b[0mdata_df\u001b[0m\u001b[0;34m.\u001b[0m\u001b[0mshape\u001b[0m\u001b[0;34m[\u001b[0m\u001b[0;36m0\u001b[0m\u001b[0;34m]\u001b[0m\u001b[0;34m,\u001b[0m \u001b[0mlen\u001b[0m\u001b[0;34m(\u001b[0m\u001b[0mself\u001b[0m\u001b[0;34m.\u001b[0m\u001b[0m_treatment_name\u001b[0m\u001b[0;34m)\u001b[0m\u001b[0;34m)\u001b[0m\u001b[0;34m,\u001b[0m \u001b[0mtreatment_val\u001b[0m\u001b[0;34m)\u001b[0m\u001b[0;34m\u001b[0m\u001b[0;34m\u001b[0m\u001b[0m\n\u001b[0;32m--> 113\u001b[0;31m         new_features = self._build_features(treatment_values=interventional_treatment_2d,\n\u001b[0m\u001b[1;32m    114\u001b[0m                 data_df=data_df)\n\u001b[1;32m    115\u001b[0m         \u001b[0minterventional_outcomes\u001b[0m \u001b[0;34m=\u001b[0m \u001b[0mself\u001b[0m\u001b[0;34m.\u001b[0m\u001b[0mmodel\u001b[0m\u001b[0;34m.\u001b[0m\u001b[0mpredict\u001b[0m\u001b[0;34m(\u001b[0m\u001b[0mnew_features\u001b[0m\u001b[0;34m)\u001b[0m\u001b[0;34m\u001b[0m\u001b[0;34m\u001b[0m\u001b[0m\n",
      "\u001b[0;32m~/miniconda3/envs/causal/lib/python3.8/site-packages/dowhy/causal_estimators/regression_estimator.py\u001b[0m in \u001b[0;36m_build_features\u001b[0;34m(self, treatment_values, data_df)\u001b[0m\n\u001b[1;32m     73\u001b[0m             \u001b[0mtreatment_vals\u001b[0m \u001b[0;34m=\u001b[0m \u001b[0mdata_df\u001b[0m\u001b[0;34m[\u001b[0m\u001b[0mself\u001b[0m\u001b[0;34m.\u001b[0m\u001b[0m_treatment_name\u001b[0m\u001b[0;34m]\u001b[0m\u001b[0;34m\u001b[0m\u001b[0;34m\u001b[0m\u001b[0m\n\u001b[1;32m     74\u001b[0m             \u001b[0;32mif\u001b[0m \u001b[0mlen\u001b[0m\u001b[0;34m(\u001b[0m\u001b[0mself\u001b[0m\u001b[0;34m.\u001b[0m\u001b[0m_observed_common_causes_names\u001b[0m\u001b[0;34m)\u001b[0m\u001b[0;34m>\u001b[0m\u001b[0;36m0\u001b[0m\u001b[0;34m:\u001b[0m\u001b[0;34m\u001b[0m\u001b[0;34m\u001b[0m\u001b[0m\n\u001b[0;32m---> 75\u001b[0;31m                 \u001b[0mobserved_common_causes_vals\u001b[0m \u001b[0;34m=\u001b[0m \u001b[0mdata_df\u001b[0m\u001b[0;34m[\u001b[0m\u001b[0mself\u001b[0m\u001b[0;34m.\u001b[0m\u001b[0m_observed_common_causes_names\u001b[0m\u001b[0;34m]\u001b[0m\u001b[0;34m\u001b[0m\u001b[0;34m\u001b[0m\u001b[0m\n\u001b[0m\u001b[1;32m     76\u001b[0m                 \u001b[0mobserved_common_causes_vals\u001b[0m \u001b[0;34m=\u001b[0m \u001b[0mpd\u001b[0m\u001b[0;34m.\u001b[0m\u001b[0mget_dummies\u001b[0m\u001b[0;34m(\u001b[0m\u001b[0mobserved_common_causes_vals\u001b[0m\u001b[0;34m,\u001b[0m \u001b[0mdrop_first\u001b[0m\u001b[0;34m=\u001b[0m\u001b[0;32mTrue\u001b[0m\u001b[0;34m)\u001b[0m\u001b[0;34m\u001b[0m\u001b[0;34m\u001b[0m\u001b[0m\n\u001b[1;32m     77\u001b[0m             \u001b[0;32mif\u001b[0m \u001b[0mself\u001b[0m\u001b[0;34m.\u001b[0m\u001b[0m_effect_modifier_names\u001b[0m\u001b[0;34m:\u001b[0m\u001b[0;34m\u001b[0m\u001b[0;34m\u001b[0m\u001b[0m\n",
      "\u001b[0;32m~/miniconda3/envs/causal/lib/python3.8/site-packages/pandas/core/frame.py\u001b[0m in \u001b[0;36m__getitem__\u001b[0;34m(self, key)\u001b[0m\n\u001b[1;32m   3028\u001b[0m             \u001b[0;32mif\u001b[0m \u001b[0mis_iterator\u001b[0m\u001b[0;34m(\u001b[0m\u001b[0mkey\u001b[0m\u001b[0;34m)\u001b[0m\u001b[0;34m:\u001b[0m\u001b[0;34m\u001b[0m\u001b[0;34m\u001b[0m\u001b[0m\n\u001b[1;32m   3029\u001b[0m                 \u001b[0mkey\u001b[0m \u001b[0;34m=\u001b[0m \u001b[0mlist\u001b[0m\u001b[0;34m(\u001b[0m\u001b[0mkey\u001b[0m\u001b[0;34m)\u001b[0m\u001b[0;34m\u001b[0m\u001b[0;34m\u001b[0m\u001b[0m\n\u001b[0;32m-> 3030\u001b[0;31m             \u001b[0mindexer\u001b[0m \u001b[0;34m=\u001b[0m \u001b[0mself\u001b[0m\u001b[0;34m.\u001b[0m\u001b[0mloc\u001b[0m\u001b[0;34m.\u001b[0m\u001b[0m_get_listlike_indexer\u001b[0m\u001b[0;34m(\u001b[0m\u001b[0mkey\u001b[0m\u001b[0;34m,\u001b[0m \u001b[0maxis\u001b[0m\u001b[0;34m=\u001b[0m\u001b[0;36m1\u001b[0m\u001b[0;34m,\u001b[0m \u001b[0mraise_missing\u001b[0m\u001b[0;34m=\u001b[0m\u001b[0;32mTrue\u001b[0m\u001b[0;34m)\u001b[0m\u001b[0;34m[\u001b[0m\u001b[0;36m1\u001b[0m\u001b[0;34m]\u001b[0m\u001b[0;34m\u001b[0m\u001b[0;34m\u001b[0m\u001b[0m\n\u001b[0m\u001b[1;32m   3031\u001b[0m \u001b[0;34m\u001b[0m\u001b[0m\n\u001b[1;32m   3032\u001b[0m         \u001b[0;31m# take() does not accept boolean indexers\u001b[0m\u001b[0;34m\u001b[0m\u001b[0;34m\u001b[0m\u001b[0;34m\u001b[0m\u001b[0m\n",
      "\u001b[0;32m~/miniconda3/envs/causal/lib/python3.8/site-packages/pandas/core/indexing.py\u001b[0m in \u001b[0;36m_get_listlike_indexer\u001b[0;34m(self, key, axis, raise_missing)\u001b[0m\n\u001b[1;32m   1259\u001b[0m \u001b[0;34m\u001b[0m\u001b[0m\n\u001b[1;32m   1260\u001b[0m         \u001b[0;32mif\u001b[0m \u001b[0max\u001b[0m\u001b[0;34m.\u001b[0m\u001b[0m_index_as_unique\u001b[0m\u001b[0;34m:\u001b[0m\u001b[0;34m\u001b[0m\u001b[0;34m\u001b[0m\u001b[0m\n\u001b[0;32m-> 1261\u001b[0;31m             \u001b[0mindexer\u001b[0m \u001b[0;34m=\u001b[0m \u001b[0max\u001b[0m\u001b[0;34m.\u001b[0m\u001b[0mget_indexer_for\u001b[0m\u001b[0;34m(\u001b[0m\u001b[0mkeyarr\u001b[0m\u001b[0;34m)\u001b[0m\u001b[0;34m\u001b[0m\u001b[0;34m\u001b[0m\u001b[0m\n\u001b[0m\u001b[1;32m   1262\u001b[0m             \u001b[0mkeyarr\u001b[0m \u001b[0;34m=\u001b[0m \u001b[0max\u001b[0m\u001b[0;34m.\u001b[0m\u001b[0mreindex\u001b[0m\u001b[0;34m(\u001b[0m\u001b[0mkeyarr\u001b[0m\u001b[0;34m)\u001b[0m\u001b[0;34m[\u001b[0m\u001b[0;36m0\u001b[0m\u001b[0;34m]\u001b[0m\u001b[0;34m\u001b[0m\u001b[0;34m\u001b[0m\u001b[0m\n\u001b[1;32m   1263\u001b[0m         \u001b[0;32melse\u001b[0m\u001b[0;34m:\u001b[0m\u001b[0;34m\u001b[0m\u001b[0;34m\u001b[0m\u001b[0m\n",
      "\u001b[0;32m~/miniconda3/envs/causal/lib/python3.8/site-packages/pandas/core/indexes/base.py\u001b[0m in \u001b[0;36mget_indexer_for\u001b[0;34m(self, target, **kwargs)\u001b[0m\n\u001b[1;32m   4958\u001b[0m         \"\"\"\n\u001b[1;32m   4959\u001b[0m         \u001b[0;32mif\u001b[0m \u001b[0mself\u001b[0m\u001b[0;34m.\u001b[0m\u001b[0m_index_as_unique\u001b[0m\u001b[0;34m:\u001b[0m\u001b[0;34m\u001b[0m\u001b[0;34m\u001b[0m\u001b[0m\n\u001b[0;32m-> 4960\u001b[0;31m             \u001b[0;32mreturn\u001b[0m \u001b[0mself\u001b[0m\u001b[0;34m.\u001b[0m\u001b[0mget_indexer\u001b[0m\u001b[0;34m(\u001b[0m\u001b[0mtarget\u001b[0m\u001b[0;34m,\u001b[0m \u001b[0;34m**\u001b[0m\u001b[0mkwargs\u001b[0m\u001b[0;34m)\u001b[0m\u001b[0;34m\u001b[0m\u001b[0;34m\u001b[0m\u001b[0m\n\u001b[0m\u001b[1;32m   4961\u001b[0m         \u001b[0mindexer\u001b[0m\u001b[0;34m,\u001b[0m \u001b[0m_\u001b[0m \u001b[0;34m=\u001b[0m \u001b[0mself\u001b[0m\u001b[0;34m.\u001b[0m\u001b[0mget_indexer_non_unique\u001b[0m\u001b[0;34m(\u001b[0m\u001b[0mtarget\u001b[0m\u001b[0;34m)\u001b[0m\u001b[0;34m\u001b[0m\u001b[0;34m\u001b[0m\u001b[0m\n\u001b[1;32m   4962\u001b[0m         \u001b[0;32mreturn\u001b[0m \u001b[0mindexer\u001b[0m\u001b[0;34m\u001b[0m\u001b[0;34m\u001b[0m\u001b[0m\n",
      "\u001b[0;32m~/miniconda3/envs/causal/lib/python3.8/site-packages/pandas/core/indexes/base.py\u001b[0m in \u001b[0;36mget_indexer\u001b[0;34m(self, target, method, limit, tolerance)\u001b[0m\n\u001b[1;32m   3145\u001b[0m     ) -> np.ndarray:\n\u001b[1;32m   3146\u001b[0m         \u001b[0mmethod\u001b[0m \u001b[0;34m=\u001b[0m \u001b[0mmissing\u001b[0m\u001b[0;34m.\u001b[0m\u001b[0mclean_reindex_fill_method\u001b[0m\u001b[0;34m(\u001b[0m\u001b[0mmethod\u001b[0m\u001b[0;34m)\u001b[0m\u001b[0;34m\u001b[0m\u001b[0;34m\u001b[0m\u001b[0m\n\u001b[0;32m-> 3147\u001b[0;31m         \u001b[0mtarget\u001b[0m \u001b[0;34m=\u001b[0m \u001b[0mensure_index\u001b[0m\u001b[0;34m(\u001b[0m\u001b[0mtarget\u001b[0m\u001b[0;34m)\u001b[0m\u001b[0;34m\u001b[0m\u001b[0;34m\u001b[0m\u001b[0m\n\u001b[0m\u001b[1;32m   3148\u001b[0m         \u001b[0;32mif\u001b[0m \u001b[0mtolerance\u001b[0m \u001b[0;32mis\u001b[0m \u001b[0;32mnot\u001b[0m \u001b[0;32mNone\u001b[0m\u001b[0;34m:\u001b[0m\u001b[0;34m\u001b[0m\u001b[0;34m\u001b[0m\u001b[0m\n\u001b[1;32m   3149\u001b[0m             \u001b[0mtolerance\u001b[0m \u001b[0;34m=\u001b[0m \u001b[0mself\u001b[0m\u001b[0;34m.\u001b[0m\u001b[0m_convert_tolerance\u001b[0m\u001b[0;34m(\u001b[0m\u001b[0mtolerance\u001b[0m\u001b[0;34m,\u001b[0m \u001b[0mtarget\u001b[0m\u001b[0;34m)\u001b[0m\u001b[0;34m\u001b[0m\u001b[0;34m\u001b[0m\u001b[0m\n",
      "\u001b[0;32m~/miniconda3/envs/causal/lib/python3.8/site-packages/pandas/core/indexes/base.py\u001b[0m in \u001b[0;36mensure_index\u001b[0;34m(index_like, copy)\u001b[0m\n\u001b[1;32m   5915\u001b[0m             \u001b[0mindex_like\u001b[0m \u001b[0;34m=\u001b[0m \u001b[0mcopy_func\u001b[0m\u001b[0;34m(\u001b[0m\u001b[0mindex_like\u001b[0m\u001b[0;34m)\u001b[0m\u001b[0;34m\u001b[0m\u001b[0;34m\u001b[0m\u001b[0m\n\u001b[1;32m   5916\u001b[0m \u001b[0;34m\u001b[0m\u001b[0m\n\u001b[0;32m-> 5917\u001b[0;31m     \u001b[0;32mreturn\u001b[0m \u001b[0mIndex\u001b[0m\u001b[0;34m(\u001b[0m\u001b[0mindex_like\u001b[0m\u001b[0;34m)\u001b[0m\u001b[0;34m\u001b[0m\u001b[0;34m\u001b[0m\u001b[0m\n\u001b[0m\u001b[1;32m   5918\u001b[0m \u001b[0;34m\u001b[0m\u001b[0m\n\u001b[1;32m   5919\u001b[0m \u001b[0;34m\u001b[0m\u001b[0m\n",
      "\u001b[0;32m~/miniconda3/envs/causal/lib/python3.8/site-packages/pandas/core/indexes/base.py\u001b[0m in \u001b[0;36m__new__\u001b[0;34m(cls, data, dtype, copy, name, tupleize_cols, **kwargs)\u001b[0m\n\u001b[1;32m    252\u001b[0m     ) -> \"Index\":\n\u001b[1;32m    253\u001b[0m \u001b[0;34m\u001b[0m\u001b[0m\n\u001b[0;32m--> 254\u001b[0;31m         \u001b[0;32mfrom\u001b[0m \u001b[0mpandas\u001b[0m\u001b[0;34m.\u001b[0m\u001b[0mcore\u001b[0m\u001b[0;34m.\u001b[0m\u001b[0mindexes\u001b[0m\u001b[0;34m.\u001b[0m\u001b[0mrange\u001b[0m \u001b[0;32mimport\u001b[0m \u001b[0mRangeIndex\u001b[0m\u001b[0;34m\u001b[0m\u001b[0;34m\u001b[0m\u001b[0m\n\u001b[0m\u001b[1;32m    255\u001b[0m \u001b[0;34m\u001b[0m\u001b[0m\n\u001b[1;32m    256\u001b[0m         \u001b[0mname\u001b[0m \u001b[0;34m=\u001b[0m \u001b[0mmaybe_extract_name\u001b[0m\u001b[0;34m(\u001b[0m\u001b[0mname\u001b[0m\u001b[0;34m,\u001b[0m \u001b[0mdata\u001b[0m\u001b[0;34m,\u001b[0m \u001b[0mcls\u001b[0m\u001b[0;34m)\u001b[0m\u001b[0;34m\u001b[0m\u001b[0;34m\u001b[0m\u001b[0m\n",
      "\u001b[0;31mKeyboardInterrupt\u001b[0m: "
     ]
    }
   ],
   "source": [
    "range_results = crawl_over_lags(range(1, 11))"
   ]
  },
  {
   "cell_type": "code",
   "execution_count": null,
   "id": "short-convertible",
   "metadata": {},
   "outputs": [],
   "source": [
    "extract_coeff_and_p = lambda year, result: { \n",
    "    \"years_after\": year, \n",
    "    \"ate\": result[\"estimate\"].value,\n",
    "    \"pval\": result[\"estimate\"].test_stat_significance()['p_value'][0]\n",
    "}"
   ]
  },
  {
   "cell_type": "code",
   "execution_count": null,
   "id": "generous-copying",
   "metadata": {},
   "outputs": [],
   "source": [
    "extract_coeff_and_p(1, range_results[1])"
   ]
  },
  {
   "cell_type": "code",
   "execution_count": null,
   "id": "changed-contemporary",
   "metadata": {},
   "outputs": [],
   "source": [
    "result_table = pd.DataFrame([extract_coeff_and_p(year, result) for year, result in range_results.items()])"
   ]
  },
  {
   "cell_type": "code",
   "execution_count": null,
   "id": "unauthorized-joining",
   "metadata": {},
   "outputs": [],
   "source": [
    "result_table"
   ]
  },
  {
   "cell_type": "code",
   "execution_count": null,
   "id": "pregnant-influence",
   "metadata": {},
   "outputs": [],
   "source": [
    "result_table.to_csv('../data/results/initial_growth_crawl.csv', index=False)"
   ]
  },
  {
   "cell_type": "markdown",
   "id": "preceding-louis",
   "metadata": {},
   "source": [
    "## Adding in project size relative to gdp"
   ]
  },
  {
   "cell_type": "code",
   "execution_count": 37,
   "id": "fifth-garlic",
   "metadata": {},
   "outputs": [],
   "source": [
    "gdp_series = extract_indicators(wdi_df, ['NY.GDP.MKTP.CD'])"
   ]
  },
  {
   "cell_type": "code",
   "execution_count": 38,
   "id": "trained-money",
   "metadata": {},
   "outputs": [
    {
     "data": {
      "text/html": [
       "<div>\n",
       "<style scoped>\n",
       "    .dataframe tbody tr th:only-of-type {\n",
       "        vertical-align: middle;\n",
       "    }\n",
       "\n",
       "    .dataframe tbody tr th {\n",
       "        vertical-align: top;\n",
       "    }\n",
       "\n",
       "    .dataframe thead th {\n",
       "        text-align: right;\n",
       "    }\n",
       "</style>\n",
       "<table border=\"1\" class=\"dataframe\">\n",
       "  <thead>\n",
       "    <tr style=\"text-align: right;\">\n",
       "      <th></th>\n",
       "      <th>Country Name</th>\n",
       "      <th>Country Code</th>\n",
       "      <th>Indicator Name</th>\n",
       "      <th>Indicator Code</th>\n",
       "      <th>1960</th>\n",
       "      <th>1961</th>\n",
       "      <th>1962</th>\n",
       "      <th>1963</th>\n",
       "      <th>1964</th>\n",
       "      <th>1965</th>\n",
       "      <th>...</th>\n",
       "      <th>2012</th>\n",
       "      <th>2013</th>\n",
       "      <th>2014</th>\n",
       "      <th>2015</th>\n",
       "      <th>2016</th>\n",
       "      <th>2017</th>\n",
       "      <th>2018</th>\n",
       "      <th>2019</th>\n",
       "      <th>2020</th>\n",
       "      <th>Unnamed: 65</th>\n",
       "    </tr>\n",
       "  </thead>\n",
       "  <tbody>\n",
       "    <tr>\n",
       "      <th>466</th>\n",
       "      <td>Arab World</td>\n",
       "      <td>ARB</td>\n",
       "      <td>GDP (current US$)</td>\n",
       "      <td>NY.GDP.MKTP.CD</td>\n",
       "      <td>NaN</td>\n",
       "      <td>NaN</td>\n",
       "      <td>NaN</td>\n",
       "      <td>NaN</td>\n",
       "      <td>NaN</td>\n",
       "      <td>NaN</td>\n",
       "      <td>...</td>\n",
       "      <td>2.773499e+12</td>\n",
       "      <td>2.856372e+12</td>\n",
       "      <td>2.894391e+12</td>\n",
       "      <td>2.534724e+12</td>\n",
       "      <td>2.469440e+12</td>\n",
       "      <td>2.516121e+12</td>\n",
       "      <td>2.771384e+12</td>\n",
       "      <td>2.817415e+12</td>\n",
       "      <td>NaN</td>\n",
       "      <td>NaN</td>\n",
       "    </tr>\n",
       "    <tr>\n",
       "      <th>1901</th>\n",
       "      <td>Caribbean small states</td>\n",
       "      <td>CSS</td>\n",
       "      <td>GDP (current US$)</td>\n",
       "      <td>NY.GDP.MKTP.CD</td>\n",
       "      <td>1.880306e+09</td>\n",
       "      <td>2.038302e+09</td>\n",
       "      <td>2.153896e+09</td>\n",
       "      <td>2.290314e+09</td>\n",
       "      <td>2.470265e+09</td>\n",
       "      <td>2.660946e+09</td>\n",
       "      <td>...</td>\n",
       "      <td>7.205112e+10</td>\n",
       "      <td>7.341759e+10</td>\n",
       "      <td>7.443367e+10</td>\n",
       "      <td>7.282847e+10</td>\n",
       "      <td>6.919134e+10</td>\n",
       "      <td>7.145256e+10</td>\n",
       "      <td>7.496727e+10</td>\n",
       "      <td>7.772171e+10</td>\n",
       "      <td>NaN</td>\n",
       "      <td>NaN</td>\n",
       "    </tr>\n",
       "    <tr>\n",
       "      <th>3336</th>\n",
       "      <td>Central Europe and the Baltics</td>\n",
       "      <td>CEB</td>\n",
       "      <td>GDP (current US$)</td>\n",
       "      <td>NY.GDP.MKTP.CD</td>\n",
       "      <td>NaN</td>\n",
       "      <td>NaN</td>\n",
       "      <td>NaN</td>\n",
       "      <td>NaN</td>\n",
       "      <td>NaN</td>\n",
       "      <td>NaN</td>\n",
       "      <td>...</td>\n",
       "      <td>1.352689e+12</td>\n",
       "      <td>1.422194e+12</td>\n",
       "      <td>1.464900e+12</td>\n",
       "      <td>1.292087e+12</td>\n",
       "      <td>1.320631e+12</td>\n",
       "      <td>1.463498e+12</td>\n",
       "      <td>1.644436e+12</td>\n",
       "      <td>1.668852e+12</td>\n",
       "      <td>NaN</td>\n",
       "      <td>NaN</td>\n",
       "    </tr>\n",
       "    <tr>\n",
       "      <th>4771</th>\n",
       "      <td>Early-demographic dividend</td>\n",
       "      <td>EAR</td>\n",
       "      <td>GDP (current US$)</td>\n",
       "      <td>NY.GDP.MKTP.CD</td>\n",
       "      <td>1.517106e+11</td>\n",
       "      <td>1.528336e+11</td>\n",
       "      <td>1.586219e+11</td>\n",
       "      <td>1.681859e+11</td>\n",
       "      <td>1.930554e+11</td>\n",
       "      <td>2.093716e+11</td>\n",
       "      <td>...</td>\n",
       "      <td>1.008164e+13</td>\n",
       "      <td>1.025981e+13</td>\n",
       "      <td>1.062047e+13</td>\n",
       "      <td>1.031164e+13</td>\n",
       "      <td>1.055044e+13</td>\n",
       "      <td>1.139972e+13</td>\n",
       "      <td>1.164598e+13</td>\n",
       "      <td>1.198987e+13</td>\n",
       "      <td>NaN</td>\n",
       "      <td>NaN</td>\n",
       "    </tr>\n",
       "    <tr>\n",
       "      <th>6206</th>\n",
       "      <td>East Asia &amp; Pacific</td>\n",
       "      <td>EAS</td>\n",
       "      <td>GDP (current US$)</td>\n",
       "      <td>NY.GDP.MKTP.CD</td>\n",
       "      <td>1.532581e+11</td>\n",
       "      <td>1.537058e+11</td>\n",
       "      <td>1.572680e+11</td>\n",
       "      <td>1.754950e+11</td>\n",
       "      <td>2.016310e+11</td>\n",
       "      <td>2.245756e+11</td>\n",
       "      <td>...</td>\n",
       "      <td>2.107208e+13</td>\n",
       "      <td>2.131856e+13</td>\n",
       "      <td>2.200218e+13</td>\n",
       "      <td>2.191164e+13</td>\n",
       "      <td>2.265859e+13</td>\n",
       "      <td>2.422269e+13</td>\n",
       "      <td>2.635135e+13</td>\n",
       "      <td>2.692466e+13</td>\n",
       "      <td>NaN</td>\n",
       "      <td>NaN</td>\n",
       "    </tr>\n",
       "  </tbody>\n",
       "</table>\n",
       "<p>5 rows × 66 columns</p>\n",
       "</div>"
      ],
      "text/plain": [
       "                        Country Name Country Code     Indicator Name  \\\n",
       "466                       Arab World          ARB  GDP (current US$)   \n",
       "1901          Caribbean small states          CSS  GDP (current US$)   \n",
       "3336  Central Europe and the Baltics          CEB  GDP (current US$)   \n",
       "4771      Early-demographic dividend          EAR  GDP (current US$)   \n",
       "6206             East Asia & Pacific          EAS  GDP (current US$)   \n",
       "\n",
       "      Indicator Code          1960          1961          1962          1963  \\\n",
       "466   NY.GDP.MKTP.CD           NaN           NaN           NaN           NaN   \n",
       "1901  NY.GDP.MKTP.CD  1.880306e+09  2.038302e+09  2.153896e+09  2.290314e+09   \n",
       "3336  NY.GDP.MKTP.CD           NaN           NaN           NaN           NaN   \n",
       "4771  NY.GDP.MKTP.CD  1.517106e+11  1.528336e+11  1.586219e+11  1.681859e+11   \n",
       "6206  NY.GDP.MKTP.CD  1.532581e+11  1.537058e+11  1.572680e+11  1.754950e+11   \n",
       "\n",
       "              1964          1965  ...          2012          2013  \\\n",
       "466            NaN           NaN  ...  2.773499e+12  2.856372e+12   \n",
       "1901  2.470265e+09  2.660946e+09  ...  7.205112e+10  7.341759e+10   \n",
       "3336           NaN           NaN  ...  1.352689e+12  1.422194e+12   \n",
       "4771  1.930554e+11  2.093716e+11  ...  1.008164e+13  1.025981e+13   \n",
       "6206  2.016310e+11  2.245756e+11  ...  2.107208e+13  2.131856e+13   \n",
       "\n",
       "              2014          2015          2016          2017          2018  \\\n",
       "466   2.894391e+12  2.534724e+12  2.469440e+12  2.516121e+12  2.771384e+12   \n",
       "1901  7.443367e+10  7.282847e+10  6.919134e+10  7.145256e+10  7.496727e+10   \n",
       "3336  1.464900e+12  1.292087e+12  1.320631e+12  1.463498e+12  1.644436e+12   \n",
       "4771  1.062047e+13  1.031164e+13  1.055044e+13  1.139972e+13  1.164598e+13   \n",
       "6206  2.200218e+13  2.191164e+13  2.265859e+13  2.422269e+13  2.635135e+13   \n",
       "\n",
       "              2019  2020  Unnamed: 65  \n",
       "466   2.817415e+12   NaN          NaN  \n",
       "1901  7.772171e+10   NaN          NaN  \n",
       "3336  1.668852e+12   NaN          NaN  \n",
       "4771  1.198987e+13   NaN          NaN  \n",
       "6206  2.692466e+13   NaN          NaN  \n",
       "\n",
       "[5 rows x 66 columns]"
      ]
     },
     "execution_count": 38,
     "metadata": {},
     "output_type": "execute_result"
    }
   ],
   "source": [
    "gdp_series.head()"
   ]
  },
  {
   "cell_type": "code",
   "execution_count": 42,
   "id": "attended-divide",
   "metadata": {},
   "outputs": [],
   "source": [
    "project = df.iloc[0].to_dict()"
   ]
  },
  {
   "cell_type": "code",
   "execution_count": 43,
   "id": "sustained-bahamas",
   "metadata": {},
   "outputs": [
    {
     "data": {
      "text/plain": [
       "{'wb_project_id': 'P057271',\n",
       " 'country_code': 'GUY',\n",
       " 'six_overall_rating': 5.0,\n",
       " 'wb_government_partner_rating': 5.0,\n",
       " 'eval_lag': 365.0,\n",
       " 'project_duration': 1095.0,\n",
       " 'project_name': ' Emergency Assistance Project',\n",
       " 'original_overall_rating': 5.0,\n",
       " 'wb_lendingproject_cost': 10200000.0,\n",
       " 'wb_lendinginstrumenttype': 'ERL',\n",
       " 'wb_qualityatentry_rating': 5.0,\n",
       " 'wb_supervisionquality_rating': 5.0,\n",
       " 'wb_owninstperformance_rating': 5.0,\n",
       " 'start_date': '01jan1999',\n",
       " 'completion_date': '01jan2002',\n",
       " 'evaluation_date': '01jan2003',\n",
       " 'start_dt': Timestamp('1999-01-01 00:00:00'),\n",
       " 'start_year': 1999,\n",
       " 'completion_dt': Timestamp('2002-01-01 00:00:00'),\n",
       " 'end_year': 2002.0,\n",
       " 'growth_prior': 5.204767829212794,\n",
       " 'global_growth_prior': 1.60503590038959,\n",
       " 'growth_during': 0.7011928383593666,\n",
       " 'global_growth_during': 1.8744232982929852,\n",
       " 'growth_post': 2.2145603861732424,\n",
       " 'global_growth_post': 2.715864689653008}"
      ]
     },
     "execution_count": 43,
     "metadata": {},
     "output_type": "execute_result"
    }
   ],
   "source": [
    "project"
   ]
  },
  {
   "cell_type": "code",
   "execution_count": 45,
   "id": "higher-catholic",
   "metadata": {},
   "outputs": [],
   "source": [
    "gdp_for_country = gdp_series[gdp_series['Country Code'] == project['country_code']]"
   ]
  },
  {
   "cell_type": "code",
   "execution_count": 46,
   "id": "turned-berkeley",
   "metadata": {},
   "outputs": [
    {
     "data": {
      "text/html": [
       "<div>\n",
       "<style scoped>\n",
       "    .dataframe tbody tr th:only-of-type {\n",
       "        vertical-align: middle;\n",
       "    }\n",
       "\n",
       "    .dataframe tbody tr th {\n",
       "        vertical-align: top;\n",
       "    }\n",
       "\n",
       "    .dataframe thead th {\n",
       "        text-align: right;\n",
       "    }\n",
       "</style>\n",
       "<table border=\"1\" class=\"dataframe\">\n",
       "  <thead>\n",
       "    <tr style=\"text-align: right;\">\n",
       "      <th></th>\n",
       "      <th>Country Name</th>\n",
       "      <th>Country Code</th>\n",
       "      <th>Indicator Name</th>\n",
       "      <th>Indicator Code</th>\n",
       "      <th>1960</th>\n",
       "      <th>1961</th>\n",
       "      <th>1962</th>\n",
       "      <th>1963</th>\n",
       "      <th>1964</th>\n",
       "      <th>1965</th>\n",
       "      <th>...</th>\n",
       "      <th>2012</th>\n",
       "      <th>2013</th>\n",
       "      <th>2014</th>\n",
       "      <th>2015</th>\n",
       "      <th>2016</th>\n",
       "      <th>2017</th>\n",
       "      <th>2018</th>\n",
       "      <th>2019</th>\n",
       "      <th>2020</th>\n",
       "      <th>Unnamed: 65</th>\n",
       "    </tr>\n",
       "  </thead>\n",
       "  <tbody>\n",
       "    <tr>\n",
       "      <th>187016</th>\n",
       "      <td>Guyana</td>\n",
       "      <td>GUY</td>\n",
       "      <td>GDP (current US$)</td>\n",
       "      <td>NY.GDP.MKTP.CD</td>\n",
       "      <td>1.702152e+08</td>\n",
       "      <td>1.858485e+08</td>\n",
       "      <td>1.949484e+08</td>\n",
       "      <td>1.757569e+08</td>\n",
       "      <td>1.947734e+08</td>\n",
       "      <td>2.132353e+08</td>\n",
       "      <td>...</td>\n",
       "      <td>4.063090e+09</td>\n",
       "      <td>4.167802e+09</td>\n",
       "      <td>4.127664e+09</td>\n",
       "      <td>4.279840e+09</td>\n",
       "      <td>4.482697e+09</td>\n",
       "      <td>4.748174e+09</td>\n",
       "      <td>4.787636e+09</td>\n",
       "      <td>5.173760e+09</td>\n",
       "      <td>NaN</td>\n",
       "      <td>NaN</td>\n",
       "    </tr>\n",
       "  </tbody>\n",
       "</table>\n",
       "<p>1 rows × 66 columns</p>\n",
       "</div>"
      ],
      "text/plain": [
       "       Country Name Country Code     Indicator Name  Indicator Code  \\\n",
       "187016       Guyana          GUY  GDP (current US$)  NY.GDP.MKTP.CD   \n",
       "\n",
       "                1960          1961          1962          1963          1964  \\\n",
       "187016  1.702152e+08  1.858485e+08  1.949484e+08  1.757569e+08  1.947734e+08   \n",
       "\n",
       "                1965  ...          2012          2013          2014  \\\n",
       "187016  2.132353e+08  ...  4.063090e+09  4.167802e+09  4.127664e+09   \n",
       "\n",
       "                2015          2016          2017          2018          2019  \\\n",
       "187016  4.279840e+09  4.482697e+09  4.748174e+09  4.787636e+09  5.173760e+09   \n",
       "\n",
       "        2020  Unnamed: 65  \n",
       "187016   NaN          NaN  \n",
       "\n",
       "[1 rows x 66 columns]"
      ]
     },
     "execution_count": 46,
     "metadata": {},
     "output_type": "execute_result"
    }
   ],
   "source": [
    "gdp_for_country"
   ]
  },
  {
   "cell_type": "code",
   "execution_count": 59,
   "id": "surprised-fruit",
   "metadata": {},
   "outputs": [],
   "source": [
    "def proj_share_gdp(project, gdp_series):\n",
    "    gdp_for_country = gdp_series[gdp_series['Country Code'] == project['country_code']]\n",
    "    if str(project['start_year']) not in gdp_for_country.columns:\n",
    "        project['gdp_cusd_year'] = np.nan\n",
    "        project['proj_share_gdp'] = np.nan\n",
    "        return project\n",
    "    \n",
    "    gdp_cusd_year = gdp_for_country[str(project['start_year'])].iloc[0]\n",
    "    project['gdp_cusd_year'] = gdp_cusd_year\n",
    "    project['proj_share_gdp'] = project['wb_lendingproject_cost'] / gdp_cusd_year\n",
    "    return project"
   ]
  },
  {
   "cell_type": "code",
   "execution_count": 60,
   "id": "disturbed-talent",
   "metadata": {},
   "outputs": [
    {
     "data": {
      "text/plain": [
       "{'wb_project_id': 'P057271',\n",
       " 'country_code': 'GUY',\n",
       " 'six_overall_rating': 5.0,\n",
       " 'wb_government_partner_rating': 5.0,\n",
       " 'eval_lag': 365.0,\n",
       " 'project_duration': 1095.0,\n",
       " 'project_name': ' Emergency Assistance Project',\n",
       " 'original_overall_rating': 5.0,\n",
       " 'wb_lendingproject_cost': 10200000.0,\n",
       " 'wb_lendinginstrumenttype': 'ERL',\n",
       " 'wb_qualityatentry_rating': 5.0,\n",
       " 'wb_supervisionquality_rating': 5.0,\n",
       " 'wb_owninstperformance_rating': 5.0,\n",
       " 'start_date': '01jan1999',\n",
       " 'completion_date': '01jan2002',\n",
       " 'evaluation_date': '01jan2003',\n",
       " 'start_dt': Timestamp('1999-01-01 00:00:00'),\n",
       " 'start_year': 1999,\n",
       " 'completion_dt': Timestamp('2002-01-01 00:00:00'),\n",
       " 'end_year': 2002.0,\n",
       " 'growth_prior': 5.204767829212794,\n",
       " 'global_growth_prior': 1.60503590038959,\n",
       " 'growth_during': 0.7011928383593666,\n",
       " 'global_growth_during': 1.8744232982929852,\n",
       " 'growth_post': 2.2145603861732424,\n",
       " 'global_growth_post': 2.715864689653008,\n",
       " 'gdp_cusd_year': 694754988.258295,\n",
       " 'proj_share_gdp': 0.014681434710631913}"
      ]
     },
     "execution_count": 60,
     "metadata": {},
     "output_type": "execute_result"
    }
   ],
   "source": [
    "proj_share_gdp(project)"
   ]
  },
  {
   "cell_type": "code",
   "execution_count": 61,
   "id": "great-excerpt",
   "metadata": {},
   "outputs": [],
   "source": [
    "df = df.apply(proj_share_gdp, axis=1)"
   ]
  },
  {
   "cell_type": "code",
   "execution_count": 62,
   "id": "iraqi-european",
   "metadata": {},
   "outputs": [
    {
     "data": {
      "text/plain": [
       "<AxesSubplot:>"
      ]
     },
     "execution_count": 62,
     "metadata": {},
     "output_type": "execute_result"
    },
    {
     "data": {
      "image/png": "[encoded data removed]",
      "text/plain": [
       "<Figure size 432x288 with 1 Axes>"
      ]
     },
     "metadata": {
      "needs_background": "light"
     },
     "output_type": "display_data"
    }
   ],
   "source": [
    "df.proj_share_gdp.hist()"
   ]
  },
  {
   "cell_type": "code",
   "execution_count": null,
   "id": "opposed-mileage",
   "metadata": {},
   "outputs": [],
   "source": []
  }
 ],
 "metadata": {
  "kernelspec": {
   "display_name": "causal",
   "language": "python",
   "name": "causal"
  },
  "language_info": {
   "codemirror_mode": {
    "name": "ipython",
    "version": 3
   },
   "file_extension": ".py",
   "mimetype": "text/x-python",
   "name": "python",
   "nbconvert_exporter": "python",
   "pygments_lexer": "ipython3",
   "version": "3.8.8"
  }
 },
 "nbformat": 4,
 "nbformat_minor": 5
}
