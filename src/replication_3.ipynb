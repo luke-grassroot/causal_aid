{
 "cells": [
  {
   "cell_type": "code",
   "execution_count": 1,
   "metadata": {},
   "outputs": [],
   "source": [
    "from importlib import reload"
   ]
  },
  {
   "cell_type": "code",
   "execution_count": 2,
   "metadata": {},
   "outputs": [],
   "source": [
    "import statsmodels.api as sm"
   ]
  },
  {
   "cell_type": "code",
   "execution_count": 3,
   "metadata": {},
   "outputs": [],
   "source": [
    "from datetime import datetime, timedelta\n",
    "\n",
    "import pandas as pd\n",
    "import numpy as np\n",
    "\n",
    "import matplotlib\n",
    "import matplotlib.pyplot as plt\n",
    "\n",
    "from IPython.display import Image, display\n",
    "\n",
    "from dowhy import CausalModel"
   ]
  },
  {
   "cell_type": "code",
   "execution_count": 4,
   "metadata": {},
   "outputs": [],
   "source": [
    "pd.set_option(\"mode.chained_assignment\", None)"
   ]
  },
  {
   "cell_type": "code",
   "execution_count": 5,
   "metadata": {},
   "outputs": [],
   "source": [
    "import util.load as load_util\n",
    "import util.explore as explore_util\n",
    "import util.experiment as experiment"
   ]
  },
  {
   "cell_type": "code",
   "execution_count": 6,
   "metadata": {},
   "outputs": [],
   "source": [
    "wdi_df, series_df = load_util.load_wdi()\n",
    "project_df = load_util.load_projects()\n",
    "wb_df = load_util.extract_wb_projects(project_df)"
   ]
  },
  {
   "cell_type": "markdown",
   "metadata": {},
   "source": [
    "## First approach: binary treatment, replicating papers on causal structure"
   ]
  },
  {
   "cell_type": "code",
   "execution_count": 7,
   "metadata": {},
   "outputs": [],
   "source": [
    "# load in panel assembled by DG, and country code cross-matches\n",
    "# for each country-year, calculate mean growth in education indicators at year + lag"
   ]
  },
  {
   "cell_type": "code",
   "execution_count": 117,
   "metadata": {},
   "outputs": [
    {
     "name": "stdout",
     "output_type": "stream",
     "text": [
      "1. Value counts:  False    8754\n",
      "True      710\n",
      "Name: project_completed_year, dtype: int64\n",
      "2. Value counts:  False    8754\n",
      "True      710\n",
      "Name: project_completed_year, dtype: int64\n"
     ]
    }
   ],
   "source": [
    "df, panel_source = experiment.assemble_replication_panel('education')"
   ]
  },
  {
   "cell_type": "code",
   "execution_count": 118,
   "metadata": {},
   "outputs": [
    {
     "data": {
      "text/plain": [
       "False    8754\n",
       "True      710\n",
       "Name: project_completed_year, dtype: int64"
      ]
     },
     "execution_count": 118,
     "metadata": {},
     "output_type": "execute_result"
    }
   ],
   "source": [
    "df.project_completed_year.value_counts()"
   ]
  },
  {
   "cell_type": "code",
   "execution_count": 119,
   "metadata": {},
   "outputs": [],
   "source": [
    "panel_non_data = ['year', 'countrycode', 'regionname', 'fcv_ind', 'lendingtype', 'incomelevel']\n",
    "non_data_cols = ['year', 'country', 'ppd_countrycode', 'wdi_countryname', 'project_completed_year'] + panel_non_data\n",
    "data_cols = [col for col in df.columns if col not in non_data_cols]\n",
    "ddf_data_cols = [col for col in panel_source.columns if col not in panel_non_data]"
   ]
  },
  {
   "cell_type": "code",
   "execution_count": 120,
   "metadata": {},
   "outputs": [
    {
     "name": "stdout",
     "output_type": "stream",
     "text": [
      "{'cash_surplus_deficit': 103, 'hiv_prevalence': 46, 'education_lag_9_growth': 45, 'health_share_gov_exp': 38, 'trade_share_gdp': 18, 'edu_share_gov_exp': 17, 'inflation': 7, 'education_lag_-4_growth': 6, 'edu_completion': 5, 'edu_pupil_teacher': 3}\n"
     ]
    }
   ],
   "source": [
    "non_zero_culps = lambda culpc: (\n",
    "    { key: value for key, value in sorted(culprit_counts.items(), key=lambda item: item[1], reverse=True) if value > 0 }\n",
    ") \n",
    "culprit_counts, null_df = experiment.extract_culprit_counts(df, data_cols)\n",
    "print(non_zero_culps(culprit_counts))"
   ]
  },
  {
   "cell_type": "code",
   "execution_count": 121,
   "metadata": {},
   "outputs": [
    {
     "name": "stdout",
     "output_type": "stream",
     "text": [
      "{'cash_surplus_deficit': 103, 'hiv_prevalence': 46, 'education_lag_9_growth': 45, 'health_share_gov_exp': 38, 'trade_share_gdp': 18, 'edu_share_gov_exp': 17, 'inflation': 7, 'education_lag_-4_growth': 6, 'edu_completion': 5, 'edu_pupil_teacher': 3}\n"
     ]
    }
   ],
   "source": [
    "ddf_culprits, ddf_nulls = experiment.extract_culprit_counts(panel_source, ddf_data_cols)\n",
    "print(non_zero_culps(ddf_culprits))"
   ]
  },
  {
   "cell_type": "markdown",
   "metadata": {},
   "source": [
    "*Note*: There is no surplus deficit in the standard WDI, so using net borrowing in year (is available)"
   ]
  },
  {
   "cell_type": "code",
   "execution_count": null,
   "metadata": {},
   "outputs": [],
   "source": [
    "# Adding categorical variables for country, for replication purposes, although means dimensionality explosion (for unclear gain)"
   ]
  },
  {
   "cell_type": "markdown",
   "metadata": {},
   "source": [
    "Education: Specification 2\n",
    "```\n",
    "regress  last_ner <- first_ner pc_commit_education [per capita commitment amount=\n",
    "        edu_share_gov_exp edu_pupil_teacher young_population\n",
    "        gdp_pc_ppp cash_surplus_deficit inflation trade_share_gdp\n",
    "        freedom_house i.period i.ncountrycode if countrytoinclude == 1, r\n",
    "```"
   ]
  },
  {
   "cell_type": "code",
   "execution_count": 122,
   "metadata": {},
   "outputs": [],
   "source": [
    "df = df.rename(columns={ 'education_lag_-4_growth': 'prior_4year_growth' })"
   ]
  },
  {
   "cell_type": "code",
   "execution_count": 123,
   "metadata": {},
   "outputs": [],
   "source": [
    "cols_for_replication = ['country', 'project_completed_year', 'pc_commit_education', 'edu_pupil_teacher', \n",
    "                        'young_population', 'gdp_pc_ppp', 'cash_surplus_deficit', 'inflation', 'trade_share_gdp',\n",
    "                        'freedom_house', 'prior_4year_growth']\n",
    "\n",
    "target_col = 'education_lag_4_growth'"
   ]
  },
  {
   "cell_type": "code",
   "execution_count": 124,
   "metadata": {},
   "outputs": [],
   "source": [
    "est = experiment.plain_vanilla_ols(df, target_col, cols_for_replication + [target_col], add_country_feffects=True)"
   ]
  },
  {
   "cell_type": "code",
   "execution_count": 125,
   "metadata": {},
   "outputs": [
    {
     "data": {
      "text/plain": [
       "['education_lag_3_growth',\n",
       " 'education_lag_4_growth',\n",
       " 'education_lag_5_growth',\n",
       " 'education_lag_6_growth',\n",
       " 'education_lag_7_growth',\n",
       " 'education_lag_8_growth',\n",
       " 'education_lag_9_growth']"
      ]
     },
     "execution_count": 125,
     "metadata": {},
     "output_type": "execute_result"
    }
   ],
   "source": [
    "potential_cols = [f'education_lag_{i}_growth' for i in range(3, 10)]\n",
    "potential_cols"
   ]
  },
  {
   "cell_type": "code",
   "execution_count": 126,
   "metadata": {},
   "outputs": [
    {
     "name": "stdout",
     "output_type": "stream",
     "text": [
      "Coefficient on primary:  0.009051655999692976  and P value:  0.119\n"
     ]
    }
   ],
   "source": [
    "print('Coefficient on primary: ', est.params['project_completed_year'], ' and P value: ', round(est.pvalues['project_completed_year'], 3))"
   ]
  },
  {
   "cell_type": "code",
   "execution_count": 127,
   "metadata": {},
   "outputs": [],
   "source": [
    "dml_est, target_est, treatment_est = experiment.partial_out_ols(df, target_col, 'project_completed_year',\n",
    "                                                               cols_for_replication + [target_col], True, True)"
   ]
  },
  {
   "cell_type": "code",
   "execution_count": 128,
   "metadata": {},
   "outputs": [
    {
     "data": {
      "text/html": [
       "<table class=\"simpletable\">\n",
       "<caption>OLS Regression Results</caption>\n",
       "<tr>\n",
       "  <th>Dep. Variable:</th>            <td>y</td>        <th>  R-squared:         </th> <td>   0.003</td>\n",
       "</tr>\n",
       "<tr>\n",
       "  <th>Model:</th>                   <td>OLS</td>       <th>  Adj. R-squared:    </th> <td>   0.002</td>\n",
       "</tr>\n",
       "<tr>\n",
       "  <th>Method:</th>             <td>Least Squares</td>  <th>  F-statistic:       </th> <td>   2.723</td>\n",
       "</tr>\n",
       "<tr>\n",
       "  <th>Date:</th>             <td>Tue, 08 Jun 2021</td> <th>  Prob (F-statistic):</th>  <td>0.0992</td> \n",
       "</tr>\n",
       "<tr>\n",
       "  <th>Time:</th>                 <td>16:28:03</td>     <th>  Log-Likelihood:    </th> <td>  1249.5</td>\n",
       "</tr>\n",
       "<tr>\n",
       "  <th>No. Observations:</th>      <td>   938</td>      <th>  AIC:               </th> <td>  -2495.</td>\n",
       "</tr>\n",
       "<tr>\n",
       "  <th>Df Residuals:</th>          <td>   936</td>      <th>  BIC:               </th> <td>  -2485.</td>\n",
       "</tr>\n",
       "<tr>\n",
       "  <th>Df Model:</th>              <td>     1</td>      <th>                     </th>     <td> </td>   \n",
       "</tr>\n",
       "<tr>\n",
       "  <th>Covariance Type:</th>      <td>nonrobust</td>    <th>                     </th>     <td> </td>   \n",
       "</tr>\n",
       "</table>\n",
       "<table class=\"simpletable\">\n",
       "<tr>\n",
       "    <td></td>       <th>coef</th>     <th>std err</th>      <th>t</th>      <th>P>|t|</th>  <th>[0.025</th>    <th>0.975]</th>  \n",
       "</tr>\n",
       "<tr>\n",
       "  <th>const</th> <td> 1.565e-13</td> <td>    0.002</td> <td>  7.5e-11</td> <td> 1.000</td> <td>   -0.004</td> <td>    0.004</td>\n",
       "</tr>\n",
       "<tr>\n",
       "  <th>0</th>     <td>    0.0091</td> <td>    0.005</td> <td>    1.650</td> <td> 0.099</td> <td>   -0.002</td> <td>    0.020</td>\n",
       "</tr>\n",
       "</table>\n",
       "<table class=\"simpletable\">\n",
       "<tr>\n",
       "  <th>Omnibus:</th>       <td>216.234</td> <th>  Durbin-Watson:     </th> <td>   1.959</td>\n",
       "</tr>\n",
       "<tr>\n",
       "  <th>Prob(Omnibus):</th> <td> 0.000</td>  <th>  Jarque-Bera (JB):  </th> <td>4260.021</td>\n",
       "</tr>\n",
       "<tr>\n",
       "  <th>Skew:</th>          <td>-0.510</td>  <th>  Prob(JB):          </th> <td>    0.00</td>\n",
       "</tr>\n",
       "<tr>\n",
       "  <th>Kurtosis:</th>      <td>13.390</td>  <th>  Cond. No.          </th> <td>    2.63</td>\n",
       "</tr>\n",
       "</table><br/><br/>Notes:<br/>[1] Standard Errors assume that the covariance matrix of the errors is correctly specified."
      ],
      "text/plain": [
       "<class 'statsmodels.iolib.summary.Summary'>\n",
       "\"\"\"\n",
       "                            OLS Regression Results                            \n",
       "==============================================================================\n",
       "Dep. Variable:                      y   R-squared:                       0.003\n",
       "Model:                            OLS   Adj. R-squared:                  0.002\n",
       "Method:                 Least Squares   F-statistic:                     2.723\n",
       "Date:                Tue, 08 Jun 2021   Prob (F-statistic):             0.0992\n",
       "Time:                        16:28:03   Log-Likelihood:                 1249.5\n",
       "No. Observations:                 938   AIC:                            -2495.\n",
       "Df Residuals:                     936   BIC:                            -2485.\n",
       "Df Model:                           1                                         \n",
       "Covariance Type:            nonrobust                                         \n",
       "==============================================================================\n",
       "                 coef    std err          t      P>|t|      [0.025      0.975]\n",
       "------------------------------------------------------------------------------\n",
       "const       1.565e-13      0.002    7.5e-11      1.000      -0.004       0.004\n",
       "0              0.0091      0.005      1.650      0.099      -0.002       0.020\n",
       "==============================================================================\n",
       "Omnibus:                      216.234   Durbin-Watson:                   1.959\n",
       "Prob(Omnibus):                  0.000   Jarque-Bera (JB):             4260.021\n",
       "Skew:                          -0.510   Prob(JB):                         0.00\n",
       "Kurtosis:                      13.390   Cond. No.                         2.63\n",
       "==============================================================================\n",
       "\n",
       "Notes:\n",
       "[1] Standard Errors assume that the covariance matrix of the errors is correctly specified.\n",
       "\"\"\""
      ]
     },
     "execution_count": 128,
     "metadata": {},
     "output_type": "execute_result"
    }
   ],
   "source": [
    "dml_est.summary()"
   ]
  },
  {
   "cell_type": "code",
   "execution_count": 129,
   "metadata": {},
   "outputs": [
    {
     "name": "stdout",
     "output_type": "stream",
     "text": [
      "                              OLS Regression Results                              \n",
      "==================================================================================\n",
      "Dep. Variable:     education_lag_4_growth   R-squared:                       0.357\n",
      "Model:                                OLS   Adj. R-squared:                  0.282\n",
      "Method:                     Least Squares   F-statistic:                     4.759\n",
      "Date:                    Tue, 08 Jun 2021   Prob (F-statistic):           1.21e-36\n",
      "Time:                            16:28:22   Log-Likelihood:                 1249.5\n",
      "No. Observations:                     938   AIC:                            -2301.\n",
      "Df Residuals:                         839   BIC:                            -1822.\n",
      "Df Model:                              98                                         \n",
      "Covariance Type:                nonrobust                                         \n",
      "==========================================================================================\n",
      "                             coef    std err          t      P>|t|      [0.025      0.975]\n",
      "------------------------------------------------------------------------------------------\n",
      "const                      0.8579      0.075     11.497      0.000       0.711       1.004\n",
      "project_completed_year     0.0091      0.006      1.562      0.119      -0.002       0.020\n",
      "pc_commit_education     8.356e-05      0.000      0.530      0.596      -0.000       0.000\n",
      "edu_pupil_teacher         -0.0014      0.001     -1.585      0.113      -0.003       0.000\n",
      "young_population           0.0027      0.002      1.669      0.095      -0.000       0.006\n",
      "gdp_pc_ppp             -2.376e-06   1.88e-06     -1.266      0.206   -6.06e-06    1.31e-06\n",
      "cash_surplus_deficit       0.0006      0.001      0.974      0.330      -0.001       0.002\n",
      "inflation              -6.348e-05    2.7e-05     -2.355      0.019      -0.000   -1.06e-05\n",
      "trade_share_gdp           -0.0002      0.000     -0.807      0.420      -0.001       0.000\n",
      "freedom_house             -0.0068      0.005     -1.344      0.179      -0.017       0.003\n",
      "prior_4year_growth         0.1687      0.032      5.203      0.000       0.105       0.232\n",
      "AGO                     9.911e-17   4.95e-17      2.002      0.046    1.94e-18    1.96e-16\n",
      "ALB                       -0.0340      0.030     -1.148      0.251      -0.092       0.024\n",
      "ARG                     3.131e-16   7.94e-17      3.942      0.000    1.57e-16    4.69e-16\n",
      "ARM                        0.0462      0.036      1.282      0.200      -0.025       0.117\n",
      "ATG                       -0.0746      0.070     -1.069      0.286      -0.212       0.062\n",
      "AZE                       -0.0115      0.023     -0.495      0.620      -0.057       0.034\n",
      "BDI                       -0.2017      0.041     -4.887      0.000      -0.283      -0.121\n",
      "BEN                        0.0306      0.028      1.088      0.277      -0.025       0.086\n",
      "BFA                        0.1656      0.027      6.079      0.000       0.112       0.219\n",
      "BGD                        0.1262      0.051      2.472      0.014       0.026       0.226\n",
      "BGR                        0.0346      0.028      1.240      0.215      -0.020       0.089\n",
      "BIH                    -4.119e-17   4.68e-17     -0.880      0.379   -1.33e-16    5.07e-17\n",
      "BLR                        0.0595      0.032      1.867      0.062      -0.003       0.122\n",
      "BLZ                    -1.106e-17   5.31e-17     -0.208      0.835   -1.15e-16    9.32e-17\n",
      "BOL                       -0.0804      0.030     -2.693      0.007      -0.139      -0.022\n",
      "BRA                       -0.0423      0.024     -1.729      0.084      -0.090       0.006\n",
      "BRB                    -3.915e-18   3.83e-17     -0.102      0.919    -7.9e-17    7.12e-17\n",
      "BTN                        0.1494      0.023      6.591      0.000       0.105       0.194\n",
      "BWA                       -0.0260      0.024     -1.072      0.284      -0.073       0.022\n",
      "CAF                    -5.816e-17   3.48e-17     -1.672      0.095   -1.26e-16    1.01e-17\n",
      "CHL                        0.0074      0.070      0.105      0.916      -0.131       0.146\n",
      "CHN                      5.92e-18   4.13e-17      0.144      0.886    -7.5e-17    8.69e-17\n",
      "CIV                        0.0256      0.026      0.976      0.329      -0.026       0.077\n",
      "CMR                       -0.0274      0.044     -0.631      0.528      -0.113       0.058\n",
      "COD                        0.0225      0.024      0.938      0.349      -0.025       0.070\n",
      "COG                        0.1918      0.034      5.631      0.000       0.125       0.259\n",
      "COL                        0.0295      0.020      1.444      0.149      -0.011       0.070\n",
      "COM                    -5.745e-17    3.9e-17     -1.473      0.141   -1.34e-16    1.91e-17\n",
      "CPV                       -0.0749      0.037     -2.047      0.041      -0.147      -0.003\n",
      "CRI                        0.0139      0.021      0.668      0.504      -0.027       0.055\n",
      "CUB                     1.802e-17   2.45e-17      0.735      0.463   -3.01e-17    6.62e-17\n",
      "CYP                     5.985e-17   3.01e-17      1.991      0.047    8.57e-19    1.19e-16\n",
      "CZE                    -8.904e-17   3.25e-17     -2.742      0.006   -1.53e-16   -2.53e-17\n",
      "DJI                    -7.314e-17   3.66e-17     -1.998      0.046   -1.45e-16    -1.3e-18\n",
      "DMA                    -4.203e-17   2.23e-17     -1.887      0.060   -8.57e-17     1.7e-18\n",
      "DOM                        0.0136      0.020      0.670      0.503      -0.026       0.054\n",
      "DZA                        0.0244      0.020      1.235      0.217      -0.014       0.063\n",
      "ECU                     3.481e-17   2.74e-17      1.269      0.205    -1.9e-17    8.86e-17\n",
      "EGY                        0.0080      0.022      0.358      0.720      -0.036       0.052\n",
      "ERI                    -2.197e-17    1.8e-17     -1.221      0.222   -5.73e-17    1.33e-17\n",
      "ESP                    -4.858e-17    1.6e-17     -3.029      0.003   -8.01e-17   -1.71e-17\n",
      "EST                     2.982e-17   1.39e-17      2.152      0.032    2.62e-18     5.7e-17\n",
      "ETH                        0.0412      0.070      0.585      0.559      -0.097       0.179\n",
      "FIN                     2.945e-17   4.95e-17      0.595      0.552   -6.77e-17    1.27e-16\n",
      "FJI                        0.0026      0.022      0.117      0.907      -0.041       0.046\n",
      "FSM                    -7.821e-17   1.98e-17     -3.941      0.000   -1.17e-16   -3.93e-17\n",
      "GAB                    -4.112e-18    2.5e-17     -0.164      0.870   -5.33e-17     4.5e-17\n",
      "GEO                        0.0275      0.030      0.915      0.360      -0.032       0.087\n",
      "GHA                        0.0665      0.026      2.554      0.011       0.015       0.118\n",
      "GIN                      1.96e-17   1.99e-17      0.983      0.326   -1.95e-17    5.87e-17\n",
      "GMB                    -3.888e-19   1.51e-17     -0.026      0.979      -3e-17    2.92e-17\n",
      "GNB                     2.667e-17   1.45e-17      1.838      0.066   -1.81e-18    5.51e-17\n",
      "GNQ                        0.0773      0.078      0.991      0.322      -0.076       0.230\n",
      "GRC                     3.269e-17   2.27e-17      1.440      0.150   -1.19e-17    7.72e-17\n",
      "GRD                        0.0076      0.028      0.276      0.783      -0.046       0.062\n",
      "GTM                        0.0497      0.023      2.181      0.029       0.005       0.094\n",
      "GUY                    -4.969e-17   1.45e-17     -3.432      0.001   -7.81e-17   -2.13e-17\n",
      "HKG                     3.497e-17   1.19e-17      2.927      0.004    1.15e-17    5.84e-17\n",
      "HND                       -0.0282      0.026     -1.082      0.280      -0.079       0.023\n",
      "HRV                        0.0429      0.028      1.548      0.122      -0.011       0.097\n",
      "HTI                      -7.3e-17   1.15e-17     -6.365      0.000   -9.55e-17   -5.05e-17\n",
      "HUN                     8.334e-18   1.01e-17      0.823      0.411   -1.16e-17    2.82e-17\n",
      "IDN                       -0.0320      0.019     -1.663      0.097      -0.070       0.006\n",
      "IND                        0.0427      0.025      1.740      0.082      -0.005       0.091\n",
      "IRL                     3.139e-17   9.34e-18      3.360      0.001    1.31e-17    4.97e-17\n",
      "IRN                        0.0116      0.023      0.505      0.614      -0.033       0.056\n",
      "IRQ                    -4.507e-17   1.28e-17     -3.514      0.000   -7.02e-17   -1.99e-17\n",
      "ISL                    -4.298e-18   8.13e-18     -0.529      0.597   -2.03e-17    1.17e-17\n",
      "ISR                     1.167e-17   8.41e-18      1.388      0.166   -4.84e-18    2.82e-17\n",
      "JAM                        0.0031      0.022      0.140      0.889      -0.041       0.047\n",
      "JOR                       -0.0243      0.025     -0.962      0.336      -0.074       0.025\n",
      "JPN                     2.446e-18   8.19e-18      0.299      0.765   -1.36e-17    1.85e-17\n",
      "KAZ                     2.494e-17   9.74e-18      2.560      0.011    5.82e-18    4.41e-17\n",
      "KEN                        0.0242      0.026      0.926      0.355      -0.027       0.076\n",
      "KGZ                       -0.0018      0.024     -0.077      0.938      -0.048       0.045\n",
      "KHM                        0.0780      0.031      2.523      0.012       0.017       0.139\n",
      "KIR                     6.123e-20   3.31e-18      0.018      0.985   -6.44e-18    6.57e-18\n",
      "KOR                    -6.467e-18   5.14e-18     -1.259      0.209   -1.66e-17    3.62e-18\n",
      "LAO                        0.1109      0.031      3.545      0.000       0.049       0.172\n",
      "LBN                       -0.0781      0.043     -1.809      0.071      -0.163       0.007\n",
      "LBR                     9.456e-19   5.39e-18      0.175      0.861   -9.63e-18    1.15e-17\n",
      "LCA                     1.815e-18    6.4e-18      0.284      0.777   -1.07e-17    1.44e-17\n",
      "LKA                        0.0021      0.021      0.104      0.917      -0.038       0.043\n",
      "LSO                       -0.0233      0.051     -0.455      0.649      -0.124       0.077\n",
      "LTU                     8.419e-19   4.32e-18      0.195      0.846   -7.64e-18    9.33e-18\n",
      "LVA                     1.838e-18   3.31e-18      0.555      0.579   -4.66e-18    8.33e-18\n",
      "MAR                        0.0929      0.019      4.956      0.000       0.056       0.130\n",
      "MDA                       -0.0066      0.029     -0.229      0.819      -0.063       0.050\n",
      "MDG                        0.0597      0.025      2.412      0.016       0.011       0.108\n",
      "MDV                    -8.138e-32   3.41e-32     -2.387      0.017   -1.48e-31   -1.45e-32\n",
      "MEX                        0.0135      0.032      0.425      0.671      -0.049       0.076\n",
      "MHL                             0          0        nan        nan           0           0\n",
      "MKD                        0.0098      0.030      0.321      0.748      -0.050       0.070\n",
      "MLI                       -0.0175      0.031     -0.563      0.574      -0.079       0.044\n",
      "MMR                        0.0244      0.055      0.445      0.656      -0.083       0.132\n",
      "MNE                             0          0        nan        nan           0           0\n",
      "MNG                        0.0148      0.022      0.660      0.509      -0.029       0.059\n",
      "MOZ                       -0.0274      0.052     -0.526      0.599      -0.130       0.075\n",
      "MRT                             0          0        nan        nan           0           0\n",
      "MUS                       -0.0046      0.021     -0.219      0.827      -0.046       0.037\n",
      "MWI                             0          0        nan        nan           0           0\n",
      "MYS                        0.0206      0.034      0.605      0.545      -0.046       0.088\n",
      "NAM                       -0.0193      0.028     -0.693      0.489      -0.074       0.035\n",
      "NER                             0          0        nan        nan           0           0\n",
      "NGA                       -0.0886      0.028     -3.214      0.001      -0.143      -0.035\n",
      "NIC                       -0.0077      0.021     -0.360      0.719      -0.050       0.034\n",
      "NPL                        0.0594      0.026      2.263      0.024       0.008       0.111\n",
      "NRU                             0          0        nan        nan           0           0\n",
      "NZL                             0          0        nan        nan           0           0\n",
      "OMN                             0          0        nan        nan           0           0\n",
      "PAK                        0.0395      0.030      1.315      0.189      -0.019       0.098\n",
      "PAN                        0.0094      0.050      0.186      0.853      -0.089       0.108\n",
      "PER                       -0.0273      0.019     -1.414      0.158      -0.065       0.011\n",
      "PHL                       -0.0300      0.018     -1.686      0.092      -0.065       0.005\n",
      "PLW                             0          0        nan        nan           0           0\n",
      "PNG                        0.0330      0.027      1.225      0.221      -0.020       0.086\n",
      "POL                        0.0107      0.030      0.356      0.722      -0.048       0.070\n",
      "PRK                             0          0        nan        nan           0           0\n",
      "PRT                             0          0        nan        nan           0           0\n",
      "PRY                       -0.0385      0.026     -1.469      0.142      -0.090       0.013\n",
      "PSE                             0          0        nan        nan           0           0\n",
      "ROU                        0.0201      0.025      0.810      0.418      -0.029       0.069\n",
      "RUS                        0.0597      0.030      1.995      0.046       0.001       0.118\n",
      "RWA                        0.0770      0.032      2.402      0.017       0.014       0.140\n",
      "SDN                             0          0        nan        nan           0           0\n",
      "SEN                        0.0040      0.023      0.171      0.864      -0.042       0.050\n",
      "SGP                             0          0        nan        nan           0           0\n",
      "SLB                             0          0        nan        nan           0           0\n",
      "SLE                             0          0        nan        nan           0           0\n",
      "SLV                        0.0260      0.024      1.085      0.278      -0.021       0.073\n",
      "SOM                             0          0        nan        nan           0           0\n",
      "SRB                        0.0157      0.043      0.363      0.716      -0.069       0.100\n",
      "SSD                             0          0        nan        nan           0           0\n",
      "STP                             0          0        nan        nan           0           0\n",
      "SUR                        0.0404      0.051      0.797      0.426      -0.059       0.140\n",
      "SVK                             0          0        nan        nan           0           0\n",
      "SVN                             0          0        nan        nan           0           0\n",
      "SWZ                             0          0        nan        nan           0           0\n",
      "SYC                        0.0350      0.029      1.225      0.221      -0.021       0.091\n",
      "SYR                             0          0        nan        nan           0           0\n",
      "TCA                             0          0        nan        nan           0           0\n",
      "TCD                             0          0        nan        nan           0           0\n",
      "TGO                       -0.0631      0.027     -2.322      0.020      -0.116      -0.010\n",
      "THA                       -0.0246      0.043     -0.571      0.568      -0.109       0.060\n",
      "TJK                       -0.0164      0.040     -0.407      0.684      -0.095       0.063\n",
      "TKM                             0          0        nan        nan           0           0\n",
      "TLS                             0          0        nan        nan           0           0\n",
      "TON                             0          0        nan        nan           0           0\n",
      "TTO                             0          0        nan        nan           0           0\n",
      "TUN                        0.0177      0.021      0.827      0.408      -0.024       0.060\n",
      "TUR                        0.0139      0.022      0.631      0.528      -0.029       0.057\n",
      "TUV                             0          0        nan        nan           0           0\n",
      "TZA                       -0.1784      0.043     -4.177      0.000      -0.262      -0.095\n",
      "UGA                        0.0064      0.031      0.206      0.837      -0.055       0.068\n",
      "UKR                        0.0270      0.031      0.881      0.378      -0.033       0.087\n",
      "URY                        0.0020      0.023      0.087      0.931      -0.043       0.047\n",
      "USA                             0          0        nan        nan           0           0\n",
      "UZB                             0          0        nan        nan           0           0\n",
      "VNM                             0          0        nan        nan           0           0\n",
      "VUT                       -0.0640      0.028     -2.290      0.022      -0.119      -0.009\n",
      "WSM                       -0.0211      0.069     -0.305      0.760      -0.157       0.114\n",
      "XKX                             0          0        nan        nan           0           0\n",
      "YEM                             0          0        nan        nan           0           0\n",
      "YUG                             0          0        nan        nan           0           0\n",
      "ZAF                       -0.0151      0.023     -0.651      0.515      -0.061       0.030\n",
      "ZMB                       -0.0009      0.026     -0.033      0.974      -0.053       0.051\n",
      "ZWE                             0          0        nan        nan           0           0\n",
      "==============================================================================\n",
      "Omnibus:                      216.234   Durbin-Watson:                   1.959\n",
      "Prob(Omnibus):                  0.000   Jarque-Bera (JB):             4260.021\n",
      "Skew:                          -0.510   Prob(JB):                         0.00\n",
      "Kurtosis:                      13.390   Cond. No.                     2.65e+20\n",
      "==============================================================================\n",
      "\n",
      "Notes:\n",
      "[1] Standard Errors assume that the covariance matrix of the errors is correctly specified.\n",
      "[2] The smallest eigenvalue is 1.43e-30. This might indicate that there are\n",
      "strong multicollinearity problems or that the design matrix is singular.\n"
     ]
    }
   ],
   "source": [
    "print(est.summary())"
   ]
  },
  {
   "cell_type": "code",
   "execution_count": 130,
   "metadata": {},
   "outputs": [
    {
     "name": "stdout",
     "output_type": "stream",
     "text": [
      "                              OLS Regression Results                              \n",
      "==================================================================================\n",
      "Dep. Variable:     education_lag_4_growth   R-squared:                       0.355\n",
      "Model:                                OLS   Adj. R-squared:                  0.281\n",
      "Method:                     Least Squares   F-statistic:                     4.775\n",
      "Date:                    Tue, 08 Jun 2021   Prob (F-statistic):           1.45e-36\n",
      "Time:                            16:28:27   Log-Likelihood:                 1248.2\n",
      "No. Observations:                     938   AIC:                            -2300.\n",
      "Df Residuals:                         840   BIC:                            -1826.\n",
      "Df Model:                              97                                         \n",
      "Covariance Type:                nonrobust                                         \n",
      "========================================================================================\n",
      "                           coef    std err          t      P>|t|      [0.025      0.975]\n",
      "----------------------------------------------------------------------------------------\n",
      "const                    0.8612      0.075     11.536      0.000       0.715       1.008\n",
      "pc_commit_education   9.283e-05      0.000      0.588      0.556      -0.000       0.000\n",
      "edu_pupil_teacher       -0.0013      0.001     -1.517      0.130      -0.003       0.000\n",
      "young_population         0.0027      0.002      1.633      0.103      -0.001       0.006\n",
      "gdp_pc_ppp           -2.382e-06   1.88e-06     -1.268      0.205   -6.07e-06     1.3e-06\n",
      "cash_surplus_deficit     0.0006      0.001      1.016      0.310      -0.001       0.002\n",
      "inflation            -6.357e-05    2.7e-05     -2.356      0.019      -0.000   -1.06e-05\n",
      "trade_share_gdp         -0.0002      0.000     -0.807      0.420      -0.001       0.000\n",
      "freedom_house           -0.0066      0.005     -1.312      0.190      -0.016       0.003\n",
      "prior_4year_growth       0.1673      0.032      5.157      0.000       0.104       0.231\n",
      "AGO                  -3.138e-16   1.32e-16     -2.375      0.018   -5.73e-16   -5.45e-17\n",
      "ALB                     -0.0300      0.030     -1.015      0.310      -0.088       0.028\n",
      "ARG                  -1.154e-16   6.99e-17     -1.650      0.099   -2.53e-16    2.19e-17\n",
      "ARM                      0.0454      0.036      1.260      0.208      -0.025       0.116\n",
      "ATG                     -0.0761      0.070     -1.089      0.277      -0.213       0.061\n",
      "AZE                     -0.0125      0.023     -0.540      0.589      -0.058       0.033\n",
      "BDI                     -0.2020      0.041     -4.890      0.000      -0.283      -0.121\n",
      "BEN                      0.0304      0.028      1.080      0.281      -0.025       0.086\n",
      "BFA                      0.1665      0.027      6.104      0.000       0.113       0.220\n",
      "BGD                      0.1276      0.051      2.498      0.013       0.027       0.228\n",
      "BGR                      0.0334      0.028      1.197      0.232      -0.021       0.088\n",
      "BIH                    5.08e-17   5.57e-17      0.912      0.362   -5.85e-17     1.6e-16\n",
      "BLR                      0.0567      0.032      1.781      0.075      -0.006       0.119\n",
      "BLZ                   2.815e-17    4.2e-17      0.670      0.503   -5.43e-17    1.11e-16\n",
      "BOL                     -0.0759      0.030     -2.553      0.011      -0.134      -0.018\n",
      "BRA                     -0.0382      0.024     -1.566      0.118      -0.086       0.010\n",
      "BRB                  -3.924e-17   5.71e-17     -0.687      0.492   -1.51e-16    7.29e-17\n",
      "BTN                      0.1470      0.023      6.496      0.000       0.103       0.191\n",
      "BWA                     -0.0272      0.024     -1.123      0.262      -0.075       0.020\n",
      "CAF                  -3.306e-17   4.14e-17     -0.799      0.424   -1.14e-16    4.81e-17\n",
      "CHL                      0.0055      0.070      0.077      0.938      -0.133       0.144\n",
      "CHN                  -2.886e-18   2.74e-17     -0.106      0.916   -5.66e-17    5.08e-17\n",
      "CIV                      0.0236      0.026      0.899      0.369      -0.028       0.075\n",
      "CMR                     -0.0275      0.044     -0.632      0.528      -0.113       0.058\n",
      "COD                      0.0202      0.024      0.842      0.400      -0.027       0.067\n",
      "COG                      0.1876      0.034      5.521      0.000       0.121       0.254\n",
      "COL                      0.0305      0.020      1.493      0.136      -0.010       0.071\n",
      "COM                   7.276e-17    3.5e-17      2.076      0.038    3.97e-18    1.42e-16\n",
      "CPV                     -0.0752      0.037     -2.055      0.040      -0.147      -0.003\n",
      "CRI                      0.0127      0.021      0.610      0.542      -0.028       0.054\n",
      "CUB                  -7.126e-17   3.63e-17     -1.961      0.050   -1.43e-16     6.7e-20\n",
      "CYP                  -2.889e-17   2.23e-17     -1.296      0.195   -7.26e-17    1.49e-17\n",
      "CZE                   2.765e-17   2.72e-17      1.018      0.309   -2.56e-17    8.09e-17\n",
      "DJI                   9.709e-18   2.65e-17      0.366      0.715   -4.24e-17    6.18e-17\n",
      "DMA                  -8.968e-18   2.82e-17     -0.318      0.750   -6.43e-17    4.63e-17\n",
      "DOM                      0.0136      0.020      0.670      0.503      -0.026       0.054\n",
      "DZA                      0.0234      0.020      1.183      0.237      -0.015       0.062\n",
      "ECU                   3.703e-17   2.52e-17      1.471      0.142   -1.24e-17    8.65e-17\n",
      "EGY                      0.0095      0.022      0.422      0.673      -0.035       0.054\n",
      "ERI                  -3.462e-18   1.79e-17     -0.193      0.847   -3.86e-17    3.17e-17\n",
      "ESP                    3.48e-17   2.16e-17      1.613      0.107   -7.55e-18    7.71e-17\n",
      "EST                   1.516e-17   2.77e-17      0.547      0.585   -3.93e-17    6.96e-17\n",
      "ETH                      0.0377      0.070      0.535      0.593      -0.101       0.176\n",
      "FIN                   3.074e-17   3.27e-17      0.941      0.347   -3.34e-17    9.49e-17\n",
      "FJI                      0.0013      0.022      0.056      0.955      -0.042       0.045\n",
      "FSM                   2.085e-17   1.77e-17      1.179      0.239   -1.39e-17    5.56e-17\n",
      "GAB                   5.592e-17   1.89e-17      2.957      0.003    1.88e-17     9.3e-17\n",
      "GEO                      0.0268      0.030      0.891      0.373      -0.032       0.086\n",
      "GHA                      0.0703      0.026      2.707      0.007       0.019       0.121\n",
      "GIN                  -1.814e-17   1.96e-17     -0.924      0.356   -5.67e-17    2.04e-17\n",
      "GMB                   1.943e-17   2.57e-17      0.755      0.450   -3.11e-17    6.99e-17\n",
      "GNB                  -6.214e-19   1.27e-17     -0.049      0.961   -2.56e-17    2.43e-17\n",
      "GNQ                      0.0749      0.078      0.960      0.338      -0.078       0.228\n",
      "GRC                   1.042e-18   1.47e-17      0.071      0.943   -2.77e-17    2.98e-17\n",
      "GRD                      0.0056      0.028      0.202      0.840      -0.049       0.060\n",
      "GTM                      0.0519      0.023      2.282      0.023       0.007       0.097\n",
      "GUY                  -9.932e-18   1.19e-17     -0.833      0.405   -3.33e-17    1.35e-17\n",
      "HKG                   5.755e-18   1.57e-17      0.367      0.714    -2.5e-17    3.65e-17\n",
      "HND                     -0.0262      0.026     -1.005      0.315      -0.077       0.025\n",
      "HRV                      0.0407      0.028      1.471      0.142      -0.014       0.095\n",
      "HTI                   1.544e-17    1.2e-17      1.282      0.200    -8.2e-18    3.91e-17\n",
      "HUN                   1.545e-17   9.84e-18      1.569      0.117   -3.88e-18    3.48e-17\n",
      "IDN                     -0.0259      0.019     -1.372      0.170      -0.063       0.011\n",
      "IND                      0.0470      0.024      1.927      0.054      -0.001       0.095\n",
      "IRL                  -7.749e-18   9.12e-18     -0.850      0.396   -2.57e-17    1.02e-17\n",
      "IRN                      0.0096      0.023      0.421      0.674      -0.035       0.055\n",
      "IRQ                  -1.566e-17   8.21e-18     -1.907      0.057   -3.18e-17    4.62e-19\n",
      "ISL                   2.019e-17   6.67e-18      3.027      0.003     7.1e-18    3.33e-17\n",
      "ISR                  -9.755e-18   1.14e-17     -0.852      0.394   -3.22e-17    1.27e-17\n",
      "JAM                      0.0056      0.022      0.251      0.802      -0.038       0.049\n",
      "JOR                     -0.0219      0.025     -0.867      0.386      -0.071       0.028\n",
      "JPN                   1.424e-17   6.41e-18      2.222      0.027    1.66e-18    2.68e-17\n",
      "KAZ                  -2.056e-17   3.83e-18     -5.373      0.000   -2.81e-17    -1.3e-17\n",
      "KEN                      0.0258      0.026      0.986      0.325      -0.026       0.077\n",
      "KGZ                     -0.0020      0.024     -0.082      0.934      -0.048       0.045\n",
      "KHM                      0.0787      0.031      2.545      0.011       0.018       0.139\n",
      "KIR                   1.024e-17    7.5e-18      1.365      0.173   -4.49e-18     2.5e-17\n",
      "KOR                  -9.561e-19   5.18e-18     -0.184      0.854   -1.11e-17    9.22e-18\n",
      "LAO                      0.1113      0.031      3.555      0.000       0.050       0.173\n",
      "LBN                     -0.0769      0.043     -1.780      0.076      -0.162       0.008\n",
      "LBR                   2.403e-18   6.25e-18      0.384      0.701   -9.87e-18    1.47e-17\n",
      "LCA                   1.132e-17   8.14e-18      1.391      0.165   -4.66e-18    2.73e-17\n",
      "LKA                      0.0039      0.021      0.191      0.849      -0.037       0.045\n",
      "LSO                     -0.0259      0.051     -0.504      0.614      -0.127       0.075\n",
      "LTU                   9.309e-18   4.81e-18      1.935      0.053   -1.34e-19    1.88e-17\n",
      "LVA                  -1.291e-18   2.14e-18     -0.604      0.546   -5.49e-18     2.9e-18\n",
      "MAR                      0.0934      0.019      4.980      0.000       0.057       0.130\n",
      "MDA                     -0.0076      0.029     -0.264      0.792      -0.064       0.049\n",
      "MDG                      0.0577      0.025      2.332      0.020       0.009       0.106\n",
      "MDV                  -3.414e-19   6.02e-19     -0.567      0.571   -1.52e-18     8.4e-19\n",
      "MEX                      0.0154      0.032      0.485      0.628      -0.047       0.078\n",
      "MHL                           0          0        nan        nan           0           0\n",
      "MKD                      0.0088      0.030      0.289      0.773      -0.051       0.069\n",
      "MLI                     -0.0163      0.031     -0.523      0.601      -0.077       0.045\n",
      "MMR                      0.0212      0.055      0.388      0.698      -0.086       0.129\n",
      "MNE                           0          0        nan        nan           0           0\n",
      "MNG                      0.0144      0.022      0.641      0.522      -0.030       0.058\n",
      "MOZ                     -0.0304      0.052     -0.583      0.560      -0.133       0.072\n",
      "MRT                           0          0        nan        nan           0           0\n",
      "MUS                     -0.0061      0.021     -0.290      0.772      -0.048       0.035\n",
      "MWI                           0          0        nan        nan           0           0\n",
      "MYS                      0.0224      0.034      0.658      0.511      -0.044       0.089\n",
      "NAM                     -0.0177      0.028     -0.638      0.524      -0.072       0.037\n",
      "NER                           0          0        nan        nan           0           0\n",
      "NGA                     -0.0862      0.028     -3.130      0.002      -0.140      -0.032\n",
      "NIC                     -0.0043      0.021     -0.201      0.841      -0.046       0.037\n",
      "NPL                      0.0636      0.026      2.435      0.015       0.012       0.115\n",
      "NRU                           0          0        nan        nan           0           0\n",
      "NZL                           0          0        nan        nan           0           0\n",
      "OMN                           0          0        nan        nan           0           0\n",
      "PAK                      0.0428      0.030      1.429      0.153      -0.016       0.102\n",
      "PAN                      0.0076      0.050      0.150      0.881      -0.091       0.106\n",
      "PER                     -0.0275      0.019     -1.423      0.155      -0.065       0.010\n",
      "PHL                     -0.0280      0.018     -1.578      0.115      -0.063       0.007\n",
      "PLW                           0          0        nan        nan           0           0\n",
      "PNG                      0.0308      0.027      1.145      0.252      -0.022       0.084\n",
      "POL                      0.0092      0.030      0.307      0.759      -0.050       0.068\n",
      "PRK                           0          0        nan        nan           0           0\n",
      "PRT                           0          0        nan        nan           0           0\n",
      "PRY                     -0.0378      0.026     -1.443      0.149      -0.089       0.014\n",
      "PSE                           0          0        nan        nan           0           0\n",
      "ROU                      0.0200      0.025      0.806      0.421      -0.029       0.069\n",
      "RUS                      0.0569      0.030      1.904      0.057      -0.002       0.116\n",
      "RWA                      0.0756      0.032      2.356      0.019       0.013       0.139\n",
      "SDN                           0          0        nan        nan           0           0\n",
      "SEN                      0.0045      0.023      0.192      0.848      -0.041       0.050\n",
      "SGP                           0          0        nan        nan           0           0\n",
      "SLB                           0          0        nan        nan           0           0\n",
      "SLE                           0          0        nan        nan           0           0\n",
      "SLV                      0.0254      0.024      1.061      0.289      -0.022       0.073\n",
      "SOM                           0          0        nan        nan           0           0\n",
      "SRB                      0.0137      0.043      0.318      0.751      -0.071       0.098\n",
      "SSD                           0          0        nan        nan           0           0\n",
      "STP                           0          0        nan        nan           0           0\n",
      "SUR                      0.0389      0.051      0.767      0.443      -0.061       0.138\n",
      "SVK                           0          0        nan        nan           0           0\n",
      "SVN                           0          0        nan        nan           0           0\n",
      "SWZ                           0          0        nan        nan           0           0\n",
      "SYC                      0.0333      0.029      1.164      0.245      -0.023       0.089\n",
      "SYR                           0          0        nan        nan           0           0\n",
      "TCA                           0          0        nan        nan           0           0\n",
      "TCD                           0          0        nan        nan           0           0\n",
      "TGO                     -0.0656      0.027     -2.414      0.016      -0.119      -0.012\n",
      "THA                     -0.0239      0.043     -0.555      0.579      -0.108       0.061\n",
      "TJK                     -0.0159      0.040     -0.394      0.693      -0.095       0.063\n",
      "TKM                           0          0        nan        nan           0           0\n",
      "TLS                           0          0        nan        nan           0           0\n",
      "TON                           0          0        nan        nan           0           0\n",
      "TTO                           0          0        nan        nan           0           0\n",
      "TUN                      0.0188      0.021      0.875      0.382      -0.023       0.061\n",
      "TUR                      0.0149      0.022      0.677      0.499      -0.028       0.058\n",
      "TUV                           0          0        nan        nan           0           0\n",
      "TZA                     -0.1752      0.043     -4.103      0.000      -0.259      -0.091\n",
      "UGA                      0.0084      0.031      0.270      0.787      -0.053       0.070\n",
      "UKR                      0.0246      0.031      0.802      0.423      -0.036       0.085\n",
      "URY                      0.0012      0.023      0.054      0.957      -0.044       0.046\n",
      "USA                           0          0        nan        nan           0           0\n",
      "UZB                           0          0        nan        nan           0           0\n",
      "VNM                           0          0        nan        nan           0           0\n",
      "VUT                     -0.0649      0.028     -2.323      0.020      -0.120      -0.010\n",
      "WSM                     -0.0235      0.069     -0.340      0.734      -0.159       0.112\n",
      "XKX                           0          0        nan        nan           0           0\n",
      "YEM                           0          0        nan        nan           0           0\n",
      "YUG                           0          0        nan        nan           0           0\n",
      "ZAF                     -0.0132      0.023     -0.568      0.570      -0.059       0.032\n",
      "ZMB                   9.164e-05      0.026      0.003      0.997      -0.052       0.052\n",
      "ZWE                           0          0        nan        nan           0           0\n",
      "==============================================================================\n",
      "Omnibus:                      217.568   Durbin-Watson:                   1.954\n",
      "Prob(Omnibus):                  0.000   Jarque-Bera (JB):             4395.412\n",
      "Skew:                          -0.508   Prob(JB):                         0.00\n",
      "Kurtosis:                      13.556   Cond. No.                     4.33e+20\n",
      "==============================================================================\n",
      "\n",
      "Notes:\n",
      "[1] Standard Errors assume that the covariance matrix of the errors is correctly specified.\n",
      "[2] The smallest eigenvalue is 5.35e-31. This might indicate that there are\n",
      "strong multicollinearity problems or that the design matrix is singular.\n"
     ]
    }
   ],
   "source": [
    "print(target_est.summary())"
   ]
  },
  {
   "cell_type": "markdown",
   "metadata": {},
   "source": [
    "## Now use EconML"
   ]
  },
  {
   "cell_type": "code",
   "execution_count": 154,
   "metadata": {},
   "outputs": [],
   "source": [
    "from econml.dml import LinearDML\n",
    "from sklearn.linear_model import LassoCV, LogisticRegressionCV\n",
    "from sklearn.ensemble import RandomForestRegressor, RandomForestClassifier\n",
    "from econml.inference import BootstrapInference"
   ]
  },
  {
   "cell_type": "code",
   "execution_count": 135,
   "metadata": {},
   "outputs": [],
   "source": [
    "treatment_col = 'project_completed_year'"
   ]
  },
  {
   "cell_type": "code",
   "execution_count": 136,
   "metadata": {},
   "outputs": [],
   "source": [
    "feature_cols = ['pc_commit_education', 'edu_pupil_teacher', 'young_population', 'gdp_pc_ppp', \n",
    "                'cash_surplus_deficit', 'inflation', 'trade_share_gdp', 'freedom_house', 'prior_4year_growth']"
   ]
  },
  {
   "cell_type": "code",
   "execution_count": 165,
   "metadata": {},
   "outputs": [],
   "source": [
    "Y, T, X, W = experiment.assemble_econml_tuples(df, target_col, treatment_col, feature_cols)"
   ]
  },
  {
   "cell_type": "code",
   "execution_count": 166,
   "metadata": {},
   "outputs": [],
   "source": [
    "est = LinearDML(model_t=LogisticRegressionCV(max_iter=500), discrete_treatment=True)\n",
    "# est = LinearDML(model_t=RandomForestClassifier(), discrete_treatment=True)\n",
    "est.fit(Y, T, X=X, W=W) # W -> high-dimensional confounders, X -> features"
   ]
  },
  {
   "cell_type": "code",
   "execution_count": 168,
   "metadata": {},
   "outputs": [
    {
     "name": "stdout",
     "output_type": "stream",
     "text": [
      "0.006123389834152523\n",
      "                           Coefficient Results                            \n",
      "==========================================================================\n",
      "                     point_estimate stderr zstat  pvalue ci_lower ci_upper\n",
      "--------------------------------------------------------------------------\n",
      "pc_commit_education            -0.0    0.0 -2.072  0.038   -0.001     -0.0\n",
      "edu_pupil_teacher            -0.001  0.001 -0.514  0.607   -0.003    0.002\n",
      "young_population                0.0  0.001  0.162  0.872   -0.002    0.002\n",
      "gdp_pc_ppp                     -0.0    0.0  -1.62  0.105     -0.0      0.0\n",
      "cash_surplus_deficit            0.0  0.001  0.149  0.882   -0.002    0.003\n",
      "inflation                       0.0  0.001  0.379  0.705   -0.001    0.002\n",
      "trade_share_gdp                -0.0    0.0 -1.504  0.132   -0.001      0.0\n",
      "freedom_house                -0.007  0.005 -1.386  0.166   -0.014    0.001\n",
      "prior_4year_growth            0.138  0.216   0.64  0.522   -0.217    0.492\n",
      "                       CATE Intercept Results                       \n",
      "====================================================================\n",
      "               point_estimate stderr zstat  pvalue ci_lower ci_upper\n",
      "--------------------------------------------------------------------\n",
      "cate_intercept         -0.062  0.231 -0.269  0.788   -0.441    0.317\n",
      "--------------------------------------------------------------------\n",
      "\n",
      "<sub>A linear parametric conditional average treatment effect (CATE) model was fitted:\n",
      "$Y = \\Theta(X)\\cdot T + g(X, W) + \\epsilon$\n",
      "where for every outcome $i$ and treatment $j$ the CATE $\\Theta_{ij}(X)$ has the form:\n",
      "$\\Theta_{ij}(X) = \\phi(X)' coef_{ij} + cate\\_intercept_{ij}$\n",
      "where $\\phi(X)$ is the output of the `featurizer` or $X$ if `featurizer`=None. Coefficient Results table portrays the $coef_{ij}$ parameter vector for each outcome $i$ and treatment $j$. Intercept Results table portrays the $cate\\_intercept_{ij}$ parameter.</sub>\n"
     ]
    }
   ],
   "source": [
    "print(est.score_)\n",
    "print(est.summary())"
   ]
  },
  {
   "cell_type": "code",
   "execution_count": 151,
   "metadata": {},
   "outputs": [],
   "source": [
    "# point = est.const_marginddal_effect(X)\n",
    "# print(point)\n",
    "# est.effect(X, T0=False, T1=True)"
   ]
  },
  {
   "cell_type": "code",
   "execution_count": 169,
   "metadata": {},
   "outputs": [],
   "source": [
    "# initiating some crawls, to find anything"
   ]
  },
  {
   "cell_type": "code",
   "execution_count": null,
   "metadata": {},
   "outputs": [],
   "source": []
  }
 ],
 "metadata": {
  "kernelspec": {
   "display_name": "causal",
   "language": "python",
   "name": "causal"
  },
  "language_info": {
   "codemirror_mode": {
    "name": "ipython",
    "version": 3
   },
   "file_extension": ".py",
   "mimetype": "text/x-python",
   "name": "python",
   "nbconvert_exporter": "python",
   "pygments_lexer": "ipython3",
   "version": "3.8.8"
  }
 },
 "nbformat": 4,
 "nbformat_minor": 5
}
