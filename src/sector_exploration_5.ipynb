{
 "cells": [
  {
   "cell_type": "code",
   "execution_count": 1,
   "id": "random-exhaust",
   "metadata": {},
   "outputs": [],
   "source": [
    "from importlib import reload"
   ]
  },
  {
   "cell_type": "code",
   "execution_count": 2,
   "id": "municipal-washington",
   "metadata": {},
   "outputs": [],
   "source": [
    "from datetime import datetime, timedelta\n",
    "\n",
    "import pandas as pd\n",
    "\n",
    "import matplotlib\n",
    "import matplotlib.pyplot as plt\n",
    "\n",
    "from IPython.display import Image, display\n",
    "\n",
    "from dowhy import CausalModel"
   ]
  },
  {
   "cell_type": "code",
   "execution_count": 3,
   "id": "improving-murder",
   "metadata": {},
   "outputs": [],
   "source": [
    "pd.set_option(\"mode.chained_assignment\", None)"
   ]
  },
  {
   "cell_type": "code",
   "execution_count": 4,
   "id": "excellent-strip",
   "metadata": {},
   "outputs": [],
   "source": [
    "import futil, load_util"
   ]
  },
  {
   "cell_type": "code",
   "execution_count": 5,
   "id": "detected-capacity",
   "metadata": {},
   "outputs": [],
   "source": [
    "wdi_df, series_df = load_util.load_wdi()\n",
    "project_df = load_util.load_projects()\n",
    "wb_df = load_util.extract_wb_projects(project_df)"
   ]
  },
  {
   "cell_type": "code",
   "execution_count": 6,
   "id": "natural-lawyer",
   "metadata": {},
   "outputs": [],
   "source": [
    "odi_and_gdp_indicators = [\n",
    "    'DT.ODA.ODAT.GN.ZS',\n",
    "    'NY.GDP.MKTP.CD' # divide project size at time\n",
    "]\n",
    "\n",
    "education_expense_indicators = [\n",
    "    'SE.XPD.PRIM.ZS',\n",
    "    'SE.XPD.SECO.ZS',\n",
    "    'SE.XPD.TERT.ZS'\n",
    "]\n",
    "\n",
    "education_outcome_indicators = [\n",
    "    'SE.PRM.NENR', \n",
    "    'SE.PRM.CMPT.ZS', \n",
    "    'SE.PRM.PRSL.ZS'\n",
    "]"
   ]
  },
  {
   "cell_type": "markdown",
   "id": "floating-maple",
   "metadata": {},
   "source": [
    "## Constructing time gaps"
   ]
  },
  {
   "cell_type": "code",
   "execution_count": 7,
   "id": "composite-grounds",
   "metadata": {},
   "outputs": [],
   "source": [
    "sector_aggs = project_df.groupby('sector').agg(\n",
    "    number_projects=('ppd_project_id', 'nunique'),\n",
    "    earliest_year=('start_dt', 'min'),\n",
    "    latest_project=('start_dt', 'max'),\n",
    "    number_donors=('donor_name', 'nunique'),\n",
    "    avg_rating=('six_overall_rating', 'mean'),\n",
    "    avg_duration=('project_duration', 'mean')\n",
    ")"
   ]
  },
  {
   "cell_type": "code",
   "execution_count": 8,
   "id": "athletic-egyptian",
   "metadata": {},
   "outputs": [],
   "source": [
    "feature_cols = [\n",
    "    'country_code', \n",
    "    'donor_name', \n",
    "    'aiddata_sectorname', \n",
    "    'six_overall_rating', \n",
    "    'start_date', \n",
    "    'completion_date', \n",
    "    'project_duration',\n",
    "    'sector'\n",
    "]\n",
    "\n",
    "pdf = load_util.narrow_convert_project_data(project_df, feature_cols)\n",
    "\n",
    "total_countries = pdf.country_code.nunique()\n",
    "earliest_year = pdf.start_year.min()\n",
    "latest_year = pdf.start_year.max()\n",
    "year_range = range(int(earliest_year), int(latest_year))"
   ]
  },
  {
   "cell_type": "code",
   "execution_count": 11,
   "id": "nearby-ecuador",
   "metadata": {},
   "outputs": [
    {
     "data": {
      "image/png": "[encoded data removed]",
      "text/latex": [
       "$\\displaystyle 0.501549586776859$"
      ],
      "text/plain": [
       "0.5015495867768593"
      ]
     },
     "execution_count": 11,
     "metadata": {},
     "output_type": "execute_result"
    }
   ],
   "source": [
    "futil.calc_sector_controls(pdf, 'Education', 1990, year_range)"
   ]
  },
  {
   "cell_type": "markdown",
   "id": "limiting-dryer",
   "metadata": {},
   "source": [
    "## First approach: binary treatment, simple, education"
   ]
  },
  {
   "cell_type": "markdown",
   "id": "successful-expansion",
   "metadata": {},
   "source": [
    "### Assemble education indicator frame"
   ]
  },
  {
   "cell_type": "code",
   "execution_count": null,
   "id": "rocky-stopping",
   "metadata": {},
   "outputs": [],
   "source": [
    "# for each country-year, calculate mean growth in education indicators at year + lag"
   ]
  },
  {
   "cell_type": "code",
   "execution_count": null,
   "id": "written-corps",
   "metadata": {},
   "outputs": [],
   "source": [
    "df, tdf = futil.assemble_sectoral_df(\n",
    "    pdf, \n",
    "    education_outcome_indicators,\n",
    "    year_range,\n",
    "    interpolate_limit=2\n",
    ")"
   ]
  },
  {
   "cell_type": "code",
   "execution_count": null,
   "id": "enclosed-muscle",
   "metadata": {},
   "outputs": [],
   "source": [
    "ug_df = tdf[(tdf['Country Code'] == 'UGA') & (tdf['Indicator Code'] == 'SE.PRM.PRSL.ZS')]\n",
    "ug_df = ug_df.set_index('Year')"
   ]
  },
  {
   "cell_type": "code",
   "execution_count": null,
   "id": "whole-finger",
   "metadata": {},
   "outputs": [],
   "source": [
    "ug_df.tail()"
   ]
  },
  {
   "cell_type": "code",
   "execution_count": null,
   "id": "disciplinary-attendance",
   "metadata": {},
   "outputs": [],
   "source": [
    "ug_df['value_interp'] = ug_df['value'].interpolate(method='nearest', order=5)\n",
    "ug_df[ug_df.value_interp > 0].plot.line(y=['value_interp', 'value'])"
   ]
  },
  {
   "cell_type": "code",
   "execution_count": null,
   "id": "vertical-coordination",
   "metadata": {},
   "outputs": [],
   "source": [
    "# third, obtain the average outcome growth, for the response, and whether a project was completed in a given year\n",
    "# for the treatment (so far)"
   ]
  },
  {
   "cell_type": "code",
   "execution_count": null,
   "id": "available-duration",
   "metadata": {},
   "outputs": [],
   "source": [
    "df.head()"
   ]
  },
  {
   "cell_type": "code",
   "execution_count": null,
   "id": "infrared-iraqi",
   "metadata": {},
   "outputs": [],
   "source": [
    "def is_project_complete_year(year, country, sp_df):\n",
    "    country_proj = sp_df[sp_df['country_code'] == country].end_year.to_list()\n",
    "    return bool(year in country_proj)"
   ]
  },
  {
   "cell_type": "code",
   "execution_count": null,
   "id": "divided-dimension",
   "metadata": {},
   "outputs": [],
   "source": [
    "health_proj = project_df[project_df.sector == 'Health']"
   ]
  },
  {
   "cell_type": "code",
   "execution_count": null,
   "id": "adjacent-confidentiality",
   "metadata": {},
   "outputs": [],
   "source": [
    "print(len(health_proj))"
   ]
  },
  {
   "cell_type": "code",
   "execution_count": null,
   "id": "realistic-ecuador",
   "metadata": {},
   "outputs": [],
   "source": [
    "start_years = health_proj.groupby('country_code')['start_year'].apply(set).to_dict()"
   ]
  },
  {
   "cell_type": "code",
   "execution_count": null,
   "id": "internal-translator",
   "metadata": {},
   "outputs": [],
   "source": [
    "df['project_completed_year'] = df.apply(\n",
    "    lambda row: row['country'] in start_years and row['year'] in start_years[row['country']], \n",
    "axis=1)"
   ]
  },
  {
   "cell_type": "code",
   "execution_count": null,
   "id": "genetic-attendance",
   "metadata": {},
   "outputs": [],
   "source": []
  },
  {
   "cell_type": "code",
   "execution_count": null,
   "id": "interior-cedar",
   "metadata": {},
   "outputs": [],
   "source": []
  },
  {
   "cell_type": "code",
   "execution_count": null,
   "id": "nervous-texas",
   "metadata": {},
   "outputs": [],
   "source": []
  },
  {
   "cell_type": "code",
   "execution_count": null,
   "id": "designing-brazilian",
   "metadata": {},
   "outputs": [],
   "source": [
    "df['project_completed_year'] = df.apply(lambda row: is_project_complete_year(row['year'], row['country'], health_proj), axis=1)"
   ]
  },
  {
   "cell_type": "code",
   "execution_count": null,
   "id": "bronze-company",
   "metadata": {},
   "outputs": [],
   "source": [
    "country_proj = sp_df[sp_df['country_code']]"
   ]
  },
  {
   "cell_type": "code",
   "execution_count": null,
   "id": "stopped-charles",
   "metadata": {},
   "outputs": [],
   "source": [
    "df = construct_sector_lag_table(df, tdf, pdf, education_outcome_indicators, 'Education')"
   ]
  },
  {
   "cell_type": "code",
   "execution_count": null,
   "id": "dramatic-plant",
   "metadata": {},
   "outputs": [],
   "source": [
    "sp = project_df[project_df.sector == 'Education']"
   ]
  },
  {
   "cell_type": "code",
   "execution_count": null,
   "id": "lesbian-performance",
   "metadata": {},
   "outputs": [],
   "source": [
    "df.columns"
   ]
  },
  {
   "cell_type": "code",
   "execution_count": null,
   "id": "inclusive-encoding",
   "metadata": {},
   "outputs": [],
   "source": [
    "df['project_completed_year'] = df.apply(lambda row: row['year'] in sp[sp['country_code'] == row['country']].end_year.to_list(), axis=1)"
   ]
  },
  {
   "cell_type": "code",
   "execution_count": null,
   "id": "recent-contemporary",
   "metadata": {},
   "outputs": [],
   "source": [
    "print('Total projects: ', len(pdf))\n",
    "print('Years with sufficient coverage on lag: ', len(df[(df.education_lag_4_count > 0)]))"
   ]
  },
  {
   "cell_type": "code",
   "execution_count": null,
   "id": "national-christian",
   "metadata": {},
   "outputs": [],
   "source": [
    "df.project_completed_year.value_counts()"
   ]
  },
  {
   "cell_type": "code",
   "execution_count": null,
   "id": "qualified-coverage",
   "metadata": {},
   "outputs": [],
   "source": [
    "df.head()"
   ]
  },
  {
   "cell_type": "code",
   "execution_count": null,
   "id": "entertaining-japan",
   "metadata": {},
   "outputs": [],
   "source": [
    "# project_df.head()"
   ]
  },
  {
   "cell_type": "code",
   "execution_count": null,
   "id": "lucky-underground",
   "metadata": {},
   "outputs": [],
   "source": [
    "# remove: years within the influence of a project, i.e., during its initation and up to the lag period"
   ]
  },
  {
   "cell_type": "code",
   "execution_count": null,
   "id": "strategic-painting",
   "metadata": {},
   "outputs": [],
   "source": [
    "# then: add in the various confounders, treatments, controlsc"
   ]
  },
  {
   "cell_type": "code",
   "execution_count": null,
   "id": "amber-publicity",
   "metadata": {},
   "outputs": [],
   "source": [
    "def find_latest_govt_rating(country, year):\n",
    "    country_proj = project_df[\n",
    "        (project_df['country_code'] == country) \n",
    "        & (project_df['start_year'] <= year)\n",
    "        & (project_df['wb_government_partner_rating'].notna())]\n",
    "    if len(country_proj) == 0:\n",
    "        return np.nan\n",
    "    else:\n",
    "        proj_year = country_proj[country_proj.start_year == country_proj.start_year.max()]\n",
    "        return proj_year['wb_government_partner_rating'].sort_values(ascending=False).iloc[0]\n",
    "    \n",
    "#     return country_proj[['start_year', 'wb_government_partner_rating']]"
   ]
  },
  {
   "cell_type": "code",
   "execution_count": null,
   "id": "diagnostic-medicaid",
   "metadata": {},
   "outputs": [],
   "source": [
    "if 'most_recent_govt_rating' not in df:\n",
    "    df['most_recent_govt_rating'] = df.apply(lambda row: find_latest_govt_rating(row['country'], row['year']), axis=1)"
   ]
  },
  {
   "cell_type": "code",
   "execution_count": null,
   "id": "other-catalog",
   "metadata": {},
   "outputs": [],
   "source": [
    "df.most_recent_govt_rating.value_counts()"
   ]
  },
  {
   "cell_type": "code",
   "execution_count": null,
   "id": "compatible-bandwidth",
   "metadata": {},
   "outputs": [],
   "source": [
    "df.to_csv('../data/education_df.csv', index=False)"
   ]
  },
  {
   "cell_type": "markdown",
   "id": "indirect-evidence",
   "metadata": {},
   "source": [
    "# Execute do-why"
   ]
  },
  {
   "cell_type": "code",
   "execution_count": null,
   "id": "thirty-ground",
   "metadata": {},
   "outputs": [],
   "source": [
    "df['sector_delta_prior'] = df['education_lag_-4_growth']\n",
    "df['sector_delta_post'] = df['education_lag_4_growth']"
   ]
  },
  {
   "cell_type": "code",
   "execution_count": null,
   "id": "experimental-tampa",
   "metadata": {},
   "outputs": [],
   "source": [
    "sectoral_effect_graph_binary = \"\"\"digraph { \n",
    "    \"Govt-Quality\"[latent];\n",
    "    project_completed_year [exposure, label=\"project_completed\"];\n",
    "    sector_delta_prior [adjusted, label=\"sector_outcome_growth_prior\"];\n",
    "    sector_delta_post [outcome, label=sector_outcome_growth_lagged];\n",
    "    most_recent_govt_rating [label=\"WBGovtRating\"];\n",
    "    \"Govt-Quality\" -> project_completed_year;\n",
    "    \"Govt-Quality\" -> sector_delta_prior;\n",
    "    \"Govt-Quality\" -> most_recent_govt_rating;\n",
    "    project_completed_year -> sector_delta_post;\n",
    "    sector_delta_prior -> sector_delta_post;\n",
    "    most_recent_govt_rating -> project_completed_year;\n",
    "    }\"\"\""
   ]
  },
  {
   "cell_type": "code",
   "execution_count": null,
   "id": "scheduled-evanescence",
   "metadata": {},
   "outputs": [],
   "source": [
    "causal_columns = ['sector_delta_prior', 'most_recent_govt_rating', 'project_completed_year', 'sector_delta_post']"
   ]
  },
  {
   "cell_type": "code",
   "execution_count": null,
   "id": "outstanding-cleaning",
   "metadata": {},
   "outputs": [],
   "source": [
    "causal_df = df[causal_columns]\n",
    "pre_drop_N = len(causal_df)\n",
    "causal_df = causal_df.dropna()\n",
    "post_drop_N = len(causal_df)\n",
    "\n",
    "print(\"N pre NA drop: \", pre_drop_N, \" and post: \", post_drop_N)"
   ]
  },
  {
   "cell_type": "code",
   "execution_count": null,
   "id": "approximate-friday",
   "metadata": {},
   "outputs": [],
   "source": [
    "causal_df.project_completed_year.value_counts()"
   ]
  },
  {
   "cell_type": "code",
   "execution_count": null,
   "id": "basic-algebra",
   "metadata": {},
   "outputs": [],
   "source": [
    "model = CausalModel(\n",
    "    data=causal_df,\n",
    "    graph=sectoral_effect_graph_binary.replace(\"\\n\", \" \"),\n",
    "    treatment=\"project_completed_year\",\n",
    "    outcome=\"sector_delta_post\"\n",
    ")\n",
    "\n",
    "model.view_model()\n",
    "display(Image(filename=\"causal_model.png\"))"
   ]
  },
  {
   "cell_type": "code",
   "execution_count": null,
   "id": "excessive-broadway",
   "metadata": {},
   "outputs": [],
   "source": [
    "identified_estimand = model.identify_effect(proceed_when_unidentifiable=True)\n",
    "print(identified_estimand)"
   ]
  },
  {
   "cell_type": "code",
   "execution_count": null,
   "id": "virgin-video",
   "metadata": {},
   "outputs": [],
   "source": [
    "estimate = model.estimate_effect(identified_estimand, method_name=\"backdoor.linear_regression\",\n",
    "                                 target_units=\"ate\", test_significance=True)\n",
    "print(estimate)"
   ]
  },
  {
   "cell_type": "code",
   "execution_count": null,
   "id": "rational-damages",
   "metadata": {},
   "outputs": [],
   "source": [
    "causal_df.head()"
   ]
  },
  {
   "cell_type": "code",
   "execution_count": null,
   "id": "detected-waterproof",
   "metadata": {},
   "outputs": [],
   "source": [
    "estimator_list = [\"backdoor.propensity_score_matching\", \"backdoor.propensity_score_weighting\", \"backdoor.causalml.inference.meta.LRSRegressor\"]\n",
    "method_params= [ None, None, { \"init_params\":{} } ]"
   ]
  },
  {
   "cell_type": "code",
   "execution_count": null,
   "id": "forward-disney",
   "metadata": {},
   "outputs": [],
   "source": [
    "refuter_list = [\"bootstrap_refuter\", \"data_subset_refuter\"]"
   ]
  },
  {
   "cell_type": "code",
   "execution_count": null,
   "id": "opposed-disability",
   "metadata": {},
   "outputs": [],
   "source": [
    "# for estimator, method_params in zip(estimator_list, method_params):\n",
    "#     estimate = model.estimate_effect(identified_estimand, method_name=estimator, method_params=method_params)"
   ]
  },
  {
   "cell_type": "code",
   "execution_count": null,
   "id": "warming-surgery",
   "metadata": {},
   "outputs": [],
   "source": [
    "refuter = model.refute_estimate(identified_estimand, estimate, method_name=\"bootstrap_refuter\")"
   ]
  },
  {
   "cell_type": "code",
   "execution_count": null,
   "id": "apart-location",
   "metadata": {},
   "outputs": [],
   "source": [
    "print(refuter)"
   ]
  },
  {
   "cell_type": "code",
   "execution_count": null,
   "id": "married-building",
   "metadata": {},
   "outputs": [],
   "source": [
    "run_refuter = lambda refuter_name, refuter_params: model.refute_estimate(identified_estimand, estimate, method_name=refuter_name, **refuter_params)"
   ]
  },
  {
   "cell_type": "code",
   "execution_count": null,
   "id": "anonymous-school",
   "metadata": {},
   "outputs": [],
   "source": [
    "# c_cause_refuter = model.refute_estimate(identified_estimand, estimate, method_name=\"random_common_cause\")\n",
    "c_cause_refuter = run_refuter(\"random_common_cause\", {})"
   ]
  },
  {
   "cell_type": "code",
   "execution_count": null,
   "id": "quiet-chrome",
   "metadata": {},
   "outputs": [],
   "source": [
    "print(c_cause_refuter)"
   ]
  },
  {
   "cell_type": "code",
   "execution_count": null,
   "id": "powered-teens",
   "metadata": {},
   "outputs": [],
   "source": [
    "placebo_refuter = run_refuter(\"placebo_treatment_refuter\", dict(placebo_type=\"permuter\"))"
   ]
  },
  {
   "cell_type": "code",
   "execution_count": null,
   "id": "soviet-classroom",
   "metadata": {},
   "outputs": [],
   "source": [
    "print(placebo_refuter)"
   ]
  },
  {
   "cell_type": "code",
   "execution_count": null,
   "id": "affecting-worry",
   "metadata": {},
   "outputs": [],
   "source": [
    "sample_refuter = run_refuter(\"data_subset_refuter\", dict(subset_fraction=0.9))"
   ]
  },
  {
   "cell_type": "code",
   "execution_count": null,
   "id": "green-violence",
   "metadata": {},
   "outputs": [],
   "source": [
    "print(sample_refuter)"
   ]
  },
  {
   "cell_type": "code",
   "execution_count": null,
   "id": "split-interface",
   "metadata": {},
   "outputs": [],
   "source": [
    "# Note: took a bit of digging, but the \"p value\" here relates to a null hypothesis that \n",
    "# the estimate obtained is part of the general set of distributions, i.e., we want this to hold\n",
    "# (since it suggests that the family of estimators is not significantly affected by subsampling)"
   ]
  },
  {
   "cell_type": "code",
   "execution_count": null,
   "id": "empty-reality",
   "metadata": {},
   "outputs": [],
   "source": [
    "estimate.interpret(method_name=\"textual_effect_interpreter\")"
   ]
  },
  {
   "cell_type": "code",
   "execution_count": null,
   "id": "nutritional-morocco",
   "metadata": {},
   "outputs": [],
   "source": [
    "bootstrap_refuter = run_refuter(\"bootstrap_refuter\", {})"
   ]
  },
  {
   "cell_type": "code",
   "execution_count": null,
   "id": "moral-facility",
   "metadata": {},
   "outputs": [],
   "source": [
    "print(bootstrap_refuter)"
   ]
  },
  {
   "cell_type": "code",
   "execution_count": null,
   "id": "breeding-timer",
   "metadata": {},
   "outputs": [],
   "source": [
    "# cribbed for now from example notebook\n",
    "dummy_args = {'num_simulations':5,'transformation_list': [('random_forest',{'n_estimators':100, 'max_depth':6})], 'true_causal_effect':(lambda x:0.5)}"
   ]
  },
  {
   "cell_type": "code",
   "execution_count": null,
   "id": "established-syria",
   "metadata": {},
   "outputs": [],
   "source": [
    "dummy_refuter = run_refuter(\"dummy_outcome_refuter\", dummy_args)"
   ]
  },
  {
   "cell_type": "code",
   "execution_count": null,
   "id": "british-chair",
   "metadata": {},
   "outputs": [],
   "source": [
    "print(dummy_refuter[0])"
   ]
  },
  {
   "cell_type": "code",
   "execution_count": null,
   "id": "preceding-collaboration",
   "metadata": {},
   "outputs": [],
   "source": [
    "from sklearn.ensemble import GradientBoostingRegressor\n",
    "from sklearn.linear_model import LassoCV"
   ]
  },
  {
   "cell_type": "code",
   "execution_count": null,
   "id": "partial-california",
   "metadata": {},
   "outputs": [],
   "source": [
    "from sklearn.preprocessing import PolynomialFeatures"
   ]
  },
  {
   "cell_type": "code",
   "execution_count": null,
   "id": "viral-blame",
   "metadata": {},
   "outputs": [],
   "source": [
    "# cribbed for now\n",
    "dml_params = { \n",
    "    \"init_params\": { \n",
    "        'model_y':GradientBoostingRegressor(),\n",
    "        'model_t': GradientBoostingRegressor(),\n",
    "        \"model_final\":LassoCV(fit_intercept=False),\n",
    "        'featurizer':PolynomialFeatures(degree=1, include_bias=True)\n",
    "    },\n",
    "    \"fit_params\": {}\n",
    "}"
   ]
  },
  {
   "cell_type": "code",
   "execution_count": null,
   "id": "thorough-capacity",
   "metadata": {},
   "outputs": [],
   "source": [
    "estimate = model.estimate_effect(identified_estimand, method_name=\"backdoor.econml.dml.DML\", method_params=dml_params,\n",
    "                                 target_units=\"ate\", test_significance=True)\n",
    "print(estimate)"
   ]
  },
  {
   "cell_type": "code",
   "execution_count": null,
   "id": "southwest-afternoon",
   "metadata": {},
   "outputs": [],
   "source": [
    "print(estimate)"
   ]
  }
 ],
 "metadata": {
  "kernelspec": {
   "display_name": "causal",
   "language": "python",
   "name": "causal"
  },
  "language_info": {
   "codemirror_mode": {
    "name": "ipython",
    "version": 3
   },
   "file_extension": ".py",
   "mimetype": "text/x-python",
   "name": "python",
   "nbconvert_exporter": "python",
   "pygments_lexer": "ipython3",
   "version": "3.8.8"
  }
 },
 "nbformat": 4,
 "nbformat_minor": 5
}
