{
 "cells": [
  {
   "cell_type": "code",
   "execution_count": 1,
   "id": "wireless-westminster",
   "metadata": {},
   "outputs": [],
   "source": [
    "import pandas as pd\n",
    "import numpy as np"
   ]
  },
  {
   "cell_type": "code",
   "execution_count": 2,
   "id": "eligible-north",
   "metadata": {},
   "outputs": [
    {
     "name": "stderr",
     "output_type": "stream",
     "text": [
      "/home/luke/miniconda3/envs/causal/lib/python3.8/site-packages/IPython/core/interactiveshell.py:3145: DtypeWarning: Columns (4,12,13,21,30,32,46,65,67) have mixed types.Specify dtype option on import or set low_memory=False.\n",
      "  has_raised = await self.run_ast_nodes(code_ast.body, cell_name,\n"
     ]
    }
   ],
   "source": [
    "df = pd.read_csv('../data/aiddata/AidDataCoreFull_ResearchRelease_Level1_v3.1.csv')"
   ]
  },
  {
   "cell_type": "code",
   "execution_count": 3,
   "id": "wireless-insight",
   "metadata": {},
   "outputs": [
    {
     "data": {
      "text/plain": [
       "1561039"
      ]
     },
     "execution_count": 3,
     "metadata": {},
     "output_type": "execute_result"
    }
   ],
   "source": [
    "len(df)"
   ]
  },
  {
   "cell_type": "code",
   "execution_count": 4,
   "id": "desirable-slovenia",
   "metadata": {},
   "outputs": [
    {
     "data": {
      "text/plain": [
       "Index(['aiddata_id', 'aiddata_2_id', 'year', 'donor', 'donor_iso',\n",
       "       'donor_region', 'implementing_agency', 'financing_agency',\n",
       "       'crs_bi_multi', 'recipient', 'recipient_iso', 'recipient_region',\n",
       "       'start_date', 'end_date', 'commitment_date', 'planned_start_date',\n",
       "       'planned_end_date', 'title', 'short_description', 'long_description',\n",
       "       'donor_project_id', 'donor_secondary_id', 'aiddata_sector_code',\n",
       "       'aiddata_sector_name', 'aiddata_purpose_code', 'aiddata_purpose_name',\n",
       "       'aiddata_activity_codes', 'aiddata_activity_names', 'flow_name',\n",
       "       'crs_sector_code', 'crs_sector_name', 'crs_purpose_code',\n",
       "       'crs_purpose_name', 'coalesced_purpose_code', 'coalesced_purpose_name',\n",
       "       'commitment_amount_usd_constant', 'commitment_amount_usd_current',\n",
       "       'total_project_cost', 'crs_trade', 'crs_climate', 'crs_biodiversity',\n",
       "       'crs_gender', 'crs_environment', 'crs_desertification', 'pdgg',\n",
       "       'channel_code', 'finance_t', 'associated_financing',\n",
       "       'future_ds_principal_amount_usd_nominal',\n",
       "       'future_ds_interest_amount_usd_nominal', 'received_amount_usd_nominal',\n",
       "       'irtc_amount_usd_nominal', 'untied_amount_usd_nominal',\n",
       "       'tied_amount_usd_nominal', 'partial_tied_amount_usd_nominal',\n",
       "       'arrears_interest_amount_usd_nominal',\n",
       "       'arrears_principal_amount_usd_nominal', 'initial_report', 'ftc',\n",
       "       'repay_type', 'outstanding_amount_usd_nominal',\n",
       "       'interest_amount_usd_nominal', 'expert_commitment_amount_usd_nominal',\n",
       "       'export_credit_amount_usd_nominal',\n",
       "       'expert_extended_amount_usd_nominal', 'additional_info', 'source',\n",
       "       'source_detail'],\n",
       "      dtype='object')"
      ]
     },
     "execution_count": 4,
     "metadata": {},
     "output_type": "execute_result"
    }
   ],
   "source": [
    "df.columns"
   ]
  },
  {
   "cell_type": "code",
   "execution_count": 5,
   "id": "naughty-athletics",
   "metadata": {},
   "outputs": [
    {
     "name": "stdout",
     "output_type": "stream",
     "text": [
      "Sectors not specified                       114621\n",
      "Strengthening civil society                  78903\n",
      "Multisector aid                              73889\n",
      "Social/ welfare services                     63118\n",
      "Higher education                             49996\n",
      "Material relief assistance and services      49675\n",
      "Administrative costs                         40678\n",
      "Economic and development policy/planning     31122\n",
      "Agricultural development                     28174\n",
      "Promotion of development awareness           26479\n",
      "Education facilities and training            23640\n",
      "Basic health care                            23538\n",
      "Primary education                            23443\n",
      "Reproductive health care                     21813\n",
      "STD control including HIV/AIDS               20724\n",
      "Legal and judicial development               20656\n",
      "Government administration                    20482\n",
      "Emergency food aid                           19754\n",
      "Food aid/Food security programmes            19668\n",
      "Rural development                            19335\n",
      "Name: coalesced_purpose_name, dtype: int64\n"
     ]
    }
   ],
   "source": [
    "print(df.coalesced_purpose_name.value_counts()[:20])"
   ]
  },
  {
   "cell_type": "code",
   "execution_count": 6,
   "id": "permanent-information",
   "metadata": {},
   "outputs": [
    {
     "data": {
      "text/html": [
       "<div>\n",
       "<style scoped>\n",
       "    .dataframe tbody tr th:only-of-type {\n",
       "        vertical-align: middle;\n",
       "    }\n",
       "\n",
       "    .dataframe tbody tr th {\n",
       "        vertical-align: top;\n",
       "    }\n",
       "\n",
       "    .dataframe thead th {\n",
       "        text-align: right;\n",
       "    }\n",
       "</style>\n",
       "<table border=\"1\" class=\"dataframe\">\n",
       "  <thead>\n",
       "    <tr style=\"text-align: right;\">\n",
       "      <th></th>\n",
       "      <th>coalesced_purpose_name</th>\n",
       "      <th>commitment_amount_usd_constant</th>\n",
       "    </tr>\n",
       "  </thead>\n",
       "  <tbody>\n",
       "    <tr>\n",
       "      <th>210</th>\n",
       "      <td>General budget support</td>\n",
       "      <td>950631018269</td>\n",
       "    </tr>\n",
       "    <tr>\n",
       "      <th>383</th>\n",
       "      <td>Road transport</td>\n",
       "      <td>397642041940</td>\n",
       "    </tr>\n",
       "    <tr>\n",
       "      <th>250</th>\n",
       "      <td>Industrial development</td>\n",
       "      <td>247143156175</td>\n",
       "    </tr>\n",
       "    <tr>\n",
       "      <th>298</th>\n",
       "      <td>Multisector aid</td>\n",
       "      <td>212408618751</td>\n",
       "    </tr>\n",
       "    <tr>\n",
       "      <th>401</th>\n",
       "      <td>Sectors not specified</td>\n",
       "      <td>178250963371</td>\n",
       "    </tr>\n",
       "    <tr>\n",
       "      <th>20</th>\n",
       "      <td>Agricultural development</td>\n",
       "      <td>168681617438</td>\n",
       "    </tr>\n",
       "    <tr>\n",
       "      <th>475</th>\n",
       "      <td>Water supply and sanitation - large systems</td>\n",
       "      <td>168496956551</td>\n",
       "    </tr>\n",
       "    <tr>\n",
       "      <th>96</th>\n",
       "      <td>Debt forgiveness</td>\n",
       "      <td>155468447272</td>\n",
       "    </tr>\n",
       "    <tr>\n",
       "      <th>363</th>\n",
       "      <td>Rail transport</td>\n",
       "      <td>145825214785</td>\n",
       "    </tr>\n",
       "    <tr>\n",
       "      <th>341</th>\n",
       "      <td>Power generation/renewable sources</td>\n",
       "      <td>136283024568</td>\n",
       "    </tr>\n",
       "    <tr>\n",
       "      <th>201</th>\n",
       "      <td>Formal sector financial intermediaries</td>\n",
       "      <td>128992819509</td>\n",
       "    </tr>\n",
       "    <tr>\n",
       "      <th>138</th>\n",
       "      <td>Electrical transmission/ distribution</td>\n",
       "      <td>124444733599</td>\n",
       "    </tr>\n",
       "    <tr>\n",
       "      <th>340</th>\n",
       "      <td>Power generation/non-renewable sources</td>\n",
       "      <td>123178644638</td>\n",
       "    </tr>\n",
       "    <tr>\n",
       "      <th>284</th>\n",
       "      <td>Material relief assistance and services</td>\n",
       "      <td>116374209520</td>\n",
       "    </tr>\n",
       "    <tr>\n",
       "      <th>148</th>\n",
       "      <td>Energy generation and supply, combinations of ...</td>\n",
       "      <td>103631694095</td>\n",
       "    </tr>\n",
       "    <tr>\n",
       "      <th>122</th>\n",
       "      <td>Economic and development policy/planning</td>\n",
       "      <td>101867174986</td>\n",
       "    </tr>\n",
       "    <tr>\n",
       "      <th>36</th>\n",
       "      <td>Air transport</td>\n",
       "      <td>98133878163</td>\n",
       "    </tr>\n",
       "    <tr>\n",
       "      <th>292</th>\n",
       "      <td>Mineral/Metal prospection and exploration</td>\n",
       "      <td>97788835445</td>\n",
       "    </tr>\n",
       "    <tr>\n",
       "      <th>384</th>\n",
       "      <td>Rural development</td>\n",
       "      <td>96025450953</td>\n",
       "    </tr>\n",
       "    <tr>\n",
       "      <th>31</th>\n",
       "      <td>Agricultural water resources</td>\n",
       "      <td>95710499557</td>\n",
       "    </tr>\n",
       "  </tbody>\n",
       "</table>\n",
       "</div>"
      ],
      "text/plain": [
       "                                coalesced_purpose_name  \\\n",
       "210                             General budget support   \n",
       "383                                     Road transport   \n",
       "250                             Industrial development   \n",
       "298                                    Multisector aid   \n",
       "401                              Sectors not specified   \n",
       "20                            Agricultural development   \n",
       "475        Water supply and sanitation - large systems   \n",
       "96                                    Debt forgiveness   \n",
       "363                                     Rail transport   \n",
       "341                 Power generation/renewable sources   \n",
       "201             Formal sector financial intermediaries   \n",
       "138              Electrical transmission/ distribution   \n",
       "340             Power generation/non-renewable sources   \n",
       "284            Material relief assistance and services   \n",
       "148  Energy generation and supply, combinations of ...   \n",
       "122           Economic and development policy/planning   \n",
       "36                                       Air transport   \n",
       "292          Mineral/Metal prospection and exploration   \n",
       "384                                  Rural development   \n",
       "31                        Agricultural water resources   \n",
       "\n",
       "     commitment_amount_usd_constant  \n",
       "210                    950631018269  \n",
       "383                    397642041940  \n",
       "250                    247143156175  \n",
       "298                    212408618751  \n",
       "401                    178250963371  \n",
       "20                     168681617438  \n",
       "475                    168496956551  \n",
       "96                     155468447272  \n",
       "363                    145825214785  \n",
       "341                    136283024568  \n",
       "201                    128992819509  \n",
       "138                    124444733599  \n",
       "340                    123178644638  \n",
       "284                    116374209520  \n",
       "148                    103631694095  \n",
       "122                    101867174986  \n",
       "36                      98133878163  \n",
       "292                     97788835445  \n",
       "384                     96025450953  \n",
       "31                      95710499557  "
      ]
     },
     "execution_count": 6,
     "metadata": {},
     "output_type": "execute_result"
    }
   ],
   "source": [
    "df.groupby('coalesced_purpose_name', as_index=False).agg({ 'commitment_amount_usd_constant': sum }).sort_values('commitment_amount_usd_constant', ascending=False)[:20]"
   ]
  },
  {
   "cell_type": "code",
   "execution_count": 7,
   "id": "particular-painting",
   "metadata": {},
   "outputs": [
    {
     "name": "stdout",
     "output_type": "stream",
     "text": [
      "United States                                               208224\n",
      "Spain                                                       122550\n",
      "Japan                                                       111188\n",
      "Germany                                                     104900\n",
      "France                                                       89029\n",
      "United Nations Children`s Fund (UNICEF)                      71585\n",
      "Norway                                                       68980\n",
      "Canada                                                       61661\n",
      "Belgium                                                      55598\n",
      "Sweden                                                       55339\n",
      "United Kingdom                                               53647\n",
      "Switzerland                                                  48624\n",
      "Australia                                                    46892\n",
      "Netherlands                                                  44047\n",
      "Italy                                                        41651\n",
      "Korea                                                        41262\n",
      "European Communities (EC)                                    39831\n",
      "United Nations Development Programme (UNDP)                  36468\n",
      "United Nations Population Fund (UNFPA)                       32206\n",
      "Ireland                                                      31859\n",
      "Finland                                                      19026\n",
      "Austria                                                      19006\n",
      "Luxembourg                                                   15269\n",
      "Denmark                                                      14143\n",
      "Portugal                                                     12746\n",
      "Asian Development Bank (ASDB)                                 9013\n",
      "Greece                                                        8840\n",
      "New Zealand                                                   8107\n",
      "World Health Organization (WHO)                               7677\n",
      "World Bank - International Development Association (IDA)      7619\n",
      "Name: donor, dtype: int64\n"
     ]
    }
   ],
   "source": [
    "print(df.donor.value_counts()[:30])"
   ]
  },
  {
   "cell_type": "code",
   "execution_count": 8,
   "id": "successful-darkness",
   "metadata": {},
   "outputs": [],
   "source": [
    "df['wb_project'] = df.donor.str.startswith('World Bank')"
   ]
  },
  {
   "cell_type": "code",
   "execution_count": 9,
   "id": "committed-zambia",
   "metadata": {},
   "outputs": [
    {
     "data": {
      "text/plain": [
       "False    1542400\n",
       "True       18639\n",
       "Name: wb_project, dtype: int64"
      ]
     },
     "execution_count": 9,
     "metadata": {},
     "output_type": "execute_result"
    }
   ],
   "source": [
    "df.wb_project.value_counts()"
   ]
  },
  {
   "cell_type": "code",
   "execution_count": 10,
   "id": "mobile-credits",
   "metadata": {},
   "outputs": [],
   "source": [
    "wb_df = df[df.wb_project]"
   ]
  },
  {
   "cell_type": "code",
   "execution_count": 11,
   "id": "lonely-arlington",
   "metadata": {},
   "outputs": [
    {
     "data": {
      "text/plain": [
       "18639"
      ]
     },
     "execution_count": 11,
     "metadata": {},
     "output_type": "execute_result"
    }
   ],
   "source": [
    "len(wb_df)"
   ]
  },
  {
   "cell_type": "code",
   "execution_count": 12,
   "id": "fluid-medium",
   "metadata": {},
   "outputs": [
    {
     "data": {
      "text/plain": [
       "14794"
      ]
     },
     "execution_count": 12,
     "metadata": {},
     "output_type": "execute_result"
    }
   ],
   "source": [
    "wb_df['donor_project_id'].nunique()"
   ]
  },
  {
   "cell_type": "code",
   "execution_count": null,
   "id": "extended-young",
   "metadata": {},
   "outputs": [],
   "source": [
    "wb_df[wb_df.donor_project_id.notna()][['aiddata_id', 'year', 'donor', 'recipient', 'donor_project_id']].head()"
   ]
  },
  {
   "cell_type": "code",
   "execution_count": null,
   "id": "expired-trouble",
   "metadata": {},
   "outputs": [],
   "source": [
    "wb_df[wb_df.donor_project_id == 'P074546']"
   ]
  },
  {
   "cell_type": "code",
   "execution_count": null,
   "id": "certain-insurance",
   "metadata": {},
   "outputs": [],
   "source": [
    "wb_df['start_dt'] = pd.to_datetime(wb_df.start_date, format='%d%b%Y', errors='coerce')\n",
    "# wb_df.iloc[wb_df[wb_df.start_date == '30/11/1981'].index].start_date = '30nov1981'\n",
    "# wb_df[wb_df.start_date == '30/11/1981']"
   ]
  },
  {
   "cell_type": "code",
   "execution_count": null,
   "id": "racial-complex",
   "metadata": {},
   "outputs": [],
   "source": [
    "wb_df[['start_date', 'start_dt']].head()"
   ]
  },
  {
   "cell_type": "code",
   "execution_count": null,
   "id": "forward-europe",
   "metadata": {},
   "outputs": [],
   "source": []
  }
 ],
 "metadata": {
  "kernelspec": {
   "display_name": "causal",
   "language": "python",
   "name": "causal"
  },
  "language_info": {
   "codemirror_mode": {
    "name": "ipython",
    "version": 3
   },
   "file_extension": ".py",
   "mimetype": "text/x-python",
   "name": "python",
   "nbconvert_exporter": "python",
   "pygments_lexer": "ipython3",
   "version": "3.8.8"
  }
 },
 "nbformat": 4,
 "nbformat_minor": 5
}
